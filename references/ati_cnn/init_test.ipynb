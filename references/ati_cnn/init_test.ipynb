{
 "cells": [
  {
   "cell_type": "code",
   "execution_count": 1,
   "metadata": {
    "ExecuteTime": {
     "end_time": "2020-04-23T14:35:16.155651Z",
     "start_time": "2020-04-23T14:35:16.126878Z"
    }
   },
   "outputs": [],
   "source": [
    "import sys\n",
    "sys.path.insert(0, \"/export/servers/wenhao/database_reader/\")\n",
    "\n",
    "%load_ext autoreload\n",
    "%autoreload 2"
   ]
  },
  {
   "cell_type": "code",
   "execution_count": 2,
   "metadata": {
    "ExecuteTime": {
     "end_time": "2020-04-23T14:35:20.282829Z",
     "start_time": "2020-04-23T14:35:16.419128Z"
    },
    "scrolled": false
   },
   "outputs": [
    {
     "name": "stderr",
     "output_type": "stream",
     "text": [
      "/usr/local/python-3.6.8/lib/python3.6/site-packages/tensorflow/python/framework/dtypes.py:526: FutureWarning: Passing (type, 1) or '1type' as a synonym of type is deprecated; in a future version of numpy, it will be understood as (type, (1,)) / '(1,)type'.\n",
      "  _np_qint8 = np.dtype([(\"qint8\", np.int8, 1)])\n",
      "/usr/local/python-3.6.8/lib/python3.6/site-packages/tensorflow/python/framework/dtypes.py:527: FutureWarning: Passing (type, 1) or '1type' as a synonym of type is deprecated; in a future version of numpy, it will be understood as (type, (1,)) / '(1,)type'.\n",
      "  _np_quint8 = np.dtype([(\"quint8\", np.uint8, 1)])\n",
      "/usr/local/python-3.6.8/lib/python3.6/site-packages/tensorflow/python/framework/dtypes.py:528: FutureWarning: Passing (type, 1) or '1type' as a synonym of type is deprecated; in a future version of numpy, it will be understood as (type, (1,)) / '(1,)type'.\n",
      "  _np_qint16 = np.dtype([(\"qint16\", np.int16, 1)])\n",
      "/usr/local/python-3.6.8/lib/python3.6/site-packages/tensorflow/python/framework/dtypes.py:529: FutureWarning: Passing (type, 1) or '1type' as a synonym of type is deprecated; in a future version of numpy, it will be understood as (type, (1,)) / '(1,)type'.\n",
      "  _np_quint16 = np.dtype([(\"quint16\", np.uint16, 1)])\n",
      "/usr/local/python-3.6.8/lib/python3.6/site-packages/tensorflow/python/framework/dtypes.py:530: FutureWarning: Passing (type, 1) or '1type' as a synonym of type is deprecated; in a future version of numpy, it will be understood as (type, (1,)) / '(1,)type'.\n",
      "  _np_qint32 = np.dtype([(\"qint32\", np.int32, 1)])\n",
      "/usr/local/python-3.6.8/lib/python3.6/site-packages/tensorflow/python/framework/dtypes.py:535: FutureWarning: Passing (type, 1) or '1type' as a synonym of type is deprecated; in a future version of numpy, it will be understood as (type, (1,)) / '(1,)type'.\n",
      "  np_resource = np.dtype([(\"resource\", np.ubyte, 1)])\n",
      "Using TensorFlow backend.\n"
     ]
    }
   ],
   "source": [
    "import database_reader as dr"
   ]
  },
  {
   "cell_type": "code",
   "execution_count": 3,
   "metadata": {
    "ExecuteTime": {
     "end_time": "2020-04-23T14:35:20.502918Z",
     "start_time": "2020-04-23T14:35:20.463111Z"
    }
   },
   "outputs": [],
   "source": [
    "import database_reader.utils as du"
   ]
  },
  {
   "cell_type": "code",
   "execution_count": 4,
   "metadata": {
    "ExecuteTime": {
     "end_time": "2020-04-23T14:35:20.718916Z",
     "start_time": "2020-04-23T14:35:20.678380Z"
    }
   },
   "outputs": [],
   "source": [
    "from database_reader import CPSC2018"
   ]
  },
  {
   "cell_type": "code",
   "execution_count": 5,
   "metadata": {
    "ExecuteTime": {
     "end_time": "2020-04-23T14:35:21.122247Z",
     "start_time": "2020-04-23T14:35:21.028237Z"
    }
   },
   "outputs": [],
   "source": [
    "hehe_cpsc = CPSC2018(db_path=\"/export/servers/data/CPSC2018/Training_WFDB/\", verbose=5)"
   ]
  },
  {
   "cell_type": "code",
   "execution_count": null,
   "metadata": {
    "ExecuteTime": {
     "end_time": "2020-04-22T05:58:25.553151Z",
     "start_time": "2020-04-22T05:58:25.459403Z"
    }
   },
   "outputs": [],
   "source": [
    "ro = 608"
   ]
  },
  {
   "cell_type": "code",
   "execution_count": null,
   "metadata": {
    "ExecuteTime": {
     "end_time": "2020-04-22T05:58:32.061123Z",
     "start_time": "2020-04-22T05:58:31.730501Z"
    }
   },
   "outputs": [],
   "source": [
    "hehe_cpsc.load_ann(ro)"
   ]
  },
  {
   "cell_type": "code",
   "execution_count": null,
   "metadata": {
    "ExecuteTime": {
     "end_time": "2020-04-22T05:55:03.185132Z",
     "start_time": "2020-04-22T05:55:03.104012Z"
    }
   },
   "outputs": [],
   "source": [
    "hehe_cpsc.load_data(ro)[:,0]"
   ]
  },
  {
   "cell_type": "code",
   "execution_count": null,
   "metadata": {
    "ExecuteTime": {
     "end_time": "2020-04-22T03:48:54.374043Z",
     "start_time": "2020-04-22T03:48:54.146339Z"
    }
   },
   "outputs": [],
   "source": [
    "hehe_cpsc.load_ann(1)['df_leads']['lead_name'].tolist()"
   ]
  },
  {
   "cell_type": "code",
   "execution_count": null,
   "metadata": {
    "ExecuteTime": {
     "end_time": "2020-04-22T04:07:33.676862Z",
     "start_time": "2020-04-22T03:53:39.480598Z"
    }
   },
   "outputs": [],
   "source": [
    "for ro in range(1, hehe_cpsc.nb_records+1):\n",
    "    try:\n",
    "        ll = hehe_cpsc.load_ann(ro)['df_leads']['lead_name'].tolist()\n",
    "        if ll != ['I', 'II', 'III', 'aVR', 'aVL', 'aVF', 'V1', 'V2', 'V3', 'V4', 'V5', 'V6']:\n",
    "            print(f\"第{ro}个record的导联顺序不一样\")\n",
    "    except Exception as e:\n",
    "        print(f\"第{ro}个record发生了如下错误\")\n",
    "        print(e)"
   ]
  },
  {
   "cell_type": "code",
   "execution_count": null,
   "metadata": {
    "ExecuteTime": {
     "end_time": "2020-04-22T06:15:30.231170Z",
     "start_time": "2020-04-22T06:01:35.140659Z"
    }
   },
   "outputs": [],
   "source": [
    "for ro in range(1, hehe_cpsc.nb_records+1):\n",
    "    try:\n",
    "        ll = hehe_cpsc.load_data(ro)[:,0]\n",
    "        fv = hehe_cpsc.load_ann(ro)['df_leads']['first_value'].values\n",
    "        if (ll!=fv).any():\n",
    "            print(f\"第{ro}个record的导联顺序不一样\")\n",
    "    except Exception as e:\n",
    "        print(f\"第{ro}个record发生了如下错误\")\n",
    "        print(e)"
   ]
  },
  {
   "cell_type": "code",
   "execution_count": null,
   "metadata": {
    "ExecuteTime": {
     "end_time": "2020-04-20T01:46:27.772229Z",
     "start_time": "2020-04-20T01:46:27.604617Z"
    }
   },
   "outputs": [],
   "source": [
    "hehe_cpsc.get_labels(ro)"
   ]
  },
  {
   "cell_type": "code",
   "execution_count": null,
   "metadata": {
    "ExecuteTime": {
     "end_time": "2020-04-20T01:46:28.078076Z",
     "start_time": "2020-04-20T01:46:27.910120Z"
    }
   },
   "outputs": [],
   "source": [
    "hehe_cpsc.get_diagnosis(ro)"
   ]
  },
  {
   "cell_type": "code",
   "execution_count": null,
   "metadata": {
    "ExecuteTime": {
     "end_time": "2020-04-20T01:46:37.415116Z",
     "start_time": "2020-04-20T01:46:37.301660Z"
    }
   },
   "outputs": [],
   "source": [
    "hehe_cpsc.load_data(ro).shape"
   ]
  },
  {
   "cell_type": "code",
   "execution_count": null,
   "metadata": {
    "ExecuteTime": {
     "end_time": "2020-04-20T01:50:04.979149Z",
     "start_time": "2020-04-20T01:49:47.851388Z"
    }
   },
   "outputs": [],
   "source": [
    "hehe_cpsc.plot(ro)"
   ]
  },
  {
   "cell_type": "code",
   "execution_count": null,
   "metadata": {},
   "outputs": [],
   "source": []
  },
  {
   "cell_type": "code",
   "execution_count": 15,
   "metadata": {
    "ExecuteTime": {
     "end_time": "2020-04-23T17:29:41.984984Z",
     "start_time": "2020-04-23T17:29:41.893092Z"
    }
   },
   "outputs": [
    {
     "data": {
      "text/plain": [
       "2"
      ]
     },
     "execution_count": 15,
     "metadata": {},
     "output_type": "execute_result"
    }
   ],
   "source": [
    "hehe_cpsc.load_data(1).shape[0]//3000"
   ]
  },
  {
   "cell_type": "code",
   "execution_count": 10,
   "metadata": {
    "ExecuteTime": {
     "end_time": "2020-04-23T17:21:15.824083Z",
     "start_time": "2020-04-23T17:21:15.733043Z"
    }
   },
   "outputs": [],
   "source": [
    "input_len = 6*hehe_cpsc.freq"
   ]
  },
  {
   "cell_type": "code",
   "execution_count": 12,
   "metadata": {
    "ExecuteTime": {
     "end_time": "2020-04-23T17:28:22.956018Z",
     "start_time": "2020-04-23T17:28:22.859940Z"
    }
   },
   "outputs": [],
   "source": [
    "x,y = [], []"
   ]
  },
  {
   "cell_type": "code",
   "execution_count": 16,
   "metadata": {
    "ExecuteTime": {
     "end_time": "2020-04-23T17:53:03.794174Z",
     "start_time": "2020-04-23T17:31:18.558548Z"
    }
   },
   "outputs": [],
   "source": [
    "for ro in range(1, hehe_cpsc.nb_records+1):\n",
    "    ecg = hehe_cpsc.load_data(ro)\n",
    "    ann = hehe_cpsc.get_labels(ro)\n",
    "    for i in range(ecg.shape[0]//input_len):\n",
    "        x.append(ecg[input_len*i:input_len*(i+1)])\n",
    "        y.append(ann)"
   ]
  },
  {
   "cell_type": "code",
   "execution_count": 25,
   "metadata": {
    "ExecuteTime": {
     "end_time": "2020-04-23T18:03:55.899869Z",
     "start_time": "2020-04-23T18:03:55.826275Z"
    }
   },
   "outputs": [
    {
     "data": {
      "text/plain": [
       "(3000, 12)"
      ]
     },
     "execution_count": 25,
     "metadata": {},
     "output_type": "execute_result"
    }
   ],
   "source": [
    "((x[0]-np.mean(x[0]))/np.std(x[0])).shape"
   ]
  },
  {
   "cell_type": "code",
   "execution_count": 26,
   "metadata": {
    "ExecuteTime": {
     "end_time": "2020-04-23T18:04:28.367112Z",
     "start_time": "2020-04-23T18:04:19.543488Z"
    }
   },
   "outputs": [],
   "source": [
    "new_x = [(item-np.mean(item))/np.std(item) for item in x]"
   ]
  },
  {
   "cell_type": "code",
   "execution_count": 27,
   "metadata": {
    "ExecuteTime": {
     "end_time": "2020-04-23T18:08:49.445856Z",
     "start_time": "2020-04-23T18:08:45.455525Z"
    }
   },
   "outputs": [],
   "source": [
    "new_x = np.array(new_x)"
   ]
  },
  {
   "cell_type": "code",
   "execution_count": 28,
   "metadata": {
    "ExecuteTime": {
     "end_time": "2020-04-23T18:09:12.148733Z",
     "start_time": "2020-04-23T18:09:12.100071Z"
    }
   },
   "outputs": [
    {
     "data": {
      "text/plain": [
       "(14579, 3000, 12)"
      ]
     },
     "execution_count": 28,
     "metadata": {},
     "output_type": "execute_result"
    }
   ],
   "source": [
    "new_x.shape"
   ]
  },
  {
   "cell_type": "code",
   "execution_count": 29,
   "metadata": {
    "ExecuteTime": {
     "end_time": "2020-04-23T18:09:35.188076Z",
     "start_time": "2020-04-23T18:09:35.139291Z"
    }
   },
   "outputs": [],
   "source": [
    "y = np.array(y)"
   ]
  },
  {
   "cell_type": "code",
   "execution_count": 32,
   "metadata": {
    "ExecuteTime": {
     "end_time": "2020-04-23T18:14:47.222054Z",
     "start_time": "2020-04-23T18:14:47.127527Z"
    }
   },
   "outputs": [],
   "source": [
    "np.save('./cpsc_y.npy', y)"
   ]
  },
  {
   "cell_type": "code",
   "execution_count": 33,
   "metadata": {
    "ExecuteTime": {
     "end_time": "2020-04-23T18:15:13.364644Z",
     "start_time": "2020-04-23T18:15:10.033774Z"
    }
   },
   "outputs": [],
   "source": [
    "np.save('./cpsc_x.npy', new_x)"
   ]
  },
  {
   "cell_type": "code",
   "execution_count": null,
   "metadata": {},
   "outputs": [],
   "source": []
  },
  {
   "cell_type": "code",
   "execution_count": null,
   "metadata": {},
   "outputs": [],
   "source": [
    "np.array([[1,1,10],[2,3,50]]) - np.array([])"
   ]
  },
  {
   "cell_type": "code",
   "execution_count": 45,
   "metadata": {
    "ExecuteTime": {
     "end_time": "2020-04-23T18:31:42.062074Z",
     "start_time": "2020-04-23T18:31:41.973668Z"
    }
   },
   "outputs": [
    {
     "data": {
      "text/plain": [
       "['N', 'AF', 'I-AVB', 'LBBB', 'RBBB', 'PAC', 'PVC', 'STD', 'STE']"
      ]
     },
     "execution_count": 45,
     "metadata": {},
     "output_type": "execute_result"
    }
   ],
   "source": [
    "hehe_cpsc.all_diagnosis"
   ]
  },
  {
   "cell_type": "code",
   "execution_count": 47,
   "metadata": {
    "ExecuteTime": {
     "end_time": "2020-04-23T18:36:46.995762Z",
     "start_time": "2020-04-23T18:36:46.943006Z"
    }
   },
   "outputs": [
    {
     "data": {
      "text/plain": [
       "array([[ 0.,  0.,  0., ...,  0.,  0.,  0.],\n",
       "       [ 0.,  0.,  0., ...,  0.,  0.,  0.],\n",
       "       [ 0.,  0.,  0., ...,  0.,  0.,  0.],\n",
       "       ..., \n",
       "       [ 0.,  0.,  0., ...,  0.,  0.,  0.],\n",
       "       [ 0.,  0.,  0., ...,  0.,  0.,  0.],\n",
       "       [ 0.,  0.,  0., ...,  0.,  0.,  0.]])"
      ]
     },
     "execution_count": 47,
     "metadata": {},
     "output_type": "execute_result"
    }
   ],
   "source": [
    "new_y = np.zeros((new_x.shape[0],9))\n",
    "new_y"
   ]
  },
  {
   "cell_type": "code",
   "execution_count": 48,
   "metadata": {
    "ExecuteTime": {
     "end_time": "2020-04-23T18:39:28.255520Z",
     "start_time": "2020-04-23T18:39:28.061930Z"
    }
   },
   "outputs": [],
   "source": [
    "for idx, item in enumerate(y):\n",
    "    indices = [hehe_cpsc.all_diagnosis.index(l) for l in item]\n",
    "    new_y[idx][indices] = 1"
   ]
  },
  {
   "cell_type": "code",
   "execution_count": 51,
   "metadata": {
    "ExecuteTime": {
     "end_time": "2020-04-23T18:40:35.736302Z",
     "start_time": "2020-04-23T18:40:35.632737Z"
    }
   },
   "outputs": [
    {
     "data": {
      "text/plain": [
       "(array([ 0.,  0.,  0.,  0.,  1.,  0.,  0.,  0.,  0.]),\n",
       " ['RBBB'],\n",
       " ['N', 'AF', 'I-AVB', 'LBBB', 'RBBB', 'PAC', 'PVC', 'STD', 'STE'])"
      ]
     },
     "execution_count": 51,
     "metadata": {},
     "output_type": "execute_result"
    }
   ],
   "source": [
    "new_y[0],y[0], hehe_cpsc.all_diagnosis"
   ]
  },
  {
   "cell_type": "code",
   "execution_count": null,
   "metadata": {},
   "outputs": [],
   "source": []
  },
  {
   "cell_type": "code",
   "execution_count": 34,
   "metadata": {
    "ExecuteTime": {
     "end_time": "2020-04-23T18:16:56.690349Z",
     "start_time": "2020-04-23T18:16:56.586217Z"
    }
   },
   "outputs": [],
   "source": [
    "train_x = new_x[:12000]\n",
    "test_x = new_x[12000:]"
   ]
  },
  {
   "cell_type": "code",
   "execution_count": 35,
   "metadata": {
    "ExecuteTime": {
     "end_time": "2020-04-23T18:17:19.827475Z",
     "start_time": "2020-04-23T18:17:19.777434Z"
    }
   },
   "outputs": [
    {
     "data": {
      "text/plain": [
       "(12000, 3000, 12)"
      ]
     },
     "execution_count": 35,
     "metadata": {},
     "output_type": "execute_result"
    }
   ],
   "source": [
    "train_x.shape"
   ]
  },
  {
   "cell_type": "code",
   "execution_count": 52,
   "metadata": {
    "ExecuteTime": {
     "end_time": "2020-04-23T18:41:12.491129Z",
     "start_time": "2020-04-23T18:41:12.403408Z"
    }
   },
   "outputs": [],
   "source": [
    "train_y = new_y[:12000]\n",
    "test_y = new_y[12000:]"
   ]
  },
  {
   "cell_type": "code",
   "execution_count": 53,
   "metadata": {
    "ExecuteTime": {
     "end_time": "2020-04-23T18:41:37.216668Z",
     "start_time": "2020-04-23T18:41:34.874515Z"
    }
   },
   "outputs": [],
   "source": [
    "from keras import layers\n",
    "from keras import Input\n",
    "from keras.models import Sequential, Model, load_model\n",
    "from keras.layers import (\n",
    "    LSTM, GRU,\n",
    "    TimeDistributed, Bidirectional,\n",
    "    ReLU, LeakyReLU,\n",
    "    BatchNormalization,\n",
    "    Dense, Dropout, Activation, Flatten, \n",
    "    Input, Reshape, GRU, CuDNNGRU,\n",
    "    Conv1D,\n",
    "    MaxPooling1D,\n",
    "    GlobalAveragePooling1D, AveragePooling1D,\n",
    "    concatenate,\n",
    ")\n",
    "from keras.initializers import he_normal, he_uniform, Orthogonal\n",
    "from keras.optimizers import Adam, SGD\n",
    "from keras.callbacks import ModelCheckpoint\n",
    "\n",
    "\n",
    "SEED = 42\n",
    "freq = 500\n",
    "cell_len_t = 6\n",
    "nb_classes = 9\n",
    "batch_size=128\n",
    "\n",
    "\n",
    "TI_CNN = Sequential(name='TI_CNN')\n",
    "\n",
    "TI_CNN.add(\n",
    "    Conv1D(\n",
    "        input_shape = (freq*cell_len_t, 12),\n",
    "        filters=64, kernel_size=3, strides=1, padding='same',\n",
    "        kernel_initializer=he_normal(SEED),\n",
    "        )\n",
    ")\n",
    "TI_CNN.add(\n",
    "    BatchNormalization()\n",
    ")\n",
    "TI_CNN.add(\n",
    "    ReLU()\n",
    ")\n",
    "TI_CNN.add(\n",
    "    Conv1D(\n",
    "        filters=64, kernel_size=3, strides=1, padding='same',\n",
    "        kernel_initializer=he_normal(SEED),\n",
    "        )\n",
    ")\n",
    "TI_CNN.add(\n",
    "    BatchNormalization()\n",
    ")\n",
    "TI_CNN.add(\n",
    "    ReLU()\n",
    ")\n",
    "TI_CNN.add(\n",
    "    MaxPooling1D(\n",
    "        pool_size=3, strides=3,\n",
    "    )\n",
    ")\n",
    "TI_CNN.add(\n",
    "    Conv1D(\n",
    "        filters=128, kernel_size=3, strides=1, padding='same',\n",
    "        kernel_initializer=he_normal(SEED),\n",
    "        )\n",
    ")\n",
    "TI_CNN.add(\n",
    "    BatchNormalization()\n",
    ")\n",
    "TI_CNN.add(\n",
    "    ReLU()\n",
    ")\n",
    "TI_CNN.add(\n",
    "    Conv1D(\n",
    "        filters=128, kernel_size=3, strides=1, padding='same',\n",
    "        kernel_initializer=he_normal(SEED),\n",
    "        )\n",
    ")\n",
    "TI_CNN.add(\n",
    "    BatchNormalization()\n",
    ")\n",
    "TI_CNN.add(\n",
    "    ReLU()\n",
    ")\n",
    "TI_CNN.add(\n",
    "    MaxPooling1D(\n",
    "        pool_size=3, strides=3,\n",
    "    )\n",
    ")\n",
    "TI_CNN.add(\n",
    "    Conv1D(\n",
    "        filters=256, kernel_size=3, strides=1, padding='same',\n",
    "        kernel_initializer=he_normal(SEED),\n",
    "        )\n",
    ")\n",
    "TI_CNN.add(\n",
    "    BatchNormalization()\n",
    ")\n",
    "TI_CNN.add(\n",
    "    ReLU()\n",
    ")\n",
    "TI_CNN.add(\n",
    "    Conv1D(\n",
    "        filters=256, kernel_size=3, strides=1, padding='same',\n",
    "        kernel_initializer=he_normal(SEED),\n",
    "        )\n",
    ")\n",
    "\n",
    "TI_CNN.add(\n",
    "    BatchNormalization()\n",
    ")\n",
    "TI_CNN.add(\n",
    "    ReLU()\n",
    ")\n",
    "TI_CNN.add(\n",
    "    Conv1D(\n",
    "        filters=256, kernel_size=3, strides=1, padding='same',\n",
    "        kernel_initializer=he_normal(SEED),\n",
    "        )\n",
    ")\n",
    "TI_CNN.add(\n",
    "    BatchNormalization()\n",
    ")\n",
    "TI_CNN.add(\n",
    "    ReLU()\n",
    ")\n",
    "TI_CNN.add(\n",
    "    MaxPooling1D(\n",
    "        pool_size=3, strides=3,\n",
    "    )\n",
    ")\n",
    "TI_CNN.add(\n",
    "    Conv1D(\n",
    "        filters=512, kernel_size=3, strides=1, padding='same',\n",
    "        kernel_initializer=he_normal(SEED),\n",
    "        )\n",
    ")\n",
    "TI_CNN.add(\n",
    "    BatchNormalization()\n",
    ")\n",
    "TI_CNN.add(\n",
    "    ReLU()\n",
    ")\n",
    "TI_CNN.add(\n",
    "    Conv1D(\n",
    "        filters=512, kernel_size=3, strides=1, padding='same',\n",
    "        kernel_initializer=he_normal(SEED),\n",
    "        )\n",
    ")\n",
    "\n",
    "TI_CNN.add(\n",
    "    BatchNormalization()\n",
    ")\n",
    "TI_CNN.add(\n",
    "    ReLU()\n",
    ")\n",
    "TI_CNN.add(\n",
    "    Conv1D(\n",
    "        filters=512, kernel_size=3, strides=1, padding='same',\n",
    "        kernel_initializer=he_normal(SEED),\n",
    "        )\n",
    ")\n",
    "TI_CNN.add(\n",
    "    BatchNormalization()\n",
    ")\n",
    "TI_CNN.add(\n",
    "    ReLU()\n",
    ")\n",
    "TI_CNN.add(\n",
    "    MaxPooling1D(\n",
    "        pool_size=3, strides=3,\n",
    "    )\n",
    ")\n",
    "TI_CNN.add(\n",
    "    Conv1D(\n",
    "        filters=512, kernel_size=3, strides=1, padding='same',\n",
    "        kernel_initializer=he_normal(SEED),\n",
    "        )\n",
    ")\n",
    "TI_CNN.add(\n",
    "    BatchNormalization()\n",
    ")\n",
    "TI_CNN.add(\n",
    "    ReLU()\n",
    ")\n",
    "TI_CNN.add(\n",
    "    Conv1D(\n",
    "        filters=512, kernel_size=3, strides=1, padding='same',\n",
    "        kernel_initializer=he_normal(SEED),\n",
    "        )\n",
    ")\n",
    "\n",
    "TI_CNN.add(\n",
    "    BatchNormalization()\n",
    ")\n",
    "TI_CNN.add(\n",
    "    ReLU()\n",
    ")\n",
    "TI_CNN.add(\n",
    "    Conv1D(\n",
    "        filters=512, kernel_size=3, strides=1, padding='same',\n",
    "        kernel_initializer=he_normal(SEED),\n",
    "        )\n",
    ")\n",
    "TI_CNN.add(\n",
    "    BatchNormalization()\n",
    ")\n",
    "TI_CNN.add(\n",
    "    ReLU()\n",
    ")\n",
    "TI_CNN.add(\n",
    "    MaxPooling1D(\n",
    "        pool_size=3, strides=3,\n",
    "    )\n",
    ")\n",
    "\n",
    "TI_CNN.add(\n",
    "    LSTM(\n",
    "        128, kernel_initializer=Orthogonal(seed=SEED),\n",
    "        return_sequences=True,\n",
    "    )\n",
    ")\n",
    "\n",
    "TI_CNN.add(\n",
    "    LSTM(\n",
    "        32, kernel_initializer=Orthogonal(seed=SEED),\n",
    "        return_sequences=True,\n",
    "    )\n",
    ")\n",
    "\n",
    "TI_CNN.add(\n",
    "    LSTM(\n",
    "        9, kernel_initializer=Orthogonal(seed=SEED),\n",
    "        return_sequences=False,\n",
    "    )\n",
    ")\n",
    "\n",
    "TI_CNN.add(\n",
    "    Dense(nb_classes,activation='sigmoid')\n",
    ")\n"
   ]
  },
  {
   "cell_type": "code",
   "execution_count": null,
   "metadata": {
    "ExecuteTime": {
     "start_time": "2020-04-23T18:41:18.555Z"
    },
    "scrolled": true
   },
   "outputs": [
    {
     "name": "stdout",
     "output_type": "stream",
     "text": [
      "Model: \"TI_CNN\"\n",
      "_________________________________________________________________\n",
      "Layer (type)                 Output Shape              Param #   \n",
      "=================================================================\n",
      "conv1d_27 (Conv1D)           (None, 3000, 64)          2368      \n",
      "_________________________________________________________________\n",
      "batch_normalization_27 (Batc (None, 3000, 64)          256       \n",
      "_________________________________________________________________\n",
      "re_lu_27 (ReLU)              (None, 3000, 64)          0         \n",
      "_________________________________________________________________\n",
      "conv1d_28 (Conv1D)           (None, 3000, 64)          12352     \n",
      "_________________________________________________________________\n",
      "batch_normalization_28 (Batc (None, 3000, 64)          256       \n",
      "_________________________________________________________________\n",
      "re_lu_28 (ReLU)              (None, 3000, 64)          0         \n",
      "_________________________________________________________________\n",
      "max_pooling1d_11 (MaxPooling (None, 1000, 64)          0         \n",
      "_________________________________________________________________\n",
      "conv1d_29 (Conv1D)           (None, 1000, 128)         24704     \n",
      "_________________________________________________________________\n",
      "batch_normalization_29 (Batc (None, 1000, 128)         512       \n",
      "_________________________________________________________________\n",
      "re_lu_29 (ReLU)              (None, 1000, 128)         0         \n",
      "_________________________________________________________________\n",
      "conv1d_30 (Conv1D)           (None, 1000, 128)         49280     \n",
      "_________________________________________________________________\n",
      "batch_normalization_30 (Batc (None, 1000, 128)         512       \n",
      "_________________________________________________________________\n",
      "re_lu_30 (ReLU)              (None, 1000, 128)         0         \n",
      "_________________________________________________________________\n",
      "max_pooling1d_12 (MaxPooling (None, 333, 128)          0         \n",
      "_________________________________________________________________\n",
      "conv1d_31 (Conv1D)           (None, 333, 256)          98560     \n",
      "_________________________________________________________________\n",
      "batch_normalization_31 (Batc (None, 333, 256)          1024      \n",
      "_________________________________________________________________\n",
      "re_lu_31 (ReLU)              (None, 333, 256)          0         \n",
      "_________________________________________________________________\n",
      "conv1d_32 (Conv1D)           (None, 333, 256)          196864    \n",
      "_________________________________________________________________\n",
      "batch_normalization_32 (Batc (None, 333, 256)          1024      \n",
      "_________________________________________________________________\n",
      "re_lu_32 (ReLU)              (None, 333, 256)          0         \n",
      "_________________________________________________________________\n",
      "conv1d_33 (Conv1D)           (None, 333, 256)          196864    \n",
      "_________________________________________________________________\n",
      "batch_normalization_33 (Batc (None, 333, 256)          1024      \n",
      "_________________________________________________________________\n",
      "re_lu_33 (ReLU)              (None, 333, 256)          0         \n",
      "_________________________________________________________________\n",
      "max_pooling1d_13 (MaxPooling (None, 111, 256)          0         \n",
      "_________________________________________________________________\n",
      "conv1d_34 (Conv1D)           (None, 111, 512)          393728    \n",
      "_________________________________________________________________\n",
      "batch_normalization_34 (Batc (None, 111, 512)          2048      \n",
      "_________________________________________________________________\n",
      "re_lu_34 (ReLU)              (None, 111, 512)          0         \n",
      "_________________________________________________________________\n",
      "conv1d_35 (Conv1D)           (None, 111, 512)          786944    \n",
      "_________________________________________________________________\n",
      "batch_normalization_35 (Batc (None, 111, 512)          2048      \n",
      "_________________________________________________________________\n",
      "re_lu_35 (ReLU)              (None, 111, 512)          0         \n",
      "_________________________________________________________________\n",
      "conv1d_36 (Conv1D)           (None, 111, 512)          786944    \n",
      "_________________________________________________________________\n",
      "batch_normalization_36 (Batc (None, 111, 512)          2048      \n",
      "_________________________________________________________________\n",
      "re_lu_36 (ReLU)              (None, 111, 512)          0         \n",
      "_________________________________________________________________\n",
      "max_pooling1d_14 (MaxPooling (None, 37, 512)           0         \n",
      "_________________________________________________________________\n",
      "conv1d_37 (Conv1D)           (None, 37, 512)           786944    \n",
      "_________________________________________________________________\n",
      "batch_normalization_37 (Batc (None, 37, 512)           2048      \n",
      "_________________________________________________________________\n",
      "re_lu_37 (ReLU)              (None, 37, 512)           0         \n",
      "_________________________________________________________________\n",
      "conv1d_38 (Conv1D)           (None, 37, 512)           786944    \n",
      "_________________________________________________________________\n",
      "batch_normalization_38 (Batc (None, 37, 512)           2048      \n",
      "_________________________________________________________________\n",
      "re_lu_38 (ReLU)              (None, 37, 512)           0         \n",
      "_________________________________________________________________\n",
      "conv1d_39 (Conv1D)           (None, 37, 512)           786944    \n",
      "_________________________________________________________________\n",
      "batch_normalization_39 (Batc (None, 37, 512)           2048      \n",
      "_________________________________________________________________\n",
      "re_lu_39 (ReLU)              (None, 37, 512)           0         \n",
      "_________________________________________________________________\n",
      "max_pooling1d_15 (MaxPooling (None, 12, 512)           0         \n",
      "_________________________________________________________________\n",
      "lstm_7 (LSTM)                (None, 12, 128)           328192    \n",
      "_________________________________________________________________\n",
      "lstm_8 (LSTM)                (None, 12, 32)            20608     \n",
      "_________________________________________________________________\n",
      "lstm_9 (LSTM)                (None, 9)                 1512      \n",
      "_________________________________________________________________\n",
      "dense_2 (Dense)              (None, 9)                 90        \n",
      "=================================================================\n",
      "Total params: 5,276,738\n",
      "Trainable params: 5,268,290\n",
      "Non-trainable params: 8,448\n",
      "_________________________________________________________________\n"
     ]
    }
   ],
   "source": [
    "TI_CNN.summary()"
   ]
  },
  {
   "cell_type": "code",
   "execution_count": null,
   "metadata": {
    "ExecuteTime": {
     "start_time": "2020-04-23T18:41:20.373Z"
    }
   },
   "outputs": [],
   "source": [
    "\n",
    "TI_CNN.compile(loss='binary_crossentropy', optimizer=Adam(0.0001))\n",
    "\n",
    "checkpointer = ModelCheckpoint(filepath='./ckpt/weights.hdf5', verbose=1, monitor='val_acc', save_best_only=True)\n"
   ]
  },
  {
   "cell_type": "code",
   "execution_count": null,
   "metadata": {
    "ExecuteTime": {
     "start_time": "2020-04-23T18:41:21.848Z"
    }
   },
   "outputs": [
    {
     "name": "stdout",
     "output_type": "stream",
     "text": [
      "WARNING:tensorflow:From /usr/local/python-3.6.8/lib/python3.6/site-packages/tensorflow/python/ops/math_ops.py:3066: to_int32 (from tensorflow.python.ops.math_ops) is deprecated and will be removed in a future version.\n",
      "Instructions for updating:\n",
      "Use tf.cast instead.\n",
      "Train on 12000 samples, validate on 2579 samples\n",
      "Epoch 1/200\n",
      "12000/12000 [==============================] - 310s 26ms/step - loss: 0.5346 - val_loss: 0.4976\n",
      "\n",
      "Epoch 00001: saving model to /tmp/weights.hdf5\n",
      "Epoch 2/200\n",
      "12000/12000 [==============================] - 205s 17ms/step - loss: 0.4627 - val_loss: 0.4511\n",
      "\n",
      "Epoch 00002: saving model to /tmp/weights.hdf5\n",
      "Epoch 3/200\n",
      "12000/12000 [==============================] - 203s 17ms/step - loss: 0.4287 - val_loss: 0.4281\n",
      "\n",
      "Epoch 00003: saving model to /tmp/weights.hdf5\n",
      "Epoch 4/200\n",
      "12000/12000 [==============================] - 206s 17ms/step - loss: 0.4039 - val_loss: 0.4149\n",
      "\n",
      "Epoch 00004: saving model to /tmp/weights.hdf5\n",
      "Epoch 5/200\n",
      "12000/12000 [==============================] - 208s 17ms/step - loss: 0.3851 - val_loss: 0.3939\n",
      "\n",
      "Epoch 00005: saving model to /tmp/weights.hdf5\n",
      "Epoch 6/200\n",
      "12000/12000 [==============================] - 205s 17ms/step - loss: 0.3688 - val_loss: 0.3813\n",
      "\n",
      "Epoch 00006: saving model to /tmp/weights.hdf5\n",
      "Epoch 7/200\n",
      "12000/12000 [==============================] - 212s 18ms/step - loss: 0.3553 - val_loss: 0.3766\n",
      "\n",
      "Epoch 00007: saving model to /tmp/weights.hdf5\n",
      "Epoch 8/200\n",
      "12000/12000 [==============================] - 209s 17ms/step - loss: 0.3440 - val_loss: 0.3696\n",
      "\n",
      "Epoch 00008: saving model to /tmp/weights.hdf5\n",
      "Epoch 9/200\n",
      "12000/12000 [==============================] - 217s 18ms/step - loss: 0.3346 - val_loss: 0.3558\n",
      "\n",
      "Epoch 00009: saving model to /tmp/weights.hdf5\n",
      "Epoch 10/200\n",
      "12000/12000 [==============================] - 214s 18ms/step - loss: 0.3248 - val_loss: 0.3503\n",
      "\n",
      "Epoch 00010: saving model to /tmp/weights.hdf5\n",
      "Epoch 11/200\n",
      "12000/12000 [==============================] - 212s 18ms/step - loss: 0.3167 - val_loss: 0.3409\n",
      "\n",
      "Epoch 00011: saving model to /tmp/weights.hdf5\n",
      "Epoch 12/200\n",
      "12000/12000 [==============================] - 215s 18ms/step - loss: 0.3089 - val_loss: 0.3431\n",
      "\n",
      "Epoch 00012: saving model to /tmp/weights.hdf5\n",
      "Epoch 13/200\n",
      "12000/12000 [==============================] - 218s 18ms/step - loss: 0.3017 - val_loss: 0.3460\n",
      "\n",
      "Epoch 00013: saving model to /tmp/weights.hdf5\n",
      "Epoch 14/200\n",
      "12000/12000 [==============================] - 213s 18ms/step - loss: 0.2960 - val_loss: 0.3265\n",
      "\n",
      "Epoch 00014: saving model to /tmp/weights.hdf5\n",
      "Epoch 15/200\n",
      "12000/12000 [==============================] - 216s 18ms/step - loss: 0.2905 - val_loss: 0.3275\n",
      "\n",
      "Epoch 00015: saving model to /tmp/weights.hdf5\n",
      "Epoch 16/200\n",
      "12000/12000 [==============================] - 224s 19ms/step - loss: 0.2837 - val_loss: 0.3185\n",
      "\n",
      "Epoch 00016: saving model to /tmp/weights.hdf5\n",
      "Epoch 17/200\n",
      "12000/12000 [==============================] - 217s 18ms/step - loss: 0.2768 - val_loss: 0.3115\n",
      "\n",
      "Epoch 00017: saving model to /tmp/weights.hdf5\n",
      "Epoch 18/200\n",
      "12000/12000 [==============================] - 229s 19ms/step - loss: 0.2713 - val_loss: 0.3127\n",
      "\n",
      "Epoch 00018: saving model to /tmp/weights.hdf5\n",
      "Epoch 19/200\n",
      "12000/12000 [==============================] - 254s 21ms/step - loss: 0.2668 - val_loss: 0.3100\n",
      "\n",
      "Epoch 00019: saving model to /tmp/weights.hdf5\n",
      "Epoch 20/200\n",
      "12000/12000 [==============================] - 246s 21ms/step - loss: 0.2633 - val_loss: 0.3039\n",
      "\n",
      "Epoch 00020: saving model to /tmp/weights.hdf5\n",
      "Epoch 21/200\n",
      "12000/12000 [==============================] - 246s 21ms/step - loss: 0.2575 - val_loss: 0.2950\n",
      "\n",
      "Epoch 00021: saving model to /tmp/weights.hdf5\n",
      "Epoch 22/200\n",
      "12000/12000 [==============================] - 247s 21ms/step - loss: 0.2513 - val_loss: 0.2901\n",
      "\n",
      "Epoch 00022: saving model to /tmp/weights.hdf5\n",
      "Epoch 23/200\n",
      "12000/12000 [==============================] - 259s 22ms/step - loss: 0.2463 - val_loss: 0.2896\n",
      "\n",
      "Epoch 00023: saving model to /tmp/weights.hdf5\n",
      "Epoch 24/200\n",
      "12000/12000 [==============================] - 267s 22ms/step - loss: 0.2428 - val_loss: 0.2868\n",
      "\n",
      "Epoch 00024: saving model to /tmp/weights.hdf5\n",
      "Epoch 25/200\n",
      "12000/12000 [==============================] - 253s 21ms/step - loss: 0.2386 - val_loss: 0.2815\n",
      "\n",
      "Epoch 00025: saving model to /tmp/weights.hdf5\n",
      "Epoch 26/200\n",
      "12000/12000 [==============================] - 249s 21ms/step - loss: 0.2345 - val_loss: 0.2860\n",
      "\n",
      "Epoch 00026: saving model to /tmp/weights.hdf5\n",
      "Epoch 27/200\n",
      "12000/12000 [==============================] - 273s 23ms/step - loss: 0.2312 - val_loss: 0.2790\n",
      "\n",
      "Epoch 00027: saving model to /tmp/weights.hdf5\n",
      "Epoch 28/200\n",
      "12000/12000 [==============================] - 283s 24ms/step - loss: 0.2269 - val_loss: 0.2825\n",
      "\n",
      "Epoch 00028: saving model to /tmp/weights.hdf5\n",
      "Epoch 29/200\n",
      "12000/12000 [==============================] - 279s 23ms/step - loss: 0.2235 - val_loss: 0.2756\n",
      "\n",
      "Epoch 00029: saving model to /tmp/weights.hdf5\n",
      "Epoch 30/200\n",
      "12000/12000 [==============================] - 261s 22ms/step - loss: 0.2202 - val_loss: 0.2785\n",
      "\n",
      "Epoch 00030: saving model to /tmp/weights.hdf5\n",
      "Epoch 31/200\n",
      "12000/12000 [==============================] - 254s 21ms/step - loss: 0.2197 - val_loss: 0.2737\n",
      "\n",
      "Epoch 00031: saving model to /tmp/weights.hdf5\n",
      "Epoch 32/200\n",
      "12000/12000 [==============================] - 250s 21ms/step - loss: 0.2157 - val_loss: 0.2723\n",
      "\n",
      "Epoch 00032: saving model to /tmp/weights.hdf5\n",
      "Epoch 33/200\n",
      "12000/12000 [==============================] - 252s 21ms/step - loss: 0.2129 - val_loss: 0.2733\n",
      "\n",
      "Epoch 00033: saving model to /tmp/weights.hdf5\n",
      "Epoch 34/200\n",
      "12000/12000 [==============================] - 248s 21ms/step - loss: 0.2088 - val_loss: 0.2735\n",
      "\n",
      "Epoch 00034: saving model to /tmp/weights.hdf5\n",
      "Epoch 35/200\n",
      "12000/12000 [==============================] - 251s 21ms/step - loss: 0.2061 - val_loss: 0.2680\n",
      "\n",
      "Epoch 00035: saving model to /tmp/weights.hdf5\n",
      "Epoch 36/200\n",
      "12000/12000 [==============================] - 251s 21ms/step - loss: 0.2020 - val_loss: 0.2588\n",
      "\n",
      "Epoch 00036: saving model to /tmp/weights.hdf5\n",
      "Epoch 37/200\n",
      "12000/12000 [==============================] - 252s 21ms/step - loss: 0.1982 - val_loss: 0.2553\n",
      "\n",
      "Epoch 00037: saving model to /tmp/weights.hdf5\n",
      "Epoch 38/200\n",
      "12000/12000 [==============================] - 248s 21ms/step - loss: 0.1953 - val_loss: 0.2563\n",
      "\n",
      "Epoch 00038: saving model to /tmp/weights.hdf5\n",
      "Epoch 39/200\n",
      "12000/12000 [==============================] - 249s 21ms/step - loss: 0.1956 - val_loss: 0.2609\n",
      "\n",
      "Epoch 00039: saving model to /tmp/weights.hdf5\n",
      "Epoch 40/200\n",
      "12000/12000 [==============================] - 248s 21ms/step - loss: 0.1955 - val_loss: 0.2626\n",
      "\n",
      "Epoch 00040: saving model to /tmp/weights.hdf5\n",
      "Epoch 41/200\n",
      "12000/12000 [==============================] - 244s 20ms/step - loss: 0.1927 - val_loss: 0.2701\n",
      "\n",
      "Epoch 00041: saving model to /tmp/weights.hdf5\n",
      "Epoch 42/200\n",
      "12000/12000 [==============================] - 246s 20ms/step - loss: 0.1897 - val_loss: 0.2625\n",
      "\n",
      "Epoch 00042: saving model to /tmp/weights.hdf5\n",
      "Epoch 43/200\n",
      "12000/12000 [==============================] - 248s 21ms/step - loss: 0.1874 - val_loss: 0.2559\n",
      "\n",
      "Epoch 00043: saving model to /tmp/weights.hdf5\n",
      "Epoch 44/200\n",
      "12000/12000 [==============================] - 252s 21ms/step - loss: 0.1835 - val_loss: 0.2559\n",
      "\n",
      "Epoch 00044: saving model to /tmp/weights.hdf5\n",
      "Epoch 45/200\n",
      "12000/12000 [==============================] - 252s 21ms/step - loss: 0.1813 - val_loss: 0.2590\n",
      "\n",
      "Epoch 00045: saving model to /tmp/weights.hdf5\n",
      "Epoch 46/200\n",
      "12000/12000 [==============================] - 251s 21ms/step - loss: 0.1778 - val_loss: 0.2469\n",
      "\n",
      "Epoch 00046: saving model to /tmp/weights.hdf5\n",
      "Epoch 47/200\n",
      "12000/12000 [==============================] - 252s 21ms/step - loss: 0.1758 - val_loss: 0.2571\n",
      "\n",
      "Epoch 00047: saving model to /tmp/weights.hdf5\n",
      "Epoch 48/200\n",
      "12000/12000 [==============================] - 249s 21ms/step - loss: 0.1746 - val_loss: 0.2509\n",
      "\n",
      "Epoch 00048: saving model to /tmp/weights.hdf5\n",
      "Epoch 49/200\n",
      "12000/12000 [==============================] - 252s 21ms/step - loss: 0.1718 - val_loss: 0.2479\n",
      "\n",
      "Epoch 00049: saving model to /tmp/weights.hdf5\n",
      "Epoch 50/200\n",
      "12000/12000 [==============================] - 254s 21ms/step - loss: 0.1697 - val_loss: 0.2583\n",
      "\n",
      "Epoch 00050: saving model to /tmp/weights.hdf5\n",
      "Epoch 51/200\n"
     ]
    },
    {
     "name": "stdout",
     "output_type": "stream",
     "text": [
      "12000/12000 [==============================] - 237s 20ms/step - loss: 0.1674 - val_loss: 0.2415\n",
      "\n",
      "Epoch 00051: saving model to /tmp/weights.hdf5\n",
      "Epoch 52/200\n",
      "12000/12000 [==============================] - 217s 18ms/step - loss: 0.1633 - val_loss: 0.2480\n",
      "\n",
      "Epoch 00052: saving model to /tmp/weights.hdf5\n",
      "Epoch 53/200\n",
      "12000/12000 [==============================] - 204s 17ms/step - loss: 0.1607 - val_loss: 0.2374\n",
      "\n",
      "Epoch 00053: saving model to /tmp/weights.hdf5\n",
      "Epoch 54/200\n",
      "12000/12000 [==============================] - 221s 18ms/step - loss: 0.1579 - val_loss: 0.2465\n",
      "\n",
      "Epoch 00054: saving model to /tmp/weights.hdf5\n",
      "Epoch 55/200\n",
      "12000/12000 [==============================] - 246s 20ms/step - loss: 0.1577 - val_loss: 0.2672\n",
      "\n",
      "Epoch 00055: saving model to /tmp/weights.hdf5\n",
      "Epoch 56/200\n",
      "12000/12000 [==============================] - 256s 21ms/step - loss: 0.1609 - val_loss: 0.2696\n",
      "\n",
      "Epoch 00056: saving model to /tmp/weights.hdf5\n",
      "Epoch 57/200\n",
      "12000/12000 [==============================] - 258s 21ms/step - loss: 0.1573 - val_loss: 0.2420\n",
      "\n",
      "Epoch 00057: saving model to /tmp/weights.hdf5\n",
      "Epoch 58/200\n",
      "12000/12000 [==============================] - 256s 21ms/step - loss: 0.1534 - val_loss: 0.2494\n",
      "\n",
      "Epoch 00058: saving model to /tmp/weights.hdf5\n",
      "Epoch 59/200\n",
      "12000/12000 [==============================] - 256s 21ms/step - loss: 0.1500 - val_loss: 0.2394\n",
      "\n",
      "Epoch 00059: saving model to /tmp/weights.hdf5\n",
      "Epoch 60/200\n",
      "12000/12000 [==============================] - 254s 21ms/step - loss: 0.1453 - val_loss: 0.2368\n",
      "\n",
      "Epoch 00060: saving model to /tmp/weights.hdf5\n",
      "Epoch 61/200\n",
      "12000/12000 [==============================] - 255s 21ms/step - loss: 0.1419 - val_loss: 0.2299\n",
      "\n",
      "Epoch 00061: saving model to /tmp/weights.hdf5\n",
      "Epoch 62/200\n",
      "12000/12000 [==============================] - 255s 21ms/step - loss: 0.1393 - val_loss: 0.2301\n",
      "\n",
      "Epoch 00062: saving model to /tmp/weights.hdf5\n",
      "Epoch 63/200\n",
      "12000/12000 [==============================] - 257s 21ms/step - loss: 0.1367 - val_loss: 0.2275\n",
      "\n",
      "Epoch 00063: saving model to /tmp/weights.hdf5\n",
      "Epoch 64/200\n",
      "12000/12000 [==============================] - 257s 21ms/step - loss: 0.1344 - val_loss: 0.2316\n",
      "\n",
      "Epoch 00064: saving model to /tmp/weights.hdf5\n",
      "Epoch 65/200\n",
      "12000/12000 [==============================] - 256s 21ms/step - loss: 0.1325 - val_loss: 0.2298\n",
      "\n",
      "Epoch 00065: saving model to /tmp/weights.hdf5\n",
      "Epoch 66/200\n",
      "12000/12000 [==============================] - 257s 21ms/step - loss: 0.1325 - val_loss: 0.2435\n",
      "\n",
      "Epoch 00066: saving model to /tmp/weights.hdf5\n",
      "Epoch 67/200\n",
      "12000/12000 [==============================] - 258s 21ms/step - loss: 0.1363 - val_loss: 0.2517\n",
      "\n",
      "Epoch 00067: saving model to /tmp/weights.hdf5\n",
      "Epoch 68/200\n",
      "12000/12000 [==============================] - 258s 21ms/step - loss: 0.1335 - val_loss: 0.2388\n",
      "\n",
      "Epoch 00068: saving model to /tmp/weights.hdf5\n",
      "Epoch 69/200\n",
      "12000/12000 [==============================] - 258s 21ms/step - loss: 0.1314 - val_loss: 0.2512\n",
      "\n",
      "Epoch 00069: saving model to /tmp/weights.hdf5\n",
      "Epoch 70/200\n",
      "12000/12000 [==============================] - 258s 21ms/step - loss: 0.1266 - val_loss: 0.2313\n",
      "\n",
      "Epoch 00070: saving model to /tmp/weights.hdf5\n",
      "Epoch 71/200\n",
      "12000/12000 [==============================] - 258s 21ms/step - loss: 0.1238 - val_loss: 0.2300\n",
      "\n",
      "Epoch 00071: saving model to /tmp/weights.hdf5\n",
      "Epoch 72/200\n",
      "12000/12000 [==============================] - 259s 22ms/step - loss: 0.1221 - val_loss: 0.2338\n",
      "\n",
      "Epoch 00072: saving model to /tmp/weights.hdf5\n",
      "Epoch 73/200\n",
      "12000/12000 [==============================] - 257s 21ms/step - loss: 0.1203 - val_loss: 0.2559\n",
      "\n",
      "Epoch 00073: saving model to /tmp/weights.hdf5\n",
      "Epoch 74/200\n",
      "12000/12000 [==============================] - 257s 21ms/step - loss: 0.1189 - val_loss: 0.2312\n",
      "\n",
      "Epoch 00074: saving model to /tmp/weights.hdf5\n",
      "Epoch 75/200\n",
      "12000/12000 [==============================] - 259s 22ms/step - loss: 0.1175 - val_loss: 0.2284\n",
      "\n",
      "Epoch 00075: saving model to /tmp/weights.hdf5\n",
      "Epoch 76/200\n",
      " 4224/12000 [=========>....................] - ETA: 2:38 - loss: 0.1167"
     ]
    }
   ],
   "source": [
    "\n",
    "\n",
    "TI_CNN.fit(train_x, train_y, batch_size=128, epochs=200, verbose=1, validation_data=(test_x, test_y), callbacks=[checkpointer])"
   ]
  },
  {
   "cell_type": "code",
   "execution_count": null,
   "metadata": {},
   "outputs": [],
   "source": []
  },
  {
   "cell_type": "code",
   "execution_count": null,
   "metadata": {},
   "outputs": [],
   "source": []
  },
  {
   "cell_type": "code",
   "execution_count": null,
   "metadata": {},
   "outputs": [],
   "source": []
  },
  {
   "cell_type": "code",
   "execution_count": null,
   "metadata": {},
   "outputs": [],
   "source": []
  },
  {
   "cell_type": "code",
   "execution_count": null,
   "metadata": {},
   "outputs": [],
   "source": []
  },
  {
   "cell_type": "code",
   "execution_count": null,
   "metadata": {},
   "outputs": [],
   "source": []
  },
  {
   "cell_type": "code",
   "execution_count": null,
   "metadata": {},
   "outputs": [],
   "source": []
  },
  {
   "cell_type": "code",
   "execution_count": null,
   "metadata": {},
   "outputs": [],
   "source": []
  },
  {
   "cell_type": "code",
   "execution_count": null,
   "metadata": {},
   "outputs": [],
   "source": []
  },
  {
   "cell_type": "code",
   "execution_count": null,
   "metadata": {},
   "outputs": [],
   "source": []
  },
  {
   "cell_type": "code",
   "execution_count": null,
   "metadata": {},
   "outputs": [],
   "source": []
  },
  {
   "cell_type": "code",
   "execution_count": null,
   "metadata": {},
   "outputs": [],
   "source": []
  },
  {
   "cell_type": "code",
   "execution_count": null,
   "metadata": {},
   "outputs": [],
   "source": []
  },
  {
   "cell_type": "code",
   "execution_count": null,
   "metadata": {},
   "outputs": [],
   "source": []
  },
  {
   "cell_type": "code",
   "execution_count": null,
   "metadata": {},
   "outputs": [],
   "source": []
  },
  {
   "cell_type": "code",
   "execution_count": null,
   "metadata": {},
   "outputs": [],
   "source": []
  },
  {
   "cell_type": "code",
   "execution_count": null,
   "metadata": {},
   "outputs": [],
   "source": []
  },
  {
   "cell_type": "code",
   "execution_count": null,
   "metadata": {},
   "outputs": [],
   "source": []
  },
  {
   "cell_type": "code",
   "execution_count": null,
   "metadata": {},
   "outputs": [],
   "source": []
  },
  {
   "cell_type": "code",
   "execution_count": null,
   "metadata": {},
   "outputs": [],
   "source": []
  },
  {
   "cell_type": "code",
   "execution_count": null,
   "metadata": {},
   "outputs": [],
   "source": []
  },
  {
   "cell_type": "code",
   "execution_count": null,
   "metadata": {},
   "outputs": [],
   "source": []
  },
  {
   "cell_type": "code",
   "execution_count": null,
   "metadata": {},
   "outputs": [],
   "source": []
  },
  {
   "cell_type": "code",
   "execution_count": null,
   "metadata": {},
   "outputs": [],
   "source": []
  },
  {
   "cell_type": "code",
   "execution_count": null,
   "metadata": {},
   "outputs": [],
   "source": []
  },
  {
   "cell_type": "code",
   "execution_count": null,
   "metadata": {},
   "outputs": [],
   "source": []
  },
  {
   "cell_type": "code",
   "execution_count": null,
   "metadata": {},
   "outputs": [],
   "source": []
  },
  {
   "cell_type": "code",
   "execution_count": null,
   "metadata": {},
   "outputs": [],
   "source": []
  },
  {
   "cell_type": "code",
   "execution_count": null,
   "metadata": {},
   "outputs": [],
   "source": []
  },
  {
   "cell_type": "code",
   "execution_count": null,
   "metadata": {},
   "outputs": [],
   "source": []
  },
  {
   "cell_type": "code",
   "execution_count": null,
   "metadata": {},
   "outputs": [],
   "source": []
  },
  {
   "cell_type": "code",
   "execution_count": null,
   "metadata": {},
   "outputs": [],
   "source": []
  },
  {
   "cell_type": "code",
   "execution_count": null,
   "metadata": {},
   "outputs": [],
   "source": []
  },
  {
   "cell_type": "code",
   "execution_count": null,
   "metadata": {},
   "outputs": [],
   "source": []
  },
  {
   "cell_type": "code",
   "execution_count": null,
   "metadata": {},
   "outputs": [],
   "source": []
  },
  {
   "cell_type": "code",
   "execution_count": null,
   "metadata": {},
   "outputs": [],
   "source": []
  },
  {
   "cell_type": "code",
   "execution_count": null,
   "metadata": {},
   "outputs": [],
   "source": []
  },
  {
   "cell_type": "code",
   "execution_count": null,
   "metadata": {},
   "outputs": [],
   "source": []
  },
  {
   "cell_type": "code",
   "execution_count": null,
   "metadata": {},
   "outputs": [],
   "source": []
  },
  {
   "cell_type": "code",
   "execution_count": null,
   "metadata": {},
   "outputs": [],
   "source": []
  },
  {
   "cell_type": "code",
   "execution_count": null,
   "metadata": {},
   "outputs": [],
   "source": []
  },
  {
   "cell_type": "code",
   "execution_count": null,
   "metadata": {},
   "outputs": [],
   "source": []
  },
  {
   "cell_type": "code",
   "execution_count": null,
   "metadata": {},
   "outputs": [],
   "source": []
  },
  {
   "cell_type": "code",
   "execution_count": null,
   "metadata": {},
   "outputs": [],
   "source": []
  },
  {
   "cell_type": "code",
   "execution_count": null,
   "metadata": {},
   "outputs": [],
   "source": []
  },
  {
   "cell_type": "code",
   "execution_count": null,
   "metadata": {},
   "outputs": [],
   "source": []
  },
  {
   "cell_type": "code",
   "execution_count": null,
   "metadata": {},
   "outputs": [],
   "source": []
  },
  {
   "cell_type": "code",
   "execution_count": null,
   "metadata": {},
   "outputs": [],
   "source": []
  },
  {
   "cell_type": "code",
   "execution_count": null,
   "metadata": {},
   "outputs": [],
   "source": []
  },
  {
   "cell_type": "code",
   "execution_count": null,
   "metadata": {},
   "outputs": [],
   "source": []
  },
  {
   "cell_type": "code",
   "execution_count": null,
   "metadata": {},
   "outputs": [],
   "source": []
  },
  {
   "cell_type": "code",
   "execution_count": null,
   "metadata": {},
   "outputs": [],
   "source": []
  },
  {
   "cell_type": "code",
   "execution_count": null,
   "metadata": {},
   "outputs": [],
   "source": []
  },
  {
   "cell_type": "code",
   "execution_count": null,
   "metadata": {},
   "outputs": [],
   "source": []
  },
  {
   "cell_type": "code",
   "execution_count": null,
   "metadata": {},
   "outputs": [],
   "source": []
  },
  {
   "cell_type": "code",
   "execution_count": null,
   "metadata": {},
   "outputs": [],
   "source": []
  },
  {
   "cell_type": "code",
   "execution_count": null,
   "metadata": {},
   "outputs": [],
   "source": []
  },
  {
   "cell_type": "code",
   "execution_count": null,
   "metadata": {},
   "outputs": [],
   "source": []
  },
  {
   "cell_type": "code",
   "execution_count": null,
   "metadata": {},
   "outputs": [],
   "source": []
  },
  {
   "cell_type": "code",
   "execution_count": null,
   "metadata": {},
   "outputs": [],
   "source": []
  },
  {
   "cell_type": "code",
   "execution_count": null,
   "metadata": {},
   "outputs": [],
   "source": []
  },
  {
   "cell_type": "code",
   "execution_count": null,
   "metadata": {},
   "outputs": [],
   "source": []
  },
  {
   "cell_type": "code",
   "execution_count": null,
   "metadata": {},
   "outputs": [],
   "source": []
  },
  {
   "cell_type": "code",
   "execution_count": null,
   "metadata": {},
   "outputs": [],
   "source": []
  },
  {
   "cell_type": "code",
   "execution_count": null,
   "metadata": {},
   "outputs": [],
   "source": []
  },
  {
   "cell_type": "code",
   "execution_count": null,
   "metadata": {},
   "outputs": [],
   "source": []
  },
  {
   "cell_type": "code",
   "execution_count": null,
   "metadata": {},
   "outputs": [],
   "source": []
  },
  {
   "cell_type": "code",
   "execution_count": null,
   "metadata": {},
   "outputs": [],
   "source": []
  },
  {
   "cell_type": "code",
   "execution_count": null,
   "metadata": {},
   "outputs": [],
   "source": []
  },
  {
   "cell_type": "code",
   "execution_count": null,
   "metadata": {},
   "outputs": [],
   "source": []
  },
  {
   "cell_type": "code",
   "execution_count": null,
   "metadata": {},
   "outputs": [],
   "source": []
  },
  {
   "cell_type": "code",
   "execution_count": null,
   "metadata": {},
   "outputs": [],
   "source": []
  },
  {
   "cell_type": "code",
   "execution_count": null,
   "metadata": {},
   "outputs": [],
   "source": []
  },
  {
   "cell_type": "code",
   "execution_count": null,
   "metadata": {},
   "outputs": [],
   "source": []
  },
  {
   "cell_type": "code",
   "execution_count": null,
   "metadata": {},
   "outputs": [],
   "source": []
  },
  {
   "cell_type": "code",
   "execution_count": null,
   "metadata": {},
   "outputs": [],
   "source": []
  },
  {
   "cell_type": "code",
   "execution_count": null,
   "metadata": {},
   "outputs": [],
   "source": []
  },
  {
   "cell_type": "code",
   "execution_count": null,
   "metadata": {},
   "outputs": [],
   "source": []
  },
  {
   "cell_type": "code",
   "execution_count": null,
   "metadata": {},
   "outputs": [],
   "source": []
  },
  {
   "cell_type": "code",
   "execution_count": null,
   "metadata": {},
   "outputs": [],
   "source": []
  },
  {
   "cell_type": "code",
   "execution_count": null,
   "metadata": {},
   "outputs": [],
   "source": []
  },
  {
   "cell_type": "code",
   "execution_count": null,
   "metadata": {},
   "outputs": [],
   "source": []
  },
  {
   "cell_type": "code",
   "execution_count": null,
   "metadata": {},
   "outputs": [],
   "source": []
  },
  {
   "cell_type": "code",
   "execution_count": null,
   "metadata": {},
   "outputs": [],
   "source": []
  },
  {
   "cell_type": "code",
   "execution_count": null,
   "metadata": {},
   "outputs": [],
   "source": []
  },
  {
   "cell_type": "code",
   "execution_count": null,
   "metadata": {},
   "outputs": [],
   "source": []
  },
  {
   "cell_type": "code",
   "execution_count": null,
   "metadata": {},
   "outputs": [],
   "source": []
  },
  {
   "cell_type": "markdown",
   "metadata": {},
   "source": [
    "# 测试ATI-CNN"
   ]
  },
  {
   "cell_type": "code",
   "execution_count": null,
   "metadata": {
    "ExecuteTime": {
     "end_time": "2020-04-23T03:32:34.590788Z",
     "start_time": "2020-04-23T03:32:34.573217Z"
    }
   },
   "outputs": [],
   "source": [
    "from keras import layers\n",
    "from keras import Input\n",
    "from keras.models import Sequential, Model\n",
    "from keras.models import Sequential, load_model\n",
    "from keras.layers import (\n",
    "    LSTM, GRU,\n",
    "    TimeDistributed, Bidirectional,\n",
    "    ReLU, LeakyReLU,\n",
    "    BatchNormalization,\n",
    "    Dense, Dropout, Activation, Flatten, \n",
    "    Input, Reshape, GRU, CuDNNGRU,\n",
    "    Conv1D,\n",
    "    MaxPooling1D,\n",
    "    GlobalAveragePooling1D, AveragePooling1D,\n",
    "    concatenate,\n",
    ")\n",
    "from keras.initializers import he_normal, he_uniform, Orthogonal"
   ]
  },
  {
   "cell_type": "code",
   "execution_count": null,
   "metadata": {
    "ExecuteTime": {
     "end_time": "2020-04-23T03:42:24.992904Z",
     "start_time": "2020-04-23T03:42:22.447368Z"
    }
   },
   "outputs": [],
   "source": [
    "SEED = 42\n",
    "freq = 500\n",
    "cell_len_t = 6\n",
    "\n",
    "TI_CNN = Sequential(name='TI_CNN')\n",
    "\n",
    "TI_CNN.add(\n",
    "    Conv1D(\n",
    "        input_shape = (freq*cell_len_t, 12),\n",
    "        filters=64, kernel_size=3, strides=1, padding='same',\n",
    "        kernel_initializer=he_normal(SEED),\n",
    "        )\n",
    ")\n",
    "TI_CNN.add(\n",
    "    BatchNormalization()\n",
    ")\n",
    "TI_CNN.add(\n",
    "    ReLU()\n",
    ")\n",
    "TI_CNN.add(\n",
    "    Conv1D(\n",
    "        filters=64, kernel_size=3, strides=1, padding='same',\n",
    "        kernel_initializer=he_normal(SEED),\n",
    "        )\n",
    ")\n",
    "TI_CNN.add(\n",
    "    BatchNormalization()\n",
    ")\n",
    "TI_CNN.add(\n",
    "    ReLU()\n",
    ")\n",
    "TI_CNN.add(\n",
    "    MaxPooling1D(\n",
    "        pool_size=3, strides=3,\n",
    "    )\n",
    ")\n",
    "TI_CNN.add(\n",
    "    Conv1D(\n",
    "        filters=128, kernel_size=3, strides=1, padding='same',\n",
    "        kernel_initializer=he_normal(SEED),\n",
    "        )\n",
    ")\n",
    "TI_CNN.add(\n",
    "    BatchNormalization()\n",
    ")\n",
    "TI_CNN.add(\n",
    "    ReLU()\n",
    ")\n",
    "TI_CNN.add(\n",
    "    Conv1D(\n",
    "        filters=128, kernel_size=3, strides=1, padding='same',\n",
    "        kernel_initializer=he_normal(SEED),\n",
    "        )\n",
    ")\n",
    "TI_CNN.add(\n",
    "    BatchNormalization()\n",
    ")\n",
    "TI_CNN.add(\n",
    "    ReLU()\n",
    ")\n",
    "TI_CNN.add(\n",
    "    MaxPooling1D(\n",
    "        pool_size=3, strides=3,\n",
    "    )\n",
    ")\n",
    "TI_CNN.add(\n",
    "    Conv1D(\n",
    "        filters=256, kernel_size=3, strides=1, padding='same',\n",
    "        kernel_initializer=he_normal(SEED),\n",
    "        )\n",
    ")\n",
    "TI_CNN.add(\n",
    "    BatchNormalization()\n",
    ")\n",
    "TI_CNN.add(\n",
    "    ReLU()\n",
    ")\n",
    "TI_CNN.add(\n",
    "    Conv1D(\n",
    "        filters=256, kernel_size=3, strides=1, padding='same',\n",
    "        kernel_initializer=he_normal(SEED),\n",
    "        )\n",
    ")\n",
    "\n",
    "TI_CNN.add(\n",
    "    BatchNormalization()\n",
    ")\n",
    "TI_CNN.add(\n",
    "    ReLU()\n",
    ")\n",
    "TI_CNN.add(\n",
    "    Conv1D(\n",
    "        filters=256, kernel_size=3, strides=1, padding='same',\n",
    "        kernel_initializer=he_normal(SEED),\n",
    "        )\n",
    ")\n",
    "TI_CNN.add(\n",
    "    BatchNormalization()\n",
    ")\n",
    "TI_CNN.add(\n",
    "    ReLU()\n",
    ")\n",
    "TI_CNN.add(\n",
    "    MaxPooling1D(\n",
    "        pool_size=3, strides=3,\n",
    "    )\n",
    ")\n",
    "TI_CNN.add(\n",
    "    Conv1D(\n",
    "        filters=512, kernel_size=3, strides=1, padding='same',\n",
    "        kernel_initializer=he_normal(SEED),\n",
    "        )\n",
    ")\n",
    "TI_CNN.add(\n",
    "    BatchNormalization()\n",
    ")\n",
    "TI_CNN.add(\n",
    "    ReLU()\n",
    ")\n",
    "TI_CNN.add(\n",
    "    Conv1D(\n",
    "        filters=512, kernel_size=3, strides=1, padding='same',\n",
    "        kernel_initializer=he_normal(SEED),\n",
    "        )\n",
    ")\n",
    "\n",
    "TI_CNN.add(\n",
    "    BatchNormalization()\n",
    ")\n",
    "TI_CNN.add(\n",
    "    ReLU()\n",
    ")\n",
    "TI_CNN.add(\n",
    "    Conv1D(\n",
    "        filters=512, kernel_size=3, strides=1, padding='same',\n",
    "        kernel_initializer=he_normal(SEED),\n",
    "        )\n",
    ")\n",
    "TI_CNN.add(\n",
    "    BatchNormalization()\n",
    ")\n",
    "TI_CNN.add(\n",
    "    ReLU()\n",
    ")\n",
    "TI_CNN.add(\n",
    "    MaxPooling1D(\n",
    "        pool_size=3, strides=3,\n",
    "    )\n",
    ")\n",
    "TI_CNN.add(\n",
    "    Conv1D(\n",
    "        filters=512, kernel_size=3, strides=1, padding='same',\n",
    "        kernel_initializer=he_normal(SEED),\n",
    "        )\n",
    ")\n",
    "TI_CNN.add(\n",
    "    BatchNormalization()\n",
    ")\n",
    "TI_CNN.add(\n",
    "    ReLU()\n",
    ")\n",
    "TI_CNN.add(\n",
    "    Conv1D(\n",
    "        filters=512, kernel_size=3, strides=1, padding='same',\n",
    "        kernel_initializer=he_normal(SEED),\n",
    "        )\n",
    ")\n",
    "\n",
    "TI_CNN.add(\n",
    "    BatchNormalization()\n",
    ")\n",
    "TI_CNN.add(\n",
    "    ReLU()\n",
    ")\n",
    "TI_CNN.add(\n",
    "    Conv1D(\n",
    "        filters=512, kernel_size=3, strides=1, padding='same',\n",
    "        kernel_initializer=he_normal(SEED),\n",
    "        )\n",
    ")\n",
    "TI_CNN.add(\n",
    "    BatchNormalization()\n",
    ")\n",
    "TI_CNN.add(\n",
    "    ReLU()\n",
    ")\n",
    "TI_CNN.add(\n",
    "    MaxPooling1D(\n",
    "        pool_size=3, strides=3,\n",
    "    )\n",
    ")\n",
    "\n",
    "TI_CNN.add(\n",
    "    LSTM(\n",
    "        128, kernel_initializer=Orthogonal(seed=SEED),\n",
    "        return_sequences=True,\n",
    "    )\n",
    ")\n",
    "\n",
    "TI_CNN.add(\n",
    "    LSTM(\n",
    "        32, kernel_initializer=Orthogonal(seed=SEED),\n",
    "        return_sequences=True,\n",
    "    )\n",
    ")\n",
    "\n",
    "TI_CNN.add(\n",
    "    LSTM(\n",
    "        9, kernel_initializer=Orthogonal(seed=SEED),\n",
    "        return_sequences=False,\n",
    "    )\n",
    ")\n"
   ]
  },
  {
   "cell_type": "code",
   "execution_count": null,
   "metadata": {
    "ExecuteTime": {
     "end_time": "2020-04-23T03:42:45.156742Z",
     "start_time": "2020-04-23T03:42:45.095979Z"
    }
   },
   "outputs": [],
   "source": [
    "TI_CNN.summary()"
   ]
  },
  {
   "cell_type": "code",
   "execution_count": null,
   "metadata": {},
   "outputs": [],
   "source": []
  },
  {
   "cell_type": "code",
   "execution_count": null,
   "metadata": {},
   "outputs": [],
   "source": []
  },
  {
   "cell_type": "code",
   "execution_count": null,
   "metadata": {},
   "outputs": [],
   "source": []
  },
  {
   "cell_type": "code",
   "execution_count": null,
   "metadata": {},
   "outputs": [],
   "source": []
  },
  {
   "cell_type": "markdown",
   "metadata": {},
   "source": [
    "# 测试0236号算法"
   ]
  },
  {
   "cell_type": "code",
   "execution_count": null,
   "metadata": {
    "ExecuteTime": {
     "end_time": "2020-04-23T02:26:58.070367Z",
     "start_time": "2020-04-23T02:26:57.970106Z"
    }
   },
   "outputs": [],
   "source": [
    "import glob\n",
    "import random\n",
    "import os\n",
    "import argparse\n",
    "import scipy.io as sio\n",
    "from keras import backend as K\n",
    "from sklearn.model_selection import train_test_split\n",
    "import csv\n",
    "import numpy\n",
    "import numpy as np\n",
    "\n",
    "import pandas as pd\n",
    "import tensorflow as tf\n",
    "import scipy\n",
    "from tensorflow.python.client import device_lib\n",
    "import keras\n",
    "from keras.models import Sequential, load_model\n",
    "from keras.layers import LSTM, GRU, TimeDistributed, Bidirectional, LeakyReLU\n",
    "from keras.layers import Dense, Dropout, Activation, Flatten,  Input, Reshape, GRU, CuDNNGRU\n",
    "from keras.layers import Convolution1D, MaxPool1D, GlobalAveragePooling1D,concatenate,AveragePooling1D\n",
    "from keras.utils import multi_gpu_model\n",
    "from keras.callbacks import ModelCheckpoint, LearningRateScheduler, EarlyStopping\n",
    "from keras.models import Model\n",
    "from keras.utils import multi_gpu_model\n",
    "from keras import initializers, regularizers, constraints\n",
    "from keras.layers import Layer\n",
    "import numpy as np\n",
    "from keras.layers.normalization import BatchNormalization\n",
    "from keras import regularizers\n",
    "import scipy.io as sio\n",
    "from os import listdir"
   ]
  },
  {
   "cell_type": "code",
   "execution_count": null,
   "metadata": {
    "ExecuteTime": {
     "end_time": "2020-04-22T06:18:15.982515Z",
     "start_time": "2020-04-22T06:18:15.885677Z"
    }
   },
   "outputs": [],
   "source": [
    "np.load(\"./magicVector_test_val_strategy.npy\")"
   ]
  },
  {
   "cell_type": "code",
   "execution_count": null,
   "metadata": {
    "ExecuteTime": {
     "end_time": "2020-04-23T02:31:41.601879Z",
     "start_time": "2020-04-23T02:31:41.471358Z"
    }
   },
   "outputs": [],
   "source": [
    "class AttentionWithContext(Layer):\n",
    "    def __init__(self,\n",
    "                 W_regularizer=None, u_regularizer=None, b_regularizer=None,\n",
    "                 W_constraint=None, u_constraint=None, b_constraint=None,\n",
    "                 bias=True, **kwargs):\n",
    "        self.supports_masking = True\n",
    "        self.init = initializers.get('glorot_uniform')\n",
    "        self.W_regularizer = regularizers.get(W_regularizer)\n",
    "        self.u_regularizer = regularizers.get(u_regularizer)\n",
    "        self.b_regularizer = regularizers.get(b_regularizer)\n",
    "        self.W_constraint = constraints.get(W_constraint)\n",
    "        self.u_constraint = constraints.get(u_constraint)\n",
    "        self.b_constraint = constraints.get(b_constraint)\n",
    "        self.bias = bias\n",
    "        super(AttentionWithContext, self).__init__(**kwargs)\n",
    "\n",
    "    def build(self, input_shape):\n",
    "        assert len(input_shape) == 3\n",
    "        self.W = self.add_weight(shape=(input_shape[-1], input_shape[-1],),\n",
    "                                 initializer=self.init,\n",
    "                                 name='{}_W'.format(self.name),\n",
    "                                 regularizer=self.W_regularizer,\n",
    "                                 constraint=self.W_constraint)\n",
    "        if self.bias:\n",
    "            self.b = self.add_weight(shape=(input_shape[-1],),\n",
    "                                     initializer='zero',\n",
    "                                     name='{}_b'.format(self.name),\n",
    "                                     regularizer=self.b_regularizer,\n",
    "                                     constraint=self.b_constraint)\n",
    "            self.u = self.add_weight(shape=(input_shape[-1],),\n",
    "                                 initializer=self.init,\n",
    "                                 name='{}_u'.format(self.name),\n",
    "                                 regularizer=self.u_regularizer,\n",
    "                                 constraint=self.u_constraint)\n",
    "        super(AttentionWithContext, self).build(input_shape)\n",
    "\n",
    "    def compute_mask(self, input, input_mask=None):\n",
    "        return None\n",
    "\n",
    "    def call(self, x, mask=None):\n",
    "        uit = dot_product(x, self.W)\n",
    "        if self.bias:\n",
    "            uit += self.b\n",
    "        uit = K.tanh(uit)\n",
    "        ait = dot_product(uit, self.u)\n",
    "        a = K.exp(ait)\n",
    "        if mask is not None:\n",
    "            a *= K.cast(mask, K.floatx())\n",
    "        a /= K.cast(K.sum(a, axis=1, keepdims=True) + K.epsilon(), K.floatx())\n",
    "        a = K.expand_dims(a)\n",
    "        weighted_input = x * a\n",
    "        return K.sum(weighted_input, axis=1)\n",
    "\n",
    "    def compute_output_shape(self, input_shape):\n",
    "        return input_shape[0], input_shape[-1]"
   ]
  },
  {
   "cell_type": "code",
   "execution_count": null,
   "metadata": {
    "ExecuteTime": {
     "end_time": "2020-04-23T02:32:18.200160Z",
     "start_time": "2020-04-23T02:32:18.093252Z"
    }
   },
   "outputs": [],
   "source": [
    "batch_size = 64\n",
    "num_classes = 9\n",
    "epochs = 1000000000000000000000000000000000\n",
    "magicVector = np.load('magicVector_test_val_strategy.npy')\n",
    "leadsLabel = np.asarray(['I','II','III','aVR','aVL','aVF','V1','V2','V3','V4','V5','V6'])"
   ]
  },
  {
   "cell_type": "code",
   "execution_count": null,
   "metadata": {
    "ExecuteTime": {
     "end_time": "2020-04-23T02:32:21.351604Z",
     "start_time": "2020-04-23T02:32:20.416545Z"
    }
   },
   "outputs": [],
   "source": [
    "main_input = Input(shape=(72000,12), dtype='float32', name='main_input')\n",
    "x = Convolution1D(12, 3, padding='same')(main_input)\n",
    "x = LeakyReLU(alpha=0.3)(x)\n",
    "x = Convolution1D(12, 3, padding='same')(x)\n",
    "x = LeakyReLU(alpha=0.3)(x)\n",
    "x = Convolution1D(12, 24, strides = 2, padding='same')(x)\n",
    "x = LeakyReLU(alpha=0.3)(x)\n",
    "x = Dropout(0.2)(x)\n",
    "x = Convolution1D(12, 3, padding='same')(x)\n",
    "x = LeakyReLU(alpha=0.3)(x)\n",
    "x = Convolution1D(12, 3, padding='same')(x)\n",
    "x = LeakyReLU(alpha=0.3)(x)\n",
    "x = Convolution1D(12, 24, strides = 2, padding='same')(x)\n",
    "x = LeakyReLU(alpha=0.3)(x)\n",
    "x = Dropout(0.2)(x)\n",
    "x = Convolution1D(12, 3, padding='same')(x)\n",
    "x = LeakyReLU(alpha=0.3)(x)\n",
    "x = Convolution1D(12, 3, padding='same')(x)\n",
    "x = LeakyReLU(alpha=0.3)(x)\n",
    "x = Convolution1D(12, 24, strides = 2, padding='same')(x)\n",
    "x = LeakyReLU(alpha=0.3)(x)\n",
    "x = Dropout(0.2)(x)\n",
    "x = Convolution1D(12, 3, padding='same')(x)\n",
    "x = LeakyReLU(alpha=0.3)(x)\n",
    "x = Convolution1D(12, 3, padding='same')(x)\n",
    "x = LeakyReLU(alpha=0.3)(x)\n",
    "x = Convolution1D(12, 24, strides = 2, padding='same')(x)\n",
    "x = LeakyReLU(alpha=0.3)(x)\n",
    "x = Dropout(0.2)(x)\n",
    "x = Convolution1D(12, 3, padding='same')(x)\n",
    "x = LeakyReLU(alpha=0.3)(x)\n",
    "x = Convolution1D(12, 3, padding='same')(x)\n",
    "x = LeakyReLU(alpha=0.3)(x)\n",
    "x = Convolution1D(12, 48, strides = 2, padding='same')(x)\n",
    "x = LeakyReLU(alpha=0.3)(x)\n",
    "cnnout = Dropout(0.2)(x)\n",
    "x = Bidirectional(CuDNNGRU(12, input_shape=(2250,12),return_sequences=True,return_state=False))(cnnout)\n",
    "x = LeakyReLU(alpha=0.3)(x)\n",
    "x = Dropout(0.2)(x)\n",
    "x = AttentionWithContext()(x)\n",
    "x = BatchNormalization()(x)\n",
    "x = LeakyReLU(alpha=0.3)(x)\n",
    "x = Dropout(0.2)(x)\n",
    "main_output = Dense(num_classes,activation='sigmoid')(x)"
   ]
  },
  {
   "cell_type": "code",
   "execution_count": null,
   "metadata": {
    "ExecuteTime": {
     "end_time": "2020-04-23T02:28:49.258305Z",
     "start_time": "2020-04-23T02:28:49.153319Z"
    }
   },
   "outputs": [],
   "source": [
    "keras.__version__"
   ]
  },
  {
   "cell_type": "code",
   "execution_count": null,
   "metadata": {
    "ExecuteTime": {
     "end_time": "2020-04-23T02:33:08.798464Z",
     "start_time": "2020-04-23T02:33:08.704504Z"
    }
   },
   "outputs": [],
   "source": [
    "m = Model(inputs=main_input, outputs=main_output)"
   ]
  },
  {
   "cell_type": "code",
   "execution_count": null,
   "metadata": {
    "ExecuteTime": {
     "end_time": "2020-04-23T02:33:18.622426Z",
     "start_time": "2020-04-23T02:33:18.505444Z"
    }
   },
   "outputs": [],
   "source": [
    "m.summary()"
   ]
  },
  {
   "cell_type": "code",
   "execution_count": null,
   "metadata": {},
   "outputs": [],
   "source": []
  }
 ],
 "metadata": {
  "kernelspec": {
   "display_name": "Python 3",
   "language": "python",
   "name": "python3"
  },
  "language_info": {
   "codemirror_mode": {
    "name": "ipython",
    "version": 3
   },
   "file_extension": ".py",
   "mimetype": "text/x-python",
   "name": "python",
   "nbconvert_exporter": "python",
   "pygments_lexer": "ipython3",
   "version": "3.6.8"
  },
  "toc": {
   "base_numbering": 1,
   "nav_menu": {},
   "number_sections": true,
   "sideBar": true,
   "skip_h1_title": false,
   "title_cell": "Table of Contents",
   "title_sidebar": "Contents",
   "toc_cell": false,
   "toc_position": {},
   "toc_section_display": true,
   "toc_window_display": false
  },
  "varInspector": {
   "cols": {
    "lenName": 16,
    "lenType": 16,
    "lenVar": 40
   },
   "kernels_config": {
    "python": {
     "delete_cmd_postfix": "",
     "delete_cmd_prefix": "del ",
     "library": "var_list.py",
     "varRefreshCmd": "print(var_dic_list())"
    },
    "r": {
     "delete_cmd_postfix": ") ",
     "delete_cmd_prefix": "rm(",
     "library": "var_list.r",
     "varRefreshCmd": "cat(var_dic_list()) "
    }
   },
   "types_to_exclude": [
    "module",
    "function",
    "builtin_function_or_method",
    "instance",
    "_Feature"
   ],
   "window_display": false
  }
 },
 "nbformat": 4,
 "nbformat_minor": 2
}