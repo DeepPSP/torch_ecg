{
 "cells": [
  {
   "cell_type": "code",
   "execution_count": 1,
   "id": "cad317cb",
   "metadata": {},
   "outputs": [
    {
     "data": {
      "application/javascript": [
       "\n",
       "        if (window._pyforest_update_imports_cell) { window._pyforest_update_imports_cell('import sys'); }\n",
       "    "
      ],
      "text/plain": [
       "<IPython.core.display.Javascript object>"
      ]
     },
     "metadata": {},
     "output_type": "display_data"
    }
   ],
   "source": [
    "sys.path.insert(0, \"/home/wenh06/Jupyter/wenhao/workspace/torch_ecg/\")\n",
    "%load_ext autoreload\n",
    "%autoreload 2"
   ]
  },
  {
   "cell_type": "code",
   "execution_count": 2,
   "id": "b31e9fa7",
   "metadata": {},
   "outputs": [],
   "source": [
    "from copy import deepcopy"
   ]
  },
  {
   "cell_type": "code",
   "execution_count": 3,
   "id": "d5812284",
   "metadata": {},
   "outputs": [],
   "source": [
    "import numpy as np\n",
    "np.set_printoptions(precision=5, suppress=True)\n",
    "# try:\n",
    "#     from tqdm.auto import tqdm\n",
    "# except ModuleNotFoundError:\n",
    "#     from tqdm import tqdm\n",
    "from tqdm import tqdm\n",
    "import torch\n",
    "from torch import nn\n",
    "from torch import optim\n",
    "from torch import Tensor\n",
    "from torch.utils.data import DataLoader\n",
    "import torch.nn.functional as F\n",
    "from torch.nn.parallel import DistributedDataParallel as DDP, DataParallel as DP\n",
    "from tensorboardX import SummaryWriter\n",
    "from easydict import EasyDict as ED\n",
    "import biosppy.signals.ecg as BSE"
   ]
  },
  {
   "cell_type": "code",
   "execution_count": 4,
   "id": "3c6db8c7",
   "metadata": {},
   "outputs": [],
   "source": [
    "from train.train_unet_cpsc2019.train import train"
   ]
  },
  {
   "cell_type": "code",
   "execution_count": 5,
   "id": "8deab184",
   "metadata": {},
   "outputs": [],
   "source": [
    "from train.train_unet_cpsc2019.utils import (\n",
    "    init_logger, get_date_str, dict_to_str, str2bool,\n",
    "    mask_to_intervals,\n",
    ")\n",
    "from train.train_unet_cpsc2019.model import ECG_SUBTRACT_UNET_CPSC2019, ECG_UNET_CPSC2019"
   ]
  },
  {
   "cell_type": "code",
   "execution_count": 6,
   "id": "5104d5ed",
   "metadata": {},
   "outputs": [],
   "source": [
    "from cfg import ModelCfg, TrainCfg"
   ]
  },
  {
   "cell_type": "code",
   "execution_count": 7,
   "id": "5792375b",
   "metadata": {
    "scrolled": true
   },
   "outputs": [
    {
     "data": {
      "text/plain": [
       "{'skip_dist': 250,\n",
       " 'torch_dtype': 'float',\n",
       " 'fs': 500,\n",
       " 'spacing': 2.0,\n",
       " 'classes': ['N'],\n",
       " 'n_leads': 1,\n",
       " 'model_name': 'subtract_unet',\n",
       " 'subtract_unet': {'fs': 500,\n",
       "  'classes': ['N'],\n",
       "  'n_leads': 1,\n",
       "  'skip_dist': 250,\n",
       "  'torch_dtype': 'float',\n",
       "  'groups': 1,\n",
       "  'init_batch_norm': False,\n",
       "  'init_num_filters': 16,\n",
       "  'init_filter_length': 21,\n",
       "  'init_dropouts': [0.0, 0.15, 0.0],\n",
       "  'batch_norm': True,\n",
       "  'kernel_initializer': 'he_normal',\n",
       "  'kw_initializer': {},\n",
       "  'activation': 'relu',\n",
       "  'kw_activation': {'inplace': True},\n",
       "  'down_up_block_num': 3,\n",
       "  'down_mode': 'max',\n",
       "  'down_scales': [10, 5, 2],\n",
       "  'down_num_filters': [[24, 24, 24], [48, 48, 48]],\n",
       "  'down_filter_lengths': [11, 5],\n",
       "  'down_dropouts': [[0.0, 0.15, 0.0], [0.0, 0.15, 0.0]],\n",
       "  'bottom_num_filters': [[96, 96], [96, 96]],\n",
       "  'bottom_filter_lengths': [[5, 5], [5, 5]],\n",
       "  'bottom_dilations': [[1, 1], [10, 10]],\n",
       "  'bottom_dropouts': [[0.15, 0.0], [0.15, 0.0]],\n",
       "  'up_mode': 'nearest',\n",
       "  'up_scales': [2, 5, 10],\n",
       "  'up_num_filters': [[48, 48, 48], [24, 24, 24], [16, 16, 16]],\n",
       "  'up_deconv_filter_lengths': [9, 9, 9],\n",
       "  'up_conv_filter_lengths': [5, 11, 21],\n",
       "  'up_dropouts': [[0.15, 0.15, 0.0], [0.15, 0.15, 0.0], [0.15, 0.15, 0.0]],\n",
       "  'down_block': {'batch_norm': True,\n",
       "   'kernel_initializer': 'he_normal',\n",
       "   'kw_initializer': {},\n",
       "   'activation': 'relu',\n",
       "   'kw_activation': {'inplace': True}},\n",
       "  'up_block': {'batch_norm': True,\n",
       "   'kernel_initializer': 'he_normal',\n",
       "   'kw_initializer': {},\n",
       "   'activation': 'relu',\n",
       "   'kw_activation': {'inplace': True}},\n",
       "  'out_filter_length': 1,\n",
       "  'out_batch_norm': True},\n",
       " 'unet': {'fs': 500,\n",
       "  'classes': ['N'],\n",
       "  'n_leads': 1,\n",
       "  'skip_dist': 250,\n",
       "  'torch_dtype': 'float',\n",
       "  'groups': 1,\n",
       "  'init_num_filters': 16,\n",
       "  'init_filter_length': 9,\n",
       "  'batch_norm': True,\n",
       "  'kernel_initializer': 'he_normal',\n",
       "  'kw_initializer': {},\n",
       "  'activation': 'relu',\n",
       "  'kw_activation': {'inplace': True},\n",
       "  'down_up_block_num': 4,\n",
       "  'down_mode': 'max',\n",
       "  'down_scales': [2, 2, 2, 2],\n",
       "  'down_num_filters': [32, 64, 128, 256],\n",
       "  'down_filter_lengths': [9, 9, 9, 9],\n",
       "  'up_mode': 'nearest',\n",
       "  'up_scales': [2, 2, 2, 2],\n",
       "  'up_num_filters': [128, 64, 32, 16],\n",
       "  'up_deconv_filter_lengths': [9, 9, 9, 9],\n",
       "  'up_conv_filter_lengths': [9, 9, 9, 9],\n",
       "  'down_block': {'batch_norm': True,\n",
       "   'kernel_initializer': 'he_normal',\n",
       "   'kw_initializer': {},\n",
       "   'activation': 'relu',\n",
       "   'kw_activation': {'inplace': True}},\n",
       "  'up_block': {'batch_norm': True,\n",
       "   'kernel_initializer': 'he_normal',\n",
       "   'kw_initializer': {},\n",
       "   'activation': 'relu',\n",
       "   'kw_activation': {'inplace': True}},\n",
       "  'out_filter_length': 9,\n",
       "  'out_batch_norm': True}}"
      ]
     },
     "execution_count": 7,
     "metadata": {},
     "output_type": "execute_result"
    }
   ],
   "source": [
    "ModelCfg"
   ]
  },
  {
   "cell_type": "code",
   "execution_count": 8,
   "id": "cb46d82a",
   "metadata": {},
   "outputs": [
    {
     "data": {
      "text/plain": [
       "{'fs': 500,\n",
       " 'db_dir': '/home/wenh06/Jupyter/data/CPSC2019/',\n",
       " 'log_dir': '/home/wenh06/Jupyter/wenhao/workspace/torch_ecg/train/train_unet_cpsc2019/log',\n",
       " 'checkpoints': '/home/wenh06/Jupyter/wenhao/workspace/torch_ecg/train/train_unet_cpsc2019/checkpoints',\n",
       " 'model_dir': '/home/wenh06/Jupyter/wenhao/workspace/torch_ecg/train/train_unet_cpsc2019/saved_models',\n",
       " 'final_model_name': None,\n",
       " 'keep_checkpoint_max': 20,\n",
       " 'train_ratio': 0.8,\n",
       " 'input_len': 5000,\n",
       " 'classes': ['N'],\n",
       " 'n_leads': 1,\n",
       " 'bias_thr': 37,\n",
       " 'skip_dist': 250,\n",
       " 'label_smoothing': 0.0,\n",
       " 'random_normalize': True,\n",
       " 'random_normalize_mean': [-0.05, 0.1],\n",
       " 'random_normalize_std': [0.08, 0.32],\n",
       " 'baseline_wander': True,\n",
       " 'bw': True,\n",
       " 'bw_fs': array([0.33, 0.1 , 0.05, 0.01]),\n",
       " 'bw_ampl_ratio': array([[0.01, 0.01, 0.02, 0.03],\n",
       "        [0.01, 0.02, 0.04, 0.05],\n",
       "        [0.1 , 0.06, 0.04, 0.02],\n",
       "        [0.02, 0.04, 0.07, 0.1 ],\n",
       "        [0.05, 0.1 , 0.16, 0.25],\n",
       "        [0.1 , 0.15, 0.25, 0.3 ],\n",
       "        [0.25, 0.25, 0.3 , 0.35]]),\n",
       " 'bw_gaussian': array([[0.   , 0.   ],\n",
       "        [0.   , 0.   ],\n",
       "        [0.   , 0.   ],\n",
       "        [0.   , 0.003],\n",
       "        [0.   , 0.01 ]]),\n",
       " 'flip': [-1, 1, 1, 1, 1],\n",
       " 'n_epochs': 300,\n",
       " 'batch_size': 256,\n",
       " 'train_optimizer': 'adamw_amsgrad',\n",
       " 'momentum': 0.949,\n",
       " 'betas': [0.9, 0.999],\n",
       " 'decay': 0.01,\n",
       " 'learning_rate': 0.001,\n",
       " 'lr': 0.001,\n",
       " 'lr_scheduler': None,\n",
       " 'lr_step_size': 50,\n",
       " 'lr_gamma': 0.1,\n",
       " 'max_lr': 0.01,\n",
       " 'burn_in': 400,\n",
       " 'steps': [5000, 10000],\n",
       " 'early_stopping': {'min_delta': 0.001, 'patience': 15},\n",
       " 'loss': 'BCEWithLogitsLoss',\n",
       " 'flooding_level': 0.0,\n",
       " 'log_step': 20,\n",
       " 'eval_every': 20}"
      ]
     },
     "execution_count": 8,
     "metadata": {},
     "output_type": "execute_result"
    }
   ],
   "source": [
    "TrainCfg.db_dir = \"/home/wenh06/Jupyter/data/CPSC2019/\"\n",
    "TrainCfg"
   ]
  },
  {
   "cell_type": "code",
   "execution_count": null,
   "id": "f75f1da5",
   "metadata": {},
   "outputs": [],
   "source": []
  },
  {
   "cell_type": "markdown",
   "id": "3127c1de",
   "metadata": {},
   "source": [
    "# vanilla unet"
   ]
  },
  {
   "cell_type": "code",
   "execution_count": 9,
   "id": "cb937bf2",
   "metadata": {},
   "outputs": [],
   "source": [
    "model_cfg = deepcopy(ModelCfg)\n",
    "model_cfg.model_name = \"unet\""
   ]
  },
  {
   "cell_type": "code",
   "execution_count": 10,
   "id": "f39a9ac1",
   "metadata": {},
   "outputs": [],
   "source": [
    "config = deepcopy(TrainCfg)\n",
    "config.model_name = model_cfg.model_name"
   ]
  },
  {
   "cell_type": "code",
   "execution_count": null,
   "id": "9a00f1f3",
   "metadata": {},
   "outputs": [],
   "source": []
  },
  {
   "cell_type": "code",
   "execution_count": 11,
   "id": "d7b8ed34",
   "metadata": {},
   "outputs": [
    {
     "name": "stdout",
     "output_type": "stream",
     "text": [
      "log file path: /home/wenh06/Jupyter/wenhao/workspace/torch_ecg/train/train_unet_cpsc2019/log/log_2021-06-22-13-53-00.txt\n",
      "levels of c_handler and f_handler are set DEBUG\n",
      "ECG-UNET - INFO - \n",
      "********************   Start Training   ********************\n",
      "\n",
      "ECG-UNET - INFO - Using device cuda\n",
      "ECG-UNET - INFO - Using torch of version 1.8.1+cu111\n",
      "ECG-UNET - INFO - with configuration\n",
      "{\n",
      "    \"fs\": 500\n",
      "    \"db_dir\": \"/home/wenh06/Jupyter/data/CPSC2019/\"\n",
      "    \"log_dir\": \"/home/wenh06/Jupyter/wenhao/workspace/torch_ecg/train/train_unet_cpsc2019/log\"\n",
      "    \"checkpoints\": \"/home/wenh06/Jupyter/wenhao/workspace/torch_ecg/train/train_unet_cpsc2019/checkpoints\"\n",
      "    \"model_dir\": \"/home/wenh06/Jupyter/wenhao/workspace/torch_ecg/train/train_unet_cpsc2019/saved_models\"\n",
      "    \"final_model_name\": None\n",
      "    \"keep_checkpoint_max\": 20\n",
      "    \"train_ratio\": 0.8\n",
      "    \"input_len\": 5000\n",
      "    \"classes\": [\n",
      "        \"N\"\n",
      "    ]\n",
      "    \"n_leads\": 1\n",
      "    \"bias_thr\": 37\n",
      "    \"skip_dist\": 250\n",
      "    \"label_smoothing\": 0.0\n",
      "    \"random_normalize\": True\n",
      "    \"random_normalize_mean\": [\n",
      "        -0.05, 0.1\n",
      "    ]\n",
      "    \"random_normalize_std\": [\n",
      "        0.08, 0.32\n",
      "    ]\n",
      "    \"baseline_wander\": True\n",
      "    \"bw\": True\n",
      "    \"bw_fs\": [0.33 0.1  0.05 0.01]\n",
      "    \"bw_ampl_ratio\": [[0.01 0.01 0.02 0.03]\n",
      " [0.01 0.02 0.04 0.05]\n",
      " [0.1  0.06 0.04 0.02]\n",
      " [0.02 0.04 0.07 0.1 ]\n",
      " [0.05 0.1  0.16 0.25]\n",
      " [0.1  0.15 0.25 0.3 ]\n",
      " [0.25 0.25 0.3  0.35]]\n",
      "    \"bw_gaussian\": [[0.    0.   ]\n",
      " [0.    0.   ]\n",
      " [0.    0.   ]\n",
      " [0.    0.003]\n",
      " [0.    0.01 ]]\n",
      "    \"flip\": [\n",
      "        -1, 1, 1, 1, 1\n",
      "    ]\n",
      "    \"n_epochs\": 300\n",
      "    \"batch_size\": 256\n",
      "    \"train_optimizer\": \"adamw_amsgrad\"\n",
      "    \"momentum\": 0.949\n",
      "    \"betas\": [\n",
      "        0.9, 0.999\n",
      "    ]\n",
      "    \"decay\": 0.01\n",
      "    \"learning_rate\": 0.001\n",
      "    \"lr\": 0.001\n",
      "    \"lr_scheduler\": None\n",
      "    \"lr_step_size\": 50\n",
      "    \"lr_gamma\": 0.1\n",
      "    \"max_lr\": 0.01\n",
      "    \"burn_in\": 400\n",
      "    \"steps\": [\n",
      "        5000, 10000\n",
      "    ]\n",
      "    \"early_stopping\": {\n",
      "        \"min_delta\": 0.001\n",
      "        \"patience\": 15\n",
      "    }\n",
      "    \"loss\": \"BCEWithLogitsLoss\"\n",
      "    \"flooding_level\": 0.0\n",
      "    \"log_step\": 20\n",
      "    \"eval_every\": 20\n",
      "    \"model_name\": \"unet\"\n",
      "}\n",
      "configuration of ECG_UNET_CPSC2019 is as follows\n",
      "{\n",
      "    \"fs\": 500,\n",
      "    \"classes\": [\n",
      "        \"N\"\n",
      "    ],\n",
      "    \"n_leads\": 1,\n",
      "    \"skip_dist\": 250,\n",
      "    \"torch_dtype\": \"float\",\n",
      "    \"groups\": 1,\n",
      "    \"init_num_filters\": 16,\n",
      "    \"init_filter_length\": 9,\n",
      "    \"batch_norm\": True,\n",
      "    \"kernel_initializer\": \"he_normal\",\n",
      "    \"kw_initializer\": {},\n",
      "    \"activation\": \"relu\",\n",
      "    \"kw_activation\": {\n",
      "        \"inplace\": True\n",
      "    },\n",
      "    \"down_up_block_num\": 4,\n",
      "    \"down_mode\": \"max\",\n",
      "    \"down_scales\": [\n",
      "        2, 2, 2, 2\n",
      "    ],\n",
      "    \"down_num_filters\": [\n",
      "        32, 64, 128, 256\n",
      "    ],\n",
      "    \"down_filter_lengths\": [\n",
      "        9, 9, 9, 9\n",
      "    ],\n",
      "    \"up_mode\": \"nearest\",\n",
      "    \"up_scales\": [\n",
      "        2, 2, 2, 2\n",
      "    ],\n",
      "    \"up_num_filters\": [\n",
      "        128, 64, 32, 16\n",
      "    ],\n",
      "    \"up_deconv_filter_lengths\": [\n",
      "        9, 9, 9, 9\n",
      "    ],\n",
      "    \"up_conv_filter_lengths\": [\n",
      "        9, 9, 9, 9\n",
      "    ],\n",
      "    \"down_block\": {\n",
      "        \"batch_norm\": True,\n",
      "        \"kernel_initializer\": \"he_normal\",\n",
      "        \"kw_initializer\": {},\n",
      "        \"activation\": \"relu\",\n",
      "        \"kw_activation\": {\n",
      "            \"inplace\": True\n",
      "        }\n",
      "    },\n",
      "    \"up_block\": {\n",
      "        \"batch_norm\": True,\n",
      "        \"kernel_initializer\": \"he_normal\",\n",
      "        \"kw_initializer\": {},\n",
      "        \"activation\": \"relu\",\n",
      "        \"kw_activation\": {\n",
      "            \"inplace\": True\n",
      "        }\n",
      "    },\n",
      "    \"out_filter_length\": 9,\n",
      "    \"out_batch_norm\": True\n",
      "}\n",
      "given seq_len = 4000, init_conv output shape = (None, 16, 4000)\n",
      "given seq_len = 4000, down_0 output shape = (None, 32, 2000)\n",
      "given seq_len = 2000, down_1 output shape = (None, 64, 1000)\n",
      "given seq_len = 1000, down_2 output shape = (None, 128, 500)\n",
      "given seq_len = 500, down_3 output shape = (None, 256, 250)\n",
      "given seq_len = 250, up_0 output shape = (None, 128, 500)\n",
      "given seq_len = 500, up_1 output shape = (None, 64, 1000)\n",
      "given seq_len = 1000, up_2 output shape = (None, 32, 2000)\n",
      "given seq_len = 2000, up_3 output shape = (None, 16, 4000)\n",
      "given seq_len = 4000, out_conv output shape = (None, 1, 4000)\n"
     ]
    }
   ],
   "source": [
    "device = torch.device(\"cuda\" if torch.cuda.is_available() else \"cpu\")\n",
    "logger = init_logger(log_dir=config.log_dir, verbose=2)\n",
    "logger.info(f\"\\n{'*'*20}   Start Training   {'*'*20}\\n\")\n",
    "logger.info(f\"Using device {device}\")\n",
    "logger.info(f\"Using torch of version {torch.__version__}\")\n",
    "logger.info(f\"with configuration\\n{dict_to_str(config)}\")\n",
    "# print(f\"\\n{'*'*20}   Start Training   {'*'*20}\\n\")\n",
    "# print(f\"Using device {device}\")\n",
    "# print(f\"Using torch of version {torch.__version__}\")\n",
    "# print(f\"with configuration\\n{dict_to_str(config)}\")\n",
    "\n",
    "model_name = config.model_name.lower()\n",
    "model_config = deepcopy(ModelCfg[model_name])\n",
    "\n",
    "if model_name == \"subtract_unet\":\n",
    "    model = ECG_SUBTRACT_UNET_CPSC2019(\n",
    "        n_leads=config.n_leads,\n",
    "        config=model_config,\n",
    "    )\n",
    "elif model_name == \"unet\":\n",
    "    model = ECG_UNET_CPSC2019(\n",
    "        n_leads=config.n_leads,\n",
    "        config=model_config,\n",
    "    )\n",
    "\n",
    "if torch.cuda.device_count() > 1:\n",
    "    model = DP(model)\n",
    "#     model = DDP(model)\n",
    "\n",
    "model.to(device=device)\n",
    "model.__DEBUG__ = False"
   ]
  },
  {
   "cell_type": "code",
   "execution_count": 12,
   "id": "c8b8e944",
   "metadata": {},
   "outputs": [
    {
     "data": {
      "text/plain": [
       "[0, 1]"
      ]
     },
     "execution_count": 12,
     "metadata": {},
     "output_type": "execute_result"
    }
   ],
   "source": [
    "model.device_ids"
   ]
  },
  {
   "cell_type": "code",
   "execution_count": null,
   "id": "8ab62615",
   "metadata": {},
   "outputs": [],
   "source": []
  },
  {
   "cell_type": "code",
   "execution_count": 13,
   "id": "04b79250",
   "metadata": {
    "scrolled": true
   },
   "outputs": [
    {
     "name": "stdout",
     "output_type": "stream",
     "text": [
      "ECG-UNET - INFO - training configurations are as follows:\n",
      "{\n",
      "    \"fs\": 500\n",
      "    \"db_dir\": \"/home/wenh06/Jupyter/data/CPSC2019/\"\n",
      "    \"log_dir\": \"/home/wenh06/Jupyter/wenhao/workspace/torch_ecg/train/train_unet_cpsc2019/log\"\n",
      "    \"checkpoints\": \"/home/wenh06/Jupyter/wenhao/workspace/torch_ecg/train/train_unet_cpsc2019/checkpoints\"\n",
      "    \"model_dir\": \"/home/wenh06/Jupyter/wenhao/workspace/torch_ecg/train/train_unet_cpsc2019/saved_models\"\n",
      "    \"final_model_name\": None\n",
      "    \"keep_checkpoint_max\": 20\n",
      "    \"train_ratio\": 0.8\n",
      "    \"input_len\": 5000\n",
      "    \"classes\": [\n",
      "        \"N\"\n",
      "    ]\n",
      "    \"n_leads\": 1\n",
      "    \"bias_thr\": 37\n",
      "    \"skip_dist\": 250\n",
      "    \"label_smoothing\": 0.0\n",
      "    \"random_normalize\": True\n",
      "    \"random_normalize_mean\": [\n",
      "        -0.05, 0.1\n",
      "    ]\n",
      "    \"random_normalize_std\": [\n",
      "        0.08, 0.32\n",
      "    ]\n",
      "    \"baseline_wander\": True\n",
      "    \"bw\": True\n",
      "    \"bw_fs\": [0.33 0.1  0.05 0.01]\n",
      "    \"bw_ampl_ratio\": [[0.01 0.01 0.02 0.03]\n",
      " [0.01 0.02 0.04 0.05]\n",
      " [0.1  0.06 0.04 0.02]\n",
      " [0.02 0.04 0.07 0.1 ]\n",
      " [0.05 0.1  0.16 0.25]\n",
      " [0.1  0.15 0.25 0.3 ]\n",
      " [0.25 0.25 0.3  0.35]]\n",
      "    \"bw_gaussian\": [[0.    0.   ]\n",
      " [0.    0.   ]\n",
      " [0.    0.   ]\n",
      " [0.    0.003]\n",
      " [0.    0.01 ]]\n",
      "    \"flip\": [\n",
      "        -1, 1, 1, 1, 1\n",
      "    ]\n",
      "    \"n_epochs\": 300\n",
      "    \"batch_size\": 256\n",
      "    \"train_optimizer\": \"adamw_amsgrad\"\n",
      "    \"momentum\": 0.949\n",
      "    \"betas\": [\n",
      "        0.9, 0.999\n",
      "    ]\n",
      "    \"decay\": 0.01\n",
      "    \"learning_rate\": 0.001\n",
      "    \"lr\": 0.001\n",
      "    \"lr_scheduler\": None\n",
      "    \"lr_step_size\": 50\n",
      "    \"lr_gamma\": 0.1\n",
      "    \"max_lr\": 0.01\n",
      "    \"burn_in\": 400\n",
      "    \"steps\": [\n",
      "        5000, 10000\n",
      "    ]\n",
      "    \"early_stopping\": {\n",
      "        \"min_delta\": 0.001\n",
      "        \"patience\": 15\n",
      "    }\n",
      "    \"loss\": \"BCEWithLogitsLoss\"\n",
      "    \"flooding_level\": 0.0\n",
      "    \"log_step\": 20\n",
      "    \"eval_every\": 20\n",
      "    \"model_name\": \"unet\"\n",
      "}\n",
      "log file path is set \"/home/wenh06/Jupyter/wenhao/workspace/torch_ecg/train/train_unet_cpsc2019/CPSC2019-CPSC2019.log\"\n",
      "levels of c_handler and f_handler are set DEBUG\n",
      "log file path is set \"/home/wenh06/Jupyter/wenhao/workspace/torch_ecg/train/train_unet_cpsc2019/CPSC2019-CPSC2019.log\"\n",
      "levels of c_handler and f_handler are set DEBUG\n",
      "log file path is set \"/home/wenh06/Jupyter/wenhao/workspace/torch_ecg/train/train_unet_cpsc2019/CPSC2019-CPSC2019.log\"\n",
      "levels of c_handler and f_handler are set DEBUG\n",
      "ECG-UNET - INFO - \n",
      "Starting training:\n",
      "------------------\n",
      "Epochs:          300\n",
      "Batch size:      256\n",
      "Learning rate:   0.001\n",
      "Training size:   1600\n",
      "Validation size: 400\n",
      "Device:          cuda\n",
      "Optimizer:       adamw_amsgrad\n",
      "-----------------------------------------\n",
      "\n"
     ]
    },
    {
     "name": "stderr",
     "output_type": "stream",
     "text": [
      "Epoch 1/300:  96%|███████████████████████████████████████████▏ | 1536/1600 [00:05<00:00, 592.35it/s]"
     ]
    },
    {
     "name": "stdout",
     "output_type": "stream",
     "text": [
      "QRS_acc: 0.052\n",
      "Scoring complete.\n",
      "QRS_acc: 0.044\n",
      "Scoring complete.\n",
      "ECG-UNET - INFO - \n",
      "Train epoch_1:\n",
      "--------------------\n",
      "train/epoch_loss:        4.068034768104553\n",
      "train/qrs_score:         0.052\n",
      "\n",
      "test/qrs_score:          0.044\n",
      "---------------------------------\n",
      "\n",
      "ECG-UNET - INFO - Checkpoint 1 saved!\n"
     ]
    },
    {
     "name": "stderr",
     "output_type": "stream",
     "text": [
      "Epoch 1/300: 100%|█████████████████████████████████████████████| 1600/1600 [00:08<00:00, 177.96it/s]\n",
      "Epoch 2/300:  96%|███████████████████████████████████████████▏ | 1536/1600 [00:02<00:00, 959.30it/s]"
     ]
    },
    {
     "name": "stdout",
     "output_type": "stream",
     "text": [
      "QRS_acc: 0.0695\n",
      "Scoring complete.\n",
      "QRS_acc: 0.058\n",
      "Scoring complete.\n",
      "ECG-UNET - INFO - \n",
      "Train epoch_2:\n",
      "--------------------\n",
      "train/epoch_loss:        3.3410195112228394\n",
      "train/qrs_score:         0.0695\n",
      "\n",
      "test/qrs_score:          0.058\n",
      "---------------------------------\n",
      "\n",
      "ECG-UNET - INFO - Checkpoint 2 saved!\n"
     ]
    },
    {
     "name": "stderr",
     "output_type": "stream",
     "text": [
      "Epoch 2/300: 100%|█████████████████████████████████████████████| 1600/1600 [00:06<00:00, 260.10it/s]\n",
      "Epoch 3/300:  80%|████████████████████     | 1280/1600 [00:02<00:00, 887.78it/s, loss (batch)=0.459]"
     ]
    },
    {
     "name": "stdout",
     "output_type": "stream",
     "text": [
      "ECG-UNET - INFO - Train step_20: loss : 0.4592908024787903\n"
     ]
    },
    {
     "name": "stderr",
     "output_type": "stream",
     "text": [
      "\r",
      "Epoch 3/300:  96%|████████████████████████ | 1536/1600 [00:02<00:00, 918.87it/s, loss (batch)=0.459]"
     ]
    },
    {
     "name": "stdout",
     "output_type": "stream",
     "text": [
      "QRS_acc: 0.1561\n",
      "Scoring complete.\n",
      "QRS_acc: 0.1478\n",
      "Scoring complete.\n",
      "ECG-UNET - INFO - \n",
      "Train epoch_3:\n",
      "--------------------\n",
      "train/epoch_loss:        3.2431915998458862\n",
      "train/qrs_score:         0.1561\n",
      "\n",
      "test/qrs_score:          0.1478\n",
      "---------------------------------\n",
      "\n",
      "ECG-UNET - INFO - Checkpoint 3 saved!\n"
     ]
    },
    {
     "name": "stderr",
     "output_type": "stream",
     "text": [
      "Epoch 3/300: 100%|█████████████████████████| 1600/1600 [00:06<00:00, 265.58it/s, loss (batch)=0.459]\n",
      "Epoch 4/300:  96%|███████████████████████████████████████████▏ | 1536/1600 [00:02<00:00, 977.09it/s]"
     ]
    },
    {
     "name": "stdout",
     "output_type": "stream",
     "text": [
      "QRS_acc: 0.4095\n",
      "Scoring complete.\n",
      "QRS_acc: 0.39\n",
      "Scoring complete.\n",
      "ECG-UNET - INFO - \n",
      "Train epoch_4:\n",
      "--------------------\n",
      "train/epoch_loss:        3.172388255596161\n",
      "train/qrs_score:         0.4095\n",
      "\n",
      "test/qrs_score:          0.39\n",
      "---------------------------------\n",
      "\n",
      "ECG-UNET - INFO - Checkpoint 4 saved!\n"
     ]
    },
    {
     "name": "stderr",
     "output_type": "stream",
     "text": [
      "Epoch 4/300: 100%|█████████████████████████████████████████████| 1600/1600 [00:06<00:00, 259.46it/s]\n",
      "Epoch 5/300:  96%|██████████████████████████████████████████▏ | 1536/1600 [00:02<00:00, 1019.03it/s]"
     ]
    },
    {
     "name": "stdout",
     "output_type": "stream",
     "text": [
      "QRS_acc: 0.5654\n",
      "Scoring complete.\n",
      "QRS_acc: 0.5512\n",
      "Scoring complete.\n",
      "ECG-UNET - INFO - \n",
      "Train epoch_5:\n",
      "--------------------\n",
      "train/epoch_loss:        3.128533124923706\n",
      "train/qrs_score:         0.5654\n",
      "\n",
      "test/qrs_score:          0.5512\n",
      "---------------------------------\n",
      "\n",
      "ECG-UNET - INFO - Checkpoint 5 saved!\n"
     ]
    },
    {
     "name": "stderr",
     "output_type": "stream",
     "text": [
      "Epoch 5/300: 100%|█████████████████████████████████████████████| 1600/1600 [00:05<00:00, 269.36it/s]\n",
      "Epoch 6/300:  64%|████████████████         | 1024/1600 [00:02<00:00, 729.72it/s, loss (batch)=0.442]"
     ]
    },
    {
     "name": "stdout",
     "output_type": "stream",
     "text": [
      "ECG-UNET - INFO - Train step_40: loss : 0.4415624439716339\n"
     ]
    },
    {
     "name": "stderr",
     "output_type": "stream",
     "text": [
      "Epoch 6/300:  96%|████████████████████████ | 1536/1600 [00:02<00:00, 987.69it/s, loss (batch)=0.442]"
     ]
    },
    {
     "name": "stdout",
     "output_type": "stream",
     "text": [
      "QRS_acc: 0.6227\n",
      "Scoring complete.\n",
      "QRS_acc: 0.6158\n",
      "Scoring complete.\n",
      "ECG-UNET - INFO - \n",
      "Train epoch_6:\n",
      "--------------------\n",
      "train/epoch_loss:        3.0703214704990387\n",
      "train/qrs_score:         0.6227\n",
      "\n",
      "test/qrs_score:          0.6158\n",
      "---------------------------------\n",
      "\n",
      "ECG-UNET - INFO - Checkpoint 6 saved!\n"
     ]
    },
    {
     "name": "stderr",
     "output_type": "stream",
     "text": [
      "Epoch 6/300: 100%|█████████████████████████| 1600/1600 [00:06<00:00, 259.85it/s, loss (batch)=0.442]\n",
      "Epoch 7/300:  96%|███████████████████████████████████████████▏ | 1536/1600 [00:02<00:00, 986.84it/s]"
     ]
    },
    {
     "name": "stdout",
     "output_type": "stream",
     "text": [
      "QRS_acc: 0.6594\n",
      "Scoring complete.\n",
      "QRS_acc: 0.645\n",
      "Scoring complete.\n",
      "ECG-UNET - INFO - \n",
      "Train epoch_7:\n",
      "--------------------\n",
      "train/epoch_loss:        3.0211346447467804\n",
      "train/qrs_score:         0.6594\n",
      "\n",
      "test/qrs_score:          0.645\n",
      "---------------------------------\n",
      "\n",
      "ECG-UNET - INFO - Checkpoint 7 saved!\n"
     ]
    },
    {
     "name": "stderr",
     "output_type": "stream",
     "text": [
      "Epoch 7/300: 100%|█████████████████████████████████████████████| 1600/1600 [00:06<00:00, 263.75it/s]\n",
      "Epoch 8/300:  96%|██████████████████████████████████████████▏ | 1536/1600 [00:02<00:00, 1021.31it/s]"
     ]
    },
    {
     "name": "stdout",
     "output_type": "stream",
     "text": [
      "QRS_acc: 0.759\n",
      "Scoring complete.\n",
      "QRS_acc: 0.727\n",
      "Scoring complete.\n",
      "ECG-UNET - INFO - \n",
      "Train epoch_8:\n",
      "--------------------\n",
      "train/epoch_loss:        2.9799787998199463\n",
      "train/qrs_score:         0.759\n",
      "\n",
      "test/qrs_score:          0.727\n",
      "---------------------------------\n",
      "\n",
      "ECG-UNET - INFO - Checkpoint 8 saved!\n"
     ]
    },
    {
     "name": "stderr",
     "output_type": "stream",
     "text": [
      "Epoch 8/300: 100%|█████████████████████████████████████████████| 1600/1600 [00:05<00:00, 268.34it/s]\n",
      "Epoch 9/300:  48%|████████████▍             | 768/1600 [00:01<00:01, 593.30it/s, loss (batch)=0.421]"
     ]
    },
    {
     "name": "stdout",
     "output_type": "stream",
     "text": [
      "ECG-UNET - INFO - Train step_60: loss : 0.42064324021339417\n"
     ]
    },
    {
     "name": "stderr",
     "output_type": "stream",
     "text": [
      "Epoch 9/300:  96%|███████████████████████ | 1536/1600 [00:02<00:00, 1031.23it/s, loss (batch)=0.421]"
     ]
    },
    {
     "name": "stdout",
     "output_type": "stream",
     "text": [
      "QRS_acc: 0.7666\n",
      "Scoring complete.\n",
      "QRS_acc: 0.739\n",
      "Scoring complete.\n",
      "ECG-UNET - INFO - \n",
      "Train epoch_9:\n",
      "--------------------\n",
      "train/epoch_loss:        2.936050444841385\n",
      "train/qrs_score:         0.7666\n",
      "\n",
      "test/qrs_score:          0.739\n",
      "---------------------------------\n",
      "\n",
      "ECG-UNET - INFO - Checkpoint 9 saved!\n"
     ]
    },
    {
     "name": "stderr",
     "output_type": "stream",
     "text": [
      "Epoch 9/300: 100%|█████████████████████████| 1600/1600 [00:06<00:00, 262.00it/s, loss (batch)=0.421]\n",
      "Epoch 10/300:  96%|█████████████████████████████████████████▎ | 1536/1600 [00:02<00:00, 1005.86it/s]"
     ]
    },
    {
     "name": "stdout",
     "output_type": "stream",
     "text": [
      "QRS_acc: 0.7884\n",
      "Scoring complete.\n",
      "QRS_acc: 0.769\n",
      "Scoring complete.\n",
      "ECG-UNET - INFO - \n",
      "Train epoch_10:\n",
      "--------------------\n",
      "train/epoch_loss:        2.894711971282959\n",
      "train/qrs_score:         0.7884\n",
      "\n",
      "test/qrs_score:          0.769\n",
      "---------------------------------\n",
      "\n",
      "ECG-UNET - INFO - Checkpoint 10 saved!\n"
     ]
    },
    {
     "name": "stderr",
     "output_type": "stream",
     "text": [
      "Epoch 10/300: 100%|████████████████████████████████████████████| 1600/1600 [00:06<00:00, 260.47it/s]\n",
      "Epoch 11/300:  96%|██████████████████████████████████████████▏ | 1536/1600 [00:02<00:00, 984.75it/s]"
     ]
    },
    {
     "name": "stdout",
     "output_type": "stream",
     "text": [
      "QRS_acc: 0.8024\n",
      "Scoring complete.\n",
      "QRS_acc: 0.799\n",
      "Scoring complete.\n",
      "ECG-UNET - INFO - \n",
      "Train epoch_11:\n",
      "--------------------\n",
      "train/epoch_loss:        2.851225256919861\n",
      "train/qrs_score:         0.8024\n",
      "\n",
      "test/qrs_score:          0.799\n",
      "---------------------------------\n",
      "\n",
      "ECG-UNET - INFO - Checkpoint 11 saved!\n"
     ]
    },
    {
     "name": "stderr",
     "output_type": "stream",
     "text": [
      "Epoch 11/300: 100%|████████████████████████████████████████████| 1600/1600 [00:06<00:00, 264.21it/s]\n",
      "Epoch 12/300:  32%|████████                 | 512/1600 [00:01<00:02, 391.79it/s, loss (batch)=0.406]"
     ]
    },
    {
     "name": "stdout",
     "output_type": "stream",
     "text": [
      "ECG-UNET - INFO - Train step_80: loss : 0.4062352478504181\n"
     ]
    },
    {
     "name": "stderr",
     "output_type": "stream",
     "text": [
      "Epoch 12/300:  96%|███████████████████████ | 1536/1600 [00:02<00:00, 997.95it/s, loss (batch)=0.406]"
     ]
    },
    {
     "name": "stdout",
     "output_type": "stream",
     "text": [
      "QRS_acc: 0.8132\n",
      "Scoring complete.\n",
      "QRS_acc: 0.7852\n",
      "Scoring complete.\n",
      "ECG-UNET - INFO - \n",
      "Train epoch_12:\n",
      "--------------------\n",
      "train/epoch_loss:        2.830463707447052\n",
      "train/qrs_score:         0.8132\n",
      "\n",
      "test/qrs_score:          0.7852\n",
      "---------------------------------\n",
      "\n",
      "ECG-UNET - INFO - Checkpoint 12 saved!\n"
     ]
    },
    {
     "name": "stderr",
     "output_type": "stream",
     "text": [
      "Epoch 12/300: 100%|████████████████████████| 1600/1600 [00:06<00:00, 263.68it/s, loss (batch)=0.406]\n",
      "Epoch 13/300:  96%|██████████████████████████████████████████▏ | 1536/1600 [00:02<00:00, 972.36it/s]"
     ]
    },
    {
     "name": "stdout",
     "output_type": "stream",
     "text": [
      "QRS_acc: 0.8264\n",
      "Scoring complete.\n",
      "QRS_acc: 0.8268\n",
      "Scoring complete.\n",
      "ECG-UNET - INFO - \n",
      "Train epoch_13:\n",
      "--------------------\n",
      "train/epoch_loss:        2.8009327948093414\n",
      "train/qrs_score:         0.8264\n",
      "\n",
      "test/qrs_score:          0.8268\n",
      "---------------------------------\n",
      "\n",
      "ECG-UNET - INFO - Checkpoint 13 saved!\n"
     ]
    },
    {
     "name": "stderr",
     "output_type": "stream",
     "text": [
      "Epoch 13/300: 100%|████████████████████████████████████████████| 1600/1600 [00:06<00:00, 254.72it/s]\n",
      "Epoch 14/300:  96%|█████████████████████████████████████████▎ | 1536/1600 [00:02<00:00, 1013.19it/s]"
     ]
    },
    {
     "name": "stdout",
     "output_type": "stream",
     "text": [
      "QRS_acc: 0.8264\n",
      "Scoring complete.\n",
      "QRS_acc: 0.8043\n",
      "Scoring complete.\n",
      "ECG-UNET - INFO - \n",
      "Train epoch_14:\n",
      "--------------------\n",
      "train/epoch_loss:        2.7689003348350525\n",
      "train/qrs_score:         0.8264\n",
      "\n",
      "test/qrs_score:          0.8043\n",
      "---------------------------------\n",
      "\n",
      "ECG-UNET - INFO - Checkpoint 14 saved!\n"
     ]
    },
    {
     "name": "stderr",
     "output_type": "stream",
     "text": [
      "Epoch 14/300: 100%|████████████████████████████████████████████| 1600/1600 [00:06<00:00, 258.92it/s]\n",
      "Epoch 15/300:  16%|████                     | 256/1600 [00:01<00:06, 210.61it/s, loss (batch)=0.391]"
     ]
    },
    {
     "name": "stdout",
     "output_type": "stream",
     "text": [
      "ECG-UNET - INFO - Train step_100: loss : 0.39078423380851746\n"
     ]
    },
    {
     "name": "stderr",
     "output_type": "stream",
     "text": [
      "Epoch 15/300:  96%|██████████████████████ | 1536/1600 [00:02<00:00, 1011.50it/s, loss (batch)=0.391]"
     ]
    },
    {
     "name": "stdout",
     "output_type": "stream",
     "text": [
      "QRS_acc: 0.6957\n",
      "Scoring complete.\n",
      "QRS_acc: 0.659\n",
      "Scoring complete.\n",
      "ECG-UNET - INFO - \n",
      "Train epoch_15:\n",
      "--------------------\n",
      "train/epoch_loss:        2.7562465965747833\n",
      "train/qrs_score:         0.6957\n",
      "\n",
      "test/qrs_score:          0.659\n",
      "---------------------------------\n",
      "\n",
      "ECG-UNET - INFO - Checkpoint 15 saved!\n"
     ]
    },
    {
     "name": "stderr",
     "output_type": "stream",
     "text": [
      "Epoch 15/300: 100%|████████████████████████| 1600/1600 [00:06<00:00, 262.85it/s, loss (batch)=0.391]\n",
      "Epoch 16/300:  96%|█████████████████████████████████████████▎ | 1536/1600 [00:02<00:00, 1008.53it/s]"
     ]
    },
    {
     "name": "stdout",
     "output_type": "stream",
     "text": [
      "QRS_acc: 0.8391\n",
      "Scoring complete.\n",
      "QRS_acc: 0.8138\n",
      "Scoring complete.\n",
      "ECG-UNET - INFO - \n",
      "Train epoch_16:\n",
      "--------------------\n",
      "train/epoch_loss:        2.7222107350826263\n",
      "train/qrs_score:         0.8391\n",
      "\n",
      "test/qrs_score:          0.8138\n",
      "---------------------------------\n",
      "\n",
      "ECG-UNET - INFO - Checkpoint 16 saved!\n"
     ]
    },
    {
     "name": "stderr",
     "output_type": "stream",
     "text": [
      "Epoch 16/300: 100%|████████████████████████████████████████████| 1600/1600 [00:06<00:00, 263.78it/s]\n",
      "Epoch 17/300:  96%|██████████████████████████████████████████▏ | 1536/1600 [00:02<00:00, 994.20it/s]"
     ]
    },
    {
     "name": "stdout",
     "output_type": "stream",
     "text": [
      "QRS_acc: 0.8348\n",
      "Scoring complete.\n",
      "QRS_acc: 0.8042\n",
      "Scoring complete.\n",
      "ECG-UNET - INFO - \n",
      "Train epoch_17:\n",
      "--------------------\n",
      "train/epoch_loss:        2.6991987824440002\n",
      "train/qrs_score:         0.8348\n",
      "\n",
      "test/qrs_score:          0.8042\n",
      "---------------------------------\n",
      "\n",
      "ECG-UNET - INFO - Checkpoint 17 saved!\n"
     ]
    },
    {
     "name": "stderr",
     "output_type": "stream",
     "text": [
      "Epoch 17/300: 100%|████████████████████████████████████████████| 1600/1600 [00:06<00:00, 258.40it/s]\n",
      "Epoch 18/300:   0%|                                    | 0/1600 [00:01<?, ?it/s, loss (batch)=0.381]"
     ]
    },
    {
     "name": "stdout",
     "output_type": "stream",
     "text": [
      "ECG-UNET - INFO - Train step_120: loss : 0.38092097640037537\n"
     ]
    },
    {
     "name": "stderr",
     "output_type": "stream",
     "text": [
      "Epoch 18/300:  96%|███████████████████████ | 1536/1600 [00:02<00:00, 970.65it/s, loss (batch)=0.381]"
     ]
    },
    {
     "name": "stdout",
     "output_type": "stream",
     "text": [
      "QRS_acc: 0.8503\n",
      "Scoring complete.\n",
      "QRS_acc: 0.8282\n",
      "Scoring complete.\n",
      "ECG-UNET - INFO - \n",
      "Train epoch_18:\n",
      "--------------------\n",
      "train/epoch_loss:        2.6769115030765533\n",
      "train/qrs_score:         0.8503\n",
      "\n",
      "test/qrs_score:          0.8282\n",
      "---------------------------------\n",
      "\n",
      "ECG-UNET - INFO - Checkpoint 18 saved!\n"
     ]
    },
    {
     "name": "stderr",
     "output_type": "stream",
     "text": [
      "Epoch 18/300: 100%|████████████████████████| 1600/1600 [00:06<00:00, 266.10it/s, loss (batch)=0.381]\n",
      "Epoch 19/300:  96%|█████████████████████████████████████████▎ | 1536/1600 [00:02<00:00, 1004.04it/s]"
     ]
    },
    {
     "name": "stdout",
     "output_type": "stream",
     "text": [
      "QRS_acc: 0.8504\n",
      "Scoring complete.\n",
      "QRS_acc: 0.8112\n",
      "Scoring complete.\n",
      "ECG-UNET - INFO - \n",
      "Train epoch_19:\n",
      "--------------------\n",
      "train/epoch_loss:        2.6550551056861877\n",
      "train/qrs_score:         0.8504\n",
      "\n",
      "test/qrs_score:          0.8112\n",
      "---------------------------------\n",
      "\n",
      "ECG-UNET - INFO - Checkpoint 19 saved!\n"
     ]
    },
    {
     "name": "stderr",
     "output_type": "stream",
     "text": [
      "Epoch 19/300: 100%|████████████████████████████████████████████| 1600/1600 [00:06<00:00, 260.65it/s]\n",
      "Epoch 20/300:  96%|███████████████████████ | 1536/1600 [00:02<00:00, 970.94it/s, loss (batch)=0.372]"
     ]
    },
    {
     "name": "stdout",
     "output_type": "stream",
     "text": [
      "ECG-UNET - INFO - Train step_140: loss : 0.37243086099624634\n",
      "QRS_acc: 0.8527\n",
      "Scoring complete.\n",
      "QRS_acc: 0.833\n",
      "Scoring complete.\n",
      "ECG-UNET - INFO - \n",
      "Train epoch_20:\n",
      "--------------------\n",
      "train/epoch_loss:        2.6294316947460175\n",
      "train/qrs_score:         0.8527\n",
      "\n",
      "test/qrs_score:          0.833\n",
      "---------------------------------\n",
      "\n",
      "ECG-UNET - INFO - Checkpoint 20 saved!\n"
     ]
    },
    {
     "name": "stderr",
     "output_type": "stream",
     "text": [
      "Epoch 20/300: 100%|████████████████████████| 1600/1600 [00:06<00:00, 262.88it/s, loss (batch)=0.372]\n",
      "Epoch 21/300:  96%|██████████████████████████████████████████▏ | 1536/1600 [00:02<00:00, 990.21it/s]"
     ]
    },
    {
     "name": "stdout",
     "output_type": "stream",
     "text": [
      "QRS_acc: 0.8526\n",
      "Scoring complete.\n",
      "QRS_acc: 0.816\n",
      "Scoring complete.\n",
      "ECG-UNET - INFO - \n",
      "Train epoch_21:\n",
      "--------------------\n",
      "train/epoch_loss:        2.5998657047748566\n",
      "train/qrs_score:         0.8526\n",
      "\n",
      "test/qrs_score:          0.816\n",
      "---------------------------------\n",
      "\n",
      "ECG-UNET - INFO - Checkpoint 21 saved!\n"
     ]
    },
    {
     "name": "stderr",
     "output_type": "stream",
     "text": [
      "Epoch 21/300: 100%|████████████████████████████████████████████| 1600/1600 [00:06<00:00, 262.44it/s]\n",
      "Epoch 22/300:  96%|█████████████████████████████████████████▎ | 1536/1600 [00:02<00:00, 1012.80it/s]"
     ]
    },
    {
     "name": "stdout",
     "output_type": "stream",
     "text": [
      "QRS_acc: 0.873\n",
      "Scoring complete.\n",
      "QRS_acc: 0.8335\n",
      "Scoring complete.\n",
      "ECG-UNET - INFO - \n",
      "Train epoch_22:\n",
      "--------------------\n",
      "train/epoch_loss:        2.5882487893104553\n",
      "train/qrs_score:         0.873\n",
      "\n",
      "test/qrs_score:          0.8335\n",
      "---------------------------------\n",
      "\n",
      "ECG-UNET - INFO - Checkpoint 22 saved!\n"
     ]
    },
    {
     "name": "stderr",
     "output_type": "stream",
     "text": [
      "Epoch 22/300: 100%|████████████████████████████████████████████| 1600/1600 [00:06<00:00, 266.54it/s]\n",
      "Epoch 23/300:  80%|████████████████████     | 1280/1600 [00:02<00:00, 872.94it/s, loss (batch)=0.36]"
     ]
    },
    {
     "name": "stdout",
     "output_type": "stream",
     "text": [
      "ECG-UNET - INFO - Train step_160: loss : 0.3601326048374176\n"
     ]
    },
    {
     "name": "stderr",
     "output_type": "stream",
     "text": [
      "\r",
      "Epoch 23/300:  96%|████████████████████████ | 1536/1600 [00:02<00:00, 897.66it/s, loss (batch)=0.36]"
     ]
    },
    {
     "name": "stdout",
     "output_type": "stream",
     "text": [
      "QRS_acc: 0.8621\n",
      "Scoring complete.\n",
      "QRS_acc: 0.8118\n",
      "Scoring complete.\n",
      "ECG-UNET - INFO - \n",
      "Train epoch_23:\n",
      "--------------------\n",
      "train/epoch_loss:        2.5677779614925385\n",
      "train/qrs_score:         0.8621\n",
      "\n",
      "test/qrs_score:          0.8118\n",
      "---------------------------------\n",
      "\n",
      "ECG-UNET - INFO - Checkpoint 23 saved!\n"
     ]
    },
    {
     "name": "stderr",
     "output_type": "stream",
     "text": [
      "Epoch 23/300: 100%|█████████████████████████| 1600/1600 [00:06<00:00, 261.21it/s, loss (batch)=0.36]\n",
      "Epoch 24/300:  96%|██████████████████████████████████████████▏ | 1536/1600 [00:02<00:00, 976.99it/s]"
     ]
    },
    {
     "name": "stdout",
     "output_type": "stream",
     "text": [
      "QRS_acc: 0.8653\n",
      "Scoring complete.\n",
      "QRS_acc: 0.8235\n",
      "Scoring complete.\n",
      "ECG-UNET - INFO - \n",
      "Train epoch_24:\n",
      "--------------------\n",
      "train/epoch_loss:        2.5504000186920166\n",
      "train/qrs_score:         0.8653\n",
      "\n",
      "test/qrs_score:          0.8235\n",
      "---------------------------------\n",
      "\n",
      "ECG-UNET - INFO - Checkpoint 24 saved!\n"
     ]
    },
    {
     "name": "stderr",
     "output_type": "stream",
     "text": [
      "Epoch 24/300: 100%|████████████████████████████████████████████| 1600/1600 [00:06<00:00, 258.10it/s]\n",
      "Epoch 25/300:  96%|██████████████████████████████████████████▏ | 1536/1600 [00:02<00:00, 982.42it/s]"
     ]
    },
    {
     "name": "stdout",
     "output_type": "stream",
     "text": [
      "QRS_acc: 0.8771\n",
      "Scoring complete.\n",
      "QRS_acc: 0.8212\n",
      "Scoring complete.\n",
      "ECG-UNET - INFO - \n",
      "Train epoch_25:\n",
      "--------------------\n",
      "train/epoch_loss:        2.5239993929862976\n",
      "train/qrs_score:         0.8771\n",
      "\n",
      "test/qrs_score:          0.8212\n",
      "---------------------------------\n",
      "\n",
      "ECG-UNET - INFO - Checkpoint 25 saved!\n"
     ]
    },
    {
     "name": "stderr",
     "output_type": "stream",
     "text": [
      "Epoch 25/300: 100%|████████████████████████████████████████████| 1600/1600 [00:06<00:00, 263.89it/s]\n",
      "Epoch 26/300:  64%|███████████████▎        | 1024/1600 [00:02<00:00, 736.99it/s, loss (batch)=0.358]"
     ]
    },
    {
     "name": "stdout",
     "output_type": "stream",
     "text": [
      "ECG-UNET - INFO - Train step_180: loss : 0.35843735933303833\n"
     ]
    },
    {
     "name": "stderr",
     "output_type": "stream",
     "text": [
      "Epoch 26/300:  96%|███████████████████████ | 1536/1600 [00:02<00:00, 991.02it/s, loss (batch)=0.358]"
     ]
    },
    {
     "name": "stdout",
     "output_type": "stream",
     "text": [
      "QRS_acc: 0.8806\n",
      "Scoring complete.\n",
      "QRS_acc: 0.8315\n",
      "Scoring complete.\n",
      "ECG-UNET - INFO - \n",
      "Train epoch_26:\n",
      "--------------------\n",
      "train/epoch_loss:        2.5079963505268097\n",
      "train/qrs_score:         0.8806\n",
      "\n",
      "test/qrs_score:          0.8315\n",
      "---------------------------------\n",
      "\n",
      "ECG-UNET - INFO - Checkpoint 26 saved!\n"
     ]
    },
    {
     "name": "stderr",
     "output_type": "stream",
     "text": [
      "Epoch 26/300: 100%|████████████████████████| 1600/1600 [00:06<00:00, 261.31it/s, loss (batch)=0.358]\n",
      "Epoch 27/300:  96%|█████████████████████████████████████████▎ | 1536/1600 [00:02<00:00, 1026.71it/s]"
     ]
    },
    {
     "name": "stdout",
     "output_type": "stream",
     "text": [
      "QRS_acc: 0.8889\n",
      "Scoring complete.\n",
      "QRS_acc: 0.8312\n",
      "Scoring complete.\n",
      "ECG-UNET - INFO - \n",
      "Train epoch_27:\n",
      "--------------------\n",
      "train/epoch_loss:        2.483769655227661\n",
      "train/qrs_score:         0.8889\n",
      "\n",
      "test/qrs_score:          0.8312\n",
      "---------------------------------\n",
      "\n",
      "ECG-UNET - INFO - Checkpoint 27 saved!\n"
     ]
    },
    {
     "name": "stderr",
     "output_type": "stream",
     "text": [
      "Epoch 27/300: 100%|████████████████████████████████████████████| 1600/1600 [00:06<00:00, 265.61it/s]\n",
      "Epoch 28/300:  96%|██████████████████████████████████████████▏ | 1536/1600 [00:02<00:00, 994.82it/s]"
     ]
    },
    {
     "name": "stdout",
     "output_type": "stream",
     "text": [
      "QRS_acc: 0.8748\n",
      "Scoring complete.\n",
      "QRS_acc: 0.8118\n",
      "Scoring complete.\n",
      "ECG-UNET - INFO - \n",
      "Train epoch_28:\n",
      "--------------------\n",
      "train/epoch_loss:        2.4704138338565826\n",
      "train/qrs_score:         0.8748\n",
      "\n",
      "test/qrs_score:          0.8118\n",
      "---------------------------------\n",
      "\n",
      "ECG-UNET - INFO - Checkpoint 28 saved!\n"
     ]
    },
    {
     "name": "stderr",
     "output_type": "stream",
     "text": [
      "Epoch 28/300: 100%|████████████████████████████████████████████| 1600/1600 [00:06<00:00, 265.17it/s]\n",
      "Epoch 29/300:  48%|████████████             | 768/1600 [00:01<00:01, 592.27it/s, loss (batch)=0.354]"
     ]
    },
    {
     "name": "stdout",
     "output_type": "stream",
     "text": [
      "ECG-UNET - INFO - Train step_200: loss : 0.354026734828949\n"
     ]
    },
    {
     "name": "stderr",
     "output_type": "stream",
     "text": [
      "Epoch 29/300:  96%|███████████████████████ | 1536/1600 [00:02<00:00, 981.01it/s, loss (batch)=0.354]"
     ]
    },
    {
     "name": "stdout",
     "output_type": "stream",
     "text": [
      "QRS_acc: 0.8961\n",
      "Scoring complete.\n",
      "QRS_acc: 0.8288\n",
      "Scoring complete.\n",
      "ECG-UNET - INFO - \n",
      "Train epoch_29:\n",
      "--------------------\n",
      "train/epoch_loss:        2.4423452615737915\n",
      "train/qrs_score:         0.8961\n",
      "\n",
      "test/qrs_score:          0.8288\n",
      "---------------------------------\n",
      "\n",
      "ECG-UNET - INFO - Checkpoint 29 saved!\n"
     ]
    },
    {
     "name": "stderr",
     "output_type": "stream",
     "text": [
      "Epoch 29/300: 100%|████████████████████████| 1600/1600 [00:06<00:00, 260.36it/s, loss (batch)=0.354]\n",
      "Epoch 30/300:  96%|██████████████████████████████████████████▏ | 1536/1600 [00:02<00:00, 983.36it/s]"
     ]
    },
    {
     "name": "stdout",
     "output_type": "stream",
     "text": [
      "QRS_acc: 0.8836\n",
      "Scoring complete.\n",
      "QRS_acc: 0.8225\n",
      "Scoring complete.\n",
      "ECG-UNET - INFO - \n",
      "Train epoch_30:\n",
      "--------------------\n",
      "train/epoch_loss:        2.4313971400260925\n",
      "train/qrs_score:         0.8836\n",
      "\n",
      "test/qrs_score:          0.8225\n",
      "---------------------------------\n",
      "\n",
      "ECG-UNET - INFO - Checkpoint 30 saved!\n"
     ]
    },
    {
     "name": "stderr",
     "output_type": "stream",
     "text": [
      "Epoch 30/300: 100%|████████████████████████████████████████████| 1600/1600 [00:06<00:00, 264.92it/s]\n",
      "Epoch 31/300:  96%|█████████████████████████████████████████▎ | 1536/1600 [00:02<00:00, 1025.85it/s]"
     ]
    },
    {
     "name": "stdout",
     "output_type": "stream",
     "text": [
      "QRS_acc: 0.8926\n",
      "Scoring complete.\n",
      "QRS_acc: 0.8325\n",
      "Scoring complete.\n",
      "ECG-UNET - INFO - \n",
      "Train epoch_31:\n",
      "--------------------\n",
      "train/epoch_loss:        2.401262581348419\n",
      "train/qrs_score:         0.8926\n",
      "\n",
      "test/qrs_score:          0.8325\n",
      "---------------------------------\n",
      "\n",
      "ECG-UNET - INFO - Checkpoint 31 saved!\n"
     ]
    },
    {
     "name": "stderr",
     "output_type": "stream",
     "text": [
      "Epoch 31/300: 100%|████████████████████████████████████████████| 1600/1600 [00:05<00:00, 267.15it/s]\n",
      "Epoch 32/300:  32%|████████                 | 512/1600 [00:01<00:02, 386.90it/s, loss (batch)=0.342]"
     ]
    },
    {
     "name": "stdout",
     "output_type": "stream",
     "text": [
      "ECG-UNET - INFO - Train step_220: loss : 0.3415724039077759\n"
     ]
    },
    {
     "name": "stderr",
     "output_type": "stream",
     "text": [
      "Epoch 32/300:  96%|███████████████████████ | 1536/1600 [00:02<00:00, 985.44it/s, loss (batch)=0.342]"
     ]
    },
    {
     "name": "stdout",
     "output_type": "stream",
     "text": [
      "QRS_acc: 0.906\n",
      "Scoring complete.\n",
      "QRS_acc: 0.8418\n",
      "Scoring complete.\n",
      "ECG-UNET - INFO - \n",
      "Train epoch_32:\n",
      "--------------------\n",
      "train/epoch_loss:        2.385698825120926\n",
      "train/qrs_score:         0.906\n",
      "\n",
      "test/qrs_score:          0.8418\n",
      "---------------------------------\n",
      "\n",
      "ECG-UNET - INFO - Checkpoint 32 saved!\n"
     ]
    },
    {
     "name": "stderr",
     "output_type": "stream",
     "text": [
      "Epoch 32/300: 100%|████████████████████████| 1600/1600 [00:06<00:00, 260.51it/s, loss (batch)=0.342]\n",
      "Epoch 33/300:  96%|██████████████████████████████████████████▏ | 1536/1600 [00:02<00:00, 996.15it/s]"
     ]
    },
    {
     "name": "stdout",
     "output_type": "stream",
     "text": [
      "QRS_acc: 0.8987\n",
      "Scoring complete.\n",
      "QRS_acc: 0.838\n",
      "Scoring complete.\n",
      "ECG-UNET - INFO - \n",
      "Train epoch_33:\n",
      "--------------------\n",
      "train/epoch_loss:        2.3694840371608734\n",
      "train/qrs_score:         0.8987\n",
      "\n",
      "test/qrs_score:          0.838\n",
      "---------------------------------\n",
      "\n",
      "ECG-UNET - INFO - Checkpoint 33 saved!\n"
     ]
    },
    {
     "name": "stderr",
     "output_type": "stream",
     "text": [
      "Epoch 33/300: 100%|████████████████████████████████████████████| 1600/1600 [00:06<00:00, 265.84it/s]\n",
      "Epoch 34/300:  96%|██████████████████████████████████████████▏ | 1536/1600 [00:02<00:00, 999.37it/s]"
     ]
    },
    {
     "name": "stdout",
     "output_type": "stream",
     "text": [
      "QRS_acc: 0.8734\n",
      "Scoring complete.\n",
      "QRS_acc: 0.8175\n",
      "Scoring complete.\n",
      "ECG-UNET - INFO - \n",
      "Train epoch_34:\n",
      "--------------------\n",
      "train/epoch_loss:        2.3609085977077484\n",
      "train/qrs_score:         0.8734\n",
      "\n",
      "test/qrs_score:          0.8175\n",
      "---------------------------------\n",
      "\n",
      "ECG-UNET - INFO - Checkpoint 34 saved!\n"
     ]
    },
    {
     "name": "stderr",
     "output_type": "stream",
     "text": [
      "Epoch 34/300: 100%|████████████████████████████████████████████| 1600/1600 [00:06<00:00, 262.88it/s]\n",
      "Epoch 35/300:  16%|████                     | 256/1600 [00:01<00:06, 209.17it/s, loss (batch)=0.334]"
     ]
    },
    {
     "name": "stdout",
     "output_type": "stream",
     "text": [
      "ECG-UNET - INFO - Train step_240: loss : 0.3341832458972931\n"
     ]
    },
    {
     "name": "stderr",
     "output_type": "stream",
     "text": [
      "Epoch 35/300:  96%|███████████████████████ | 1536/1600 [00:02<00:00, 917.01it/s, loss (batch)=0.334]"
     ]
    },
    {
     "name": "stdout",
     "output_type": "stream",
     "text": [
      "QRS_acc: 0.8173\n",
      "Scoring complete.\n",
      "QRS_acc: 0.739\n",
      "Scoring complete.\n",
      "ECG-UNET - INFO - \n",
      "Train epoch_35:\n",
      "--------------------\n",
      "train/epoch_loss:        2.3449681997299194\n",
      "train/qrs_score:         0.8173\n",
      "\n",
      "test/qrs_score:          0.739\n",
      "---------------------------------\n",
      "\n",
      "ECG-UNET - INFO - Checkpoint 35 saved!\n"
     ]
    },
    {
     "name": "stderr",
     "output_type": "stream",
     "text": [
      "Epoch 35/300: 100%|████████████████████████| 1600/1600 [00:06<00:00, 261.83it/s, loss (batch)=0.334]\n",
      "Epoch 36/300:  96%|██████████████████████████████████████████▏ | 1536/1600 [00:02<00:00, 995.54it/s]"
     ]
    },
    {
     "name": "stdout",
     "output_type": "stream",
     "text": [
      "QRS_acc: 0.9014\n",
      "Scoring complete.\n",
      "QRS_acc: 0.8342\n",
      "Scoring complete.\n",
      "ECG-UNET - INFO - \n",
      "Train epoch_36:\n",
      "--------------------\n",
      "train/epoch_loss:        2.323387384414673\n",
      "train/qrs_score:         0.9014\n",
      "\n",
      "test/qrs_score:          0.8342\n",
      "---------------------------------\n",
      "\n",
      "ECG-UNET - INFO - Checkpoint 36 saved!\n"
     ]
    },
    {
     "name": "stderr",
     "output_type": "stream",
     "text": [
      "Epoch 36/300: 100%|████████████████████████████████████████████| 1600/1600 [00:06<00:00, 259.90it/s]\n",
      "Epoch 37/300:  96%|██████████████████████████████████████████▏ | 1536/1600 [00:02<00:00, 971.13it/s]"
     ]
    },
    {
     "name": "stdout",
     "output_type": "stream",
     "text": [
      "QRS_acc: 0.8896\n",
      "Scoring complete.\n",
      "QRS_acc: 0.8342\n",
      "Scoring complete.\n",
      "ECG-UNET - INFO - \n",
      "Train epoch_37:\n",
      "--------------------\n",
      "train/epoch_loss:        2.3061839044094086\n",
      "train/qrs_score:         0.8896\n",
      "\n",
      "test/qrs_score:          0.8342\n",
      "---------------------------------\n",
      "\n",
      "ECG-UNET - INFO - Checkpoint 37 saved!\n"
     ]
    },
    {
     "name": "stderr",
     "output_type": "stream",
     "text": [
      "Epoch 37/300: 100%|████████████████████████████████████████████| 1600/1600 [00:06<00:00, 259.19it/s]\n",
      "Epoch 38/300:   0%|                                    | 0/1600 [00:01<?, ?it/s, loss (batch)=0.322]"
     ]
    },
    {
     "name": "stdout",
     "output_type": "stream",
     "text": [
      "ECG-UNET - INFO - Train step_260: loss : 0.32199710607528687\n"
     ]
    },
    {
     "name": "stderr",
     "output_type": "stream",
     "text": [
      "Epoch 38/300:  96%|███████████████████████ | 1536/1600 [00:02<00:00, 998.18it/s, loss (batch)=0.322]"
     ]
    },
    {
     "name": "stdout",
     "output_type": "stream",
     "text": [
      "QRS_acc: 0.911\n",
      "Scoring complete.\n",
      "QRS_acc: 0.8418\n",
      "Scoring complete.\n",
      "ECG-UNET - INFO - \n",
      "Train epoch_38:\n",
      "--------------------\n",
      "train/epoch_loss:        2.282259911298752\n",
      "train/qrs_score:         0.911\n",
      "\n",
      "test/qrs_score:          0.8418\n",
      "---------------------------------\n",
      "\n",
      "ECG-UNET - INFO - Checkpoint 38 saved!\n"
     ]
    },
    {
     "name": "stderr",
     "output_type": "stream",
     "text": [
      "Epoch 38/300: 100%|████████████████████████| 1600/1600 [00:06<00:00, 261.93it/s, loss (batch)=0.322]\n",
      "Epoch 39/300:  96%|██████████████████████████████████████████▏ | 1536/1600 [00:02<00:00, 946.17it/s]"
     ]
    },
    {
     "name": "stdout",
     "output_type": "stream",
     "text": [
      "QRS_acc: 0.9046\n",
      "Scoring complete.\n",
      "QRS_acc: 0.835\n",
      "Scoring complete.\n",
      "ECG-UNET - INFO - \n",
      "Train epoch_39:\n",
      "--------------------\n",
      "train/epoch_loss:        2.2749007642269135\n",
      "train/qrs_score:         0.9046\n",
      "\n",
      "test/qrs_score:          0.835\n",
      "---------------------------------\n",
      "\n",
      "ECG-UNET - INFO - Checkpoint 39 saved!\n"
     ]
    },
    {
     "name": "stderr",
     "output_type": "stream",
     "text": [
      "Epoch 39/300: 100%|████████████████████████████████████████████| 1600/1600 [00:06<00:00, 251.82it/s]\n",
      "Epoch 40/300:  96%|███████████████████████ | 1536/1600 [00:02<00:00, 960.76it/s, loss (batch)=0.317]"
     ]
    },
    {
     "name": "stdout",
     "output_type": "stream",
     "text": [
      "ECG-UNET - INFO - Train step_280: loss : 0.31709080934524536\n",
      "QRS_acc: 0.9066\n",
      "Scoring complete.\n",
      "QRS_acc: 0.8435\n",
      "Scoring complete.\n",
      "ECG-UNET - INFO - \n",
      "Train epoch_40:\n",
      "--------------------\n",
      "train/epoch_loss:        2.2500150203704834\n",
      "train/qrs_score:         0.9066\n",
      "\n",
      "test/qrs_score:          0.8435\n",
      "---------------------------------\n",
      "\n",
      "ECG-UNET - INFO - Checkpoint 40 saved!\n"
     ]
    },
    {
     "name": "stderr",
     "output_type": "stream",
     "text": [
      "Epoch 40/300: 100%|████████████████████████| 1600/1600 [00:06<00:00, 257.29it/s, loss (batch)=0.317]\n",
      "Epoch 41/300:  96%|██████████████████████████████████████████▏ | 1536/1600 [00:02<00:00, 996.00it/s]"
     ]
    },
    {
     "name": "stdout",
     "output_type": "stream",
     "text": [
      "QRS_acc: 0.9241\n",
      "Scoring complete.\n",
      "QRS_acc: 0.8478\n",
      "Scoring complete.\n",
      "ECG-UNET - INFO - \n",
      "Train epoch_41:\n",
      "--------------------\n",
      "train/epoch_loss:        2.231441080570221\n",
      "train/qrs_score:         0.9241\n",
      "\n",
      "test/qrs_score:          0.8478\n",
      "---------------------------------\n",
      "\n",
      "ECG-UNET - INFO - Checkpoint 41 saved!\n"
     ]
    },
    {
     "name": "stderr",
     "output_type": "stream",
     "text": [
      "Epoch 41/300: 100%|████████████████████████████████████████████| 1600/1600 [00:06<00:00, 258.98it/s]\n",
      "Epoch 42/300:  96%|██████████████████████████████████████████▏ | 1536/1600 [00:02<00:00, 960.31it/s]"
     ]
    },
    {
     "name": "stdout",
     "output_type": "stream",
     "text": [
      "QRS_acc: 0.9216\n",
      "Scoring complete.\n",
      "QRS_acc: 0.8425\n",
      "Scoring complete.\n",
      "ECG-UNET - INFO - \n",
      "Train epoch_42:\n",
      "--------------------\n",
      "train/epoch_loss:        2.2165889143943787\n",
      "train/qrs_score:         0.9216\n",
      "\n",
      "test/qrs_score:          0.8425\n",
      "---------------------------------\n",
      "\n",
      "ECG-UNET - INFO - Checkpoint 42 saved!\n"
     ]
    },
    {
     "name": "stderr",
     "output_type": "stream",
     "text": [
      "Epoch 42/300: 100%|████████████████████████████████████████████| 1600/1600 [00:06<00:00, 259.79it/s]\n",
      "Epoch 43/300:  80%|███████████████████▏    | 1280/1600 [00:02<00:00, 861.29it/s, loss (batch)=0.314]"
     ]
    },
    {
     "name": "stdout",
     "output_type": "stream",
     "text": [
      "ECG-UNET - INFO - Train step_300: loss : 0.31436458230018616\n"
     ]
    },
    {
     "name": "stderr",
     "output_type": "stream",
     "text": [
      "\r",
      "Epoch 43/300:  96%|███████████████████████ | 1536/1600 [00:02<00:00, 895.12it/s, loss (batch)=0.314]"
     ]
    },
    {
     "name": "stdout",
     "output_type": "stream",
     "text": [
      "QRS_acc: 0.9214\n",
      "Scoring complete.\n",
      "QRS_acc: 0.8578\n",
      "Scoring complete.\n",
      "ECG-UNET - INFO - \n",
      "Train epoch_43:\n",
      "--------------------\n",
      "train/epoch_loss:        2.193816840648651\n",
      "train/qrs_score:         0.9214\n",
      "\n",
      "test/qrs_score:          0.8578\n",
      "---------------------------------\n",
      "\n",
      "ECG-UNET - INFO - Checkpoint 43 saved!\n"
     ]
    },
    {
     "name": "stderr",
     "output_type": "stream",
     "text": [
      "Epoch 43/300: 100%|████████████████████████| 1600/1600 [00:06<00:00, 258.81it/s, loss (batch)=0.314]\n",
      "Epoch 44/300:  96%|██████████████████████████████████████████▏ | 1536/1600 [00:02<00:00, 971.45it/s]"
     ]
    },
    {
     "name": "stdout",
     "output_type": "stream",
     "text": [
      "QRS_acc: 0.9232\n",
      "Scoring complete.\n",
      "QRS_acc: 0.841\n",
      "Scoring complete.\n",
      "ECG-UNET - INFO - \n",
      "Train epoch_44:\n",
      "--------------------\n",
      "train/epoch_loss:        2.1856888234615326\n",
      "train/qrs_score:         0.9232\n",
      "\n",
      "test/qrs_score:          0.841\n",
      "---------------------------------\n",
      "\n",
      "ECG-UNET - INFO - Checkpoint 44 saved!\n"
     ]
    },
    {
     "name": "stderr",
     "output_type": "stream",
     "text": [
      "Epoch 44/300: 100%|████████████████████████████████████████████| 1600/1600 [00:06<00:00, 259.54it/s]\n",
      "Epoch 45/300:  96%|██████████████████████████████████████████▏ | 1536/1600 [00:02<00:00, 967.70it/s]"
     ]
    },
    {
     "name": "stdout",
     "output_type": "stream",
     "text": [
      "QRS_acc: 0.9291\n",
      "Scoring complete.\n",
      "QRS_acc: 0.8562\n",
      "Scoring complete.\n",
      "ECG-UNET - INFO - \n",
      "Train epoch_45:\n",
      "--------------------\n",
      "train/epoch_loss:        2.165396600961685\n",
      "train/qrs_score:         0.9291\n",
      "\n",
      "test/qrs_score:          0.8562\n",
      "---------------------------------\n",
      "\n",
      "ECG-UNET - INFO - Checkpoint 45 saved!\n"
     ]
    },
    {
     "name": "stderr",
     "output_type": "stream",
     "text": [
      "Epoch 45/300: 100%|████████████████████████████████████████████| 1600/1600 [00:06<00:00, 257.77it/s]\n",
      "Epoch 46/300:  64%|███████████████▎        | 1024/1600 [00:02<00:00, 745.40it/s, loss (batch)=0.305]"
     ]
    },
    {
     "name": "stdout",
     "output_type": "stream",
     "text": [
      "ECG-UNET - INFO - Train step_320: loss : 0.30544140934944153\n"
     ]
    },
    {
     "name": "stderr",
     "output_type": "stream",
     "text": [
      "Epoch 46/300:  96%|███████████████████████ | 1536/1600 [00:02<00:00, 972.94it/s, loss (batch)=0.305]"
     ]
    },
    {
     "name": "stdout",
     "output_type": "stream",
     "text": [
      "QRS_acc: 0.9278\n",
      "Scoring complete.\n",
      "QRS_acc: 0.855\n",
      "Scoring complete.\n",
      "ECG-UNET - INFO - \n",
      "Train epoch_46:\n",
      "--------------------\n",
      "train/epoch_loss:        2.1573875546455383\n",
      "train/qrs_score:         0.9278\n",
      "\n",
      "test/qrs_score:          0.855\n",
      "---------------------------------\n",
      "\n",
      "ECG-UNET - INFO - Checkpoint 46 saved!\n"
     ]
    },
    {
     "name": "stderr",
     "output_type": "stream",
     "text": [
      "Epoch 46/300: 100%|████████████████████████| 1600/1600 [00:06<00:00, 256.29it/s, loss (batch)=0.305]\n",
      "Epoch 47/300:  96%|█████████████████████████████████████████▎ | 1536/1600 [00:02<00:00, 1000.30it/s]"
     ]
    },
    {
     "name": "stdout",
     "output_type": "stream",
     "text": [
      "QRS_acc: 0.9156\n",
      "Scoring complete.\n",
      "QRS_acc: 0.83\n",
      "Scoring complete.\n",
      "ECG-UNET - INFO - \n",
      "Train epoch_47:\n",
      "--------------------\n",
      "train/epoch_loss:        2.1380591690540314\n",
      "train/qrs_score:         0.9156\n",
      "\n",
      "test/qrs_score:          0.83\n",
      "---------------------------------\n",
      "\n",
      "ECG-UNET - INFO - Checkpoint 47 saved!\n"
     ]
    },
    {
     "name": "stderr",
     "output_type": "stream",
     "text": [
      "Epoch 47/300: 100%|████████████████████████████████████████████| 1600/1600 [00:06<00:00, 266.57it/s]\n",
      "Epoch 48/300:  96%|██████████████████████████████████████████▏ | 1536/1600 [00:02<00:00, 978.29it/s]"
     ]
    },
    {
     "name": "stdout",
     "output_type": "stream",
     "text": [
      "QRS_acc: 0.9277\n",
      "Scoring complete.\n",
      "QRS_acc: 0.841\n",
      "Scoring complete.\n",
      "ECG-UNET - INFO - \n",
      "Train epoch_48:\n",
      "--------------------\n",
      "train/epoch_loss:        2.121661126613617\n",
      "train/qrs_score:         0.9277\n",
      "\n",
      "test/qrs_score:          0.841\n",
      "---------------------------------\n",
      "\n",
      "ECG-UNET - INFO - Checkpoint 48 saved!\n"
     ]
    },
    {
     "name": "stderr",
     "output_type": "stream",
     "text": [
      "Epoch 48/300: 100%|████████████████████████████████████████████| 1600/1600 [00:06<00:00, 260.00it/s]\n",
      "Epoch 49/300:  48%|████████████             | 768/1600 [00:01<00:01, 577.61it/s, loss (batch)=0.302]"
     ]
    },
    {
     "name": "stdout",
     "output_type": "stream",
     "text": [
      "ECG-UNET - INFO - Train step_340: loss : 0.30167675018310547\n"
     ]
    },
    {
     "name": "stderr",
     "output_type": "stream",
     "text": [
      "Epoch 49/300:  96%|███████████████████████ | 1536/1600 [00:02<00:00, 975.01it/s, loss (batch)=0.302]"
     ]
    },
    {
     "name": "stdout",
     "output_type": "stream",
     "text": [
      "QRS_acc: 0.9243\n",
      "Scoring complete.\n",
      "QRS_acc: 0.849\n",
      "Scoring complete.\n",
      "ECG-UNET - INFO - \n",
      "Train epoch_49:\n",
      "--------------------\n",
      "train/epoch_loss:        2.1083040833473206\n",
      "train/qrs_score:         0.9243\n",
      "\n",
      "test/qrs_score:          0.849\n",
      "---------------------------------\n",
      "\n",
      "ECG-UNET - INFO - Checkpoint 49 saved!\n"
     ]
    },
    {
     "name": "stderr",
     "output_type": "stream",
     "text": [
      "Epoch 49/300: 100%|████████████████████████| 1600/1600 [00:06<00:00, 260.16it/s, loss (batch)=0.302]\n",
      "Epoch 50/300:  96%|█████████████████████████████████████████▎ | 1536/1600 [00:02<00:00, 1012.40it/s]"
     ]
    },
    {
     "name": "stdout",
     "output_type": "stream",
     "text": [
      "QRS_acc: 0.9438\n",
      "Scoring complete.\n",
      "QRS_acc: 0.8557\n",
      "Scoring complete.\n",
      "ECG-UNET - INFO - \n",
      "Train epoch_50:\n",
      "--------------------\n",
      "train/epoch_loss:        2.0904682278633118\n",
      "train/qrs_score:         0.9438\n",
      "\n",
      "test/qrs_score:          0.8557\n",
      "---------------------------------\n",
      "\n",
      "ECG-UNET - INFO - Checkpoint 50 saved!\n"
     ]
    },
    {
     "name": "stderr",
     "output_type": "stream",
     "text": [
      "Epoch 50/300: 100%|████████████████████████████████████████████| 1600/1600 [00:06<00:00, 263.99it/s]\n",
      "Epoch 51/300:  96%|██████████████████████████████████████████▏ | 1536/1600 [00:02<00:00, 988.04it/s]"
     ]
    },
    {
     "name": "stdout",
     "output_type": "stream",
     "text": [
      "QRS_acc: 0.9202\n",
      "Scoring complete.\n",
      "QRS_acc: 0.8458\n",
      "Scoring complete.\n",
      "ECG-UNET - INFO - \n",
      "Train epoch_51:\n",
      "--------------------\n",
      "train/epoch_loss:        2.0759238600730896\n",
      "train/qrs_score:         0.9202\n",
      "\n",
      "test/qrs_score:          0.8458\n",
      "---------------------------------\n",
      "\n",
      "ECG-UNET - INFO - Checkpoint 51 saved!\n"
     ]
    },
    {
     "name": "stderr",
     "output_type": "stream",
     "text": [
      "Epoch 51/300: 100%|████████████████████████████████████████████| 1600/1600 [00:06<00:00, 259.11it/s]\n",
      "Epoch 52/300:  32%|████████                 | 512/1600 [00:01<00:02, 410.03it/s, loss (batch)=0.293]"
     ]
    },
    {
     "name": "stdout",
     "output_type": "stream",
     "text": [
      "ECG-UNET - INFO - Train step_360: loss : 0.2926064729690552\n"
     ]
    },
    {
     "name": "stderr",
     "output_type": "stream",
     "text": [
      "Epoch 52/300:  96%|███████████████████████ | 1536/1600 [00:02<00:00, 990.03it/s, loss (batch)=0.293]"
     ]
    },
    {
     "name": "stdout",
     "output_type": "stream",
     "text": [
      "QRS_acc: 0.9296\n",
      "Scoring complete.\n",
      "QRS_acc: 0.849\n",
      "Scoring complete.\n",
      "ECG-UNET - INFO - \n",
      "Train epoch_52:\n",
      "--------------------\n",
      "train/epoch_loss:        2.0577450692653656\n",
      "train/qrs_score:         0.9296\n",
      "\n",
      "test/qrs_score:          0.849\n",
      "---------------------------------\n",
      "\n",
      "ECG-UNET - INFO - Checkpoint 52 saved!\n"
     ]
    },
    {
     "name": "stderr",
     "output_type": "stream",
     "text": [
      "Epoch 52/300: 100%|████████████████████████| 1600/1600 [00:06<00:00, 264.54it/s, loss (batch)=0.293]\n",
      "Epoch 53/300:  96%|██████████████████████████████████████████▏ | 1536/1600 [00:02<00:00, 987.10it/s]"
     ]
    },
    {
     "name": "stdout",
     "output_type": "stream",
     "text": [
      "QRS_acc: 0.9416\n",
      "Scoring complete.\n",
      "QRS_acc: 0.8628\n",
      "Scoring complete.\n",
      "ECG-UNET - INFO - \n",
      "Train epoch_53:\n",
      "--------------------\n",
      "train/epoch_loss:        2.0488674342632294\n",
      "train/qrs_score:         0.9416\n",
      "\n",
      "test/qrs_score:          0.8628\n",
      "---------------------------------\n",
      "\n",
      "ECG-UNET - INFO - Checkpoint 53 saved!\n"
     ]
    },
    {
     "name": "stderr",
     "output_type": "stream",
     "text": [
      "Epoch 53/300: 100%|████████████████████████████████████████████| 1600/1600 [00:06<00:00, 261.24it/s]\n",
      "Epoch 54/300:  96%|██████████████████████████████████████████▏ | 1536/1600 [00:02<00:00, 965.69it/s]"
     ]
    },
    {
     "name": "stdout",
     "output_type": "stream",
     "text": [
      "QRS_acc: 0.9367\n",
      "Scoring complete.\n",
      "QRS_acc: 0.8522\n",
      "Scoring complete.\n",
      "ECG-UNET - INFO - \n",
      "Train epoch_54:\n",
      "--------------------\n",
      "train/epoch_loss:        2.0373646318912506\n",
      "train/qrs_score:         0.9367\n",
      "\n",
      "test/qrs_score:          0.8522\n",
      "---------------------------------\n",
      "\n",
      "ECG-UNET - INFO - Checkpoint 54 saved!\n"
     ]
    },
    {
     "name": "stderr",
     "output_type": "stream",
     "text": [
      "Epoch 54/300: 100%|████████████████████████████████████████████| 1600/1600 [00:06<00:00, 255.97it/s]\n",
      "Epoch 55/300:  16%|████▏                     | 256/1600 [00:01<00:06, 198.01it/s, loss (batch)=0.29]"
     ]
    },
    {
     "name": "stdout",
     "output_type": "stream",
     "text": [
      "ECG-UNET - INFO - Train step_380: loss : 0.29002195596694946\n"
     ]
    },
    {
     "name": "stderr",
     "output_type": "stream",
     "text": [
      "Epoch 55/300:  96%|███████████████████████ | 1536/1600 [00:02<00:00, 1000.30it/s, loss (batch)=0.29]"
     ]
    },
    {
     "name": "stdout",
     "output_type": "stream",
     "text": [
      "QRS_acc: 0.9418\n",
      "Scoring complete.\n",
      "QRS_acc: 0.8502\n",
      "Scoring complete.\n",
      "ECG-UNET - INFO - \n",
      "Train epoch_55:\n",
      "--------------------\n",
      "train/epoch_loss:        2.016342908143997\n",
      "train/qrs_score:         0.9418\n",
      "\n",
      "test/qrs_score:          0.8502\n",
      "---------------------------------\n",
      "\n",
      "ECG-UNET - INFO - Checkpoint 55 saved!\n"
     ]
    },
    {
     "name": "stderr",
     "output_type": "stream",
     "text": [
      "Epoch 55/300: 100%|█████████████████████████| 1600/1600 [00:06<00:00, 259.75it/s, loss (batch)=0.29]\n",
      "Epoch 56/300:  96%|██████████████████████████████████████████▏ | 1536/1600 [00:02<00:00, 980.85it/s]"
     ]
    },
    {
     "name": "stdout",
     "output_type": "stream",
     "text": [
      "QRS_acc: 0.9364\n",
      "Scoring complete.\n",
      "QRS_acc: 0.8458\n",
      "Scoring complete.\n",
      "ECG-UNET - INFO - \n",
      "Train epoch_56:\n",
      "--------------------\n",
      "train/epoch_loss:        2.007200449705124\n",
      "train/qrs_score:         0.9364\n",
      "\n",
      "test/qrs_score:          0.8458\n",
      "---------------------------------\n",
      "\n",
      "ECG-UNET - INFO - Checkpoint 56 saved!\n"
     ]
    },
    {
     "name": "stderr",
     "output_type": "stream",
     "text": [
      "Epoch 56/300: 100%|████████████████████████████████████████████| 1600/1600 [00:06<00:00, 262.55it/s]\n",
      "Epoch 57/300:  96%|██████████████████████████████████████████▏ | 1536/1600 [00:02<00:00, 980.74it/s]"
     ]
    },
    {
     "name": "stdout",
     "output_type": "stream",
     "text": [
      "QRS_acc: 0.8978\n",
      "Scoring complete.\n",
      "QRS_acc: 0.8248\n",
      "Scoring complete.\n",
      "ECG-UNET - INFO - \n",
      "Train epoch_57:\n",
      "--------------------\n",
      "train/epoch_loss:        1.9962762892246246\n",
      "train/qrs_score:         0.8978\n",
      "\n",
      "test/qrs_score:          0.8248\n",
      "---------------------------------\n",
      "\n",
      "ECG-UNET - INFO - Checkpoint 57 saved!\n"
     ]
    },
    {
     "name": "stderr",
     "output_type": "stream",
     "text": [
      "Epoch 57/300: 100%|████████████████████████████████████████████| 1600/1600 [00:06<00:00, 263.50it/s]\n",
      "Epoch 58/300:   0%|                                    | 0/1600 [00:01<?, ?it/s, loss (batch)=0.285]"
     ]
    },
    {
     "name": "stdout",
     "output_type": "stream",
     "text": [
      "ECG-UNET - INFO - Train step_400: loss : 0.2853158712387085\n"
     ]
    },
    {
     "name": "stderr",
     "output_type": "stream",
     "text": [
      "Epoch 58/300:  96%|███████████████████████ | 1536/1600 [00:02<00:00, 992.56it/s, loss (batch)=0.285]"
     ]
    },
    {
     "name": "stdout",
     "output_type": "stream",
     "text": [
      "QRS_acc: 0.9427\n",
      "Scoring complete.\n",
      "QRS_acc: 0.8568\n",
      "Scoring complete.\n",
      "ECG-UNET - INFO - \n",
      "Train epoch_58:\n",
      "--------------------\n",
      "train/epoch_loss:        1.980506807565689\n",
      "train/qrs_score:         0.9427\n",
      "\n",
      "test/qrs_score:          0.8568\n",
      "---------------------------------\n",
      "\n",
      "ECG-UNET - INFO - Checkpoint 58 saved!\n"
     ]
    },
    {
     "name": "stderr",
     "output_type": "stream",
     "text": [
      "Epoch 58/300: 100%|████████████████████████| 1600/1600 [00:06<00:00, 259.50it/s, loss (batch)=0.285]\n",
      "Epoch 59/300:  96%|██████████████████████████████████████████▏ | 1536/1600 [00:02<00:00, 995.35it/s]"
     ]
    },
    {
     "name": "stdout",
     "output_type": "stream",
     "text": [
      "QRS_acc: 0.9408\n",
      "Scoring complete.\n",
      "QRS_acc: 0.8595\n",
      "Scoring complete.\n",
      "ECG-UNET - INFO - \n",
      "Train epoch_59:\n",
      "--------------------\n",
      "train/epoch_loss:        1.9599075317382812\n",
      "train/qrs_score:         0.9408\n",
      "\n",
      "test/qrs_score:          0.8595\n",
      "---------------------------------\n",
      "\n",
      "ECG-UNET - INFO - Checkpoint 59 saved!\n"
     ]
    },
    {
     "name": "stderr",
     "output_type": "stream",
     "text": [
      "Epoch 59/300: 100%|████████████████████████████████████████████| 1600/1600 [00:06<00:00, 263.49it/s]\n",
      "Epoch 60/300:  96%|███████████████████████ | 1536/1600 [00:02<00:00, 957.58it/s, loss (batch)=0.273]"
     ]
    },
    {
     "name": "stdout",
     "output_type": "stream",
     "text": [
      "ECG-UNET - INFO - Train step_420: loss : 0.27315253019332886\n",
      "QRS_acc: 0.9462\n",
      "Scoring complete.\n",
      "QRS_acc: 0.848\n",
      "Scoring complete.\n",
      "ECG-UNET - INFO - \n",
      "Train epoch_60:\n",
      "--------------------\n",
      "train/epoch_loss:        1.9384470880031586\n",
      "train/qrs_score:         0.9462\n",
      "\n",
      "test/qrs_score:          0.848\n",
      "---------------------------------\n",
      "\n",
      "ECG-UNET - INFO - Checkpoint 60 saved!\n"
     ]
    },
    {
     "name": "stderr",
     "output_type": "stream",
     "text": [
      "Epoch 60/300: 100%|████████████████████████| 1600/1600 [00:06<00:00, 258.03it/s, loss (batch)=0.273]\n",
      "Epoch 61/300:  96%|██████████████████████████████████████████▏ | 1536/1600 [00:02<00:00, 953.41it/s]"
     ]
    },
    {
     "name": "stdout",
     "output_type": "stream",
     "text": [
      "QRS_acc: 0.9444\n",
      "Scoring complete.\n",
      "QRS_acc: 0.8435\n",
      "Scoring complete.\n",
      "ECG-UNET - INFO - \n",
      "Train epoch_61:\n",
      "--------------------\n",
      "train/epoch_loss:        1.930581122636795\n",
      "train/qrs_score:         0.9444\n",
      "\n",
      "test/qrs_score:          0.8435\n",
      "---------------------------------\n",
      "\n",
      "ECG-UNET - INFO - Checkpoint 61 saved!\n"
     ]
    },
    {
     "name": "stderr",
     "output_type": "stream",
     "text": [
      "Epoch 61/300: 100%|████████████████████████████████████████████| 1600/1600 [00:06<00:00, 256.38it/s]\n",
      "Epoch 62/300:  96%|██████████████████████████████████████████▏ | 1536/1600 [00:02<00:00, 977.46it/s]"
     ]
    },
    {
     "name": "stdout",
     "output_type": "stream",
     "text": [
      "QRS_acc: 0.9496\n",
      "Scoring complete.\n",
      "QRS_acc: 0.862\n",
      "Scoring complete.\n",
      "ECG-UNET - INFO - \n",
      "Train epoch_62:\n",
      "--------------------\n",
      "train/epoch_loss:        1.917101800441742\n",
      "train/qrs_score:         0.9496\n",
      "\n",
      "test/qrs_score:          0.862\n",
      "---------------------------------\n",
      "\n",
      "ECG-UNET - INFO - Checkpoint 62 saved!\n"
     ]
    },
    {
     "name": "stderr",
     "output_type": "stream",
     "text": [
      "Epoch 62/300: 100%|████████████████████████████████████████████| 1600/1600 [00:06<00:00, 263.72it/s]\n",
      "Epoch 63/300:  80%|███████████████████▏    | 1280/1600 [00:02<00:00, 867.43it/s, loss (batch)=0.268]"
     ]
    },
    {
     "name": "stdout",
     "output_type": "stream",
     "text": [
      "ECG-UNET - INFO - Train step_440: loss : 0.26786619424819946\n"
     ]
    },
    {
     "name": "stderr",
     "output_type": "stream",
     "text": [
      "\r",
      "Epoch 63/300:  96%|███████████████████████ | 1536/1600 [00:02<00:00, 915.35it/s, loss (batch)=0.268]"
     ]
    },
    {
     "name": "stdout",
     "output_type": "stream",
     "text": [
      "QRS_acc: 0.9479\n",
      "Scoring complete.\n",
      "QRS_acc: 0.8642\n",
      "Scoring complete.\n",
      "ECG-UNET - INFO - \n",
      "Train epoch_63:\n",
      "--------------------\n",
      "train/epoch_loss:        1.902089536190033\n",
      "train/qrs_score:         0.9479\n",
      "\n",
      "test/qrs_score:          0.8642\n",
      "---------------------------------\n",
      "\n",
      "ECG-UNET - INFO - Checkpoint 63 saved!\n"
     ]
    },
    {
     "name": "stderr",
     "output_type": "stream",
     "text": [
      "Epoch 63/300: 100%|████████████████████████| 1600/1600 [00:06<00:00, 259.82it/s, loss (batch)=0.268]\n",
      "Epoch 64/300:  96%|█████████████████████████████████████████▎ | 1536/1600 [00:02<00:00, 1004.17it/s]"
     ]
    },
    {
     "name": "stdout",
     "output_type": "stream",
     "text": [
      "QRS_acc: 0.9195\n",
      "Scoring complete.\n",
      "QRS_acc: 0.831\n",
      "Scoring complete.\n",
      "ECG-UNET - INFO - \n",
      "Train epoch_64:\n",
      "--------------------\n",
      "train/epoch_loss:        1.888247698545456\n",
      "train/qrs_score:         0.9195\n",
      "\n",
      "test/qrs_score:          0.831\n",
      "---------------------------------\n",
      "\n",
      "ECG-UNET - INFO - Checkpoint 64 saved!\n"
     ]
    },
    {
     "name": "stderr",
     "output_type": "stream",
     "text": [
      "Epoch 64/300: 100%|████████████████████████████████████████████| 1600/1600 [00:06<00:00, 259.59it/s]\n",
      "Epoch 65/300:  96%|██████████████████████████████████████████▏ | 1536/1600 [00:02<00:00, 936.08it/s]"
     ]
    },
    {
     "name": "stdout",
     "output_type": "stream",
     "text": [
      "QRS_acc: 0.9093\n",
      "Scoring complete.\n",
      "QRS_acc: 0.8238\n",
      "Scoring complete.\n",
      "ECG-UNET - INFO - \n",
      "Train epoch_65:\n",
      "--------------------\n",
      "train/epoch_loss:        1.8794468641281128\n",
      "train/qrs_score:         0.9093\n",
      "\n",
      "test/qrs_score:          0.8238\n",
      "---------------------------------\n",
      "\n",
      "ECG-UNET - INFO - Checkpoint 65 saved!\n"
     ]
    },
    {
     "name": "stderr",
     "output_type": "stream",
     "text": [
      "Epoch 65/300: 100%|████████████████████████████████████████████| 1600/1600 [00:06<00:00, 258.53it/s]\n",
      "Epoch 66/300:  64%|███████████████▎        | 1024/1600 [00:02<00:00, 723.24it/s, loss (batch)=0.268]"
     ]
    },
    {
     "name": "stdout",
     "output_type": "stream",
     "text": [
      "ECG-UNET - INFO - Train step_460: loss : 0.2683834433555603\n"
     ]
    },
    {
     "name": "stderr",
     "output_type": "stream",
     "text": [
      "Epoch 66/300:  96%|███████████████████████ | 1536/1600 [00:02<00:00, 960.67it/s, loss (batch)=0.268]"
     ]
    },
    {
     "name": "stdout",
     "output_type": "stream",
     "text": [
      "QRS_acc: 0.938\n",
      "Scoring complete.\n",
      "QRS_acc: 0.8422\n",
      "Scoring complete.\n",
      "ECG-UNET - INFO - \n",
      "Train epoch_66:\n",
      "--------------------\n",
      "train/epoch_loss:        1.8631903529167175\n",
      "train/qrs_score:         0.938\n",
      "\n",
      "test/qrs_score:          0.8422\n",
      "---------------------------------\n",
      "\n",
      "ECG-UNET - INFO - Checkpoint 66 saved!\n"
     ]
    },
    {
     "name": "stderr",
     "output_type": "stream",
     "text": [
      "Epoch 66/300: 100%|████████████████████████| 1600/1600 [00:06<00:00, 258.21it/s, loss (batch)=0.268]\n",
      "Epoch 67/300:  96%|█████████████████████████████████████████▎ | 1536/1600 [00:02<00:00, 1011.89it/s]"
     ]
    },
    {
     "name": "stdout",
     "output_type": "stream",
     "text": [
      "QRS_acc: 0.9412\n",
      "Scoring complete.\n",
      "QRS_acc: 0.8605\n",
      "Scoring complete.\n",
      "ECG-UNET - INFO - \n",
      "Train epoch_67:\n",
      "--------------------\n",
      "train/epoch_loss:        1.8552697598934174\n",
      "train/qrs_score:         0.9412\n",
      "\n",
      "test/qrs_score:          0.8605\n",
      "---------------------------------\n",
      "\n",
      "ECG-UNET - INFO - Checkpoint 67 saved!\n"
     ]
    },
    {
     "name": "stderr",
     "output_type": "stream",
     "text": [
      "Epoch 67/300: 100%|████████████████████████████████████████████| 1600/1600 [00:06<00:00, 266.23it/s]\n",
      "Epoch 68/300:  96%|██████████████████████████████████████████▏ | 1536/1600 [00:02<00:00, 946.91it/s]"
     ]
    },
    {
     "name": "stdout",
     "output_type": "stream",
     "text": [
      "QRS_acc: 0.9468\n",
      "Scoring complete.\n",
      "QRS_acc: 0.8552\n",
      "Scoring complete.\n",
      "ECG-UNET - INFO - \n",
      "Train epoch_68:\n",
      "--------------------\n",
      "train/epoch_loss:        1.8421733975410461\n",
      "train/qrs_score:         0.9468\n",
      "\n",
      "test/qrs_score:          0.8552\n",
      "---------------------------------\n",
      "\n",
      "ECG-UNET - INFO - Checkpoint 68 saved!\n"
     ]
    },
    {
     "name": "stderr",
     "output_type": "stream",
     "text": [
      "Epoch 68/300: 100%|████████████████████████████████████████████| 1600/1600 [00:06<00:00, 257.94it/s]\n",
      "Epoch 69/300:  48%|████████████▍             | 768/1600 [00:01<00:01, 597.70it/s, loss (batch)=0.26]"
     ]
    },
    {
     "name": "stdout",
     "output_type": "stream",
     "text": [
      "ECG-UNET - INFO - Train step_480: loss : 0.26017022132873535\n"
     ]
    },
    {
     "name": "stderr",
     "output_type": "stream",
     "text": [
      "Epoch 69/300:  96%|███████████████████████ | 1536/1600 [00:02<00:00, 1006.27it/s, loss (batch)=0.26]"
     ]
    },
    {
     "name": "stdout",
     "output_type": "stream",
     "text": [
      "QRS_acc: 0.9511\n",
      "Scoring complete.\n",
      "QRS_acc: 0.858\n",
      "Scoring complete.\n",
      "ECG-UNET - INFO - \n",
      "Train epoch_69:\n",
      "--------------------\n",
      "train/epoch_loss:        1.818394422531128\n",
      "train/qrs_score:         0.9511\n",
      "\n",
      "test/qrs_score:          0.858\n",
      "---------------------------------\n",
      "\n",
      "ECG-UNET - INFO - Checkpoint 69 saved!\n"
     ]
    },
    {
     "name": "stderr",
     "output_type": "stream",
     "text": [
      "Epoch 69/300: 100%|█████████████████████████| 1600/1600 [00:06<00:00, 260.83it/s, loss (batch)=0.26]\n",
      "Epoch 70/300:  96%|█████████████████████████████████████████▎ | 1536/1600 [00:02<00:00, 1001.53it/s]"
     ]
    },
    {
     "name": "stdout",
     "output_type": "stream",
     "text": [
      "QRS_acc: 0.9572\n",
      "Scoring complete.\n",
      "QRS_acc: 0.8688\n",
      "Scoring complete.\n",
      "ECG-UNET - INFO - \n",
      "Train epoch_70:\n",
      "--------------------\n",
      "train/epoch_loss:        1.8062008023262024\n",
      "train/qrs_score:         0.9572\n",
      "\n",
      "test/qrs_score:          0.8688\n",
      "---------------------------------\n",
      "\n",
      "ECG-UNET - INFO - Checkpoint 70 saved!\n"
     ]
    },
    {
     "name": "stderr",
     "output_type": "stream",
     "text": [
      "Epoch 70/300: 100%|████████████████████████████████████████████| 1600/1600 [00:06<00:00, 261.16it/s]\n",
      "Epoch 71/300:  96%|██████████████████████████████████████████▏ | 1536/1600 [00:02<00:00, 995.34it/s]"
     ]
    },
    {
     "name": "stdout",
     "output_type": "stream",
     "text": [
      "QRS_acc: 0.9525\n",
      "Scoring complete.\n",
      "QRS_acc: 0.8652\n",
      "Scoring complete.\n",
      "ECG-UNET - INFO - \n",
      "Train epoch_71:\n",
      "--------------------\n",
      "train/epoch_loss:        1.793829619884491\n",
      "train/qrs_score:         0.9525\n",
      "\n",
      "test/qrs_score:          0.8652\n",
      "---------------------------------\n",
      "\n",
      "ECG-UNET - INFO - Checkpoint 71 saved!\n"
     ]
    },
    {
     "name": "stderr",
     "output_type": "stream",
     "text": [
      "Epoch 71/300: 100%|████████████████████████████████████████████| 1600/1600 [00:06<00:00, 257.18it/s]\n",
      "Epoch 72/300:  32%|████████                 | 512/1600 [00:01<00:02, 404.83it/s, loss (batch)=0.257]"
     ]
    },
    {
     "name": "stdout",
     "output_type": "stream",
     "text": [
      "ECG-UNET - INFO - Train step_500: loss : 0.2565072476863861\n"
     ]
    },
    {
     "name": "stderr",
     "output_type": "stream",
     "text": [
      "Epoch 72/300:  96%|██████████████████████ | 1536/1600 [00:02<00:00, 1000.12it/s, loss (batch)=0.257]"
     ]
    },
    {
     "name": "stdout",
     "output_type": "stream",
     "text": [
      "QRS_acc: 0.9564\n",
      "Scoring complete.\n",
      "QRS_acc: 0.8592\n",
      "Scoring complete.\n",
      "ECG-UNET - INFO - \n",
      "Train epoch_72:\n",
      "--------------------\n",
      "train/epoch_loss:        1.7934643924236298\n",
      "train/qrs_score:         0.9564\n",
      "\n",
      "test/qrs_score:          0.8592\n",
      "---------------------------------\n",
      "\n",
      "ECG-UNET - INFO - Checkpoint 72 saved!\n"
     ]
    },
    {
     "name": "stderr",
     "output_type": "stream",
     "text": [
      "Epoch 72/300: 100%|████████████████████████| 1600/1600 [00:06<00:00, 264.51it/s, loss (batch)=0.257]\n",
      "Epoch 73/300:  96%|██████████████████████████████████████████▏ | 1536/1600 [00:02<00:00, 968.86it/s]"
     ]
    },
    {
     "name": "stdout",
     "output_type": "stream",
     "text": [
      "QRS_acc: 0.9497\n",
      "Scoring complete.\n",
      "QRS_acc: 0.8508\n",
      "Scoring complete.\n",
      "ECG-UNET - INFO - \n",
      "Train epoch_73:\n",
      "--------------------\n",
      "train/epoch_loss:        1.7763111293315887\n",
      "train/qrs_score:         0.9497\n",
      "\n",
      "test/qrs_score:          0.8508\n",
      "---------------------------------\n",
      "\n",
      "ECG-UNET - INFO - Checkpoint 73 saved!\n"
     ]
    },
    {
     "name": "stderr",
     "output_type": "stream",
     "text": [
      "Epoch 73/300: 100%|████████████████████████████████████████████| 1600/1600 [00:06<00:00, 261.55it/s]\n",
      "Epoch 74/300:  96%|██████████████████████████████████████████▏ | 1536/1600 [00:02<00:00, 981.67it/s]"
     ]
    },
    {
     "name": "stdout",
     "output_type": "stream",
     "text": [
      "QRS_acc: 0.956\n",
      "Scoring complete.\n",
      "QRS_acc: 0.8565\n",
      "Scoring complete.\n",
      "ECG-UNET - INFO - \n",
      "Train epoch_74:\n",
      "--------------------\n",
      "train/epoch_loss:        1.7672497183084488\n",
      "train/qrs_score:         0.956\n",
      "\n",
      "test/qrs_score:          0.8565\n",
      "---------------------------------\n",
      "\n",
      "ECG-UNET - INFO - Checkpoint 74 saved!\n"
     ]
    },
    {
     "name": "stderr",
     "output_type": "stream",
     "text": [
      "Epoch 74/300: 100%|████████████████████████████████████████████| 1600/1600 [00:06<00:00, 259.53it/s]\n",
      "Epoch 75/300:  16%|████                     | 256/1600 [00:01<00:06, 206.36it/s, loss (batch)=0.253]"
     ]
    },
    {
     "name": "stdout",
     "output_type": "stream",
     "text": [
      "ECG-UNET - INFO - Train step_520: loss : 0.2532390058040619\n"
     ]
    },
    {
     "name": "stderr",
     "output_type": "stream",
     "text": [
      "Epoch 75/300:  96%|███████████████████████ | 1536/1600 [00:02<00:00, 974.21it/s, loss (batch)=0.253]"
     ]
    },
    {
     "name": "stdout",
     "output_type": "stream",
     "text": [
      "QRS_acc: 0.9371\n",
      "Scoring complete.\n",
      "QRS_acc: 0.8322\n",
      "Scoring complete.\n",
      "ECG-UNET - INFO - \n",
      "Train epoch_75:\n",
      "--------------------\n",
      "train/epoch_loss:        1.7540912479162216\n",
      "train/qrs_score:         0.9371\n",
      "\n",
      "test/qrs_score:          0.8322\n",
      "---------------------------------\n",
      "\n",
      "ECG-UNET - INFO - Checkpoint 75 saved!\n"
     ]
    },
    {
     "name": "stderr",
     "output_type": "stream",
     "text": [
      "Epoch 75/300: 100%|████████████████████████| 1600/1600 [00:06<00:00, 259.44it/s, loss (batch)=0.253]\n",
      "Epoch 76/300:  96%|█████████████████████████████████████████▎ | 1536/1600 [00:02<00:00, 1004.67it/s]"
     ]
    },
    {
     "name": "stdout",
     "output_type": "stream",
     "text": [
      "QRS_acc: 0.9562\n",
      "Scoring complete.\n",
      "QRS_acc: 0.856\n",
      "Scoring complete.\n",
      "ECG-UNET - INFO - \n",
      "Train epoch_76:\n",
      "--------------------\n",
      "train/epoch_loss:        1.7347178906202316\n",
      "train/qrs_score:         0.9562\n",
      "\n",
      "test/qrs_score:          0.856\n",
      "---------------------------------\n",
      "\n",
      "ECG-UNET - INFO - Checkpoint 76 saved!\n"
     ]
    },
    {
     "name": "stderr",
     "output_type": "stream",
     "text": [
      "Epoch 76/300: 100%|████████████████████████████████████████████| 1600/1600 [00:06<00:00, 265.25it/s]\n",
      "Epoch 77/300:  96%|█████████████████████████████████████████▎ | 1536/1600 [00:02<00:00, 1002.88it/s]"
     ]
    },
    {
     "name": "stdout",
     "output_type": "stream",
     "text": [
      "QRS_acc: 0.9329\n",
      "Scoring complete.\n",
      "QRS_acc: 0.8432\n",
      "Scoring complete.\n",
      "ECG-UNET - INFO - \n",
      "Train epoch_77:\n",
      "--------------------\n",
      "train/epoch_loss:        1.7320889830589294\n",
      "train/qrs_score:         0.9329\n",
      "\n",
      "test/qrs_score:          0.8432\n",
      "---------------------------------\n",
      "\n",
      "ECG-UNET - INFO - Checkpoint 77 saved!\n"
     ]
    },
    {
     "name": "stderr",
     "output_type": "stream",
     "text": [
      "Epoch 77/300: 100%|████████████████████████████████████████████| 1600/1600 [00:06<00:00, 264.77it/s]\n",
      "Epoch 78/300:   0%|                                    | 0/1600 [00:01<?, ?it/s, loss (batch)=0.247]"
     ]
    },
    {
     "name": "stdout",
     "output_type": "stream",
     "text": [
      "ECG-UNET - INFO - Train step_540: loss : 0.2467094212770462\n"
     ]
    },
    {
     "name": "stderr",
     "output_type": "stream",
     "text": [
      "Epoch 78/300:  96%|███████████████████████ | 1536/1600 [00:02<00:00, 959.37it/s, loss (batch)=0.247]"
     ]
    },
    {
     "name": "stdout",
     "output_type": "stream",
     "text": [
      "QRS_acc: 0.9504\n",
      "Scoring complete.\n",
      "QRS_acc: 0.8497\n",
      "Scoring complete.\n",
      "ECG-UNET - INFO - \n",
      "Train epoch_78:\n",
      "--------------------\n",
      "train/epoch_loss:        1.724078193306923\n",
      "train/qrs_score:         0.9504\n",
      "\n",
      "test/qrs_score:          0.8497\n",
      "---------------------------------\n",
      "\n",
      "ECG-UNET - INFO - Checkpoint 78 saved!\n"
     ]
    },
    {
     "name": "stderr",
     "output_type": "stream",
     "text": [
      "Epoch 78/300: 100%|████████████████████████| 1600/1600 [00:06<00:00, 260.90it/s, loss (batch)=0.247]\n",
      "Epoch 79/300:  96%|██████████████████████████████████████████▏ | 1536/1600 [00:02<00:00, 993.68it/s]"
     ]
    },
    {
     "name": "stdout",
     "output_type": "stream",
     "text": [
      "QRS_acc: 0.9414\n",
      "Scoring complete.\n",
      "QRS_acc: 0.8505\n",
      "Scoring complete.\n",
      "ECG-UNET - INFO - \n",
      "Train epoch_79:\n",
      "--------------------\n",
      "train/epoch_loss:        1.7132462710142136\n",
      "train/qrs_score:         0.9414\n",
      "\n",
      "test/qrs_score:          0.8505\n",
      "---------------------------------\n",
      "\n",
      "ECG-UNET - INFO - Checkpoint 79 saved!\n"
     ]
    },
    {
     "name": "stderr",
     "output_type": "stream",
     "text": [
      "Epoch 79/300: 100%|████████████████████████████████████████████| 1600/1600 [00:06<00:00, 261.36it/s]\n",
      "Epoch 80/300:  96%|███████████████████████ | 1536/1600 [00:02<00:00, 952.01it/s, loss (batch)=0.241]"
     ]
    },
    {
     "name": "stdout",
     "output_type": "stream",
     "text": [
      "ECG-UNET - INFO - Train step_560: loss : 0.2413533627986908\n",
      "QRS_acc: 0.9636\n",
      "Scoring complete.\n",
      "QRS_acc: 0.8597\n",
      "Scoring complete.\n",
      "ECG-UNET - INFO - \n",
      "Train epoch_80:\n",
      "--------------------\n",
      "train/epoch_loss:        1.6938151270151138\n",
      "train/qrs_score:         0.9636\n",
      "\n",
      "test/qrs_score:          0.8597\n",
      "---------------------------------\n",
      "\n",
      "ECG-UNET - INFO - Checkpoint 80 saved!\n"
     ]
    },
    {
     "name": "stderr",
     "output_type": "stream",
     "text": [
      "Epoch 80/300: 100%|████████████████████████| 1600/1600 [00:06<00:00, 259.61it/s, loss (batch)=0.241]\n",
      "Epoch 81/300:  96%|██████████████████████████████████████████▏ | 1536/1600 [00:02<00:00, 967.04it/s]"
     ]
    },
    {
     "name": "stdout",
     "output_type": "stream",
     "text": [
      "QRS_acc: 0.9598\n",
      "Scoring complete.\n",
      "QRS_acc: 0.858\n",
      "Scoring complete.\n",
      "ECG-UNET - INFO - \n",
      "Train epoch_81:\n",
      "--------------------\n",
      "train/epoch_loss:        1.6783186346292496\n",
      "train/qrs_score:         0.9598\n",
      "\n",
      "test/qrs_score:          0.858\n",
      "---------------------------------\n",
      "\n",
      "ECG-UNET - INFO - Checkpoint 81 saved!\n"
     ]
    },
    {
     "name": "stderr",
     "output_type": "stream",
     "text": [
      "Epoch 81/300: 100%|████████████████████████████████████████████| 1600/1600 [00:06<00:00, 260.94it/s]\n",
      "Epoch 82/300:  96%|██████████████████████████████████████████▏ | 1536/1600 [00:02<00:00, 982.94it/s]"
     ]
    },
    {
     "name": "stdout",
     "output_type": "stream",
     "text": [
      "QRS_acc: 0.9614\n",
      "Scoring complete.\n",
      "QRS_acc: 0.865\n",
      "Scoring complete.\n",
      "ECG-UNET - INFO - \n",
      "Train epoch_82:\n",
      "--------------------\n",
      "train/epoch_loss:        1.665160283446312\n",
      "train/qrs_score:         0.9614\n",
      "\n",
      "test/qrs_score:          0.865\n",
      "---------------------------------\n",
      "\n",
      "ECG-UNET - INFO - Checkpoint 82 saved!\n"
     ]
    },
    {
     "name": "stderr",
     "output_type": "stream",
     "text": [
      "Epoch 82/300: 100%|████████████████████████████████████████████| 1600/1600 [00:06<00:00, 263.20it/s]\n",
      "Epoch 83/300:  80%|███████████████████▏    | 1280/1600 [00:02<00:00, 852.16it/s, loss (batch)=0.233]"
     ]
    },
    {
     "name": "stdout",
     "output_type": "stream",
     "text": [
      "ECG-UNET - INFO - Train step_580: loss : 0.23330004513263702\n"
     ]
    },
    {
     "name": "stderr",
     "output_type": "stream",
     "text": [
      "\r",
      "Epoch 83/300:  96%|███████████████████████ | 1536/1600 [00:02<00:00, 906.94it/s, loss (batch)=0.233]"
     ]
    },
    {
     "name": "stdout",
     "output_type": "stream",
     "text": [
      "QRS_acc: 0.9364\n",
      "Scoring complete.\n",
      "QRS_acc: 0.827\n",
      "Scoring complete.\n",
      "ECG-UNET - INFO - \n",
      "Train epoch_83:\n",
      "--------------------\n",
      "train/epoch_loss:        1.6517183780670166\n",
      "train/qrs_score:         0.9364\n",
      "\n",
      "test/qrs_score:          0.827\n",
      "---------------------------------\n",
      "\n",
      "ECG-UNET - INFO - Checkpoint 83 saved!\n"
     ]
    },
    {
     "name": "stderr",
     "output_type": "stream",
     "text": [
      "Epoch 83/300: 100%|████████████████████████| 1600/1600 [00:06<00:00, 251.38it/s, loss (batch)=0.233]\n",
      "Epoch 84/300:  96%|██████████████████████████████████████████▏ | 1536/1600 [00:02<00:00, 982.30it/s]"
     ]
    },
    {
     "name": "stdout",
     "output_type": "stream",
     "text": [
      "QRS_acc: 0.9539\n",
      "Scoring complete.\n",
      "QRS_acc: 0.8635\n",
      "Scoring complete.\n",
      "ECG-UNET - INFO - \n",
      "Train epoch_84:\n",
      "--------------------\n",
      "train/epoch_loss:        1.6475488543510437\n",
      "train/qrs_score:         0.9539\n",
      "\n",
      "test/qrs_score:          0.8635\n",
      "---------------------------------\n",
      "\n",
      "ECG-UNET - INFO - Checkpoint 84 saved!\n"
     ]
    },
    {
     "name": "stderr",
     "output_type": "stream",
     "text": [
      "Epoch 84/300: 100%|████████████████████████████████████████████| 1600/1600 [00:06<00:00, 260.36it/s]\n",
      "Epoch 85/300:  96%|██████████████████████████████████████████▏ | 1536/1600 [00:02<00:00, 961.83it/s]"
     ]
    },
    {
     "name": "stdout",
     "output_type": "stream",
     "text": [
      "QRS_acc: 0.9584\n",
      "Scoring complete.\n",
      "QRS_acc: 0.8512\n",
      "Scoring complete.\n",
      "ECG-UNET - INFO - \n",
      "Train epoch_85:\n",
      "--------------------\n",
      "train/epoch_loss:        1.6327774673700333\n",
      "train/qrs_score:         0.9584\n",
      "\n",
      "test/qrs_score:          0.8512\n",
      "---------------------------------\n",
      "\n",
      "ECG-UNET - INFO - Checkpoint 85 saved!\n"
     ]
    },
    {
     "name": "stderr",
     "output_type": "stream",
     "text": [
      "Epoch 85/300: 100%|████████████████████████████████████████████| 1600/1600 [00:06<00:00, 256.74it/s]\n",
      "Epoch 86/300:  64%|███████████████▎        | 1024/1600 [00:02<00:00, 742.70it/s, loss (batch)=0.229]"
     ]
    },
    {
     "name": "stdout",
     "output_type": "stream",
     "text": [
      "ECG-UNET - INFO - Train step_600: loss : 0.22910356521606445\n"
     ]
    },
    {
     "name": "stderr",
     "output_type": "stream",
     "text": [
      "Epoch 86/300:  96%|███████████████████████ | 1536/1600 [00:02<00:00, 987.70it/s, loss (batch)=0.229]"
     ]
    },
    {
     "name": "stdout",
     "output_type": "stream",
     "text": [
      "QRS_acc: 0.9647\n",
      "Scoring complete.\n",
      "QRS_acc: 0.8525\n",
      "Scoring complete.\n",
      "ECG-UNET - INFO - \n",
      "Train epoch_86:\n",
      "--------------------\n",
      "train/epoch_loss:        1.6162223517894745\n",
      "train/qrs_score:         0.9647\n",
      "\n",
      "test/qrs_score:          0.8525\n",
      "---------------------------------\n",
      "\n",
      "ECG-UNET - INFO - Checkpoint 86 saved!\n"
     ]
    },
    {
     "name": "stderr",
     "output_type": "stream",
     "text": [
      "Epoch 86/300: 100%|████████████████████████| 1600/1600 [00:06<00:00, 262.76it/s, loss (batch)=0.229]\n",
      "Epoch 87/300:  96%|██████████████████████████████████████████▏ | 1536/1600 [00:02<00:00, 958.72it/s]"
     ]
    },
    {
     "name": "stdout",
     "output_type": "stream",
     "text": [
      "QRS_acc: 0.9598\n",
      "Scoring complete.\n",
      "QRS_acc: 0.8632\n",
      "Scoring complete.\n",
      "ECG-UNET - INFO - \n",
      "Train epoch_87:\n",
      "--------------------\n",
      "train/epoch_loss:        1.6083958148956299\n",
      "train/qrs_score:         0.9598\n",
      "\n",
      "test/qrs_score:          0.8632\n",
      "---------------------------------\n",
      "\n",
      "ECG-UNET - INFO - early stopping is triggered at epoch 87\n"
     ]
    },
    {
     "name": "stderr",
     "output_type": "stream",
     "text": [
      "\r",
      "Epoch 87/300: 100%|████████████████████████████████████████████| 1600/1600 [00:06<00:00, 263.63it/s]"
     ]
    },
    {
     "name": "stdout",
     "output_type": "stream",
     "text": [
      "ECG-UNET - INFO - Best model saved to /home/wenh06/Jupyter/wenhao/workspace/torch_ecg/train/train_unet_cpsc2019/saved_models/ECG_UNET_CPSC2019_epoch_2021-06-22-14-02-00_BestModel_challenge_score(qrs_score)_0.8688.pth.tar!\n"
     ]
    },
    {
     "name": "stderr",
     "output_type": "stream",
     "text": [
      "\n"
     ]
    }
   ],
   "source": [
    "best_state_dict = train(\n",
    "    model=model,\n",
    "    model_config=model_config,\n",
    "    device=device,\n",
    "    config=config,\n",
    "    logger=logger,\n",
    "    debug=True,\n",
    ")"
   ]
  },
  {
   "cell_type": "code",
   "execution_count": null,
   "id": "41098b2c",
   "metadata": {},
   "outputs": [],
   "source": [
    "# best_state_dict"
   ]
  },
  {
   "cell_type": "code",
   "execution_count": null,
   "id": "5a85cc59",
   "metadata": {},
   "outputs": [],
   "source": []
  },
  {
   "cell_type": "code",
   "execution_count": null,
   "id": "e20837e4",
   "metadata": {
    "scrolled": true
   },
   "outputs": [],
   "source": [
    "# best_model = ECG_UNET_CPSC2019(\n",
    "#     n_leads=config.n_leads,\n",
    "#     config=model_config,\n",
    "# )"
   ]
  },
  {
   "cell_type": "code",
   "execution_count": null,
   "id": "95063391",
   "metadata": {},
   "outputs": [],
   "source": [
    "# best_model.load_state_dict(best_state_dict)"
   ]
  },
  {
   "cell_type": "code",
   "execution_count": null,
   "id": "87459241",
   "metadata": {},
   "outputs": [],
   "source": [
    "# best_model"
   ]
  },
  {
   "cell_type": "code",
   "execution_count": null,
   "id": "0e2a575d",
   "metadata": {},
   "outputs": [],
   "source": []
  },
  {
   "cell_type": "code",
   "execution_count": null,
   "id": "22b1c209",
   "metadata": {},
   "outputs": [],
   "source": []
  },
  {
   "cell_type": "code",
   "execution_count": null,
   "id": "f03f8996",
   "metadata": {},
   "outputs": [],
   "source": []
  },
  {
   "cell_type": "markdown",
   "id": "bdbc188a",
   "metadata": {},
   "source": [
    "# CPSC2019 subtract unet"
   ]
  },
  {
   "cell_type": "code",
   "execution_count": 14,
   "id": "6093fe03",
   "metadata": {},
   "outputs": [],
   "source": [
    "model_cfg = deepcopy(ModelCfg)\n",
    "model_cfg.model_name = \"subtract_unet\"\n",
    "\n",
    "config = deepcopy(TrainCfg)\n",
    "config.model_name = model_cfg.model_name"
   ]
  },
  {
   "cell_type": "code",
   "execution_count": 15,
   "id": "4c8c892b",
   "metadata": {},
   "outputs": [
    {
     "name": "stdout",
     "output_type": "stream",
     "text": [
      "log file path: /home/wenh06/Jupyter/wenhao/workspace/torch_ecg/train/train_unet_cpsc2019/log/log_2021-06-22-14-03-09.txt\n",
      "levels of c_handler and f_handler are set DEBUG\n",
      "ECG-UNET - INFO - \n",
      "********************   Start Training   ********************\n",
      "\n",
      "ECG-UNET - INFO - \n",
      "********************   Start Training   ********************\n",
      "\n",
      "ECG-UNET - INFO - Using device cuda\n",
      "ECG-UNET - INFO - Using device cuda\n",
      "ECG-UNET - INFO - Using torch of version 1.8.1+cu111\n",
      "ECG-UNET - INFO - Using torch of version 1.8.1+cu111\n",
      "ECG-UNET - INFO - with configuration\n",
      "{\n",
      "    \"fs\": 500\n",
      "    \"db_dir\": \"/home/wenh06/Jupyter/data/CPSC2019/\"\n",
      "    \"log_dir\": \"/home/wenh06/Jupyter/wenhao/workspace/torch_ecg/train/train_unet_cpsc2019/log\"\n",
      "    \"checkpoints\": \"/home/wenh06/Jupyter/wenhao/workspace/torch_ecg/train/train_unet_cpsc2019/checkpoints\"\n",
      "    \"model_dir\": \"/home/wenh06/Jupyter/wenhao/workspace/torch_ecg/train/train_unet_cpsc2019/saved_models\"\n",
      "    \"final_model_name\": None\n",
      "    \"keep_checkpoint_max\": 20\n",
      "    \"train_ratio\": 0.8\n",
      "    \"input_len\": 5000\n",
      "    \"classes\": [\n",
      "        \"N\"\n",
      "    ]\n",
      "    \"n_leads\": 1\n",
      "    \"bias_thr\": 37\n",
      "    \"skip_dist\": 250\n",
      "    \"label_smoothing\": 0.0\n",
      "    \"random_normalize\": True\n",
      "    \"random_normalize_mean\": [\n",
      "        -0.05, 0.1\n",
      "    ]\n",
      "    \"random_normalize_std\": [\n",
      "        0.08, 0.32\n",
      "    ]\n",
      "    \"baseline_wander\": True\n",
      "    \"bw\": True\n",
      "    \"bw_fs\": [0.33 0.1  0.05 0.01]\n",
      "    \"bw_ampl_ratio\": [[0.01 0.01 0.02 0.03]\n",
      " [0.01 0.02 0.04 0.05]\n",
      " [0.1  0.06 0.04 0.02]\n",
      " [0.02 0.04 0.07 0.1 ]\n",
      " [0.05 0.1  0.16 0.25]\n",
      " [0.1  0.15 0.25 0.3 ]\n",
      " [0.25 0.25 0.3  0.35]]\n",
      "    \"bw_gaussian\": [[0.    0.   ]\n",
      " [0.    0.   ]\n",
      " [0.    0.   ]\n",
      " [0.    0.003]\n",
      " [0.    0.01 ]]\n",
      "    \"flip\": [\n",
      "        -1, 1, 1, 1, 1\n",
      "    ]\n",
      "    \"n_epochs\": 300\n",
      "    \"batch_size\": 256\n",
      "    \"train_optimizer\": \"adamw_amsgrad\"\n",
      "    \"momentum\": 0.949\n",
      "    \"betas\": [\n",
      "        0.9, 0.999\n",
      "    ]\n",
      "    \"decay\": 0.01\n",
      "    \"learning_rate\": 0.001\n",
      "    \"lr\": 0.001\n",
      "    \"lr_scheduler\": None\n",
      "    \"lr_step_size\": 50\n",
      "    \"lr_gamma\": 0.1\n",
      "    \"max_lr\": 0.01\n",
      "    \"burn_in\": 400\n",
      "    \"steps\": [\n",
      "        5000, 10000\n",
      "    ]\n",
      "    \"early_stopping\": {\n",
      "        \"min_delta\": 0.001\n",
      "        \"patience\": 15\n",
      "    }\n",
      "    \"loss\": \"BCEWithLogitsLoss\"\n",
      "    \"flooding_level\": 0.0\n",
      "    \"log_step\": 20\n",
      "    \"eval_every\": 20\n",
      "    \"model_name\": \"subtract_unet\"\n",
      "}\n",
      "ECG-UNET - INFO - with configuration\n",
      "{\n",
      "    \"fs\": 500\n",
      "    \"db_dir\": \"/home/wenh06/Jupyter/data/CPSC2019/\"\n",
      "    \"log_dir\": \"/home/wenh06/Jupyter/wenhao/workspace/torch_ecg/train/train_unet_cpsc2019/log\"\n",
      "    \"checkpoints\": \"/home/wenh06/Jupyter/wenhao/workspace/torch_ecg/train/train_unet_cpsc2019/checkpoints\"\n",
      "    \"model_dir\": \"/home/wenh06/Jupyter/wenhao/workspace/torch_ecg/train/train_unet_cpsc2019/saved_models\"\n",
      "    \"final_model_name\": None\n",
      "    \"keep_checkpoint_max\": 20\n",
      "    \"train_ratio\": 0.8\n",
      "    \"input_len\": 5000\n",
      "    \"classes\": [\n",
      "        \"N\"\n",
      "    ]\n",
      "    \"n_leads\": 1\n",
      "    \"bias_thr\": 37\n",
      "    \"skip_dist\": 250\n",
      "    \"label_smoothing\": 0.0\n",
      "    \"random_normalize\": True\n",
      "    \"random_normalize_mean\": [\n",
      "        -0.05, 0.1\n",
      "    ]\n",
      "    \"random_normalize_std\": [\n",
      "        0.08, 0.32\n",
      "    ]\n",
      "    \"baseline_wander\": True\n",
      "    \"bw\": True\n",
      "    \"bw_fs\": [0.33 0.1  0.05 0.01]\n",
      "    \"bw_ampl_ratio\": [[0.01 0.01 0.02 0.03]\n",
      " [0.01 0.02 0.04 0.05]\n",
      " [0.1  0.06 0.04 0.02]\n",
      " [0.02 0.04 0.07 0.1 ]\n",
      " [0.05 0.1  0.16 0.25]\n",
      " [0.1  0.15 0.25 0.3 ]\n",
      " [0.25 0.25 0.3  0.35]]\n",
      "    \"bw_gaussian\": [[0.    0.   ]\n",
      " [0.    0.   ]\n",
      " [0.    0.   ]\n",
      " [0.    0.003]\n",
      " [0.    0.01 ]]\n",
      "    \"flip\": [\n",
      "        -1, 1, 1, 1, 1\n",
      "    ]\n",
      "    \"n_epochs\": 300\n",
      "    \"batch_size\": 256\n",
      "    \"train_optimizer\": \"adamw_amsgrad\"\n",
      "    \"momentum\": 0.949\n",
      "    \"betas\": [\n",
      "        0.9, 0.999\n",
      "    ]\n",
      "    \"decay\": 0.01\n",
      "    \"learning_rate\": 0.001\n",
      "    \"lr\": 0.001\n",
      "    \"lr_scheduler\": None\n",
      "    \"lr_step_size\": 50\n",
      "    \"lr_gamma\": 0.1\n",
      "    \"max_lr\": 0.01\n",
      "    \"burn_in\": 400\n",
      "    \"steps\": [\n",
      "        5000, 10000\n",
      "    ]\n",
      "    \"early_stopping\": {\n",
      "        \"min_delta\": 0.001\n",
      "        \"patience\": 15\n",
      "    }\n",
      "    \"loss\": \"BCEWithLogitsLoss\"\n",
      "    \"flooding_level\": 0.0\n",
      "    \"log_step\": 20\n",
      "    \"eval_every\": 20\n",
      "    \"model_name\": \"subtract_unet\"\n",
      "}\n",
      "configuration of ECG_SUBTRACT_UNET_CPSC2019 is as follows\n",
      "{\n",
      "    \"fs\": 500,\n",
      "    \"classes\": [\n",
      "        \"N\"\n",
      "    ],\n",
      "    \"n_leads\": 1,\n",
      "    \"skip_dist\": 250,\n",
      "    \"torch_dtype\": \"float\",\n",
      "    \"groups\": 1,\n",
      "    \"init_batch_norm\": False,\n",
      "    \"init_num_filters\": 16,\n",
      "    \"init_filter_length\": 21,\n",
      "    \"init_dropouts\": [\n",
      "        0.0, 0.15, 0.0\n",
      "    ],\n",
      "    \"batch_norm\": True,\n",
      "    \"kernel_initializer\": \"he_normal\",\n",
      "    \"kw_initializer\": {},\n",
      "    \"activation\": \"relu\",\n",
      "    \"kw_activation\": {\n",
      "        \"inplace\": True\n",
      "    },\n",
      "    \"down_up_block_num\": 3,\n",
      "    \"down_mode\": \"max\",\n",
      "    \"down_scales\": [\n",
      "        10, 5, 2\n",
      "    ],\n",
      "    \"down_num_filters\": [\n",
      "        [\n",
      "            24, 24, 24\n",
      "        ],\n",
      "        [\n",
      "            48, 48, 48\n",
      "        ]\n",
      "    ],\n",
      "    \"down_filter_lengths\": [\n",
      "        11, 5\n",
      "    ],\n",
      "    \"down_dropouts\": [\n",
      "        [\n",
      "            0.0, 0.15, 0.0\n",
      "        ],\n",
      "        [\n",
      "            0.0, 0.15, 0.0\n",
      "        ]\n",
      "    ],\n",
      "    \"bottom_num_filters\": [\n",
      "        [\n",
      "            96, 96\n",
      "        ],\n",
      "        [\n",
      "            96, 96\n",
      "        ]\n",
      "    ],\n",
      "    \"bottom_filter_lengths\": [\n",
      "        [\n",
      "            5, 5\n",
      "        ],\n",
      "        [\n",
      "            5, 5\n",
      "        ]\n",
      "    ],\n",
      "    \"bottom_dilations\": [\n",
      "        [\n",
      "            1, 1\n",
      "        ],\n",
      "        [\n",
      "            10, 10\n",
      "        ]\n",
      "    ],\n",
      "    \"bottom_dropouts\": [\n",
      "        [\n",
      "            0.15, 0.0\n",
      "        ],\n",
      "        [\n",
      "            0.15, 0.0\n",
      "        ]\n",
      "    ],\n",
      "    \"up_mode\": \"nearest\",\n",
      "    \"up_scales\": [\n",
      "        2, 5, 10\n",
      "    ],\n",
      "    \"up_num_filters\": [\n",
      "        [\n",
      "            48, 48, 48\n",
      "        ],\n",
      "        [\n",
      "            24, 24, 24\n",
      "        ],\n",
      "        [\n",
      "            16, 16, 16\n",
      "        ]\n",
      "    ],\n",
      "    \"up_deconv_filter_lengths\": [\n",
      "        9, 9, 9\n",
      "    ],\n",
      "    \"up_conv_filter_lengths\": [\n",
      "        5, 11, 21\n",
      "    ],\n",
      "    \"up_dropouts\": [\n",
      "        [\n",
      "            0.15, 0.15, 0.0\n",
      "        ],\n",
      "        [\n",
      "            0.15, 0.15, 0.0\n",
      "        ],\n",
      "        [\n",
      "            0.15, 0.15, 0.0\n",
      "        ]\n",
      "    ],\n",
      "    \"down_block\": {\n",
      "        \"batch_norm\": True,\n",
      "        \"kernel_initializer\": \"he_normal\",\n",
      "        \"kw_initializer\": {},\n",
      "        \"activation\": \"relu\",\n",
      "        \"kw_activation\": {\n",
      "            \"inplace\": True\n",
      "        }\n",
      "    },\n",
      "    \"up_block\": {\n",
      "        \"batch_norm\": True,\n",
      "        \"kernel_initializer\": \"he_normal\",\n",
      "        \"kw_initializer\": {},\n",
      "        \"activation\": \"relu\",\n",
      "        \"kw_activation\": {\n",
      "            \"inplace\": True\n",
      "        }\n",
      "    },\n",
      "    \"out_filter_length\": 1,\n",
      "    \"out_batch_norm\": True\n",
      "}\n",
      "given seq_len = 5000, init_conv output shape = (None, 16, 5000)\n",
      "given seq_len = 5000, down_0 output shape = (None, 24, 500)\n",
      "given seq_len = 500, down_1 output shape = (None, 48, 100)\n",
      "given seq_len = 100, bottom_block output shape = (None, 288, 50)\n",
      "given seq_len = 50, up_0 output shape = (None, 48, 100)\n",
      "given seq_len = 100, up_1 output shape = (None, 24, 500)\n",
      "given seq_len = 500, up_2 output shape = (None, 16, 5000)\n",
      "given seq_len = 5000, out_conv output shape = (None, 1, 5000)\n"
     ]
    }
   ],
   "source": [
    "device = torch.device(\"cuda\" if torch.cuda.is_available() else \"cpu\")\n",
    "logger = init_logger(log_dir=config.log_dir, verbose=2)\n",
    "logger.info(f\"\\n{'*'*20}   Start Training   {'*'*20}\\n\")\n",
    "logger.info(f\"Using device {device}\")\n",
    "logger.info(f\"Using torch of version {torch.__version__}\")\n",
    "logger.info(f\"with configuration\\n{dict_to_str(config)}\")\n",
    "# print(f\"\\n{'*'*20}   Start Training   {'*'*20}\\n\")\n",
    "# print(f\"Using device {device}\")\n",
    "# print(f\"Using torch of version {torch.__version__}\")\n",
    "# print(f\"with configuration\\n{dict_to_str(config)}\")\n",
    "\n",
    "model_name = config.model_name.lower()\n",
    "model_config = deepcopy(ModelCfg[model_name])\n",
    "\n",
    "if model_name == \"subtract_unet\":\n",
    "    model = ECG_SUBTRACT_UNET_CPSC2019(\n",
    "        n_leads=config.n_leads,\n",
    "        config=model_config,\n",
    "    )\n",
    "elif model_name == \"unet\":\n",
    "    model = ECG_UNET_CPSC2019(\n",
    "        n_leads=config.n_leads,\n",
    "        config=model_config,\n",
    "    )\n",
    "\n",
    "if torch.cuda.device_count() > 1:\n",
    "    model = DP(model)\n",
    "#     model = DDP(model)\n",
    "\n",
    "model.to(device=device)\n",
    "model.__DEBUG__ = False"
   ]
  },
  {
   "cell_type": "code",
   "execution_count": null,
   "id": "5076912e",
   "metadata": {},
   "outputs": [],
   "source": []
  },
  {
   "cell_type": "code",
   "execution_count": 16,
   "id": "6442d926",
   "metadata": {
    "scrolled": false
   },
   "outputs": [
    {
     "name": "stdout",
     "output_type": "stream",
     "text": [
      "ECG-UNET - INFO - training configurations are as follows:\n",
      "{\n",
      "    \"fs\": 500\n",
      "    \"db_dir\": \"/home/wenh06/Jupyter/data/CPSC2019/\"\n",
      "    \"log_dir\": \"/home/wenh06/Jupyter/wenhao/workspace/torch_ecg/train/train_unet_cpsc2019/log\"\n",
      "    \"checkpoints\": \"/home/wenh06/Jupyter/wenhao/workspace/torch_ecg/train/train_unet_cpsc2019/checkpoints\"\n",
      "    \"model_dir\": \"/home/wenh06/Jupyter/wenhao/workspace/torch_ecg/train/train_unet_cpsc2019/saved_models\"\n",
      "    \"final_model_name\": None\n",
      "    \"keep_checkpoint_max\": 20\n",
      "    \"train_ratio\": 0.8\n",
      "    \"input_len\": 5000\n",
      "    \"classes\": [\n",
      "        \"N\"\n",
      "    ]\n",
      "    \"n_leads\": 1\n",
      "    \"bias_thr\": 37\n",
      "    \"skip_dist\": 250\n",
      "    \"label_smoothing\": 0.0\n",
      "    \"random_normalize\": True\n",
      "    \"random_normalize_mean\": [\n",
      "        -0.05, 0.1\n",
      "    ]\n",
      "    \"random_normalize_std\": [\n",
      "        0.08, 0.32\n",
      "    ]\n",
      "    \"baseline_wander\": True\n",
      "    \"bw\": True\n",
      "    \"bw_fs\": [0.33 0.1  0.05 0.01]\n",
      "    \"bw_ampl_ratio\": [[0.01 0.01 0.02 0.03]\n",
      " [0.01 0.02 0.04 0.05]\n",
      " [0.1  0.06 0.04 0.02]\n",
      " [0.02 0.04 0.07 0.1 ]\n",
      " [0.05 0.1  0.16 0.25]\n",
      " [0.1  0.15 0.25 0.3 ]\n",
      " [0.25 0.25 0.3  0.35]]\n",
      "    \"bw_gaussian\": [[0.    0.   ]\n",
      " [0.    0.   ]\n",
      " [0.    0.   ]\n",
      " [0.    0.003]\n",
      " [0.    0.01 ]]\n",
      "    \"flip\": [\n",
      "        -1, 1, 1, 1, 1\n",
      "    ]\n",
      "    \"n_epochs\": 300\n",
      "    \"batch_size\": 256\n",
      "    \"train_optimizer\": \"adamw_amsgrad\"\n",
      "    \"momentum\": 0.949\n",
      "    \"betas\": [\n",
      "        0.9, 0.999\n",
      "    ]\n",
      "    \"decay\": 0.01\n",
      "    \"learning_rate\": 0.001\n",
      "    \"lr\": 0.001\n",
      "    \"lr_scheduler\": None\n",
      "    \"lr_step_size\": 50\n",
      "    \"lr_gamma\": 0.1\n",
      "    \"max_lr\": 0.01\n",
      "    \"burn_in\": 400\n",
      "    \"steps\": [\n",
      "        5000, 10000\n",
      "    ]\n",
      "    \"early_stopping\": {\n",
      "        \"min_delta\": 0.001\n",
      "        \"patience\": 15\n",
      "    }\n",
      "    \"loss\": \"BCEWithLogitsLoss\"\n",
      "    \"flooding_level\": 0.0\n",
      "    \"log_step\": 20\n",
      "    \"eval_every\": 20\n",
      "    \"model_name\": \"subtract_unet\"\n",
      "}\n",
      "ECG-UNET - INFO - training configurations are as follows:\n",
      "{\n",
      "    \"fs\": 500\n",
      "    \"db_dir\": \"/home/wenh06/Jupyter/data/CPSC2019/\"\n",
      "    \"log_dir\": \"/home/wenh06/Jupyter/wenhao/workspace/torch_ecg/train/train_unet_cpsc2019/log\"\n",
      "    \"checkpoints\": \"/home/wenh06/Jupyter/wenhao/workspace/torch_ecg/train/train_unet_cpsc2019/checkpoints\"\n",
      "    \"model_dir\": \"/home/wenh06/Jupyter/wenhao/workspace/torch_ecg/train/train_unet_cpsc2019/saved_models\"\n",
      "    \"final_model_name\": None\n",
      "    \"keep_checkpoint_max\": 20\n",
      "    \"train_ratio\": 0.8\n",
      "    \"input_len\": 5000\n",
      "    \"classes\": [\n",
      "        \"N\"\n",
      "    ]\n",
      "    \"n_leads\": 1\n",
      "    \"bias_thr\": 37\n",
      "    \"skip_dist\": 250\n",
      "    \"label_smoothing\": 0.0\n",
      "    \"random_normalize\": True\n",
      "    \"random_normalize_mean\": [\n",
      "        -0.05, 0.1\n",
      "    ]\n",
      "    \"random_normalize_std\": [\n",
      "        0.08, 0.32\n",
      "    ]\n",
      "    \"baseline_wander\": True\n",
      "    \"bw\": True\n",
      "    \"bw_fs\": [0.33 0.1  0.05 0.01]\n",
      "    \"bw_ampl_ratio\": [[0.01 0.01 0.02 0.03]\n",
      " [0.01 0.02 0.04 0.05]\n",
      " [0.1  0.06 0.04 0.02]\n",
      " [0.02 0.04 0.07 0.1 ]\n",
      " [0.05 0.1  0.16 0.25]\n",
      " [0.1  0.15 0.25 0.3 ]\n",
      " [0.25 0.25 0.3  0.35]]\n",
      "    \"bw_gaussian\": [[0.    0.   ]\n",
      " [0.    0.   ]\n",
      " [0.    0.   ]\n",
      " [0.    0.003]\n",
      " [0.    0.01 ]]\n",
      "    \"flip\": [\n",
      "        -1, 1, 1, 1, 1\n",
      "    ]\n",
      "    \"n_epochs\": 300\n",
      "    \"batch_size\": 256\n",
      "    \"train_optimizer\": \"adamw_amsgrad\"\n",
      "    \"momentum\": 0.949\n",
      "    \"betas\": [\n",
      "        0.9, 0.999\n",
      "    ]\n",
      "    \"decay\": 0.01\n",
      "    \"learning_rate\": 0.001\n",
      "    \"lr\": 0.001\n",
      "    \"lr_scheduler\": None\n",
      "    \"lr_step_size\": 50\n",
      "    \"lr_gamma\": 0.1\n",
      "    \"max_lr\": 0.01\n",
      "    \"burn_in\": 400\n",
      "    \"steps\": [\n",
      "        5000, 10000\n",
      "    ]\n",
      "    \"early_stopping\": {\n",
      "        \"min_delta\": 0.001\n",
      "        \"patience\": 15\n",
      "    }\n",
      "    \"loss\": \"BCEWithLogitsLoss\"\n",
      "    \"flooding_level\": 0.0\n",
      "    \"log_step\": 20\n",
      "    \"eval_every\": 20\n",
      "    \"model_name\": \"subtract_unet\"\n",
      "}\n",
      "log file path is set \"/home/wenh06/Jupyter/wenhao/workspace/torch_ecg/train/train_unet_cpsc2019/CPSC2019-CPSC2019.log\"\n",
      "levels of c_handler and f_handler are set DEBUG\n",
      "log file path is set \"/home/wenh06/Jupyter/wenhao/workspace/torch_ecg/train/train_unet_cpsc2019/CPSC2019-CPSC2019.log\"\n",
      "levels of c_handler and f_handler are set DEBUG\n",
      "log file path is set \"/home/wenh06/Jupyter/wenhao/workspace/torch_ecg/train/train_unet_cpsc2019/CPSC2019-CPSC2019.log\"\n",
      "levels of c_handler and f_handler are set DEBUG\n",
      "ECG-UNET - INFO - \n",
      "Starting training:\n",
      "------------------\n",
      "Epochs:          300\n",
      "Batch size:      256\n",
      "Learning rate:   0.001\n",
      "Training size:   1600\n",
      "Validation size: 400\n",
      "Device:          cuda\n",
      "Optimizer:       adamw_amsgrad\n",
      "-----------------------------------------\n",
      "\n",
      "ECG-UNET - INFO - \n",
      "Starting training:\n",
      "------------------\n",
      "Epochs:          300\n",
      "Batch size:      256\n",
      "Learning rate:   0.001\n",
      "Training size:   1600\n",
      "Validation size: 400\n",
      "Device:          cuda\n",
      "Optimizer:       adamw_amsgrad\n",
      "-----------------------------------------\n",
      "\n"
     ]
    },
    {
     "name": "stderr",
     "output_type": "stream",
     "text": [
      "Epoch 1/300: 100%|████████████████████████████████████████████| 1600/1600 [00:01<00:00, 1292.28it/s]"
     ]
    },
    {
     "name": "stdout",
     "output_type": "stream",
     "text": [
      "QRS_acc: 0.0486\n",
      "Scoring complete.\n",
      "QRS_acc: 0.0435\n",
      "Scoring complete.\n",
      "ECG-UNET - INFO - \n",
      "Train epoch_1:\n",
      "--------------------\n",
      "train/epoch_loss:        4.2473196387290955\n",
      "train/qrs_score:         0.0486\n",
      "\n",
      "test/qrs_score:          0.0435\n",
      "---------------------------------\n",
      "\n",
      "ECG-UNET - INFO - \n",
      "Train epoch_1:\n",
      "--------------------\n",
      "train/epoch_loss:        4.2473196387290955\n",
      "train/qrs_score:         0.0486\n",
      "\n",
      "test/qrs_score:          0.0435\n",
      "---------------------------------\n",
      "\n",
      "ECG-UNET - INFO - Checkpoint 1 saved!\n",
      "ECG-UNET - INFO - Checkpoint 1 saved!\n"
     ]
    },
    {
     "name": "stderr",
     "output_type": "stream",
     "text": [
      "Epoch 1/300: 100%|█████████████████████████████████████████████| 1600/1600 [00:04<00:00, 357.38it/s]\n",
      "Epoch 2/300: 100%|████████████████████████████████████████████| 1600/1600 [00:01<00:00, 1312.14it/s]"
     ]
    },
    {
     "name": "stdout",
     "output_type": "stream",
     "text": [
      "QRS_acc: 0.2052\n",
      "Scoring complete.\n",
      "QRS_acc: 0.2112\n",
      "Scoring complete.\n",
      "ECG-UNET - INFO - \n",
      "Train epoch_2:\n",
      "--------------------\n",
      "train/epoch_loss:        3.5186086297035217\n",
      "train/qrs_score:         0.2052\n",
      "\n",
      "test/qrs_score:          0.2112\n",
      "---------------------------------\n",
      "\n",
      "ECG-UNET - INFO - \n",
      "Train epoch_2:\n",
      "--------------------\n",
      "train/epoch_loss:        3.5186086297035217\n",
      "train/qrs_score:         0.2052\n",
      "\n",
      "test/qrs_score:          0.2112\n",
      "---------------------------------\n",
      "\n",
      "ECG-UNET - INFO - Checkpoint 2 saved!\n",
      "ECG-UNET - INFO - Checkpoint 2 saved!\n"
     ]
    },
    {
     "name": "stderr",
     "output_type": "stream",
     "text": [
      "Epoch 2/300: 100%|█████████████████████████████████████████████| 1600/1600 [00:04<00:00, 345.92it/s]\n",
      "Epoch 3/300:  80%|███████████████████▏    | 1280/1600 [00:01<00:00, 1159.60it/s, loss (batch)=0.459]"
     ]
    },
    {
     "name": "stdout",
     "output_type": "stream",
     "text": [
      "ECG-UNET - INFO - Train step_20: loss : 0.4585523307323456\n",
      "ECG-UNET - INFO - Train step_20: loss : 0.4585523307323456\n"
     ]
    },
    {
     "name": "stderr",
     "output_type": "stream",
     "text": [
      "\r",
      "Epoch 3/300:  96%|███████████████████████ | 1536/1600 [00:01<00:00, 1350.22it/s, loss (batch)=0.459]"
     ]
    },
    {
     "name": "stdout",
     "output_type": "stream",
     "text": [
      "QRS_acc: 0.3356\n",
      "Scoring complete.\n",
      "QRS_acc: 0.3408\n",
      "Scoring complete.\n",
      "ECG-UNET - INFO - \n",
      "Train epoch_3:\n",
      "--------------------\n",
      "train/epoch_loss:        3.271477699279785\n",
      "train/qrs_score:         0.3356\n",
      "\n",
      "test/qrs_score:          0.3408\n",
      "---------------------------------\n",
      "\n",
      "ECG-UNET - INFO - \n",
      "Train epoch_3:\n",
      "--------------------\n",
      "train/epoch_loss:        3.271477699279785\n",
      "train/qrs_score:         0.3356\n",
      "\n",
      "test/qrs_score:          0.3408\n",
      "---------------------------------\n",
      "\n",
      "ECG-UNET - INFO - Checkpoint 3 saved!\n",
      "ECG-UNET - INFO - Checkpoint 3 saved!\n"
     ]
    },
    {
     "name": "stderr",
     "output_type": "stream",
     "text": [
      "Epoch 3/300: 100%|█████████████████████████| 1600/1600 [00:04<00:00, 354.16it/s, loss (batch)=0.459]\n",
      "Epoch 4/300: 100%|████████████████████████████████████████████| 1600/1600 [00:01<00:00, 1335.40it/s]"
     ]
    },
    {
     "name": "stdout",
     "output_type": "stream",
     "text": [
      "QRS_acc: 0.5472\n",
      "Scoring complete.\n",
      "QRS_acc: 0.5675\n",
      "Scoring complete.\n",
      "ECG-UNET - INFO - \n",
      "Train epoch_4:\n",
      "--------------------\n",
      "train/epoch_loss:        3.1525122225284576\n",
      "train/qrs_score:         0.5472\n",
      "\n",
      "test/qrs_score:          0.5675\n",
      "---------------------------------\n",
      "\n",
      "ECG-UNET - INFO - \n",
      "Train epoch_4:\n",
      "--------------------\n",
      "train/epoch_loss:        3.1525122225284576\n",
      "train/qrs_score:         0.5472\n",
      "\n",
      "test/qrs_score:          0.5675\n",
      "---------------------------------\n",
      "\n",
      "ECG-UNET - INFO - Checkpoint 4 saved!\n",
      "ECG-UNET - INFO - Checkpoint 4 saved!\n"
     ]
    },
    {
     "name": "stderr",
     "output_type": "stream",
     "text": [
      "Epoch 4/300: 100%|█████████████████████████████████████████████| 1600/1600 [00:04<00:00, 360.50it/s]\n",
      "Epoch 5/300: 100%|████████████████████████████████████████████| 1600/1600 [00:01<00:00, 1334.90it/s]"
     ]
    },
    {
     "name": "stdout",
     "output_type": "stream",
     "text": [
      "QRS_acc: 0.6733\n",
      "Scoring complete.\n",
      "QRS_acc: 0.6565\n",
      "Scoring complete.\n",
      "ECG-UNET - INFO - \n",
      "Train epoch_5:\n",
      "--------------------\n",
      "train/epoch_loss:        3.074563205242157\n",
      "train/qrs_score:         0.6733\n",
      "\n",
      "test/qrs_score:          0.6565\n",
      "---------------------------------\n",
      "\n",
      "ECG-UNET - INFO - \n",
      "Train epoch_5:\n",
      "--------------------\n",
      "train/epoch_loss:        3.074563205242157\n",
      "train/qrs_score:         0.6733\n",
      "\n",
      "test/qrs_score:          0.6565\n",
      "---------------------------------\n",
      "\n",
      "ECG-UNET - INFO - Checkpoint 5 saved!\n",
      "ECG-UNET - INFO - Checkpoint 5 saved!\n"
     ]
    },
    {
     "name": "stderr",
     "output_type": "stream",
     "text": [
      "Epoch 5/300: 100%|█████████████████████████████████████████████| 1600/1600 [00:04<00:00, 354.84it/s]\n",
      "Epoch 6/300:  64%|████████████████         | 1024/1600 [00:01<00:00, 685.94it/s, loss (batch)=0.428]"
     ]
    },
    {
     "name": "stdout",
     "output_type": "stream",
     "text": [
      "ECG-UNET - INFO - Train step_40: loss : 0.4284886121749878\n",
      "ECG-UNET - INFO - Train step_40: loss : 0.4284886121749878\n"
     ]
    },
    {
     "name": "stderr",
     "output_type": "stream",
     "text": [
      "Epoch 6/300: 100%|████████████████████████| 1600/1600 [00:01<00:00, 1311.15it/s, loss (batch)=0.428]"
     ]
    },
    {
     "name": "stdout",
     "output_type": "stream",
     "text": [
      "QRS_acc: 0.7413\n",
      "Scoring complete.\n",
      "QRS_acc: 0.7218\n",
      "Scoring complete.\n",
      "ECG-UNET - INFO - \n",
      "Train epoch_6:\n",
      "--------------------\n",
      "train/epoch_loss:        3.028503656387329\n",
      "train/qrs_score:         0.7413\n",
      "\n",
      "test/qrs_score:          0.7218\n",
      "---------------------------------\n",
      "\n",
      "ECG-UNET - INFO - \n",
      "Train epoch_6:\n",
      "--------------------\n",
      "train/epoch_loss:        3.028503656387329\n",
      "train/qrs_score:         0.7413\n",
      "\n",
      "test/qrs_score:          0.7218\n",
      "---------------------------------\n",
      "\n",
      "ECG-UNET - INFO - Checkpoint 6 saved!\n",
      "ECG-UNET - INFO - Checkpoint 6 saved!\n"
     ]
    },
    {
     "name": "stderr",
     "output_type": "stream",
     "text": [
      "Epoch 6/300: 100%|█████████████████████████| 1600/1600 [00:04<00:00, 353.59it/s, loss (batch)=0.428]\n",
      "Epoch 7/300: 100%|████████████████████████████████████████████| 1600/1600 [00:01<00:00, 1297.73it/s]"
     ]
    },
    {
     "name": "stdout",
     "output_type": "stream",
     "text": [
      "QRS_acc: 0.7454\n",
      "Scoring complete.\n",
      "QRS_acc: 0.728\n",
      "Scoring complete.\n",
      "ECG-UNET - INFO - \n",
      "Train epoch_7:\n",
      "--------------------\n",
      "train/epoch_loss:        3.000342071056366\n",
      "train/qrs_score:         0.7454\n",
      "\n",
      "test/qrs_score:          0.728\n",
      "---------------------------------\n",
      "\n",
      "ECG-UNET - INFO - \n",
      "Train epoch_7:\n",
      "--------------------\n",
      "train/epoch_loss:        3.000342071056366\n",
      "train/qrs_score:         0.7454\n",
      "\n",
      "test/qrs_score:          0.728\n",
      "---------------------------------\n",
      "\n",
      "ECG-UNET - INFO - Checkpoint 7 saved!\n",
      "ECG-UNET - INFO - Checkpoint 7 saved!\n"
     ]
    },
    {
     "name": "stderr",
     "output_type": "stream",
     "text": [
      "Epoch 7/300: 100%|█████████████████████████████████████████████| 1600/1600 [00:04<00:00, 351.19it/s]\n",
      "Epoch 8/300: 100%|████████████████████████████████████████████| 1600/1600 [00:01<00:00, 1327.77it/s]"
     ]
    },
    {
     "name": "stdout",
     "output_type": "stream",
     "text": [
      "QRS_acc: 0.7554\n",
      "Scoring complete.\n",
      "QRS_acc: 0.7403\n",
      "Scoring complete.\n",
      "ECG-UNET - INFO - \n",
      "Train epoch_8:\n",
      "--------------------\n",
      "train/epoch_loss:        2.9577786326408386\n",
      "train/qrs_score:         0.7554\n",
      "\n",
      "test/qrs_score:          0.7403\n",
      "---------------------------------\n",
      "\n",
      "ECG-UNET - INFO - \n",
      "Train epoch_8:\n",
      "--------------------\n",
      "train/epoch_loss:        2.9577786326408386\n",
      "train/qrs_score:         0.7554\n",
      "\n",
      "test/qrs_score:          0.7403\n",
      "---------------------------------\n",
      "\n",
      "ECG-UNET - INFO - Checkpoint 8 saved!\n",
      "ECG-UNET - INFO - Checkpoint 8 saved!\n"
     ]
    },
    {
     "name": "stderr",
     "output_type": "stream",
     "text": [
      "Epoch 8/300: 100%|█████████████████████████████████████████████| 1600/1600 [00:04<00:00, 357.52it/s]\n",
      "Epoch 9/300:  48%|████████████▉              | 768/1600 [00:01<00:01, 663.41it/s, loss (batch)=0.42]"
     ]
    },
    {
     "name": "stdout",
     "output_type": "stream",
     "text": [
      "ECG-UNET - INFO - Train step_60: loss : 0.41974565386772156\n",
      "ECG-UNET - INFO - Train step_60: loss : 0.41974565386772156\n"
     ]
    },
    {
     "name": "stderr",
     "output_type": "stream",
     "text": [
      "Epoch 9/300:  96%|████████████████████████ | 1536/1600 [00:01<00:00, 1378.68it/s, loss (batch)=0.42]"
     ]
    },
    {
     "name": "stdout",
     "output_type": "stream",
     "text": [
      "QRS_acc: 0.7802\n",
      "Scoring complete.\n",
      "QRS_acc: 0.751\n",
      "Scoring complete.\n",
      "ECG-UNET - INFO - \n",
      "Train epoch_9:\n",
      "--------------------\n",
      "train/epoch_loss:        2.9256321787834167\n",
      "train/qrs_score:         0.7802\n",
      "\n",
      "test/qrs_score:          0.751\n",
      "---------------------------------\n",
      "\n",
      "ECG-UNET - INFO - \n",
      "Train epoch_9:\n",
      "--------------------\n",
      "train/epoch_loss:        2.9256321787834167\n",
      "train/qrs_score:         0.7802\n",
      "\n",
      "test/qrs_score:          0.751\n",
      "---------------------------------\n",
      "\n",
      "ECG-UNET - INFO - Checkpoint 9 saved!\n",
      "ECG-UNET - INFO - Checkpoint 9 saved!\n"
     ]
    },
    {
     "name": "stderr",
     "output_type": "stream",
     "text": [
      "Epoch 9/300: 100%|██████████████████████████| 1600/1600 [00:04<00:00, 349.82it/s, loss (batch)=0.42]\n",
      "Epoch 10/300: 100%|███████████████████████████████████████████| 1600/1600 [00:01<00:00, 1311.45it/s]"
     ]
    },
    {
     "name": "stdout",
     "output_type": "stream",
     "text": [
      "QRS_acc: 0.7734\n",
      "Scoring complete.\n",
      "QRS_acc: 0.7572\n",
      "Scoring complete.\n",
      "ECG-UNET - INFO - \n",
      "Train epoch_10:\n",
      "--------------------\n",
      "train/epoch_loss:        2.9025016129016876\n",
      "train/qrs_score:         0.7734\n",
      "\n",
      "test/qrs_score:          0.7572\n",
      "---------------------------------\n",
      "\n",
      "ECG-UNET - INFO - \n",
      "Train epoch_10:\n",
      "--------------------\n",
      "train/epoch_loss:        2.9025016129016876\n",
      "train/qrs_score:         0.7734\n",
      "\n",
      "test/qrs_score:          0.7572\n",
      "---------------------------------\n",
      "\n",
      "ECG-UNET - INFO - Checkpoint 10 saved!\n",
      "ECG-UNET - INFO - Checkpoint 10 saved!\n"
     ]
    },
    {
     "name": "stderr",
     "output_type": "stream",
     "text": [
      "Epoch 10/300: 100%|████████████████████████████████████████████| 1600/1600 [00:04<00:00, 355.71it/s]\n",
      "Epoch 11/300: 100%|███████████████████████████████████████████| 1600/1600 [00:01<00:00, 1352.75it/s]"
     ]
    },
    {
     "name": "stdout",
     "output_type": "stream",
     "text": [
      "QRS_acc: 0.8007\n",
      "Scoring complete.\n",
      "QRS_acc: 0.778\n",
      "Scoring complete.\n",
      "ECG-UNET - INFO - \n",
      "Train epoch_11:\n",
      "--------------------\n",
      "train/epoch_loss:        2.871154010295868\n",
      "train/qrs_score:         0.8007\n",
      "\n",
      "test/qrs_score:          0.778\n",
      "---------------------------------\n",
      "\n",
      "ECG-UNET - INFO - \n",
      "Train epoch_11:\n",
      "--------------------\n",
      "train/epoch_loss:        2.871154010295868\n",
      "train/qrs_score:         0.8007\n",
      "\n",
      "test/qrs_score:          0.778\n",
      "---------------------------------\n",
      "\n",
      "ECG-UNET - INFO - Checkpoint 11 saved!\n",
      "ECG-UNET - INFO - Checkpoint 11 saved!\n"
     ]
    },
    {
     "name": "stderr",
     "output_type": "stream",
     "text": [
      "Epoch 11/300: 100%|████████████████████████████████████████████| 1600/1600 [00:04<00:00, 357.37it/s]\n",
      "Epoch 12/300:  32%|████████                 | 512/1600 [00:01<00:04, 224.60it/s, loss (batch)=0.406]"
     ]
    },
    {
     "name": "stdout",
     "output_type": "stream",
     "text": [
      "ECG-UNET - INFO - Train step_80: loss : 0.40612655878067017\n",
      "ECG-UNET - INFO - Train step_80: loss : 0.40612655878067017\n"
     ]
    },
    {
     "name": "stderr",
     "output_type": "stream",
     "text": [
      "Epoch 12/300: 100%|███████████████████████| 1600/1600 [00:01<00:00, 1337.20it/s, loss (batch)=0.406]"
     ]
    },
    {
     "name": "stdout",
     "output_type": "stream",
     "text": [
      "QRS_acc: 0.8078\n",
      "Scoring complete.\n",
      "QRS_acc: 0.791\n",
      "Scoring complete.\n",
      "ECG-UNET - INFO - \n",
      "Train epoch_12:\n",
      "--------------------\n",
      "train/epoch_loss:        2.8456728756427765\n",
      "train/qrs_score:         0.8078\n",
      "\n",
      "test/qrs_score:          0.791\n",
      "---------------------------------\n",
      "\n",
      "ECG-UNET - INFO - \n",
      "Train epoch_12:\n",
      "--------------------\n",
      "train/epoch_loss:        2.8456728756427765\n",
      "train/qrs_score:         0.8078\n",
      "\n",
      "test/qrs_score:          0.791\n",
      "---------------------------------\n",
      "\n",
      "ECG-UNET - INFO - Checkpoint 12 saved!\n",
      "ECG-UNET - INFO - Checkpoint 12 saved!\n"
     ]
    },
    {
     "name": "stderr",
     "output_type": "stream",
     "text": [
      "Epoch 12/300: 100%|████████████████████████| 1600/1600 [00:04<00:00, 354.08it/s, loss (batch)=0.406]\n",
      "Epoch 13/300: 100%|███████████████████████████████████████████| 1600/1600 [00:01<00:00, 1349.81it/s]"
     ]
    },
    {
     "name": "stdout",
     "output_type": "stream",
     "text": [
      "QRS_acc: 0.8186\n",
      "Scoring complete.\n",
      "QRS_acc: 0.8098\n",
      "Scoring complete.\n",
      "ECG-UNET - INFO - \n",
      "Train epoch_13:\n",
      "--------------------\n",
      "train/epoch_loss:        2.8283533453941345\n",
      "train/qrs_score:         0.8186\n",
      "\n",
      "test/qrs_score:          0.8098\n",
      "---------------------------------\n",
      "\n",
      "ECG-UNET - INFO - \n",
      "Train epoch_13:\n",
      "--------------------\n",
      "train/epoch_loss:        2.8283533453941345\n",
      "train/qrs_score:         0.8186\n",
      "\n",
      "test/qrs_score:          0.8098\n",
      "---------------------------------\n",
      "\n",
      "ECG-UNET - INFO - Checkpoint 13 saved!\n",
      "ECG-UNET - INFO - Checkpoint 13 saved!\n"
     ]
    },
    {
     "name": "stderr",
     "output_type": "stream",
     "text": [
      "Epoch 13/300: 100%|████████████████████████████████████████████| 1600/1600 [00:04<00:00, 357.56it/s]\n",
      "Epoch 14/300: 100%|███████████████████████████████████████████| 1600/1600 [00:01<00:00, 1315.66it/s]"
     ]
    },
    {
     "name": "stdout",
     "output_type": "stream",
     "text": [
      "QRS_acc: 0.8176\n",
      "Scoring complete.\n",
      "QRS_acc: 0.8012\n",
      "Scoring complete.\n",
      "ECG-UNET - INFO - \n",
      "Train epoch_14:\n",
      "--------------------\n",
      "train/epoch_loss:        2.794160306453705\n",
      "train/qrs_score:         0.8176\n",
      "\n",
      "test/qrs_score:          0.8012\n",
      "---------------------------------\n",
      "\n",
      "ECG-UNET - INFO - \n",
      "Train epoch_14:\n",
      "--------------------\n",
      "train/epoch_loss:        2.794160306453705\n",
      "train/qrs_score:         0.8176\n",
      "\n",
      "test/qrs_score:          0.8012\n",
      "---------------------------------\n",
      "\n",
      "ECG-UNET - INFO - Checkpoint 14 saved!\n",
      "ECG-UNET - INFO - Checkpoint 14 saved!\n"
     ]
    },
    {
     "name": "stderr",
     "output_type": "stream",
     "text": [
      "Epoch 14/300: 100%|████████████████████████████████████████████| 1600/1600 [00:04<00:00, 358.29it/s]\n",
      "Epoch 15/300:  16%|████                     | 256/1600 [00:01<00:06, 222.70it/s, loss (batch)=0.395]"
     ]
    },
    {
     "name": "stdout",
     "output_type": "stream",
     "text": [
      "ECG-UNET - INFO - Train step_100: loss : 0.3953761160373688\n",
      "ECG-UNET - INFO - Train step_100: loss : 0.3953761160373688\n"
     ]
    },
    {
     "name": "stderr",
     "output_type": "stream",
     "text": [
      "Epoch 15/300:  96%|██████████████████████ | 1536/1600 [00:01<00:00, 1470.60it/s, loss (batch)=0.395]"
     ]
    },
    {
     "name": "stdout",
     "output_type": "stream",
     "text": [
      "QRS_acc: 0.8291\n",
      "Scoring complete.\n",
      "QRS_acc: 0.8117\n",
      "Scoring complete.\n",
      "ECG-UNET - INFO - \n",
      "Train epoch_15:\n",
      "--------------------\n",
      "train/epoch_loss:        2.77373468875885\n",
      "train/qrs_score:         0.8291\n",
      "\n",
      "test/qrs_score:          0.8117\n",
      "---------------------------------\n",
      "\n",
      "ECG-UNET - INFO - \n",
      "Train epoch_15:\n",
      "--------------------\n",
      "train/epoch_loss:        2.77373468875885\n",
      "train/qrs_score:         0.8291\n",
      "\n",
      "test/qrs_score:          0.8117\n",
      "---------------------------------\n",
      "\n",
      "ECG-UNET - INFO - Checkpoint 15 saved!\n",
      "ECG-UNET - INFO - Checkpoint 15 saved!\n"
     ]
    },
    {
     "name": "stderr",
     "output_type": "stream",
     "text": [
      "Epoch 15/300: 100%|████████████████████████| 1600/1600 [00:04<00:00, 350.22it/s, loss (batch)=0.395]\n",
      "Epoch 16/300: 100%|███████████████████████████████████████████| 1600/1600 [00:01<00:00, 1318.06it/s]"
     ]
    },
    {
     "name": "stdout",
     "output_type": "stream",
     "text": [
      "QRS_acc: 0.8246\n",
      "Scoring complete.\n",
      "QRS_acc: 0.8072\n",
      "Scoring complete.\n",
      "ECG-UNET - INFO - \n",
      "Train epoch_16:\n",
      "--------------------\n",
      "train/epoch_loss:        2.756067603826523\n",
      "train/qrs_score:         0.8246\n",
      "\n",
      "test/qrs_score:          0.8072\n",
      "---------------------------------\n",
      "\n",
      "ECG-UNET - INFO - \n",
      "Train epoch_16:\n",
      "--------------------\n",
      "train/epoch_loss:        2.756067603826523\n",
      "train/qrs_score:         0.8246\n",
      "\n",
      "test/qrs_score:          0.8072\n",
      "---------------------------------\n",
      "\n",
      "ECG-UNET - INFO - Checkpoint 16 saved!\n",
      "ECG-UNET - INFO - Checkpoint 16 saved!\n"
     ]
    },
    {
     "name": "stderr",
     "output_type": "stream",
     "text": [
      "Epoch 16/300: 100%|████████████████████████████████████████████| 1600/1600 [00:04<00:00, 359.55it/s]\n",
      "Epoch 17/300: 100%|███████████████████████████████████████████| 1600/1600 [00:01<00:00, 1319.56it/s]"
     ]
    },
    {
     "name": "stdout",
     "output_type": "stream",
     "text": [
      "QRS_acc: 0.8424\n",
      "Scoring complete.\n",
      "QRS_acc: 0.822\n",
      "Scoring complete.\n",
      "ECG-UNET - INFO - \n",
      "Train epoch_17:\n",
      "--------------------\n",
      "train/epoch_loss:        2.7270562946796417\n",
      "train/qrs_score:         0.8424\n",
      "\n",
      "test/qrs_score:          0.822\n",
      "---------------------------------\n",
      "\n",
      "ECG-UNET - INFO - \n",
      "Train epoch_17:\n",
      "--------------------\n",
      "train/epoch_loss:        2.7270562946796417\n",
      "train/qrs_score:         0.8424\n",
      "\n",
      "test/qrs_score:          0.822\n",
      "---------------------------------\n",
      "\n",
      "ECG-UNET - INFO - Checkpoint 17 saved!\n",
      "ECG-UNET - INFO - Checkpoint 17 saved!\n"
     ]
    },
    {
     "name": "stderr",
     "output_type": "stream",
     "text": [
      "Epoch 17/300: 100%|████████████████████████████████████████████| 1600/1600 [00:04<00:00, 359.32it/s]\n",
      "Epoch 18/300:   0%|                                    | 0/1600 [00:01<?, ?it/s, loss (batch)=0.392]"
     ]
    },
    {
     "name": "stdout",
     "output_type": "stream",
     "text": [
      "ECG-UNET - INFO - Train step_120: loss : 0.39162561297416687\n",
      "ECG-UNET - INFO - Train step_120: loss : 0.39162561297416687\n"
     ]
    },
    {
     "name": "stderr",
     "output_type": "stream",
     "text": [
      "Epoch 18/300: 100%|███████████████████████| 1600/1600 [00:01<00:00, 1322.98it/s, loss (batch)=0.392]"
     ]
    },
    {
     "name": "stdout",
     "output_type": "stream",
     "text": [
      "QRS_acc: 0.838\n",
      "Scoring complete.\n",
      "QRS_acc: 0.8207\n",
      "Scoring complete.\n",
      "ECG-UNET - INFO - \n",
      "Train epoch_18:\n",
      "--------------------\n",
      "train/epoch_loss:        2.708188980817795\n",
      "train/qrs_score:         0.838\n",
      "\n",
      "test/qrs_score:          0.8207\n",
      "---------------------------------\n",
      "\n",
      "ECG-UNET - INFO - \n",
      "Train epoch_18:\n",
      "--------------------\n",
      "train/epoch_loss:        2.708188980817795\n",
      "train/qrs_score:         0.838\n",
      "\n",
      "test/qrs_score:          0.8207\n",
      "---------------------------------\n",
      "\n",
      "ECG-UNET - INFO - Checkpoint 18 saved!\n",
      "ECG-UNET - INFO - Checkpoint 18 saved!\n"
     ]
    },
    {
     "name": "stderr",
     "output_type": "stream",
     "text": [
      "Epoch 18/300: 100%|████████████████████████| 1600/1600 [00:04<00:00, 352.33it/s, loss (batch)=0.392]\n",
      "Epoch 19/300: 100%|███████████████████████████████████████████| 1600/1600 [00:01<00:00, 1264.00it/s]"
     ]
    },
    {
     "name": "stdout",
     "output_type": "stream",
     "text": [
      "QRS_acc: 0.8428\n",
      "Scoring complete.\n",
      "QRS_acc: 0.832\n",
      "Scoring complete.\n",
      "ECG-UNET - INFO - \n",
      "Train epoch_19:\n",
      "--------------------\n",
      "train/epoch_loss:        2.680590331554413\n",
      "train/qrs_score:         0.8428\n",
      "\n",
      "test/qrs_score:          0.832\n",
      "---------------------------------\n",
      "\n",
      "ECG-UNET - INFO - \n",
      "Train epoch_19:\n",
      "--------------------\n",
      "train/epoch_loss:        2.680590331554413\n",
      "train/qrs_score:         0.8428\n",
      "\n",
      "test/qrs_score:          0.832\n",
      "---------------------------------\n",
      "\n",
      "ECG-UNET - INFO - Checkpoint 19 saved!\n",
      "ECG-UNET - INFO - Checkpoint 19 saved!\n"
     ]
    },
    {
     "name": "stderr",
     "output_type": "stream",
     "text": [
      "Epoch 19/300: 100%|████████████████████████████████████████████| 1600/1600 [00:04<00:00, 350.48it/s]\n",
      "Epoch 20/300:  96%|██████████████████████ | 1536/1600 [00:01<00:00, 1135.84it/s, loss (batch)=0.371]"
     ]
    },
    {
     "name": "stdout",
     "output_type": "stream",
     "text": [
      "ECG-UNET - INFO - Train step_140: loss : 0.37125837802886963\n",
      "ECG-UNET - INFO - Train step_140: loss : 0.37125837802886963\n"
     ]
    },
    {
     "name": "stderr",
     "output_type": "stream",
     "text": [
      "\r",
      "Epoch 20/300: 100%|███████████████████████| 1600/1600 [00:01<00:00, 1303.84it/s, loss (batch)=0.371]"
     ]
    },
    {
     "name": "stdout",
     "output_type": "stream",
     "text": [
      "QRS_acc: 0.843\n",
      "Scoring complete.\n",
      "QRS_acc: 0.8295\n",
      "Scoring complete.\n",
      "ECG-UNET - INFO - \n",
      "Train epoch_20:\n",
      "--------------------\n",
      "train/epoch_loss:        2.6623786091804504\n",
      "train/qrs_score:         0.843\n",
      "\n",
      "test/qrs_score:          0.8295\n",
      "---------------------------------\n",
      "\n",
      "ECG-UNET - INFO - \n",
      "Train epoch_20:\n",
      "--------------------\n",
      "train/epoch_loss:        2.6623786091804504\n",
      "train/qrs_score:         0.843\n",
      "\n",
      "test/qrs_score:          0.8295\n",
      "---------------------------------\n",
      "\n",
      "ECG-UNET - INFO - Checkpoint 20 saved!\n",
      "ECG-UNET - INFO - Checkpoint 20 saved!\n"
     ]
    },
    {
     "name": "stderr",
     "output_type": "stream",
     "text": [
      "Epoch 20/300: 100%|████████████████████████| 1600/1600 [00:04<00:00, 357.41it/s, loss (batch)=0.371]\n",
      "Epoch 21/300: 100%|███████████████████████████████████████████| 1600/1600 [00:01<00:00, 1314.49it/s]"
     ]
    },
    {
     "name": "stdout",
     "output_type": "stream",
     "text": [
      "QRS_acc: 0.8611\n",
      "Scoring complete.\n",
      "QRS_acc: 0.8418\n",
      "Scoring complete.\n",
      "ECG-UNET - INFO - \n",
      "Train epoch_21:\n",
      "--------------------\n",
      "train/epoch_loss:        2.635474145412445\n",
      "train/qrs_score:         0.8611\n",
      "\n",
      "test/qrs_score:          0.8418\n",
      "---------------------------------\n",
      "\n",
      "ECG-UNET - INFO - \n",
      "Train epoch_21:\n",
      "--------------------\n",
      "train/epoch_loss:        2.635474145412445\n",
      "train/qrs_score:         0.8611\n",
      "\n",
      "test/qrs_score:          0.8418\n",
      "---------------------------------\n",
      "\n",
      "ECG-UNET - INFO - Checkpoint 21 saved!\n",
      "ECG-UNET - INFO - Checkpoint 21 saved!\n"
     ]
    },
    {
     "name": "stderr",
     "output_type": "stream",
     "text": [
      "Epoch 21/300: 100%|████████████████████████████████████████████| 1600/1600 [00:04<00:00, 355.73it/s]\n",
      "Epoch 22/300: 100%|███████████████████████████████████████████| 1600/1600 [00:01<00:00, 1343.83it/s]"
     ]
    },
    {
     "name": "stdout",
     "output_type": "stream",
     "text": [
      "QRS_acc: 0.8597\n",
      "Scoring complete.\n",
      "QRS_acc: 0.839\n",
      "Scoring complete.\n",
      "ECG-UNET - INFO - \n",
      "Train epoch_22:\n",
      "--------------------\n",
      "train/epoch_loss:        2.621032029390335\n",
      "train/qrs_score:         0.8597\n",
      "\n",
      "test/qrs_score:          0.839\n",
      "---------------------------------\n",
      "\n",
      "ECG-UNET - INFO - \n",
      "Train epoch_22:\n",
      "--------------------\n",
      "train/epoch_loss:        2.621032029390335\n",
      "train/qrs_score:         0.8597\n",
      "\n",
      "test/qrs_score:          0.839\n",
      "---------------------------------\n",
      "\n",
      "ECG-UNET - INFO - Checkpoint 22 saved!\n",
      "ECG-UNET - INFO - Checkpoint 22 saved!\n"
     ]
    },
    {
     "name": "stderr",
     "output_type": "stream",
     "text": [
      "Epoch 22/300: 100%|████████████████████████████████████████████| 1600/1600 [00:04<00:00, 359.25it/s]\n",
      "Epoch 23/300:  80%|██████████████████▍    | 1280/1600 [00:01<00:00, 1117.39it/s, loss (batch)=0.368]"
     ]
    },
    {
     "name": "stdout",
     "output_type": "stream",
     "text": [
      "ECG-UNET - INFO - Train step_160: loss : 0.3684619963169098\n",
      "ECG-UNET - INFO - Train step_160: loss : 0.3684619963169098\n"
     ]
    },
    {
     "name": "stderr",
     "output_type": "stream",
     "text": [
      "\r",
      "Epoch 23/300:  96%|██████████████████████ | 1536/1600 [00:01<00:00, 1307.84it/s, loss (batch)=0.368]"
     ]
    },
    {
     "name": "stdout",
     "output_type": "stream",
     "text": [
      "QRS_acc: 0.8666\n",
      "Scoring complete.\n",
      "QRS_acc: 0.8375\n",
      "Scoring complete.\n",
      "ECG-UNET - INFO - \n",
      "Train epoch_23:\n",
      "--------------------\n",
      "train/epoch_loss:        2.5975421667099\n",
      "train/qrs_score:         0.8666\n",
      "\n",
      "test/qrs_score:          0.8375\n",
      "---------------------------------\n",
      "\n",
      "ECG-UNET - INFO - \n",
      "Train epoch_23:\n",
      "--------------------\n",
      "train/epoch_loss:        2.5975421667099\n",
      "train/qrs_score:         0.8666\n",
      "\n",
      "test/qrs_score:          0.8375\n",
      "---------------------------------\n",
      "\n",
      "ECG-UNET - INFO - Checkpoint 23 saved!\n",
      "ECG-UNET - INFO - Checkpoint 23 saved!\n"
     ]
    },
    {
     "name": "stderr",
     "output_type": "stream",
     "text": [
      "Epoch 23/300: 100%|████████████████████████| 1600/1600 [00:04<00:00, 342.18it/s, loss (batch)=0.368]\n",
      "Epoch 24/300: 100%|███████████████████████████████████████████| 1600/1600 [00:01<00:00, 1331.06it/s]"
     ]
    },
    {
     "name": "stdout",
     "output_type": "stream",
     "text": [
      "QRS_acc: 0.8661\n",
      "Scoring complete.\n",
      "QRS_acc: 0.85\n",
      "Scoring complete.\n",
      "ECG-UNET - INFO - \n",
      "Train epoch_24:\n",
      "--------------------\n",
      "train/epoch_loss:        2.5754131972789764\n",
      "train/qrs_score:         0.8661\n",
      "\n",
      "test/qrs_score:          0.85\n",
      "---------------------------------\n",
      "\n",
      "ECG-UNET - INFO - \n",
      "Train epoch_24:\n",
      "--------------------\n",
      "train/epoch_loss:        2.5754131972789764\n",
      "train/qrs_score:         0.8661\n",
      "\n",
      "test/qrs_score:          0.85\n",
      "---------------------------------\n",
      "\n",
      "ECG-UNET - INFO - Checkpoint 24 saved!\n",
      "ECG-UNET - INFO - Checkpoint 24 saved!\n"
     ]
    },
    {
     "name": "stderr",
     "output_type": "stream",
     "text": [
      "Epoch 24/300: 100%|████████████████████████████████████████████| 1600/1600 [00:04<00:00, 360.67it/s]\n",
      "Epoch 25/300: 100%|███████████████████████████████████████████| 1600/1600 [00:01<00:00, 1339.38it/s]"
     ]
    },
    {
     "name": "stdout",
     "output_type": "stream",
     "text": [
      "QRS_acc: 0.8785\n",
      "Scoring complete.\n",
      "QRS_acc: 0.8447\n",
      "Scoring complete.\n",
      "ECG-UNET - INFO - \n",
      "Train epoch_25:\n",
      "--------------------\n",
      "train/epoch_loss:        2.559488296508789\n",
      "train/qrs_score:         0.8785\n",
      "\n",
      "test/qrs_score:          0.8447\n",
      "---------------------------------\n",
      "\n",
      "ECG-UNET - INFO - \n",
      "Train epoch_25:\n",
      "--------------------\n",
      "train/epoch_loss:        2.559488296508789\n",
      "train/qrs_score:         0.8785\n",
      "\n",
      "test/qrs_score:          0.8447\n",
      "---------------------------------\n",
      "\n",
      "ECG-UNET - INFO - Checkpoint 25 saved!\n",
      "ECG-UNET - INFO - Checkpoint 25 saved!\n"
     ]
    },
    {
     "name": "stderr",
     "output_type": "stream",
     "text": [
      "Epoch 25/300: 100%|████████████████████████████████████████████| 1600/1600 [00:04<00:00, 357.88it/s]\n",
      "Epoch 26/300:  64%|███████████████▎        | 1024/1600 [00:01<00:00, 709.35it/s, loss (batch)=0.365]"
     ]
    },
    {
     "name": "stdout",
     "output_type": "stream",
     "text": [
      "ECG-UNET - INFO - Train step_180: loss : 0.36476650834083557\n",
      "ECG-UNET - INFO - Train step_180: loss : 0.36476650834083557\n"
     ]
    },
    {
     "name": "stderr",
     "output_type": "stream",
     "text": [
      "Epoch 26/300: 100%|███████████████████████| 1600/1600 [00:01<00:00, 1316.63it/s, loss (batch)=0.365]"
     ]
    },
    {
     "name": "stdout",
     "output_type": "stream",
     "text": [
      "QRS_acc: 0.8808\n",
      "Scoring complete.\n",
      "QRS_acc: 0.8597\n",
      "Scoring complete.\n",
      "ECG-UNET - INFO - \n",
      "Train epoch_26:\n",
      "--------------------\n",
      "train/epoch_loss:        2.5328996181488037\n",
      "train/qrs_score:         0.8808\n",
      "\n",
      "test/qrs_score:          0.8597\n",
      "---------------------------------\n",
      "\n",
      "ECG-UNET - INFO - \n",
      "Train epoch_26:\n",
      "--------------------\n",
      "train/epoch_loss:        2.5328996181488037\n",
      "train/qrs_score:         0.8808\n",
      "\n",
      "test/qrs_score:          0.8597\n",
      "---------------------------------\n",
      "\n",
      "ECG-UNET - INFO - Checkpoint 26 saved!\n",
      "ECG-UNET - INFO - Checkpoint 26 saved!\n"
     ]
    },
    {
     "name": "stderr",
     "output_type": "stream",
     "text": [
      "Epoch 26/300: 100%|████████████████████████| 1600/1600 [00:04<00:00, 359.61it/s, loss (batch)=0.365]\n",
      "Epoch 27/300: 100%|███████████████████████████████████████████| 1600/1600 [00:01<00:00, 1331.21it/s]"
     ]
    },
    {
     "name": "stdout",
     "output_type": "stream",
     "text": [
      "QRS_acc: 0.8789\n",
      "Scoring complete.\n",
      "QRS_acc: 0.8502\n",
      "Scoring complete.\n",
      "ECG-UNET - INFO - \n",
      "Train epoch_27:\n",
      "--------------------\n",
      "train/epoch_loss:        2.5223588049411774\n",
      "train/qrs_score:         0.8789\n",
      "\n",
      "test/qrs_score:          0.8502\n",
      "---------------------------------\n",
      "\n",
      "ECG-UNET - INFO - \n",
      "Train epoch_27:\n",
      "--------------------\n",
      "train/epoch_loss:        2.5223588049411774\n",
      "train/qrs_score:         0.8789\n",
      "\n",
      "test/qrs_score:          0.8502\n",
      "---------------------------------\n",
      "\n",
      "ECG-UNET - INFO - Checkpoint 27 saved!\n",
      "ECG-UNET - INFO - Checkpoint 27 saved!\n"
     ]
    },
    {
     "name": "stderr",
     "output_type": "stream",
     "text": [
      "Epoch 27/300: 100%|████████████████████████████████████████████| 1600/1600 [00:04<00:00, 362.57it/s]\n",
      "Epoch 28/300: 100%|███████████████████████████████████████████| 1600/1600 [00:01<00:00, 1327.97it/s]"
     ]
    },
    {
     "name": "stdout",
     "output_type": "stream",
     "text": [
      "QRS_acc: 0.8858\n",
      "Scoring complete.\n",
      "QRS_acc: 0.845\n",
      "Scoring complete.\n",
      "ECG-UNET - INFO - \n",
      "Train epoch_28:\n",
      "--------------------\n",
      "train/epoch_loss:        2.503116875886917\n",
      "train/qrs_score:         0.8858\n",
      "\n",
      "test/qrs_score:          0.845\n",
      "---------------------------------\n",
      "\n",
      "ECG-UNET - INFO - \n",
      "Train epoch_28:\n",
      "--------------------\n",
      "train/epoch_loss:        2.503116875886917\n",
      "train/qrs_score:         0.8858\n",
      "\n",
      "test/qrs_score:          0.845\n",
      "---------------------------------\n",
      "\n",
      "ECG-UNET - INFO - Checkpoint 28 saved!\n",
      "ECG-UNET - INFO - Checkpoint 28 saved!\n"
     ]
    },
    {
     "name": "stderr",
     "output_type": "stream",
     "text": [
      "Epoch 28/300: 100%|████████████████████████████████████████████| 1600/1600 [00:04<00:00, 358.06it/s]\n",
      "Epoch 29/300:  48%|████████████             | 768/1600 [00:01<00:01, 663.87it/s, loss (batch)=0.354]"
     ]
    },
    {
     "name": "stdout",
     "output_type": "stream",
     "text": [
      "ECG-UNET - INFO - Train step_200: loss : 0.354438453912735\n",
      "ECG-UNET - INFO - Train step_200: loss : 0.354438453912735\n"
     ]
    },
    {
     "name": "stderr",
     "output_type": "stream",
     "text": [
      "Epoch 29/300:  96%|██████████████████████ | 1536/1600 [00:01<00:00, 1376.98it/s, loss (batch)=0.354]"
     ]
    },
    {
     "name": "stdout",
     "output_type": "stream",
     "text": [
      "QRS_acc: 0.8877\n",
      "Scoring complete.\n",
      "QRS_acc: 0.8565\n",
      "Scoring complete.\n",
      "ECG-UNET - INFO - \n",
      "Train epoch_29:\n",
      "--------------------\n",
      "train/epoch_loss:        2.4742640256881714\n",
      "train/qrs_score:         0.8877\n",
      "\n",
      "test/qrs_score:          0.8565\n",
      "---------------------------------\n",
      "\n",
      "ECG-UNET - INFO - \n",
      "Train epoch_29:\n",
      "--------------------\n",
      "train/epoch_loss:        2.4742640256881714\n",
      "train/qrs_score:         0.8877\n",
      "\n",
      "test/qrs_score:          0.8565\n",
      "---------------------------------\n",
      "\n",
      "ECG-UNET - INFO - Checkpoint 29 saved!\n",
      "ECG-UNET - INFO - Checkpoint 29 saved!\n"
     ]
    },
    {
     "name": "stderr",
     "output_type": "stream",
     "text": [
      "Epoch 29/300: 100%|████████████████████████| 1600/1600 [00:04<00:00, 354.17it/s, loss (batch)=0.354]\n",
      "Epoch 30/300: 100%|███████████████████████████████████████████| 1600/1600 [00:01<00:00, 1327.37it/s]"
     ]
    },
    {
     "name": "stdout",
     "output_type": "stream",
     "text": [
      "QRS_acc: 0.897\n",
      "Scoring complete.\n",
      "QRS_acc: 0.8588\n",
      "Scoring complete.\n",
      "ECG-UNET - INFO - \n",
      "Train epoch_30:\n",
      "--------------------\n",
      "train/epoch_loss:        2.4606487452983856\n",
      "train/qrs_score:         0.897\n",
      "\n",
      "test/qrs_score:          0.8588\n",
      "---------------------------------\n",
      "\n",
      "ECG-UNET - INFO - \n",
      "Train epoch_30:\n",
      "--------------------\n",
      "train/epoch_loss:        2.4606487452983856\n",
      "train/qrs_score:         0.897\n",
      "\n",
      "test/qrs_score:          0.8588\n",
      "---------------------------------\n",
      "\n",
      "ECG-UNET - INFO - Checkpoint 30 saved!\n",
      "ECG-UNET - INFO - Checkpoint 30 saved!\n"
     ]
    },
    {
     "name": "stderr",
     "output_type": "stream",
     "text": [
      "Epoch 30/300: 100%|████████████████████████████████████████████| 1600/1600 [00:04<00:00, 354.03it/s]\n",
      "Epoch 31/300: 100%|███████████████████████████████████████████| 1600/1600 [00:01<00:00, 1328.99it/s]"
     ]
    },
    {
     "name": "stdout",
     "output_type": "stream",
     "text": [
      "QRS_acc: 0.8974\n",
      "Scoring complete.\n",
      "QRS_acc: 0.8615\n",
      "Scoring complete.\n",
      "ECG-UNET - INFO - \n",
      "Train epoch_31:\n",
      "--------------------\n",
      "train/epoch_loss:        2.44876828789711\n",
      "train/qrs_score:         0.8974\n",
      "\n",
      "test/qrs_score:          0.8615\n",
      "---------------------------------\n",
      "\n",
      "ECG-UNET - INFO - \n",
      "Train epoch_31:\n",
      "--------------------\n",
      "train/epoch_loss:        2.44876828789711\n",
      "train/qrs_score:         0.8974\n",
      "\n",
      "test/qrs_score:          0.8615\n",
      "---------------------------------\n",
      "\n",
      "ECG-UNET - INFO - Checkpoint 31 saved!\n",
      "ECG-UNET - INFO - Checkpoint 31 saved!\n"
     ]
    },
    {
     "name": "stderr",
     "output_type": "stream",
     "text": [
      "Epoch 31/300: 100%|████████████████████████████████████████████| 1600/1600 [00:04<00:00, 361.00it/s]\n",
      "Epoch 32/300:  32%|████████                 | 512/1600 [00:01<00:04, 221.23it/s, loss (batch)=0.346]"
     ]
    },
    {
     "name": "stdout",
     "output_type": "stream",
     "text": [
      "ECG-UNET - INFO - Train step_220: loss : 0.3456718623638153\n",
      "ECG-UNET - INFO - Train step_220: loss : 0.3456718623638153\n"
     ]
    },
    {
     "name": "stderr",
     "output_type": "stream",
     "text": [
      "Epoch 32/300: 100%|███████████████████████| 1600/1600 [00:01<00:00, 1304.74it/s, loss (batch)=0.346]"
     ]
    },
    {
     "name": "stdout",
     "output_type": "stream",
     "text": [
      "QRS_acc: 0.8951\n",
      "Scoring complete.\n",
      "QRS_acc: 0.8582\n",
      "Scoring complete.\n",
      "ECG-UNET - INFO - \n",
      "Train epoch_32:\n",
      "--------------------\n",
      "train/epoch_loss:        2.42172434926033\n",
      "train/qrs_score:         0.8951\n",
      "\n",
      "test/qrs_score:          0.8582\n",
      "---------------------------------\n",
      "\n",
      "ECG-UNET - INFO - \n",
      "Train epoch_32:\n",
      "--------------------\n",
      "train/epoch_loss:        2.42172434926033\n",
      "train/qrs_score:         0.8951\n",
      "\n",
      "test/qrs_score:          0.8582\n",
      "---------------------------------\n",
      "\n",
      "ECG-UNET - INFO - Checkpoint 32 saved!\n",
      "ECG-UNET - INFO - Checkpoint 32 saved!\n"
     ]
    },
    {
     "name": "stderr",
     "output_type": "stream",
     "text": [
      "Epoch 32/300: 100%|████████████████████████| 1600/1600 [00:04<00:00, 352.56it/s, loss (batch)=0.346]\n",
      "Epoch 33/300: 100%|███████████████████████████████████████████| 1600/1600 [00:01<00:00, 1319.62it/s]"
     ]
    },
    {
     "name": "stdout",
     "output_type": "stream",
     "text": [
      "QRS_acc: 0.9069\n",
      "Scoring complete.\n",
      "QRS_acc: 0.8635\n",
      "Scoring complete.\n",
      "ECG-UNET - INFO - \n",
      "Train epoch_33:\n",
      "--------------------\n",
      "train/epoch_loss:        2.406389683485031\n",
      "train/qrs_score:         0.9069\n",
      "\n",
      "test/qrs_score:          0.8635\n",
      "---------------------------------\n",
      "\n",
      "ECG-UNET - INFO - \n",
      "Train epoch_33:\n",
      "--------------------\n",
      "train/epoch_loss:        2.406389683485031\n",
      "train/qrs_score:         0.9069\n",
      "\n",
      "test/qrs_score:          0.8635\n",
      "---------------------------------\n",
      "\n",
      "ECG-UNET - INFO - Checkpoint 33 saved!\n",
      "ECG-UNET - INFO - Checkpoint 33 saved!\n"
     ]
    },
    {
     "name": "stderr",
     "output_type": "stream",
     "text": [
      "Epoch 33/300: 100%|████████████████████████████████████████████| 1600/1600 [00:04<00:00, 346.00it/s]\n",
      "Epoch 34/300: 100%|███████████████████████████████████████████| 1600/1600 [00:01<00:00, 1344.24it/s]"
     ]
    },
    {
     "name": "stdout",
     "output_type": "stream",
     "text": [
      "QRS_acc: 0.9071\n",
      "Scoring complete.\n",
      "QRS_acc: 0.862\n",
      "Scoring complete.\n",
      "ECG-UNET - INFO - \n",
      "Train epoch_34:\n",
      "--------------------\n",
      "train/epoch_loss:        2.3854253590106964\n",
      "train/qrs_score:         0.9071\n",
      "\n",
      "test/qrs_score:          0.862\n",
      "---------------------------------\n",
      "\n",
      "ECG-UNET - INFO - \n",
      "Train epoch_34:\n",
      "--------------------\n",
      "train/epoch_loss:        2.3854253590106964\n",
      "train/qrs_score:         0.9071\n",
      "\n",
      "test/qrs_score:          0.862\n",
      "---------------------------------\n",
      "\n",
      "ECG-UNET - INFO - Checkpoint 34 saved!\n",
      "ECG-UNET - INFO - Checkpoint 34 saved!\n"
     ]
    },
    {
     "name": "stderr",
     "output_type": "stream",
     "text": [
      "Epoch 34/300: 100%|████████████████████████████████████████████| 1600/1600 [00:04<00:00, 362.69it/s]\n",
      "Epoch 35/300:  16%|████                     | 256/1600 [00:01<00:06, 221.17it/s, loss (batch)=0.338]"
     ]
    },
    {
     "name": "stdout",
     "output_type": "stream",
     "text": [
      "ECG-UNET - INFO - Train step_240: loss : 0.33793774247169495\n",
      "ECG-UNET - INFO - Train step_240: loss : 0.33793774247169495\n"
     ]
    },
    {
     "name": "stderr",
     "output_type": "stream",
     "text": [
      "Epoch 35/300:  96%|██████████████████████ | 1536/1600 [00:01<00:00, 1452.44it/s, loss (batch)=0.338]"
     ]
    },
    {
     "name": "stdout",
     "output_type": "stream",
     "text": [
      "QRS_acc: 0.9068\n",
      "Scoring complete.\n",
      "QRS_acc: 0.8535\n",
      "Scoring complete.\n",
      "ECG-UNET - INFO - \n",
      "Train epoch_35:\n",
      "--------------------\n",
      "train/epoch_loss:        2.368467628955841\n",
      "train/qrs_score:         0.9068\n",
      "\n",
      "test/qrs_score:          0.8535\n",
      "---------------------------------\n",
      "\n",
      "ECG-UNET - INFO - \n",
      "Train epoch_35:\n",
      "--------------------\n",
      "train/epoch_loss:        2.368467628955841\n",
      "train/qrs_score:         0.9068\n",
      "\n",
      "test/qrs_score:          0.8535\n",
      "---------------------------------\n",
      "\n",
      "ECG-UNET - INFO - Checkpoint 35 saved!\n",
      "ECG-UNET - INFO - Checkpoint 35 saved!\n"
     ]
    },
    {
     "name": "stderr",
     "output_type": "stream",
     "text": [
      "Epoch 35/300: 100%|████████████████████████| 1600/1600 [00:04<00:00, 351.40it/s, loss (batch)=0.338]\n",
      "Epoch 36/300: 100%|███████████████████████████████████████████| 1600/1600 [00:01<00:00, 1325.66it/s]"
     ]
    },
    {
     "name": "stdout",
     "output_type": "stream",
     "text": [
      "QRS_acc: 0.9069\n",
      "Scoring complete.\n",
      "QRS_acc: 0.8545\n",
      "Scoring complete.\n",
      "ECG-UNET - INFO - \n",
      "Train epoch_36:\n",
      "--------------------\n",
      "train/epoch_loss:        2.350129097700119\n",
      "train/qrs_score:         0.9069\n",
      "\n",
      "test/qrs_score:          0.8545\n",
      "---------------------------------\n",
      "\n",
      "ECG-UNET - INFO - \n",
      "Train epoch_36:\n",
      "--------------------\n",
      "train/epoch_loss:        2.350129097700119\n",
      "train/qrs_score:         0.9069\n",
      "\n",
      "test/qrs_score:          0.8545\n",
      "---------------------------------\n",
      "\n",
      "ECG-UNET - INFO - Checkpoint 36 saved!\n",
      "ECG-UNET - INFO - Checkpoint 36 saved!\n"
     ]
    },
    {
     "name": "stderr",
     "output_type": "stream",
     "text": [
      "Epoch 36/300: 100%|████████████████████████████████████████████| 1600/1600 [00:04<00:00, 365.34it/s]\n",
      "Epoch 37/300: 100%|███████████████████████████████████████████| 1600/1600 [00:01<00:00, 1344.43it/s]"
     ]
    },
    {
     "name": "stdout",
     "output_type": "stream",
     "text": [
      "QRS_acc: 0.9083\n",
      "Scoring complete.\n",
      "QRS_acc: 0.8575\n",
      "Scoring complete.\n",
      "ECG-UNET - INFO - \n",
      "Train epoch_37:\n",
      "--------------------\n",
      "train/epoch_loss:        2.337514281272888\n",
      "train/qrs_score:         0.9083\n",
      "\n",
      "test/qrs_score:          0.8575\n",
      "---------------------------------\n",
      "\n",
      "ECG-UNET - INFO - \n",
      "Train epoch_37:\n",
      "--------------------\n",
      "train/epoch_loss:        2.337514281272888\n",
      "train/qrs_score:         0.9083\n",
      "\n",
      "test/qrs_score:          0.8575\n",
      "---------------------------------\n",
      "\n",
      "ECG-UNET - INFO - Checkpoint 37 saved!\n",
      "ECG-UNET - INFO - Checkpoint 37 saved!\n"
     ]
    },
    {
     "name": "stderr",
     "output_type": "stream",
     "text": [
      "Epoch 37/300: 100%|████████████████████████████████████████████| 1600/1600 [00:04<00:00, 362.84it/s]\n",
      "Epoch 38/300:   0%|                                    | 0/1600 [00:01<?, ?it/s, loss (batch)=0.329]"
     ]
    },
    {
     "name": "stdout",
     "output_type": "stream",
     "text": [
      "ECG-UNET - INFO - Train step_260: loss : 0.3285309076309204\n",
      "ECG-UNET - INFO - Train step_260: loss : 0.3285309076309204\n"
     ]
    },
    {
     "name": "stderr",
     "output_type": "stream",
     "text": [
      "Epoch 38/300: 100%|███████████████████████| 1600/1600 [00:01<00:00, 1306.97it/s, loss (batch)=0.329]"
     ]
    },
    {
     "name": "stdout",
     "output_type": "stream",
     "text": [
      "QRS_acc: 0.9134\n",
      "Scoring complete.\n",
      "QRS_acc: 0.8642\n",
      "Scoring complete.\n",
      "ECG-UNET - INFO - \n",
      "Train epoch_38:\n",
      "--------------------\n",
      "train/epoch_loss:        2.31905734539032\n",
      "train/qrs_score:         0.9134\n",
      "\n",
      "test/qrs_score:          0.8642\n",
      "---------------------------------\n",
      "\n",
      "ECG-UNET - INFO - \n",
      "Train epoch_38:\n",
      "--------------------\n",
      "train/epoch_loss:        2.31905734539032\n",
      "train/qrs_score:         0.9134\n",
      "\n",
      "test/qrs_score:          0.8642\n",
      "---------------------------------\n",
      "\n",
      "ECG-UNET - INFO - Checkpoint 38 saved!\n",
      "ECG-UNET - INFO - Checkpoint 38 saved!\n"
     ]
    },
    {
     "name": "stderr",
     "output_type": "stream",
     "text": [
      "Epoch 38/300: 100%|████████████████████████| 1600/1600 [00:04<00:00, 354.04it/s, loss (batch)=0.329]\n",
      "Epoch 39/300: 100%|███████████████████████████████████████████| 1600/1600 [00:01<00:00, 1293.50it/s]"
     ]
    },
    {
     "name": "stdout",
     "output_type": "stream",
     "text": [
      "QRS_acc: 0.9138\n",
      "Scoring complete.\n",
      "QRS_acc: 0.8575\n",
      "Scoring complete.\n",
      "ECG-UNET - INFO - \n",
      "Train epoch_39:\n",
      "--------------------\n",
      "train/epoch_loss:        2.321988105773926\n",
      "train/qrs_score:         0.9138\n",
      "\n",
      "test/qrs_score:          0.8575\n",
      "---------------------------------\n",
      "\n",
      "ECG-UNET - INFO - \n",
      "Train epoch_39:\n",
      "--------------------\n",
      "train/epoch_loss:        2.321988105773926\n",
      "train/qrs_score:         0.9138\n",
      "\n",
      "test/qrs_score:          0.8575\n",
      "---------------------------------\n",
      "\n",
      "ECG-UNET - INFO - Checkpoint 39 saved!\n",
      "ECG-UNET - INFO - Checkpoint 39 saved!\n"
     ]
    },
    {
     "name": "stderr",
     "output_type": "stream",
     "text": [
      "Epoch 39/300: 100%|████████████████████████████████████████████| 1600/1600 [00:04<00:00, 356.38it/s]\n",
      "Epoch 40/300:  96%|██████████████████████ | 1536/1600 [00:01<00:00, 1160.58it/s, loss (batch)=0.333]"
     ]
    },
    {
     "name": "stdout",
     "output_type": "stream",
     "text": [
      "ECG-UNET - INFO - Train step_280: loss : 0.3333805799484253\n",
      "ECG-UNET - INFO - Train step_280: loss : 0.3333805799484253\n"
     ]
    },
    {
     "name": "stderr",
     "output_type": "stream",
     "text": [
      "\r",
      "Epoch 40/300: 100%|███████████████████████| 1600/1600 [00:01<00:00, 1323.17it/s, loss (batch)=0.333]"
     ]
    },
    {
     "name": "stdout",
     "output_type": "stream",
     "text": [
      "QRS_acc: 0.9203\n",
      "Scoring complete.\n",
      "QRS_acc: 0.8662\n",
      "Scoring complete.\n",
      "ECG-UNET - INFO - \n",
      "Train epoch_40:\n",
      "--------------------\n",
      "train/epoch_loss:        2.2932372391223907\n",
      "train/qrs_score:         0.9203\n",
      "\n",
      "test/qrs_score:          0.8662\n",
      "---------------------------------\n",
      "\n",
      "ECG-UNET - INFO - \n",
      "Train epoch_40:\n",
      "--------------------\n",
      "train/epoch_loss:        2.2932372391223907\n",
      "train/qrs_score:         0.9203\n",
      "\n",
      "test/qrs_score:          0.8662\n",
      "---------------------------------\n",
      "\n",
      "ECG-UNET - INFO - Checkpoint 40 saved!\n",
      "ECG-UNET - INFO - Checkpoint 40 saved!\n"
     ]
    },
    {
     "name": "stderr",
     "output_type": "stream",
     "text": [
      "Epoch 40/300: 100%|████████████████████████| 1600/1600 [00:04<00:00, 360.36it/s, loss (batch)=0.333]\n",
      "Epoch 41/300: 100%|███████████████████████████████████████████| 1600/1600 [00:01<00:00, 1325.80it/s]"
     ]
    },
    {
     "name": "stdout",
     "output_type": "stream",
     "text": [
      "QRS_acc: 0.9186\n",
      "Scoring complete.\n",
      "QRS_acc: 0.8682\n",
      "Scoring complete.\n",
      "ECG-UNET - INFO - \n",
      "Train epoch_41:\n",
      "--------------------\n",
      "train/epoch_loss:        2.2706636488437653\n",
      "train/qrs_score:         0.9186\n",
      "\n",
      "test/qrs_score:          0.8682\n",
      "---------------------------------\n",
      "\n",
      "ECG-UNET - INFO - \n",
      "Train epoch_41:\n",
      "--------------------\n",
      "train/epoch_loss:        2.2706636488437653\n",
      "train/qrs_score:         0.9186\n",
      "\n",
      "test/qrs_score:          0.8682\n",
      "---------------------------------\n",
      "\n",
      "ECG-UNET - INFO - Checkpoint 41 saved!\n",
      "ECG-UNET - INFO - Checkpoint 41 saved!\n"
     ]
    },
    {
     "name": "stderr",
     "output_type": "stream",
     "text": [
      "Epoch 41/300: 100%|████████████████████████████████████████████| 1600/1600 [00:04<00:00, 363.48it/s]\n",
      "Epoch 42/300: 100%|███████████████████████████████████████████| 1600/1600 [00:01<00:00, 1345.77it/s]"
     ]
    },
    {
     "name": "stdout",
     "output_type": "stream",
     "text": [
      "QRS_acc: 0.9175\n",
      "Scoring complete.\n",
      "QRS_acc: 0.8647\n",
      "Scoring complete.\n",
      "ECG-UNET - INFO - \n",
      "Train epoch_42:\n",
      "--------------------\n",
      "train/epoch_loss:        2.2521277964115143\n",
      "train/qrs_score:         0.9175\n",
      "\n",
      "test/qrs_score:          0.8647\n",
      "---------------------------------\n",
      "\n",
      "ECG-UNET - INFO - \n",
      "Train epoch_42:\n",
      "--------------------\n",
      "train/epoch_loss:        2.2521277964115143\n",
      "train/qrs_score:         0.9175\n",
      "\n",
      "test/qrs_score:          0.8647\n",
      "---------------------------------\n",
      "\n",
      "ECG-UNET - INFO - Checkpoint 42 saved!\n",
      "ECG-UNET - INFO - Checkpoint 42 saved!\n"
     ]
    },
    {
     "name": "stderr",
     "output_type": "stream",
     "text": [
      "Epoch 42/300: 100%|████████████████████████████████████████████| 1600/1600 [00:04<00:00, 350.11it/s]\n",
      "Epoch 43/300:  80%|██████████████████▍    | 1280/1600 [00:01<00:00, 1188.68it/s, loss (batch)=0.317]"
     ]
    },
    {
     "name": "stdout",
     "output_type": "stream",
     "text": [
      "ECG-UNET - INFO - Train step_300: loss : 0.31735774874687195\n",
      "ECG-UNET - INFO - Train step_300: loss : 0.31735774874687195\n"
     ]
    },
    {
     "name": "stderr",
     "output_type": "stream",
     "text": [
      "\r",
      "Epoch 43/300:  96%|██████████████████████ | 1536/1600 [00:01<00:00, 1378.99it/s, loss (batch)=0.317]"
     ]
    },
    {
     "name": "stdout",
     "output_type": "stream",
     "text": [
      "QRS_acc: 0.9253\n",
      "Scoring complete.\n",
      "QRS_acc: 0.8798\n",
      "Scoring complete.\n",
      "ECG-UNET - INFO - \n",
      "Train epoch_43:\n",
      "--------------------\n",
      "train/epoch_loss:        2.2384065985679626\n",
      "train/qrs_score:         0.9253\n",
      "\n",
      "test/qrs_score:          0.8798\n",
      "---------------------------------\n",
      "\n",
      "ECG-UNET - INFO - \n",
      "Train epoch_43:\n",
      "--------------------\n",
      "train/epoch_loss:        2.2384065985679626\n",
      "train/qrs_score:         0.9253\n",
      "\n",
      "test/qrs_score:          0.8798\n",
      "---------------------------------\n",
      "\n",
      "ECG-UNET - INFO - Checkpoint 43 saved!\n",
      "ECG-UNET - INFO - Checkpoint 43 saved!\n"
     ]
    },
    {
     "name": "stderr",
     "output_type": "stream",
     "text": [
      "Epoch 43/300: 100%|████████████████████████| 1600/1600 [00:04<00:00, 360.76it/s, loss (batch)=0.317]\n",
      "Epoch 44/300: 100%|███████████████████████████████████████████| 1600/1600 [00:01<00:00, 1343.16it/s]"
     ]
    },
    {
     "name": "stdout",
     "output_type": "stream",
     "text": [
      "QRS_acc: 0.8972\n",
      "Scoring complete.\n",
      "QRS_acc: 0.8492\n",
      "Scoring complete.\n",
      "ECG-UNET - INFO - \n",
      "Train epoch_44:\n",
      "--------------------\n",
      "train/epoch_loss:        2.2237522304058075\n",
      "train/qrs_score:         0.8972\n",
      "\n",
      "test/qrs_score:          0.8492\n",
      "---------------------------------\n",
      "\n",
      "ECG-UNET - INFO - \n",
      "Train epoch_44:\n",
      "--------------------\n",
      "train/epoch_loss:        2.2237522304058075\n",
      "train/qrs_score:         0.8972\n",
      "\n",
      "test/qrs_score:          0.8492\n",
      "---------------------------------\n",
      "\n",
      "ECG-UNET - INFO - Checkpoint 44 saved!\n",
      "ECG-UNET - INFO - Checkpoint 44 saved!\n"
     ]
    },
    {
     "name": "stderr",
     "output_type": "stream",
     "text": [
      "Epoch 44/300: 100%|████████████████████████████████████████████| 1600/1600 [00:04<00:00, 361.13it/s]\n",
      "Epoch 45/300: 100%|███████████████████████████████████████████| 1600/1600 [00:01<00:00, 1330.43it/s]"
     ]
    },
    {
     "name": "stdout",
     "output_type": "stream",
     "text": [
      "QRS_acc: 0.9209\n",
      "Scoring complete.\n",
      "QRS_acc: 0.8542\n",
      "Scoring complete.\n",
      "ECG-UNET - INFO - \n",
      "Train epoch_45:\n",
      "--------------------\n",
      "train/epoch_loss:        2.2101831138134003\n",
      "train/qrs_score:         0.9209\n",
      "\n",
      "test/qrs_score:          0.8542\n",
      "---------------------------------\n",
      "\n",
      "ECG-UNET - INFO - \n",
      "Train epoch_45:\n",
      "--------------------\n",
      "train/epoch_loss:        2.2101831138134003\n",
      "train/qrs_score:         0.9209\n",
      "\n",
      "test/qrs_score:          0.8542\n",
      "---------------------------------\n",
      "\n",
      "ECG-UNET - INFO - Checkpoint 45 saved!\n",
      "ECG-UNET - INFO - Checkpoint 45 saved!\n"
     ]
    },
    {
     "name": "stderr",
     "output_type": "stream",
     "text": [
      "Epoch 45/300: 100%|████████████████████████████████████████████| 1600/1600 [00:04<00:00, 359.00it/s]\n",
      "Epoch 46/300:  64%|███████████████▎        | 1024/1600 [00:01<00:00, 717.43it/s, loss (batch)=0.314]"
     ]
    },
    {
     "name": "stdout",
     "output_type": "stream",
     "text": [
      "ECG-UNET - INFO - Train step_320: loss : 0.3136306703090668\n",
      "ECG-UNET - INFO - Train step_320: loss : 0.3136306703090668\n"
     ]
    },
    {
     "name": "stderr",
     "output_type": "stream",
     "text": [
      "Epoch 46/300: 100%|███████████████████████| 1600/1600 [00:01<00:00, 1339.32it/s, loss (batch)=0.314]"
     ]
    },
    {
     "name": "stdout",
     "output_type": "stream",
     "text": [
      "QRS_acc: 0.9222\n",
      "Scoring complete.\n",
      "QRS_acc: 0.8722\n",
      "Scoring complete.\n",
      "ECG-UNET - INFO - \n",
      "Train epoch_46:\n",
      "--------------------\n",
      "train/epoch_loss:        2.187462031841278\n",
      "train/qrs_score:         0.9222\n",
      "\n",
      "test/qrs_score:          0.8722\n",
      "---------------------------------\n",
      "\n",
      "ECG-UNET - INFO - \n",
      "Train epoch_46:\n",
      "--------------------\n",
      "train/epoch_loss:        2.187462031841278\n",
      "train/qrs_score:         0.9222\n",
      "\n",
      "test/qrs_score:          0.8722\n",
      "---------------------------------\n",
      "\n",
      "ECG-UNET - INFO - Checkpoint 46 saved!\n",
      "ECG-UNET - INFO - Checkpoint 46 saved!\n"
     ]
    },
    {
     "name": "stderr",
     "output_type": "stream",
     "text": [
      "Epoch 46/300: 100%|████████████████████████| 1600/1600 [00:04<00:00, 363.17it/s, loss (batch)=0.314]\n",
      "Epoch 47/300: 100%|███████████████████████████████████████████| 1600/1600 [00:01<00:00, 1318.11it/s]"
     ]
    },
    {
     "name": "stdout",
     "output_type": "stream",
     "text": [
      "QRS_acc: 0.9256\n",
      "Scoring complete.\n",
      "QRS_acc: 0.8772\n",
      "Scoring complete.\n",
      "ECG-UNET - INFO - \n",
      "Train epoch_47:\n",
      "--------------------\n",
      "train/epoch_loss:        2.1688483357429504\n",
      "train/qrs_score:         0.9256\n",
      "\n",
      "test/qrs_score:          0.8772\n",
      "---------------------------------\n",
      "\n",
      "ECG-UNET - INFO - \n",
      "Train epoch_47:\n",
      "--------------------\n",
      "train/epoch_loss:        2.1688483357429504\n",
      "train/qrs_score:         0.9256\n",
      "\n",
      "test/qrs_score:          0.8772\n",
      "---------------------------------\n",
      "\n",
      "ECG-UNET - INFO - Checkpoint 47 saved!\n",
      "ECG-UNET - INFO - Checkpoint 47 saved!\n"
     ]
    },
    {
     "name": "stderr",
     "output_type": "stream",
     "text": [
      "Epoch 47/300: 100%|████████████████████████████████████████████| 1600/1600 [00:04<00:00, 360.98it/s]\n",
      "Epoch 48/300: 100%|███████████████████████████████████████████| 1600/1600 [00:01<00:00, 1270.49it/s]"
     ]
    },
    {
     "name": "stdout",
     "output_type": "stream",
     "text": [
      "QRS_acc: 0.9318\n",
      "Scoring complete.\n",
      "QRS_acc: 0.8738\n",
      "Scoring complete.\n",
      "ECG-UNET - INFO - \n",
      "Train epoch_48:\n",
      "--------------------\n",
      "train/epoch_loss:        2.153410494327545\n",
      "train/qrs_score:         0.9318\n",
      "\n",
      "test/qrs_score:          0.8738\n",
      "---------------------------------\n",
      "\n",
      "ECG-UNET - INFO - \n",
      "Train epoch_48:\n",
      "--------------------\n",
      "train/epoch_loss:        2.153410494327545\n",
      "train/qrs_score:         0.9318\n",
      "\n",
      "test/qrs_score:          0.8738\n",
      "---------------------------------\n",
      "\n",
      "ECG-UNET - INFO - Checkpoint 48 saved!\n",
      "ECG-UNET - INFO - Checkpoint 48 saved!\n"
     ]
    },
    {
     "name": "stderr",
     "output_type": "stream",
     "text": [
      "Epoch 48/300: 100%|████████████████████████████████████████████| 1600/1600 [00:04<00:00, 352.21it/s]\n",
      "Epoch 49/300:  48%|████████████▍             | 768/1600 [00:01<00:01, 636.08it/s, loss (batch)=0.31]"
     ]
    },
    {
     "name": "stdout",
     "output_type": "stream",
     "text": [
      "ECG-UNET - INFO - Train step_340: loss : 0.3104051649570465\n",
      "ECG-UNET - INFO - Train step_340: loss : 0.3104051649570465\n"
     ]
    },
    {
     "name": "stderr",
     "output_type": "stream",
     "text": [
      "Epoch 49/300:  96%|███████████████████████ | 1536/1600 [00:01<00:00, 1337.60it/s, loss (batch)=0.31]"
     ]
    },
    {
     "name": "stdout",
     "output_type": "stream",
     "text": [
      "QRS_acc: 0.9345\n",
      "Scoring complete.\n",
      "QRS_acc: 0.8795\n",
      "Scoring complete.\n",
      "ECG-UNET - INFO - \n",
      "Train epoch_49:\n",
      "--------------------\n",
      "train/epoch_loss:        2.1449523270130157\n",
      "train/qrs_score:         0.9345\n",
      "\n",
      "test/qrs_score:          0.8795\n",
      "---------------------------------\n",
      "\n",
      "ECG-UNET - INFO - \n",
      "Train epoch_49:\n",
      "--------------------\n",
      "train/epoch_loss:        2.1449523270130157\n",
      "train/qrs_score:         0.9345\n",
      "\n",
      "test/qrs_score:          0.8795\n",
      "---------------------------------\n",
      "\n",
      "ECG-UNET - INFO - Checkpoint 49 saved!\n",
      "ECG-UNET - INFO - Checkpoint 49 saved!\n"
     ]
    },
    {
     "name": "stderr",
     "output_type": "stream",
     "text": [
      "Epoch 49/300: 100%|█████████████████████████| 1600/1600 [00:04<00:00, 345.48it/s, loss (batch)=0.31]\n",
      "Epoch 50/300: 100%|███████████████████████████████████████████| 1600/1600 [00:01<00:00, 1274.70it/s]"
     ]
    },
    {
     "name": "stdout",
     "output_type": "stream",
     "text": [
      "QRS_acc: 0.9406\n",
      "Scoring complete.\n",
      "QRS_acc: 0.8848\n",
      "Scoring complete.\n",
      "ECG-UNET - INFO - \n",
      "Train epoch_50:\n",
      "--------------------\n",
      "train/epoch_loss:        2.121850550174713\n",
      "train/qrs_score:         0.9406\n",
      "\n",
      "test/qrs_score:          0.8848\n",
      "---------------------------------\n",
      "\n",
      "ECG-UNET - INFO - \n",
      "Train epoch_50:\n",
      "--------------------\n",
      "train/epoch_loss:        2.121850550174713\n",
      "train/qrs_score:         0.9406\n",
      "\n",
      "test/qrs_score:          0.8848\n",
      "---------------------------------\n",
      "\n",
      "ECG-UNET - INFO - Checkpoint 50 saved!\n",
      "ECG-UNET - INFO - Checkpoint 50 saved!\n"
     ]
    },
    {
     "name": "stderr",
     "output_type": "stream",
     "text": [
      "Epoch 50/300: 100%|████████████████████████████████████████████| 1600/1600 [00:04<00:00, 351.60it/s]\n",
      "Epoch 51/300: 100%|███████████████████████████████████████████| 1600/1600 [00:01<00:00, 1339.19it/s]"
     ]
    },
    {
     "name": "stdout",
     "output_type": "stream",
     "text": [
      "QRS_acc: 0.9393\n",
      "Scoring complete.\n",
      "QRS_acc: 0.8748\n",
      "Scoring complete.\n",
      "ECG-UNET - INFO - \n",
      "Train epoch_51:\n",
      "--------------------\n",
      "train/epoch_loss:        2.1081733405590057\n",
      "train/qrs_score:         0.9393\n",
      "\n",
      "test/qrs_score:          0.8748\n",
      "---------------------------------\n",
      "\n",
      "ECG-UNET - INFO - \n",
      "Train epoch_51:\n",
      "--------------------\n",
      "train/epoch_loss:        2.1081733405590057\n",
      "train/qrs_score:         0.9393\n",
      "\n",
      "test/qrs_score:          0.8748\n",
      "---------------------------------\n",
      "\n",
      "ECG-UNET - INFO - Checkpoint 51 saved!\n",
      "ECG-UNET - INFO - Checkpoint 51 saved!\n"
     ]
    },
    {
     "name": "stderr",
     "output_type": "stream",
     "text": [
      "Epoch 51/300: 100%|████████████████████████████████████████████| 1600/1600 [00:04<00:00, 366.13it/s]\n",
      "Epoch 52/300:  32%|████████                 | 512/1600 [00:01<00:04, 225.41it/s, loss (batch)=0.298]"
     ]
    },
    {
     "name": "stdout",
     "output_type": "stream",
     "text": [
      "ECG-UNET - INFO - Train step_360: loss : 0.2979225814342499\n",
      "ECG-UNET - INFO - Train step_360: loss : 0.2979225814342499\n"
     ]
    },
    {
     "name": "stderr",
     "output_type": "stream",
     "text": [
      "Epoch 52/300: 100%|███████████████████████| 1600/1600 [00:01<00:00, 1331.94it/s, loss (batch)=0.298]"
     ]
    },
    {
     "name": "stdout",
     "output_type": "stream",
     "text": [
      "QRS_acc: 0.9368\n",
      "Scoring complete.\n",
      "QRS_acc: 0.8842\n",
      "Scoring complete.\n",
      "ECG-UNET - INFO - \n",
      "Train epoch_52:\n",
      "--------------------\n",
      "train/epoch_loss:        2.094086468219757\n",
      "train/qrs_score:         0.9368\n",
      "\n",
      "test/qrs_score:          0.8842\n",
      "---------------------------------\n",
      "\n",
      "ECG-UNET - INFO - \n",
      "Train epoch_52:\n",
      "--------------------\n",
      "train/epoch_loss:        2.094086468219757\n",
      "train/qrs_score:         0.9368\n",
      "\n",
      "test/qrs_score:          0.8842\n",
      "---------------------------------\n",
      "\n",
      "ECG-UNET - INFO - Checkpoint 52 saved!\n",
      "ECG-UNET - INFO - Checkpoint 52 saved!\n"
     ]
    },
    {
     "name": "stderr",
     "output_type": "stream",
     "text": [
      "Epoch 52/300: 100%|████████████████████████| 1600/1600 [00:04<00:00, 353.91it/s, loss (batch)=0.298]\n",
      "Epoch 53/300: 100%|███████████████████████████████████████████| 1600/1600 [00:01<00:00, 1295.31it/s]"
     ]
    },
    {
     "name": "stdout",
     "output_type": "stream",
     "text": [
      "QRS_acc: 0.9357\n",
      "Scoring complete.\n",
      "QRS_acc: 0.8732\n",
      "Scoring complete.\n",
      "ECG-UNET - INFO - \n",
      "Train epoch_53:\n",
      "--------------------\n",
      "train/epoch_loss:        2.0793498754501343\n",
      "train/qrs_score:         0.9357\n",
      "\n",
      "test/qrs_score:          0.8732\n",
      "---------------------------------\n",
      "\n",
      "ECG-UNET - INFO - \n",
      "Train epoch_53:\n",
      "--------------------\n",
      "train/epoch_loss:        2.0793498754501343\n",
      "train/qrs_score:         0.9357\n",
      "\n",
      "test/qrs_score:          0.8732\n",
      "---------------------------------\n",
      "\n",
      "ECG-UNET - INFO - Checkpoint 53 saved!\n",
      "ECG-UNET - INFO - Checkpoint 53 saved!\n"
     ]
    },
    {
     "name": "stderr",
     "output_type": "stream",
     "text": [
      "Epoch 53/300: 100%|████████████████████████████████████████████| 1600/1600 [00:04<00:00, 350.55it/s]\n",
      "Epoch 54/300: 100%|███████████████████████████████████████████| 1600/1600 [00:01<00:00, 1311.68it/s]"
     ]
    },
    {
     "name": "stdout",
     "output_type": "stream",
     "text": [
      "QRS_acc: 0.9356\n",
      "Scoring complete.\n",
      "QRS_acc: 0.8843\n",
      "Scoring complete.\n",
      "ECG-UNET - INFO - \n",
      "Train epoch_54:\n",
      "--------------------\n",
      "train/epoch_loss:        2.071100026369095\n",
      "train/qrs_score:         0.9356\n",
      "\n",
      "test/qrs_score:          0.8843\n",
      "---------------------------------\n",
      "\n",
      "ECG-UNET - INFO - \n",
      "Train epoch_54:\n",
      "--------------------\n",
      "train/epoch_loss:        2.071100026369095\n",
      "train/qrs_score:         0.9356\n",
      "\n",
      "test/qrs_score:          0.8843\n",
      "---------------------------------\n",
      "\n",
      "ECG-UNET - INFO - Checkpoint 54 saved!\n",
      "ECG-UNET - INFO - Checkpoint 54 saved!\n"
     ]
    },
    {
     "name": "stderr",
     "output_type": "stream",
     "text": [
      "Epoch 54/300: 100%|████████████████████████████████████████████| 1600/1600 [00:04<00:00, 357.67it/s]\n",
      "Epoch 55/300:  16%|████                     | 256/1600 [00:01<00:06, 222.44it/s, loss (batch)=0.298]"
     ]
    },
    {
     "name": "stdout",
     "output_type": "stream",
     "text": [
      "ECG-UNET - INFO - Train step_380: loss : 0.2975940406322479\n",
      "ECG-UNET - INFO - Train step_380: loss : 0.2975940406322479\n"
     ]
    },
    {
     "name": "stderr",
     "output_type": "stream",
     "text": [
      "Epoch 55/300:  96%|██████████████████████ | 1536/1600 [00:01<00:00, 1463.06it/s, loss (batch)=0.298]"
     ]
    },
    {
     "name": "stdout",
     "output_type": "stream",
     "text": [
      "QRS_acc: 0.9404\n",
      "Scoring complete.\n",
      "QRS_acc: 0.8852\n",
      "Scoring complete.\n",
      "ECG-UNET - INFO - \n",
      "Train epoch_55:\n",
      "--------------------\n",
      "train/epoch_loss:        2.0615507066249847\n",
      "train/qrs_score:         0.9404\n",
      "\n",
      "test/qrs_score:          0.8852\n",
      "---------------------------------\n",
      "\n",
      "ECG-UNET - INFO - \n",
      "Train epoch_55:\n",
      "--------------------\n",
      "train/epoch_loss:        2.0615507066249847\n",
      "train/qrs_score:         0.9404\n",
      "\n",
      "test/qrs_score:          0.8852\n",
      "---------------------------------\n",
      "\n",
      "ECG-UNET - INFO - Checkpoint 55 saved!\n",
      "ECG-UNET - INFO - Checkpoint 55 saved!\n"
     ]
    },
    {
     "name": "stderr",
     "output_type": "stream",
     "text": [
      "Epoch 55/300: 100%|████████████████████████| 1600/1600 [00:04<00:00, 358.97it/s, loss (batch)=0.298]\n",
      "Epoch 56/300: 100%|███████████████████████████████████████████| 1600/1600 [00:01<00:00, 1340.42it/s]"
     ]
    },
    {
     "name": "stdout",
     "output_type": "stream",
     "text": [
      "QRS_acc: 0.9433\n",
      "Scoring complete.\n",
      "QRS_acc: 0.8825\n",
      "Scoring complete.\n",
      "ECG-UNET - INFO - \n",
      "Train epoch_56:\n",
      "--------------------\n",
      "train/epoch_loss:        2.042494684457779\n",
      "train/qrs_score:         0.9433\n",
      "\n",
      "test/qrs_score:          0.8825\n",
      "---------------------------------\n",
      "\n",
      "ECG-UNET - INFO - \n",
      "Train epoch_56:\n",
      "--------------------\n",
      "train/epoch_loss:        2.042494684457779\n",
      "train/qrs_score:         0.9433\n",
      "\n",
      "test/qrs_score:          0.8825\n",
      "---------------------------------\n",
      "\n",
      "ECG-UNET - INFO - Checkpoint 56 saved!\n",
      "ECG-UNET - INFO - Checkpoint 56 saved!\n"
     ]
    },
    {
     "name": "stderr",
     "output_type": "stream",
     "text": [
      "Epoch 56/300: 100%|████████████████████████████████████████████| 1600/1600 [00:04<00:00, 360.21it/s]\n",
      "Epoch 57/300: 100%|███████████████████████████████████████████| 1600/1600 [00:01<00:00, 1325.14it/s]"
     ]
    },
    {
     "name": "stdout",
     "output_type": "stream",
     "text": [
      "QRS_acc: 0.9418\n",
      "Scoring complete.\n",
      "QRS_acc: 0.8808\n",
      "Scoring complete.\n",
      "ECG-UNET - INFO - \n",
      "Train epoch_57:\n",
      "--------------------\n",
      "train/epoch_loss:        2.0291192531585693\n",
      "train/qrs_score:         0.9418\n",
      "\n",
      "test/qrs_score:          0.8808\n",
      "---------------------------------\n",
      "\n",
      "ECG-UNET - INFO - \n",
      "Train epoch_57:\n",
      "--------------------\n",
      "train/epoch_loss:        2.0291192531585693\n",
      "train/qrs_score:         0.9418\n",
      "\n",
      "test/qrs_score:          0.8808\n",
      "---------------------------------\n",
      "\n",
      "ECG-UNET - INFO - Checkpoint 57 saved!\n",
      "ECG-UNET - INFO - Checkpoint 57 saved!\n"
     ]
    },
    {
     "name": "stderr",
     "output_type": "stream",
     "text": [
      "Epoch 57/300: 100%|████████████████████████████████████████████| 1600/1600 [00:04<00:00, 351.75it/s]\n",
      "Epoch 58/300:   0%|                                    | 0/1600 [00:01<?, ?it/s, loss (batch)=0.288]"
     ]
    },
    {
     "name": "stdout",
     "output_type": "stream",
     "text": [
      "ECG-UNET - INFO - Train step_400: loss : 0.28845784068107605\n",
      "ECG-UNET - INFO - Train step_400: loss : 0.28845784068107605\n"
     ]
    },
    {
     "name": "stderr",
     "output_type": "stream",
     "text": [
      "Epoch 58/300: 100%|███████████████████████| 1600/1600 [00:01<00:00, 1339.09it/s, loss (batch)=0.288]"
     ]
    },
    {
     "name": "stdout",
     "output_type": "stream",
     "text": [
      "QRS_acc: 0.9369\n",
      "Scoring complete.\n",
      "QRS_acc: 0.8832\n",
      "Scoring complete.\n",
      "ECG-UNET - INFO - \n",
      "Train epoch_58:\n",
      "--------------------\n",
      "train/epoch_loss:        2.0152934193611145\n",
      "train/qrs_score:         0.9369\n",
      "\n",
      "test/qrs_score:          0.8832\n",
      "---------------------------------\n",
      "\n",
      "ECG-UNET - INFO - \n",
      "Train epoch_58:\n",
      "--------------------\n",
      "train/epoch_loss:        2.0152934193611145\n",
      "train/qrs_score:         0.9369\n",
      "\n",
      "test/qrs_score:          0.8832\n",
      "---------------------------------\n",
      "\n",
      "ECG-UNET - INFO - Checkpoint 58 saved!\n",
      "ECG-UNET - INFO - Checkpoint 58 saved!\n"
     ]
    },
    {
     "name": "stderr",
     "output_type": "stream",
     "text": [
      "Epoch 58/300: 100%|████████████████████████| 1600/1600 [00:04<00:00, 363.99it/s, loss (batch)=0.288]\n",
      "Epoch 59/300: 100%|███████████████████████████████████████████| 1600/1600 [00:01<00:00, 1316.40it/s]"
     ]
    },
    {
     "name": "stdout",
     "output_type": "stream",
     "text": [
      "QRS_acc: 0.9422\n",
      "Scoring complete.\n",
      "QRS_acc: 0.8875\n",
      "Scoring complete.\n",
      "ECG-UNET - INFO - \n",
      "Train epoch_59:\n",
      "--------------------\n",
      "train/epoch_loss:        2.0031090080738068\n",
      "train/qrs_score:         0.9422\n",
      "\n",
      "test/qrs_score:          0.8875\n",
      "---------------------------------\n",
      "\n",
      "ECG-UNET - INFO - \n",
      "Train epoch_59:\n",
      "--------------------\n",
      "train/epoch_loss:        2.0031090080738068\n",
      "train/qrs_score:         0.9422\n",
      "\n",
      "test/qrs_score:          0.8875\n",
      "---------------------------------\n",
      "\n",
      "ECG-UNET - INFO - Checkpoint 59 saved!\n",
      "ECG-UNET - INFO - Checkpoint 59 saved!\n"
     ]
    },
    {
     "name": "stderr",
     "output_type": "stream",
     "text": [
      "Epoch 59/300: 100%|████████████████████████████████████████████| 1600/1600 [00:04<00:00, 358.62it/s]\n",
      "Epoch 60/300:  96%|███████████████████████ | 1536/1600 [00:01<00:00, 1094.36it/s, loss (batch)=0.28]"
     ]
    },
    {
     "name": "stdout",
     "output_type": "stream",
     "text": [
      "ECG-UNET - INFO - Train step_420: loss : 0.2800159454345703\n",
      "ECG-UNET - INFO - Train step_420: loss : 0.2800159454345703\n"
     ]
    },
    {
     "name": "stderr",
     "output_type": "stream",
     "text": [
      "\r",
      "Epoch 60/300: 100%|████████████████████████| 1600/1600 [00:01<00:00, 1261.09it/s, loss (batch)=0.28]"
     ]
    },
    {
     "name": "stdout",
     "output_type": "stream",
     "text": [
      "QRS_acc: 0.9488\n",
      "Scoring complete.\n",
      "QRS_acc: 0.8915\n",
      "Scoring complete.\n",
      "ECG-UNET - INFO - \n",
      "Train epoch_60:\n",
      "--------------------\n",
      "train/epoch_loss:        1.9827170670032501\n",
      "train/qrs_score:         0.9488\n",
      "\n",
      "test/qrs_score:          0.8915\n",
      "---------------------------------\n",
      "\n",
      "ECG-UNET - INFO - \n",
      "Train epoch_60:\n",
      "--------------------\n",
      "train/epoch_loss:        1.9827170670032501\n",
      "train/qrs_score:         0.9488\n",
      "\n",
      "test/qrs_score:          0.8915\n",
      "---------------------------------\n",
      "\n",
      "ECG-UNET - INFO - Checkpoint 60 saved!\n",
      "ECG-UNET - INFO - Checkpoint 60 saved!\n"
     ]
    },
    {
     "name": "stderr",
     "output_type": "stream",
     "text": [
      "Epoch 60/300: 100%|█████████████████████████| 1600/1600 [00:04<00:00, 348.04it/s, loss (batch)=0.28]\n",
      "Epoch 61/300: 100%|███████████████████████████████████████████| 1600/1600 [00:01<00:00, 1329.72it/s]"
     ]
    },
    {
     "name": "stdout",
     "output_type": "stream",
     "text": [
      "QRS_acc: 0.9446\n",
      "Scoring complete.\n",
      "QRS_acc: 0.889\n",
      "Scoring complete.\n",
      "ECG-UNET - INFO - \n",
      "Train epoch_61:\n",
      "--------------------\n",
      "train/epoch_loss:        1.9741626977920532\n",
      "train/qrs_score:         0.9446\n",
      "\n",
      "test/qrs_score:          0.889\n",
      "---------------------------------\n",
      "\n",
      "ECG-UNET - INFO - \n",
      "Train epoch_61:\n",
      "--------------------\n",
      "train/epoch_loss:        1.9741626977920532\n",
      "train/qrs_score:         0.9446\n",
      "\n",
      "test/qrs_score:          0.889\n",
      "---------------------------------\n",
      "\n",
      "ECG-UNET - INFO - Checkpoint 61 saved!\n",
      "ECG-UNET - INFO - Checkpoint 61 saved!\n"
     ]
    },
    {
     "name": "stderr",
     "output_type": "stream",
     "text": [
      "Epoch 61/300: 100%|████████████████████████████████████████████| 1600/1600 [00:04<00:00, 363.70it/s]\n",
      "Epoch 62/300: 100%|███████████████████████████████████████████| 1600/1600 [00:01<00:00, 1350.54it/s]"
     ]
    },
    {
     "name": "stdout",
     "output_type": "stream",
     "text": [
      "QRS_acc: 0.9472\n",
      "Scoring complete.\n",
      "QRS_acc: 0.892\n",
      "Scoring complete.\n",
      "ECG-UNET - INFO - \n",
      "Train epoch_62:\n",
      "--------------------\n",
      "train/epoch_loss:        1.9505820274353027\n",
      "train/qrs_score:         0.9472\n",
      "\n",
      "test/qrs_score:          0.892\n",
      "---------------------------------\n",
      "\n",
      "ECG-UNET - INFO - \n",
      "Train epoch_62:\n",
      "--------------------\n",
      "train/epoch_loss:        1.9505820274353027\n",
      "train/qrs_score:         0.9472\n",
      "\n",
      "test/qrs_score:          0.892\n",
      "---------------------------------\n",
      "\n",
      "ECG-UNET - INFO - Checkpoint 62 saved!\n",
      "ECG-UNET - INFO - Checkpoint 62 saved!\n"
     ]
    },
    {
     "name": "stderr",
     "output_type": "stream",
     "text": [
      "Epoch 62/300: 100%|████████████████████████████████████████████| 1600/1600 [00:04<00:00, 351.91it/s]\n",
      "Epoch 63/300:  80%|██████████████████▍    | 1280/1600 [00:01<00:00, 1138.10it/s, loss (batch)=0.278]"
     ]
    },
    {
     "name": "stdout",
     "output_type": "stream",
     "text": [
      "ECG-UNET - INFO - Train step_440: loss : 0.27837657928466797\n",
      "ECG-UNET - INFO - Train step_440: loss : 0.27837657928466797\n"
     ]
    },
    {
     "name": "stderr",
     "output_type": "stream",
     "text": [
      "\r",
      "Epoch 63/300:  96%|██████████████████████ | 1536/1600 [00:01<00:00, 1327.63it/s, loss (batch)=0.278]"
     ]
    },
    {
     "name": "stdout",
     "output_type": "stream",
     "text": [
      "QRS_acc: 0.9462\n",
      "Scoring complete.\n",
      "QRS_acc: 0.8835\n",
      "Scoring complete.\n",
      "ECG-UNET - INFO - \n",
      "Train epoch_63:\n",
      "--------------------\n",
      "train/epoch_loss:        1.9360074698925018\n",
      "train/qrs_score:         0.9462\n",
      "\n",
      "test/qrs_score:          0.8835\n",
      "---------------------------------\n",
      "\n",
      "ECG-UNET - INFO - \n",
      "Train epoch_63:\n",
      "--------------------\n",
      "train/epoch_loss:        1.9360074698925018\n",
      "train/qrs_score:         0.9462\n",
      "\n",
      "test/qrs_score:          0.8835\n",
      "---------------------------------\n",
      "\n",
      "ECG-UNET - INFO - Checkpoint 63 saved!\n",
      "ECG-UNET - INFO - Checkpoint 63 saved!\n"
     ]
    },
    {
     "name": "stderr",
     "output_type": "stream",
     "text": [
      "Epoch 63/300: 100%|████████████████████████| 1600/1600 [00:04<00:00, 366.28it/s, loss (batch)=0.278]\n",
      "Epoch 64/300: 100%|███████████████████████████████████████████| 1600/1600 [00:01<00:00, 1334.61it/s]"
     ]
    },
    {
     "name": "stdout",
     "output_type": "stream",
     "text": [
      "QRS_acc: 0.9482\n",
      "Scoring complete.\n",
      "QRS_acc: 0.8995\n",
      "Scoring complete.\n",
      "ECG-UNET - INFO - \n",
      "Train epoch_64:\n",
      "--------------------\n",
      "train/epoch_loss:        1.9258320927619934\n",
      "train/qrs_score:         0.9482\n",
      "\n",
      "test/qrs_score:          0.8995\n",
      "---------------------------------\n",
      "\n",
      "ECG-UNET - INFO - \n",
      "Train epoch_64:\n",
      "--------------------\n",
      "train/epoch_loss:        1.9258320927619934\n",
      "train/qrs_score:         0.9482\n",
      "\n",
      "test/qrs_score:          0.8995\n",
      "---------------------------------\n",
      "\n",
      "ECG-UNET - INFO - Checkpoint 64 saved!\n",
      "ECG-UNET - INFO - Checkpoint 64 saved!\n"
     ]
    },
    {
     "name": "stderr",
     "output_type": "stream",
     "text": [
      "Epoch 64/300: 100%|████████████████████████████████████████████| 1600/1600 [00:04<00:00, 359.87it/s]\n",
      "Epoch 65/300: 100%|███████████████████████████████████████████| 1600/1600 [00:01<00:00, 1318.71it/s]"
     ]
    },
    {
     "name": "stdout",
     "output_type": "stream",
     "text": [
      "QRS_acc: 0.9499\n",
      "Scoring complete.\n",
      "QRS_acc: 0.895\n",
      "Scoring complete.\n",
      "ECG-UNET - INFO - \n",
      "Train epoch_65:\n",
      "--------------------\n",
      "train/epoch_loss:        1.9166410863399506\n",
      "train/qrs_score:         0.9499\n",
      "\n",
      "test/qrs_score:          0.895\n",
      "---------------------------------\n",
      "\n",
      "ECG-UNET - INFO - \n",
      "Train epoch_65:\n",
      "--------------------\n",
      "train/epoch_loss:        1.9166410863399506\n",
      "train/qrs_score:         0.9499\n",
      "\n",
      "test/qrs_score:          0.895\n",
      "---------------------------------\n",
      "\n",
      "ECG-UNET - INFO - Checkpoint 65 saved!\n",
      "ECG-UNET - INFO - Checkpoint 65 saved!\n"
     ]
    },
    {
     "name": "stderr",
     "output_type": "stream",
     "text": [
      "Epoch 65/300: 100%|████████████████████████████████████████████| 1600/1600 [00:04<00:00, 358.80it/s]\n",
      "Epoch 66/300:  64%|████████████████         | 1024/1600 [00:01<00:00, 692.23it/s, loss (batch)=0.27]"
     ]
    },
    {
     "name": "stdout",
     "output_type": "stream",
     "text": [
      "ECG-UNET - INFO - Train step_460: loss : 0.27008721232414246\n",
      "ECG-UNET - INFO - Train step_460: loss : 0.27008721232414246\n"
     ]
    },
    {
     "name": "stderr",
     "output_type": "stream",
     "text": [
      "Epoch 66/300: 100%|████████████████████████| 1600/1600 [00:01<00:00, 1313.31it/s, loss (batch)=0.27]"
     ]
    },
    {
     "name": "stdout",
     "output_type": "stream",
     "text": [
      "QRS_acc: 0.9548\n",
      "Scoring complete.\n",
      "QRS_acc: 0.8965\n",
      "Scoring complete.\n",
      "ECG-UNET - INFO - \n",
      "Train epoch_66:\n",
      "--------------------\n",
      "train/epoch_loss:        1.9084276258945465\n",
      "train/qrs_score:         0.9548\n",
      "\n",
      "test/qrs_score:          0.8965\n",
      "---------------------------------\n",
      "\n",
      "ECG-UNET - INFO - \n",
      "Train epoch_66:\n",
      "--------------------\n",
      "train/epoch_loss:        1.9084276258945465\n",
      "train/qrs_score:         0.9548\n",
      "\n",
      "test/qrs_score:          0.8965\n",
      "---------------------------------\n",
      "\n",
      "ECG-UNET - INFO - Checkpoint 66 saved!\n",
      "ECG-UNET - INFO - Checkpoint 66 saved!\n"
     ]
    },
    {
     "name": "stderr",
     "output_type": "stream",
     "text": [
      "Epoch 66/300: 100%|█████████████████████████| 1600/1600 [00:04<00:00, 362.40it/s, loss (batch)=0.27]\n",
      "Epoch 67/300: 100%|███████████████████████████████████████████| 1600/1600 [00:01<00:00, 1322.43it/s]"
     ]
    },
    {
     "name": "stdout",
     "output_type": "stream",
     "text": [
      "QRS_acc: 0.9574\n",
      "Scoring complete.\n",
      "QRS_acc: 0.886\n",
      "Scoring complete.\n",
      "ECG-UNET - INFO - \n",
      "Train epoch_67:\n",
      "--------------------\n",
      "train/epoch_loss:        1.8882413804531097\n",
      "train/qrs_score:         0.9574\n",
      "\n",
      "test/qrs_score:          0.886\n",
      "---------------------------------\n",
      "\n",
      "ECG-UNET - INFO - \n",
      "Train epoch_67:\n",
      "--------------------\n",
      "train/epoch_loss:        1.8882413804531097\n",
      "train/qrs_score:         0.9574\n",
      "\n",
      "test/qrs_score:          0.886\n",
      "---------------------------------\n",
      "\n",
      "ECG-UNET - INFO - Checkpoint 67 saved!\n",
      "ECG-UNET - INFO - Checkpoint 67 saved!\n"
     ]
    },
    {
     "name": "stderr",
     "output_type": "stream",
     "text": [
      "Epoch 67/300: 100%|████████████████████████████████████████████| 1600/1600 [00:04<00:00, 356.21it/s]\n",
      "Epoch 68/300: 100%|███████████████████████████████████████████| 1600/1600 [00:01<00:00, 1327.36it/s]"
     ]
    },
    {
     "name": "stdout",
     "output_type": "stream",
     "text": [
      "QRS_acc: 0.947\n",
      "Scoring complete.\n",
      "QRS_acc: 0.889\n",
      "Scoring complete.\n",
      "ECG-UNET - INFO - \n",
      "Train epoch_68:\n",
      "--------------------\n",
      "train/epoch_loss:        1.8799039423465729\n",
      "train/qrs_score:         0.947\n",
      "\n",
      "test/qrs_score:          0.889\n",
      "---------------------------------\n",
      "\n",
      "ECG-UNET - INFO - \n",
      "Train epoch_68:\n",
      "--------------------\n",
      "train/epoch_loss:        1.8799039423465729\n",
      "train/qrs_score:         0.947\n",
      "\n",
      "test/qrs_score:          0.889\n",
      "---------------------------------\n",
      "\n",
      "ECG-UNET - INFO - Checkpoint 68 saved!\n",
      "ECG-UNET - INFO - Checkpoint 68 saved!\n"
     ]
    },
    {
     "name": "stderr",
     "output_type": "stream",
     "text": [
      "Epoch 68/300: 100%|████████████████████████████████████████████| 1600/1600 [00:04<00:00, 360.45it/s]\n",
      "Epoch 69/300:  48%|████████████             | 768/1600 [00:01<00:01, 721.83it/s, loss (batch)=0.267]"
     ]
    },
    {
     "name": "stdout",
     "output_type": "stream",
     "text": [
      "ECG-UNET - INFO - Train step_480: loss : 0.26745957136154175\n",
      "ECG-UNET - INFO - Train step_480: loss : 0.26745957136154175\n"
     ]
    },
    {
     "name": "stderr",
     "output_type": "stream",
     "text": [
      "Epoch 69/300:  96%|██████████████████████ | 1536/1600 [00:01<00:00, 1463.50it/s, loss (batch)=0.267]"
     ]
    },
    {
     "name": "stdout",
     "output_type": "stream",
     "text": [
      "QRS_acc: 0.9518\n",
      "Scoring complete.\n",
      "QRS_acc: 0.8885\n",
      "Scoring complete.\n",
      "ECG-UNET - INFO - \n",
      "Train epoch_69:\n",
      "--------------------\n",
      "train/epoch_loss:        1.8778398633003235\n",
      "train/qrs_score:         0.9518\n",
      "\n",
      "test/qrs_score:          0.8885\n",
      "---------------------------------\n",
      "\n",
      "ECG-UNET - INFO - \n",
      "Train epoch_69:\n",
      "--------------------\n",
      "train/epoch_loss:        1.8778398633003235\n",
      "train/qrs_score:         0.9518\n",
      "\n",
      "test/qrs_score:          0.8885\n",
      "---------------------------------\n",
      "\n",
      "ECG-UNET - INFO - Checkpoint 69 saved!\n",
      "ECG-UNET - INFO - Checkpoint 69 saved!\n"
     ]
    },
    {
     "name": "stderr",
     "output_type": "stream",
     "text": [
      "Epoch 69/300: 100%|████████████████████████| 1600/1600 [00:04<00:00, 354.48it/s, loss (batch)=0.267]\n",
      "Epoch 70/300: 100%|███████████████████████████████████████████| 1600/1600 [00:01<00:00, 1321.66it/s]"
     ]
    },
    {
     "name": "stdout",
     "output_type": "stream",
     "text": [
      "QRS_acc: 0.9542\n",
      "Scoring complete.\n",
      "QRS_acc: 0.892\n",
      "Scoring complete.\n",
      "ECG-UNET - INFO - \n",
      "Train epoch_70:\n",
      "--------------------\n",
      "train/epoch_loss:        1.8530579507350922\n",
      "train/qrs_score:         0.9542\n",
      "\n",
      "test/qrs_score:          0.892\n",
      "---------------------------------\n",
      "\n",
      "ECG-UNET - INFO - \n",
      "Train epoch_70:\n",
      "--------------------\n",
      "train/epoch_loss:        1.8530579507350922\n",
      "train/qrs_score:         0.9542\n",
      "\n",
      "test/qrs_score:          0.892\n",
      "---------------------------------\n",
      "\n",
      "ECG-UNET - INFO - Checkpoint 70 saved!\n",
      "ECG-UNET - INFO - Checkpoint 70 saved!\n"
     ]
    },
    {
     "name": "stderr",
     "output_type": "stream",
     "text": [
      "Epoch 70/300: 100%|████████████████████████████████████████████| 1600/1600 [00:04<00:00, 350.30it/s]\n",
      "Epoch 71/300: 100%|███████████████████████████████████████████| 1600/1600 [00:01<00:00, 1276.93it/s]"
     ]
    },
    {
     "name": "stdout",
     "output_type": "stream",
     "text": [
      "QRS_acc: 0.9542\n",
      "Scoring complete.\n",
      "QRS_acc: 0.8918\n",
      "Scoring complete.\n",
      "ECG-UNET - INFO - \n",
      "Train epoch_71:\n",
      "--------------------\n",
      "train/epoch_loss:        1.8370205760002136\n",
      "train/qrs_score:         0.9542\n",
      "\n",
      "test/qrs_score:          0.8918\n",
      "---------------------------------\n",
      "\n",
      "ECG-UNET - INFO - \n",
      "Train epoch_71:\n",
      "--------------------\n",
      "train/epoch_loss:        1.8370205760002136\n",
      "train/qrs_score:         0.9542\n",
      "\n",
      "test/qrs_score:          0.8918\n",
      "---------------------------------\n",
      "\n",
      "ECG-UNET - INFO - Checkpoint 71 saved!\n",
      "ECG-UNET - INFO - Checkpoint 71 saved!\n"
     ]
    },
    {
     "name": "stderr",
     "output_type": "stream",
     "text": [
      "Epoch 71/300: 100%|████████████████████████████████████████████| 1600/1600 [00:04<00:00, 353.63it/s]\n",
      "Epoch 72/300:  32%|████████                 | 512/1600 [00:01<00:04, 226.61it/s, loss (batch)=0.264]"
     ]
    },
    {
     "name": "stdout",
     "output_type": "stream",
     "text": [
      "ECG-UNET - INFO - Train step_500: loss : 0.263976514339447\n",
      "ECG-UNET - INFO - Train step_500: loss : 0.263976514339447\n"
     ]
    },
    {
     "name": "stderr",
     "output_type": "stream",
     "text": [
      "Epoch 72/300: 100%|███████████████████████| 1600/1600 [00:01<00:00, 1337.90it/s, loss (batch)=0.264]"
     ]
    },
    {
     "name": "stdout",
     "output_type": "stream",
     "text": [
      "QRS_acc: 0.9549\n",
      "Scoring complete.\n",
      "QRS_acc: 0.8932\n",
      "Scoring complete.\n",
      "ECG-UNET - INFO - \n",
      "Train epoch_72:\n",
      "--------------------\n",
      "train/epoch_loss:        1.8356460630893707\n",
      "train/qrs_score:         0.9549\n",
      "\n",
      "test/qrs_score:          0.8932\n",
      "---------------------------------\n",
      "\n",
      "ECG-UNET - INFO - \n",
      "Train epoch_72:\n",
      "--------------------\n",
      "train/epoch_loss:        1.8356460630893707\n",
      "train/qrs_score:         0.9549\n",
      "\n",
      "test/qrs_score:          0.8932\n",
      "---------------------------------\n",
      "\n",
      "ECG-UNET - INFO - Checkpoint 72 saved!\n",
      "ECG-UNET - INFO - Checkpoint 72 saved!\n"
     ]
    },
    {
     "name": "stderr",
     "output_type": "stream",
     "text": [
      "Epoch 72/300: 100%|████████████████████████| 1600/1600 [00:04<00:00, 355.68it/s, loss (batch)=0.264]\n",
      "Epoch 73/300: 100%|███████████████████████████████████████████| 1600/1600 [00:01<00:00, 1337.03it/s]"
     ]
    },
    {
     "name": "stdout",
     "output_type": "stream",
     "text": [
      "QRS_acc: 0.9606\n",
      "Scoring complete.\n",
      "QRS_acc: 0.8938\n",
      "Scoring complete.\n",
      "ECG-UNET - INFO - \n",
      "Train epoch_73:\n",
      "--------------------\n",
      "train/epoch_loss:        1.8218233287334442\n",
      "train/qrs_score:         0.9606\n",
      "\n",
      "test/qrs_score:          0.8938\n",
      "---------------------------------\n",
      "\n",
      "ECG-UNET - INFO - \n",
      "Train epoch_73:\n",
      "--------------------\n",
      "train/epoch_loss:        1.8218233287334442\n",
      "train/qrs_score:         0.9606\n",
      "\n",
      "test/qrs_score:          0.8938\n",
      "---------------------------------\n",
      "\n",
      "ECG-UNET - INFO - Checkpoint 73 saved!\n",
      "ECG-UNET - INFO - Checkpoint 73 saved!\n"
     ]
    },
    {
     "name": "stderr",
     "output_type": "stream",
     "text": [
      "Epoch 73/300: 100%|████████████████████████████████████████████| 1600/1600 [00:04<00:00, 358.40it/s]\n",
      "Epoch 74/300: 100%|███████████████████████████████████████████| 1600/1600 [00:01<00:00, 1293.37it/s]"
     ]
    },
    {
     "name": "stdout",
     "output_type": "stream",
     "text": [
      "QRS_acc: 0.9541\n",
      "Scoring complete.\n",
      "QRS_acc: 0.8932\n",
      "Scoring complete.\n",
      "ECG-UNET - INFO - \n",
      "Train epoch_74:\n",
      "--------------------\n",
      "train/epoch_loss:        1.8081354796886444\n",
      "train/qrs_score:         0.9541\n",
      "\n",
      "test/qrs_score:          0.8932\n",
      "---------------------------------\n",
      "\n",
      "ECG-UNET - INFO - \n",
      "Train epoch_74:\n",
      "--------------------\n",
      "train/epoch_loss:        1.8081354796886444\n",
      "train/qrs_score:         0.9541\n",
      "\n",
      "test/qrs_score:          0.8932\n",
      "---------------------------------\n",
      "\n",
      "ECG-UNET - INFO - Checkpoint 74 saved!\n",
      "ECG-UNET - INFO - Checkpoint 74 saved!\n"
     ]
    },
    {
     "name": "stderr",
     "output_type": "stream",
     "text": [
      "Epoch 74/300: 100%|████████████████████████████████████████████| 1600/1600 [00:04<00:00, 351.52it/s]\n",
      "Epoch 75/300:  16%|████                     | 256/1600 [00:01<00:06, 221.42it/s, loss (batch)=0.255]"
     ]
    },
    {
     "name": "stdout",
     "output_type": "stream",
     "text": [
      "ECG-UNET - INFO - Train step_520: loss : 0.2550415098667145\n",
      "ECG-UNET - INFO - Train step_520: loss : 0.2550415098667145\n"
     ]
    },
    {
     "name": "stderr",
     "output_type": "stream",
     "text": [
      "Epoch 75/300:  96%|██████████████████████ | 1536/1600 [00:01<00:00, 1470.34it/s, loss (batch)=0.255]"
     ]
    },
    {
     "name": "stdout",
     "output_type": "stream",
     "text": [
      "QRS_acc: 0.9599\n",
      "Scoring complete.\n",
      "QRS_acc: 0.8878\n",
      "Scoring complete.\n",
      "ECG-UNET - INFO - \n",
      "Train epoch_75:\n",
      "--------------------\n",
      "train/epoch_loss:        1.7967263460159302\n",
      "train/qrs_score:         0.9599\n",
      "\n",
      "test/qrs_score:          0.8878\n",
      "---------------------------------\n",
      "\n",
      "ECG-UNET - INFO - \n",
      "Train epoch_75:\n",
      "--------------------\n",
      "train/epoch_loss:        1.7967263460159302\n",
      "train/qrs_score:         0.9599\n",
      "\n",
      "test/qrs_score:          0.8878\n",
      "---------------------------------\n",
      "\n",
      "ECG-UNET - INFO - Checkpoint 75 saved!\n",
      "ECG-UNET - INFO - Checkpoint 75 saved!\n"
     ]
    },
    {
     "name": "stderr",
     "output_type": "stream",
     "text": [
      "Epoch 75/300: 100%|████████████████████████| 1600/1600 [00:04<00:00, 350.13it/s, loss (batch)=0.255]\n",
      "Epoch 76/300: 100%|███████████████████████████████████████████| 1600/1600 [00:01<00:00, 1260.18it/s]"
     ]
    },
    {
     "name": "stdout",
     "output_type": "stream",
     "text": [
      "QRS_acc: 0.9622\n",
      "Scoring complete.\n",
      "QRS_acc: 0.888\n",
      "Scoring complete.\n",
      "ECG-UNET - INFO - \n",
      "Train epoch_76:\n",
      "--------------------\n",
      "train/epoch_loss:        1.7875140309333801\n",
      "train/qrs_score:         0.9622\n",
      "\n",
      "test/qrs_score:          0.888\n",
      "---------------------------------\n",
      "\n",
      "ECG-UNET - INFO - \n",
      "Train epoch_76:\n",
      "--------------------\n",
      "train/epoch_loss:        1.7875140309333801\n",
      "train/qrs_score:         0.9622\n",
      "\n",
      "test/qrs_score:          0.888\n",
      "---------------------------------\n",
      "\n",
      "ECG-UNET - INFO - Checkpoint 76 saved!\n",
      "ECG-UNET - INFO - Checkpoint 76 saved!\n"
     ]
    },
    {
     "name": "stderr",
     "output_type": "stream",
     "text": [
      "Epoch 76/300: 100%|████████████████████████████████████████████| 1600/1600 [00:04<00:00, 353.33it/s]\n",
      "Epoch 77/300: 100%|███████████████████████████████████████████| 1600/1600 [00:01<00:00, 1325.93it/s]"
     ]
    },
    {
     "name": "stdout",
     "output_type": "stream",
     "text": [
      "QRS_acc: 0.9553\n",
      "Scoring complete.\n",
      "QRS_acc: 0.8875\n",
      "Scoring complete.\n",
      "ECG-UNET - INFO - \n",
      "Train epoch_77:\n",
      "--------------------\n",
      "train/epoch_loss:        1.7788275480270386\n",
      "train/qrs_score:         0.9553\n",
      "\n",
      "test/qrs_score:          0.8875\n",
      "---------------------------------\n",
      "\n",
      "ECG-UNET - INFO - \n",
      "Train epoch_77:\n",
      "--------------------\n",
      "train/epoch_loss:        1.7788275480270386\n",
      "train/qrs_score:         0.9553\n",
      "\n",
      "test/qrs_score:          0.8875\n",
      "---------------------------------\n",
      "\n",
      "ECG-UNET - INFO - Checkpoint 77 saved!\n",
      "ECG-UNET - INFO - Checkpoint 77 saved!\n"
     ]
    },
    {
     "name": "stderr",
     "output_type": "stream",
     "text": [
      "Epoch 77/300: 100%|████████████████████████████████████████████| 1600/1600 [00:04<00:00, 356.19it/s]\n",
      "Epoch 78/300:   0%|                                    | 0/1600 [00:01<?, ?it/s, loss (batch)=0.253]"
     ]
    },
    {
     "name": "stdout",
     "output_type": "stream",
     "text": [
      "ECG-UNET - INFO - Train step_540: loss : 0.2533554136753082\n",
      "ECG-UNET - INFO - Train step_540: loss : 0.2533554136753082\n"
     ]
    },
    {
     "name": "stderr",
     "output_type": "stream",
     "text": [
      "Epoch 78/300: 100%|███████████████████████| 1600/1600 [00:01<00:00, 1263.55it/s, loss (batch)=0.253]"
     ]
    },
    {
     "name": "stdout",
     "output_type": "stream",
     "text": [
      "QRS_acc: 0.956\n",
      "Scoring complete.\n",
      "QRS_acc: 0.8965\n",
      "Scoring complete.\n",
      "ECG-UNET - INFO - \n",
      "Train epoch_78:\n",
      "--------------------\n",
      "train/epoch_loss:        1.7662239968776703\n",
      "train/qrs_score:         0.956\n",
      "\n",
      "test/qrs_score:          0.8965\n",
      "---------------------------------\n",
      "\n",
      "ECG-UNET - INFO - \n",
      "Train epoch_78:\n",
      "--------------------\n",
      "train/epoch_loss:        1.7662239968776703\n",
      "train/qrs_score:         0.956\n",
      "\n",
      "test/qrs_score:          0.8965\n",
      "---------------------------------\n",
      "\n",
      "ECG-UNET - INFO - Checkpoint 78 saved!\n",
      "ECG-UNET - INFO - Checkpoint 78 saved!\n"
     ]
    },
    {
     "name": "stderr",
     "output_type": "stream",
     "text": [
      "Epoch 78/300: 100%|████████████████████████| 1600/1600 [00:04<00:00, 354.78it/s, loss (batch)=0.253]\n",
      "Epoch 79/300: 100%|███████████████████████████████████████████| 1600/1600 [00:01<00:00, 1303.82it/s]"
     ]
    },
    {
     "name": "stdout",
     "output_type": "stream",
     "text": [
      "QRS_acc: 0.9616\n",
      "Scoring complete.\n",
      "QRS_acc: 0.9028\n",
      "Scoring complete.\n",
      "ECG-UNET - INFO - \n",
      "Train epoch_79:\n",
      "--------------------\n",
      "train/epoch_loss:        1.7498149424791336\n",
      "train/qrs_score:         0.9616\n",
      "\n",
      "test/qrs_score:          0.9028\n",
      "---------------------------------\n",
      "\n",
      "ECG-UNET - INFO - \n",
      "Train epoch_79:\n",
      "--------------------\n",
      "train/epoch_loss:        1.7498149424791336\n",
      "train/qrs_score:         0.9616\n",
      "\n",
      "test/qrs_score:          0.9028\n",
      "---------------------------------\n",
      "\n",
      "ECG-UNET - INFO - Checkpoint 79 saved!\n",
      "ECG-UNET - INFO - Checkpoint 79 saved!\n"
     ]
    },
    {
     "name": "stderr",
     "output_type": "stream",
     "text": [
      "Epoch 79/300: 100%|████████████████████████████████████████████| 1600/1600 [00:04<00:00, 357.99it/s]\n",
      "Epoch 80/300:  96%|██████████████████████ | 1536/1600 [00:01<00:00, 1162.97it/s, loss (batch)=0.244]"
     ]
    },
    {
     "name": "stdout",
     "output_type": "stream",
     "text": [
      "ECG-UNET - INFO - Train step_560: loss : 0.24446959793567657\n",
      "ECG-UNET - INFO - Train step_560: loss : 0.24446959793567657\n"
     ]
    },
    {
     "name": "stderr",
     "output_type": "stream",
     "text": [
      "\r",
      "Epoch 80/300: 100%|███████████████████████| 1600/1600 [00:01<00:00, 1323.16it/s, loss (batch)=0.244]"
     ]
    },
    {
     "name": "stdout",
     "output_type": "stream",
     "text": [
      "QRS_acc: 0.9535\n",
      "Scoring complete.\n",
      "QRS_acc: 0.878\n",
      "Scoring complete.\n",
      "ECG-UNET - INFO - \n",
      "Train epoch_80:\n",
      "--------------------\n",
      "train/epoch_loss:        1.740807518362999\n",
      "train/qrs_score:         0.9535\n",
      "\n",
      "test/qrs_score:          0.878\n",
      "---------------------------------\n",
      "\n",
      "ECG-UNET - INFO - \n",
      "Train epoch_80:\n",
      "--------------------\n",
      "train/epoch_loss:        1.740807518362999\n",
      "train/qrs_score:         0.9535\n",
      "\n",
      "test/qrs_score:          0.878\n",
      "---------------------------------\n",
      "\n",
      "ECG-UNET - INFO - Checkpoint 80 saved!\n",
      "ECG-UNET - INFO - Checkpoint 80 saved!\n"
     ]
    },
    {
     "name": "stderr",
     "output_type": "stream",
     "text": [
      "Epoch 80/300: 100%|████████████████████████| 1600/1600 [00:04<00:00, 362.74it/s, loss (batch)=0.244]\n",
      "Epoch 81/300: 100%|███████████████████████████████████████████| 1600/1600 [00:01<00:00, 1330.08it/s]"
     ]
    },
    {
     "name": "stdout",
     "output_type": "stream",
     "text": [
      "QRS_acc: 0.9592\n",
      "Scoring complete.\n",
      "QRS_acc: 0.8945\n",
      "Scoring complete.\n",
      "ECG-UNET - INFO - \n",
      "Train epoch_81:\n",
      "--------------------\n",
      "train/epoch_loss:        1.7404468804597855\n",
      "train/qrs_score:         0.9592\n",
      "\n",
      "test/qrs_score:          0.8945\n",
      "---------------------------------\n",
      "\n",
      "ECG-UNET - INFO - \n",
      "Train epoch_81:\n",
      "--------------------\n",
      "train/epoch_loss:        1.7404468804597855\n",
      "train/qrs_score:         0.9592\n",
      "\n",
      "test/qrs_score:          0.8945\n",
      "---------------------------------\n",
      "\n",
      "ECG-UNET - INFO - Checkpoint 81 saved!\n",
      "ECG-UNET - INFO - Checkpoint 81 saved!\n"
     ]
    },
    {
     "name": "stderr",
     "output_type": "stream",
     "text": [
      "Epoch 81/300: 100%|████████████████████████████████████████████| 1600/1600 [00:04<00:00, 358.79it/s]\n",
      "Epoch 82/300: 100%|███████████████████████████████████████████| 1600/1600 [00:01<00:00, 1318.69it/s]"
     ]
    },
    {
     "name": "stdout",
     "output_type": "stream",
     "text": [
      "QRS_acc: 0.9632\n",
      "Scoring complete.\n",
      "QRS_acc: 0.8948\n",
      "Scoring complete.\n",
      "ECG-UNET - INFO - \n",
      "Train epoch_82:\n",
      "--------------------\n",
      "train/epoch_loss:        1.7236245572566986\n",
      "train/qrs_score:         0.9632\n",
      "\n",
      "test/qrs_score:          0.8948\n",
      "---------------------------------\n",
      "\n",
      "ECG-UNET - INFO - \n",
      "Train epoch_82:\n",
      "--------------------\n",
      "train/epoch_loss:        1.7236245572566986\n",
      "train/qrs_score:         0.9632\n",
      "\n",
      "test/qrs_score:          0.8948\n",
      "---------------------------------\n",
      "\n",
      "ECG-UNET - INFO - Checkpoint 82 saved!\n",
      "ECG-UNET - INFO - Checkpoint 82 saved!\n"
     ]
    },
    {
     "name": "stderr",
     "output_type": "stream",
     "text": [
      "Epoch 82/300: 100%|████████████████████████████████████████████| 1600/1600 [00:04<00:00, 350.07it/s]\n",
      "Epoch 83/300:  80%|██████████████████▍    | 1280/1600 [00:01<00:00, 1086.88it/s, loss (batch)=0.242]"
     ]
    },
    {
     "name": "stdout",
     "output_type": "stream",
     "text": [
      "ECG-UNET - INFO - Train step_580: loss : 0.24152150750160217\n",
      "ECG-UNET - INFO - Train step_580: loss : 0.24152150750160217\n"
     ]
    },
    {
     "name": "stderr",
     "output_type": "stream",
     "text": [
      "\r",
      "Epoch 83/300:  96%|██████████████████████ | 1536/1600 [00:01<00:00, 1274.88it/s, loss (batch)=0.242]"
     ]
    },
    {
     "name": "stdout",
     "output_type": "stream",
     "text": [
      "QRS_acc: 0.9624\n",
      "Scoring complete.\n",
      "QRS_acc: 0.8893\n",
      "Scoring complete.\n",
      "ECG-UNET - INFO - \n",
      "Train epoch_83:\n",
      "--------------------\n",
      "train/epoch_loss:        1.7148641496896744\n",
      "train/qrs_score:         0.9624\n",
      "\n",
      "test/qrs_score:          0.8893\n",
      "---------------------------------\n",
      "\n",
      "ECG-UNET - INFO - \n",
      "Train epoch_83:\n",
      "--------------------\n",
      "train/epoch_loss:        1.7148641496896744\n",
      "train/qrs_score:         0.9624\n",
      "\n",
      "test/qrs_score:          0.8893\n",
      "---------------------------------\n",
      "\n",
      "ECG-UNET - INFO - Checkpoint 83 saved!\n",
      "ECG-UNET - INFO - Checkpoint 83 saved!\n"
     ]
    },
    {
     "name": "stderr",
     "output_type": "stream",
     "text": [
      "Epoch 83/300: 100%|████████████████████████| 1600/1600 [00:04<00:00, 359.09it/s, loss (batch)=0.242]\n",
      "Epoch 84/300: 100%|███████████████████████████████████████████| 1600/1600 [00:01<00:00, 1315.55it/s]"
     ]
    },
    {
     "name": "stdout",
     "output_type": "stream",
     "text": [
      "QRS_acc: 0.9674\n",
      "Scoring complete.\n",
      "QRS_acc: 0.8928\n",
      "Scoring complete.\n",
      "ECG-UNET - INFO - \n",
      "Train epoch_84:\n",
      "--------------------\n",
      "train/epoch_loss:        1.6955988258123398\n",
      "train/qrs_score:         0.9674\n",
      "\n",
      "test/qrs_score:          0.8928\n",
      "---------------------------------\n",
      "\n",
      "ECG-UNET - INFO - \n",
      "Train epoch_84:\n",
      "--------------------\n",
      "train/epoch_loss:        1.6955988258123398\n",
      "train/qrs_score:         0.9674\n",
      "\n",
      "test/qrs_score:          0.8928\n",
      "---------------------------------\n",
      "\n",
      "ECG-UNET - INFO - Checkpoint 84 saved!\n",
      "ECG-UNET - INFO - Checkpoint 84 saved!\n"
     ]
    },
    {
     "name": "stderr",
     "output_type": "stream",
     "text": [
      "Epoch 84/300: 100%|████████████████████████████████████████████| 1600/1600 [00:04<00:00, 354.03it/s]\n",
      "Epoch 85/300: 100%|███████████████████████████████████████████| 1600/1600 [00:01<00:00, 1344.11it/s]"
     ]
    },
    {
     "name": "stdout",
     "output_type": "stream",
     "text": [
      "QRS_acc: 0.964\n",
      "Scoring complete.\n",
      "QRS_acc: 0.8932\n",
      "Scoring complete.\n",
      "ECG-UNET - INFO - \n",
      "Train epoch_85:\n",
      "--------------------\n",
      "train/epoch_loss:        1.6866262555122375\n",
      "train/qrs_score:         0.964\n",
      "\n",
      "test/qrs_score:          0.8932\n",
      "---------------------------------\n",
      "\n",
      "ECG-UNET - INFO - \n",
      "Train epoch_85:\n",
      "--------------------\n",
      "train/epoch_loss:        1.6866262555122375\n",
      "train/qrs_score:         0.964\n",
      "\n",
      "test/qrs_score:          0.8932\n",
      "---------------------------------\n",
      "\n",
      "ECG-UNET - INFO - Checkpoint 85 saved!\n",
      "ECG-UNET - INFO - Checkpoint 85 saved!\n"
     ]
    },
    {
     "name": "stderr",
     "output_type": "stream",
     "text": [
      "Epoch 85/300: 100%|████████████████████████████████████████████| 1600/1600 [00:04<00:00, 359.89it/s]\n",
      "Epoch 86/300:  64%|███████████████▎        | 1024/1600 [00:01<00:00, 683.90it/s, loss (batch)=0.235]"
     ]
    },
    {
     "name": "stdout",
     "output_type": "stream",
     "text": [
      "ECG-UNET - INFO - Train step_600: loss : 0.23503710329532623\n",
      "ECG-UNET - INFO - Train step_600: loss : 0.23503710329532623\n"
     ]
    },
    {
     "name": "stderr",
     "output_type": "stream",
     "text": [
      "Epoch 86/300: 100%|███████████████████████| 1600/1600 [00:01<00:00, 1304.79it/s, loss (batch)=0.235]"
     ]
    },
    {
     "name": "stdout",
     "output_type": "stream",
     "text": [
      "QRS_acc: 0.9586\n",
      "Scoring complete.\n",
      "QRS_acc: 0.892\n",
      "Scoring complete.\n",
      "ECG-UNET - INFO - \n",
      "Train epoch_86:\n",
      "--------------------\n",
      "train/epoch_loss:        1.6734659671783447\n",
      "train/qrs_score:         0.9586\n",
      "\n",
      "test/qrs_score:          0.892\n",
      "---------------------------------\n",
      "\n",
      "ECG-UNET - INFO - \n",
      "Train epoch_86:\n",
      "--------------------\n",
      "train/epoch_loss:        1.6734659671783447\n",
      "train/qrs_score:         0.9586\n",
      "\n",
      "test/qrs_score:          0.892\n",
      "---------------------------------\n",
      "\n",
      "ECG-UNET - INFO - Checkpoint 86 saved!\n",
      "ECG-UNET - INFO - Checkpoint 86 saved!\n"
     ]
    },
    {
     "name": "stderr",
     "output_type": "stream",
     "text": [
      "Epoch 86/300: 100%|████████████████████████| 1600/1600 [00:04<00:00, 354.74it/s, loss (batch)=0.235]\n",
      "Epoch 87/300: 100%|███████████████████████████████████████████| 1600/1600 [00:01<00:00, 1332.28it/s]"
     ]
    },
    {
     "name": "stdout",
     "output_type": "stream",
     "text": [
      "QRS_acc: 0.9692\n",
      "Scoring complete.\n",
      "QRS_acc: 0.8925\n",
      "Scoring complete.\n",
      "ECG-UNET - INFO - \n",
      "Train epoch_87:\n",
      "--------------------\n",
      "train/epoch_loss:        1.6609855145215988\n",
      "train/qrs_score:         0.9692\n",
      "\n",
      "test/qrs_score:          0.8925\n",
      "---------------------------------\n",
      "\n",
      "ECG-UNET - INFO - \n",
      "Train epoch_87:\n",
      "--------------------\n",
      "train/epoch_loss:        1.6609855145215988\n",
      "train/qrs_score:         0.9692\n",
      "\n",
      "test/qrs_score:          0.8925\n",
      "---------------------------------\n",
      "\n",
      "ECG-UNET - INFO - Checkpoint 87 saved!\n",
      "ECG-UNET - INFO - Checkpoint 87 saved!\n"
     ]
    },
    {
     "name": "stderr",
     "output_type": "stream",
     "text": [
      "Epoch 87/300: 100%|████████████████████████████████████████████| 1600/1600 [00:04<00:00, 354.39it/s]\n",
      "Epoch 88/300: 100%|███████████████████████████████████████████| 1600/1600 [00:01<00:00, 1297.42it/s]"
     ]
    },
    {
     "name": "stdout",
     "output_type": "stream",
     "text": [
      "QRS_acc: 0.9602\n",
      "Scoring complete.\n",
      "QRS_acc: 0.898\n",
      "Scoring complete.\n",
      "ECG-UNET - INFO - \n",
      "Train epoch_88:\n",
      "--------------------\n",
      "train/epoch_loss:        1.653183251619339\n",
      "train/qrs_score:         0.9602\n",
      "\n",
      "test/qrs_score:          0.898\n",
      "---------------------------------\n",
      "\n",
      "ECG-UNET - INFO - \n",
      "Train epoch_88:\n",
      "--------------------\n",
      "train/epoch_loss:        1.653183251619339\n",
      "train/qrs_score:         0.9602\n",
      "\n",
      "test/qrs_score:          0.898\n",
      "---------------------------------\n",
      "\n",
      "ECG-UNET - INFO - Checkpoint 88 saved!\n",
      "ECG-UNET - INFO - Checkpoint 88 saved!\n"
     ]
    },
    {
     "name": "stderr",
     "output_type": "stream",
     "text": [
      "Epoch 88/300: 100%|████████████████████████████████████████████| 1600/1600 [00:04<00:00, 360.14it/s]\n",
      "Epoch 89/300:  48%|████████████             | 768/1600 [00:01<00:01, 698.99it/s, loss (batch)=0.234]"
     ]
    },
    {
     "name": "stdout",
     "output_type": "stream",
     "text": [
      "ECG-UNET - INFO - Train step_620: loss : 0.2339135855436325\n",
      "ECG-UNET - INFO - Train step_620: loss : 0.2339135855436325\n"
     ]
    },
    {
     "name": "stderr",
     "output_type": "stream",
     "text": [
      "Epoch 89/300:  96%|██████████████████████ | 1536/1600 [00:01<00:00, 1427.26it/s, loss (batch)=0.234]"
     ]
    },
    {
     "name": "stdout",
     "output_type": "stream",
     "text": [
      "QRS_acc: 0.9669\n",
      "Scoring complete.\n",
      "QRS_acc: 0.8918\n",
      "Scoring complete.\n",
      "ECG-UNET - INFO - \n",
      "Train epoch_89:\n",
      "--------------------\n",
      "train/epoch_loss:        1.6415935903787613\n",
      "train/qrs_score:         0.9669\n",
      "\n",
      "test/qrs_score:          0.8918\n",
      "---------------------------------\n",
      "\n",
      "ECG-UNET - INFO - \n",
      "Train epoch_89:\n",
      "--------------------\n",
      "train/epoch_loss:        1.6415935903787613\n",
      "train/qrs_score:         0.9669\n",
      "\n",
      "test/qrs_score:          0.8918\n",
      "---------------------------------\n",
      "\n",
      "ECG-UNET - INFO - Checkpoint 89 saved!\n",
      "ECG-UNET - INFO - Checkpoint 89 saved!\n"
     ]
    },
    {
     "name": "stderr",
     "output_type": "stream",
     "text": [
      "Epoch 89/300: 100%|████████████████████████| 1600/1600 [00:04<00:00, 351.34it/s, loss (batch)=0.234]\n",
      "Epoch 90/300: 100%|███████████████████████████████████████████| 1600/1600 [00:01<00:00, 1348.29it/s]"
     ]
    },
    {
     "name": "stdout",
     "output_type": "stream",
     "text": [
      "QRS_acc: 0.9711\n",
      "Scoring complete.\n",
      "QRS_acc: 0.8985\n",
      "Scoring complete.\n",
      "ECG-UNET - INFO - \n",
      "Train epoch_90:\n",
      "--------------------\n",
      "train/epoch_loss:        1.6320817023515701\n",
      "train/qrs_score:         0.9711\n",
      "\n",
      "test/qrs_score:          0.8985\n",
      "---------------------------------\n",
      "\n",
      "ECG-UNET - INFO - \n",
      "Train epoch_90:\n",
      "--------------------\n",
      "train/epoch_loss:        1.6320817023515701\n",
      "train/qrs_score:         0.9711\n",
      "\n",
      "test/qrs_score:          0.8985\n",
      "---------------------------------\n",
      "\n",
      "ECG-UNET - INFO - Checkpoint 90 saved!\n",
      "ECG-UNET - INFO - Checkpoint 90 saved!\n"
     ]
    },
    {
     "name": "stderr",
     "output_type": "stream",
     "text": [
      "Epoch 90/300: 100%|████████████████████████████████████████████| 1600/1600 [00:04<00:00, 360.87it/s]\n",
      "Epoch 91/300: 100%|███████████████████████████████████████████| 1600/1600 [00:01<00:00, 1318.38it/s]"
     ]
    },
    {
     "name": "stdout",
     "output_type": "stream",
     "text": [
      "QRS_acc: 0.9646\n",
      "Scoring complete.\n",
      "QRS_acc: 0.8965\n",
      "Scoring complete.\n",
      "ECG-UNET - INFO - \n",
      "Train epoch_91:\n",
      "--------------------\n",
      "train/epoch_loss:        1.6243951320648193\n",
      "train/qrs_score:         0.9646\n",
      "\n",
      "test/qrs_score:          0.8965\n",
      "---------------------------------\n",
      "\n",
      "ECG-UNET - INFO - \n",
      "Train epoch_91:\n",
      "--------------------\n",
      "train/epoch_loss:        1.6243951320648193\n",
      "train/qrs_score:         0.9646\n",
      "\n",
      "test/qrs_score:          0.8965\n",
      "---------------------------------\n",
      "\n",
      "ECG-UNET - INFO - Checkpoint 91 saved!\n",
      "ECG-UNET - INFO - Checkpoint 91 saved!\n"
     ]
    },
    {
     "name": "stderr",
     "output_type": "stream",
     "text": [
      "Epoch 91/300: 100%|████████████████████████████████████████████| 1600/1600 [00:04<00:00, 348.04it/s]\n",
      "Epoch 92/300:  32%|████████                 | 512/1600 [00:01<00:04, 226.04it/s, loss (batch)=0.234]"
     ]
    },
    {
     "name": "stdout",
     "output_type": "stream",
     "text": [
      "ECG-UNET - INFO - Train step_640: loss : 0.23388619720935822\n",
      "ECG-UNET - INFO - Train step_640: loss : 0.23388619720935822\n"
     ]
    },
    {
     "name": "stderr",
     "output_type": "stream",
     "text": [
      "Epoch 92/300: 100%|███████████████████████| 1600/1600 [00:01<00:00, 1334.93it/s, loss (batch)=0.234]"
     ]
    },
    {
     "name": "stdout",
     "output_type": "stream",
     "text": [
      "QRS_acc: 0.9695\n",
      "Scoring complete.\n",
      "QRS_acc: 0.8943\n",
      "Scoring complete.\n",
      "ECG-UNET - INFO - \n",
      "Train epoch_92:\n",
      "--------------------\n",
      "train/epoch_loss:        1.6202852874994278\n",
      "train/qrs_score:         0.9695\n",
      "\n",
      "test/qrs_score:          0.8943\n",
      "---------------------------------\n",
      "\n",
      "ECG-UNET - INFO - \n",
      "Train epoch_92:\n",
      "--------------------\n",
      "train/epoch_loss:        1.6202852874994278\n",
      "train/qrs_score:         0.9695\n",
      "\n",
      "test/qrs_score:          0.8943\n",
      "---------------------------------\n",
      "\n",
      "ECG-UNET - INFO - Checkpoint 92 saved!\n",
      "ECG-UNET - INFO - Checkpoint 92 saved!\n"
     ]
    },
    {
     "name": "stderr",
     "output_type": "stream",
     "text": [
      "Epoch 92/300: 100%|████████████████████████| 1600/1600 [00:04<00:00, 354.01it/s, loss (batch)=0.234]\n",
      "Epoch 93/300: 100%|███████████████████████████████████████████| 1600/1600 [00:01<00:00, 1246.26it/s]"
     ]
    },
    {
     "name": "stdout",
     "output_type": "stream",
     "text": [
      "QRS_acc: 0.9703\n",
      "Scoring complete.\n",
      "QRS_acc: 0.8945\n",
      "Scoring complete.\n",
      "ECG-UNET - INFO - \n",
      "Train epoch_93:\n",
      "--------------------\n",
      "train/epoch_loss:        1.6130922734737396\n",
      "train/qrs_score:         0.9703\n",
      "\n",
      "test/qrs_score:          0.8945\n",
      "---------------------------------\n",
      "\n",
      "ECG-UNET - INFO - \n",
      "Train epoch_93:\n",
      "--------------------\n",
      "train/epoch_loss:        1.6130922734737396\n",
      "train/qrs_score:         0.9703\n",
      "\n",
      "test/qrs_score:          0.8945\n",
      "---------------------------------\n",
      "\n",
      "ECG-UNET - INFO - Checkpoint 93 saved!\n",
      "ECG-UNET - INFO - Checkpoint 93 saved!\n"
     ]
    },
    {
     "name": "stderr",
     "output_type": "stream",
     "text": [
      "Epoch 93/300: 100%|████████████████████████████████████████████| 1600/1600 [00:04<00:00, 348.44it/s]\n",
      "Epoch 94/300: 100%|███████████████████████████████████████████| 1600/1600 [00:01<00:00, 1334.80it/s]"
     ]
    },
    {
     "name": "stdout",
     "output_type": "stream",
     "text": [
      "QRS_acc: 0.9634\n",
      "Scoring complete.\n",
      "QRS_acc: 0.8928\n",
      "Scoring complete.\n",
      "ECG-UNET - INFO - \n",
      "Train epoch_94:\n",
      "--------------------\n",
      "train/epoch_loss:        1.5965294241905212\n",
      "train/qrs_score:         0.9634\n",
      "\n",
      "test/qrs_score:          0.8928\n",
      "---------------------------------\n",
      "\n",
      "ECG-UNET - INFO - \n",
      "Train epoch_94:\n",
      "--------------------\n",
      "train/epoch_loss:        1.5965294241905212\n",
      "train/qrs_score:         0.9634\n",
      "\n",
      "test/qrs_score:          0.8928\n",
      "---------------------------------\n",
      "\n",
      "ECG-UNET - INFO - Checkpoint 94 saved!\n",
      "ECG-UNET - INFO - Checkpoint 94 saved!\n"
     ]
    },
    {
     "name": "stderr",
     "output_type": "stream",
     "text": [
      "Epoch 94/300: 100%|████████████████████████████████████████████| 1600/1600 [00:04<00:00, 355.70it/s]\n",
      "Epoch 95/300:  16%|████                     | 256/1600 [00:01<00:05, 226.35it/s, loss (batch)=0.225]"
     ]
    },
    {
     "name": "stdout",
     "output_type": "stream",
     "text": [
      "ECG-UNET - INFO - Train step_660: loss : 0.22466284036636353\n",
      "ECG-UNET - INFO - Train step_660: loss : 0.22466284036636353\n"
     ]
    },
    {
     "name": "stderr",
     "output_type": "stream",
     "text": [
      "Epoch 95/300:  96%|██████████████████████ | 1536/1600 [00:01<00:00, 1465.22it/s, loss (batch)=0.225]"
     ]
    },
    {
     "name": "stdout",
     "output_type": "stream",
     "text": [
      "QRS_acc: 0.9631\n",
      "Scoring complete.\n",
      "QRS_acc: 0.887\n",
      "Scoring complete.\n",
      "ECG-UNET - INFO - \n",
      "Train epoch_95:\n",
      "--------------------\n",
      "train/epoch_loss:        1.5823836624622345\n",
      "train/qrs_score:         0.9631\n",
      "\n",
      "test/qrs_score:          0.887\n",
      "---------------------------------\n",
      "\n",
      "ECG-UNET - INFO - \n",
      "Train epoch_95:\n",
      "--------------------\n",
      "train/epoch_loss:        1.5823836624622345\n",
      "train/qrs_score:         0.9631\n",
      "\n",
      "test/qrs_score:          0.887\n",
      "---------------------------------\n",
      "\n",
      "ECG-UNET - INFO - Checkpoint 95 saved!\n",
      "ECG-UNET - INFO - Checkpoint 95 saved!\n"
     ]
    },
    {
     "name": "stderr",
     "output_type": "stream",
     "text": [
      "Epoch 95/300: 100%|████████████████████████| 1600/1600 [00:04<00:00, 362.71it/s, loss (batch)=0.225]\n",
      "Epoch 96/300: 100%|███████████████████████████████████████████| 1600/1600 [00:01<00:00, 1331.63it/s]"
     ]
    },
    {
     "name": "stdout",
     "output_type": "stream",
     "text": [
      "QRS_acc: 0.9701\n",
      "Scoring complete.\n",
      "QRS_acc: 0.8998\n",
      "Scoring complete.\n",
      "ECG-UNET - INFO - \n",
      "Train epoch_96:\n",
      "--------------------\n",
      "train/epoch_loss:        1.5784481018781662\n",
      "train/qrs_score:         0.9701\n",
      "\n",
      "test/qrs_score:          0.8998\n",
      "---------------------------------\n",
      "\n",
      "ECG-UNET - INFO - \n",
      "Train epoch_96:\n",
      "--------------------\n",
      "train/epoch_loss:        1.5784481018781662\n",
      "train/qrs_score:         0.9701\n",
      "\n",
      "test/qrs_score:          0.8998\n",
      "---------------------------------\n",
      "\n",
      "ECG-UNET - INFO - early stopping is triggered at epoch 96\n",
      "ECG-UNET - INFO - early stopping is triggered at epoch 96\n"
     ]
    },
    {
     "name": "stderr",
     "output_type": "stream",
     "text": [
      "\r",
      "Epoch 96/300: 100%|████████████████████████████████████████████| 1600/1600 [00:04<00:00, 362.38it/s]"
     ]
    },
    {
     "name": "stdout",
     "output_type": "stream",
     "text": [
      "ECG-UNET - INFO - Best model saved to /home/wenh06/Jupyter/wenhao/workspace/torch_ecg/train/train_unet_cpsc2019/saved_models/ECG_SUBTRACT_UNET_CPSC2019_epoch_2021-06-22-14-10-34_BestModel_challenge_score(qrs_score)_0.9028.pth.tar!\n",
      "ECG-UNET - INFO - Best model saved to /home/wenh06/Jupyter/wenhao/workspace/torch_ecg/train/train_unet_cpsc2019/saved_models/ECG_SUBTRACT_UNET_CPSC2019_epoch_2021-06-22-14-10-34_BestModel_challenge_score(qrs_score)_0.9028.pth.tar!\n"
     ]
    },
    {
     "name": "stderr",
     "output_type": "stream",
     "text": [
      "\n"
     ]
    }
   ],
   "source": [
    "best_state_dict = train(\n",
    "    model=model,\n",
    "    model_config=model_config,\n",
    "    device=device,\n",
    "    config=config,\n",
    "    logger=logger,\n",
    "    debug=True,\n",
    ")"
   ]
  },
  {
   "cell_type": "code",
   "execution_count": null,
   "id": "12c96380",
   "metadata": {},
   "outputs": [],
   "source": []
  },
  {
   "cell_type": "code",
   "execution_count": null,
   "id": "7b49df34",
   "metadata": {},
   "outputs": [],
   "source": []
  },
  {
   "cell_type": "code",
   "execution_count": null,
   "id": "b826310b",
   "metadata": {},
   "outputs": [],
   "source": []
  },
  {
   "cell_type": "code",
   "execution_count": null,
   "id": "082f6531",
   "metadata": {},
   "outputs": [],
   "source": []
  },
  {
   "cell_type": "code",
   "execution_count": null,
   "id": "9787debc",
   "metadata": {},
   "outputs": [],
   "source": []
  },
  {
   "cell_type": "code",
   "execution_count": null,
   "id": "06625a44",
   "metadata": {},
   "outputs": [],
   "source": []
  },
  {
   "cell_type": "code",
   "execution_count": null,
   "id": "c338121a",
   "metadata": {},
   "outputs": [],
   "source": []
  },
  {
   "cell_type": "markdown",
   "id": "3fad559c",
   "metadata": {},
   "source": [
    "# DEBUG"
   ]
  },
  {
   "cell_type": "code",
   "execution_count": null,
   "id": "c7e0f868",
   "metadata": {},
   "outputs": [],
   "source": [
    "from train.database_reader.database_reader.cpsc_databases.cpsc2019 import CPSC2019 as DR\n",
    "from dataset import CPSC2019 as DG"
   ]
  },
  {
   "cell_type": "code",
   "execution_count": null,
   "id": "7e5910ce",
   "metadata": {},
   "outputs": [],
   "source": [
    "dr = DR(db_dir=TrainCfg.db_dir)"
   ]
  },
  {
   "cell_type": "code",
   "execution_count": null,
   "id": "d3c94c7f",
   "metadata": {},
   "outputs": [],
   "source": [
    "dg = DG(TrainCfg)"
   ]
  },
  {
   "cell_type": "code",
   "execution_count": null,
   "id": "49540511",
   "metadata": {},
   "outputs": [],
   "source": [
    "dg.__DEBUG__ = False"
   ]
  },
  {
   "cell_type": "code",
   "execution_count": null,
   "id": "286d0c75",
   "metadata": {},
   "outputs": [],
   "source": [
    "values, labels = dg[2]"
   ]
  },
  {
   "cell_type": "code",
   "execution_count": null,
   "id": "7b2a3f26",
   "metadata": {},
   "outputs": [],
   "source": [
    "labels.shape"
   ]
  },
  {
   "cell_type": "code",
   "execution_count": null,
   "id": "7a6e3828",
   "metadata": {},
   "outputs": [],
   "source": [
    "plt.plot(labels[...,0])"
   ]
  },
  {
   "cell_type": "code",
   "execution_count": null,
   "id": "3b1e549f",
   "metadata": {},
   "outputs": [],
   "source": [
    "# for s,l in dg:\n",
    "for idx in range(len(dg)):\n",
    "    s,l = dg[idx]\n",
    "    fig, ax = plt.subplots()\n",
    "    ax.plot(l[...,0])\n",
    "    plt.show()\n",
    "    print(\"-\"*50)"
   ]
  },
  {
   "cell_type": "code",
   "execution_count": null,
   "id": "757ed68e",
   "metadata": {},
   "outputs": [],
   "source": []
  },
  {
   "cell_type": "code",
   "execution_count": null,
   "id": "2d9b904e",
   "metadata": {},
   "outputs": [],
   "source": []
  },
  {
   "cell_type": "code",
   "execution_count": null,
   "id": "18df4a22",
   "metadata": {},
   "outputs": [],
   "source": []
  },
  {
   "cell_type": "code",
   "execution_count": null,
   "id": "5c84664b",
   "metadata": {},
   "outputs": [],
   "source": []
  },
  {
   "cell_type": "code",
   "execution_count": null,
   "id": "ce0fa2cc",
   "metadata": {},
   "outputs": [],
   "source": []
  },
  {
   "cell_type": "code",
   "execution_count": null,
   "id": "4c9243d3",
   "metadata": {},
   "outputs": [],
   "source": [
    "values = values.astype(np.float32)"
   ]
  },
  {
   "cell_type": "code",
   "execution_count": null,
   "id": "7dba239a",
   "metadata": {},
   "outputs": [],
   "source": [
    "# labels.shape"
   ]
  },
  {
   "cell_type": "code",
   "execution_count": null,
   "id": "f56e4825",
   "metadata": {},
   "outputs": [],
   "source": [
    "# ?best_model.inference"
   ]
  },
  {
   "cell_type": "code",
   "execution_count": null,
   "id": "09af62f6",
   "metadata": {},
   "outputs": [],
   "source": [
    "pred, rpeaks = best_model.inference(values[np.newaxis,...])"
   ]
  },
  {
   "cell_type": "code",
   "execution_count": null,
   "id": "dcf3d2cf",
   "metadata": {},
   "outputs": [],
   "source": [
    "np.where(pred>0.5)"
   ]
  },
  {
   "cell_type": "code",
   "execution_count": null,
   "id": "b7921432",
   "metadata": {},
   "outputs": [],
   "source": [
    "pred.shape, values.shape"
   ]
  },
  {
   "cell_type": "code",
   "execution_count": null,
   "id": "71ed0820",
   "metadata": {},
   "outputs": [],
   "source": [
    "fig, ax = plt.subplots(figsize=(20,4))\n",
    "ax.plot(values[0])\n",
    "ax.plot(pred[0]-0.5,c=\"red\")\n",
    "plt.show()"
   ]
  },
  {
   "cell_type": "code",
   "execution_count": null,
   "id": "275d937f",
   "metadata": {},
   "outputs": [],
   "source": [
    "hehe_fwd = best_model.forward(torch.from_numpy(values[np.newaxis,...]).to(device))"
   ]
  },
  {
   "cell_type": "code",
   "execution_count": null,
   "id": "9b96ffc5",
   "metadata": {},
   "outputs": [],
   "source": [
    "plt.plot(hehe_fwd.squeeze().cpu().detach().numpy())"
   ]
  },
  {
   "cell_type": "code",
   "execution_count": null,
   "id": "5802b5ba",
   "metadata": {},
   "outputs": [],
   "source": [
    "?nn.Sigmoid"
   ]
  },
  {
   "cell_type": "code",
   "execution_count": null,
   "id": "6caf0ef3",
   "metadata": {},
   "outputs": [],
   "source": [
    "plt.plot(labels[0])"
   ]
  },
  {
   "cell_type": "code",
   "execution_count": null,
   "id": "8e6aac08",
   "metadata": {},
   "outputs": [],
   "source": [
    "np.unique(labels[0])"
   ]
  },
  {
   "cell_type": "code",
   "execution_count": null,
   "id": "bf7d6e12",
   "metadata": {},
   "outputs": [],
   "source": []
  },
  {
   "cell_type": "code",
   "execution_count": null,
   "id": "d07ebf2d",
   "metadata": {},
   "outputs": [],
   "source": []
  },
  {
   "cell_type": "code",
   "execution_count": null,
   "id": "d005810d",
   "metadata": {},
   "outputs": [],
   "source": []
  },
  {
   "cell_type": "code",
   "execution_count": null,
   "id": "610e0c03",
   "metadata": {},
   "outputs": [],
   "source": []
  },
  {
   "cell_type": "markdown",
   "id": "a5027d9e",
   "metadata": {},
   "source": [
    "# clear GPU"
   ]
  },
  {
   "cell_type": "code",
   "execution_count": 18,
   "id": "5ab2e544",
   "metadata": {},
   "outputs": [],
   "source": [
    "with torch.no_grad():\n",
    "    torch.cuda.empty_cache()"
   ]
  },
  {
   "cell_type": "code",
   "execution_count": null,
   "id": "8d65c234",
   "metadata": {},
   "outputs": [],
   "source": []
  }
 ],
 "metadata": {
  "kernelspec": {
   "display_name": "Python 3",
   "language": "python",
   "name": "python3"
  },
  "language_info": {
   "codemirror_mode": {
    "name": "ipython",
    "version": 3
   },
   "file_extension": ".py",
   "mimetype": "text/x-python",
   "name": "python",
   "nbconvert_exporter": "python",
   "pygments_lexer": "ipython3",
   "version": "3.8.5"
  }
 },
 "nbformat": 4,
 "nbformat_minor": 5
}
