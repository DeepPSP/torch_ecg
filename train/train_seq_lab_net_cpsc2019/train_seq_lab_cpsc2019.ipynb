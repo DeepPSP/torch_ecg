{
 "cells": [
  {
   "cell_type": "code",
   "execution_count": 1,
   "metadata": {},
   "outputs": [],
   "source": [
    "import sys\n",
    "import warnings\n",
    "warnings.simplefilter(action='ignore', category=FutureWarning)\n",
    "from copy import deepcopy\n",
    "from torch.nn.parallel import DistributedDataParallel as DDP, DataParallel as DP\n",
    "\n",
    "%load_ext autoreload\n",
    "%autoreload 2"
   ]
  },
  {
   "cell_type": "code",
   "execution_count": 2,
   "metadata": {},
   "outputs": [
    {
     "data": {
      "text/plain": [
       "'1.20.3'"
      ]
     },
     "execution_count": 2,
     "metadata": {},
     "output_type": "execute_result"
    }
   ],
   "source": [
    "import numpy as np\n",
    "np.__version__"
   ]
  },
  {
   "cell_type": "code",
   "execution_count": 3,
   "metadata": {},
   "outputs": [
    {
     "data": {
      "text/plain": [
       "'1.8.1+cu111'"
      ]
     },
     "execution_count": 3,
     "metadata": {},
     "output_type": "execute_result"
    }
   ],
   "source": [
    "# import das.pytorch.estimator as pe\n",
    "import torch\n",
    "torch.__version__"
   ]
  },
  {
   "cell_type": "code",
   "execution_count": 4,
   "metadata": {},
   "outputs": [
    {
     "data": {
      "text/plain": [
       "True"
      ]
     },
     "execution_count": 4,
     "metadata": {},
     "output_type": "execute_result"
    }
   ],
   "source": [
    "torch.cuda.is_available()"
   ]
  },
  {
   "cell_type": "code",
   "execution_count": null,
   "metadata": {},
   "outputs": [],
   "source": []
  },
  {
   "cell_type": "code",
   "execution_count": null,
   "metadata": {},
   "outputs": [],
   "source": []
  },
  {
   "cell_type": "code",
   "execution_count": 5,
   "metadata": {},
   "outputs": [],
   "source": [
    "# sys.path.insert(0,\"/media/cfs/wenhao71/workspace/torch_ecg/\")\n",
    "sys.path.insert(0, \"/home/wenh06/Jupyter/wenhao/workspace/torch_ecg/\")\n",
    "from train.train_seq_lab_net_cpsc2019.cfg import TrainCfg, ModelCfg\n",
    "from train.train_seq_lab_net_cpsc2019.train import train, evaluate\n",
    "from train.train_seq_lab_net_cpsc2019.model import ECG_SEQ_LAB_NET_CPSC2019\n",
    "from train.train_seq_lab_net_cpsc2019.utils import init_logger, dict_to_str\n"
   ]
  },
  {
   "cell_type": "code",
   "execution_count": 6,
   "metadata": {},
   "outputs": [
    {
     "data": {
      "text/plain": [
       "{'fs': 500,\n",
       " 'db_dir': '/home/wenh06/Jupyter/data/CPSC2019/',\n",
       " 'log_dir': '/home/wenh06/Jupyter/wenhao/workspace/torch_ecg/train/train_seq_lab_net_cpsc2019/log',\n",
       " 'checkpoints': '/home/wenh06/Jupyter/wenhao/workspace/torch_ecg/train/train_seq_lab_net_cpsc2019/checkpoints',\n",
       " 'model_dir': '/home/wenh06/Jupyter/wenhao/workspace/torch_ecg/train/train_seq_lab_net_cpsc2019/saved_models',\n",
       " 'final_model_name': None,\n",
       " 'keep_checkpoint_max': 20,\n",
       " 'train_ratio': 0.8,\n",
       " 'input_len': 5000,\n",
       " 'classes': ['N'],\n",
       " 'n_leads': 1,\n",
       " 'bias_thr': 37.5,\n",
       " 'skip_dist': 250.0,\n",
       " 'label_smoothing': 0.0,\n",
       " 'random_normalize': True,\n",
       " 'random_normalize_mean': [-0.05, 0.1],\n",
       " 'random_normalize_std': [0.08, 0.32],\n",
       " 'baseline_wander': True,\n",
       " 'bw': True,\n",
       " 'bw_fs': array([0.33, 0.1 , 0.05, 0.01]),\n",
       " 'bw_ampl_ratio': array([[0.01, 0.01, 0.02, 0.03],\n",
       "        [0.01, 0.02, 0.04, 0.05],\n",
       "        [0.1 , 0.06, 0.04, 0.02],\n",
       "        [0.02, 0.04, 0.07, 0.1 ],\n",
       "        [0.05, 0.1 , 0.16, 0.25],\n",
       "        [0.1 , 0.15, 0.25, 0.3 ],\n",
       "        [0.25, 0.25, 0.3 , 0.35]]),\n",
       " 'bw_gaussian': array([[0.   , 0.   ],\n",
       "        [0.   , 0.   ],\n",
       "        [0.   , 0.   ],\n",
       "        [0.   , 0.003],\n",
       "        [0.   , 0.01 ]]),\n",
       " 'flip': [-1, 1, 1, 1, 1],\n",
       " 'seq_lab_reduction': 8,\n",
       " 'n_epochs': 300,\n",
       " 'batch_size': 256,\n",
       " 'train_optimizer': 'adamw_amsgrad',\n",
       " 'momentum': 0.949,\n",
       " 'betas': [0.9, 0.999],\n",
       " 'decay': 0.01,\n",
       " 'learning_rate': 0.001,\n",
       " 'lr': 0.001,\n",
       " 'lr_scheduler': None,\n",
       " 'lr_step_size': 50,\n",
       " 'lr_gamma': 0.1,\n",
       " 'max_lr': 0.01,\n",
       " 'burn_in': 400,\n",
       " 'steps': [5000, 10000],\n",
       " 'early_stopping': {'min_delta': 0.001, 'patience': 15},\n",
       " 'loss': 'BCEWithLogitsLoss',\n",
       " 'flooding_level': 0.0,\n",
       " 'log_step': 20,\n",
       " 'eval_every': 20,\n",
       " 'model_name': 'cnn',\n",
       " 'cnn_name': 'multi_scopic',\n",
       " 'rnn_name': 'none',\n",
       " 'attn_name': 'se'}"
      ]
     },
     "execution_count": 6,
     "metadata": {},
     "output_type": "execute_result"
    }
   ],
   "source": [
    "TrainCfg.db_dir = \"/home/wenh06/Jupyter/data/CPSC2019/\"\n",
    "TrainCfg"
   ]
  },
  {
   "cell_type": "code",
   "execution_count": null,
   "metadata": {},
   "outputs": [],
   "source": []
  },
  {
   "cell_type": "code",
   "execution_count": 7,
   "metadata": {
    "scrolled": true
   },
   "outputs": [
    {
     "data": {
      "text/plain": [
       "{'skip_dist': 250.0,\n",
       " 'torch_dtype': 'float',\n",
       " 'fs': 500,\n",
       " 'spacing': 2.0,\n",
       " 'classes': ['N'],\n",
       " 'n_leads': 1,\n",
       " 'seq_lab_crnn': {'fs': 500,\n",
       "  'classes': ['N'],\n",
       "  'n_leads': 1,\n",
       "  'skip_dist': 250.0,\n",
       "  'torch_dtype': 'float',\n",
       "  'cnn': {'name': 'multi_scopic',\n",
       "   'multi_scopic': {'groups': 1,\n",
       "    'scopes': [[[1], [1, 1], [1, 1, 1]],\n",
       "     [[2], [2, 4], [8, 8, 8]],\n",
       "     [[4], [4, 8], [16, 32, 64]]],\n",
       "    'filter_lengths': [[11, 7, 5], [11, 7, 5], [11, 7, 5]],\n",
       "    'subsample_lengths': [2, 2, 2],\n",
       "    'num_filters': [[32, 64, 128], [32, 64, 128], [32, 64, 128]],\n",
       "    'dropouts': [[0, 0.2, 0], [0, 0.2, 0], [0, 0.2, 0]],\n",
       "    'bias': True,\n",
       "    'kernel_initializer': 'he_normal',\n",
       "    'kw_initializer': {},\n",
       "    'activation': 'relu',\n",
       "    'kw_activation': {'inplace': True},\n",
       "    'block': {'subsample_mode': 'max',\n",
       "     'bias': True,\n",
       "     'kernel_initializer': 'he_normal',\n",
       "     'kw_initializer': {},\n",
       "     'activation': 'relu',\n",
       "     'kw_activation': {'inplace': True},\n",
       "     'batch_norm': True,\n",
       "     'kw_bn': {}}}},\n",
       "  'rnn': {'name': 'lstm',\n",
       "   'lstm': {'hidden_sizes': [256, 64],\n",
       "    'bias': True,\n",
       "    'dropouts': 0.2,\n",
       "    'bidirectional': True}},\n",
       "  'attn': {'name': 'se',\n",
       "   'se': {'reduction': 8,\n",
       "    'activation': 'relu',\n",
       "    'kw_activation': {'inplace': True},\n",
       "    'bias': True,\n",
       "    'kernel_initializer': 'he_normal'}},\n",
       "  'clf': {'out_channels': [256, 64],\n",
       "   'activation': 'mish',\n",
       "   'bias': True,\n",
       "   'kernel_initializer': 'he_normal',\n",
       "   'dropouts': [0.2, 0.2, 0.0]}},\n",
       " 'seq_lab_cnn': {'fs': 500,\n",
       "  'classes': ['N'],\n",
       "  'n_leads': 1,\n",
       "  'skip_dist': 250.0,\n",
       "  'torch_dtype': 'float',\n",
       "  'cnn': {'name': 'multi_scopic',\n",
       "   'multi_scopic': {'groups': 1,\n",
       "    'scopes': [[[1], [1, 1], [1, 1, 1]],\n",
       "     [[2], [2, 4], [8, 8, 8]],\n",
       "     [[4], [4, 8], [16, 32, 64]]],\n",
       "    'filter_lengths': [[11, 7, 5], [11, 7, 5], [11, 7, 5]],\n",
       "    'subsample_lengths': [2, 2, 2],\n",
       "    'num_filters': [[32, 64, 128], [32, 64, 128], [32, 64, 128]],\n",
       "    'dropouts': [[0, 0.2, 0], [0, 0.2, 0], [0, 0.2, 0]],\n",
       "    'bias': True,\n",
       "    'kernel_initializer': 'he_normal',\n",
       "    'kw_initializer': {},\n",
       "    'activation': 'relu',\n",
       "    'kw_activation': {'inplace': True},\n",
       "    'block': {'subsample_mode': 'max',\n",
       "     'bias': True,\n",
       "     'kernel_initializer': 'he_normal',\n",
       "     'kw_initializer': {},\n",
       "     'activation': 'relu',\n",
       "     'kw_activation': {'inplace': True},\n",
       "     'batch_norm': True,\n",
       "     'kw_bn': {}}}},\n",
       "  'rnn': {'name': 'none'},\n",
       "  'attn': {'name': 'se',\n",
       "   'se': {'reduction': 8,\n",
       "    'activation': 'relu',\n",
       "    'kw_activation': {'inplace': True},\n",
       "    'bias': True,\n",
       "    'kernel_initializer': 'he_normal'}},\n",
       "  'clf': {'out_channels': [256, 64],\n",
       "   'activation': 'mish',\n",
       "   'bias': True,\n",
       "   'kernel_initializer': 'he_normal',\n",
       "   'dropouts': [0.2, 0.2, 0.0]}}}"
      ]
     },
     "execution_count": 7,
     "metadata": {},
     "output_type": "execute_result"
    }
   ],
   "source": [
    "ModelCfg"
   ]
  },
  {
   "cell_type": "code",
   "execution_count": null,
   "metadata": {},
   "outputs": [],
   "source": []
  },
  {
   "cell_type": "code",
   "execution_count": null,
   "metadata": {},
   "outputs": [],
   "source": []
  },
  {
   "cell_type": "code",
   "execution_count": null,
   "metadata": {},
   "outputs": [],
   "source": []
  },
  {
   "cell_type": "code",
   "execution_count": null,
   "metadata": {},
   "outputs": [],
   "source": []
  },
  {
   "cell_type": "markdown",
   "metadata": {},
   "source": [
    "# train CNN"
   ]
  },
  {
   "cell_type": "code",
   "execution_count": 8,
   "metadata": {},
   "outputs": [],
   "source": [
    "train_config = deepcopy(TrainCfg)"
   ]
  },
  {
   "cell_type": "code",
   "execution_count": 9,
   "metadata": {},
   "outputs": [],
   "source": [
    "train_config.model_name = \"cnn\""
   ]
  },
  {
   "cell_type": "code",
   "execution_count": 10,
   "metadata": {},
   "outputs": [],
   "source": [
    "model_config = deepcopy(ModelCfg[f\"seq_lab_{train_config.model_name.lower()}\"])"
   ]
  },
  {
   "cell_type": "code",
   "execution_count": 11,
   "metadata": {
    "scrolled": true
   },
   "outputs": [
    {
     "data": {
      "text/plain": [
       "{'fs': 500,\n",
       " 'db_dir': '/home/wenh06/Jupyter/data/CPSC2019/',\n",
       " 'log_dir': '/home/wenh06/Jupyter/wenhao/workspace/torch_ecg/train/train_seq_lab_net_cpsc2019/log',\n",
       " 'checkpoints': '/home/wenh06/Jupyter/wenhao/workspace/torch_ecg/train/train_seq_lab_net_cpsc2019/checkpoints',\n",
       " 'model_dir': '/home/wenh06/Jupyter/wenhao/workspace/torch_ecg/train/train_seq_lab_net_cpsc2019/saved_models',\n",
       " 'final_model_name': None,\n",
       " 'keep_checkpoint_max': 20,\n",
       " 'train_ratio': 0.8,\n",
       " 'input_len': 5000,\n",
       " 'classes': ['N'],\n",
       " 'n_leads': 1,\n",
       " 'bias_thr': 37.5,\n",
       " 'skip_dist': 250.0,\n",
       " 'label_smoothing': 0.0,\n",
       " 'random_normalize': True,\n",
       " 'random_normalize_mean': [-0.05, 0.1],\n",
       " 'random_normalize_std': [0.08, 0.32],\n",
       " 'baseline_wander': True,\n",
       " 'bw': True,\n",
       " 'bw_fs': array([0.33, 0.1 , 0.05, 0.01]),\n",
       " 'bw_ampl_ratio': array([[0.01, 0.01, 0.02, 0.03],\n",
       "        [0.01, 0.02, 0.04, 0.05],\n",
       "        [0.1 , 0.06, 0.04, 0.02],\n",
       "        [0.02, 0.04, 0.07, 0.1 ],\n",
       "        [0.05, 0.1 , 0.16, 0.25],\n",
       "        [0.1 , 0.15, 0.25, 0.3 ],\n",
       "        [0.25, 0.25, 0.3 , 0.35]]),\n",
       " 'bw_gaussian': array([[0.   , 0.   ],\n",
       "        [0.   , 0.   ],\n",
       "        [0.   , 0.   ],\n",
       "        [0.   , 0.003],\n",
       "        [0.   , 0.01 ]]),\n",
       " 'flip': [-1, 1, 1, 1, 1],\n",
       " 'seq_lab_reduction': 8,\n",
       " 'n_epochs': 300,\n",
       " 'batch_size': 256,\n",
       " 'train_optimizer': 'adamw_amsgrad',\n",
       " 'momentum': 0.949,\n",
       " 'betas': [0.9, 0.999],\n",
       " 'decay': 0.01,\n",
       " 'learning_rate': 0.001,\n",
       " 'lr': 0.001,\n",
       " 'lr_scheduler': None,\n",
       " 'lr_step_size': 50,\n",
       " 'lr_gamma': 0.1,\n",
       " 'max_lr': 0.01,\n",
       " 'burn_in': 400,\n",
       " 'steps': [5000, 10000],\n",
       " 'early_stopping': {'min_delta': 0.001, 'patience': 15},\n",
       " 'loss': 'BCEWithLogitsLoss',\n",
       " 'flooding_level': 0.0,\n",
       " 'log_step': 20,\n",
       " 'eval_every': 20,\n",
       " 'model_name': 'cnn',\n",
       " 'cnn_name': 'multi_scopic',\n",
       " 'rnn_name': 'none',\n",
       " 'attn_name': 'se'}"
      ]
     },
     "execution_count": 11,
     "metadata": {},
     "output_type": "execute_result"
    }
   ],
   "source": [
    "train_config"
   ]
  },
  {
   "cell_type": "code",
   "execution_count": 12,
   "metadata": {
    "scrolled": true
   },
   "outputs": [
    {
     "data": {
      "text/plain": [
       "{'fs': 500,\n",
       " 'classes': ['N'],\n",
       " 'n_leads': 1,\n",
       " 'skip_dist': 250.0,\n",
       " 'torch_dtype': 'float',\n",
       " 'cnn': {'name': 'multi_scopic',\n",
       "  'multi_scopic': {'groups': 1,\n",
       "   'scopes': [[[1], [1, 1], [1, 1, 1]],\n",
       "    [[2], [2, 4], [8, 8, 8]],\n",
       "    [[4], [4, 8], [16, 32, 64]]],\n",
       "   'filter_lengths': [[11, 7, 5], [11, 7, 5], [11, 7, 5]],\n",
       "   'subsample_lengths': [2, 2, 2],\n",
       "   'num_filters': [[32, 64, 128], [32, 64, 128], [32, 64, 128]],\n",
       "   'dropouts': [[0, 0.2, 0], [0, 0.2, 0], [0, 0.2, 0]],\n",
       "   'bias': True,\n",
       "   'kernel_initializer': 'he_normal',\n",
       "   'kw_initializer': {},\n",
       "   'activation': 'relu',\n",
       "   'kw_activation': {'inplace': True},\n",
       "   'block': {'subsample_mode': 'max',\n",
       "    'bias': True,\n",
       "    'kernel_initializer': 'he_normal',\n",
       "    'kw_initializer': {},\n",
       "    'activation': 'relu',\n",
       "    'kw_activation': {'inplace': True},\n",
       "    'batch_norm': True,\n",
       "    'kw_bn': {}}}},\n",
       " 'rnn': {'name': 'none'},\n",
       " 'attn': {'name': 'se',\n",
       "  'se': {'reduction': 8,\n",
       "   'activation': 'relu',\n",
       "   'kw_activation': {'inplace': True},\n",
       "   'bias': True,\n",
       "   'kernel_initializer': 'he_normal'}},\n",
       " 'clf': {'out_channels': [256, 64],\n",
       "  'activation': 'mish',\n",
       "  'bias': True,\n",
       "  'kernel_initializer': 'he_normal',\n",
       "  'dropouts': [0.2, 0.2, 0.0]}}"
      ]
     },
     "execution_count": 12,
     "metadata": {},
     "output_type": "execute_result"
    }
   ],
   "source": [
    "model_config"
   ]
  },
  {
   "cell_type": "code",
   "execution_count": 13,
   "metadata": {},
   "outputs": [
    {
     "name": "stdout",
     "output_type": "stream",
     "text": [
      "model_config = {'fs': 500, 'classes': ['N'], 'n_leads': 1, 'skip_dist': 250.0, 'torch_dtype': 'float', 'cnn': {'name': 'multi_scopic', 'multi_scopic': {'groups': 1, 'scopes': [[[1], [1, 1], [1, 1, 1]], [[2], [2, 4], [8, 8, 8]], [[4], [4, 8], [16, 32, 64]]], 'filter_lengths': [[11, 7, 5], [11, 7, 5], [11, 7, 5]], 'subsample_lengths': [2, 2, 2], 'num_filters': [[32, 64, 128], [32, 64, 128], [32, 64, 128]], 'dropouts': [[0, 0.2, 0], [0, 0.2, 0], [0, 0.2, 0]], 'bias': True, 'kernel_initializer': 'he_normal', 'kw_initializer': {}, 'activation': 'relu', 'kw_activation': {'inplace': True}, 'block': {'subsample_mode': 'max', 'bias': True, 'kernel_initializer': 'he_normal', 'kw_initializer': {}, 'activation': 'relu', 'kw_activation': {'inplace': True}, 'batch_norm': True, 'kw_bn': {}}}}, 'rnn': {'name': 'none'}, 'attn': {'name': 'se', 'se': {'reduction': 8, 'activation': 'relu', 'kw_activation': {'inplace': True}, 'bias': True, 'kernel_initializer': 'he_normal'}}, 'clf': {'out_channels': [256, 64], 'activation': 'mish', 'bias': True, 'kernel_initializer': 'he_normal', 'dropouts': [0.2, 0.2, 0.0]}}\n",
      "classes (totally 1) for prediction:['N']\n",
      "configuration of ECG_SEQ_LAB_NET_CPSC2019 is as follows\n",
      "{\n",
      "    \"cnn\": {\n",
      "        \"name\": \"multi_scopic\",\n",
      "        \"multi_scopic\": {\n",
      "            \"groups\": 1,\n",
      "            \"scopes\": [\n",
      "                [\n",
      "                    [\n",
      "                        1\n",
      "                    ],\n",
      "                    [\n",
      "                        1, 1\n",
      "                    ],\n",
      "                    [\n",
      "                        1, 1, 1\n",
      "                    ]\n",
      "                ],\n",
      "                [\n",
      "                    [\n",
      "                        2\n",
      "                    ],\n",
      "                    [\n",
      "                        2, 4\n",
      "                    ],\n",
      "                    [\n",
      "                        8, 8, 8\n",
      "                    ]\n",
      "                ],\n",
      "                [\n",
      "                    [\n",
      "                        4\n",
      "                    ],\n",
      "                    [\n",
      "                        4, 8\n",
      "                    ],\n",
      "                    [\n",
      "                        16, 32, 64\n",
      "                    ]\n",
      "                ]\n",
      "            ],\n",
      "            \"filter_lengths\": [\n",
      "                [\n",
      "                    11, 7, 5\n",
      "                ],\n",
      "                [\n",
      "                    11, 7, 5\n",
      "                ],\n",
      "                [\n",
      "                    11, 7, 5\n",
      "                ]\n",
      "            ],\n",
      "            \"subsample_lengths\": [\n",
      "                2, 2, 2\n",
      "            ],\n",
      "            \"num_filters\": [\n",
      "                [\n",
      "                    32, 64, 128\n",
      "                ],\n",
      "                [\n",
      "                    32, 64, 128\n",
      "                ],\n",
      "                [\n",
      "                    32, 64, 128\n",
      "                ]\n",
      "            ],\n",
      "            \"dropouts\": [\n",
      "                [\n",
      "                    0, 0.2, 0\n",
      "                ],\n",
      "                [\n",
      "                    0, 0.2, 0\n",
      "                ],\n",
      "                [\n",
      "                    0, 0.2, 0\n",
      "                ]\n",
      "            ],\n",
      "            \"bias\": True,\n",
      "            \"kernel_initializer\": \"he_normal\",\n",
      "            \"kw_initializer\": {},\n",
      "            \"activation\": \"relu\",\n",
      "            \"kw_activation\": {\n",
      "                \"inplace\": True\n",
      "            },\n",
      "            \"block\": {\n",
      "                \"subsample_mode\": \"max\",\n",
      "                \"bias\": True,\n",
      "                \"kernel_initializer\": \"he_normal\",\n",
      "                \"kw_initializer\": {},\n",
      "                \"activation\": \"relu\",\n",
      "                \"kw_activation\": {\n",
      "                    \"inplace\": True\n",
      "                },\n",
      "                \"batch_norm\": True,\n",
      "                \"kw_bn\": {}\n",
      "            }\n",
      "        }\n",
      "    },\n",
      "    \"rnn\": {\n",
      "        \"name\": \"none\"\n",
      "    },\n",
      "    \"attn\": {\n",
      "        \"name\": \"se\",\n",
      "        \"se\": {\n",
      "            \"reduction\": 8,\n",
      "            \"activation\": \"relu\",\n",
      "            \"kw_activation\": {\n",
      "                \"inplace\": True\n",
      "            },\n",
      "            \"bias\": True,\n",
      "            \"kernel_initializer\": \"he_normal\"\n",
      "        }\n",
      "    },\n",
      "    \"clf\": {\n",
      "        \"out_channels\": [\n",
      "            256, 64\n",
      "        ],\n",
      "        \"activation\": \"mish\",\n",
      "        \"bias\": True,\n",
      "        \"kernel_initializer\": \"he_normal\",\n",
      "        \"dropouts\": [\n",
      "            0.2, 0.2, 0.0\n",
      "        ]\n",
      "    },\n",
      "    \"fs\": 500,\n",
      "    \"classes\": [\n",
      "        \"N\"\n",
      "    ],\n",
      "    \"n_leads\": 1,\n",
      "    \"skip_dist\": 250.0,\n",
      "    \"torch_dtype\": \"float\"\n",
      "}\n",
      "cnn output shape (batch_size, features, seq_len) = (None, 384, 625), given input seq_len = 5000\n",
      "configs of attn are {\n",
      "    \"name\": \"se\",\n",
      "    \"se\": {\n",
      "        \"reduction\": 8,\n",
      "        \"activation\": \"relu\",\n",
      "        \"kw_activation\": {\n",
      "            \"inplace\": True\n",
      "        },\n",
      "        \"bias\": True,\n",
      "        \"kernel_initializer\": \"he_normal\"\n",
      "    }\n",
      "}\n"
     ]
    }
   ],
   "source": [
    "model = ECG_SEQ_LAB_NET_CPSC2019(\n",
    "    n_leads=train_config.n_leads,\n",
    "    input_len=train_config.input_len,\n",
    "    config=model_config,\n",
    ")"
   ]
  },
  {
   "cell_type": "code",
   "execution_count": 14,
   "metadata": {},
   "outputs": [
    {
     "data": {
      "text/plain": [
       "2"
      ]
     },
     "execution_count": 14,
     "metadata": {},
     "output_type": "execute_result"
    }
   ],
   "source": [
    "torch.cuda.device_count()"
   ]
  },
  {
   "cell_type": "code",
   "execution_count": 15,
   "metadata": {},
   "outputs": [
    {
     "data": {
      "text/plain": [
       "device(type='cuda')"
      ]
     },
     "execution_count": 15,
     "metadata": {},
     "output_type": "execute_result"
    }
   ],
   "source": [
    "device = torch.device('cuda' if torch.cuda.is_available() else 'cpu')\n",
    "device"
   ]
  },
  {
   "cell_type": "code",
   "execution_count": 16,
   "metadata": {},
   "outputs": [],
   "source": [
    "if torch.cuda.device_count() > 1:\n",
    "    model = DP(model)\n",
    "#     model = DDP(model)\n",
    "\n",
    "model.to(device=device)\n",
    "model.__DEBUG__ = False"
   ]
  },
  {
   "cell_type": "code",
   "execution_count": 17,
   "metadata": {},
   "outputs": [
    {
     "name": "stdout",
     "output_type": "stream",
     "text": [
      "log file path: /home/wenh06/Jupyter/wenhao/workspace/torch_ecg/train/train_seq_lab_net_cpsc2019/log/log_2021-06-22-09-31-50.txt\n",
      "levels of c_handler and f_handler are set DEBUG\n",
      "ECG-SEQ-LAB - INFO - \n",
      "********************   Start Training   ********************\n",
      "\n",
      "ECG-SEQ-LAB - INFO - Using device cuda\n",
      "ECG-SEQ-LAB - INFO - Using torch of version 1.8.1+cu111\n",
      "ECG-SEQ-LAB - INFO - with configuration\n",
      "{\n",
      "    \"fs\": 500\n",
      "    \"db_dir\": \"/home/wenh06/Jupyter/data/CPSC2019/\"\n",
      "    \"log_dir\": \"/home/wenh06/Jupyter/wenhao/workspace/torch_ecg/train/train_seq_lab_net_cpsc2019/log\"\n",
      "    \"checkpoints\": \"/home/wenh06/Jupyter/wenhao/workspace/torch_ecg/train/train_seq_lab_net_cpsc2019/checkpoints\"\n",
      "    \"model_dir\": \"/home/wenh06/Jupyter/wenhao/workspace/torch_ecg/train/train_seq_lab_net_cpsc2019/saved_models\"\n",
      "    \"final_model_name\": None\n",
      "    \"keep_checkpoint_max\": 20\n",
      "    \"train_ratio\": 0.8\n",
      "    \"input_len\": 5000\n",
      "    \"classes\": [\n",
      "        \"N\"\n",
      "    ]\n",
      "    \"n_leads\": 1\n",
      "    \"bias_thr\": 37.5\n",
      "    \"skip_dist\": 250.0\n",
      "    \"label_smoothing\": 0.0\n",
      "    \"random_normalize\": True\n",
      "    \"random_normalize_mean\": [\n",
      "        -0.05, 0.1\n",
      "    ]\n",
      "    \"random_normalize_std\": [\n",
      "        0.08, 0.32\n",
      "    ]\n",
      "    \"baseline_wander\": True\n",
      "    \"bw\": True\n",
      "    \"bw_fs\": [0.33 0.1  0.05 0.01]\n",
      "    \"bw_ampl_ratio\": [[0.01 0.01 0.02 0.03]\n",
      " [0.01 0.02 0.04 0.05]\n",
      " [0.1  0.06 0.04 0.02]\n",
      " [0.02 0.04 0.07 0.1 ]\n",
      " [0.05 0.1  0.16 0.25]\n",
      " [0.1  0.15 0.25 0.3 ]\n",
      " [0.25 0.25 0.3  0.35]]\n",
      "    \"bw_gaussian\": [[0.    0.   ]\n",
      " [0.    0.   ]\n",
      " [0.    0.   ]\n",
      " [0.    0.003]\n",
      " [0.    0.01 ]]\n",
      "    \"flip\": [\n",
      "        -1, 1, 1, 1, 1\n",
      "    ]\n",
      "    \"seq_lab_reduction\": 8\n",
      "    \"n_epochs\": 300\n",
      "    \"batch_size\": 256\n",
      "    \"train_optimizer\": \"adamw_amsgrad\"\n",
      "    \"momentum\": 0.949\n",
      "    \"betas\": [\n",
      "        0.9, 0.999\n",
      "    ]\n",
      "    \"decay\": 0.01\n",
      "    \"learning_rate\": 0.001\n",
      "    \"lr\": 0.001\n",
      "    \"lr_scheduler\": None\n",
      "    \"lr_step_size\": 50\n",
      "    \"lr_gamma\": 0.1\n",
      "    \"max_lr\": 0.01\n",
      "    \"burn_in\": 400\n",
      "    \"steps\": [\n",
      "        5000, 10000\n",
      "    ]\n",
      "    \"early_stopping\": {\n",
      "        \"min_delta\": 0.001\n",
      "        \"patience\": 15\n",
      "    }\n",
      "    \"loss\": \"BCEWithLogitsLoss\"\n",
      "    \"flooding_level\": 0.0\n",
      "    \"log_step\": 20\n",
      "    \"eval_every\": 20\n",
      "    \"model_name\": \"cnn\"\n",
      "    \"cnn_name\": \"multi_scopic\"\n",
      "    \"rnn_name\": \"none\"\n",
      "    \"attn_name\": \"se\"\n",
      "}\n"
     ]
    }
   ],
   "source": [
    "logger = init_logger(log_dir=train_config.log_dir, verbose=2)\n",
    "logger.info(f\"\\n{'*'*20}   Start Training   {'*'*20}\\n\")\n",
    "logger.info(f'Using device {device}')\n",
    "logger.info(f\"Using torch of version {torch.__version__}\")\n",
    "logger.info(f'with configuration\\n{dict_to_str(train_config)}')"
   ]
  },
  {
   "cell_type": "code",
   "execution_count": null,
   "metadata": {},
   "outputs": [],
   "source": []
  },
  {
   "cell_type": "code",
   "execution_count": null,
   "metadata": {},
   "outputs": [],
   "source": []
  },
  {
   "cell_type": "code",
   "execution_count": 18,
   "metadata": {},
   "outputs": [],
   "source": [
    "# hehe_input = torch.rand((2,1,4000)).to(device,dtype=torch.float32)"
   ]
  },
  {
   "cell_type": "code",
   "execution_count": 19,
   "metadata": {},
   "outputs": [],
   "source": [
    "# pred, rpeaks = model.inference(hehe_input,0.5)"
   ]
  },
  {
   "cell_type": "code",
   "execution_count": 20,
   "metadata": {},
   "outputs": [],
   "source": [
    "# rpeaks"
   ]
  },
  {
   "cell_type": "code",
   "execution_count": null,
   "metadata": {},
   "outputs": [],
   "source": []
  },
  {
   "cell_type": "code",
   "execution_count": 21,
   "metadata": {
    "scrolled": true
   },
   "outputs": [
    {
     "data": {
      "text/plain": [
       "{'fs': 500,\n",
       " 'db_dir': '/home/wenh06/Jupyter/data/CPSC2019/',\n",
       " 'log_dir': '/home/wenh06/Jupyter/wenhao/workspace/torch_ecg/train/train_seq_lab_net_cpsc2019/log',\n",
       " 'checkpoints': '/home/wenh06/Jupyter/wenhao/workspace/torch_ecg/train/train_seq_lab_net_cpsc2019/checkpoints',\n",
       " 'model_dir': '/home/wenh06/Jupyter/wenhao/workspace/torch_ecg/train/train_seq_lab_net_cpsc2019/saved_models',\n",
       " 'final_model_name': None,\n",
       " 'keep_checkpoint_max': 20,\n",
       " 'train_ratio': 0.8,\n",
       " 'input_len': 5000,\n",
       " 'classes': ['N'],\n",
       " 'n_leads': 1,\n",
       " 'bias_thr': 37.5,\n",
       " 'skip_dist': 250.0,\n",
       " 'label_smoothing': 0.0,\n",
       " 'random_normalize': True,\n",
       " 'random_normalize_mean': [-0.05, 0.1],\n",
       " 'random_normalize_std': [0.08, 0.32],\n",
       " 'baseline_wander': True,\n",
       " 'bw': True,\n",
       " 'bw_fs': array([0.33, 0.1 , 0.05, 0.01]),\n",
       " 'bw_ampl_ratio': array([[0.01, 0.01, 0.02, 0.03],\n",
       "        [0.01, 0.02, 0.04, 0.05],\n",
       "        [0.1 , 0.06, 0.04, 0.02],\n",
       "        [0.02, 0.04, 0.07, 0.1 ],\n",
       "        [0.05, 0.1 , 0.16, 0.25],\n",
       "        [0.1 , 0.15, 0.25, 0.3 ],\n",
       "        [0.25, 0.25, 0.3 , 0.35]]),\n",
       " 'bw_gaussian': array([[0.   , 0.   ],\n",
       "        [0.   , 0.   ],\n",
       "        [0.   , 0.   ],\n",
       "        [0.   , 0.003],\n",
       "        [0.   , 0.01 ]]),\n",
       " 'flip': [-1, 1, 1, 1, 1],\n",
       " 'seq_lab_reduction': 8,\n",
       " 'n_epochs': 300,\n",
       " 'batch_size': 256,\n",
       " 'train_optimizer': 'adamw_amsgrad',\n",
       " 'momentum': 0.949,\n",
       " 'betas': [0.9, 0.999],\n",
       " 'decay': 0.01,\n",
       " 'learning_rate': 0.001,\n",
       " 'lr': 0.001,\n",
       " 'lr_scheduler': None,\n",
       " 'lr_step_size': 50,\n",
       " 'lr_gamma': 0.1,\n",
       " 'max_lr': 0.01,\n",
       " 'burn_in': 400,\n",
       " 'steps': [5000, 10000],\n",
       " 'early_stopping': {'min_delta': 0.001, 'patience': 15},\n",
       " 'loss': 'BCEWithLogitsLoss',\n",
       " 'flooding_level': 0.0,\n",
       " 'log_step': 20,\n",
       " 'eval_every': 20,\n",
       " 'model_name': 'cnn',\n",
       " 'cnn_name': 'multi_scopic',\n",
       " 'rnn_name': 'none',\n",
       " 'attn_name': 'se',\n",
       " 'debug': True}"
      ]
     },
     "execution_count": 21,
     "metadata": {},
     "output_type": "execute_result"
    }
   ],
   "source": [
    "train_config.debug = True\n",
    "train_config.cnn_name = model_config.cnn.name\n",
    "train_config.rnn_name = model_config.rnn.name\n",
    "train_config.attn_name = model_config.attn.name\n",
    "train_config"
   ]
  },
  {
   "cell_type": "code",
   "execution_count": 22,
   "metadata": {},
   "outputs": [
    {
     "name": "stdout",
     "output_type": "stream",
     "text": [
      "ECG-SEQ-LAB - INFO - training configurations are as follows:\n",
      "{\n",
      "    \"fs\": 500\n",
      "    \"db_dir\": \"/home/wenh06/Jupyter/data/CPSC2019/\"\n",
      "    \"log_dir\": \"/home/wenh06/Jupyter/wenhao/workspace/torch_ecg/train/train_seq_lab_net_cpsc2019/log\"\n",
      "    \"checkpoints\": \"/home/wenh06/Jupyter/wenhao/workspace/torch_ecg/train/train_seq_lab_net_cpsc2019/checkpoints\"\n",
      "    \"model_dir\": \"/home/wenh06/Jupyter/wenhao/workspace/torch_ecg/train/train_seq_lab_net_cpsc2019/saved_models\"\n",
      "    \"final_model_name\": None\n",
      "    \"keep_checkpoint_max\": 20\n",
      "    \"train_ratio\": 0.8\n",
      "    \"input_len\": 5000\n",
      "    \"classes\": [\n",
      "        \"N\"\n",
      "    ]\n",
      "    \"n_leads\": 1\n",
      "    \"bias_thr\": 37.5\n",
      "    \"skip_dist\": 250.0\n",
      "    \"label_smoothing\": 0.0\n",
      "    \"random_normalize\": True\n",
      "    \"random_normalize_mean\": [\n",
      "        -0.05, 0.1\n",
      "    ]\n",
      "    \"random_normalize_std\": [\n",
      "        0.08, 0.32\n",
      "    ]\n",
      "    \"baseline_wander\": True\n",
      "    \"bw\": True\n",
      "    \"bw_fs\": [0.33 0.1  0.05 0.01]\n",
      "    \"bw_ampl_ratio\": [[0.01 0.01 0.02 0.03]\n",
      " [0.01 0.02 0.04 0.05]\n",
      " [0.1  0.06 0.04 0.02]\n",
      " [0.02 0.04 0.07 0.1 ]\n",
      " [0.05 0.1  0.16 0.25]\n",
      " [0.1  0.15 0.25 0.3 ]\n",
      " [0.25 0.25 0.3  0.35]]\n",
      "    \"bw_gaussian\": [[0.    0.   ]\n",
      " [0.    0.   ]\n",
      " [0.    0.   ]\n",
      " [0.    0.003]\n",
      " [0.    0.01 ]]\n",
      "    \"flip\": [\n",
      "        -1, 1, 1, 1, 1\n",
      "    ]\n",
      "    \"seq_lab_reduction\": 8\n",
      "    \"n_epochs\": 300\n",
      "    \"batch_size\": 256\n",
      "    \"train_optimizer\": \"adamw_amsgrad\"\n",
      "    \"momentum\": 0.949\n",
      "    \"betas\": [\n",
      "        0.9, 0.999\n",
      "    ]\n",
      "    \"decay\": 0.01\n",
      "    \"learning_rate\": 0.001\n",
      "    \"lr\": 0.001\n",
      "    \"lr_scheduler\": None\n",
      "    \"lr_step_size\": 50\n",
      "    \"lr_gamma\": 0.1\n",
      "    \"max_lr\": 0.01\n",
      "    \"burn_in\": 400\n",
      "    \"steps\": [\n",
      "        5000, 10000\n",
      "    ]\n",
      "    \"early_stopping\": {\n",
      "        \"min_delta\": 0.001\n",
      "        \"patience\": 15\n",
      "    }\n",
      "    \"loss\": \"BCEWithLogitsLoss\"\n",
      "    \"flooding_level\": 0.0\n",
      "    \"log_step\": 20\n",
      "    \"eval_every\": 20\n",
      "    \"model_name\": \"cnn\"\n",
      "    \"cnn_name\": \"multi_scopic\"\n",
      "    \"rnn_name\": \"none\"\n",
      "    \"attn_name\": \"se\"\n",
      "    \"debug\": True\n",
      "}\n",
      "log file path is set \"/home/wenh06/Jupyter/wenhao/workspace/torch_ecg/train/train_seq_lab_net_cpsc2019/CPSC2019-CPSC2019.log\"\n",
      "levels of c_handler and f_handler are set DEBUG\n",
      "log file path is set \"/home/wenh06/Jupyter/wenhao/workspace/torch_ecg/train/train_seq_lab_net_cpsc2019/CPSC2019-CPSC2019.log\"\n",
      "levels of c_handler and f_handler are set DEBUG\n",
      "log file path is set \"/home/wenh06/Jupyter/wenhao/workspace/torch_ecg/train/train_seq_lab_net_cpsc2019/CPSC2019-CPSC2019.log\"\n",
      "levels of c_handler and f_handler are set DEBUG\n",
      "ECG-SEQ-LAB - INFO - \n",
      "Starting training:\n",
      "------------------\n",
      "Epochs:          300\n",
      "Batch size:      256\n",
      "Learning rate:   0.001\n",
      "Training size:   1600\n",
      "Validation size: 400\n",
      "Device:          cuda\n",
      "Optimizer:       adamw_amsgrad\n",
      "-----------------------------------------\n",
      "\n"
     ]
    },
    {
     "name": "stderr",
     "output_type": "stream",
     "text": [
      "Epoch 1/300:  96%|███████████████████████████████████████████▏ | 1536/1600 [00:05<00:00, 666.72it/s]"
     ]
    },
    {
     "name": "stdout",
     "output_type": "stream",
     "text": [
      "QRS_acc: 0.4031\n",
      "Scoring complete.\n",
      "QRS_acc: 0.3918\n",
      "Scoring complete.\n",
      "ECG-SEQ-LAB - INFO - \n",
      "Train epoch_1:\n",
      "--------------------\n",
      "train/epoch_loss:        2.724177971482277\n",
      "train/qrs_score:         0.4031\n",
      "\n",
      "test/qrs_score:          0.3918\n",
      "---------------------------------\n",
      "\n",
      "ECG-SEQ-LAB - INFO - Checkpoint 1 saved!\n"
     ]
    },
    {
     "name": "stderr",
     "output_type": "stream",
     "text": [
      "Epoch 1/300: 100%|█████████████████████████████████████████████| 1600/1600 [00:08<00:00, 194.84it/s]\n",
      "Epoch 2/300:  96%|██████████████████████████████████████████▏ | 1536/1600 [00:01<00:00, 1254.56it/s]"
     ]
    },
    {
     "name": "stdout",
     "output_type": "stream",
     "text": [
      "QRS_acc: 0.1969\n",
      "Scoring complete.\n",
      "QRS_acc: 0.1775\n",
      "Scoring complete.\n",
      "ECG-SEQ-LAB - INFO - \n",
      "Train epoch_2:\n",
      "--------------------\n",
      "train/epoch_loss:        1.387441709637642\n",
      "train/qrs_score:         0.1969\n",
      "\n",
      "test/qrs_score:          0.1775\n",
      "---------------------------------\n",
      "\n",
      "ECG-SEQ-LAB - INFO - Checkpoint 2 saved!\n"
     ]
    },
    {
     "name": "stderr",
     "output_type": "stream",
     "text": [
      "Epoch 2/300: 100%|█████████████████████████████████████████████| 1600/1600 [00:05<00:00, 317.11it/s]\n",
      "Epoch 3/300:  80%|███████████████████▏    | 1280/1600 [00:01<00:00, 1059.39it/s, loss (batch)=0.133]"
     ]
    },
    {
     "name": "stdout",
     "output_type": "stream",
     "text": [
      "ECG-SEQ-LAB - INFO - Train step_20: loss : 0.1327562779188156\n"
     ]
    },
    {
     "name": "stderr",
     "output_type": "stream",
     "text": [
      "\r",
      "Epoch 3/300:  96%|███████████████████████ | 1536/1600 [00:01<00:00, 1216.56it/s, loss (batch)=0.133]"
     ]
    },
    {
     "name": "stdout",
     "output_type": "stream",
     "text": [
      "QRS_acc: 0.5374\n",
      "Scoring complete.\n",
      "QRS_acc: 0.495\n",
      "Scoring complete.\n",
      "ECG-SEQ-LAB - INFO - \n",
      "Train epoch_3:\n",
      "--------------------\n",
      "train/epoch_loss:        1.0395983904600143\n",
      "train/qrs_score:         0.5374\n",
      "\n",
      "test/qrs_score:          0.495\n",
      "---------------------------------\n",
      "\n",
      "ECG-SEQ-LAB - INFO - Checkpoint 3 saved!\n"
     ]
    },
    {
     "name": "stderr",
     "output_type": "stream",
     "text": [
      "Epoch 3/300: 100%|█████████████████████████| 1600/1600 [00:05<00:00, 306.89it/s, loss (batch)=0.133]\n",
      "Epoch 4/300:  96%|██████████████████████████████████████████▏ | 1536/1600 [00:01<00:00, 1244.13it/s]"
     ]
    },
    {
     "name": "stdout",
     "output_type": "stream",
     "text": [
      "QRS_acc: 0.6274\n",
      "Scoring complete.\n",
      "QRS_acc: 0.6122\n",
      "Scoring complete.\n",
      "ECG-SEQ-LAB - INFO - \n",
      "Train epoch_4:\n",
      "--------------------\n",
      "train/epoch_loss:        0.9069861769676208\n",
      "train/qrs_score:         0.6274\n",
      "\n",
      "test/qrs_score:          0.6122\n",
      "---------------------------------\n",
      "\n",
      "ECG-SEQ-LAB - INFO - Checkpoint 4 saved!\n"
     ]
    },
    {
     "name": "stderr",
     "output_type": "stream",
     "text": [
      "Epoch 4/300: 100%|█████████████████████████████████████████████| 1600/1600 [00:05<00:00, 317.23it/s]\n",
      "Epoch 5/300:  96%|██████████████████████████████████████████▏ | 1536/1600 [00:01<00:00, 1232.41it/s]"
     ]
    },
    {
     "name": "stdout",
     "output_type": "stream",
     "text": [
      "QRS_acc: 0.7681\n",
      "Scoring complete.\n",
      "QRS_acc: 0.7518\n",
      "Scoring complete.\n",
      "ECG-SEQ-LAB - INFO - \n",
      "Train epoch_5:\n",
      "--------------------\n",
      "train/epoch_loss:        0.81290403008461\n",
      "train/qrs_score:         0.7681\n",
      "\n",
      "test/qrs_score:          0.7518\n",
      "---------------------------------\n",
      "\n",
      "ECG-SEQ-LAB - INFO - Checkpoint 5 saved!\n"
     ]
    },
    {
     "name": "stderr",
     "output_type": "stream",
     "text": [
      "Epoch 5/300: 100%|█████████████████████████████████████████████| 1600/1600 [00:05<00:00, 313.44it/s]\n",
      "Epoch 6/300:  64%|████████████████         | 1024/1600 [00:01<00:00, 899.12it/s, loss (batch)=0.107]"
     ]
    },
    {
     "name": "stdout",
     "output_type": "stream",
     "text": [
      "ECG-SEQ-LAB - INFO - Train step_40: loss : 0.10652947425842285\n"
     ]
    },
    {
     "name": "stderr",
     "output_type": "stream",
     "text": [
      "Epoch 6/300:  96%|███████████████████████ | 1536/1600 [00:01<00:00, 1246.93it/s, loss (batch)=0.107]"
     ]
    },
    {
     "name": "stdout",
     "output_type": "stream",
     "text": [
      "QRS_acc: 0.7912\n",
      "Scoring complete.\n",
      "QRS_acc: 0.7707\n",
      "Scoring complete.\n",
      "ECG-SEQ-LAB - INFO - \n",
      "Train epoch_6:\n",
      "--------------------\n",
      "train/epoch_loss:        0.7755385786294937\n",
      "train/qrs_score:         0.7912\n",
      "\n",
      "test/qrs_score:          0.7707\n",
      "---------------------------------\n",
      "\n",
      "ECG-SEQ-LAB - INFO - Checkpoint 6 saved!\n"
     ]
    },
    {
     "name": "stderr",
     "output_type": "stream",
     "text": [
      "Epoch 6/300: 100%|█████████████████████████| 1600/1600 [00:05<00:00, 313.14it/s, loss (batch)=0.107]\n",
      "Epoch 7/300:  96%|██████████████████████████████████████████▏ | 1536/1600 [00:01<00:00, 1247.05it/s]"
     ]
    },
    {
     "name": "stdout",
     "output_type": "stream",
     "text": [
      "QRS_acc: 0.7936\n",
      "Scoring complete.\n",
      "QRS_acc: 0.7778\n",
      "Scoring complete.\n",
      "ECG-SEQ-LAB - INFO - \n",
      "Train epoch_7:\n",
      "--------------------\n",
      "train/epoch_loss:        0.7136778682470322\n",
      "train/qrs_score:         0.7936\n",
      "\n",
      "test/qrs_score:          0.7778\n",
      "---------------------------------\n",
      "\n",
      "ECG-SEQ-LAB - INFO - Checkpoint 7 saved!\n"
     ]
    },
    {
     "name": "stderr",
     "output_type": "stream",
     "text": [
      "Epoch 7/300: 100%|█████████████████████████████████████████████| 1600/1600 [00:05<00:00, 313.74it/s]\n",
      "Epoch 8/300:  96%|██████████████████████████████████████████▏ | 1536/1600 [00:01<00:00, 1229.80it/s]"
     ]
    },
    {
     "name": "stdout",
     "output_type": "stream",
     "text": [
      "QRS_acc: 0.8204\n",
      "Scoring complete.\n",
      "QRS_acc: 0.7975\n",
      "Scoring complete.\n",
      "ECG-SEQ-LAB - INFO - \n",
      "Train epoch_8:\n",
      "--------------------\n",
      "train/epoch_loss:        0.6886008530855179\n",
      "train/qrs_score:         0.8204\n",
      "\n",
      "test/qrs_score:          0.7975\n",
      "---------------------------------\n",
      "\n",
      "ECG-SEQ-LAB - INFO - Checkpoint 8 saved!\n"
     ]
    },
    {
     "name": "stderr",
     "output_type": "stream",
     "text": [
      "Epoch 8/300: 100%|█████████████████████████████████████████████| 1600/1600 [00:05<00:00, 308.37it/s]\n",
      "Epoch 9/300:  48%|████████████▍             | 768/1600 [00:01<00:01, 669.27it/s, loss (batch)=0.111]"
     ]
    },
    {
     "name": "stdout",
     "output_type": "stream",
     "text": [
      "ECG-SEQ-LAB - INFO - Train step_60: loss : 0.11121147125959396\n"
     ]
    },
    {
     "name": "stderr",
     "output_type": "stream",
     "text": [
      "Epoch 9/300:  96%|███████████████████████ | 1536/1600 [00:01<00:00, 1241.45it/s, loss (batch)=0.111]"
     ]
    },
    {
     "name": "stdout",
     "output_type": "stream",
     "text": [
      "QRS_acc: 0.8282\n",
      "Scoring complete.\n",
      "QRS_acc: 0.8065\n",
      "Scoring complete.\n",
      "ECG-SEQ-LAB - INFO - \n",
      "Train epoch_9:\n",
      "--------------------\n",
      "train/epoch_loss:        0.6749646067619324\n",
      "train/qrs_score:         0.8282\n",
      "\n",
      "test/qrs_score:          0.8065\n",
      "---------------------------------\n",
      "\n",
      "ECG-SEQ-LAB - INFO - Checkpoint 9 saved!\n"
     ]
    },
    {
     "name": "stderr",
     "output_type": "stream",
     "text": [
      "Epoch 9/300: 100%|█████████████████████████| 1600/1600 [00:05<00:00, 307.83it/s, loss (batch)=0.111]\n",
      "Epoch 10/300:  96%|█████████████████████████████████████████▎ | 1536/1600 [00:01<00:00, 1239.59it/s]"
     ]
    },
    {
     "name": "stdout",
     "output_type": "stream",
     "text": [
      "QRS_acc: 0.8361\n",
      "Scoring complete.\n",
      "QRS_acc: 0.815\n",
      "Scoring complete.\n",
      "ECG-SEQ-LAB - INFO - \n",
      "Train epoch_10:\n",
      "--------------------\n",
      "train/epoch_loss:        0.6616658419370651\n",
      "train/qrs_score:         0.8361\n",
      "\n",
      "test/qrs_score:          0.815\n",
      "---------------------------------\n",
      "\n",
      "ECG-SEQ-LAB - INFO - Checkpoint 10 saved!\n"
     ]
    },
    {
     "name": "stderr",
     "output_type": "stream",
     "text": [
      "Epoch 10/300: 100%|████████████████████████████████████████████| 1600/1600 [00:05<00:00, 310.21it/s]\n",
      "Epoch 11/300:  96%|█████████████████████████████████████████▎ | 1536/1600 [00:01<00:00, 1253.25it/s]"
     ]
    },
    {
     "name": "stdout",
     "output_type": "stream",
     "text": [
      "QRS_acc: 0.8455\n",
      "Scoring complete.\n",
      "QRS_acc: 0.8178\n",
      "Scoring complete.\n",
      "ECG-SEQ-LAB - INFO - \n",
      "Train epoch_11:\n",
      "--------------------\n",
      "train/epoch_loss:        0.6560005396604538\n",
      "train/qrs_score:         0.8455\n",
      "\n",
      "test/qrs_score:          0.8178\n",
      "---------------------------------\n",
      "\n",
      "ECG-SEQ-LAB - INFO - Checkpoint 11 saved!\n"
     ]
    },
    {
     "name": "stderr",
     "output_type": "stream",
     "text": [
      "Epoch 11/300: 100%|████████████████████████████████████████████| 1600/1600 [00:05<00:00, 317.47it/s]\n",
      "Epoch 12/300:  32%|███████▋                | 512/1600 [00:01<00:02, 451.19it/s, loss (batch)=0.0831]"
     ]
    },
    {
     "name": "stdout",
     "output_type": "stream",
     "text": [
      "ECG-SEQ-LAB - INFO - Train step_80: loss : 0.08311115205287933\n"
     ]
    },
    {
     "name": "stderr",
     "output_type": "stream",
     "text": [
      "Epoch 12/300:  96%|█████████████████████ | 1536/1600 [00:01<00:00, 1246.66it/s, loss (batch)=0.0831]"
     ]
    },
    {
     "name": "stdout",
     "output_type": "stream",
     "text": [
      "QRS_acc: 0.8543\n",
      "Scoring complete.\n",
      "QRS_acc: 0.8258\n",
      "Scoring complete.\n",
      "ECG-SEQ-LAB - INFO - \n",
      "Train epoch_12:\n",
      "--------------------\n",
      "train/epoch_loss:        0.6380187273025513\n",
      "train/qrs_score:         0.8543\n",
      "\n",
      "test/qrs_score:          0.8258\n",
      "---------------------------------\n",
      "\n",
      "ECG-SEQ-LAB - INFO - Checkpoint 12 saved!\n"
     ]
    },
    {
     "name": "stderr",
     "output_type": "stream",
     "text": [
      "Epoch 12/300: 100%|███████████████████████| 1600/1600 [00:05<00:00, 315.41it/s, loss (batch)=0.0831]\n",
      "Epoch 13/300:  96%|█████████████████████████████████████████▎ | 1536/1600 [00:01<00:00, 1248.38it/s]"
     ]
    },
    {
     "name": "stdout",
     "output_type": "stream",
     "text": [
      "QRS_acc: 0.8512\n",
      "Scoring complete.\n",
      "QRS_acc: 0.8357\n",
      "Scoring complete.\n",
      "ECG-SEQ-LAB - INFO - \n",
      "Train epoch_13:\n",
      "--------------------\n",
      "train/epoch_loss:        0.6185827925801277\n",
      "train/qrs_score:         0.8512\n",
      "\n",
      "test/qrs_score:          0.8357\n",
      "---------------------------------\n",
      "\n",
      "ECG-SEQ-LAB - INFO - Checkpoint 13 saved!\n"
     ]
    },
    {
     "name": "stderr",
     "output_type": "stream",
     "text": [
      "Epoch 13/300: 100%|████████████████████████████████████████████| 1600/1600 [00:05<00:00, 315.10it/s]\n",
      "Epoch 14/300:  96%|█████████████████████████████████████████▎ | 1536/1600 [00:01<00:00, 1254.94it/s]"
     ]
    },
    {
     "name": "stdout",
     "output_type": "stream",
     "text": [
      "QRS_acc: 0.857\n",
      "Scoring complete.\n",
      "QRS_acc: 0.83\n",
      "Scoring complete.\n",
      "ECG-SEQ-LAB - INFO - \n",
      "Train epoch_14:\n",
      "--------------------\n",
      "train/epoch_loss:        0.6059752404689789\n",
      "train/qrs_score:         0.857\n",
      "\n",
      "test/qrs_score:          0.83\n",
      "---------------------------------\n",
      "\n",
      "ECG-SEQ-LAB - INFO - Checkpoint 14 saved!\n"
     ]
    },
    {
     "name": "stderr",
     "output_type": "stream",
     "text": [
      "Epoch 14/300: 100%|████████████████████████████████████████████| 1600/1600 [00:05<00:00, 314.22it/s]\n",
      "Epoch 15/300:  16%|███▊                    | 256/1600 [00:01<00:06, 211.88it/s, loss (batch)=0.0921]"
     ]
    },
    {
     "name": "stdout",
     "output_type": "stream",
     "text": [
      "ECG-SEQ-LAB - INFO - Train step_100: loss : 0.09209857136011124\n"
     ]
    },
    {
     "name": "stderr",
     "output_type": "stream",
     "text": [
      "Epoch 15/300:  96%|█████████████████████ | 1536/1600 [00:01<00:00, 1242.85it/s, loss (batch)=0.0921]"
     ]
    },
    {
     "name": "stdout",
     "output_type": "stream",
     "text": [
      "QRS_acc: 0.8624\n",
      "Scoring complete.\n",
      "QRS_acc: 0.837\n",
      "Scoring complete.\n",
      "ECG-SEQ-LAB - INFO - \n",
      "Train epoch_15:\n",
      "--------------------\n",
      "train/epoch_loss:        0.5893767029047012\n",
      "train/qrs_score:         0.8624\n",
      "\n",
      "test/qrs_score:          0.837\n",
      "---------------------------------\n",
      "\n",
      "ECG-SEQ-LAB - INFO - Checkpoint 15 saved!\n"
     ]
    },
    {
     "name": "stderr",
     "output_type": "stream",
     "text": [
      "Epoch 15/300: 100%|███████████████████████| 1600/1600 [00:05<00:00, 310.58it/s, loss (batch)=0.0921]\n",
      "Epoch 16/300:  96%|█████████████████████████████████████████▎ | 1536/1600 [00:01<00:00, 1253.94it/s]"
     ]
    },
    {
     "name": "stdout",
     "output_type": "stream",
     "text": [
      "QRS_acc: 0.8522\n",
      "Scoring complete.\n",
      "QRS_acc: 0.8422\n",
      "Scoring complete.\n",
      "ECG-SEQ-LAB - INFO - \n",
      "Train epoch_16:\n",
      "--------------------\n",
      "train/epoch_loss:        0.5907195955514908\n",
      "train/qrs_score:         0.8522\n",
      "\n",
      "test/qrs_score:          0.8422\n",
      "---------------------------------\n",
      "\n",
      "ECG-SEQ-LAB - INFO - Checkpoint 16 saved!\n"
     ]
    },
    {
     "name": "stderr",
     "output_type": "stream",
     "text": [
      "Epoch 16/300: 100%|████████████████████████████████████████████| 1600/1600 [00:05<00:00, 318.84it/s]\n",
      "Epoch 17/300:  96%|█████████████████████████████████████████▎ | 1536/1600 [00:01<00:00, 1248.70it/s]"
     ]
    },
    {
     "name": "stdout",
     "output_type": "stream",
     "text": [
      "QRS_acc: 0.8656\n",
      "Scoring complete.\n",
      "QRS_acc: 0.8452\n",
      "Scoring complete.\n",
      "ECG-SEQ-LAB - INFO - \n",
      "Train epoch_17:\n",
      "--------------------\n",
      "train/epoch_loss:        0.5867315232753754\n",
      "train/qrs_score:         0.8656\n",
      "\n",
      "test/qrs_score:          0.8452\n",
      "---------------------------------\n",
      "\n",
      "ECG-SEQ-LAB - INFO - Checkpoint 17 saved!\n"
     ]
    },
    {
     "name": "stderr",
     "output_type": "stream",
     "text": [
      "Epoch 17/300: 100%|████████████████████████████████████████████| 1600/1600 [00:05<00:00, 312.38it/s]\n",
      "Epoch 18/300:   0%|                                    | 0/1600 [00:01<?, ?it/s, loss (batch)=0.078]"
     ]
    },
    {
     "name": "stdout",
     "output_type": "stream",
     "text": [
      "ECG-SEQ-LAB - INFO - Train step_120: loss : 0.07799237966537476\n"
     ]
    },
    {
     "name": "stderr",
     "output_type": "stream",
     "text": [
      "Epoch 18/300:  96%|██████████████████████ | 1536/1600 [00:01<00:00, 1244.06it/s, loss (batch)=0.078]"
     ]
    },
    {
     "name": "stdout",
     "output_type": "stream",
     "text": [
      "QRS_acc: 0.8585\n",
      "Scoring complete.\n",
      "QRS_acc: 0.846\n",
      "Scoring complete.\n",
      "ECG-SEQ-LAB - INFO - \n",
      "Train epoch_18:\n",
      "--------------------\n",
      "train/epoch_loss:        0.5701759159564972\n",
      "train/qrs_score:         0.8585\n",
      "\n",
      "test/qrs_score:          0.846\n",
      "---------------------------------\n",
      "\n",
      "ECG-SEQ-LAB - INFO - Checkpoint 18 saved!\n"
     ]
    },
    {
     "name": "stderr",
     "output_type": "stream",
     "text": [
      "Epoch 18/300: 100%|████████████████████████| 1600/1600 [00:05<00:00, 305.84it/s, loss (batch)=0.078]\n",
      "Epoch 19/300:  96%|█████████████████████████████████████████▎ | 1536/1600 [00:01<00:00, 1242.15it/s]"
     ]
    },
    {
     "name": "stdout",
     "output_type": "stream",
     "text": [
      "QRS_acc: 0.8741\n",
      "Scoring complete.\n",
      "QRS_acc: 0.8428\n",
      "Scoring complete.\n",
      "ECG-SEQ-LAB - INFO - \n",
      "Train epoch_19:\n",
      "--------------------\n",
      "train/epoch_loss:        0.5698194280266762\n",
      "train/qrs_score:         0.8741\n",
      "\n",
      "test/qrs_score:          0.8428\n",
      "---------------------------------\n",
      "\n",
      "ECG-SEQ-LAB - INFO - Checkpoint 19 saved!\n"
     ]
    },
    {
     "name": "stderr",
     "output_type": "stream",
     "text": [
      "Epoch 19/300: 100%|████████████████████████████████████████████| 1600/1600 [00:05<00:00, 311.66it/s]\n",
      "Epoch 20/300:  96%|█████████████████████ | 1536/1600 [00:01<00:00, 1252.88it/s, loss (batch)=0.0702]"
     ]
    },
    {
     "name": "stdout",
     "output_type": "stream",
     "text": [
      "ECG-SEQ-LAB - INFO - Train step_140: loss : 0.07023398578166962\n",
      "QRS_acc: 0.8761\n",
      "Scoring complete.\n",
      "QRS_acc: 0.8432\n",
      "Scoring complete.\n",
      "ECG-SEQ-LAB - INFO - \n",
      "Train epoch_20:\n",
      "--------------------\n",
      "train/epoch_loss:        0.5505563169717789\n",
      "train/qrs_score:         0.8761\n",
      "\n",
      "test/qrs_score:          0.8432\n",
      "---------------------------------\n",
      "\n",
      "ECG-SEQ-LAB - INFO - Checkpoint 20 saved!\n"
     ]
    },
    {
     "name": "stderr",
     "output_type": "stream",
     "text": [
      "Epoch 20/300: 100%|███████████████████████| 1600/1600 [00:05<00:00, 317.53it/s, loss (batch)=0.0702]\n",
      "Epoch 21/300:  96%|█████████████████████████████████████████▎ | 1536/1600 [00:01<00:00, 1251.19it/s]"
     ]
    },
    {
     "name": "stdout",
     "output_type": "stream",
     "text": [
      "QRS_acc: 0.8703\n",
      "Scoring complete.\n",
      "QRS_acc: 0.8465\n",
      "Scoring complete.\n",
      "ECG-SEQ-LAB - INFO - \n",
      "Train epoch_21:\n",
      "--------------------\n",
      "train/epoch_loss:        0.5489169582724571\n",
      "train/qrs_score:         0.8703\n",
      "\n",
      "test/qrs_score:          0.8465\n",
      "---------------------------------\n",
      "\n",
      "ECG-SEQ-LAB - INFO - Checkpoint 21 saved!\n"
     ]
    },
    {
     "name": "stderr",
     "output_type": "stream",
     "text": [
      "Epoch 21/300: 100%|████████████████████████████████████████████| 1600/1600 [00:05<00:00, 311.66it/s]\n",
      "Epoch 22/300:  96%|█████████████████████████████████████████▎ | 1536/1600 [00:01<00:00, 1241.70it/s]"
     ]
    },
    {
     "name": "stdout",
     "output_type": "stream",
     "text": [
      "QRS_acc: 0.8689\n",
      "Scoring complete.\n",
      "QRS_acc: 0.8538\n",
      "Scoring complete.\n",
      "ECG-SEQ-LAB - INFO - \n",
      "Train epoch_22:\n",
      "--------------------\n",
      "train/epoch_loss:        0.5438322499394417\n",
      "train/qrs_score:         0.8689\n",
      "\n",
      "test/qrs_score:          0.8538\n",
      "---------------------------------\n",
      "\n",
      "ECG-SEQ-LAB - INFO - Checkpoint 22 saved!\n"
     ]
    },
    {
     "name": "stderr",
     "output_type": "stream",
     "text": [
      "Epoch 22/300: 100%|████████████████████████████████████████████| 1600/1600 [00:05<00:00, 317.31it/s]\n",
      "Epoch 23/300:  80%|██████████████████▍    | 1280/1600 [00:01<00:00, 1088.22it/s, loss (batch)=0.086]"
     ]
    },
    {
     "name": "stdout",
     "output_type": "stream",
     "text": [
      "ECG-SEQ-LAB - INFO - Train step_160: loss : 0.08599898219108582\n"
     ]
    },
    {
     "name": "stderr",
     "output_type": "stream",
     "text": [
      "\r",
      "Epoch 23/300:  96%|██████████████████████ | 1536/1600 [00:01<00:00, 1238.68it/s, loss (batch)=0.086]"
     ]
    },
    {
     "name": "stdout",
     "output_type": "stream",
     "text": [
      "QRS_acc: 0.8821\n",
      "Scoring complete.\n",
      "QRS_acc: 0.8507\n",
      "Scoring complete.\n",
      "ECG-SEQ-LAB - INFO - \n",
      "Train epoch_23:\n",
      "--------------------\n",
      "train/epoch_loss:        0.5536717399954796\n",
      "train/qrs_score:         0.8821\n",
      "\n",
      "test/qrs_score:          0.8507\n",
      "---------------------------------\n",
      "\n",
      "ECG-SEQ-LAB - INFO - Checkpoint 23 saved!\n"
     ]
    },
    {
     "name": "stderr",
     "output_type": "stream",
     "text": [
      "Epoch 23/300: 100%|████████████████████████| 1600/1600 [00:05<00:00, 318.30it/s, loss (batch)=0.086]\n",
      "Epoch 24/300:  96%|█████████████████████████████████████████▎ | 1536/1600 [00:01<00:00, 1230.12it/s]"
     ]
    },
    {
     "name": "stdout",
     "output_type": "stream",
     "text": [
      "QRS_acc: 0.8809\n",
      "Scoring complete.\n",
      "QRS_acc: 0.8578\n",
      "Scoring complete.\n",
      "ECG-SEQ-LAB - INFO - \n",
      "Train epoch_24:\n",
      "--------------------\n",
      "train/epoch_loss:        0.5359067544341087\n",
      "train/qrs_score:         0.8809\n",
      "\n",
      "test/qrs_score:          0.8578\n",
      "---------------------------------\n",
      "\n",
      "ECG-SEQ-LAB - INFO - Checkpoint 24 saved!\n"
     ]
    },
    {
     "name": "stderr",
     "output_type": "stream",
     "text": [
      "Epoch 24/300: 100%|████████████████████████████████████████████| 1600/1600 [00:05<00:00, 306.60it/s]\n",
      "Epoch 25/300:  96%|█████████████████████████████████████████▎ | 1536/1600 [00:01<00:00, 1251.55it/s]"
     ]
    },
    {
     "name": "stdout",
     "output_type": "stream",
     "text": [
      "QRS_acc: 0.8892\n",
      "Scoring complete.\n",
      "QRS_acc: 0.8695\n",
      "Scoring complete.\n",
      "ECG-SEQ-LAB - INFO - \n",
      "Train epoch_25:\n",
      "--------------------\n",
      "train/epoch_loss:        0.5223866254091263\n",
      "train/qrs_score:         0.8892\n",
      "\n",
      "test/qrs_score:          0.8695\n",
      "---------------------------------\n",
      "\n",
      "ECG-SEQ-LAB - INFO - Checkpoint 25 saved!\n"
     ]
    },
    {
     "name": "stderr",
     "output_type": "stream",
     "text": [
      "Epoch 25/300: 100%|████████████████████████████████████████████| 1600/1600 [00:05<00:00, 311.00it/s]\n",
      "Epoch 26/300:  64%|██████████████▋        | 1024/1600 [00:01<00:00, 905.75it/s, loss (batch)=0.0775]"
     ]
    },
    {
     "name": "stdout",
     "output_type": "stream",
     "text": [
      "ECG-SEQ-LAB - INFO - Train step_180: loss : 0.0774536281824112\n"
     ]
    },
    {
     "name": "stderr",
     "output_type": "stream",
     "text": [
      "Epoch 26/300:  96%|█████████████████████ | 1536/1600 [00:01<00:00, 1250.73it/s, loss (batch)=0.0775]"
     ]
    },
    {
     "name": "stdout",
     "output_type": "stream",
     "text": [
      "QRS_acc: 0.8921\n",
      "Scoring complete.\n",
      "QRS_acc: 0.8735\n",
      "Scoring complete.\n",
      "ECG-SEQ-LAB - INFO - \n",
      "Train epoch_26:\n",
      "--------------------\n",
      "train/epoch_loss:        0.5299202725291252\n",
      "train/qrs_score:         0.8921\n",
      "\n",
      "test/qrs_score:          0.8735\n",
      "---------------------------------\n",
      "\n",
      "ECG-SEQ-LAB - INFO - Checkpoint 26 saved!\n"
     ]
    },
    {
     "name": "stderr",
     "output_type": "stream",
     "text": [
      "Epoch 26/300: 100%|███████████████████████| 1600/1600 [00:05<00:00, 318.24it/s, loss (batch)=0.0775]\n",
      "Epoch 27/300:  96%|█████████████████████████████████████████▎ | 1536/1600 [00:01<00:00, 1249.08it/s]"
     ]
    },
    {
     "name": "stdout",
     "output_type": "stream",
     "text": [
      "QRS_acc: 0.8893\n",
      "Scoring complete.\n",
      "QRS_acc: 0.8605\n",
      "Scoring complete.\n",
      "ECG-SEQ-LAB - INFO - \n",
      "Train epoch_27:\n",
      "--------------------\n",
      "train/epoch_loss:        0.5132167935371399\n",
      "train/qrs_score:         0.8893\n",
      "\n",
      "test/qrs_score:          0.8605\n",
      "---------------------------------\n",
      "\n",
      "ECG-SEQ-LAB - INFO - Checkpoint 27 saved!\n"
     ]
    },
    {
     "name": "stderr",
     "output_type": "stream",
     "text": [
      "Epoch 27/300: 100%|████████████████████████████████████████████| 1600/1600 [00:05<00:00, 315.76it/s]\n",
      "Epoch 28/300:  96%|█████████████████████████████████████████▎ | 1536/1600 [00:01<00:00, 1249.23it/s]"
     ]
    },
    {
     "name": "stdout",
     "output_type": "stream",
     "text": [
      "QRS_acc: 0.8884\n",
      "Scoring complete.\n",
      "QRS_acc: 0.8635\n",
      "Scoring complete.\n",
      "ECG-SEQ-LAB - INFO - \n",
      "Train epoch_28:\n",
      "--------------------\n",
      "train/epoch_loss:        0.49909888207912445\n",
      "train/qrs_score:         0.8884\n",
      "\n",
      "test/qrs_score:          0.8635\n",
      "---------------------------------\n",
      "\n",
      "ECG-SEQ-LAB - INFO - Checkpoint 28 saved!\n"
     ]
    },
    {
     "name": "stderr",
     "output_type": "stream",
     "text": [
      "Epoch 28/300: 100%|████████████████████████████████████████████| 1600/1600 [00:05<00:00, 316.40it/s]\n",
      "Epoch 29/300:  48%|███████████▌            | 768/1600 [00:01<00:01, 676.57it/s, loss (batch)=0.0754]"
     ]
    },
    {
     "name": "stdout",
     "output_type": "stream",
     "text": [
      "ECG-SEQ-LAB - INFO - Train step_200: loss : 0.07538609951734543\n"
     ]
    },
    {
     "name": "stderr",
     "output_type": "stream",
     "text": [
      "Epoch 29/300:  96%|█████████████████████ | 1536/1600 [00:01<00:00, 1224.03it/s, loss (batch)=0.0754]"
     ]
    },
    {
     "name": "stdout",
     "output_type": "stream",
     "text": [
      "QRS_acc: 0.8899\n",
      "Scoring complete.\n",
      "QRS_acc: 0.8712\n",
      "Scoring complete.\n",
      "ECG-SEQ-LAB - INFO - \n",
      "Train epoch_29:\n",
      "--------------------\n",
      "train/epoch_loss:        0.4982149973511696\n",
      "train/qrs_score:         0.8899\n",
      "\n",
      "test/qrs_score:          0.8712\n",
      "---------------------------------\n",
      "\n",
      "ECG-SEQ-LAB - INFO - Checkpoint 29 saved!\n"
     ]
    },
    {
     "name": "stderr",
     "output_type": "stream",
     "text": [
      "Epoch 29/300: 100%|███████████████████████| 1600/1600 [00:05<00:00, 314.61it/s, loss (batch)=0.0754]\n",
      "Epoch 30/300:  96%|█████████████████████████████████████████▎ | 1536/1600 [00:01<00:00, 1250.50it/s]"
     ]
    },
    {
     "name": "stdout",
     "output_type": "stream",
     "text": [
      "QRS_acc: 0.8973\n",
      "Scoring complete.\n",
      "QRS_acc: 0.8642\n",
      "Scoring complete.\n",
      "ECG-SEQ-LAB - INFO - \n",
      "Train epoch_30:\n",
      "--------------------\n",
      "train/epoch_loss:        0.5143881887197495\n",
      "train/qrs_score:         0.8973\n",
      "\n",
      "test/qrs_score:          0.8642\n",
      "---------------------------------\n",
      "\n",
      "ECG-SEQ-LAB - INFO - Checkpoint 30 saved!\n"
     ]
    },
    {
     "name": "stderr",
     "output_type": "stream",
     "text": [
      "Epoch 30/300: 100%|████████████████████████████████████████████| 1600/1600 [00:05<00:00, 312.62it/s]\n",
      "Epoch 31/300:  96%|█████████████████████████████████████████▎ | 1536/1600 [00:01<00:00, 1215.44it/s]"
     ]
    },
    {
     "name": "stdout",
     "output_type": "stream",
     "text": [
      "QRS_acc: 0.8919\n",
      "Scoring complete.\n",
      "QRS_acc: 0.8715\n",
      "Scoring complete.\n",
      "ECG-SEQ-LAB - INFO - \n",
      "Train epoch_31:\n",
      "--------------------\n",
      "train/epoch_loss:        0.48387904465198517\n",
      "train/qrs_score:         0.8919\n",
      "\n",
      "test/qrs_score:          0.8715\n",
      "---------------------------------\n",
      "\n",
      "ECG-SEQ-LAB - INFO - Checkpoint 31 saved!\n"
     ]
    },
    {
     "name": "stderr",
     "output_type": "stream",
     "text": [
      "Epoch 31/300: 100%|████████████████████████████████████████████| 1600/1600 [00:05<00:00, 314.74it/s]\n",
      "Epoch 32/300:  32%|███████▋                | 512/1600 [00:01<00:02, 452.41it/s, loss (batch)=0.0712]"
     ]
    },
    {
     "name": "stdout",
     "output_type": "stream",
     "text": [
      "ECG-SEQ-LAB - INFO - Train step_220: loss : 0.07124201208353043\n"
     ]
    },
    {
     "name": "stderr",
     "output_type": "stream",
     "text": [
      "Epoch 32/300:  96%|█████████████████████ | 1536/1600 [00:01<00:00, 1251.81it/s, loss (batch)=0.0712]"
     ]
    },
    {
     "name": "stdout",
     "output_type": "stream",
     "text": [
      "QRS_acc: 0.9031\n",
      "Scoring complete.\n",
      "QRS_acc: 0.863\n",
      "Scoring complete.\n",
      "ECG-SEQ-LAB - INFO - \n",
      "Train epoch_32:\n",
      "--------------------\n",
      "train/epoch_loss:        0.49440596997737885\n",
      "train/qrs_score:         0.9031\n",
      "\n",
      "test/qrs_score:          0.863\n",
      "---------------------------------\n",
      "\n",
      "ECG-SEQ-LAB - INFO - Checkpoint 32 saved!\n"
     ]
    },
    {
     "name": "stderr",
     "output_type": "stream",
     "text": [
      "Epoch 32/300: 100%|███████████████████████| 1600/1600 [00:05<00:00, 314.92it/s, loss (batch)=0.0712]\n",
      "Epoch 33/300:  96%|█████████████████████████████████████████▎ | 1536/1600 [00:01<00:00, 1252.76it/s]"
     ]
    },
    {
     "name": "stdout",
     "output_type": "stream",
     "text": [
      "QRS_acc: 0.9021\n",
      "Scoring complete.\n",
      "QRS_acc: 0.8798\n",
      "Scoring complete.\n",
      "ECG-SEQ-LAB - INFO - \n",
      "Train epoch_33:\n",
      "--------------------\n",
      "train/epoch_loss:        0.48224374651908875\n",
      "train/qrs_score:         0.9021\n",
      "\n",
      "test/qrs_score:          0.8798\n",
      "---------------------------------\n",
      "\n",
      "ECG-SEQ-LAB - INFO - Checkpoint 33 saved!\n"
     ]
    },
    {
     "name": "stderr",
     "output_type": "stream",
     "text": [
      "Epoch 33/300: 100%|████████████████████████████████████████████| 1600/1600 [00:05<00:00, 314.87it/s]\n",
      "Epoch 34/300:  96%|█████████████████████████████████████████▎ | 1536/1600 [00:01<00:00, 1246.22it/s]"
     ]
    },
    {
     "name": "stdout",
     "output_type": "stream",
     "text": [
      "QRS_acc: 0.9006\n",
      "Scoring complete.\n",
      "QRS_acc: 0.8782\n",
      "Scoring complete.\n",
      "ECG-SEQ-LAB - INFO - \n",
      "Train epoch_34:\n",
      "--------------------\n",
      "train/epoch_loss:        0.4753929115831852\n",
      "train/qrs_score:         0.9006\n",
      "\n",
      "test/qrs_score:          0.8782\n",
      "---------------------------------\n",
      "\n",
      "ECG-SEQ-LAB - INFO - Checkpoint 34 saved!\n"
     ]
    },
    {
     "name": "stderr",
     "output_type": "stream",
     "text": [
      "Epoch 34/300: 100%|████████████████████████████████████████████| 1600/1600 [00:05<00:00, 314.92it/s]\n",
      "Epoch 35/300:  16%|███▊                    | 256/1600 [00:01<00:06, 214.73it/s, loss (batch)=0.0648]"
     ]
    },
    {
     "name": "stdout",
     "output_type": "stream",
     "text": [
      "ECG-SEQ-LAB - INFO - Train step_240: loss : 0.0647580698132515\n"
     ]
    },
    {
     "name": "stderr",
     "output_type": "stream",
     "text": [
      "Epoch 35/300:  96%|█████████████████████ | 1536/1600 [00:01<00:00, 1246.07it/s, loss (batch)=0.0648]"
     ]
    },
    {
     "name": "stdout",
     "output_type": "stream",
     "text": [
      "QRS_acc: 0.8959\n",
      "Scoring complete.\n",
      "QRS_acc: 0.855\n",
      "Scoring complete.\n",
      "ECG-SEQ-LAB - INFO - \n",
      "Train epoch_35:\n",
      "--------------------\n",
      "train/epoch_loss:        0.4716373682022095\n",
      "train/qrs_score:         0.8959\n",
      "\n",
      "test/qrs_score:          0.855\n",
      "---------------------------------\n",
      "\n",
      "ECG-SEQ-LAB - INFO - Checkpoint 35 saved!\n"
     ]
    },
    {
     "name": "stderr",
     "output_type": "stream",
     "text": [
      "Epoch 35/300: 100%|███████████████████████| 1600/1600 [00:05<00:00, 313.78it/s, loss (batch)=0.0648]\n",
      "Epoch 36/300:  96%|█████████████████████████████████████████▎ | 1536/1600 [00:01<00:00, 1237.42it/s]"
     ]
    },
    {
     "name": "stdout",
     "output_type": "stream",
     "text": [
      "QRS_acc: 0.9031\n",
      "Scoring complete.\n",
      "QRS_acc: 0.8728\n",
      "Scoring complete.\n",
      "ECG-SEQ-LAB - INFO - \n",
      "Train epoch_36:\n",
      "--------------------\n",
      "train/epoch_loss:        0.4803488925099373\n",
      "train/qrs_score:         0.9031\n",
      "\n",
      "test/qrs_score:          0.8728\n",
      "---------------------------------\n",
      "\n",
      "ECG-SEQ-LAB - INFO - Checkpoint 36 saved!\n"
     ]
    },
    {
     "name": "stderr",
     "output_type": "stream",
     "text": [
      "Epoch 36/300: 100%|████████████████████████████████████████████| 1600/1600 [00:05<00:00, 315.41it/s]\n",
      "Epoch 37/300:  96%|█████████████████████████████████████████▎ | 1536/1600 [00:01<00:00, 1243.82it/s]"
     ]
    },
    {
     "name": "stdout",
     "output_type": "stream",
     "text": [
      "QRS_acc: 0.9141\n",
      "Scoring complete.\n",
      "QRS_acc: 0.8738\n",
      "Scoring complete.\n",
      "ECG-SEQ-LAB - INFO - \n",
      "Train epoch_37:\n",
      "--------------------\n",
      "train/epoch_loss:        0.47452377527952194\n",
      "train/qrs_score:         0.9141\n",
      "\n",
      "test/qrs_score:          0.8738\n",
      "---------------------------------\n",
      "\n",
      "ECG-SEQ-LAB - INFO - Checkpoint 37 saved!\n"
     ]
    },
    {
     "name": "stderr",
     "output_type": "stream",
     "text": [
      "Epoch 37/300: 100%|████████████████████████████████████████████| 1600/1600 [00:05<00:00, 314.39it/s]\n",
      "Epoch 38/300:   0%|                                   | 0/1600 [00:01<?, ?it/s, loss (batch)=0.0651]"
     ]
    },
    {
     "name": "stdout",
     "output_type": "stream",
     "text": [
      "ECG-SEQ-LAB - INFO - Train step_260: loss : 0.06512705236673355\n"
     ]
    },
    {
     "name": "stderr",
     "output_type": "stream",
     "text": [
      "Epoch 38/300:  96%|█████████████████████ | 1536/1600 [00:01<00:00, 1246.76it/s, loss (batch)=0.0651]"
     ]
    },
    {
     "name": "stdout",
     "output_type": "stream",
     "text": [
      "QRS_acc: 0.903\n",
      "Scoring complete.\n",
      "QRS_acc: 0.873\n",
      "Scoring complete.\n",
      "ECG-SEQ-LAB - INFO - \n",
      "Train epoch_38:\n",
      "--------------------\n",
      "train/epoch_loss:        0.46958743408322334\n",
      "train/qrs_score:         0.903\n",
      "\n",
      "test/qrs_score:          0.873\n",
      "---------------------------------\n",
      "\n",
      "ECG-SEQ-LAB - INFO - Checkpoint 38 saved!\n"
     ]
    },
    {
     "name": "stderr",
     "output_type": "stream",
     "text": [
      "Epoch 38/300: 100%|███████████████████████| 1600/1600 [00:05<00:00, 316.21it/s, loss (batch)=0.0651]\n",
      "Epoch 39/300:  96%|█████████████████████████████████████████▎ | 1536/1600 [00:01<00:00, 1246.47it/s]"
     ]
    },
    {
     "name": "stdout",
     "output_type": "stream",
     "text": [
      "QRS_acc: 0.9045\n",
      "Scoring complete.\n",
      "QRS_acc: 0.8708\n",
      "Scoring complete.\n",
      "ECG-SEQ-LAB - INFO - \n",
      "Train epoch_39:\n",
      "--------------------\n",
      "train/epoch_loss:        0.4559813104569912\n",
      "train/qrs_score:         0.9045\n",
      "\n",
      "test/qrs_score:          0.8708\n",
      "---------------------------------\n",
      "\n",
      "ECG-SEQ-LAB - INFO - Checkpoint 39 saved!\n"
     ]
    },
    {
     "name": "stderr",
     "output_type": "stream",
     "text": [
      "Epoch 39/300: 100%|████████████████████████████████████████████| 1600/1600 [00:05<00:00, 311.72it/s]\n",
      "Epoch 40/300:  96%|██████████████████████ | 1536/1600 [00:01<00:00, 1247.71it/s, loss (batch)=0.067]"
     ]
    },
    {
     "name": "stdout",
     "output_type": "stream",
     "text": [
      "ECG-SEQ-LAB - INFO - Train step_280: loss : 0.06701835244894028\n",
      "QRS_acc: 0.914\n",
      "Scoring complete.\n",
      "QRS_acc: 0.8695\n",
      "Scoring complete.\n",
      "ECG-SEQ-LAB - INFO - \n",
      "Train epoch_40:\n",
      "--------------------\n",
      "train/epoch_loss:        0.4530186168849468\n",
      "train/qrs_score:         0.914\n",
      "\n",
      "test/qrs_score:          0.8695\n",
      "---------------------------------\n",
      "\n",
      "ECG-SEQ-LAB - INFO - Checkpoint 40 saved!\n"
     ]
    },
    {
     "name": "stderr",
     "output_type": "stream",
     "text": [
      "Epoch 40/300: 100%|████████████████████████| 1600/1600 [00:05<00:00, 308.40it/s, loss (batch)=0.067]\n",
      "Epoch 41/300:  96%|█████████████████████████████████████████▎ | 1536/1600 [00:01<00:00, 1247.93it/s]"
     ]
    },
    {
     "name": "stdout",
     "output_type": "stream",
     "text": [
      "QRS_acc: 0.9174\n",
      "Scoring complete.\n",
      "QRS_acc: 0.8808\n",
      "Scoring complete.\n",
      "ECG-SEQ-LAB - INFO - \n",
      "Train epoch_41:\n",
      "--------------------\n",
      "train/epoch_loss:        0.4455152302980423\n",
      "train/qrs_score:         0.9174\n",
      "\n",
      "test/qrs_score:          0.8808\n",
      "---------------------------------\n",
      "\n",
      "ECG-SEQ-LAB - INFO - Checkpoint 41 saved!\n"
     ]
    },
    {
     "name": "stderr",
     "output_type": "stream",
     "text": [
      "Epoch 41/300: 100%|████████████████████████████████████████████| 1600/1600 [00:05<00:00, 315.39it/s]\n",
      "Epoch 42/300:  96%|█████████████████████████████████████████▎ | 1536/1600 [00:01<00:00, 1239.20it/s]"
     ]
    },
    {
     "name": "stdout",
     "output_type": "stream",
     "text": [
      "QRS_acc: 0.9182\n",
      "Scoring complete.\n",
      "QRS_acc: 0.8853\n",
      "Scoring complete.\n",
      "ECG-SEQ-LAB - INFO - \n",
      "Train epoch_42:\n",
      "--------------------\n",
      "train/epoch_loss:        0.44101302325725555\n",
      "train/qrs_score:         0.9182\n",
      "\n",
      "test/qrs_score:          0.8853\n",
      "---------------------------------\n",
      "\n",
      "ECG-SEQ-LAB - INFO - Checkpoint 42 saved!\n"
     ]
    },
    {
     "name": "stderr",
     "output_type": "stream",
     "text": [
      "Epoch 42/300: 100%|████████████████████████████████████████████| 1600/1600 [00:05<00:00, 315.17it/s]\n",
      "Epoch 43/300:  80%|█████████████████▌    | 1280/1600 [00:01<00:00, 1096.15it/s, loss (batch)=0.0688]"
     ]
    },
    {
     "name": "stdout",
     "output_type": "stream",
     "text": [
      "ECG-SEQ-LAB - INFO - Train step_300: loss : 0.0687672570347786\n"
     ]
    },
    {
     "name": "stderr",
     "output_type": "stream",
     "text": [
      "\r",
      "Epoch 43/300:  96%|█████████████████████ | 1536/1600 [00:01<00:00, 1246.56it/s, loss (batch)=0.0688]"
     ]
    },
    {
     "name": "stdout",
     "output_type": "stream",
     "text": [
      "QRS_acc: 0.9141\n",
      "Scoring complete.\n",
      "QRS_acc: 0.8615\n",
      "Scoring complete.\n",
      "ECG-SEQ-LAB - INFO - \n",
      "Train epoch_43:\n",
      "--------------------\n",
      "train/epoch_loss:        0.4410344660282135\n",
      "train/qrs_score:         0.9141\n",
      "\n",
      "test/qrs_score:          0.8615\n",
      "---------------------------------\n",
      "\n",
      "ECG-SEQ-LAB - INFO - Checkpoint 43 saved!\n"
     ]
    },
    {
     "name": "stderr",
     "output_type": "stream",
     "text": [
      "Epoch 43/300: 100%|███████████████████████| 1600/1600 [00:05<00:00, 317.67it/s, loss (batch)=0.0688]\n",
      "Epoch 44/300:  96%|█████████████████████████████████████████▎ | 1536/1600 [00:01<00:00, 1238.72it/s]"
     ]
    },
    {
     "name": "stdout",
     "output_type": "stream",
     "text": [
      "QRS_acc: 0.917\n",
      "Scoring complete.\n",
      "QRS_acc: 0.88\n",
      "Scoring complete.\n",
      "ECG-SEQ-LAB - INFO - \n",
      "Train epoch_44:\n",
      "--------------------\n",
      "train/epoch_loss:        0.4318273589015007\n",
      "train/qrs_score:         0.917\n",
      "\n",
      "test/qrs_score:          0.88\n",
      "---------------------------------\n",
      "\n",
      "ECG-SEQ-LAB - INFO - Checkpoint 44 saved!\n"
     ]
    },
    {
     "name": "stderr",
     "output_type": "stream",
     "text": [
      "Epoch 44/300: 100%|████████████████████████████████████████████| 1600/1600 [00:05<00:00, 308.82it/s]\n",
      "Epoch 45/300:  96%|█████████████████████████████████████████▎ | 1536/1600 [00:01<00:00, 1232.40it/s]"
     ]
    },
    {
     "name": "stdout",
     "output_type": "stream",
     "text": [
      "QRS_acc: 0.9214\n",
      "Scoring complete.\n",
      "QRS_acc: 0.8835\n",
      "Scoring complete.\n",
      "ECG-SEQ-LAB - INFO - \n",
      "Train epoch_45:\n",
      "--------------------\n",
      "train/epoch_loss:        0.4375706687569618\n",
      "train/qrs_score:         0.9214\n",
      "\n",
      "test/qrs_score:          0.8835\n",
      "---------------------------------\n",
      "\n",
      "ECG-SEQ-LAB - INFO - Checkpoint 45 saved!\n"
     ]
    },
    {
     "name": "stderr",
     "output_type": "stream",
     "text": [
      "Epoch 45/300: 100%|████████████████████████████████████████████| 1600/1600 [00:05<00:00, 314.23it/s]\n",
      "Epoch 46/300:  64%|██████████████▋        | 1024/1600 [00:01<00:00, 890.07it/s, loss (batch)=0.0598]"
     ]
    },
    {
     "name": "stdout",
     "output_type": "stream",
     "text": [
      "ECG-SEQ-LAB - INFO - Train step_320: loss : 0.05978668853640556\n"
     ]
    },
    {
     "name": "stderr",
     "output_type": "stream",
     "text": [
      "Epoch 46/300:  96%|█████████████████████ | 1536/1600 [00:01<00:00, 1236.28it/s, loss (batch)=0.0598]"
     ]
    },
    {
     "name": "stdout",
     "output_type": "stream",
     "text": [
      "QRS_acc: 0.9314\n",
      "Scoring complete.\n",
      "QRS_acc: 0.8855\n",
      "Scoring complete.\n",
      "ECG-SEQ-LAB - INFO - \n",
      "Train epoch_46:\n",
      "--------------------\n",
      "train/epoch_loss:        0.42961928620934486\n",
      "train/qrs_score:         0.9314\n",
      "\n",
      "test/qrs_score:          0.8855\n",
      "---------------------------------\n",
      "\n",
      "ECG-SEQ-LAB - INFO - Checkpoint 46 saved!\n"
     ]
    },
    {
     "name": "stderr",
     "output_type": "stream",
     "text": [
      "Epoch 46/300: 100%|███████████████████████| 1600/1600 [00:05<00:00, 317.57it/s, loss (batch)=0.0598]\n",
      "Epoch 47/300:  96%|█████████████████████████████████████████▎ | 1536/1600 [00:01<00:00, 1251.13it/s]"
     ]
    },
    {
     "name": "stdout",
     "output_type": "stream",
     "text": [
      "QRS_acc: 0.9279\n",
      "Scoring complete.\n",
      "QRS_acc: 0.8785\n",
      "Scoring complete.\n",
      "ECG-SEQ-LAB - INFO - \n",
      "Train epoch_47:\n",
      "--------------------\n",
      "train/epoch_loss:        0.4287523627281189\n",
      "train/qrs_score:         0.9279\n",
      "\n",
      "test/qrs_score:          0.8785\n",
      "---------------------------------\n",
      "\n",
      "ECG-SEQ-LAB - INFO - Checkpoint 47 saved!\n"
     ]
    },
    {
     "name": "stderr",
     "output_type": "stream",
     "text": [
      "Epoch 47/300: 100%|████████████████████████████████████████████| 1600/1600 [00:05<00:00, 315.73it/s]\n",
      "Epoch 48/300:  96%|█████████████████████████████████████████▎ | 1536/1600 [00:01<00:00, 1237.65it/s]"
     ]
    },
    {
     "name": "stdout",
     "output_type": "stream",
     "text": [
      "QRS_acc: 0.9237\n",
      "Scoring complete.\n",
      "QRS_acc: 0.874\n",
      "Scoring complete.\n",
      "ECG-SEQ-LAB - INFO - \n",
      "Train epoch_48:\n",
      "--------------------\n",
      "train/epoch_loss:        0.4167442321777344\n",
      "train/qrs_score:         0.9237\n",
      "\n",
      "test/qrs_score:          0.874\n",
      "---------------------------------\n",
      "\n",
      "ECG-SEQ-LAB - INFO - Checkpoint 48 saved!\n"
     ]
    },
    {
     "name": "stderr",
     "output_type": "stream",
     "text": [
      "Epoch 48/300: 100%|████████████████████████████████████████████| 1600/1600 [00:05<00:00, 313.64it/s]\n",
      "Epoch 49/300:  48%|███████████▌            | 768/1600 [00:01<00:01, 670.08it/s, loss (batch)=0.0621]"
     ]
    },
    {
     "name": "stdout",
     "output_type": "stream",
     "text": [
      "ECG-SEQ-LAB - INFO - Train step_340: loss : 0.062058042734861374\n"
     ]
    },
    {
     "name": "stderr",
     "output_type": "stream",
     "text": [
      "Epoch 49/300:  96%|█████████████████████ | 1536/1600 [00:01<00:00, 1235.26it/s, loss (batch)=0.0621]"
     ]
    },
    {
     "name": "stdout",
     "output_type": "stream",
     "text": [
      "QRS_acc: 0.9159\n",
      "Scoring complete.\n",
      "QRS_acc: 0.8635\n",
      "Scoring complete.\n",
      "ECG-SEQ-LAB - INFO - \n",
      "Train epoch_49:\n",
      "--------------------\n",
      "train/epoch_loss:        0.4164034314453602\n",
      "train/qrs_score:         0.9159\n",
      "\n",
      "test/qrs_score:          0.8635\n",
      "---------------------------------\n",
      "\n",
      "ECG-SEQ-LAB - INFO - Checkpoint 49 saved!\n"
     ]
    },
    {
     "name": "stderr",
     "output_type": "stream",
     "text": [
      "Epoch 49/300: 100%|███████████████████████| 1600/1600 [00:05<00:00, 312.30it/s, loss (batch)=0.0621]\n",
      "Epoch 50/300:  96%|█████████████████████████████████████████▎ | 1536/1600 [00:01<00:00, 1249.50it/s]"
     ]
    },
    {
     "name": "stdout",
     "output_type": "stream",
     "text": [
      "QRS_acc: 0.9239\n",
      "Scoring complete.\n",
      "QRS_acc: 0.875\n",
      "Scoring complete.\n",
      "ECG-SEQ-LAB - INFO - \n",
      "Train epoch_50:\n",
      "--------------------\n",
      "train/epoch_loss:        0.42325640097260475\n",
      "train/qrs_score:         0.9239\n",
      "\n",
      "test/qrs_score:          0.875\n",
      "---------------------------------\n",
      "\n",
      "ECG-SEQ-LAB - INFO - Checkpoint 50 saved!\n"
     ]
    },
    {
     "name": "stderr",
     "output_type": "stream",
     "text": [
      "Epoch 50/300: 100%|████████████████████████████████████████████| 1600/1600 [00:05<00:00, 313.01it/s]\n",
      "Epoch 51/300:  96%|█████████████████████████████████████████▎ | 1536/1600 [00:02<00:00, 1215.33it/s]"
     ]
    },
    {
     "name": "stdout",
     "output_type": "stream",
     "text": [
      "QRS_acc: 0.9239\n",
      "Scoring complete.\n",
      "QRS_acc: 0.8732\n",
      "Scoring complete.\n",
      "ECG-SEQ-LAB - INFO - \n",
      "Train epoch_51:\n",
      "--------------------\n",
      "train/epoch_loss:        0.4143059067428112\n",
      "train/qrs_score:         0.9239\n",
      "\n",
      "test/qrs_score:          0.8732\n",
      "---------------------------------\n",
      "\n",
      "ECG-SEQ-LAB - INFO - Checkpoint 51 saved!\n"
     ]
    },
    {
     "name": "stderr",
     "output_type": "stream",
     "text": [
      "Epoch 51/300: 100%|████████████████████████████████████████████| 1600/1600 [00:05<00:00, 311.20it/s]\n",
      "Epoch 52/300:  32%|███████▋                | 512/1600 [00:01<00:02, 439.50it/s, loss (batch)=0.0661]"
     ]
    },
    {
     "name": "stdout",
     "output_type": "stream",
     "text": [
      "ECG-SEQ-LAB - INFO - Train step_360: loss : 0.06611049920320511\n"
     ]
    },
    {
     "name": "stderr",
     "output_type": "stream",
     "text": [
      "Epoch 52/300:  96%|█████████████████████ | 1536/1600 [00:01<00:00, 1238.73it/s, loss (batch)=0.0661]"
     ]
    },
    {
     "name": "stdout",
     "output_type": "stream",
     "text": [
      "QRS_acc: 0.9391\n",
      "Scoring complete.\n",
      "QRS_acc: 0.877\n",
      "Scoring complete.\n",
      "ECG-SEQ-LAB - INFO - \n",
      "Train epoch_52:\n",
      "--------------------\n",
      "train/epoch_loss:        0.4148728623986244\n",
      "train/qrs_score:         0.9391\n",
      "\n",
      "test/qrs_score:          0.877\n",
      "---------------------------------\n",
      "\n",
      "ECG-SEQ-LAB - INFO - Checkpoint 52 saved!\n"
     ]
    },
    {
     "name": "stderr",
     "output_type": "stream",
     "text": [
      "Epoch 52/300: 100%|███████████████████████| 1600/1600 [00:05<00:00, 316.17it/s, loss (batch)=0.0661]\n",
      "Epoch 53/300:  96%|█████████████████████████████████████████▎ | 1536/1600 [00:01<00:00, 1252.03it/s]"
     ]
    },
    {
     "name": "stdout",
     "output_type": "stream",
     "text": [
      "QRS_acc: 0.9402\n",
      "Scoring complete.\n",
      "QRS_acc: 0.8865\n",
      "Scoring complete.\n",
      "ECG-SEQ-LAB - INFO - \n",
      "Train epoch_53:\n",
      "--------------------\n",
      "train/epoch_loss:        0.40539171546697617\n",
      "train/qrs_score:         0.9402\n",
      "\n",
      "test/qrs_score:          0.8865\n",
      "---------------------------------\n",
      "\n",
      "ECG-SEQ-LAB - INFO - Checkpoint 53 saved!\n"
     ]
    },
    {
     "name": "stderr",
     "output_type": "stream",
     "text": [
      "Epoch 53/300: 100%|████████████████████████████████████████████| 1600/1600 [00:05<00:00, 318.49it/s]\n",
      "Epoch 54/300:  96%|█████████████████████████████████████████▎ | 1536/1600 [00:02<00:00, 1190.00it/s]"
     ]
    },
    {
     "name": "stdout",
     "output_type": "stream",
     "text": [
      "QRS_acc: 0.9356\n",
      "Scoring complete.\n",
      "QRS_acc: 0.8785\n",
      "Scoring complete.\n",
      "ECG-SEQ-LAB - INFO - \n",
      "Train epoch_54:\n",
      "--------------------\n",
      "train/epoch_loss:        0.3973678909242153\n",
      "train/qrs_score:         0.9356\n",
      "\n",
      "test/qrs_score:          0.8785\n",
      "---------------------------------\n",
      "\n",
      "ECG-SEQ-LAB - INFO - Checkpoint 54 saved!\n"
     ]
    },
    {
     "name": "stderr",
     "output_type": "stream",
     "text": [
      "Epoch 54/300: 100%|████████████████████████████████████████████| 1600/1600 [00:05<00:00, 301.24it/s]\n",
      "Epoch 55/300:  16%|███▊                    | 256/1600 [00:01<00:06, 214.71it/s, loss (batch)=0.0542]"
     ]
    },
    {
     "name": "stdout",
     "output_type": "stream",
     "text": [
      "ECG-SEQ-LAB - INFO - Train step_380: loss : 0.05417049303650856\n"
     ]
    },
    {
     "name": "stderr",
     "output_type": "stream",
     "text": [
      "Epoch 55/300:  96%|█████████████████████ | 1536/1600 [00:01<00:00, 1240.27it/s, loss (batch)=0.0542]"
     ]
    },
    {
     "name": "stdout",
     "output_type": "stream",
     "text": [
      "QRS_acc: 0.9316\n",
      "Scoring complete.\n",
      "QRS_acc: 0.8775\n",
      "Scoring complete.\n",
      "ECG-SEQ-LAB - INFO - \n",
      "Train epoch_55:\n",
      "--------------------\n",
      "train/epoch_loss:        0.3967204801738262\n",
      "train/qrs_score:         0.9316\n",
      "\n",
      "test/qrs_score:          0.8775\n",
      "---------------------------------\n",
      "\n",
      "ECG-SEQ-LAB - INFO - Checkpoint 55 saved!\n"
     ]
    },
    {
     "name": "stderr",
     "output_type": "stream",
     "text": [
      "Epoch 55/300: 100%|███████████████████████| 1600/1600 [00:05<00:00, 319.36it/s, loss (batch)=0.0542]\n",
      "Epoch 56/300:  96%|█████████████████████████████████████████▎ | 1536/1600 [00:01<00:00, 1228.89it/s]"
     ]
    },
    {
     "name": "stdout",
     "output_type": "stream",
     "text": [
      "QRS_acc: 0.9399\n",
      "Scoring complete.\n",
      "QRS_acc: 0.8822\n",
      "Scoring complete.\n",
      "ECG-SEQ-LAB - INFO - \n",
      "Train epoch_56:\n",
      "--------------------\n",
      "train/epoch_loss:        0.40348729118704796\n",
      "train/qrs_score:         0.9399\n",
      "\n",
      "test/qrs_score:          0.8822\n",
      "---------------------------------\n",
      "\n",
      "ECG-SEQ-LAB - INFO - Checkpoint 56 saved!\n"
     ]
    },
    {
     "name": "stderr",
     "output_type": "stream",
     "text": [
      "Epoch 56/300: 100%|████████████████████████████████████████████| 1600/1600 [00:05<00:00, 307.60it/s]\n",
      "Epoch 57/300:  96%|█████████████████████████████████████████▎ | 1536/1600 [00:01<00:00, 1239.13it/s]"
     ]
    },
    {
     "name": "stdout",
     "output_type": "stream",
     "text": [
      "QRS_acc: 0.9338\n",
      "Scoring complete.\n",
      "QRS_acc: 0.8778\n",
      "Scoring complete.\n",
      "ECG-SEQ-LAB - INFO - \n",
      "Train epoch_57:\n",
      "--------------------\n",
      "train/epoch_loss:        0.3845352455973625\n",
      "train/qrs_score:         0.9338\n",
      "\n",
      "test/qrs_score:          0.8778\n",
      "---------------------------------\n",
      "\n",
      "ECG-SEQ-LAB - INFO - Checkpoint 57 saved!\n"
     ]
    },
    {
     "name": "stderr",
     "output_type": "stream",
     "text": [
      "Epoch 57/300: 100%|████████████████████████████████████████████| 1600/1600 [00:05<00:00, 315.32it/s]\n",
      "Epoch 58/300:   0%|                                   | 0/1600 [00:01<?, ?it/s, loss (batch)=0.0559]"
     ]
    },
    {
     "name": "stdout",
     "output_type": "stream",
     "text": [
      "ECG-SEQ-LAB - INFO - Train step_400: loss : 0.055865414440631866\n"
     ]
    },
    {
     "name": "stderr",
     "output_type": "stream",
     "text": [
      "Epoch 58/300:  96%|█████████████████████ | 1536/1600 [00:01<00:00, 1232.82it/s, loss (batch)=0.0559]"
     ]
    },
    {
     "name": "stdout",
     "output_type": "stream",
     "text": [
      "QRS_acc: 0.9329\n",
      "Scoring complete.\n",
      "QRS_acc: 0.8768\n",
      "Scoring complete.\n",
      "ECG-SEQ-LAB - INFO - \n",
      "Train epoch_58:\n",
      "--------------------\n",
      "train/epoch_loss:        0.38829128816723824\n",
      "train/qrs_score:         0.9329\n",
      "\n",
      "test/qrs_score:          0.8768\n",
      "---------------------------------\n",
      "\n",
      "ECG-SEQ-LAB - INFO - Checkpoint 58 saved!\n"
     ]
    },
    {
     "name": "stderr",
     "output_type": "stream",
     "text": [
      "Epoch 58/300: 100%|███████████████████████| 1600/1600 [00:05<00:00, 312.78it/s, loss (batch)=0.0559]\n",
      "Epoch 59/300:  96%|█████████████████████████████████████████▎ | 1536/1600 [00:01<00:00, 1130.43it/s]"
     ]
    },
    {
     "name": "stdout",
     "output_type": "stream",
     "text": [
      "QRS_acc: 0.9348\n",
      "Scoring complete.\n",
      "QRS_acc: 0.8792\n",
      "Scoring complete.\n",
      "ECG-SEQ-LAB - INFO - \n",
      "Train epoch_59:\n",
      "--------------------\n",
      "train/epoch_loss:        0.37482280656695366\n",
      "train/qrs_score:         0.9348\n",
      "\n",
      "test/qrs_score:          0.8792\n",
      "---------------------------------\n",
      "\n",
      "ECG-SEQ-LAB - INFO - Checkpoint 59 saved!\n"
     ]
    },
    {
     "name": "stderr",
     "output_type": "stream",
     "text": [
      "Epoch 59/300: 100%|████████████████████████████████████████████| 1600/1600 [00:05<00:00, 305.34it/s]\n",
      "Epoch 60/300:  96%|█████████████████████ | 1536/1600 [00:01<00:00, 1247.59it/s, loss (batch)=0.0557]"
     ]
    },
    {
     "name": "stdout",
     "output_type": "stream",
     "text": [
      "ECG-SEQ-LAB - INFO - Train step_420: loss : 0.05565155670046806\n",
      "QRS_acc: 0.9381\n",
      "Scoring complete.\n",
      "QRS_acc: 0.8678\n",
      "Scoring complete.\n",
      "ECG-SEQ-LAB - INFO - \n",
      "Train epoch_60:\n",
      "--------------------\n",
      "train/epoch_loss:        0.37706606462597847\n",
      "train/qrs_score:         0.9381\n",
      "\n",
      "test/qrs_score:          0.8678\n",
      "---------------------------------\n",
      "\n",
      "ECG-SEQ-LAB - INFO - Checkpoint 60 saved!\n"
     ]
    },
    {
     "name": "stderr",
     "output_type": "stream",
     "text": [
      "Epoch 60/300: 100%|███████████████████████| 1600/1600 [00:05<00:00, 316.73it/s, loss (batch)=0.0557]\n",
      "Epoch 61/300:  96%|█████████████████████████████████████████▎ | 1536/1600 [00:01<00:00, 1255.86it/s]"
     ]
    },
    {
     "name": "stdout",
     "output_type": "stream",
     "text": [
      "QRS_acc: 0.9474\n",
      "Scoring complete.\n",
      "QRS_acc: 0.8958\n",
      "Scoring complete.\n",
      "ECG-SEQ-LAB - INFO - \n",
      "Train epoch_61:\n",
      "--------------------\n",
      "train/epoch_loss:        0.3770592026412487\n",
      "train/qrs_score:         0.9474\n",
      "\n",
      "test/qrs_score:          0.8958\n",
      "---------------------------------\n",
      "\n",
      "ECG-SEQ-LAB - INFO - Checkpoint 61 saved!\n"
     ]
    },
    {
     "name": "stderr",
     "output_type": "stream",
     "text": [
      "Epoch 61/300: 100%|████████████████████████████████████████████| 1600/1600 [00:05<00:00, 316.20it/s]\n",
      "Epoch 62/300:  96%|█████████████████████████████████████████▎ | 1536/1600 [00:01<00:00, 1251.86it/s]"
     ]
    },
    {
     "name": "stdout",
     "output_type": "stream",
     "text": [
      "QRS_acc: 0.9412\n",
      "Scoring complete.\n",
      "QRS_acc: 0.883\n",
      "Scoring complete.\n",
      "ECG-SEQ-LAB - INFO - \n",
      "Train epoch_62:\n",
      "--------------------\n",
      "train/epoch_loss:        0.3758471831679344\n",
      "train/qrs_score:         0.9412\n",
      "\n",
      "test/qrs_score:          0.883\n",
      "---------------------------------\n",
      "\n",
      "ECG-SEQ-LAB - INFO - Checkpoint 62 saved!\n"
     ]
    },
    {
     "name": "stderr",
     "output_type": "stream",
     "text": [
      "Epoch 62/300: 100%|████████████████████████████████████████████| 1600/1600 [00:05<00:00, 313.71it/s]\n",
      "Epoch 63/300:  80%|█████████████████▌    | 1280/1600 [00:01<00:00, 1082.16it/s, loss (batch)=0.0522]"
     ]
    },
    {
     "name": "stdout",
     "output_type": "stream",
     "text": [
      "ECG-SEQ-LAB - INFO - Train step_440: loss : 0.05222974717617035\n"
     ]
    },
    {
     "name": "stderr",
     "output_type": "stream",
     "text": [
      "\r",
      "Epoch 63/300:  96%|█████████████████████ | 1536/1600 [00:01<00:00, 1234.97it/s, loss (batch)=0.0522]"
     ]
    },
    {
     "name": "stdout",
     "output_type": "stream",
     "text": [
      "QRS_acc: 0.9462\n",
      "Scoring complete.\n",
      "QRS_acc: 0.8853\n",
      "Scoring complete.\n",
      "ECG-SEQ-LAB - INFO - \n",
      "Train epoch_63:\n",
      "--------------------\n",
      "train/epoch_loss:        0.3649664409458637\n",
      "train/qrs_score:         0.9462\n",
      "\n",
      "test/qrs_score:          0.8853\n",
      "---------------------------------\n",
      "\n",
      "ECG-SEQ-LAB - INFO - Checkpoint 63 saved!\n"
     ]
    },
    {
     "name": "stderr",
     "output_type": "stream",
     "text": [
      "Epoch 63/300: 100%|███████████████████████| 1600/1600 [00:05<00:00, 308.71it/s, loss (batch)=0.0522]\n",
      "Epoch 64/300:  96%|█████████████████████████████████████████▎ | 1536/1600 [00:01<00:00, 1254.02it/s]"
     ]
    },
    {
     "name": "stdout",
     "output_type": "stream",
     "text": [
      "QRS_acc: 0.9354\n",
      "Scoring complete.\n",
      "QRS_acc: 0.8712\n",
      "Scoring complete.\n",
      "ECG-SEQ-LAB - INFO - \n",
      "Train epoch_64:\n",
      "--------------------\n",
      "train/epoch_loss:        0.3678300194442272\n",
      "train/qrs_score:         0.9354\n",
      "\n",
      "test/qrs_score:          0.8712\n",
      "---------------------------------\n",
      "\n",
      "ECG-SEQ-LAB - INFO - Checkpoint 64 saved!\n"
     ]
    },
    {
     "name": "stderr",
     "output_type": "stream",
     "text": [
      "Epoch 64/300: 100%|████████████████████████████████████████████| 1600/1600 [00:05<00:00, 316.64it/s]\n",
      "Epoch 65/300:  96%|█████████████████████████████████████████▎ | 1536/1600 [00:01<00:00, 1250.51it/s]"
     ]
    },
    {
     "name": "stdout",
     "output_type": "stream",
     "text": [
      "QRS_acc: 0.9444\n",
      "Scoring complete.\n",
      "QRS_acc: 0.8868\n",
      "Scoring complete.\n",
      "ECG-SEQ-LAB - INFO - \n",
      "Train epoch_65:\n",
      "--------------------\n",
      "train/epoch_loss:        0.3737632445991039\n",
      "train/qrs_score:         0.9444\n",
      "\n",
      "test/qrs_score:          0.8868\n",
      "---------------------------------\n",
      "\n",
      "ECG-SEQ-LAB - INFO - Checkpoint 65 saved!\n"
     ]
    },
    {
     "name": "stderr",
     "output_type": "stream",
     "text": [
      "Epoch 65/300: 100%|████████████████████████████████████████████| 1600/1600 [00:05<00:00, 313.66it/s]\n",
      "Epoch 66/300:  64%|███████████████▎        | 1024/1600 [00:01<00:00, 881.52it/s, loss (batch)=0.051]"
     ]
    },
    {
     "name": "stdout",
     "output_type": "stream",
     "text": [
      "ECG-SEQ-LAB - INFO - Train step_460: loss : 0.050985418260097504\n"
     ]
    },
    {
     "name": "stderr",
     "output_type": "stream",
     "text": [
      "Epoch 66/300:  96%|██████████████████████ | 1536/1600 [00:01<00:00, 1231.85it/s, loss (batch)=0.051]"
     ]
    },
    {
     "name": "stdout",
     "output_type": "stream",
     "text": [
      "QRS_acc: 0.9452\n",
      "Scoring complete.\n",
      "QRS_acc: 0.8838\n",
      "Scoring complete.\n",
      "ECG-SEQ-LAB - INFO - \n",
      "Train epoch_66:\n",
      "--------------------\n",
      "train/epoch_loss:        0.36635973677039146\n",
      "train/qrs_score:         0.9452\n",
      "\n",
      "test/qrs_score:          0.8838\n",
      "---------------------------------\n",
      "\n",
      "ECG-SEQ-LAB - INFO - Checkpoint 66 saved!\n"
     ]
    },
    {
     "name": "stderr",
     "output_type": "stream",
     "text": [
      "Epoch 66/300: 100%|████████████████████████| 1600/1600 [00:05<00:00, 314.43it/s, loss (batch)=0.051]\n",
      "Epoch 67/300:  96%|█████████████████████████████████████████▎ | 1536/1600 [00:01<00:00, 1229.12it/s]"
     ]
    },
    {
     "name": "stdout",
     "output_type": "stream",
     "text": [
      "QRS_acc: 0.9486\n",
      "Scoring complete.\n",
      "QRS_acc: 0.8848\n",
      "Scoring complete.\n",
      "ECG-SEQ-LAB - INFO - \n",
      "Train epoch_67:\n",
      "--------------------\n",
      "train/epoch_loss:        0.3504708856344223\n",
      "train/qrs_score:         0.9486\n",
      "\n",
      "test/qrs_score:          0.8848\n",
      "---------------------------------\n",
      "\n",
      "ECG-SEQ-LAB - INFO - Checkpoint 67 saved!\n"
     ]
    },
    {
     "name": "stderr",
     "output_type": "stream",
     "text": [
      "Epoch 67/300: 100%|████████████████████████████████████████████| 1600/1600 [00:05<00:00, 315.80it/s]\n",
      "Epoch 68/300:  96%|█████████████████████████████████████████▎ | 1536/1600 [00:01<00:00, 1244.98it/s]"
     ]
    },
    {
     "name": "stdout",
     "output_type": "stream",
     "text": [
      "QRS_acc: 0.9485\n",
      "Scoring complete.\n",
      "QRS_acc: 0.8915\n",
      "Scoring complete.\n",
      "ECG-SEQ-LAB - INFO - \n",
      "Train epoch_68:\n",
      "--------------------\n",
      "train/epoch_loss:        0.3592376708984375\n",
      "train/qrs_score:         0.9485\n",
      "\n",
      "test/qrs_score:          0.8915\n",
      "---------------------------------\n",
      "\n",
      "ECG-SEQ-LAB - INFO - Checkpoint 68 saved!\n"
     ]
    },
    {
     "name": "stderr",
     "output_type": "stream",
     "text": [
      "Epoch 68/300: 100%|████████████████████████████████████████████| 1600/1600 [00:05<00:00, 308.44it/s]\n",
      "Epoch 69/300:  48%|███████████▌            | 768/1600 [00:01<00:01, 684.59it/s, loss (batch)=0.0503]"
     ]
    },
    {
     "name": "stdout",
     "output_type": "stream",
     "text": [
      "ECG-SEQ-LAB - INFO - Train step_480: loss : 0.05030672997236252\n"
     ]
    },
    {
     "name": "stderr",
     "output_type": "stream",
     "text": [
      "Epoch 69/300:  96%|█████████████████████ | 1536/1600 [00:01<00:00, 1247.97it/s, loss (batch)=0.0503]"
     ]
    },
    {
     "name": "stdout",
     "output_type": "stream",
     "text": [
      "QRS_acc: 0.9498\n",
      "Scoring complete.\n",
      "QRS_acc: 0.887\n",
      "Scoring complete.\n",
      "ECG-SEQ-LAB - INFO - \n",
      "Train epoch_69:\n",
      "--------------------\n",
      "train/epoch_loss:        0.3626314625144005\n",
      "train/qrs_score:         0.9498\n",
      "\n",
      "test/qrs_score:          0.887\n",
      "---------------------------------\n",
      "\n",
      "ECG-SEQ-LAB - INFO - Checkpoint 69 saved!\n"
     ]
    },
    {
     "name": "stderr",
     "output_type": "stream",
     "text": [
      "Epoch 69/300: 100%|███████████████████████| 1600/1600 [00:05<00:00, 317.41it/s, loss (batch)=0.0503]\n",
      "Epoch 70/300:  96%|█████████████████████████████████████████▎ | 1536/1600 [00:01<00:00, 1266.55it/s]"
     ]
    },
    {
     "name": "stdout",
     "output_type": "stream",
     "text": [
      "QRS_acc: 0.9464\n",
      "Scoring complete.\n",
      "QRS_acc: 0.8798\n",
      "Scoring complete.\n",
      "ECG-SEQ-LAB - INFO - \n",
      "Train epoch_70:\n",
      "--------------------\n",
      "train/epoch_loss:        0.35239338502287865\n",
      "train/qrs_score:         0.9464\n",
      "\n",
      "test/qrs_score:          0.8798\n",
      "---------------------------------\n",
      "\n",
      "ECG-SEQ-LAB - INFO - Checkpoint 70 saved!\n"
     ]
    },
    {
     "name": "stderr",
     "output_type": "stream",
     "text": [
      "Epoch 70/300: 100%|████████████████████████████████████████████| 1600/1600 [00:05<00:00, 312.94it/s]\n",
      "Epoch 71/300:  96%|█████████████████████████████████████████▎ | 1536/1600 [00:01<00:00, 1255.46it/s]"
     ]
    },
    {
     "name": "stdout",
     "output_type": "stream",
     "text": [
      "QRS_acc: 0.9518\n",
      "Scoring complete.\n",
      "QRS_acc: 0.8835\n",
      "Scoring complete.\n",
      "ECG-SEQ-LAB - INFO - \n",
      "Train epoch_71:\n",
      "--------------------\n",
      "train/epoch_loss:        0.3499043881893158\n",
      "train/qrs_score:         0.9518\n",
      "\n",
      "test/qrs_score:          0.8835\n",
      "---------------------------------\n",
      "\n",
      "ECG-SEQ-LAB - INFO - Checkpoint 71 saved!\n"
     ]
    },
    {
     "name": "stderr",
     "output_type": "stream",
     "text": [
      "Epoch 71/300: 100%|████████████████████████████████████████████| 1600/1600 [00:05<00:00, 313.99it/s]\n",
      "Epoch 72/300:  32%|███████▋                | 512/1600 [00:01<00:02, 444.81it/s, loss (batch)=0.0514]"
     ]
    },
    {
     "name": "stdout",
     "output_type": "stream",
     "text": [
      "ECG-SEQ-LAB - INFO - Train step_500: loss : 0.051365017890930176\n"
     ]
    },
    {
     "name": "stderr",
     "output_type": "stream",
     "text": [
      "Epoch 72/300:  96%|█████████████████████ | 1536/1600 [00:01<00:00, 1243.13it/s, loss (batch)=0.0514]"
     ]
    },
    {
     "name": "stdout",
     "output_type": "stream",
     "text": [
      "QRS_acc: 0.9487\n",
      "Scoring complete.\n",
      "QRS_acc: 0.884\n",
      "Scoring complete.\n",
      "ECG-SEQ-LAB - INFO - \n",
      "Train epoch_72:\n",
      "--------------------\n",
      "train/epoch_loss:        0.3498004749417305\n",
      "train/qrs_score:         0.9487\n",
      "\n",
      "test/qrs_score:          0.884\n",
      "---------------------------------\n",
      "\n",
      "ECG-SEQ-LAB - INFO - Checkpoint 72 saved!\n"
     ]
    },
    {
     "name": "stderr",
     "output_type": "stream",
     "text": [
      "Epoch 72/300: 100%|███████████████████████| 1600/1600 [00:05<00:00, 312.02it/s, loss (batch)=0.0514]\n",
      "Epoch 73/300:  96%|█████████████████████████████████████████▎ | 1536/1600 [00:01<00:00, 1237.12it/s]"
     ]
    },
    {
     "name": "stdout",
     "output_type": "stream",
     "text": [
      "QRS_acc: 0.9534\n",
      "Scoring complete.\n",
      "QRS_acc: 0.9032\n",
      "Scoring complete.\n",
      "ECG-SEQ-LAB - INFO - \n",
      "Train epoch_73:\n",
      "--------------------\n",
      "train/epoch_loss:        0.34183283522725105\n",
      "train/qrs_score:         0.9534\n",
      "\n",
      "test/qrs_score:          0.9032\n",
      "---------------------------------\n",
      "\n",
      "ECG-SEQ-LAB - INFO - Checkpoint 73 saved!\n"
     ]
    },
    {
     "name": "stderr",
     "output_type": "stream",
     "text": [
      "Epoch 73/300: 100%|████████████████████████████████████████████| 1600/1600 [00:05<00:00, 312.48it/s]\n",
      "Epoch 74/300:  96%|█████████████████████████████████████████▎ | 1536/1600 [00:01<00:00, 1254.90it/s]"
     ]
    },
    {
     "name": "stdout",
     "output_type": "stream",
     "text": [
      "QRS_acc: 0.9435\n",
      "Scoring complete.\n",
      "QRS_acc: 0.88\n",
      "Scoring complete.\n",
      "ECG-SEQ-LAB - INFO - \n",
      "Train epoch_74:\n",
      "--------------------\n",
      "train/epoch_loss:        0.3307558372616768\n",
      "train/qrs_score:         0.9435\n",
      "\n",
      "test/qrs_score:          0.88\n",
      "---------------------------------\n",
      "\n",
      "ECG-SEQ-LAB - INFO - Checkpoint 74 saved!\n"
     ]
    },
    {
     "name": "stderr",
     "output_type": "stream",
     "text": [
      "Epoch 74/300: 100%|████████████████████████████████████████████| 1600/1600 [00:05<00:00, 316.50it/s]\n",
      "Epoch 75/300:  16%|████                     | 256/1600 [00:01<00:06, 216.97it/s, loss (batch)=0.048]"
     ]
    },
    {
     "name": "stdout",
     "output_type": "stream",
     "text": [
      "ECG-SEQ-LAB - INFO - Train step_520: loss : 0.0479811429977417\n"
     ]
    },
    {
     "name": "stderr",
     "output_type": "stream",
     "text": [
      "Epoch 75/300:  96%|██████████████████████ | 1536/1600 [00:01<00:00, 1248.15it/s, loss (batch)=0.048]"
     ]
    },
    {
     "name": "stdout",
     "output_type": "stream",
     "text": [
      "QRS_acc: 0.9524\n",
      "Scoring complete.\n",
      "QRS_acc: 0.894\n",
      "Scoring complete.\n",
      "ECG-SEQ-LAB - INFO - \n",
      "Train epoch_75:\n",
      "--------------------\n",
      "train/epoch_loss:        0.3392215296626091\n",
      "train/qrs_score:         0.9524\n",
      "\n",
      "test/qrs_score:          0.894\n",
      "---------------------------------\n",
      "\n",
      "ECG-SEQ-LAB - INFO - Checkpoint 75 saved!\n"
     ]
    },
    {
     "name": "stderr",
     "output_type": "stream",
     "text": [
      "Epoch 75/300: 100%|████████████████████████| 1600/1600 [00:05<00:00, 314.77it/s, loss (batch)=0.048]\n",
      "Epoch 76/300:  96%|█████████████████████████████████████████▎ | 1536/1600 [00:01<00:00, 1251.83it/s]"
     ]
    },
    {
     "name": "stdout",
     "output_type": "stream",
     "text": [
      "QRS_acc: 0.9422\n",
      "Scoring complete.\n",
      "QRS_acc: 0.8872\n",
      "Scoring complete.\n",
      "ECG-SEQ-LAB - INFO - \n",
      "Train epoch_76:\n",
      "--------------------\n",
      "train/epoch_loss:        0.33692436292767525\n",
      "train/qrs_score:         0.9422\n",
      "\n",
      "test/qrs_score:          0.8872\n",
      "---------------------------------\n",
      "\n",
      "ECG-SEQ-LAB - INFO - Checkpoint 76 saved!\n"
     ]
    },
    {
     "name": "stderr",
     "output_type": "stream",
     "text": [
      "Epoch 76/300: 100%|████████████████████████████████████████████| 1600/1600 [00:05<00:00, 315.79it/s]\n",
      "Epoch 77/300:  96%|█████████████████████████████████████████▎ | 1536/1600 [00:01<00:00, 1225.46it/s]"
     ]
    },
    {
     "name": "stdout",
     "output_type": "stream",
     "text": [
      "QRS_acc: 0.9433\n",
      "Scoring complete.\n",
      "QRS_acc: 0.873\n",
      "Scoring complete.\n",
      "ECG-SEQ-LAB - INFO - \n",
      "Train epoch_77:\n",
      "--------------------\n",
      "train/epoch_loss:        0.32924043387174606\n",
      "train/qrs_score:         0.9433\n",
      "\n",
      "test/qrs_score:          0.873\n",
      "---------------------------------\n",
      "\n",
      "ECG-SEQ-LAB - INFO - Checkpoint 77 saved!\n"
     ]
    },
    {
     "name": "stderr",
     "output_type": "stream",
     "text": [
      "Epoch 77/300: 100%|████████████████████████████████████████████| 1600/1600 [00:05<00:00, 305.07it/s]\n",
      "Epoch 78/300:   0%|                                   | 0/1600 [00:01<?, ?it/s, loss (batch)=0.0499]"
     ]
    },
    {
     "name": "stdout",
     "output_type": "stream",
     "text": [
      "ECG-SEQ-LAB - INFO - Train step_540: loss : 0.04985193535685539\n"
     ]
    },
    {
     "name": "stderr",
     "output_type": "stream",
     "text": [
      "Epoch 78/300:  96%|█████████████████████ | 1536/1600 [00:01<00:00, 1255.85it/s, loss (batch)=0.0499]"
     ]
    },
    {
     "name": "stdout",
     "output_type": "stream",
     "text": [
      "QRS_acc: 0.9523\n",
      "Scoring complete.\n",
      "QRS_acc: 0.8945\n",
      "Scoring complete.\n",
      "ECG-SEQ-LAB - INFO - \n",
      "Train epoch_78:\n",
      "--------------------\n",
      "train/epoch_loss:        0.34351880475878716\n",
      "train/qrs_score:         0.9523\n",
      "\n",
      "test/qrs_score:          0.8945\n",
      "---------------------------------\n",
      "\n",
      "ECG-SEQ-LAB - INFO - Checkpoint 78 saved!\n"
     ]
    },
    {
     "name": "stderr",
     "output_type": "stream",
     "text": [
      "Epoch 78/300: 100%|███████████████████████| 1600/1600 [00:05<00:00, 313.96it/s, loss (batch)=0.0499]\n",
      "Epoch 79/300:  96%|█████████████████████████████████████████▎ | 1536/1600 [00:01<00:00, 1251.74it/s]"
     ]
    },
    {
     "name": "stdout",
     "output_type": "stream",
     "text": [
      "QRS_acc: 0.9522\n",
      "Scoring complete.\n",
      "QRS_acc: 0.8903\n",
      "Scoring complete.\n",
      "ECG-SEQ-LAB - INFO - \n",
      "Train epoch_79:\n",
      "--------------------\n",
      "train/epoch_loss:        0.3376132547855377\n",
      "train/qrs_score:         0.9522\n",
      "\n",
      "test/qrs_score:          0.8903\n",
      "---------------------------------\n",
      "\n",
      "ECG-SEQ-LAB - INFO - Checkpoint 79 saved!\n"
     ]
    },
    {
     "name": "stderr",
     "output_type": "stream",
     "text": [
      "Epoch 79/300: 100%|████████████████████████████████████████████| 1600/1600 [00:05<00:00, 318.52it/s]\n",
      "Epoch 80/300:  96%|█████████████████████ | 1536/1600 [00:01<00:00, 1243.90it/s, loss (batch)=0.0464]"
     ]
    },
    {
     "name": "stdout",
     "output_type": "stream",
     "text": [
      "ECG-SEQ-LAB - INFO - Train step_560: loss : 0.04640708491206169\n",
      "QRS_acc: 0.9562\n",
      "Scoring complete.\n",
      "QRS_acc: 0.9\n",
      "Scoring complete.\n",
      "ECG-SEQ-LAB - INFO - \n",
      "Train epoch_80:\n",
      "--------------------\n",
      "train/epoch_loss:        0.32561690732836723\n",
      "train/qrs_score:         0.9562\n",
      "\n",
      "test/qrs_score:          0.9\n",
      "---------------------------------\n",
      "\n",
      "ECG-SEQ-LAB - INFO - Checkpoint 80 saved!\n"
     ]
    },
    {
     "name": "stderr",
     "output_type": "stream",
     "text": [
      "Epoch 80/300: 100%|███████████████████████| 1600/1600 [00:05<00:00, 310.28it/s, loss (batch)=0.0464]\n",
      "Epoch 81/300:  96%|█████████████████████████████████████████▎ | 1536/1600 [00:01<00:00, 1238.40it/s]"
     ]
    },
    {
     "name": "stdout",
     "output_type": "stream",
     "text": [
      "QRS_acc: 0.9492\n",
      "Scoring complete.\n",
      "QRS_acc: 0.8795\n",
      "Scoring complete.\n",
      "ECG-SEQ-LAB - INFO - \n",
      "Train epoch_81:\n",
      "--------------------\n",
      "train/epoch_loss:        0.3170858509838581\n",
      "train/qrs_score:         0.9492\n",
      "\n",
      "test/qrs_score:          0.8795\n",
      "---------------------------------\n",
      "\n",
      "ECG-SEQ-LAB - INFO - Checkpoint 81 saved!\n"
     ]
    },
    {
     "name": "stderr",
     "output_type": "stream",
     "text": [
      "Epoch 81/300: 100%|████████████████████████████████████████████| 1600/1600 [00:05<00:00, 314.97it/s]\n",
      "Epoch 82/300:  96%|█████████████████████████████████████████▎ | 1536/1600 [00:01<00:00, 1246.88it/s]"
     ]
    },
    {
     "name": "stdout",
     "output_type": "stream",
     "text": [
      "QRS_acc: 0.9516\n",
      "Scoring complete.\n",
      "QRS_acc: 0.8822\n",
      "Scoring complete.\n",
      "ECG-SEQ-LAB - INFO - \n",
      "Train epoch_82:\n",
      "--------------------\n",
      "train/epoch_loss:        0.32363999634981155\n",
      "train/qrs_score:         0.9516\n",
      "\n",
      "test/qrs_score:          0.8822\n",
      "---------------------------------\n",
      "\n",
      "ECG-SEQ-LAB - INFO - Checkpoint 82 saved!\n"
     ]
    },
    {
     "name": "stderr",
     "output_type": "stream",
     "text": [
      "Epoch 82/300: 100%|████████████████████████████████████████████| 1600/1600 [00:05<00:00, 319.68it/s]\n",
      "Epoch 83/300:  80%|█████████████████▌    | 1280/1600 [00:01<00:00, 1094.86it/s, loss (batch)=0.0443]"
     ]
    },
    {
     "name": "stdout",
     "output_type": "stream",
     "text": [
      "ECG-SEQ-LAB - INFO - Train step_580: loss : 0.04433397948741913\n"
     ]
    },
    {
     "name": "stderr",
     "output_type": "stream",
     "text": [
      "\r",
      "Epoch 83/300:  96%|█████████████████████ | 1536/1600 [00:01<00:00, 1239.66it/s, loss (batch)=0.0443]"
     ]
    },
    {
     "name": "stdout",
     "output_type": "stream",
     "text": [
      "QRS_acc: 0.9536\n",
      "Scoring complete.\n",
      "QRS_acc: 0.8922\n",
      "Scoring complete.\n",
      "ECG-SEQ-LAB - INFO - \n",
      "Train epoch_83:\n",
      "--------------------\n",
      "train/epoch_loss:        0.32015228644013405\n",
      "train/qrs_score:         0.9536\n",
      "\n",
      "test/qrs_score:          0.8922\n",
      "---------------------------------\n",
      "\n",
      "ECG-SEQ-LAB - INFO - Checkpoint 83 saved!\n"
     ]
    },
    {
     "name": "stderr",
     "output_type": "stream",
     "text": [
      "Epoch 83/300: 100%|███████████████████████| 1600/1600 [00:05<00:00, 308.69it/s, loss (batch)=0.0443]\n",
      "Epoch 84/300:  96%|█████████████████████████████████████████▎ | 1536/1600 [00:01<00:00, 1249.76it/s]"
     ]
    },
    {
     "name": "stdout",
     "output_type": "stream",
     "text": [
      "QRS_acc: 0.9548\n",
      "Scoring complete.\n",
      "QRS_acc: 0.897\n",
      "Scoring complete.\n",
      "ECG-SEQ-LAB - INFO - \n",
      "Train epoch_84:\n",
      "--------------------\n",
      "train/epoch_loss:        0.31153692677617073\n",
      "train/qrs_score:         0.9548\n",
      "\n",
      "test/qrs_score:          0.897\n",
      "---------------------------------\n",
      "\n",
      "ECG-SEQ-LAB - INFO - Checkpoint 84 saved!\n"
     ]
    },
    {
     "name": "stderr",
     "output_type": "stream",
     "text": [
      "Epoch 84/300: 100%|████████████████████████████████████████████| 1600/1600 [00:05<00:00, 316.69it/s]\n",
      "Epoch 85/300:  96%|█████████████████████████████████████████▎ | 1536/1600 [00:01<00:00, 1249.40it/s]"
     ]
    },
    {
     "name": "stdout",
     "output_type": "stream",
     "text": [
      "QRS_acc: 0.9589\n",
      "Scoring complete.\n",
      "QRS_acc: 0.9038\n",
      "Scoring complete.\n",
      "ECG-SEQ-LAB - INFO - \n",
      "Train epoch_85:\n",
      "--------------------\n",
      "train/epoch_loss:        0.31842320412397385\n",
      "train/qrs_score:         0.9589\n",
      "\n",
      "test/qrs_score:          0.9038\n",
      "---------------------------------\n",
      "\n",
      "ECG-SEQ-LAB - INFO - Checkpoint 85 saved!\n"
     ]
    },
    {
     "name": "stderr",
     "output_type": "stream",
     "text": [
      "Epoch 85/300: 100%|████████████████████████████████████████████| 1600/1600 [00:05<00:00, 316.45it/s]\n",
      "Epoch 86/300:  64%|██████████████▋        | 1024/1600 [00:01<00:00, 865.69it/s, loss (batch)=0.0436]"
     ]
    },
    {
     "name": "stdout",
     "output_type": "stream",
     "text": [
      "ECG-SEQ-LAB - INFO - Train step_600: loss : 0.043637700378894806\n"
     ]
    },
    {
     "name": "stderr",
     "output_type": "stream",
     "text": [
      "Epoch 86/300:  96%|█████████████████████ | 1536/1600 [00:01<00:00, 1216.02it/s, loss (batch)=0.0436]"
     ]
    },
    {
     "name": "stdout",
     "output_type": "stream",
     "text": [
      "QRS_acc: 0.9568\n",
      "Scoring complete.\n",
      "QRS_acc: 0.8998\n",
      "Scoring complete.\n",
      "ECG-SEQ-LAB - INFO - \n",
      "Train epoch_86:\n",
      "--------------------\n",
      "train/epoch_loss:        0.3087124787271023\n",
      "train/qrs_score:         0.9568\n",
      "\n",
      "test/qrs_score:          0.8998\n",
      "---------------------------------\n",
      "\n",
      "ECG-SEQ-LAB - INFO - Checkpoint 86 saved!\n"
     ]
    },
    {
     "name": "stderr",
     "output_type": "stream",
     "text": [
      "Epoch 86/300: 100%|███████████████████████| 1600/1600 [00:05<00:00, 306.73it/s, loss (batch)=0.0436]\n",
      "Epoch 87/300:  96%|█████████████████████████████████████████▎ | 1536/1600 [00:01<00:00, 1247.65it/s]"
     ]
    },
    {
     "name": "stdout",
     "output_type": "stream",
     "text": [
      "QRS_acc: 0.9553\n",
      "Scoring complete.\n",
      "QRS_acc: 0.9028\n",
      "Scoring complete.\n",
      "ECG-SEQ-LAB - INFO - \n",
      "Train epoch_87:\n",
      "--------------------\n",
      "train/epoch_loss:        0.31105174869298935\n",
      "train/qrs_score:         0.9553\n",
      "\n",
      "test/qrs_score:          0.9028\n",
      "---------------------------------\n",
      "\n",
      "ECG-SEQ-LAB - INFO - Checkpoint 87 saved!\n"
     ]
    },
    {
     "name": "stderr",
     "output_type": "stream",
     "text": [
      "Epoch 87/300: 100%|████████████████████████████████████████████| 1600/1600 [00:05<00:00, 316.88it/s]\n",
      "Epoch 88/300:  96%|█████████████████████████████████████████▎ | 1536/1600 [00:01<00:00, 1229.38it/s]"
     ]
    },
    {
     "name": "stdout",
     "output_type": "stream",
     "text": [
      "QRS_acc: 0.9594\n",
      "Scoring complete.\n",
      "QRS_acc: 0.9042\n",
      "Scoring complete.\n",
      "ECG-SEQ-LAB - INFO - \n",
      "Train epoch_88:\n",
      "--------------------\n",
      "train/epoch_loss:        0.3134983517229557\n",
      "train/qrs_score:         0.9594\n",
      "\n",
      "test/qrs_score:          0.9042\n",
      "---------------------------------\n",
      "\n",
      "ECG-SEQ-LAB - INFO - Checkpoint 88 saved!\n"
     ]
    },
    {
     "name": "stderr",
     "output_type": "stream",
     "text": [
      "Epoch 88/300: 100%|████████████████████████████████████████████| 1600/1600 [00:05<00:00, 313.31it/s]\n",
      "Epoch 89/300:  48%|███████████▌            | 768/1600 [00:01<00:01, 627.77it/s, loss (batch)=0.0436]"
     ]
    },
    {
     "name": "stdout",
     "output_type": "stream",
     "text": [
      "ECG-SEQ-LAB - INFO - Train step_620: loss : 0.043621502816677094\n"
     ]
    },
    {
     "name": "stderr",
     "output_type": "stream",
     "text": [
      "Epoch 89/300:  96%|█████████████████████ | 1536/1600 [00:01<00:00, 1194.85it/s, loss (batch)=0.0436]"
     ]
    },
    {
     "name": "stdout",
     "output_type": "stream",
     "text": [
      "QRS_acc: 0.9569\n",
      "Scoring complete.\n",
      "QRS_acc: 0.8952\n",
      "Scoring complete.\n",
      "ECG-SEQ-LAB - INFO - \n",
      "Train epoch_89:\n",
      "--------------------\n",
      "train/epoch_loss:        0.3039245940744877\n",
      "train/qrs_score:         0.9569\n",
      "\n",
      "test/qrs_score:          0.8952\n",
      "---------------------------------\n",
      "\n",
      "ECG-SEQ-LAB - INFO - Checkpoint 89 saved!\n"
     ]
    },
    {
     "name": "stderr",
     "output_type": "stream",
     "text": [
      "Epoch 89/300: 100%|███████████████████████| 1600/1600 [00:05<00:00, 313.56it/s, loss (batch)=0.0436]\n",
      "Epoch 90/300:  96%|█████████████████████████████████████████▎ | 1536/1600 [00:01<00:00, 1261.21it/s]"
     ]
    },
    {
     "name": "stdout",
     "output_type": "stream",
     "text": [
      "QRS_acc: 0.9602\n",
      "Scoring complete.\n",
      "QRS_acc: 0.8925\n",
      "Scoring complete.\n",
      "ECG-SEQ-LAB - INFO - \n",
      "Train epoch_90:\n",
      "--------------------\n",
      "train/epoch_loss:        0.303020965307951\n",
      "train/qrs_score:         0.9602\n",
      "\n",
      "test/qrs_score:          0.8925\n",
      "---------------------------------\n",
      "\n",
      "ECG-SEQ-LAB - INFO - Checkpoint 90 saved!\n"
     ]
    },
    {
     "name": "stderr",
     "output_type": "stream",
     "text": [
      "Epoch 90/300: 100%|████████████████████████████████████████████| 1600/1600 [00:05<00:00, 312.59it/s]\n",
      "Epoch 91/300:  96%|█████████████████████████████████████████▎ | 1536/1600 [00:01<00:00, 1243.08it/s]"
     ]
    },
    {
     "name": "stdout",
     "output_type": "stream",
     "text": [
      "QRS_acc: 0.961\n",
      "Scoring complete.\n",
      "QRS_acc: 0.8952\n",
      "Scoring complete.\n",
      "ECG-SEQ-LAB - INFO - \n",
      "Train epoch_91:\n",
      "--------------------\n",
      "train/epoch_loss:        0.303755059838295\n",
      "train/qrs_score:         0.961\n",
      "\n",
      "test/qrs_score:          0.8952\n",
      "---------------------------------\n",
      "\n",
      "ECG-SEQ-LAB - INFO - Checkpoint 91 saved!\n"
     ]
    },
    {
     "name": "stderr",
     "output_type": "stream",
     "text": [
      "Epoch 91/300: 100%|████████████████████████████████████████████| 1600/1600 [00:05<00:00, 316.87it/s]\n",
      "Epoch 92/300:  32%|███████▋                | 512/1600 [00:01<00:02, 441.54it/s, loss (batch)=0.0441]"
     ]
    },
    {
     "name": "stdout",
     "output_type": "stream",
     "text": [
      "ECG-SEQ-LAB - INFO - Train step_640: loss : 0.04408165439963341\n"
     ]
    },
    {
     "name": "stderr",
     "output_type": "stream",
     "text": [
      "Epoch 92/300:  96%|█████████████████████ | 1536/1600 [00:01<00:00, 1237.99it/s, loss (batch)=0.0441]"
     ]
    },
    {
     "name": "stdout",
     "output_type": "stream",
     "text": [
      "QRS_acc: 0.9568\n",
      "Scoring complete.\n",
      "QRS_acc: 0.89\n",
      "Scoring complete.\n",
      "ECG-SEQ-LAB - INFO - \n",
      "Train epoch_92:\n",
      "--------------------\n",
      "train/epoch_loss:        0.2949639596045017\n",
      "train/qrs_score:         0.9568\n",
      "\n",
      "test/qrs_score:          0.89\n",
      "---------------------------------\n",
      "\n",
      "ECG-SEQ-LAB - INFO - Checkpoint 92 saved!\n"
     ]
    },
    {
     "name": "stderr",
     "output_type": "stream",
     "text": [
      "Epoch 92/300: 100%|███████████████████████| 1600/1600 [00:05<00:00, 315.21it/s, loss (batch)=0.0441]\n",
      "Epoch 93/300:  96%|█████████████████████████████████████████▎ | 1536/1600 [00:01<00:00, 1233.27it/s]"
     ]
    },
    {
     "name": "stdout",
     "output_type": "stream",
     "text": [
      "QRS_acc: 0.9611\n",
      "Scoring complete.\n",
      "QRS_acc: 0.9008\n",
      "Scoring complete.\n",
      "ECG-SEQ-LAB - INFO - \n",
      "Train epoch_93:\n",
      "--------------------\n",
      "train/epoch_loss:        0.2940880171954632\n",
      "train/qrs_score:         0.9611\n",
      "\n",
      "test/qrs_score:          0.9008\n",
      "---------------------------------\n",
      "\n",
      "ECG-SEQ-LAB - INFO - Checkpoint 93 saved!\n"
     ]
    },
    {
     "name": "stderr",
     "output_type": "stream",
     "text": [
      "Epoch 93/300: 100%|████████████████████████████████████████████| 1600/1600 [00:05<00:00, 309.30it/s]\n",
      "Epoch 94/300:  96%|█████████████████████████████████████████▎ | 1536/1600 [00:01<00:00, 1252.08it/s]"
     ]
    },
    {
     "name": "stdout",
     "output_type": "stream",
     "text": [
      "QRS_acc: 0.9618\n",
      "Scoring complete.\n",
      "QRS_acc: 0.897\n",
      "Scoring complete.\n",
      "ECG-SEQ-LAB - INFO - \n",
      "Train epoch_94:\n",
      "--------------------\n",
      "train/epoch_loss:        0.2956944555044174\n",
      "train/qrs_score:         0.9618\n",
      "\n",
      "test/qrs_score:          0.897\n",
      "---------------------------------\n",
      "\n",
      "ECG-SEQ-LAB - INFO - Checkpoint 94 saved!\n"
     ]
    },
    {
     "name": "stderr",
     "output_type": "stream",
     "text": [
      "Epoch 94/300: 100%|████████████████████████████████████████████| 1600/1600 [00:05<00:00, 315.56it/s]\n",
      "Epoch 95/300:  16%|███▊                    | 256/1600 [00:01<00:06, 208.25it/s, loss (batch)=0.0416]"
     ]
    },
    {
     "name": "stdout",
     "output_type": "stream",
     "text": [
      "ECG-SEQ-LAB - INFO - Train step_660: loss : 0.041619740426540375\n"
     ]
    },
    {
     "name": "stderr",
     "output_type": "stream",
     "text": [
      "Epoch 95/300:  96%|█████████████████████ | 1536/1600 [00:01<00:00, 1230.88it/s, loss (batch)=0.0416]"
     ]
    },
    {
     "name": "stdout",
     "output_type": "stream",
     "text": [
      "QRS_acc: 0.9637\n",
      "Scoring complete.\n",
      "QRS_acc: 0.8968\n",
      "Scoring complete.\n",
      "ECG-SEQ-LAB - INFO - \n",
      "Train epoch_95:\n",
      "--------------------\n",
      "train/epoch_loss:        0.2832095995545387\n",
      "train/qrs_score:         0.9637\n",
      "\n",
      "test/qrs_score:          0.8968\n",
      "---------------------------------\n",
      "\n",
      "ECG-SEQ-LAB - INFO - Checkpoint 95 saved!\n"
     ]
    },
    {
     "name": "stderr",
     "output_type": "stream",
     "text": [
      "Epoch 95/300: 100%|███████████████████████| 1600/1600 [00:05<00:00, 313.53it/s, loss (batch)=0.0416]\n",
      "Epoch 96/300:  96%|█████████████████████████████████████████▎ | 1536/1600 [00:01<00:00, 1240.46it/s]"
     ]
    },
    {
     "name": "stdout",
     "output_type": "stream",
     "text": [
      "QRS_acc: 0.9611\n",
      "Scoring complete.\n",
      "QRS_acc: 0.9015\n",
      "Scoring complete.\n",
      "ECG-SEQ-LAB - INFO - \n",
      "Train epoch_96:\n",
      "--------------------\n",
      "train/epoch_loss:        0.28165334835648537\n",
      "train/qrs_score:         0.9611\n",
      "\n",
      "test/qrs_score:          0.9015\n",
      "---------------------------------\n",
      "\n",
      "ECG-SEQ-LAB - INFO - Checkpoint 96 saved!\n"
     ]
    },
    {
     "name": "stderr",
     "output_type": "stream",
     "text": [
      "Epoch 96/300: 100%|████████████████████████████████████████████| 1600/1600 [00:05<00:00, 317.08it/s]\n",
      "Epoch 97/300:  96%|█████████████████████████████████████████▎ | 1536/1600 [00:01<00:00, 1250.90it/s]"
     ]
    },
    {
     "name": "stdout",
     "output_type": "stream",
     "text": [
      "QRS_acc: 0.964\n",
      "Scoring complete.\n",
      "QRS_acc: 0.8958\n",
      "Scoring complete.\n",
      "ECG-SEQ-LAB - INFO - \n",
      "Train epoch_97:\n",
      "--------------------\n",
      "train/epoch_loss:        0.2756282575428486\n",
      "train/qrs_score:         0.964\n",
      "\n",
      "test/qrs_score:          0.8958\n",
      "---------------------------------\n",
      "\n",
      "ECG-SEQ-LAB - INFO - Checkpoint 97 saved!\n"
     ]
    },
    {
     "name": "stderr",
     "output_type": "stream",
     "text": [
      "Epoch 97/300: 100%|████████████████████████████████████████████| 1600/1600 [00:05<00:00, 317.77it/s]\n",
      "Epoch 98/300:   0%|                                   | 0/1600 [00:01<?, ?it/s, loss (batch)=0.0429]"
     ]
    },
    {
     "name": "stdout",
     "output_type": "stream",
     "text": [
      "ECG-SEQ-LAB - INFO - Train step_680: loss : 0.04292602837085724\n"
     ]
    },
    {
     "name": "stderr",
     "output_type": "stream",
     "text": [
      "Epoch 98/300:  96%|█████████████████████ | 1536/1600 [00:02<00:00, 1219.28it/s, loss (batch)=0.0429]"
     ]
    },
    {
     "name": "stdout",
     "output_type": "stream",
     "text": [
      "QRS_acc: 0.9661\n",
      "Scoring complete.\n",
      "QRS_acc: 0.8955\n",
      "Scoring complete.\n",
      "ECG-SEQ-LAB - INFO - \n",
      "Train epoch_98:\n",
      "--------------------\n",
      "train/epoch_loss:        0.27960367500782013\n",
      "train/qrs_score:         0.9661\n",
      "\n",
      "test/qrs_score:          0.8955\n",
      "---------------------------------\n",
      "\n",
      "ECG-SEQ-LAB - INFO - Checkpoint 98 saved!\n"
     ]
    },
    {
     "name": "stderr",
     "output_type": "stream",
     "text": [
      "Epoch 98/300: 100%|███████████████████████| 1600/1600 [00:05<00:00, 308.80it/s, loss (batch)=0.0429]\n",
      "Epoch 99/300:  96%|█████████████████████████████████████████▎ | 1536/1600 [00:01<00:00, 1250.64it/s]"
     ]
    },
    {
     "name": "stdout",
     "output_type": "stream",
     "text": [
      "QRS_acc: 0.961\n",
      "Scoring complete.\n",
      "QRS_acc: 0.8895\n",
      "Scoring complete.\n",
      "ECG-SEQ-LAB - INFO - \n",
      "Train epoch_99:\n",
      "--------------------\n",
      "train/epoch_loss:        0.2732611782848835\n",
      "train/qrs_score:         0.961\n",
      "\n",
      "test/qrs_score:          0.8895\n",
      "---------------------------------\n",
      "\n",
      "ECG-SEQ-LAB - INFO - Checkpoint 99 saved!\n"
     ]
    },
    {
     "name": "stderr",
     "output_type": "stream",
     "text": [
      "Epoch 99/300: 100%|████████████████████████████████████████████| 1600/1600 [00:05<00:00, 316.05it/s]\n",
      "Epoch 100/300:  96%|████████████████████▏| 1536/1600 [00:01<00:00, 1253.68it/s, loss (batch)=0.0395]"
     ]
    },
    {
     "name": "stdout",
     "output_type": "stream",
     "text": [
      "ECG-SEQ-LAB - INFO - Train step_700: loss : 0.039532620459795\n",
      "QRS_acc: 0.9665\n",
      "Scoring complete.\n",
      "QRS_acc: 0.9075\n",
      "Scoring complete.\n",
      "ECG-SEQ-LAB - INFO - \n",
      "Train epoch_100:\n",
      "--------------------\n",
      "train/epoch_loss:        0.27621085941791534\n",
      "train/qrs_score:         0.9665\n",
      "\n",
      "test/qrs_score:          0.9075\n",
      "---------------------------------\n",
      "\n",
      "ECG-SEQ-LAB - INFO - Checkpoint 100 saved!\n"
     ]
    },
    {
     "name": "stderr",
     "output_type": "stream",
     "text": [
      "Epoch 100/300: 100%|██████████████████████| 1600/1600 [00:05<00:00, 316.27it/s, loss (batch)=0.0395]\n",
      "Epoch 101/300:  96%|████████████████████████████████████████▎ | 1536/1600 [00:01<00:00, 1224.11it/s]"
     ]
    },
    {
     "name": "stdout",
     "output_type": "stream",
     "text": [
      "QRS_acc: 0.9632\n",
      "Scoring complete.\n",
      "QRS_acc: 0.898\n",
      "Scoring complete.\n",
      "ECG-SEQ-LAB - INFO - \n",
      "Train epoch_101:\n",
      "--------------------\n",
      "train/epoch_loss:        0.27169908583164215\n",
      "train/qrs_score:         0.9632\n",
      "\n",
      "test/qrs_score:          0.898\n",
      "---------------------------------\n",
      "\n",
      "ECG-SEQ-LAB - INFO - Checkpoint 101 saved!\n"
     ]
    },
    {
     "name": "stderr",
     "output_type": "stream",
     "text": [
      "Epoch 101/300: 100%|███████████████████████████████████████████| 1600/1600 [00:05<00:00, 313.75it/s]\n",
      "Epoch 102/300:  96%|████████████████████████████████████████▎ | 1536/1600 [00:01<00:00, 1245.16it/s]"
     ]
    },
    {
     "name": "stdout",
     "output_type": "stream",
     "text": [
      "QRS_acc: 0.9684\n",
      "Scoring complete.\n",
      "QRS_acc: 0.9028\n",
      "Scoring complete.\n",
      "ECG-SEQ-LAB - INFO - \n",
      "Train epoch_102:\n",
      "--------------------\n",
      "train/epoch_loss:        0.2733906880021095\n",
      "train/qrs_score:         0.9684\n",
      "\n",
      "test/qrs_score:          0.9028\n",
      "---------------------------------\n",
      "\n",
      "ECG-SEQ-LAB - INFO - Checkpoint 102 saved!\n"
     ]
    },
    {
     "name": "stderr",
     "output_type": "stream",
     "text": [
      "Epoch 102/300: 100%|███████████████████████████████████████████| 1600/1600 [00:05<00:00, 316.34it/s]\n",
      "Epoch 103/300:  80%|████████████████▊    | 1280/1600 [00:01<00:00, 1072.32it/s, loss (batch)=0.0401]"
     ]
    },
    {
     "name": "stdout",
     "output_type": "stream",
     "text": [
      "ECG-SEQ-LAB - INFO - Train step_720: loss : 0.0401357039809227\n"
     ]
    },
    {
     "name": "stderr",
     "output_type": "stream",
     "text": [
      "\r",
      "Epoch 103/300:  96%|████████████████████▏| 1536/1600 [00:01<00:00, 1224.34it/s, loss (batch)=0.0401]"
     ]
    },
    {
     "name": "stdout",
     "output_type": "stream",
     "text": [
      "QRS_acc: 0.964\n",
      "Scoring complete.\n",
      "QRS_acc: 0.9018\n",
      "Scoring complete.\n",
      "ECG-SEQ-LAB - INFO - \n",
      "Train epoch_103:\n",
      "--------------------\n",
      "train/epoch_loss:        0.2735677435994148\n",
      "train/qrs_score:         0.964\n",
      "\n",
      "test/qrs_score:          0.9018\n",
      "---------------------------------\n",
      "\n",
      "ECG-SEQ-LAB - INFO - Checkpoint 103 saved!\n"
     ]
    },
    {
     "name": "stderr",
     "output_type": "stream",
     "text": [
      "Epoch 103/300: 100%|██████████████████████| 1600/1600 [00:05<00:00, 309.94it/s, loss (batch)=0.0401]\n",
      "Epoch 104/300:  96%|████████████████████████████████████████▎ | 1536/1600 [00:01<00:00, 1236.34it/s]"
     ]
    },
    {
     "name": "stdout",
     "output_type": "stream",
     "text": [
      "QRS_acc: 0.9622\n",
      "Scoring complete.\n",
      "QRS_acc: 0.9035\n",
      "Scoring complete.\n",
      "ECG-SEQ-LAB - INFO - \n",
      "Train epoch_104:\n",
      "--------------------\n",
      "train/epoch_loss:        0.2735325060784817\n",
      "train/qrs_score:         0.9622\n",
      "\n",
      "test/qrs_score:          0.9035\n",
      "---------------------------------\n",
      "\n",
      "ECG-SEQ-LAB - INFO - Checkpoint 104 saved!\n"
     ]
    },
    {
     "name": "stderr",
     "output_type": "stream",
     "text": [
      "Epoch 104/300: 100%|███████████████████████████████████████████| 1600/1600 [00:05<00:00, 316.21it/s]\n",
      "Epoch 105/300:  96%|████████████████████████████████████████▎ | 1536/1600 [00:01<00:00, 1245.89it/s]"
     ]
    },
    {
     "name": "stdout",
     "output_type": "stream",
     "text": [
      "QRS_acc: 0.9651\n",
      "Scoring complete.\n",
      "QRS_acc: 0.8995\n",
      "Scoring complete.\n",
      "ECG-SEQ-LAB - INFO - \n",
      "Train epoch_105:\n",
      "--------------------\n",
      "train/epoch_loss:        0.2620789185166359\n",
      "train/qrs_score:         0.9651\n",
      "\n",
      "test/qrs_score:          0.8995\n",
      "---------------------------------\n",
      "\n",
      "ECG-SEQ-LAB - INFO - Checkpoint 105 saved!\n"
     ]
    },
    {
     "name": "stderr",
     "output_type": "stream",
     "text": [
      "Epoch 105/300: 100%|███████████████████████████████████████████| 1600/1600 [00:05<00:00, 314.65it/s]\n",
      "Epoch 106/300:  64%|██████████████        | 1024/1600 [00:01<00:00, 892.91it/s, loss (batch)=0.0364]"
     ]
    },
    {
     "name": "stdout",
     "output_type": "stream",
     "text": [
      "ECG-SEQ-LAB - INFO - Train step_740: loss : 0.036436162889003754\n"
     ]
    },
    {
     "name": "stderr",
     "output_type": "stream",
     "text": [
      "Epoch 106/300:  96%|████████████████████▏| 1536/1600 [00:01<00:00, 1237.41it/s, loss (batch)=0.0364]"
     ]
    },
    {
     "name": "stdout",
     "output_type": "stream",
     "text": [
      "QRS_acc: 0.9557\n",
      "Scoring complete.\n",
      "QRS_acc: 0.8735\n",
      "Scoring complete.\n",
      "ECG-SEQ-LAB - INFO - \n",
      "Train epoch_106:\n",
      "--------------------\n",
      "train/epoch_loss:        0.26287463679909706\n",
      "train/qrs_score:         0.9557\n",
      "\n",
      "test/qrs_score:          0.8735\n",
      "---------------------------------\n",
      "\n",
      "ECG-SEQ-LAB - INFO - Checkpoint 106 saved!\n"
     ]
    },
    {
     "name": "stderr",
     "output_type": "stream",
     "text": [
      "Epoch 106/300: 100%|██████████████████████| 1600/1600 [00:05<00:00, 313.17it/s, loss (batch)=0.0364]\n",
      "Epoch 107/300:  96%|████████████████████████████████████████▎ | 1536/1600 [00:01<00:00, 1249.42it/s]"
     ]
    },
    {
     "name": "stdout",
     "output_type": "stream",
     "text": [
      "QRS_acc: 0.9663\n",
      "Scoring complete.\n",
      "QRS_acc: 0.9028\n",
      "Scoring complete.\n",
      "ECG-SEQ-LAB - INFO - \n",
      "Train epoch_107:\n",
      "--------------------\n",
      "train/epoch_loss:        0.2629959359765053\n",
      "train/qrs_score:         0.9663\n",
      "\n",
      "test/qrs_score:          0.9028\n",
      "---------------------------------\n",
      "\n",
      "ECG-SEQ-LAB - INFO - Checkpoint 107 saved!\n"
     ]
    },
    {
     "name": "stderr",
     "output_type": "stream",
     "text": [
      "Epoch 107/300: 100%|███████████████████████████████████████████| 1600/1600 [00:05<00:00, 314.20it/s]\n",
      "Epoch 108/300:  96%|████████████████████████████████████████▎ | 1536/1600 [00:01<00:00, 1255.08it/s]"
     ]
    },
    {
     "name": "stdout",
     "output_type": "stream",
     "text": [
      "QRS_acc: 0.9684\n",
      "Scoring complete.\n",
      "QRS_acc: 0.8935\n",
      "Scoring complete.\n",
      "ECG-SEQ-LAB - INFO - \n",
      "Train epoch_108:\n",
      "--------------------\n",
      "train/epoch_loss:        0.26306258887052536\n",
      "train/qrs_score:         0.9684\n",
      "\n",
      "test/qrs_score:          0.8935\n",
      "---------------------------------\n",
      "\n",
      "ECG-SEQ-LAB - INFO - Checkpoint 108 saved!\n"
     ]
    },
    {
     "name": "stderr",
     "output_type": "stream",
     "text": [
      "Epoch 108/300: 100%|███████████████████████████████████████████| 1600/1600 [00:05<00:00, 316.72it/s]\n",
      "Epoch 109/300:  48%|███████████            | 768/1600 [00:01<00:01, 649.66it/s, loss (batch)=0.0362]"
     ]
    },
    {
     "name": "stdout",
     "output_type": "stream",
     "text": [
      "ECG-SEQ-LAB - INFO - Train step_760: loss : 0.036195218563079834\n"
     ]
    },
    {
     "name": "stderr",
     "output_type": "stream",
     "text": [
      "Epoch 109/300:  96%|████████████████████▏| 1536/1600 [00:01<00:00, 1221.15it/s, loss (batch)=0.0362]"
     ]
    },
    {
     "name": "stdout",
     "output_type": "stream",
     "text": [
      "QRS_acc: 0.9704\n",
      "Scoring complete.\n",
      "QRS_acc: 0.9038\n",
      "Scoring complete.\n",
      "ECG-SEQ-LAB - INFO - \n",
      "Train epoch_109:\n",
      "--------------------\n",
      "train/epoch_loss:        0.25542739406228065\n",
      "train/qrs_score:         0.9704\n",
      "\n",
      "test/qrs_score:          0.9038\n",
      "---------------------------------\n",
      "\n",
      "ECG-SEQ-LAB - INFO - Checkpoint 109 saved!\n"
     ]
    },
    {
     "name": "stderr",
     "output_type": "stream",
     "text": [
      "Epoch 109/300: 100%|██████████████████████| 1600/1600 [00:05<00:00, 311.12it/s, loss (batch)=0.0362]\n",
      "Epoch 110/300:  96%|████████████████████████████████████████▎ | 1536/1600 [00:01<00:00, 1242.88it/s]"
     ]
    },
    {
     "name": "stdout",
     "output_type": "stream",
     "text": [
      "QRS_acc: 0.9715\n",
      "Scoring complete.\n",
      "QRS_acc: 0.9038\n",
      "Scoring complete.\n",
      "ECG-SEQ-LAB - INFO - \n",
      "Train epoch_110:\n",
      "--------------------\n",
      "train/epoch_loss:        0.25691479071974754\n",
      "train/qrs_score:         0.9715\n",
      "\n",
      "test/qrs_score:          0.9038\n",
      "---------------------------------\n",
      "\n",
      "ECG-SEQ-LAB - INFO - Checkpoint 110 saved!\n"
     ]
    },
    {
     "name": "stderr",
     "output_type": "stream",
     "text": [
      "Epoch 110/300: 100%|███████████████████████████████████████████| 1600/1600 [00:05<00:00, 314.66it/s]\n",
      "Epoch 111/300:  96%|████████████████████████████████████████▎ | 1536/1600 [00:01<00:00, 1228.46it/s]"
     ]
    },
    {
     "name": "stdout",
     "output_type": "stream",
     "text": [
      "QRS_acc: 0.9679\n",
      "Scoring complete.\n",
      "QRS_acc: 0.8932\n",
      "Scoring complete.\n",
      "ECG-SEQ-LAB - INFO - \n",
      "Train epoch_111:\n",
      "--------------------\n",
      "train/epoch_loss:        0.2571871802210808\n",
      "train/qrs_score:         0.9679\n",
      "\n",
      "test/qrs_score:          0.8932\n",
      "---------------------------------\n",
      "\n",
      "ECG-SEQ-LAB - INFO - Checkpoint 111 saved!\n"
     ]
    },
    {
     "name": "stderr",
     "output_type": "stream",
     "text": [
      "Epoch 111/300: 100%|███████████████████████████████████████████| 1600/1600 [00:05<00:00, 312.19it/s]\n",
      "Epoch 112/300:  32%|███████▎               | 512/1600 [00:01<00:02, 445.11it/s, loss (batch)=0.0348]"
     ]
    },
    {
     "name": "stdout",
     "output_type": "stream",
     "text": [
      "ECG-SEQ-LAB - INFO - Train step_780: loss : 0.0347607359290123\n"
     ]
    },
    {
     "name": "stderr",
     "output_type": "stream",
     "text": [
      "Epoch 112/300:  96%|████████████████████▏| 1536/1600 [00:01<00:00, 1243.02it/s, loss (batch)=0.0348]"
     ]
    },
    {
     "name": "stdout",
     "output_type": "stream",
     "text": [
      "QRS_acc: 0.9752\n",
      "Scoring complete.\n",
      "QRS_acc: 0.8998\n",
      "Scoring complete.\n",
      "ECG-SEQ-LAB - INFO - \n",
      "Train epoch_112:\n",
      "--------------------\n",
      "train/epoch_loss:        0.2473238743841648\n",
      "train/qrs_score:         0.9752\n",
      "\n",
      "test/qrs_score:          0.8998\n",
      "---------------------------------\n",
      "\n",
      "ECG-SEQ-LAB - INFO - Checkpoint 112 saved!\n"
     ]
    },
    {
     "name": "stderr",
     "output_type": "stream",
     "text": [
      "Epoch 112/300: 100%|██████████████████████| 1600/1600 [00:05<00:00, 314.30it/s, loss (batch)=0.0348]\n",
      "Epoch 113/300:  96%|████████████████████████████████████████▎ | 1536/1600 [00:01<00:00, 1249.42it/s]"
     ]
    },
    {
     "name": "stdout",
     "output_type": "stream",
     "text": [
      "QRS_acc: 0.9732\n",
      "Scoring complete.\n",
      "QRS_acc: 0.9038\n",
      "Scoring complete.\n",
      "ECG-SEQ-LAB - INFO - \n",
      "Train epoch_113:\n",
      "--------------------\n",
      "train/epoch_loss:        0.2460996713489294\n",
      "train/qrs_score:         0.9732\n",
      "\n",
      "test/qrs_score:          0.9038\n",
      "---------------------------------\n",
      "\n",
      "ECG-SEQ-LAB - INFO - Checkpoint 113 saved!\n"
     ]
    },
    {
     "name": "stderr",
     "output_type": "stream",
     "text": [
      "Epoch 113/300: 100%|███████████████████████████████████████████| 1600/1600 [00:05<00:00, 313.10it/s]\n",
      "Epoch 114/300:  96%|████████████████████████████████████████▎ | 1536/1600 [00:01<00:00, 1244.03it/s]"
     ]
    },
    {
     "name": "stdout",
     "output_type": "stream",
     "text": [
      "QRS_acc: 0.9728\n",
      "Scoring complete.\n",
      "QRS_acc: 0.9048\n",
      "Scoring complete.\n",
      "ECG-SEQ-LAB - INFO - \n",
      "Train epoch_114:\n",
      "--------------------\n",
      "train/epoch_loss:        0.24393172189593315\n",
      "train/qrs_score:         0.9728\n",
      "\n",
      "test/qrs_score:          0.9048\n",
      "---------------------------------\n",
      "\n",
      "ECG-SEQ-LAB - INFO - Checkpoint 114 saved!\n"
     ]
    },
    {
     "name": "stderr",
     "output_type": "stream",
     "text": [
      "Epoch 114/300: 100%|███████████████████████████████████████████| 1600/1600 [00:05<00:00, 317.77it/s]\n",
      "Epoch 115/300:  16%|███▋                   | 256/1600 [00:01<00:06, 213.27it/s, loss (batch)=0.0323]"
     ]
    },
    {
     "name": "stdout",
     "output_type": "stream",
     "text": [
      "ECG-SEQ-LAB - INFO - Train step_800: loss : 0.03234988451004028\n"
     ]
    },
    {
     "name": "stderr",
     "output_type": "stream",
     "text": [
      "Epoch 115/300:  96%|████████████████████▏| 1536/1600 [00:01<00:00, 1240.32it/s, loss (batch)=0.0323]"
     ]
    },
    {
     "name": "stdout",
     "output_type": "stream",
     "text": [
      "QRS_acc: 0.9721\n",
      "Scoring complete.\n",
      "QRS_acc: 0.9095\n",
      "Scoring complete.\n",
      "ECG-SEQ-LAB - INFO - \n",
      "Train epoch_115:\n",
      "--------------------\n",
      "train/epoch_loss:        0.24953089654445648\n",
      "train/qrs_score:         0.9721\n",
      "\n",
      "test/qrs_score:          0.9095\n",
      "---------------------------------\n",
      "\n",
      "ECG-SEQ-LAB - INFO - Checkpoint 115 saved!\n"
     ]
    },
    {
     "name": "stderr",
     "output_type": "stream",
     "text": [
      "Epoch 115/300: 100%|██████████████████████| 1600/1600 [00:05<00:00, 310.62it/s, loss (batch)=0.0323]\n",
      "Epoch 116/300:  96%|████████████████████████████████████████▎ | 1536/1600 [00:01<00:00, 1226.26it/s]"
     ]
    },
    {
     "name": "stdout",
     "output_type": "stream",
     "text": [
      "QRS_acc: 0.9729\n",
      "Scoring complete.\n",
      "QRS_acc: 0.9048\n",
      "Scoring complete.\n",
      "ECG-SEQ-LAB - INFO - \n",
      "Train epoch_116:\n",
      "--------------------\n",
      "train/epoch_loss:        0.2357318252325058\n",
      "train/qrs_score:         0.9729\n",
      "\n",
      "test/qrs_score:          0.9048\n",
      "---------------------------------\n",
      "\n",
      "ECG-SEQ-LAB - INFO - Checkpoint 116 saved!\n"
     ]
    },
    {
     "name": "stderr",
     "output_type": "stream",
     "text": [
      "Epoch 116/300: 100%|███████████████████████████████████████████| 1600/1600 [00:05<00:00, 310.87it/s]\n",
      "Epoch 117/300:  96%|████████████████████████████████████████▎ | 1536/1600 [00:01<00:00, 1231.92it/s]"
     ]
    },
    {
     "name": "stdout",
     "output_type": "stream",
     "text": [
      "QRS_acc: 0.9729\n",
      "Scoring complete.\n",
      "QRS_acc: 0.9055\n",
      "Scoring complete.\n",
      "ECG-SEQ-LAB - INFO - \n",
      "Train epoch_117:\n",
      "--------------------\n",
      "train/epoch_loss:        0.24279462546110153\n",
      "train/qrs_score:         0.9729\n",
      "\n",
      "test/qrs_score:          0.9055\n",
      "---------------------------------\n",
      "\n",
      "ECG-SEQ-LAB - INFO - Checkpoint 117 saved!\n"
     ]
    },
    {
     "name": "stderr",
     "output_type": "stream",
     "text": [
      "Epoch 117/300: 100%|███████████████████████████████████████████| 1600/1600 [00:05<00:00, 308.80it/s]\n",
      "Epoch 118/300:   0%|                                  | 0/1600 [00:01<?, ?it/s, loss (batch)=0.0354]"
     ]
    },
    {
     "name": "stdout",
     "output_type": "stream",
     "text": [
      "ECG-SEQ-LAB - INFO - Train step_820: loss : 0.03543135151267052\n"
     ]
    },
    {
     "name": "stderr",
     "output_type": "stream",
     "text": [
      "Epoch 118/300:  96%|████████████████████▏| 1536/1600 [00:01<00:00, 1242.95it/s, loss (batch)=0.0354]"
     ]
    },
    {
     "name": "stdout",
     "output_type": "stream",
     "text": [
      "QRS_acc: 0.9718\n",
      "Scoring complete.\n",
      "QRS_acc: 0.8998\n",
      "Scoring complete.\n",
      "ECG-SEQ-LAB - INFO - \n",
      "Train epoch_118:\n",
      "--------------------\n",
      "train/epoch_loss:        0.242051862180233\n",
      "train/qrs_score:         0.9718\n",
      "\n",
      "test/qrs_score:          0.8998\n",
      "---------------------------------\n",
      "\n",
      "ECG-SEQ-LAB - INFO - Checkpoint 118 saved!\n"
     ]
    },
    {
     "name": "stderr",
     "output_type": "stream",
     "text": [
      "Epoch 118/300: 100%|██████████████████████| 1600/1600 [00:05<00:00, 307.89it/s, loss (batch)=0.0354]\n",
      "Epoch 119/300:  96%|████████████████████████████████████████▎ | 1536/1600 [00:02<00:00, 1214.74it/s]"
     ]
    },
    {
     "name": "stdout",
     "output_type": "stream",
     "text": [
      "QRS_acc: 0.9735\n",
      "Scoring complete.\n",
      "QRS_acc: 0.9003\n",
      "Scoring complete.\n",
      "ECG-SEQ-LAB - INFO - \n",
      "Train epoch_119:\n",
      "--------------------\n",
      "train/epoch_loss:        0.2413252331316471\n",
      "train/qrs_score:         0.9735\n",
      "\n",
      "test/qrs_score:          0.9003\n",
      "---------------------------------\n",
      "\n",
      "ECG-SEQ-LAB - INFO - Checkpoint 119 saved!\n"
     ]
    },
    {
     "name": "stderr",
     "output_type": "stream",
     "text": [
      "Epoch 119/300: 100%|███████████████████████████████████████████| 1600/1600 [00:05<00:00, 313.59it/s]\n",
      "Epoch 120/300:  96%|████████████████████▏| 1536/1600 [00:01<00:00, 1241.70it/s, loss (batch)=0.0266]"
     ]
    },
    {
     "name": "stdout",
     "output_type": "stream",
     "text": [
      "ECG-SEQ-LAB - INFO - Train step_840: loss : 0.026574138551950455\n",
      "QRS_acc: 0.9697\n",
      "Scoring complete.\n",
      "QRS_acc: 0.8965\n",
      "Scoring complete.\n",
      "ECG-SEQ-LAB - INFO - \n",
      "Train epoch_120:\n",
      "--------------------\n",
      "train/epoch_loss:        0.22773512452840805\n",
      "train/qrs_score:         0.9697\n",
      "\n",
      "test/qrs_score:          0.8965\n",
      "---------------------------------\n",
      "\n",
      "ECG-SEQ-LAB - INFO - Checkpoint 120 saved!\n"
     ]
    },
    {
     "name": "stderr",
     "output_type": "stream",
     "text": [
      "Epoch 120/300: 100%|██████████████████████| 1600/1600 [00:05<00:00, 311.33it/s, loss (batch)=0.0266]\n",
      "Epoch 121/300:  96%|████████████████████████████████████████▎ | 1536/1600 [00:01<00:00, 1250.55it/s]"
     ]
    },
    {
     "name": "stdout",
     "output_type": "stream",
     "text": [
      "QRS_acc: 0.9677\n",
      "Scoring complete.\n",
      "QRS_acc: 0.8885\n",
      "Scoring complete.\n",
      "ECG-SEQ-LAB - INFO - \n",
      "Train epoch_121:\n",
      "--------------------\n",
      "train/epoch_loss:        0.22707703337073326\n",
      "train/qrs_score:         0.9677\n",
      "\n",
      "test/qrs_score:          0.8885\n",
      "---------------------------------\n",
      "\n",
      "ECG-SEQ-LAB - INFO - Checkpoint 121 saved!\n"
     ]
    },
    {
     "name": "stderr",
     "output_type": "stream",
     "text": [
      "Epoch 121/300: 100%|███████████████████████████████████████████| 1600/1600 [00:04<00:00, 320.07it/s]\n",
      "Epoch 122/300:  96%|████████████████████████████████████████▎ | 1536/1600 [00:01<00:00, 1246.50it/s]"
     ]
    },
    {
     "name": "stdout",
     "output_type": "stream",
     "text": [
      "QRS_acc: 0.9734\n",
      "Scoring complete.\n",
      "QRS_acc: 0.8958\n",
      "Scoring complete.\n",
      "ECG-SEQ-LAB - INFO - \n",
      "Train epoch_122:\n",
      "--------------------\n",
      "train/epoch_loss:        0.2207109946757555\n",
      "train/qrs_score:         0.9734\n",
      "\n",
      "test/qrs_score:          0.8958\n",
      "---------------------------------\n",
      "\n",
      "ECG-SEQ-LAB - INFO - Checkpoint 122 saved!\n"
     ]
    },
    {
     "name": "stderr",
     "output_type": "stream",
     "text": [
      "Epoch 122/300: 100%|███████████████████████████████████████████| 1600/1600 [00:05<00:00, 316.56it/s]\n",
      "Epoch 123/300:  80%|████████████████▊    | 1280/1600 [00:01<00:00, 1086.86it/s, loss (batch)=0.0318]"
     ]
    },
    {
     "name": "stdout",
     "output_type": "stream",
     "text": [
      "ECG-SEQ-LAB - INFO - Train step_860: loss : 0.03182877600193024\n"
     ]
    },
    {
     "name": "stderr",
     "output_type": "stream",
     "text": [
      "\r",
      "Epoch 123/300:  96%|████████████████████▏| 1536/1600 [00:01<00:00, 1237.26it/s, loss (batch)=0.0318]"
     ]
    },
    {
     "name": "stdout",
     "output_type": "stream",
     "text": [
      "QRS_acc: 0.9714\n",
      "Scoring complete.\n",
      "QRS_acc: 0.9058\n",
      "Scoring complete.\n",
      "ECG-SEQ-LAB - INFO - \n",
      "Train epoch_123:\n",
      "--------------------\n",
      "train/epoch_loss:        0.2220772560685873\n",
      "train/qrs_score:         0.9714\n",
      "\n",
      "test/qrs_score:          0.9058\n",
      "---------------------------------\n",
      "\n",
      "ECG-SEQ-LAB - INFO - Checkpoint 123 saved!\n"
     ]
    },
    {
     "name": "stderr",
     "output_type": "stream",
     "text": [
      "Epoch 123/300: 100%|██████████████████████| 1600/1600 [00:05<00:00, 308.29it/s, loss (batch)=0.0318]\n",
      "Epoch 124/300:  96%|████████████████████████████████████████▎ | 1536/1600 [00:02<00:00, 1200.99it/s]"
     ]
    },
    {
     "name": "stdout",
     "output_type": "stream",
     "text": [
      "QRS_acc: 0.9691\n",
      "Scoring complete.\n",
      "QRS_acc: 0.8862\n",
      "Scoring complete.\n",
      "ECG-SEQ-LAB - INFO - \n",
      "Train epoch_124:\n",
      "--------------------\n",
      "train/epoch_loss:        0.21989058144390583\n",
      "train/qrs_score:         0.9691\n",
      "\n",
      "test/qrs_score:          0.8862\n",
      "---------------------------------\n",
      "\n",
      "ECG-SEQ-LAB - INFO - Checkpoint 124 saved!\n"
     ]
    },
    {
     "name": "stderr",
     "output_type": "stream",
     "text": [
      "Epoch 124/300: 100%|███████████████████████████████████████████| 1600/1600 [00:05<00:00, 300.94it/s]\n",
      "Epoch 125/300:  96%|████████████████████████████████████████▎ | 1536/1600 [00:01<00:00, 1249.86it/s]"
     ]
    },
    {
     "name": "stdout",
     "output_type": "stream",
     "text": [
      "QRS_acc: 0.9754\n",
      "Scoring complete.\n",
      "QRS_acc: 0.9043\n",
      "Scoring complete.\n",
      "ECG-SEQ-LAB - INFO - \n",
      "Train epoch_125:\n",
      "--------------------\n",
      "train/epoch_loss:        0.2196457702666521\n",
      "train/qrs_score:         0.9754\n",
      "\n",
      "test/qrs_score:          0.9043\n",
      "---------------------------------\n",
      "\n",
      "ECG-SEQ-LAB - INFO - Checkpoint 125 saved!\n"
     ]
    },
    {
     "name": "stderr",
     "output_type": "stream",
     "text": [
      "Epoch 125/300: 100%|███████████████████████████████████████████| 1600/1600 [00:05<00:00, 318.88it/s]\n",
      "Epoch 126/300:  64%|██████████████        | 1024/1600 [00:01<00:00, 883.99it/s, loss (batch)=0.0329]"
     ]
    },
    {
     "name": "stdout",
     "output_type": "stream",
     "text": [
      "ECG-SEQ-LAB - INFO - Train step_880: loss : 0.03287040814757347\n"
     ]
    },
    {
     "name": "stderr",
     "output_type": "stream",
     "text": [
      "Epoch 126/300:  96%|████████████████████▏| 1536/1600 [00:01<00:00, 1233.02it/s, loss (batch)=0.0329]"
     ]
    },
    {
     "name": "stdout",
     "output_type": "stream",
     "text": [
      "QRS_acc: 0.9754\n",
      "Scoring complete.\n",
      "QRS_acc: 0.8975\n",
      "Scoring complete.\n",
      "ECG-SEQ-LAB - INFO - \n",
      "Train epoch_126:\n",
      "--------------------\n",
      "train/epoch_loss:        0.21401000767946243\n",
      "train/qrs_score:         0.9754\n",
      "\n",
      "test/qrs_score:          0.8975\n",
      "---------------------------------\n",
      "\n",
      "ECG-SEQ-LAB - INFO - Checkpoint 126 saved!\n"
     ]
    },
    {
     "name": "stderr",
     "output_type": "stream",
     "text": [
      "Epoch 126/300: 100%|██████████████████████| 1600/1600 [00:05<00:00, 315.89it/s, loss (batch)=0.0329]\n",
      "Epoch 127/300:  96%|████████████████████████████████████████▎ | 1536/1600 [00:01<00:00, 1238.77it/s]"
     ]
    },
    {
     "name": "stdout",
     "output_type": "stream",
     "text": [
      "QRS_acc: 0.9696\n",
      "Scoring complete.\n",
      "QRS_acc: 0.8998\n",
      "Scoring complete.\n",
      "ECG-SEQ-LAB - INFO - \n",
      "Train epoch_127:\n",
      "--------------------\n",
      "train/epoch_loss:        0.21728386171162128\n",
      "train/qrs_score:         0.9696\n",
      "\n",
      "test/qrs_score:          0.8998\n",
      "---------------------------------\n",
      "\n",
      "ECG-SEQ-LAB - INFO - Checkpoint 127 saved!\n"
     ]
    },
    {
     "name": "stderr",
     "output_type": "stream",
     "text": [
      "Epoch 127/300: 100%|███████████████████████████████████████████| 1600/1600 [00:05<00:00, 311.44it/s]\n",
      "Epoch 128/300:  96%|████████████████████████████████████████▎ | 1536/1600 [00:01<00:00, 1247.34it/s]"
     ]
    },
    {
     "name": "stdout",
     "output_type": "stream",
     "text": [
      "QRS_acc: 0.9732\n",
      "Scoring complete.\n",
      "QRS_acc: 0.8908\n",
      "Scoring complete.\n",
      "ECG-SEQ-LAB - INFO - \n",
      "Train epoch_128:\n",
      "--------------------\n",
      "train/epoch_loss:        0.221577949821949\n",
      "train/qrs_score:         0.9732\n",
      "\n",
      "test/qrs_score:          0.8908\n",
      "---------------------------------\n",
      "\n",
      "ECG-SEQ-LAB - INFO - Checkpoint 128 saved!\n"
     ]
    },
    {
     "name": "stderr",
     "output_type": "stream",
     "text": [
      "Epoch 128/300: 100%|███████████████████████████████████████████| 1600/1600 [00:05<00:00, 310.04it/s]\n",
      "Epoch 129/300:  48%|███████████            | 768/1600 [00:01<00:01, 679.95it/s, loss (batch)=0.0301]"
     ]
    },
    {
     "name": "stdout",
     "output_type": "stream",
     "text": [
      "ECG-SEQ-LAB - INFO - Train step_900: loss : 0.030091606080532074\n"
     ]
    },
    {
     "name": "stderr",
     "output_type": "stream",
     "text": [
      "Epoch 129/300:  96%|████████████████████▏| 1536/1600 [00:01<00:00, 1245.88it/s, loss (batch)=0.0301]"
     ]
    },
    {
     "name": "stdout",
     "output_type": "stream",
     "text": [
      "QRS_acc: 0.9736\n",
      "Scoring complete.\n",
      "QRS_acc: 0.9028\n",
      "Scoring complete.\n",
      "ECG-SEQ-LAB - INFO - \n",
      "Train epoch_129:\n",
      "--------------------\n",
      "train/epoch_loss:        0.21644674614071846\n",
      "train/qrs_score:         0.9736\n",
      "\n",
      "test/qrs_score:          0.9028\n",
      "---------------------------------\n",
      "\n",
      "ECG-SEQ-LAB - INFO - Checkpoint 129 saved!\n"
     ]
    },
    {
     "name": "stderr",
     "output_type": "stream",
     "text": [
      "Epoch 129/300: 100%|██████████████████████| 1600/1600 [00:05<00:00, 317.65it/s, loss (batch)=0.0301]\n",
      "Epoch 130/300:  96%|████████████████████████████████████████▎ | 1536/1600 [00:01<00:00, 1228.73it/s]"
     ]
    },
    {
     "name": "stdout",
     "output_type": "stream",
     "text": [
      "QRS_acc: 0.9769\n",
      "Scoring complete.\n",
      "QRS_acc: 0.9025\n",
      "Scoring complete.\n",
      "ECG-SEQ-LAB - INFO - \n",
      "Train epoch_130:\n",
      "--------------------\n",
      "train/epoch_loss:        0.21487470157444477\n",
      "train/qrs_score:         0.9769\n",
      "\n",
      "test/qrs_score:          0.9025\n",
      "---------------------------------\n",
      "\n",
      "ECG-SEQ-LAB - INFO - Checkpoint 130 saved!\n"
     ]
    },
    {
     "name": "stderr",
     "output_type": "stream",
     "text": [
      "Epoch 130/300: 100%|███████████████████████████████████████████| 1600/1600 [00:05<00:00, 315.10it/s]\n",
      "Epoch 131/300:  96%|████████████████████████████████████████▎ | 1536/1600 [00:01<00:00, 1257.52it/s]"
     ]
    },
    {
     "name": "stdout",
     "output_type": "stream",
     "text": [
      "QRS_acc: 0.9752\n",
      "Scoring complete.\n",
      "QRS_acc: 0.8918\n",
      "Scoring complete.\n",
      "ECG-SEQ-LAB - INFO - \n",
      "Train epoch_131:\n",
      "--------------------\n",
      "train/epoch_loss:        0.2164449766278267\n",
      "train/qrs_score:         0.9752\n",
      "\n",
      "test/qrs_score:          0.8918\n",
      "---------------------------------\n",
      "\n",
      "ECG-SEQ-LAB - INFO - Checkpoint 131 saved!\n"
     ]
    },
    {
     "name": "stderr",
     "output_type": "stream",
     "text": [
      "Epoch 131/300: 100%|███████████████████████████████████████████| 1600/1600 [00:05<00:00, 316.88it/s]\n",
      "Epoch 132/300:  32%|███████▎               | 512/1600 [00:01<00:02, 447.73it/s, loss (batch)=0.0316]"
     ]
    },
    {
     "name": "stdout",
     "output_type": "stream",
     "text": [
      "ECG-SEQ-LAB - INFO - Train step_920: loss : 0.03156221657991409\n"
     ]
    },
    {
     "name": "stderr",
     "output_type": "stream",
     "text": [
      "Epoch 132/300:  96%|████████████████████▏| 1536/1600 [00:01<00:00, 1245.96it/s, loss (batch)=0.0316]"
     ]
    },
    {
     "name": "stdout",
     "output_type": "stream",
     "text": [
      "QRS_acc: 0.9784\n",
      "Scoring complete.\n",
      "QRS_acc: 0.9028\n",
      "Scoring complete.\n",
      "ECG-SEQ-LAB - INFO - \n",
      "Train epoch_132:\n",
      "--------------------\n",
      "train/epoch_loss:        0.2097537610679865\n",
      "train/qrs_score:         0.9784\n",
      "\n",
      "test/qrs_score:          0.9028\n",
      "---------------------------------\n",
      "\n",
      "ECG-SEQ-LAB - INFO - early stopping is triggered at epoch 132\n"
     ]
    },
    {
     "name": "stderr",
     "output_type": "stream",
     "text": [
      "\r",
      "Epoch 132/300: 100%|██████████████████████| 1600/1600 [00:05<00:00, 318.53it/s, loss (batch)=0.0316]"
     ]
    },
    {
     "name": "stdout",
     "output_type": "stream",
     "text": [
      "ECG-SEQ-LAB - INFO - Best model saved to /home/wenh06/Jupyter/wenhao/workspace/torch_ecg/train/train_seq_lab_net_cpsc2019/saved_models/ECG_SEQ_LAB_NET_CPSC2019_multi_scopic_none_epoch_2021-06-22-09-43-13_BestModel_challenge_score(qrs_score)_0.9095.pth.tar!\n"
     ]
    },
    {
     "name": "stderr",
     "output_type": "stream",
     "text": [
      "\n"
     ]
    }
   ],
   "source": [
    "# train(\n",
    "#     model=model,\n",
    "#     config=train_config,\n",
    "#     device=device,\n",
    "#     logger=logger,\n",
    "#     debug=train_config.debug,\n",
    "# )\n",
    "best_state_dict = train(\n",
    "    model=model,\n",
    "    model_config=model_config,\n",
    "    device=device,\n",
    "    config=train_config,\n",
    "    logger=logger,\n",
    "    debug=train_config.debug,\n",
    ")"
   ]
  },
  {
   "cell_type": "code",
   "execution_count": 23,
   "metadata": {},
   "outputs": [],
   "source": [
    "# best_state_dict"
   ]
  },
  {
   "cell_type": "code",
   "execution_count": null,
   "metadata": {},
   "outputs": [],
   "source": []
  },
  {
   "cell_type": "code",
   "execution_count": null,
   "metadata": {},
   "outputs": [],
   "source": []
  },
  {
   "cell_type": "code",
   "execution_count": null,
   "metadata": {},
   "outputs": [],
   "source": []
  },
  {
   "cell_type": "code",
   "execution_count": null,
   "metadata": {},
   "outputs": [],
   "source": []
  },
  {
   "cell_type": "code",
   "execution_count": null,
   "metadata": {},
   "outputs": [],
   "source": []
  },
  {
   "cell_type": "markdown",
   "metadata": {},
   "source": [
    "# train CRNN"
   ]
  },
  {
   "cell_type": "code",
   "execution_count": 24,
   "metadata": {},
   "outputs": [],
   "source": [
    "train_config = deepcopy(TrainCfg)\n",
    "train_config.model_name = \"crnn\"\n",
    "model_config = deepcopy(ModelCfg[f\"seq_lab_{train_config.model_name.lower()}\"])"
   ]
  },
  {
   "cell_type": "code",
   "execution_count": 25,
   "metadata": {},
   "outputs": [
    {
     "name": "stdout",
     "output_type": "stream",
     "text": [
      "model_config = {'fs': 500, 'classes': ['N'], 'n_leads': 1, 'skip_dist': 250.0, 'torch_dtype': 'float', 'cnn': {'name': 'multi_scopic', 'multi_scopic': {'groups': 1, 'scopes': [[[1], [1, 1], [1, 1, 1]], [[2], [2, 4], [8, 8, 8]], [[4], [4, 8], [16, 32, 64]]], 'filter_lengths': [[11, 7, 5], [11, 7, 5], [11, 7, 5]], 'subsample_lengths': [2, 2, 2], 'num_filters': [[32, 64, 128], [32, 64, 128], [32, 64, 128]], 'dropouts': [[0, 0.2, 0], [0, 0.2, 0], [0, 0.2, 0]], 'bias': True, 'kernel_initializer': 'he_normal', 'kw_initializer': {}, 'activation': 'relu', 'kw_activation': {'inplace': True}, 'block': {'subsample_mode': 'max', 'bias': True, 'kernel_initializer': 'he_normal', 'kw_initializer': {}, 'activation': 'relu', 'kw_activation': {'inplace': True}, 'batch_norm': True, 'kw_bn': {}}}}, 'rnn': {'name': 'lstm', 'lstm': {'hidden_sizes': [256, 64], 'bias': True, 'dropouts': 0.2, 'bidirectional': True}}, 'attn': {'name': 'se', 'se': {'reduction': 8, 'activation': 'relu', 'kw_activation': {'inplace': True}, 'bias': True, 'kernel_initializer': 'he_normal'}}, 'clf': {'out_channels': [256, 64], 'activation': 'mish', 'bias': True, 'kernel_initializer': 'he_normal', 'dropouts': [0.2, 0.2, 0.0]}}\n",
      "classes (totally 1) for prediction:['N']\n",
      "configuration of ECG_SEQ_LAB_NET_CPSC2019 is as follows\n",
      "{\n",
      "    \"cnn\": {\n",
      "        \"name\": \"multi_scopic\",\n",
      "        \"multi_scopic\": {\n",
      "            \"groups\": 1,\n",
      "            \"scopes\": [\n",
      "                [\n",
      "                    [\n",
      "                        1\n",
      "                    ],\n",
      "                    [\n",
      "                        1, 1\n",
      "                    ],\n",
      "                    [\n",
      "                        1, 1, 1\n",
      "                    ]\n",
      "                ],\n",
      "                [\n",
      "                    [\n",
      "                        2\n",
      "                    ],\n",
      "                    [\n",
      "                        2, 4\n",
      "                    ],\n",
      "                    [\n",
      "                        8, 8, 8\n",
      "                    ]\n",
      "                ],\n",
      "                [\n",
      "                    [\n",
      "                        4\n",
      "                    ],\n",
      "                    [\n",
      "                        4, 8\n",
      "                    ],\n",
      "                    [\n",
      "                        16, 32, 64\n",
      "                    ]\n",
      "                ]\n",
      "            ],\n",
      "            \"filter_lengths\": [\n",
      "                [\n",
      "                    11, 7, 5\n",
      "                ],\n",
      "                [\n",
      "                    11, 7, 5\n",
      "                ],\n",
      "                [\n",
      "                    11, 7, 5\n",
      "                ]\n",
      "            ],\n",
      "            \"subsample_lengths\": [\n",
      "                2, 2, 2\n",
      "            ],\n",
      "            \"num_filters\": [\n",
      "                [\n",
      "                    32, 64, 128\n",
      "                ],\n",
      "                [\n",
      "                    32, 64, 128\n",
      "                ],\n",
      "                [\n",
      "                    32, 64, 128\n",
      "                ]\n",
      "            ],\n",
      "            \"dropouts\": [\n",
      "                [\n",
      "                    0, 0.2, 0\n",
      "                ],\n",
      "                [\n",
      "                    0, 0.2, 0\n",
      "                ],\n",
      "                [\n",
      "                    0, 0.2, 0\n",
      "                ]\n",
      "            ],\n",
      "            \"bias\": True,\n",
      "            \"kernel_initializer\": \"he_normal\",\n",
      "            \"kw_initializer\": {},\n",
      "            \"activation\": \"relu\",\n",
      "            \"kw_activation\": {\n",
      "                \"inplace\": True\n",
      "            },\n",
      "            \"block\": {\n",
      "                \"subsample_mode\": \"max\",\n",
      "                \"bias\": True,\n",
      "                \"kernel_initializer\": \"he_normal\",\n",
      "                \"kw_initializer\": {},\n",
      "                \"activation\": \"relu\",\n",
      "                \"kw_activation\": {\n",
      "                    \"inplace\": True\n",
      "                },\n",
      "                \"batch_norm\": True,\n",
      "                \"kw_bn\": {}\n",
      "            }\n",
      "        }\n",
      "    },\n",
      "    \"rnn\": {\n",
      "        \"name\": \"lstm\",\n",
      "        \"lstm\": {\n",
      "            \"hidden_sizes\": [\n",
      "                256, 64\n",
      "            ],\n",
      "            \"bias\": True,\n",
      "            \"dropouts\": 0.2,\n",
      "            \"bidirectional\": True\n",
      "        }\n",
      "    },\n",
      "    \"attn\": {\n",
      "        \"name\": \"se\",\n",
      "        \"se\": {\n",
      "            \"reduction\": 8,\n",
      "            \"activation\": \"relu\",\n",
      "            \"kw_activation\": {\n",
      "                \"inplace\": True\n",
      "            },\n",
      "            \"bias\": True,\n",
      "            \"kernel_initializer\": \"he_normal\"\n",
      "        }\n",
      "    },\n",
      "    \"clf\": {\n",
      "        \"out_channels\": [\n",
      "            256, 64\n",
      "        ],\n",
      "        \"activation\": \"mish\",\n",
      "        \"bias\": True,\n",
      "        \"kernel_initializer\": \"he_normal\",\n",
      "        \"dropouts\": [\n",
      "            0.2, 0.2, 0.0\n",
      "        ]\n",
      "    },\n",
      "    \"fs\": 500,\n",
      "    \"classes\": [\n",
      "        \"N\"\n",
      "    ],\n",
      "    \"n_leads\": 1,\n",
      "    \"skip_dist\": 250.0,\n",
      "    \"torch_dtype\": \"float\"\n",
      "}\n",
      "cnn output shape (batch_size, features, seq_len) = (None, 384, 625), given input seq_len = 5000\n",
      "rnn output shape (seq_len, batch_size, features) = (625, None, 128), given input seq_len = 625\n",
      "configs of attn are {\n",
      "    \"name\": \"se\",\n",
      "    \"se\": {\n",
      "        \"reduction\": 8,\n",
      "        \"activation\": \"relu\",\n",
      "        \"kw_activation\": {\n",
      "            \"inplace\": True\n",
      "        },\n",
      "        \"bias\": True,\n",
      "        \"kernel_initializer\": \"he_normal\"\n",
      "    }\n",
      "}\n"
     ]
    }
   ],
   "source": [
    "model = ECG_SEQ_LAB_NET_CPSC2019(\n",
    "    n_leads=train_config.n_leads,\n",
    "    input_len=train_config.input_len,\n",
    "    config=model_config,\n",
    ")\n",
    "\n",
    "if torch.cuda.device_count() > 1:\n",
    "    model = DP(model)\n",
    "#     model = DDP(model)\n",
    "\n",
    "model.to(device=device)\n",
    "model.__DEBUG__ = False"
   ]
  },
  {
   "cell_type": "code",
   "execution_count": 27,
   "metadata": {},
   "outputs": [
    {
     "name": "stdout",
     "output_type": "stream",
     "text": [
      "log file path: /home/wenh06/Jupyter/wenhao/workspace/torch_ecg/train/train_seq_lab_net_cpsc2019/log/log_2021-06-22-09-43-13.txt\n",
      "levels of c_handler and f_handler are set DEBUG\n",
      "ECG-SEQ-LAB - INFO - \n",
      "********************   Start Training   ********************\n",
      "\n",
      "ECG-SEQ-LAB - INFO - \n",
      "********************   Start Training   ********************\n",
      "\n",
      "ECG-SEQ-LAB - INFO - Using device cuda\n",
      "ECG-SEQ-LAB - INFO - Using device cuda\n",
      "ECG-SEQ-LAB - INFO - Using torch of version 1.8.1+cu111\n",
      "ECG-SEQ-LAB - INFO - Using torch of version 1.8.1+cu111\n",
      "ECG-SEQ-LAB - INFO - with configuration\n",
      "{\n",
      "    \"fs\": 500\n",
      "    \"db_dir\": \"/home/wenh06/Jupyter/data/CPSC2019/\"\n",
      "    \"log_dir\": \"/home/wenh06/Jupyter/wenhao/workspace/torch_ecg/train/train_seq_lab_net_cpsc2019/log\"\n",
      "    \"checkpoints\": \"/home/wenh06/Jupyter/wenhao/workspace/torch_ecg/train/train_seq_lab_net_cpsc2019/checkpoints\"\n",
      "    \"model_dir\": \"/home/wenh06/Jupyter/wenhao/workspace/torch_ecg/train/train_seq_lab_net_cpsc2019/saved_models\"\n",
      "    \"final_model_name\": None\n",
      "    \"keep_checkpoint_max\": 20\n",
      "    \"train_ratio\": 0.8\n",
      "    \"input_len\": 5000\n",
      "    \"classes\": [\n",
      "        \"N\"\n",
      "    ]\n",
      "    \"n_leads\": 1\n",
      "    \"bias_thr\": 37.5\n",
      "    \"skip_dist\": 250.0\n",
      "    \"label_smoothing\": 0.0\n",
      "    \"random_normalize\": True\n",
      "    \"random_normalize_mean\": [\n",
      "        -0.05, 0.1\n",
      "    ]\n",
      "    \"random_normalize_std\": [\n",
      "        0.08, 0.32\n",
      "    ]\n",
      "    \"baseline_wander\": True\n",
      "    \"bw\": True\n",
      "    \"bw_fs\": [0.33 0.1  0.05 0.01]\n",
      "    \"bw_ampl_ratio\": [[0.01 0.01 0.02 0.03]\n",
      " [0.01 0.02 0.04 0.05]\n",
      " [0.1  0.06 0.04 0.02]\n",
      " [0.02 0.04 0.07 0.1 ]\n",
      " [0.05 0.1  0.16 0.25]\n",
      " [0.1  0.15 0.25 0.3 ]\n",
      " [0.25 0.25 0.3  0.35]]\n",
      "    \"bw_gaussian\": [[0.    0.   ]\n",
      " [0.    0.   ]\n",
      " [0.    0.   ]\n",
      " [0.    0.003]\n",
      " [0.    0.01 ]]\n",
      "    \"flip\": [\n",
      "        -1, 1, 1, 1, 1\n",
      "    ]\n",
      "    \"seq_lab_reduction\": 8\n",
      "    \"n_epochs\": 300\n",
      "    \"batch_size\": 256\n",
      "    \"train_optimizer\": \"adamw_amsgrad\"\n",
      "    \"momentum\": 0.949\n",
      "    \"betas\": [\n",
      "        0.9, 0.999\n",
      "    ]\n",
      "    \"decay\": 0.01\n",
      "    \"learning_rate\": 0.001\n",
      "    \"lr\": 0.001\n",
      "    \"lr_scheduler\": None\n",
      "    \"lr_step_size\": 50\n",
      "    \"lr_gamma\": 0.1\n",
      "    \"max_lr\": 0.01\n",
      "    \"burn_in\": 400\n",
      "    \"steps\": [\n",
      "        5000, 10000\n",
      "    ]\n",
      "    \"early_stopping\": {\n",
      "        \"min_delta\": 0.001\n",
      "        \"patience\": 15\n",
      "    }\n",
      "    \"loss\": \"BCEWithLogitsLoss\"\n",
      "    \"flooding_level\": 0.0\n",
      "    \"log_step\": 20\n",
      "    \"eval_every\": 20\n",
      "    \"model_name\": \"crnn\"\n",
      "    \"cnn_name\": \"multi_scopic\"\n",
      "    \"rnn_name\": \"none\"\n",
      "    \"attn_name\": \"se\"\n",
      "}\n",
      "ECG-SEQ-LAB - INFO - with configuration\n",
      "{\n",
      "    \"fs\": 500\n",
      "    \"db_dir\": \"/home/wenh06/Jupyter/data/CPSC2019/\"\n",
      "    \"log_dir\": \"/home/wenh06/Jupyter/wenhao/workspace/torch_ecg/train/train_seq_lab_net_cpsc2019/log\"\n",
      "    \"checkpoints\": \"/home/wenh06/Jupyter/wenhao/workspace/torch_ecg/train/train_seq_lab_net_cpsc2019/checkpoints\"\n",
      "    \"model_dir\": \"/home/wenh06/Jupyter/wenhao/workspace/torch_ecg/train/train_seq_lab_net_cpsc2019/saved_models\"\n",
      "    \"final_model_name\": None\n",
      "    \"keep_checkpoint_max\": 20\n",
      "    \"train_ratio\": 0.8\n",
      "    \"input_len\": 5000\n",
      "    \"classes\": [\n",
      "        \"N\"\n",
      "    ]\n",
      "    \"n_leads\": 1\n",
      "    \"bias_thr\": 37.5\n",
      "    \"skip_dist\": 250.0\n",
      "    \"label_smoothing\": 0.0\n",
      "    \"random_normalize\": True\n",
      "    \"random_normalize_mean\": [\n",
      "        -0.05, 0.1\n",
      "    ]\n",
      "    \"random_normalize_std\": [\n",
      "        0.08, 0.32\n",
      "    ]\n",
      "    \"baseline_wander\": True\n",
      "    \"bw\": True\n",
      "    \"bw_fs\": [0.33 0.1  0.05 0.01]\n",
      "    \"bw_ampl_ratio\": [[0.01 0.01 0.02 0.03]\n",
      " [0.01 0.02 0.04 0.05]\n",
      " [0.1  0.06 0.04 0.02]\n",
      " [0.02 0.04 0.07 0.1 ]\n",
      " [0.05 0.1  0.16 0.25]\n",
      " [0.1  0.15 0.25 0.3 ]\n",
      " [0.25 0.25 0.3  0.35]]\n",
      "    \"bw_gaussian\": [[0.    0.   ]\n",
      " [0.    0.   ]\n",
      " [0.    0.   ]\n",
      " [0.    0.003]\n",
      " [0.    0.01 ]]\n",
      "    \"flip\": [\n",
      "        -1, 1, 1, 1, 1\n",
      "    ]\n",
      "    \"seq_lab_reduction\": 8\n",
      "    \"n_epochs\": 300\n",
      "    \"batch_size\": 256\n",
      "    \"train_optimizer\": \"adamw_amsgrad\"\n",
      "    \"momentum\": 0.949\n",
      "    \"betas\": [\n",
      "        0.9, 0.999\n",
      "    ]\n",
      "    \"decay\": 0.01\n",
      "    \"learning_rate\": 0.001\n",
      "    \"lr\": 0.001\n",
      "    \"lr_scheduler\": None\n",
      "    \"lr_step_size\": 50\n",
      "    \"lr_gamma\": 0.1\n",
      "    \"max_lr\": 0.01\n",
      "    \"burn_in\": 400\n",
      "    \"steps\": [\n",
      "        5000, 10000\n",
      "    ]\n",
      "    \"early_stopping\": {\n",
      "        \"min_delta\": 0.001\n",
      "        \"patience\": 15\n",
      "    }\n",
      "    \"loss\": \"BCEWithLogitsLoss\"\n",
      "    \"flooding_level\": 0.0\n",
      "    \"log_step\": 20\n",
      "    \"eval_every\": 20\n",
      "    \"model_name\": \"crnn\"\n",
      "    \"cnn_name\": \"multi_scopic\"\n",
      "    \"rnn_name\": \"none\"\n",
      "    \"attn_name\": \"se\"\n",
      "}\n"
     ]
    }
   ],
   "source": [
    "logger = init_logger(log_dir=train_config.log_dir, verbose=2)\n",
    "logger.info(f\"\\n{'*'*20}   Start Training   {'*'*20}\\n\")\n",
    "logger.info(f'Using device {device}')\n",
    "logger.info(f\"Using torch of version {torch.__version__}\")\n",
    "logger.info(f'with configuration\\n{dict_to_str(train_config)}')"
   ]
  },
  {
   "cell_type": "code",
   "execution_count": 28,
   "metadata": {},
   "outputs": [
    {
     "data": {
      "text/plain": [
       "{'fs': 500,\n",
       " 'db_dir': '/home/wenh06/Jupyter/data/CPSC2019/',\n",
       " 'log_dir': '/home/wenh06/Jupyter/wenhao/workspace/torch_ecg/train/train_seq_lab_net_cpsc2019/log',\n",
       " 'checkpoints': '/home/wenh06/Jupyter/wenhao/workspace/torch_ecg/train/train_seq_lab_net_cpsc2019/checkpoints',\n",
       " 'model_dir': '/home/wenh06/Jupyter/wenhao/workspace/torch_ecg/train/train_seq_lab_net_cpsc2019/saved_models',\n",
       " 'final_model_name': None,\n",
       " 'keep_checkpoint_max': 20,\n",
       " 'train_ratio': 0.8,\n",
       " 'input_len': 5000,\n",
       " 'classes': ['N'],\n",
       " 'n_leads': 1,\n",
       " 'bias_thr': 37.5,\n",
       " 'skip_dist': 250.0,\n",
       " 'label_smoothing': 0.0,\n",
       " 'random_normalize': True,\n",
       " 'random_normalize_mean': [-0.05, 0.1],\n",
       " 'random_normalize_std': [0.08, 0.32],\n",
       " 'baseline_wander': True,\n",
       " 'bw': True,\n",
       " 'bw_fs': array([0.33, 0.1 , 0.05, 0.01]),\n",
       " 'bw_ampl_ratio': array([[0.01, 0.01, 0.02, 0.03],\n",
       "        [0.01, 0.02, 0.04, 0.05],\n",
       "        [0.1 , 0.06, 0.04, 0.02],\n",
       "        [0.02, 0.04, 0.07, 0.1 ],\n",
       "        [0.05, 0.1 , 0.16, 0.25],\n",
       "        [0.1 , 0.15, 0.25, 0.3 ],\n",
       "        [0.25, 0.25, 0.3 , 0.35]]),\n",
       " 'bw_gaussian': array([[0.   , 0.   ],\n",
       "        [0.   , 0.   ],\n",
       "        [0.   , 0.   ],\n",
       "        [0.   , 0.003],\n",
       "        [0.   , 0.01 ]]),\n",
       " 'flip': [-1, 1, 1, 1, 1],\n",
       " 'seq_lab_reduction': 8,\n",
       " 'n_epochs': 300,\n",
       " 'batch_size': 256,\n",
       " 'train_optimizer': 'adamw_amsgrad',\n",
       " 'momentum': 0.949,\n",
       " 'betas': [0.9, 0.999],\n",
       " 'decay': 0.01,\n",
       " 'learning_rate': 0.001,\n",
       " 'lr': 0.001,\n",
       " 'lr_scheduler': None,\n",
       " 'lr_step_size': 50,\n",
       " 'lr_gamma': 0.1,\n",
       " 'max_lr': 0.01,\n",
       " 'burn_in': 400,\n",
       " 'steps': [5000, 10000],\n",
       " 'early_stopping': {'min_delta': 0.001, 'patience': 15},\n",
       " 'loss': 'BCEWithLogitsLoss',\n",
       " 'flooding_level': 0.0,\n",
       " 'log_step': 20,\n",
       " 'eval_every': 20,\n",
       " 'model_name': 'crnn',\n",
       " 'cnn_name': 'multi_scopic',\n",
       " 'rnn_name': 'lstm',\n",
       " 'attn_name': 'se',\n",
       " 'debug': True}"
      ]
     },
     "execution_count": 28,
     "metadata": {},
     "output_type": "execute_result"
    }
   ],
   "source": [
    "train_config.debug = True\n",
    "train_config.cnn_name = model_config.cnn.name\n",
    "train_config.rnn_name = model_config.rnn.name\n",
    "train_config.attn_name = model_config.attn.name\n",
    "train_config"
   ]
  },
  {
   "cell_type": "code",
   "execution_count": 29,
   "metadata": {},
   "outputs": [
    {
     "name": "stdout",
     "output_type": "stream",
     "text": [
      "ECG-SEQ-LAB - INFO - training configurations are as follows:\n",
      "{\n",
      "    \"fs\": 500\n",
      "    \"db_dir\": \"/home/wenh06/Jupyter/data/CPSC2019/\"\n",
      "    \"log_dir\": \"/home/wenh06/Jupyter/wenhao/workspace/torch_ecg/train/train_seq_lab_net_cpsc2019/log\"\n",
      "    \"checkpoints\": \"/home/wenh06/Jupyter/wenhao/workspace/torch_ecg/train/train_seq_lab_net_cpsc2019/checkpoints\"\n",
      "    \"model_dir\": \"/home/wenh06/Jupyter/wenhao/workspace/torch_ecg/train/train_seq_lab_net_cpsc2019/saved_models\"\n",
      "    \"final_model_name\": None\n",
      "    \"keep_checkpoint_max\": 20\n",
      "    \"train_ratio\": 0.8\n",
      "    \"input_len\": 5000\n",
      "    \"classes\": [\n",
      "        \"N\"\n",
      "    ]\n",
      "    \"n_leads\": 1\n",
      "    \"bias_thr\": 37.5\n",
      "    \"skip_dist\": 250.0\n",
      "    \"label_smoothing\": 0.0\n",
      "    \"random_normalize\": True\n",
      "    \"random_normalize_mean\": [\n",
      "        -0.05, 0.1\n",
      "    ]\n",
      "    \"random_normalize_std\": [\n",
      "        0.08, 0.32\n",
      "    ]\n",
      "    \"baseline_wander\": True\n",
      "    \"bw\": True\n",
      "    \"bw_fs\": [0.33 0.1  0.05 0.01]\n",
      "    \"bw_ampl_ratio\": [[0.01 0.01 0.02 0.03]\n",
      " [0.01 0.02 0.04 0.05]\n",
      " [0.1  0.06 0.04 0.02]\n",
      " [0.02 0.04 0.07 0.1 ]\n",
      " [0.05 0.1  0.16 0.25]\n",
      " [0.1  0.15 0.25 0.3 ]\n",
      " [0.25 0.25 0.3  0.35]]\n",
      "    \"bw_gaussian\": [[0.    0.   ]\n",
      " [0.    0.   ]\n",
      " [0.    0.   ]\n",
      " [0.    0.003]\n",
      " [0.    0.01 ]]\n",
      "    \"flip\": [\n",
      "        -1, 1, 1, 1, 1\n",
      "    ]\n",
      "    \"seq_lab_reduction\": 8\n",
      "    \"n_epochs\": 300\n",
      "    \"batch_size\": 256\n",
      "    \"train_optimizer\": \"adamw_amsgrad\"\n",
      "    \"momentum\": 0.949\n",
      "    \"betas\": [\n",
      "        0.9, 0.999\n",
      "    ]\n",
      "    \"decay\": 0.01\n",
      "    \"learning_rate\": 0.001\n",
      "    \"lr\": 0.001\n",
      "    \"lr_scheduler\": None\n",
      "    \"lr_step_size\": 50\n",
      "    \"lr_gamma\": 0.1\n",
      "    \"max_lr\": 0.01\n",
      "    \"burn_in\": 400\n",
      "    \"steps\": [\n",
      "        5000, 10000\n",
      "    ]\n",
      "    \"early_stopping\": {\n",
      "        \"min_delta\": 0.001\n",
      "        \"patience\": 15\n",
      "    }\n",
      "    \"loss\": \"BCEWithLogitsLoss\"\n",
      "    \"flooding_level\": 0.0\n",
      "    \"log_step\": 20\n",
      "    \"eval_every\": 20\n",
      "    \"model_name\": \"crnn\"\n",
      "    \"cnn_name\": \"multi_scopic\"\n",
      "    \"rnn_name\": \"lstm\"\n",
      "    \"attn_name\": \"se\"\n",
      "    \"debug\": True\n",
      "}\n",
      "ECG-SEQ-LAB - INFO - training configurations are as follows:\n",
      "{\n",
      "    \"fs\": 500\n",
      "    \"db_dir\": \"/home/wenh06/Jupyter/data/CPSC2019/\"\n",
      "    \"log_dir\": \"/home/wenh06/Jupyter/wenhao/workspace/torch_ecg/train/train_seq_lab_net_cpsc2019/log\"\n",
      "    \"checkpoints\": \"/home/wenh06/Jupyter/wenhao/workspace/torch_ecg/train/train_seq_lab_net_cpsc2019/checkpoints\"\n",
      "    \"model_dir\": \"/home/wenh06/Jupyter/wenhao/workspace/torch_ecg/train/train_seq_lab_net_cpsc2019/saved_models\"\n",
      "    \"final_model_name\": None\n",
      "    \"keep_checkpoint_max\": 20\n",
      "    \"train_ratio\": 0.8\n",
      "    \"input_len\": 5000\n",
      "    \"classes\": [\n",
      "        \"N\"\n",
      "    ]\n",
      "    \"n_leads\": 1\n",
      "    \"bias_thr\": 37.5\n",
      "    \"skip_dist\": 250.0\n",
      "    \"label_smoothing\": 0.0\n",
      "    \"random_normalize\": True\n",
      "    \"random_normalize_mean\": [\n",
      "        -0.05, 0.1\n",
      "    ]\n",
      "    \"random_normalize_std\": [\n",
      "        0.08, 0.32\n",
      "    ]\n",
      "    \"baseline_wander\": True\n",
      "    \"bw\": True\n",
      "    \"bw_fs\": [0.33 0.1  0.05 0.01]\n",
      "    \"bw_ampl_ratio\": [[0.01 0.01 0.02 0.03]\n",
      " [0.01 0.02 0.04 0.05]\n",
      " [0.1  0.06 0.04 0.02]\n",
      " [0.02 0.04 0.07 0.1 ]\n",
      " [0.05 0.1  0.16 0.25]\n",
      " [0.1  0.15 0.25 0.3 ]\n",
      " [0.25 0.25 0.3  0.35]]\n",
      "    \"bw_gaussian\": [[0.    0.   ]\n",
      " [0.    0.   ]\n",
      " [0.    0.   ]\n",
      " [0.    0.003]\n",
      " [0.    0.01 ]]\n",
      "    \"flip\": [\n",
      "        -1, 1, 1, 1, 1\n",
      "    ]\n",
      "    \"seq_lab_reduction\": 8\n",
      "    \"n_epochs\": 300\n",
      "    \"batch_size\": 256\n",
      "    \"train_optimizer\": \"adamw_amsgrad\"\n",
      "    \"momentum\": 0.949\n",
      "    \"betas\": [\n",
      "        0.9, 0.999\n",
      "    ]\n",
      "    \"decay\": 0.01\n",
      "    \"learning_rate\": 0.001\n",
      "    \"lr\": 0.001\n",
      "    \"lr_scheduler\": None\n",
      "    \"lr_step_size\": 50\n",
      "    \"lr_gamma\": 0.1\n",
      "    \"max_lr\": 0.01\n",
      "    \"burn_in\": 400\n",
      "    \"steps\": [\n",
      "        5000, 10000\n",
      "    ]\n",
      "    \"early_stopping\": {\n",
      "        \"min_delta\": 0.001\n",
      "        \"patience\": 15\n",
      "    }\n",
      "    \"loss\": \"BCEWithLogitsLoss\"\n",
      "    \"flooding_level\": 0.0\n",
      "    \"log_step\": 20\n",
      "    \"eval_every\": 20\n",
      "    \"model_name\": \"crnn\"\n",
      "    \"cnn_name\": \"multi_scopic\"\n",
      "    \"rnn_name\": \"lstm\"\n",
      "    \"attn_name\": \"se\"\n",
      "    \"debug\": True\n",
      "}\n",
      "log file path is set \"/home/wenh06/Jupyter/wenhao/workspace/torch_ecg/train/train_seq_lab_net_cpsc2019/CPSC2019-CPSC2019.log\"\n",
      "levels of c_handler and f_handler are set DEBUG\n",
      "log file path is set \"/home/wenh06/Jupyter/wenhao/workspace/torch_ecg/train/train_seq_lab_net_cpsc2019/CPSC2019-CPSC2019.log\"\n",
      "levels of c_handler and f_handler are set DEBUG\n",
      "log file path is set \"/home/wenh06/Jupyter/wenhao/workspace/torch_ecg/train/train_seq_lab_net_cpsc2019/CPSC2019-CPSC2019.log\"\n",
      "levels of c_handler and f_handler are set DEBUG\n",
      "ECG-SEQ-LAB - INFO - \n",
      "Starting training:\n",
      "------------------\n",
      "Epochs:          300\n",
      "Batch size:      256\n",
      "Learning rate:   0.001\n",
      "Training size:   1600\n",
      "Validation size: 400\n",
      "Device:          cuda\n",
      "Optimizer:       adamw_amsgrad\n",
      "-----------------------------------------\n",
      "\n",
      "ECG-SEQ-LAB - INFO - \n",
      "Starting training:\n",
      "------------------\n",
      "Epochs:          300\n",
      "Batch size:      256\n",
      "Learning rate:   0.001\n",
      "Training size:   1600\n",
      "Validation size: 400\n",
      "Device:          cuda\n",
      "Optimizer:       adamw_amsgrad\n",
      "-----------------------------------------\n",
      "\n"
     ]
    },
    {
     "name": "stderr",
     "output_type": "stream",
     "text": [
      "Epoch 1/300:   0%|                                                         | 0/1600 [00:00<?, ?it/s]/home/wenh06/.local/lib/python3.8/site-packages/torch/nn/modules/rnn.py:661: UserWarning: RNN module weights are not part of single contiguous chunk of memory. This means they need to be compacted at every call, possibly greatly increasing memory usage. To compact weights again call flatten_parameters(). (Triggered internally at  /pytorch/aten/src/ATen/native/cudnn/RNN.cpp:915.)\n",
      "  result = _VF.lstm(input, hx, self._flat_weights, self.bias, self.num_layers,\n",
      "Epoch 1/300:  96%|███████████████████████████████████████████▏ | 1536/1600 [00:02<00:00, 815.87it/s]"
     ]
    },
    {
     "name": "stdout",
     "output_type": "stream",
     "text": [
      "QRS_acc: 0.3582\n",
      "Scoring complete.\n",
      "QRS_acc: 0.3703\n",
      "Scoring complete.\n",
      "ECG-SEQ-LAB - INFO - \n",
      "Train epoch_1:\n",
      "--------------------\n",
      "train/epoch_loss:        2.7665919363498688\n",
      "train/qrs_score:         0.3582\n",
      "\n",
      "test/qrs_score:          0.3703\n",
      "---------------------------------\n",
      "\n",
      "ECG-SEQ-LAB - INFO - \n",
      "Train epoch_1:\n",
      "--------------------\n",
      "train/epoch_loss:        2.7665919363498688\n",
      "train/qrs_score:         0.3582\n",
      "\n",
      "test/qrs_score:          0.3703\n",
      "---------------------------------\n",
      "\n",
      "ECG-SEQ-LAB - INFO - Checkpoint 1 saved!\n",
      "ECG-SEQ-LAB - INFO - Checkpoint 1 saved!\n"
     ]
    },
    {
     "name": "stderr",
     "output_type": "stream",
     "text": [
      "Epoch 1/300: 100%|█████████████████████████████████████████████| 1600/1600 [00:06<00:00, 258.01it/s]\n",
      "Epoch 2/300:  96%|███████████████████████████████████████████▏ | 1536/1600 [00:02<00:00, 816.99it/s]"
     ]
    },
    {
     "name": "stdout",
     "output_type": "stream",
     "text": [
      "QRS_acc: 0.5559\n",
      "Scoring complete.\n",
      "QRS_acc: 0.532\n",
      "Scoring complete.\n",
      "ECG-SEQ-LAB - INFO - \n",
      "Train epoch_2:\n",
      "--------------------\n",
      "train/epoch_loss:        1.3083886355161667\n",
      "train/qrs_score:         0.5559\n",
      "\n",
      "test/qrs_score:          0.532\n",
      "---------------------------------\n",
      "\n",
      "ECG-SEQ-LAB - INFO - \n",
      "Train epoch_2:\n",
      "--------------------\n",
      "train/epoch_loss:        1.3083886355161667\n",
      "train/qrs_score:         0.5559\n",
      "\n",
      "test/qrs_score:          0.532\n",
      "---------------------------------\n",
      "\n",
      "ECG-SEQ-LAB - INFO - Checkpoint 2 saved!\n",
      "ECG-SEQ-LAB - INFO - Checkpoint 2 saved!\n"
     ]
    },
    {
     "name": "stderr",
     "output_type": "stream",
     "text": [
      "Epoch 2/300: 100%|█████████████████████████████████████████████| 1600/1600 [00:06<00:00, 256.65it/s]\n",
      "Epoch 3/300:  80%|████████████████████▊     | 1280/1600 [00:02<00:00, 745.02it/s, loss (batch)=0.13]"
     ]
    },
    {
     "name": "stdout",
     "output_type": "stream",
     "text": [
      "ECG-SEQ-LAB - INFO - Train step_20: loss : 0.12996360659599304\n",
      "ECG-SEQ-LAB - INFO - Train step_20: loss : 0.12996360659599304\n"
     ]
    },
    {
     "name": "stderr",
     "output_type": "stream",
     "text": [
      "\r",
      "Epoch 3/300:  96%|████████████████████████▉ | 1536/1600 [00:02<00:00, 814.57it/s, loss (batch)=0.13]"
     ]
    },
    {
     "name": "stdout",
     "output_type": "stream",
     "text": [
      "QRS_acc: 0.6522\n",
      "Scoring complete.\n",
      "QRS_acc: 0.6608\n",
      "Scoring complete.\n",
      "ECG-SEQ-LAB - INFO - \n",
      "Train epoch_3:\n",
      "--------------------\n",
      "train/epoch_loss:        0.9458324164152145\n",
      "train/qrs_score:         0.6522\n",
      "\n",
      "test/qrs_score:          0.6608\n",
      "---------------------------------\n",
      "\n",
      "ECG-SEQ-LAB - INFO - \n",
      "Train epoch_3:\n",
      "--------------------\n",
      "train/epoch_loss:        0.9458324164152145\n",
      "train/qrs_score:         0.6522\n",
      "\n",
      "test/qrs_score:          0.6608\n",
      "---------------------------------\n",
      "\n",
      "ECG-SEQ-LAB - INFO - Checkpoint 3 saved!\n",
      "ECG-SEQ-LAB - INFO - Checkpoint 3 saved!\n"
     ]
    },
    {
     "name": "stderr",
     "output_type": "stream",
     "text": [
      "Epoch 3/300: 100%|██████████████████████████| 1600/1600 [00:06<00:00, 258.07it/s, loss (batch)=0.13]\n",
      "Epoch 4/300:  96%|███████████████████████████████████████████▏ | 1536/1600 [00:02<00:00, 870.62it/s]"
     ]
    },
    {
     "name": "stdout",
     "output_type": "stream",
     "text": [
      "QRS_acc: 0.6587\n",
      "Scoring complete.\n",
      "QRS_acc: 0.6623\n",
      "Scoring complete.\n",
      "ECG-SEQ-LAB - INFO - \n",
      "Train epoch_4:\n",
      "--------------------\n",
      "train/epoch_loss:        0.775659441947937\n",
      "train/qrs_score:         0.6587\n",
      "\n",
      "test/qrs_score:          0.6623\n",
      "---------------------------------\n",
      "\n",
      "ECG-SEQ-LAB - INFO - \n",
      "Train epoch_4:\n",
      "--------------------\n",
      "train/epoch_loss:        0.775659441947937\n",
      "train/qrs_score:         0.6587\n",
      "\n",
      "test/qrs_score:          0.6623\n",
      "---------------------------------\n",
      "\n",
      "ECG-SEQ-LAB - INFO - Checkpoint 4 saved!\n",
      "ECG-SEQ-LAB - INFO - Checkpoint 4 saved!\n"
     ]
    },
    {
     "name": "stderr",
     "output_type": "stream",
     "text": [
      "Epoch 4/300: 100%|█████████████████████████████████████████████| 1600/1600 [00:06<00:00, 265.79it/s]\n",
      "Epoch 5/300:  96%|███████████████████████████████████████████▏ | 1536/1600 [00:02<00:00, 810.31it/s]"
     ]
    },
    {
     "name": "stdout",
     "output_type": "stream",
     "text": [
      "QRS_acc: 0.7574\n",
      "Scoring complete.\n",
      "QRS_acc: 0.7425\n",
      "Scoring complete.\n",
      "ECG-SEQ-LAB - INFO - \n",
      "Train epoch_5:\n",
      "--------------------\n",
      "train/epoch_loss:        0.72232636064291\n",
      "train/qrs_score:         0.7574\n",
      "\n",
      "test/qrs_score:          0.7425\n",
      "---------------------------------\n",
      "\n",
      "ECG-SEQ-LAB - INFO - \n",
      "Train epoch_5:\n",
      "--------------------\n",
      "train/epoch_loss:        0.72232636064291\n",
      "train/qrs_score:         0.7574\n",
      "\n",
      "test/qrs_score:          0.7425\n",
      "---------------------------------\n",
      "\n",
      "ECG-SEQ-LAB - INFO - Checkpoint 5 saved!\n",
      "ECG-SEQ-LAB - INFO - Checkpoint 5 saved!\n"
     ]
    },
    {
     "name": "stderr",
     "output_type": "stream",
     "text": [
      "Epoch 5/300: 100%|█████████████████████████████████████████████| 1600/1600 [00:06<00:00, 253.10it/s]\n",
      "Epoch 6/300:  64%|████████████████         | 1024/1600 [00:02<00:00, 630.88it/s, loss (batch)=0.092]"
     ]
    },
    {
     "name": "stdout",
     "output_type": "stream",
     "text": [
      "ECG-SEQ-LAB - INFO - Train step_40: loss : 0.09203016012907028\n",
      "ECG-SEQ-LAB - INFO - Train step_40: loss : 0.09203016012907028\n"
     ]
    },
    {
     "name": "stderr",
     "output_type": "stream",
     "text": [
      "Epoch 6/300:  96%|████████████████████████ | 1536/1600 [00:02<00:00, 806.55it/s, loss (batch)=0.092]"
     ]
    },
    {
     "name": "stdout",
     "output_type": "stream",
     "text": [
      "QRS_acc: 0.7714\n",
      "Scoring complete.\n",
      "QRS_acc: 0.7538\n",
      "Scoring complete.\n",
      "ECG-SEQ-LAB - INFO - \n",
      "Train epoch_6:\n",
      "--------------------\n",
      "train/epoch_loss:        0.6861179545521736\n",
      "train/qrs_score:         0.7714\n",
      "\n",
      "test/qrs_score:          0.7538\n",
      "---------------------------------\n",
      "\n",
      "ECG-SEQ-LAB - INFO - \n",
      "Train epoch_6:\n",
      "--------------------\n",
      "train/epoch_loss:        0.6861179545521736\n",
      "train/qrs_score:         0.7714\n",
      "\n",
      "test/qrs_score:          0.7538\n",
      "---------------------------------\n",
      "\n",
      "ECG-SEQ-LAB - INFO - Checkpoint 6 saved!\n",
      "ECG-SEQ-LAB - INFO - Checkpoint 6 saved!\n"
     ]
    },
    {
     "name": "stderr",
     "output_type": "stream",
     "text": [
      "Epoch 6/300: 100%|█████████████████████████| 1600/1600 [00:06<00:00, 256.21it/s, loss (batch)=0.092]\n",
      "Epoch 7/300:  96%|███████████████████████████████████████████▏ | 1536/1600 [00:02<00:00, 810.68it/s]"
     ]
    },
    {
     "name": "stdout",
     "output_type": "stream",
     "text": [
      "QRS_acc: 0.8002\n",
      "Scoring complete.\n",
      "QRS_acc: 0.7862\n",
      "Scoring complete.\n",
      "ECG-SEQ-LAB - INFO - \n",
      "Train epoch_7:\n",
      "--------------------\n",
      "train/epoch_loss:        0.6547413244843483\n",
      "train/qrs_score:         0.8002\n",
      "\n",
      "test/qrs_score:          0.7862\n",
      "---------------------------------\n",
      "\n",
      "ECG-SEQ-LAB - INFO - \n",
      "Train epoch_7:\n",
      "--------------------\n",
      "train/epoch_loss:        0.6547413244843483\n",
      "train/qrs_score:         0.8002\n",
      "\n",
      "test/qrs_score:          0.7862\n",
      "---------------------------------\n",
      "\n",
      "ECG-SEQ-LAB - INFO - Checkpoint 7 saved!\n",
      "ECG-SEQ-LAB - INFO - Checkpoint 7 saved!\n"
     ]
    },
    {
     "name": "stderr",
     "output_type": "stream",
     "text": [
      "Epoch 7/300: 100%|█████████████████████████████████████████████| 1600/1600 [00:06<00:00, 258.42it/s]\n",
      "Epoch 8/300:  96%|███████████████████████████████████████████▏ | 1536/1600 [00:02<00:00, 819.68it/s]"
     ]
    },
    {
     "name": "stdout",
     "output_type": "stream",
     "text": [
      "QRS_acc: 0.7914\n",
      "Scoring complete.\n",
      "QRS_acc: 0.7608\n",
      "Scoring complete.\n",
      "ECG-SEQ-LAB - INFO - \n",
      "Train epoch_8:\n",
      "--------------------\n",
      "train/epoch_loss:        0.6167184039950371\n",
      "train/qrs_score:         0.7914\n",
      "\n",
      "test/qrs_score:          0.7608\n",
      "---------------------------------\n",
      "\n",
      "ECG-SEQ-LAB - INFO - \n",
      "Train epoch_8:\n",
      "--------------------\n",
      "train/epoch_loss:        0.6167184039950371\n",
      "train/qrs_score:         0.7914\n",
      "\n",
      "test/qrs_score:          0.7608\n",
      "---------------------------------\n",
      "\n",
      "ECG-SEQ-LAB - INFO - Checkpoint 8 saved!\n",
      "ECG-SEQ-LAB - INFO - Checkpoint 8 saved!\n"
     ]
    },
    {
     "name": "stderr",
     "output_type": "stream",
     "text": [
      "Epoch 8/300: 100%|█████████████████████████████████████████████| 1600/1600 [00:06<00:00, 256.35it/s]\n",
      "Epoch 9/300:  48%|████████████             | 768/1600 [00:02<00:01, 513.04it/s, loss (batch)=0.0789]"
     ]
    },
    {
     "name": "stdout",
     "output_type": "stream",
     "text": [
      "ECG-SEQ-LAB - INFO - Train step_60: loss : 0.07894039154052734\n",
      "ECG-SEQ-LAB - INFO - Train step_60: loss : 0.07894039154052734\n"
     ]
    },
    {
     "name": "stderr",
     "output_type": "stream",
     "text": [
      "Epoch 9/300:  96%|███████████████████████ | 1536/1600 [00:02<00:00, 802.08it/s, loss (batch)=0.0789]"
     ]
    },
    {
     "name": "stdout",
     "output_type": "stream",
     "text": [
      "QRS_acc: 0.8239\n",
      "Scoring complete.\n",
      "QRS_acc: 0.814\n",
      "Scoring complete.\n",
      "ECG-SEQ-LAB - INFO - \n",
      "Train epoch_9:\n",
      "--------------------\n",
      "train/epoch_loss:        0.5995615720748901\n",
      "train/qrs_score:         0.8239\n",
      "\n",
      "test/qrs_score:          0.814\n",
      "---------------------------------\n",
      "\n",
      "ECG-SEQ-LAB - INFO - \n",
      "Train epoch_9:\n",
      "--------------------\n",
      "train/epoch_loss:        0.5995615720748901\n",
      "train/qrs_score:         0.8239\n",
      "\n",
      "test/qrs_score:          0.814\n",
      "---------------------------------\n",
      "\n",
      "ECG-SEQ-LAB - INFO - Checkpoint 9 saved!\n",
      "ECG-SEQ-LAB - INFO - Checkpoint 9 saved!\n"
     ]
    },
    {
     "name": "stderr",
     "output_type": "stream",
     "text": [
      "Epoch 9/300: 100%|████████████████████████| 1600/1600 [00:06<00:00, 255.66it/s, loss (batch)=0.0789]\n",
      "Epoch 10/300:  96%|██████████████████████████████████████████▏ | 1536/1600 [00:02<00:00, 857.56it/s]"
     ]
    },
    {
     "name": "stdout",
     "output_type": "stream",
     "text": [
      "QRS_acc: 0.8308\n",
      "Scoring complete.\n",
      "QRS_acc: 0.8022\n",
      "Scoring complete.\n",
      "ECG-SEQ-LAB - INFO - \n",
      "Train epoch_10:\n",
      "--------------------\n",
      "train/epoch_loss:        0.5903861671686172\n",
      "train/qrs_score:         0.8308\n",
      "\n",
      "test/qrs_score:          0.8022\n",
      "---------------------------------\n",
      "\n",
      "ECG-SEQ-LAB - INFO - \n",
      "Train epoch_10:\n",
      "--------------------\n",
      "train/epoch_loss:        0.5903861671686172\n",
      "train/qrs_score:         0.8308\n",
      "\n",
      "test/qrs_score:          0.8022\n",
      "---------------------------------\n",
      "\n",
      "ECG-SEQ-LAB - INFO - Checkpoint 10 saved!\n",
      "ECG-SEQ-LAB - INFO - Checkpoint 10 saved!\n"
     ]
    },
    {
     "name": "stderr",
     "output_type": "stream",
     "text": [
      "Epoch 10/300: 100%|████████████████████████████████████████████| 1600/1600 [00:06<00:00, 255.70it/s]\n",
      "Epoch 11/300:  96%|██████████████████████████████████████████▏ | 1536/1600 [00:02<00:00, 825.48it/s]"
     ]
    },
    {
     "name": "stdout",
     "output_type": "stream",
     "text": [
      "QRS_acc: 0.822\n",
      "Scoring complete.\n",
      "QRS_acc: 0.7935\n",
      "Scoring complete.\n",
      "ECG-SEQ-LAB - INFO - \n",
      "Train epoch_11:\n",
      "--------------------\n",
      "train/epoch_loss:        0.5583519786596298\n",
      "train/qrs_score:         0.822\n",
      "\n",
      "test/qrs_score:          0.7935\n",
      "---------------------------------\n",
      "\n",
      "ECG-SEQ-LAB - INFO - \n",
      "Train epoch_11:\n",
      "--------------------\n",
      "train/epoch_loss:        0.5583519786596298\n",
      "train/qrs_score:         0.822\n",
      "\n",
      "test/qrs_score:          0.7935\n",
      "---------------------------------\n",
      "\n",
      "ECG-SEQ-LAB - INFO - Checkpoint 11 saved!\n",
      "ECG-SEQ-LAB - INFO - Checkpoint 11 saved!\n"
     ]
    },
    {
     "name": "stderr",
     "output_type": "stream",
     "text": [
      "Epoch 11/300: 100%|████████████████████████████████████████████| 1600/1600 [00:06<00:00, 258.64it/s]\n",
      "Epoch 12/300:  32%|███████▋                | 512/1600 [00:01<00:02, 368.96it/s, loss (batch)=0.0816]"
     ]
    },
    {
     "name": "stdout",
     "output_type": "stream",
     "text": [
      "ECG-SEQ-LAB - INFO - Train step_80: loss : 0.08160720020532608\n",
      "ECG-SEQ-LAB - INFO - Train step_80: loss : 0.08160720020532608\n"
     ]
    },
    {
     "name": "stderr",
     "output_type": "stream",
     "text": [
      "Epoch 12/300:  96%|██████████████████████ | 1536/1600 [00:02<00:00, 810.83it/s, loss (batch)=0.0816]"
     ]
    },
    {
     "name": "stdout",
     "output_type": "stream",
     "text": [
      "QRS_acc: 0.8444\n",
      "Scoring complete.\n",
      "QRS_acc: 0.811\n",
      "Scoring complete.\n",
      "ECG-SEQ-LAB - INFO - \n",
      "Train epoch_12:\n",
      "--------------------\n",
      "train/epoch_loss:        0.5489902198314667\n",
      "train/qrs_score:         0.8444\n",
      "\n",
      "test/qrs_score:          0.811\n",
      "---------------------------------\n",
      "\n",
      "ECG-SEQ-LAB - INFO - \n",
      "Train epoch_12:\n",
      "--------------------\n",
      "train/epoch_loss:        0.5489902198314667\n",
      "train/qrs_score:         0.8444\n",
      "\n",
      "test/qrs_score:          0.811\n",
      "---------------------------------\n",
      "\n",
      "ECG-SEQ-LAB - INFO - Checkpoint 12 saved!\n",
      "ECG-SEQ-LAB - INFO - Checkpoint 12 saved!\n"
     ]
    },
    {
     "name": "stderr",
     "output_type": "stream",
     "text": [
      "Epoch 12/300: 100%|███████████████████████| 1600/1600 [00:06<00:00, 258.45it/s, loss (batch)=0.0816]\n",
      "Epoch 13/300:  96%|██████████████████████████████████████████▏ | 1536/1600 [00:02<00:00, 798.41it/s]"
     ]
    },
    {
     "name": "stdout",
     "output_type": "stream",
     "text": [
      "QRS_acc: 0.8647\n",
      "Scoring complete.\n",
      "QRS_acc: 0.8428\n",
      "Scoring complete.\n",
      "ECG-SEQ-LAB - INFO - \n",
      "Train epoch_13:\n",
      "--------------------\n",
      "train/epoch_loss:        0.5368537902832031\n",
      "train/qrs_score:         0.8647\n",
      "\n",
      "test/qrs_score:          0.8428\n",
      "---------------------------------\n",
      "\n",
      "ECG-SEQ-LAB - INFO - \n",
      "Train epoch_13:\n",
      "--------------------\n",
      "train/epoch_loss:        0.5368537902832031\n",
      "train/qrs_score:         0.8647\n",
      "\n",
      "test/qrs_score:          0.8428\n",
      "---------------------------------\n",
      "\n",
      "ECG-SEQ-LAB - INFO - Checkpoint 13 saved!\n",
      "ECG-SEQ-LAB - INFO - Checkpoint 13 saved!\n"
     ]
    },
    {
     "name": "stderr",
     "output_type": "stream",
     "text": [
      "Epoch 13/300: 100%|████████████████████████████████████████████| 1600/1600 [00:06<00:00, 257.51it/s]\n",
      "Epoch 14/300:  96%|██████████████████████████████████████████▏ | 1536/1600 [00:02<00:00, 811.52it/s]"
     ]
    },
    {
     "name": "stdout",
     "output_type": "stream",
     "text": [
      "QRS_acc: 0.8525\n",
      "Scoring complete.\n",
      "QRS_acc: 0.8222\n",
      "Scoring complete.\n",
      "ECG-SEQ-LAB - INFO - \n",
      "Train epoch_14:\n",
      "--------------------\n",
      "train/epoch_loss:        0.5291930660605431\n",
      "train/qrs_score:         0.8525\n",
      "\n",
      "test/qrs_score:          0.8222\n",
      "---------------------------------\n",
      "\n",
      "ECG-SEQ-LAB - INFO - \n",
      "Train epoch_14:\n",
      "--------------------\n",
      "train/epoch_loss:        0.5291930660605431\n",
      "train/qrs_score:         0.8525\n",
      "\n",
      "test/qrs_score:          0.8222\n",
      "---------------------------------\n",
      "\n",
      "ECG-SEQ-LAB - INFO - Checkpoint 14 saved!\n",
      "ECG-SEQ-LAB - INFO - Checkpoint 14 saved!\n"
     ]
    },
    {
     "name": "stderr",
     "output_type": "stream",
     "text": [
      "Epoch 14/300: 100%|████████████████████████████████████████████| 1600/1600 [00:06<00:00, 256.65it/s]\n",
      "Epoch 15/300:  16%|███▊                    | 256/1600 [00:01<00:07, 190.48it/s, loss (batch)=0.0714]"
     ]
    },
    {
     "name": "stdout",
     "output_type": "stream",
     "text": [
      "ECG-SEQ-LAB - INFO - Train step_100: loss : 0.0714055672287941\n",
      "ECG-SEQ-LAB - INFO - Train step_100: loss : 0.0714055672287941\n"
     ]
    },
    {
     "name": "stderr",
     "output_type": "stream",
     "text": [
      "Epoch 15/300:  96%|██████████████████████ | 1536/1600 [00:02<00:00, 808.52it/s, loss (batch)=0.0714]"
     ]
    },
    {
     "name": "stdout",
     "output_type": "stream",
     "text": [
      "QRS_acc: 0.8798\n",
      "Scoring complete.\n",
      "QRS_acc: 0.8385\n",
      "Scoring complete.\n",
      "ECG-SEQ-LAB - INFO - \n",
      "Train epoch_15:\n",
      "--------------------\n",
      "train/epoch_loss:        0.5133325532078743\n",
      "train/qrs_score:         0.8798\n",
      "\n",
      "test/qrs_score:          0.8385\n",
      "---------------------------------\n",
      "\n",
      "ECG-SEQ-LAB - INFO - \n",
      "Train epoch_15:\n",
      "--------------------\n",
      "train/epoch_loss:        0.5133325532078743\n",
      "train/qrs_score:         0.8798\n",
      "\n",
      "test/qrs_score:          0.8385\n",
      "---------------------------------\n",
      "\n",
      "ECG-SEQ-LAB - INFO - Checkpoint 15 saved!\n",
      "ECG-SEQ-LAB - INFO - Checkpoint 15 saved!\n"
     ]
    },
    {
     "name": "stderr",
     "output_type": "stream",
     "text": [
      "Epoch 15/300: 100%|███████████████████████| 1600/1600 [00:06<00:00, 249.64it/s, loss (batch)=0.0714]\n",
      "Epoch 16/300:  96%|██████████████████████████████████████████▏ | 1536/1600 [00:02<00:00, 808.82it/s]"
     ]
    },
    {
     "name": "stdout",
     "output_type": "stream",
     "text": [
      "QRS_acc: 0.8714\n",
      "Scoring complete.\n",
      "QRS_acc: 0.8225\n",
      "Scoring complete.\n",
      "ECG-SEQ-LAB - INFO - \n",
      "Train epoch_16:\n",
      "--------------------\n",
      "train/epoch_loss:        0.5006536915898323\n",
      "train/qrs_score:         0.8714\n",
      "\n",
      "test/qrs_score:          0.8225\n",
      "---------------------------------\n",
      "\n",
      "ECG-SEQ-LAB - INFO - \n",
      "Train epoch_16:\n",
      "--------------------\n",
      "train/epoch_loss:        0.5006536915898323\n",
      "train/qrs_score:         0.8714\n",
      "\n",
      "test/qrs_score:          0.8225\n",
      "---------------------------------\n",
      "\n",
      "ECG-SEQ-LAB - INFO - Checkpoint 16 saved!\n",
      "ECG-SEQ-LAB - INFO - Checkpoint 16 saved!\n"
     ]
    },
    {
     "name": "stderr",
     "output_type": "stream",
     "text": [
      "Epoch 16/300: 100%|████████████████████████████████████████████| 1600/1600 [00:06<00:00, 256.73it/s]\n",
      "Epoch 17/300:  96%|██████████████████████████████████████████▏ | 1536/1600 [00:02<00:00, 820.23it/s]"
     ]
    },
    {
     "name": "stdout",
     "output_type": "stream",
     "text": [
      "QRS_acc: 0.8852\n",
      "Scoring complete.\n",
      "QRS_acc: 0.8472\n",
      "Scoring complete.\n",
      "ECG-SEQ-LAB - INFO - \n",
      "Train epoch_17:\n",
      "--------------------\n",
      "train/epoch_loss:        0.4876779317855835\n",
      "train/qrs_score:         0.8852\n",
      "\n",
      "test/qrs_score:          0.8472\n",
      "---------------------------------\n",
      "\n",
      "ECG-SEQ-LAB - INFO - \n",
      "Train epoch_17:\n",
      "--------------------\n",
      "train/epoch_loss:        0.4876779317855835\n",
      "train/qrs_score:         0.8852\n",
      "\n",
      "test/qrs_score:          0.8472\n",
      "---------------------------------\n",
      "\n",
      "ECG-SEQ-LAB - INFO - Checkpoint 17 saved!\n",
      "ECG-SEQ-LAB - INFO - Checkpoint 17 saved!\n"
     ]
    },
    {
     "name": "stderr",
     "output_type": "stream",
     "text": [
      "Epoch 17/300: 100%|████████████████████████████████████████████| 1600/1600 [00:06<00:00, 258.29it/s]\n",
      "Epoch 18/300:   0%|                                   | 0/1600 [00:01<?, ?it/s, loss (batch)=0.0671]"
     ]
    },
    {
     "name": "stdout",
     "output_type": "stream",
     "text": [
      "ECG-SEQ-LAB - INFO - Train step_120: loss : 0.06708413362503052\n",
      "ECG-SEQ-LAB - INFO - Train step_120: loss : 0.06708413362503052\n"
     ]
    },
    {
     "name": "stderr",
     "output_type": "stream",
     "text": [
      "Epoch 18/300:  96%|██████████████████████ | 1536/1600 [00:02<00:00, 799.04it/s, loss (batch)=0.0671]"
     ]
    },
    {
     "name": "stdout",
     "output_type": "stream",
     "text": [
      "QRS_acc: 0.8759\n",
      "Scoring complete.\n",
      "QRS_acc: 0.8285\n",
      "Scoring complete.\n",
      "ECG-SEQ-LAB - INFO - \n",
      "Train epoch_18:\n",
      "--------------------\n",
      "train/epoch_loss:        0.4930602014064789\n",
      "train/qrs_score:         0.8759\n",
      "\n",
      "test/qrs_score:          0.8285\n",
      "---------------------------------\n",
      "\n",
      "ECG-SEQ-LAB - INFO - \n",
      "Train epoch_18:\n",
      "--------------------\n",
      "train/epoch_loss:        0.4930602014064789\n",
      "train/qrs_score:         0.8759\n",
      "\n",
      "test/qrs_score:          0.8285\n",
      "---------------------------------\n",
      "\n",
      "ECG-SEQ-LAB - INFO - Checkpoint 18 saved!\n",
      "ECG-SEQ-LAB - INFO - Checkpoint 18 saved!\n"
     ]
    },
    {
     "name": "stderr",
     "output_type": "stream",
     "text": [
      "Epoch 18/300: 100%|███████████████████████| 1600/1600 [00:06<00:00, 254.68it/s, loss (batch)=0.0671]\n",
      "Epoch 19/300:  96%|██████████████████████████████████████████▏ | 1536/1600 [00:02<00:00, 810.09it/s]"
     ]
    },
    {
     "name": "stdout",
     "output_type": "stream",
     "text": [
      "QRS_acc: 0.8841\n",
      "Scoring complete.\n",
      "QRS_acc: 0.8478\n",
      "Scoring complete.\n",
      "ECG-SEQ-LAB - INFO - \n",
      "Train epoch_19:\n",
      "--------------------\n",
      "train/epoch_loss:        0.4896584451198578\n",
      "train/qrs_score:         0.8841\n",
      "\n",
      "test/qrs_score:          0.8478\n",
      "---------------------------------\n",
      "\n",
      "ECG-SEQ-LAB - INFO - \n",
      "Train epoch_19:\n",
      "--------------------\n",
      "train/epoch_loss:        0.4896584451198578\n",
      "train/qrs_score:         0.8841\n",
      "\n",
      "test/qrs_score:          0.8478\n",
      "---------------------------------\n",
      "\n",
      "ECG-SEQ-LAB - INFO - Checkpoint 19 saved!\n",
      "ECG-SEQ-LAB - INFO - Checkpoint 19 saved!\n"
     ]
    },
    {
     "name": "stderr",
     "output_type": "stream",
     "text": [
      "Epoch 19/300: 100%|████████████████████████████████████████████| 1600/1600 [00:06<00:00, 255.46it/s]\n",
      "Epoch 20/300:  96%|██████████████████████ | 1536/1600 [00:02<00:00, 816.78it/s, loss (batch)=0.0706]"
     ]
    },
    {
     "name": "stdout",
     "output_type": "stream",
     "text": [
      "ECG-SEQ-LAB - INFO - Train step_140: loss : 0.07062989473342896\n",
      "ECG-SEQ-LAB - INFO - Train step_140: loss : 0.07062989473342896\n",
      "QRS_acc: 0.8811\n",
      "Scoring complete.\n",
      "QRS_acc: 0.8438\n",
      "Scoring complete.\n",
      "ECG-SEQ-LAB - INFO - \n",
      "Train epoch_20:\n",
      "--------------------\n",
      "train/epoch_loss:        0.4796060100197792\n",
      "train/qrs_score:         0.8811\n",
      "\n",
      "test/qrs_score:          0.8438\n",
      "---------------------------------\n",
      "\n",
      "ECG-SEQ-LAB - INFO - \n",
      "Train epoch_20:\n",
      "--------------------\n",
      "train/epoch_loss:        0.4796060100197792\n",
      "train/qrs_score:         0.8811\n",
      "\n",
      "test/qrs_score:          0.8438\n",
      "---------------------------------\n",
      "\n",
      "ECG-SEQ-LAB - INFO - Checkpoint 20 saved!\n",
      "ECG-SEQ-LAB - INFO - Checkpoint 20 saved!\n"
     ]
    },
    {
     "name": "stderr",
     "output_type": "stream",
     "text": [
      "Epoch 20/300: 100%|███████████████████████| 1600/1600 [00:06<00:00, 254.24it/s, loss (batch)=0.0706]\n",
      "Epoch 21/300:  96%|██████████████████████████████████████████▏ | 1536/1600 [00:02<00:00, 860.98it/s]"
     ]
    },
    {
     "name": "stdout",
     "output_type": "stream",
     "text": [
      "QRS_acc: 0.8939\n",
      "Scoring complete.\n",
      "QRS_acc: 0.8485\n",
      "Scoring complete.\n",
      "ECG-SEQ-LAB - INFO - \n",
      "Train epoch_21:\n",
      "--------------------\n",
      "train/epoch_loss:        0.4699341505765915\n",
      "train/qrs_score:         0.8939\n",
      "\n",
      "test/qrs_score:          0.8485\n",
      "---------------------------------\n",
      "\n",
      "ECG-SEQ-LAB - INFO - \n",
      "Train epoch_21:\n",
      "--------------------\n",
      "train/epoch_loss:        0.4699341505765915\n",
      "train/qrs_score:         0.8939\n",
      "\n",
      "test/qrs_score:          0.8485\n",
      "---------------------------------\n",
      "\n",
      "ECG-SEQ-LAB - INFO - Checkpoint 21 saved!\n",
      "ECG-SEQ-LAB - INFO - Checkpoint 21 saved!\n"
     ]
    },
    {
     "name": "stderr",
     "output_type": "stream",
     "text": [
      "Epoch 21/300: 100%|████████████████████████████████████████████| 1600/1600 [00:06<00:00, 261.83it/s]\n",
      "Epoch 22/300:  96%|██████████████████████████████████████████▏ | 1536/1600 [00:02<00:00, 794.60it/s]"
     ]
    },
    {
     "name": "stdout",
     "output_type": "stream",
     "text": [
      "QRS_acc: 0.896\n",
      "Scoring complete.\n",
      "QRS_acc: 0.849\n",
      "Scoring complete.\n",
      "ECG-SEQ-LAB - INFO - \n",
      "Train epoch_22:\n",
      "--------------------\n",
      "train/epoch_loss:        0.4650835134088993\n",
      "train/qrs_score:         0.896\n",
      "\n",
      "test/qrs_score:          0.849\n",
      "---------------------------------\n",
      "\n",
      "ECG-SEQ-LAB - INFO - \n",
      "Train epoch_22:\n",
      "--------------------\n",
      "train/epoch_loss:        0.4650835134088993\n",
      "train/qrs_score:         0.896\n",
      "\n",
      "test/qrs_score:          0.849\n",
      "---------------------------------\n",
      "\n",
      "ECG-SEQ-LAB - INFO - Checkpoint 22 saved!\n",
      "ECG-SEQ-LAB - INFO - Checkpoint 22 saved!\n"
     ]
    },
    {
     "name": "stderr",
     "output_type": "stream",
     "text": [
      "Epoch 22/300: 100%|████████████████████████████████████████████| 1600/1600 [00:06<00:00, 250.84it/s]\n",
      "Epoch 23/300:  80%|██████████████████▍    | 1280/1600 [00:02<00:00, 744.63it/s, loss (batch)=0.0622]"
     ]
    },
    {
     "name": "stdout",
     "output_type": "stream",
     "text": [
      "ECG-SEQ-LAB - INFO - Train step_160: loss : 0.0622154176235199\n",
      "ECG-SEQ-LAB - INFO - Train step_160: loss : 0.0622154176235199\n"
     ]
    },
    {
     "name": "stderr",
     "output_type": "stream",
     "text": [
      "\r",
      "Epoch 23/300:  96%|██████████████████████ | 1536/1600 [00:02<00:00, 811.87it/s, loss (batch)=0.0622]"
     ]
    },
    {
     "name": "stdout",
     "output_type": "stream",
     "text": [
      "QRS_acc: 0.9066\n",
      "Scoring complete.\n",
      "QRS_acc: 0.8622\n",
      "Scoring complete.\n",
      "ECG-SEQ-LAB - INFO - \n",
      "Train epoch_23:\n",
      "--------------------\n",
      "train/epoch_loss:        0.47553789615631104\n",
      "train/qrs_score:         0.9066\n",
      "\n",
      "test/qrs_score:          0.8622\n",
      "---------------------------------\n",
      "\n",
      "ECG-SEQ-LAB - INFO - \n",
      "Train epoch_23:\n",
      "--------------------\n",
      "train/epoch_loss:        0.47553789615631104\n",
      "train/qrs_score:         0.9066\n",
      "\n",
      "test/qrs_score:          0.8622\n",
      "---------------------------------\n",
      "\n",
      "ECG-SEQ-LAB - INFO - Checkpoint 23 saved!\n",
      "ECG-SEQ-LAB - INFO - Checkpoint 23 saved!\n"
     ]
    },
    {
     "name": "stderr",
     "output_type": "stream",
     "text": [
      "Epoch 23/300: 100%|███████████████████████| 1600/1600 [00:06<00:00, 256.52it/s, loss (batch)=0.0622]\n",
      "Epoch 24/300:  96%|██████████████████████████████████████████▏ | 1536/1600 [00:02<00:00, 808.31it/s]"
     ]
    },
    {
     "name": "stdout",
     "output_type": "stream",
     "text": [
      "QRS_acc: 0.9209\n",
      "Scoring complete.\n",
      "QRS_acc: 0.8628\n",
      "Scoring complete.\n",
      "ECG-SEQ-LAB - INFO - \n",
      "Train epoch_24:\n",
      "--------------------\n",
      "train/epoch_loss:        0.46130019053816795\n",
      "train/qrs_score:         0.9209\n",
      "\n",
      "test/qrs_score:          0.8628\n",
      "---------------------------------\n",
      "\n",
      "ECG-SEQ-LAB - INFO - \n",
      "Train epoch_24:\n",
      "--------------------\n",
      "train/epoch_loss:        0.46130019053816795\n",
      "train/qrs_score:         0.9209\n",
      "\n",
      "test/qrs_score:          0.8628\n",
      "---------------------------------\n",
      "\n",
      "ECG-SEQ-LAB - INFO - Checkpoint 24 saved!\n",
      "ECG-SEQ-LAB - INFO - Checkpoint 24 saved!\n"
     ]
    },
    {
     "name": "stderr",
     "output_type": "stream",
     "text": [
      "Epoch 24/300: 100%|████████████████████████████████████████████| 1600/1600 [00:06<00:00, 254.24it/s]\n",
      "Epoch 25/300:  96%|██████████████████████████████████████████▏ | 1536/1600 [00:02<00:00, 812.09it/s]"
     ]
    },
    {
     "name": "stdout",
     "output_type": "stream",
     "text": [
      "QRS_acc: 0.9044\n",
      "Scoring complete.\n",
      "QRS_acc: 0.8555\n",
      "Scoring complete.\n",
      "ECG-SEQ-LAB - INFO - \n",
      "Train epoch_25:\n",
      "--------------------\n",
      "train/epoch_loss:        0.4380551166832447\n",
      "train/qrs_score:         0.9044\n",
      "\n",
      "test/qrs_score:          0.8555\n",
      "---------------------------------\n",
      "\n",
      "ECG-SEQ-LAB - INFO - \n",
      "Train epoch_25:\n",
      "--------------------\n",
      "train/epoch_loss:        0.4380551166832447\n",
      "train/qrs_score:         0.9044\n",
      "\n",
      "test/qrs_score:          0.8555\n",
      "---------------------------------\n",
      "\n",
      "ECG-SEQ-LAB - INFO - Checkpoint 25 saved!\n",
      "ECG-SEQ-LAB - INFO - Checkpoint 25 saved!\n"
     ]
    },
    {
     "name": "stderr",
     "output_type": "stream",
     "text": [
      "Epoch 25/300: 100%|████████████████████████████████████████████| 1600/1600 [00:06<00:00, 257.23it/s]\n",
      "Epoch 26/300:  64%|██████████████▋        | 1024/1600 [00:02<00:00, 648.48it/s, loss (batch)=0.0672]"
     ]
    },
    {
     "name": "stdout",
     "output_type": "stream",
     "text": [
      "ECG-SEQ-LAB - INFO - Train step_180: loss : 0.06715241819620132\n",
      "ECG-SEQ-LAB - INFO - Train step_180: loss : 0.06715241819620132\n"
     ]
    },
    {
     "name": "stderr",
     "output_type": "stream",
     "text": [
      "Epoch 26/300:  96%|██████████████████████ | 1536/1600 [00:02<00:00, 815.28it/s, loss (batch)=0.0672]"
     ]
    },
    {
     "name": "stdout",
     "output_type": "stream",
     "text": [
      "QRS_acc: 0.9167\n",
      "Scoring complete.\n",
      "QRS_acc: 0.8682\n",
      "Scoring complete.\n",
      "ECG-SEQ-LAB - INFO - \n",
      "Train epoch_26:\n",
      "--------------------\n",
      "train/epoch_loss:        0.43747221678495407\n",
      "train/qrs_score:         0.9167\n",
      "\n",
      "test/qrs_score:          0.8682\n",
      "---------------------------------\n",
      "\n",
      "ECG-SEQ-LAB - INFO - \n",
      "Train epoch_26:\n",
      "--------------------\n",
      "train/epoch_loss:        0.43747221678495407\n",
      "train/qrs_score:         0.9167\n",
      "\n",
      "test/qrs_score:          0.8682\n",
      "---------------------------------\n",
      "\n",
      "ECG-SEQ-LAB - INFO - Checkpoint 26 saved!\n",
      "ECG-SEQ-LAB - INFO - Checkpoint 26 saved!\n"
     ]
    },
    {
     "name": "stderr",
     "output_type": "stream",
     "text": [
      "Epoch 26/300: 100%|███████████████████████| 1600/1600 [00:06<00:00, 257.77it/s, loss (batch)=0.0672]\n",
      "Epoch 27/300:  96%|██████████████████████████████████████████▏ | 1536/1600 [00:02<00:00, 808.67it/s]"
     ]
    },
    {
     "name": "stdout",
     "output_type": "stream",
     "text": [
      "QRS_acc: 0.9224\n",
      "Scoring complete.\n",
      "QRS_acc: 0.8538\n",
      "Scoring complete.\n",
      "ECG-SEQ-LAB - INFO - \n",
      "Train epoch_27:\n",
      "--------------------\n",
      "train/epoch_loss:        0.42933861166238785\n",
      "train/qrs_score:         0.9224\n",
      "\n",
      "test/qrs_score:          0.8538\n",
      "---------------------------------\n",
      "\n",
      "ECG-SEQ-LAB - INFO - \n",
      "Train epoch_27:\n",
      "--------------------\n",
      "train/epoch_loss:        0.42933861166238785\n",
      "train/qrs_score:         0.9224\n",
      "\n",
      "test/qrs_score:          0.8538\n",
      "---------------------------------\n",
      "\n",
      "ECG-SEQ-LAB - INFO - Checkpoint 27 saved!\n",
      "ECG-SEQ-LAB - INFO - Checkpoint 27 saved!\n"
     ]
    },
    {
     "name": "stderr",
     "output_type": "stream",
     "text": [
      "Epoch 27/300: 100%|████████████████████████████████████████████| 1600/1600 [00:06<00:00, 255.19it/s]\n",
      "Epoch 28/300:  96%|██████████████████████████████████████████▏ | 1536/1600 [00:02<00:00, 810.29it/s]"
     ]
    },
    {
     "name": "stdout",
     "output_type": "stream",
     "text": [
      "QRS_acc: 0.9234\n",
      "Scoring complete.\n",
      "QRS_acc: 0.859\n",
      "Scoring complete.\n",
      "ECG-SEQ-LAB - INFO - \n",
      "Train epoch_28:\n",
      "--------------------\n",
      "train/epoch_loss:        0.4190782159566879\n",
      "train/qrs_score:         0.9234\n",
      "\n",
      "test/qrs_score:          0.859\n",
      "---------------------------------\n",
      "\n",
      "ECG-SEQ-LAB - INFO - \n",
      "Train epoch_28:\n",
      "--------------------\n",
      "train/epoch_loss:        0.4190782159566879\n",
      "train/qrs_score:         0.9234\n",
      "\n",
      "test/qrs_score:          0.859\n",
      "---------------------------------\n",
      "\n",
      "ECG-SEQ-LAB - INFO - Checkpoint 28 saved!\n",
      "ECG-SEQ-LAB - INFO - Checkpoint 28 saved!\n"
     ]
    },
    {
     "name": "stderr",
     "output_type": "stream",
     "text": [
      "Epoch 28/300: 100%|████████████████████████████████████████████| 1600/1600 [00:06<00:00, 257.44it/s]\n",
      "Epoch 29/300:  48%|███████████▌            | 768/1600 [00:02<00:01, 512.86it/s, loss (batch)=0.0593]"
     ]
    },
    {
     "name": "stdout",
     "output_type": "stream",
     "text": [
      "ECG-SEQ-LAB - INFO - Train step_200: loss : 0.059271182864904404\n",
      "ECG-SEQ-LAB - INFO - Train step_200: loss : 0.059271182864904404\n"
     ]
    },
    {
     "name": "stderr",
     "output_type": "stream",
     "text": [
      "Epoch 29/300:  96%|██████████████████████ | 1536/1600 [00:02<00:00, 800.33it/s, loss (batch)=0.0593]"
     ]
    },
    {
     "name": "stdout",
     "output_type": "stream",
     "text": [
      "QRS_acc: 0.9199\n",
      "Scoring complete.\n",
      "QRS_acc: 0.8478\n",
      "Scoring complete.\n",
      "ECG-SEQ-LAB - INFO - \n",
      "Train epoch_29:\n",
      "--------------------\n",
      "train/epoch_loss:        0.4043254405260086\n",
      "train/qrs_score:         0.9199\n",
      "\n",
      "test/qrs_score:          0.8478\n",
      "---------------------------------\n",
      "\n",
      "ECG-SEQ-LAB - INFO - \n",
      "Train epoch_29:\n",
      "--------------------\n",
      "train/epoch_loss:        0.4043254405260086\n",
      "train/qrs_score:         0.9199\n",
      "\n",
      "test/qrs_score:          0.8478\n",
      "---------------------------------\n",
      "\n",
      "ECG-SEQ-LAB - INFO - Checkpoint 29 saved!\n",
      "ECG-SEQ-LAB - INFO - Checkpoint 29 saved!\n"
     ]
    },
    {
     "name": "stderr",
     "output_type": "stream",
     "text": [
      "Epoch 29/300: 100%|███████████████████████| 1600/1600 [00:06<00:00, 252.32it/s, loss (batch)=0.0593]\n",
      "Epoch 30/300:  96%|██████████████████████████████████████████▏ | 1536/1600 [00:02<00:00, 807.41it/s]"
     ]
    },
    {
     "name": "stdout",
     "output_type": "stream",
     "text": [
      "QRS_acc: 0.9354\n",
      "Scoring complete.\n",
      "QRS_acc: 0.8692\n",
      "Scoring complete.\n",
      "ECG-SEQ-LAB - INFO - \n",
      "Train epoch_30:\n",
      "--------------------\n",
      "train/epoch_loss:        0.41222307831048965\n",
      "train/qrs_score:         0.9354\n",
      "\n",
      "test/qrs_score:          0.8692\n",
      "---------------------------------\n",
      "\n",
      "ECG-SEQ-LAB - INFO - \n",
      "Train epoch_30:\n",
      "--------------------\n",
      "train/epoch_loss:        0.41222307831048965\n",
      "train/qrs_score:         0.9354\n",
      "\n",
      "test/qrs_score:          0.8692\n",
      "---------------------------------\n",
      "\n",
      "ECG-SEQ-LAB - INFO - Checkpoint 30 saved!\n",
      "ECG-SEQ-LAB - INFO - Checkpoint 30 saved!\n"
     ]
    },
    {
     "name": "stderr",
     "output_type": "stream",
     "text": [
      "Epoch 30/300: 100%|████████████████████████████████████████████| 1600/1600 [00:06<00:00, 252.73it/s]\n",
      "Epoch 31/300:  96%|██████████████████████████████████████████▏ | 1536/1600 [00:02<00:00, 814.17it/s]"
     ]
    },
    {
     "name": "stdout",
     "output_type": "stream",
     "text": [
      "QRS_acc: 0.9389\n",
      "Scoring complete.\n",
      "QRS_acc: 0.8745\n",
      "Scoring complete.\n",
      "ECG-SEQ-LAB - INFO - \n",
      "Train epoch_31:\n",
      "--------------------\n",
      "train/epoch_loss:        0.4025620333850384\n",
      "train/qrs_score:         0.9389\n",
      "\n",
      "test/qrs_score:          0.8745\n",
      "---------------------------------\n",
      "\n",
      "ECG-SEQ-LAB - INFO - \n",
      "Train epoch_31:\n",
      "--------------------\n",
      "train/epoch_loss:        0.4025620333850384\n",
      "train/qrs_score:         0.9389\n",
      "\n",
      "test/qrs_score:          0.8745\n",
      "---------------------------------\n",
      "\n",
      "ECG-SEQ-LAB - INFO - Checkpoint 31 saved!\n",
      "ECG-SEQ-LAB - INFO - Checkpoint 31 saved!\n"
     ]
    },
    {
     "name": "stderr",
     "output_type": "stream",
     "text": [
      "Epoch 31/300: 100%|████████████████████████████████████████████| 1600/1600 [00:06<00:00, 257.54it/s]\n",
      "Epoch 32/300:  32%|███████▋                | 512/1600 [00:01<00:02, 369.12it/s, loss (batch)=0.0624]"
     ]
    },
    {
     "name": "stdout",
     "output_type": "stream",
     "text": [
      "ECG-SEQ-LAB - INFO - Train step_220: loss : 0.0623817965388298\n",
      "ECG-SEQ-LAB - INFO - Train step_220: loss : 0.0623817965388298\n"
     ]
    },
    {
     "name": "stderr",
     "output_type": "stream",
     "text": [
      "Epoch 32/300:  96%|██████████████████████ | 1536/1600 [00:02<00:00, 795.62it/s, loss (batch)=0.0624]"
     ]
    },
    {
     "name": "stdout",
     "output_type": "stream",
     "text": [
      "QRS_acc: 0.937\n",
      "Scoring complete.\n",
      "QRS_acc: 0.864\n",
      "Scoring complete.\n",
      "ECG-SEQ-LAB - INFO - \n",
      "Train epoch_32:\n",
      "--------------------\n",
      "train/epoch_loss:        0.3969963975250721\n",
      "train/qrs_score:         0.937\n",
      "\n",
      "test/qrs_score:          0.864\n",
      "---------------------------------\n",
      "\n",
      "ECG-SEQ-LAB - INFO - \n",
      "Train epoch_32:\n",
      "--------------------\n",
      "train/epoch_loss:        0.3969963975250721\n",
      "train/qrs_score:         0.937\n",
      "\n",
      "test/qrs_score:          0.864\n",
      "---------------------------------\n",
      "\n",
      "ECG-SEQ-LAB - INFO - Checkpoint 32 saved!\n",
      "ECG-SEQ-LAB - INFO - Checkpoint 32 saved!\n"
     ]
    },
    {
     "name": "stderr",
     "output_type": "stream",
     "text": [
      "Epoch 32/300: 100%|███████████████████████| 1600/1600 [00:06<00:00, 251.97it/s, loss (batch)=0.0624]\n",
      "Epoch 33/300:  96%|██████████████████████████████████████████▏ | 1536/1600 [00:02<00:00, 813.64it/s]"
     ]
    },
    {
     "name": "stdout",
     "output_type": "stream",
     "text": [
      "QRS_acc: 0.9375\n",
      "Scoring complete.\n",
      "QRS_acc: 0.8725\n",
      "Scoring complete.\n",
      "ECG-SEQ-LAB - INFO - \n",
      "Train epoch_33:\n",
      "--------------------\n",
      "train/epoch_loss:        0.3930644728243351\n",
      "train/qrs_score:         0.9375\n",
      "\n",
      "test/qrs_score:          0.8725\n",
      "---------------------------------\n",
      "\n",
      "ECG-SEQ-LAB - INFO - \n",
      "Train epoch_33:\n",
      "--------------------\n",
      "train/epoch_loss:        0.3930644728243351\n",
      "train/qrs_score:         0.9375\n",
      "\n",
      "test/qrs_score:          0.8725\n",
      "---------------------------------\n",
      "\n",
      "ECG-SEQ-LAB - INFO - Checkpoint 33 saved!\n",
      "ECG-SEQ-LAB - INFO - Checkpoint 33 saved!\n"
     ]
    },
    {
     "name": "stderr",
     "output_type": "stream",
     "text": [
      "Epoch 33/300: 100%|████████████████████████████████████████████| 1600/1600 [00:06<00:00, 259.68it/s]\n",
      "Epoch 34/300:  96%|██████████████████████████████████████████▏ | 1536/1600 [00:02<00:00, 807.59it/s]"
     ]
    },
    {
     "name": "stdout",
     "output_type": "stream",
     "text": [
      "QRS_acc: 0.9457\n",
      "Scoring complete.\n",
      "QRS_acc: 0.8692\n",
      "Scoring complete.\n",
      "ECG-SEQ-LAB - INFO - \n",
      "Train epoch_34:\n",
      "--------------------\n",
      "train/epoch_loss:        0.38662030920386314\n",
      "train/qrs_score:         0.9457\n",
      "\n",
      "test/qrs_score:          0.8692\n",
      "---------------------------------\n",
      "\n",
      "ECG-SEQ-LAB - INFO - \n",
      "Train epoch_34:\n",
      "--------------------\n",
      "train/epoch_loss:        0.38662030920386314\n",
      "train/qrs_score:         0.9457\n",
      "\n",
      "test/qrs_score:          0.8692\n",
      "---------------------------------\n",
      "\n",
      "ECG-SEQ-LAB - INFO - Checkpoint 34 saved!\n",
      "ECG-SEQ-LAB - INFO - Checkpoint 34 saved!\n"
     ]
    },
    {
     "name": "stderr",
     "output_type": "stream",
     "text": [
      "Epoch 34/300: 100%|████████████████████████████████████████████| 1600/1600 [00:06<00:00, 250.78it/s]\n",
      "Epoch 35/300:  16%|████                     | 256/1600 [00:01<00:06, 194.74it/s, loss (batch)=0.055]"
     ]
    },
    {
     "name": "stdout",
     "output_type": "stream",
     "text": [
      "ECG-SEQ-LAB - INFO - Train step_240: loss : 0.054968785494565964\n",
      "ECG-SEQ-LAB - INFO - Train step_240: loss : 0.054968785494565964\n"
     ]
    },
    {
     "name": "stderr",
     "output_type": "stream",
     "text": [
      "Epoch 35/300:  96%|███████████████████████ | 1536/1600 [00:02<00:00, 788.87it/s, loss (batch)=0.055]"
     ]
    },
    {
     "name": "stdout",
     "output_type": "stream",
     "text": [
      "QRS_acc: 0.9406\n",
      "Scoring complete.\n",
      "QRS_acc: 0.8642\n",
      "Scoring complete.\n",
      "ECG-SEQ-LAB - INFO - \n",
      "Train epoch_35:\n",
      "--------------------\n",
      "train/epoch_loss:        0.37634849548339844\n",
      "train/qrs_score:         0.9406\n",
      "\n",
      "test/qrs_score:          0.8642\n",
      "---------------------------------\n",
      "\n",
      "ECG-SEQ-LAB - INFO - \n",
      "Train epoch_35:\n",
      "--------------------\n",
      "train/epoch_loss:        0.37634849548339844\n",
      "train/qrs_score:         0.9406\n",
      "\n",
      "test/qrs_score:          0.8642\n",
      "---------------------------------\n",
      "\n",
      "ECG-SEQ-LAB - INFO - Checkpoint 35 saved!\n",
      "ECG-SEQ-LAB - INFO - Checkpoint 35 saved!\n"
     ]
    },
    {
     "name": "stderr",
     "output_type": "stream",
     "text": [
      "Epoch 35/300: 100%|████████████████████████| 1600/1600 [00:06<00:00, 257.95it/s, loss (batch)=0.055]\n",
      "Epoch 36/300:  96%|██████████████████████████████████████████▏ | 1536/1600 [00:02<00:00, 813.24it/s]"
     ]
    },
    {
     "name": "stdout",
     "output_type": "stream",
     "text": [
      "QRS_acc: 0.9521\n",
      "Scoring complete.\n",
      "QRS_acc: 0.8838\n",
      "Scoring complete.\n",
      "ECG-SEQ-LAB - INFO - \n",
      "Train epoch_36:\n",
      "--------------------\n",
      "train/epoch_loss:        0.38198380172252655\n",
      "train/qrs_score:         0.9521\n",
      "\n",
      "test/qrs_score:          0.8838\n",
      "---------------------------------\n",
      "\n",
      "ECG-SEQ-LAB - INFO - \n",
      "Train epoch_36:\n",
      "--------------------\n",
      "train/epoch_loss:        0.38198380172252655\n",
      "train/qrs_score:         0.9521\n",
      "\n",
      "test/qrs_score:          0.8838\n",
      "---------------------------------\n",
      "\n",
      "ECG-SEQ-LAB - INFO - Checkpoint 36 saved!\n",
      "ECG-SEQ-LAB - INFO - Checkpoint 36 saved!\n"
     ]
    },
    {
     "name": "stderr",
     "output_type": "stream",
     "text": [
      "Epoch 36/300: 100%|████████████████████████████████████████████| 1600/1600 [00:06<00:00, 260.25it/s]\n",
      "Epoch 37/300:  96%|██████████████████████████████████████████▏ | 1536/1600 [00:02<00:00, 805.19it/s]"
     ]
    },
    {
     "name": "stdout",
     "output_type": "stream",
     "text": [
      "QRS_acc: 0.9434\n",
      "Scoring complete.\n",
      "QRS_acc: 0.8692\n",
      "Scoring complete.\n",
      "ECG-SEQ-LAB - INFO - \n",
      "Train epoch_37:\n",
      "--------------------\n",
      "train/epoch_loss:        0.38526614755392075\n",
      "train/qrs_score:         0.9434\n",
      "\n",
      "test/qrs_score:          0.8692\n",
      "---------------------------------\n",
      "\n",
      "ECG-SEQ-LAB - INFO - \n",
      "Train epoch_37:\n",
      "--------------------\n",
      "train/epoch_loss:        0.38526614755392075\n",
      "train/qrs_score:         0.9434\n",
      "\n",
      "test/qrs_score:          0.8692\n",
      "---------------------------------\n",
      "\n",
      "ECG-SEQ-LAB - INFO - Checkpoint 37 saved!\n",
      "ECG-SEQ-LAB - INFO - Checkpoint 37 saved!\n"
     ]
    },
    {
     "name": "stderr",
     "output_type": "stream",
     "text": [
      "Epoch 37/300: 100%|████████████████████████████████████████████| 1600/1600 [00:06<00:00, 257.43it/s]\n",
      "Epoch 38/300:   0%|                                   | 0/1600 [00:01<?, ?it/s, loss (batch)=0.0498]"
     ]
    },
    {
     "name": "stdout",
     "output_type": "stream",
     "text": [
      "ECG-SEQ-LAB - INFO - Train step_260: loss : 0.04975549131631851\n",
      "ECG-SEQ-LAB - INFO - Train step_260: loss : 0.04975549131631851\n"
     ]
    },
    {
     "name": "stderr",
     "output_type": "stream",
     "text": [
      "Epoch 38/300:  96%|██████████████████████ | 1536/1600 [00:02<00:00, 821.80it/s, loss (batch)=0.0498]"
     ]
    },
    {
     "name": "stdout",
     "output_type": "stream",
     "text": [
      "QRS_acc: 0.9507\n",
      "Scoring complete.\n",
      "QRS_acc: 0.8692\n",
      "Scoring complete.\n",
      "ECG-SEQ-LAB - INFO - \n",
      "Train epoch_38:\n",
      "--------------------\n",
      "train/epoch_loss:        0.3627680614590645\n",
      "train/qrs_score:         0.9507\n",
      "\n",
      "test/qrs_score:          0.8692\n",
      "---------------------------------\n",
      "\n",
      "ECG-SEQ-LAB - INFO - \n",
      "Train epoch_38:\n",
      "--------------------\n",
      "train/epoch_loss:        0.3627680614590645\n",
      "train/qrs_score:         0.9507\n",
      "\n",
      "test/qrs_score:          0.8692\n",
      "---------------------------------\n",
      "\n",
      "ECG-SEQ-LAB - INFO - Checkpoint 38 saved!\n",
      "ECG-SEQ-LAB - INFO - Checkpoint 38 saved!\n"
     ]
    },
    {
     "name": "stderr",
     "output_type": "stream",
     "text": [
      "Epoch 38/300: 100%|███████████████████████| 1600/1600 [00:06<00:00, 256.79it/s, loss (batch)=0.0498]\n",
      "Epoch 39/300:  96%|██████████████████████████████████████████▏ | 1536/1600 [00:02<00:00, 821.91it/s]"
     ]
    },
    {
     "name": "stdout",
     "output_type": "stream",
     "text": [
      "QRS_acc: 0.9538\n",
      "Scoring complete.\n",
      "QRS_acc: 0.8695\n",
      "Scoring complete.\n",
      "ECG-SEQ-LAB - INFO - \n",
      "Train epoch_39:\n",
      "--------------------\n",
      "train/epoch_loss:        0.3677792176604271\n",
      "train/qrs_score:         0.9538\n",
      "\n",
      "test/qrs_score:          0.8695\n",
      "---------------------------------\n",
      "\n",
      "ECG-SEQ-LAB - INFO - \n",
      "Train epoch_39:\n",
      "--------------------\n",
      "train/epoch_loss:        0.3677792176604271\n",
      "train/qrs_score:         0.9538\n",
      "\n",
      "test/qrs_score:          0.8695\n",
      "---------------------------------\n",
      "\n",
      "ECG-SEQ-LAB - INFO - Checkpoint 39 saved!\n",
      "ECG-SEQ-LAB - INFO - Checkpoint 39 saved!\n"
     ]
    },
    {
     "name": "stderr",
     "output_type": "stream",
     "text": [
      "Epoch 39/300: 100%|████████████████████████████████████████████| 1600/1600 [00:06<00:00, 255.77it/s]\n",
      "Epoch 40/300:  96%|██████████████████████ | 1536/1600 [00:02<00:00, 800.31it/s, loss (batch)=0.0537]"
     ]
    },
    {
     "name": "stdout",
     "output_type": "stream",
     "text": [
      "ECG-SEQ-LAB - INFO - Train step_280: loss : 0.05370229482650757\n",
      "ECG-SEQ-LAB - INFO - Train step_280: loss : 0.05370229482650757\n",
      "QRS_acc: 0.9434\n",
      "Scoring complete.\n",
      "QRS_acc: 0.8745\n",
      "Scoring complete.\n",
      "ECG-SEQ-LAB - INFO - \n",
      "Train epoch_40:\n",
      "--------------------\n",
      "train/epoch_loss:        0.36403999850153923\n",
      "train/qrs_score:         0.9434\n",
      "\n",
      "test/qrs_score:          0.8745\n",
      "---------------------------------\n",
      "\n",
      "ECG-SEQ-LAB - INFO - \n",
      "Train epoch_40:\n",
      "--------------------\n",
      "train/epoch_loss:        0.36403999850153923\n",
      "train/qrs_score:         0.9434\n",
      "\n",
      "test/qrs_score:          0.8745\n",
      "---------------------------------\n",
      "\n",
      "ECG-SEQ-LAB - INFO - Checkpoint 40 saved!\n",
      "ECG-SEQ-LAB - INFO - Checkpoint 40 saved!\n"
     ]
    },
    {
     "name": "stderr",
     "output_type": "stream",
     "text": [
      "Epoch 40/300: 100%|███████████████████████| 1600/1600 [00:06<00:00, 254.95it/s, loss (batch)=0.0537]\n",
      "Epoch 41/300:  96%|██████████████████████████████████████████▏ | 1536/1600 [00:02<00:00, 810.28it/s]"
     ]
    },
    {
     "name": "stdout",
     "output_type": "stream",
     "text": [
      "QRS_acc: 0.9461\n",
      "Scoring complete.\n",
      "QRS_acc: 0.8742\n",
      "Scoring complete.\n",
      "ECG-SEQ-LAB - INFO - \n",
      "Train epoch_41:\n",
      "--------------------\n",
      "train/epoch_loss:        0.3668876066803932\n",
      "train/qrs_score:         0.9461\n",
      "\n",
      "test/qrs_score:          0.8742\n",
      "---------------------------------\n",
      "\n",
      "ECG-SEQ-LAB - INFO - \n",
      "Train epoch_41:\n",
      "--------------------\n",
      "train/epoch_loss:        0.3668876066803932\n",
      "train/qrs_score:         0.9461\n",
      "\n",
      "test/qrs_score:          0.8742\n",
      "---------------------------------\n",
      "\n",
      "ECG-SEQ-LAB - INFO - Checkpoint 41 saved!\n",
      "ECG-SEQ-LAB - INFO - Checkpoint 41 saved!\n"
     ]
    },
    {
     "name": "stderr",
     "output_type": "stream",
     "text": [
      "Epoch 41/300: 100%|████████████████████████████████████████████| 1600/1600 [00:06<00:00, 255.19it/s]\n",
      "Epoch 42/300:  96%|██████████████████████████████████████████▏ | 1536/1600 [00:02<00:00, 804.54it/s]"
     ]
    },
    {
     "name": "stdout",
     "output_type": "stream",
     "text": [
      "QRS_acc: 0.9393\n",
      "Scoring complete.\n",
      "QRS_acc: 0.8722\n",
      "Scoring complete.\n",
      "ECG-SEQ-LAB - INFO - \n",
      "Train epoch_42:\n",
      "--------------------\n",
      "train/epoch_loss:        0.36312470585107803\n",
      "train/qrs_score:         0.9393\n",
      "\n",
      "test/qrs_score:          0.8722\n",
      "---------------------------------\n",
      "\n",
      "ECG-SEQ-LAB - INFO - \n",
      "Train epoch_42:\n",
      "--------------------\n",
      "train/epoch_loss:        0.36312470585107803\n",
      "train/qrs_score:         0.9393\n",
      "\n",
      "test/qrs_score:          0.8722\n",
      "---------------------------------\n",
      "\n",
      "ECG-SEQ-LAB - INFO - Checkpoint 42 saved!\n",
      "ECG-SEQ-LAB - INFO - Checkpoint 42 saved!\n"
     ]
    },
    {
     "name": "stderr",
     "output_type": "stream",
     "text": [
      "Epoch 42/300: 100%|████████████████████████████████████████████| 1600/1600 [00:06<00:00, 252.58it/s]\n",
      "Epoch 43/300:  80%|██████████████████▍    | 1280/1600 [00:02<00:00, 742.73it/s, loss (batch)=0.0512]"
     ]
    },
    {
     "name": "stdout",
     "output_type": "stream",
     "text": [
      "ECG-SEQ-LAB - INFO - Train step_300: loss : 0.0511837862432003\n",
      "ECG-SEQ-LAB - INFO - Train step_300: loss : 0.0511837862432003\n"
     ]
    },
    {
     "name": "stderr",
     "output_type": "stream",
     "text": [
      "\r",
      "Epoch 43/300:  96%|██████████████████████ | 1536/1600 [00:02<00:00, 809.66it/s, loss (batch)=0.0512]"
     ]
    },
    {
     "name": "stdout",
     "output_type": "stream",
     "text": [
      "QRS_acc: 0.9524\n",
      "Scoring complete.\n",
      "QRS_acc: 0.8825\n",
      "Scoring complete.\n",
      "ECG-SEQ-LAB - INFO - \n",
      "Train epoch_43:\n",
      "--------------------\n",
      "train/epoch_loss:        0.3546164222061634\n",
      "train/qrs_score:         0.9524\n",
      "\n",
      "test/qrs_score:          0.8825\n",
      "---------------------------------\n",
      "\n",
      "ECG-SEQ-LAB - INFO - \n",
      "Train epoch_43:\n",
      "--------------------\n",
      "train/epoch_loss:        0.3546164222061634\n",
      "train/qrs_score:         0.9524\n",
      "\n",
      "test/qrs_score:          0.8825\n",
      "---------------------------------\n",
      "\n",
      "ECG-SEQ-LAB - INFO - Checkpoint 43 saved!\n",
      "ECG-SEQ-LAB - INFO - Checkpoint 43 saved!\n"
     ]
    },
    {
     "name": "stderr",
     "output_type": "stream",
     "text": [
      "Epoch 43/300: 100%|███████████████████████| 1600/1600 [00:06<00:00, 254.21it/s, loss (batch)=0.0512]\n",
      "Epoch 44/300:  96%|██████████████████████████████████████████▏ | 1536/1600 [00:02<00:00, 809.34it/s]"
     ]
    },
    {
     "name": "stdout",
     "output_type": "stream",
     "text": [
      "QRS_acc: 0.9516\n",
      "Scoring complete.\n",
      "QRS_acc: 0.8778\n",
      "Scoring complete.\n",
      "ECG-SEQ-LAB - INFO - \n",
      "Train epoch_44:\n",
      "--------------------\n",
      "train/epoch_loss:        0.36393004283308983\n",
      "train/qrs_score:         0.9516\n",
      "\n",
      "test/qrs_score:          0.8778\n",
      "---------------------------------\n",
      "\n",
      "ECG-SEQ-LAB - INFO - \n",
      "Train epoch_44:\n",
      "--------------------\n",
      "train/epoch_loss:        0.36393004283308983\n",
      "train/qrs_score:         0.9516\n",
      "\n",
      "test/qrs_score:          0.8778\n",
      "---------------------------------\n",
      "\n",
      "ECG-SEQ-LAB - INFO - Checkpoint 44 saved!\n",
      "ECG-SEQ-LAB - INFO - Checkpoint 44 saved!\n"
     ]
    },
    {
     "name": "stderr",
     "output_type": "stream",
     "text": [
      "Epoch 44/300: 100%|████████████████████████████████████████████| 1600/1600 [00:06<00:00, 250.41it/s]\n",
      "Epoch 45/300:  96%|██████████████████████████████████████████▏ | 1536/1600 [00:02<00:00, 814.58it/s]"
     ]
    },
    {
     "name": "stdout",
     "output_type": "stream",
     "text": [
      "QRS_acc: 0.9601\n",
      "Scoring complete.\n",
      "QRS_acc: 0.8802\n",
      "Scoring complete.\n",
      "ECG-SEQ-LAB - INFO - \n",
      "Train epoch_45:\n",
      "--------------------\n",
      "train/epoch_loss:        0.34180204197764397\n",
      "train/qrs_score:         0.9601\n",
      "\n",
      "test/qrs_score:          0.8802\n",
      "---------------------------------\n",
      "\n",
      "ECG-SEQ-LAB - INFO - \n",
      "Train epoch_45:\n",
      "--------------------\n",
      "train/epoch_loss:        0.34180204197764397\n",
      "train/qrs_score:         0.9601\n",
      "\n",
      "test/qrs_score:          0.8802\n",
      "---------------------------------\n",
      "\n",
      "ECG-SEQ-LAB - INFO - Checkpoint 45 saved!\n",
      "ECG-SEQ-LAB - INFO - Checkpoint 45 saved!\n"
     ]
    },
    {
     "name": "stderr",
     "output_type": "stream",
     "text": [
      "Epoch 45/300: 100%|████████████████████████████████████████████| 1600/1600 [00:06<00:00, 255.18it/s]\n",
      "Epoch 46/300:  64%|███████████████▎        | 1024/1600 [00:02<00:00, 645.12it/s, loss (batch)=0.049]"
     ]
    },
    {
     "name": "stdout",
     "output_type": "stream",
     "text": [
      "ECG-SEQ-LAB - INFO - Train step_320: loss : 0.048968907445669174\n",
      "ECG-SEQ-LAB - INFO - Train step_320: loss : 0.048968907445669174\n"
     ]
    },
    {
     "name": "stderr",
     "output_type": "stream",
     "text": [
      "Epoch 46/300:  96%|███████████████████████ | 1536/1600 [00:02<00:00, 814.59it/s, loss (batch)=0.049]"
     ]
    },
    {
     "name": "stdout",
     "output_type": "stream",
     "text": [
      "QRS_acc: 0.9541\n",
      "Scoring complete.\n",
      "QRS_acc: 0.8752\n",
      "Scoring complete.\n",
      "ECG-SEQ-LAB - INFO - \n",
      "Train epoch_46:\n",
      "--------------------\n",
      "train/epoch_loss:        0.34180592373013496\n",
      "train/qrs_score:         0.9541\n",
      "\n",
      "test/qrs_score:          0.8752\n",
      "---------------------------------\n",
      "\n",
      "ECG-SEQ-LAB - INFO - \n",
      "Train epoch_46:\n",
      "--------------------\n",
      "train/epoch_loss:        0.34180592373013496\n",
      "train/qrs_score:         0.9541\n",
      "\n",
      "test/qrs_score:          0.8752\n",
      "---------------------------------\n",
      "\n",
      "ECG-SEQ-LAB - INFO - Checkpoint 46 saved!\n",
      "ECG-SEQ-LAB - INFO - Checkpoint 46 saved!\n"
     ]
    },
    {
     "name": "stderr",
     "output_type": "stream",
     "text": [
      "Epoch 46/300: 100%|████████████████████████| 1600/1600 [00:06<00:00, 254.71it/s, loss (batch)=0.049]\n",
      "Epoch 47/300:  96%|██████████████████████████████████████████▏ | 1536/1600 [00:02<00:00, 806.89it/s]"
     ]
    },
    {
     "name": "stdout",
     "output_type": "stream",
     "text": [
      "QRS_acc: 0.9582\n",
      "Scoring complete.\n",
      "QRS_acc: 0.8688\n",
      "Scoring complete.\n",
      "ECG-SEQ-LAB - INFO - \n",
      "Train epoch_47:\n",
      "--------------------\n",
      "train/epoch_loss:        0.3414921723306179\n",
      "train/qrs_score:         0.9582\n",
      "\n",
      "test/qrs_score:          0.8688\n",
      "---------------------------------\n",
      "\n",
      "ECG-SEQ-LAB - INFO - \n",
      "Train epoch_47:\n",
      "--------------------\n",
      "train/epoch_loss:        0.3414921723306179\n",
      "train/qrs_score:         0.9582\n",
      "\n",
      "test/qrs_score:          0.8688\n",
      "---------------------------------\n",
      "\n",
      "ECG-SEQ-LAB - INFO - Checkpoint 47 saved!\n",
      "ECG-SEQ-LAB - INFO - Checkpoint 47 saved!\n"
     ]
    },
    {
     "name": "stderr",
     "output_type": "stream",
     "text": [
      "Epoch 47/300: 100%|████████████████████████████████████████████| 1600/1600 [00:06<00:00, 259.28it/s]\n",
      "Epoch 48/300:  96%|██████████████████████████████████████████▏ | 1536/1600 [00:02<00:00, 820.34it/s]"
     ]
    },
    {
     "name": "stdout",
     "output_type": "stream",
     "text": [
      "QRS_acc: 0.9591\n",
      "Scoring complete.\n",
      "QRS_acc: 0.8778\n",
      "Scoring complete.\n",
      "ECG-SEQ-LAB - INFO - \n",
      "Train epoch_48:\n",
      "--------------------\n",
      "train/epoch_loss:        0.3287040516734123\n",
      "train/qrs_score:         0.9591\n",
      "\n",
      "test/qrs_score:          0.8778\n",
      "---------------------------------\n",
      "\n",
      "ECG-SEQ-LAB - INFO - \n",
      "Train epoch_48:\n",
      "--------------------\n",
      "train/epoch_loss:        0.3287040516734123\n",
      "train/qrs_score:         0.9591\n",
      "\n",
      "test/qrs_score:          0.8778\n",
      "---------------------------------\n",
      "\n",
      "ECG-SEQ-LAB - INFO - Checkpoint 48 saved!\n",
      "ECG-SEQ-LAB - INFO - Checkpoint 48 saved!\n"
     ]
    },
    {
     "name": "stderr",
     "output_type": "stream",
     "text": [
      "Epoch 48/300: 100%|████████████████████████████████████████████| 1600/1600 [00:06<00:00, 259.72it/s]\n",
      "Epoch 49/300:  48%|████████████             | 768/1600 [00:02<00:01, 527.23it/s, loss (batch)=0.049]"
     ]
    },
    {
     "name": "stdout",
     "output_type": "stream",
     "text": [
      "ECG-SEQ-LAB - INFO - Train step_340: loss : 0.04899662360548973\n",
      "ECG-SEQ-LAB - INFO - Train step_340: loss : 0.04899662360548973\n"
     ]
    },
    {
     "name": "stderr",
     "output_type": "stream",
     "text": [
      "Epoch 49/300:  96%|███████████████████████ | 1536/1600 [00:02<00:00, 846.10it/s, loss (batch)=0.049]"
     ]
    },
    {
     "name": "stdout",
     "output_type": "stream",
     "text": [
      "QRS_acc: 0.9663\n",
      "Scoring complete.\n",
      "QRS_acc: 0.8875\n",
      "Scoring complete.\n",
      "ECG-SEQ-LAB - INFO - \n",
      "Train epoch_49:\n",
      "--------------------\n",
      "train/epoch_loss:        0.33938563242554665\n",
      "train/qrs_score:         0.9663\n",
      "\n",
      "test/qrs_score:          0.8875\n",
      "---------------------------------\n",
      "\n",
      "ECG-SEQ-LAB - INFO - \n",
      "Train epoch_49:\n",
      "--------------------\n",
      "train/epoch_loss:        0.33938563242554665\n",
      "train/qrs_score:         0.9663\n",
      "\n",
      "test/qrs_score:          0.8875\n",
      "---------------------------------\n",
      "\n",
      "ECG-SEQ-LAB - INFO - Checkpoint 49 saved!\n",
      "ECG-SEQ-LAB - INFO - Checkpoint 49 saved!\n"
     ]
    },
    {
     "name": "stderr",
     "output_type": "stream",
     "text": [
      "Epoch 49/300: 100%|████████████████████████| 1600/1600 [00:06<00:00, 259.87it/s, loss (batch)=0.049]\n",
      "Epoch 50/300:  96%|██████████████████████████████████████████▏ | 1536/1600 [00:02<00:00, 785.36it/s]"
     ]
    },
    {
     "name": "stdout",
     "output_type": "stream",
     "text": [
      "QRS_acc: 0.9697\n",
      "Scoring complete.\n",
      "QRS_acc: 0.887\n",
      "Scoring complete.\n",
      "ECG-SEQ-LAB - INFO - \n",
      "Train epoch_50:\n",
      "--------------------\n",
      "train/epoch_loss:        0.31907160952687263\n",
      "train/qrs_score:         0.9697\n",
      "\n",
      "test/qrs_score:          0.887\n",
      "---------------------------------\n",
      "\n",
      "ECG-SEQ-LAB - INFO - \n",
      "Train epoch_50:\n",
      "--------------------\n",
      "train/epoch_loss:        0.31907160952687263\n",
      "train/qrs_score:         0.9697\n",
      "\n",
      "test/qrs_score:          0.887\n",
      "---------------------------------\n",
      "\n",
      "ECG-SEQ-LAB - INFO - Checkpoint 50 saved!\n",
      "ECG-SEQ-LAB - INFO - Checkpoint 50 saved!\n"
     ]
    },
    {
     "name": "stderr",
     "output_type": "stream",
     "text": [
      "Epoch 50/300: 100%|████████████████████████████████████████████| 1600/1600 [00:06<00:00, 254.04it/s]\n",
      "Epoch 51/300:  96%|██████████████████████████████████████████▏ | 1536/1600 [00:02<00:00, 814.43it/s]"
     ]
    },
    {
     "name": "stdout",
     "output_type": "stream",
     "text": [
      "QRS_acc: 0.9609\n",
      "Scoring complete.\n",
      "QRS_acc: 0.8765\n",
      "Scoring complete.\n",
      "ECG-SEQ-LAB - INFO - \n",
      "Train epoch_51:\n",
      "--------------------\n",
      "train/epoch_loss:        0.3120173439383507\n",
      "train/qrs_score:         0.9609\n",
      "\n",
      "test/qrs_score:          0.8765\n",
      "---------------------------------\n",
      "\n",
      "ECG-SEQ-LAB - INFO - \n",
      "Train epoch_51:\n",
      "--------------------\n",
      "train/epoch_loss:        0.3120173439383507\n",
      "train/qrs_score:         0.9609\n",
      "\n",
      "test/qrs_score:          0.8765\n",
      "---------------------------------\n",
      "\n",
      "ECG-SEQ-LAB - INFO - Checkpoint 51 saved!\n",
      "ECG-SEQ-LAB - INFO - Checkpoint 51 saved!\n"
     ]
    },
    {
     "name": "stderr",
     "output_type": "stream",
     "text": [
      "Epoch 51/300: 100%|████████████████████████████████████████████| 1600/1600 [00:06<00:00, 257.70it/s]\n",
      "Epoch 52/300:  32%|████████                 | 512/1600 [00:01<00:02, 370.01it/s, loss (batch)=0.047]"
     ]
    },
    {
     "name": "stdout",
     "output_type": "stream",
     "text": [
      "ECG-SEQ-LAB - INFO - Train step_360: loss : 0.04701092466711998\n",
      "ECG-SEQ-LAB - INFO - Train step_360: loss : 0.04701092466711998\n"
     ]
    },
    {
     "name": "stderr",
     "output_type": "stream",
     "text": [
      "Epoch 52/300:  96%|███████████████████████ | 1536/1600 [00:02<00:00, 812.10it/s, loss (batch)=0.047]"
     ]
    },
    {
     "name": "stdout",
     "output_type": "stream",
     "text": [
      "QRS_acc: 0.9583\n",
      "Scoring complete.\n",
      "QRS_acc: 0.8862\n",
      "Scoring complete.\n",
      "ECG-SEQ-LAB - INFO - \n",
      "Train epoch_52:\n",
      "--------------------\n",
      "train/epoch_loss:        0.3182138130068779\n",
      "train/qrs_score:         0.9583\n",
      "\n",
      "test/qrs_score:          0.8862\n",
      "---------------------------------\n",
      "\n",
      "ECG-SEQ-LAB - INFO - \n",
      "Train epoch_52:\n",
      "--------------------\n",
      "train/epoch_loss:        0.3182138130068779\n",
      "train/qrs_score:         0.9583\n",
      "\n",
      "test/qrs_score:          0.8862\n",
      "---------------------------------\n",
      "\n",
      "ECG-SEQ-LAB - INFO - Checkpoint 52 saved!\n",
      "ECG-SEQ-LAB - INFO - Checkpoint 52 saved!\n"
     ]
    },
    {
     "name": "stderr",
     "output_type": "stream",
     "text": [
      "Epoch 52/300: 100%|████████████████████████| 1600/1600 [00:06<00:00, 255.50it/s, loss (batch)=0.047]\n",
      "Epoch 53/300:  96%|██████████████████████████████████████████▏ | 1536/1600 [00:02<00:00, 814.91it/s]"
     ]
    },
    {
     "name": "stdout",
     "output_type": "stream",
     "text": [
      "QRS_acc: 0.9667\n",
      "Scoring complete.\n",
      "QRS_acc: 0.8818\n",
      "Scoring complete.\n",
      "ECG-SEQ-LAB - INFO - \n",
      "Train epoch_53:\n",
      "--------------------\n",
      "train/epoch_loss:        0.33065931871533394\n",
      "train/qrs_score:         0.9667\n",
      "\n",
      "test/qrs_score:          0.8818\n",
      "---------------------------------\n",
      "\n",
      "ECG-SEQ-LAB - INFO - \n",
      "Train epoch_53:\n",
      "--------------------\n",
      "train/epoch_loss:        0.33065931871533394\n",
      "train/qrs_score:         0.9667\n",
      "\n",
      "test/qrs_score:          0.8818\n",
      "---------------------------------\n",
      "\n",
      "ECG-SEQ-LAB - INFO - Checkpoint 53 saved!\n",
      "ECG-SEQ-LAB - INFO - Checkpoint 53 saved!\n"
     ]
    },
    {
     "name": "stderr",
     "output_type": "stream",
     "text": [
      "Epoch 53/300: 100%|████████████████████████████████████████████| 1600/1600 [00:06<00:00, 254.73it/s]\n",
      "Epoch 54/300:  96%|██████████████████████████████████████████▏ | 1536/1600 [00:02<00:00, 812.14it/s]"
     ]
    },
    {
     "name": "stdout",
     "output_type": "stream",
     "text": [
      "QRS_acc: 0.9512\n",
      "Scoring complete.\n",
      "QRS_acc: 0.8725\n",
      "Scoring complete.\n",
      "ECG-SEQ-LAB - INFO - \n",
      "Train epoch_54:\n",
      "--------------------\n",
      "train/epoch_loss:        0.326346792280674\n",
      "train/qrs_score:         0.9512\n",
      "\n",
      "test/qrs_score:          0.8725\n",
      "---------------------------------\n",
      "\n",
      "ECG-SEQ-LAB - INFO - \n",
      "Train epoch_54:\n",
      "--------------------\n",
      "train/epoch_loss:        0.326346792280674\n",
      "train/qrs_score:         0.9512\n",
      "\n",
      "test/qrs_score:          0.8725\n",
      "---------------------------------\n",
      "\n",
      "ECG-SEQ-LAB - INFO - Checkpoint 54 saved!\n",
      "ECG-SEQ-LAB - INFO - Checkpoint 54 saved!\n"
     ]
    },
    {
     "name": "stderr",
     "output_type": "stream",
     "text": [
      "Epoch 54/300: 100%|████████████████████████████████████████████| 1600/1600 [00:06<00:00, 253.65it/s]\n",
      "Epoch 55/300:  16%|███▊                    | 256/1600 [00:01<00:07, 190.55it/s, loss (batch)=0.0449]"
     ]
    },
    {
     "name": "stdout",
     "output_type": "stream",
     "text": [
      "ECG-SEQ-LAB - INFO - Train step_380: loss : 0.04489711672067642\n",
      "ECG-SEQ-LAB - INFO - Train step_380: loss : 0.04489711672067642\n"
     ]
    },
    {
     "name": "stderr",
     "output_type": "stream",
     "text": [
      "Epoch 55/300:  96%|██████████████████████ | 1536/1600 [00:02<00:00, 806.97it/s, loss (batch)=0.0449]"
     ]
    },
    {
     "name": "stdout",
     "output_type": "stream",
     "text": [
      "QRS_acc: 0.963\n",
      "Scoring complete.\n",
      "QRS_acc: 0.87\n",
      "Scoring complete.\n",
      "ECG-SEQ-LAB - INFO - \n",
      "Train epoch_55:\n",
      "--------------------\n",
      "train/epoch_loss:        0.3186142221093178\n",
      "train/qrs_score:         0.963\n",
      "\n",
      "test/qrs_score:          0.87\n",
      "---------------------------------\n",
      "\n",
      "ECG-SEQ-LAB - INFO - \n",
      "Train epoch_55:\n",
      "--------------------\n",
      "train/epoch_loss:        0.3186142221093178\n",
      "train/qrs_score:         0.963\n",
      "\n",
      "test/qrs_score:          0.87\n",
      "---------------------------------\n",
      "\n",
      "ECG-SEQ-LAB - INFO - Checkpoint 55 saved!\n",
      "ECG-SEQ-LAB - INFO - Checkpoint 55 saved!\n"
     ]
    },
    {
     "name": "stderr",
     "output_type": "stream",
     "text": [
      "Epoch 55/300: 100%|███████████████████████| 1600/1600 [00:06<00:00, 255.27it/s, loss (batch)=0.0449]\n",
      "Epoch 56/300:  96%|██████████████████████████████████████████▏ | 1536/1600 [00:02<00:00, 816.24it/s]"
     ]
    },
    {
     "name": "stdout",
     "output_type": "stream",
     "text": [
      "QRS_acc: 0.966\n",
      "Scoring complete.\n",
      "QRS_acc: 0.8822\n",
      "Scoring complete.\n",
      "ECG-SEQ-LAB - INFO - \n",
      "Train epoch_56:\n",
      "--------------------\n",
      "train/epoch_loss:        0.30326081067323685\n",
      "train/qrs_score:         0.966\n",
      "\n",
      "test/qrs_score:          0.8822\n",
      "---------------------------------\n",
      "\n",
      "ECG-SEQ-LAB - INFO - \n",
      "Train epoch_56:\n",
      "--------------------\n",
      "train/epoch_loss:        0.30326081067323685\n",
      "train/qrs_score:         0.966\n",
      "\n",
      "test/qrs_score:          0.8822\n",
      "---------------------------------\n",
      "\n",
      "ECG-SEQ-LAB - INFO - Checkpoint 56 saved!\n",
      "ECG-SEQ-LAB - INFO - Checkpoint 56 saved!\n"
     ]
    },
    {
     "name": "stderr",
     "output_type": "stream",
     "text": [
      "Epoch 56/300: 100%|████████████████████████████████████████████| 1600/1600 [00:06<00:00, 255.07it/s]\n",
      "Epoch 57/300:  96%|██████████████████████████████████████████▏ | 1536/1600 [00:02<00:00, 818.68it/s]"
     ]
    },
    {
     "name": "stdout",
     "output_type": "stream",
     "text": [
      "QRS_acc: 0.9737\n",
      "Scoring complete.\n",
      "QRS_acc: 0.8875\n",
      "Scoring complete.\n",
      "ECG-SEQ-LAB - INFO - \n",
      "Train epoch_57:\n",
      "--------------------\n",
      "train/epoch_loss:        0.2958724610507488\n",
      "train/qrs_score:         0.9737\n",
      "\n",
      "test/qrs_score:          0.8875\n",
      "---------------------------------\n",
      "\n",
      "ECG-SEQ-LAB - INFO - \n",
      "Train epoch_57:\n",
      "--------------------\n",
      "train/epoch_loss:        0.2958724610507488\n",
      "train/qrs_score:         0.9737\n",
      "\n",
      "test/qrs_score:          0.8875\n",
      "---------------------------------\n",
      "\n",
      "ECG-SEQ-LAB - INFO - Checkpoint 57 saved!\n",
      "ECG-SEQ-LAB - INFO - Checkpoint 57 saved!\n"
     ]
    },
    {
     "name": "stderr",
     "output_type": "stream",
     "text": [
      "Epoch 57/300: 100%|████████████████████████████████████████████| 1600/1600 [00:06<00:00, 257.27it/s]\n",
      "Epoch 58/300:   0%|                                    | 0/1600 [00:01<?, ?it/s, loss (batch)=0.043]"
     ]
    },
    {
     "name": "stdout",
     "output_type": "stream",
     "text": [
      "ECG-SEQ-LAB - INFO - Train step_400: loss : 0.042972031980752945\n",
      "ECG-SEQ-LAB - INFO - Train step_400: loss : 0.042972031980752945\n"
     ]
    },
    {
     "name": "stderr",
     "output_type": "stream",
     "text": [
      "Epoch 58/300:  96%|███████████████████████ | 1536/1600 [00:02<00:00, 809.63it/s, loss (batch)=0.043]"
     ]
    },
    {
     "name": "stdout",
     "output_type": "stream",
     "text": [
      "QRS_acc: 0.9759\n",
      "Scoring complete.\n",
      "QRS_acc: 0.8872\n",
      "Scoring complete.\n",
      "ECG-SEQ-LAB - INFO - \n",
      "Train epoch_58:\n",
      "--------------------\n",
      "train/epoch_loss:        0.30204181373119354\n",
      "train/qrs_score:         0.9759\n",
      "\n",
      "test/qrs_score:          0.8872\n",
      "---------------------------------\n",
      "\n",
      "ECG-SEQ-LAB - INFO - \n",
      "Train epoch_58:\n",
      "--------------------\n",
      "train/epoch_loss:        0.30204181373119354\n",
      "train/qrs_score:         0.9759\n",
      "\n",
      "test/qrs_score:          0.8872\n",
      "---------------------------------\n",
      "\n",
      "ECG-SEQ-LAB - INFO - Checkpoint 58 saved!\n",
      "ECG-SEQ-LAB - INFO - Checkpoint 58 saved!\n"
     ]
    },
    {
     "name": "stderr",
     "output_type": "stream",
     "text": [
      "Epoch 58/300: 100%|████████████████████████| 1600/1600 [00:06<00:00, 253.82it/s, loss (batch)=0.043]\n",
      "Epoch 59/300:  96%|██████████████████████████████████████████▏ | 1536/1600 [00:02<00:00, 822.40it/s]"
     ]
    },
    {
     "name": "stdout",
     "output_type": "stream",
     "text": [
      "QRS_acc: 0.9707\n",
      "Scoring complete.\n",
      "QRS_acc: 0.8895\n",
      "Scoring complete.\n",
      "ECG-SEQ-LAB - INFO - \n",
      "Train epoch_59:\n",
      "--------------------\n",
      "train/epoch_loss:        0.29766740277409554\n",
      "train/qrs_score:         0.9707\n",
      "\n",
      "test/qrs_score:          0.8895\n",
      "---------------------------------\n",
      "\n",
      "ECG-SEQ-LAB - INFO - \n",
      "Train epoch_59:\n",
      "--------------------\n",
      "train/epoch_loss:        0.29766740277409554\n",
      "train/qrs_score:         0.9707\n",
      "\n",
      "test/qrs_score:          0.8895\n",
      "---------------------------------\n",
      "\n",
      "ECG-SEQ-LAB - INFO - Checkpoint 59 saved!\n",
      "ECG-SEQ-LAB - INFO - Checkpoint 59 saved!\n"
     ]
    },
    {
     "name": "stderr",
     "output_type": "stream",
     "text": [
      "Epoch 59/300: 100%|████████████████████████████████████████████| 1600/1600 [00:06<00:00, 258.87it/s]\n",
      "Epoch 60/300:  96%|██████████████████████ | 1536/1600 [00:02<00:00, 789.11it/s, loss (batch)=0.0391]"
     ]
    },
    {
     "name": "stdout",
     "output_type": "stream",
     "text": [
      "ECG-SEQ-LAB - INFO - Train step_420: loss : 0.03909183666110039\n",
      "ECG-SEQ-LAB - INFO - Train step_420: loss : 0.03909183666110039\n",
      "QRS_acc: 0.9742\n",
      "Scoring complete.\n",
      "QRS_acc: 0.88\n",
      "Scoring complete.\n",
      "ECG-SEQ-LAB - INFO - \n",
      "Train epoch_60:\n",
      "--------------------\n",
      "train/epoch_loss:        0.28952573612332344\n",
      "train/qrs_score:         0.9742\n",
      "\n",
      "test/qrs_score:          0.88\n",
      "---------------------------------\n",
      "\n",
      "ECG-SEQ-LAB - INFO - \n",
      "Train epoch_60:\n",
      "--------------------\n",
      "train/epoch_loss:        0.28952573612332344\n",
      "train/qrs_score:         0.9742\n",
      "\n",
      "test/qrs_score:          0.88\n",
      "---------------------------------\n",
      "\n",
      "ECG-SEQ-LAB - INFO - Checkpoint 60 saved!\n",
      "ECG-SEQ-LAB - INFO - Checkpoint 60 saved!\n"
     ]
    },
    {
     "name": "stderr",
     "output_type": "stream",
     "text": [
      "Epoch 60/300: 100%|███████████████████████| 1600/1600 [00:06<00:00, 255.71it/s, loss (batch)=0.0391]\n",
      "Epoch 61/300:  96%|██████████████████████████████████████████▏ | 1536/1600 [00:02<00:00, 797.26it/s]"
     ]
    },
    {
     "name": "stdout",
     "output_type": "stream",
     "text": [
      "QRS_acc: 0.9711\n",
      "Scoring complete.\n",
      "QRS_acc: 0.8798\n",
      "Scoring complete.\n",
      "ECG-SEQ-LAB - INFO - \n",
      "Train epoch_61:\n",
      "--------------------\n",
      "train/epoch_loss:        0.2862809933722019\n",
      "train/qrs_score:         0.9711\n",
      "\n",
      "test/qrs_score:          0.8798\n",
      "---------------------------------\n",
      "\n",
      "ECG-SEQ-LAB - INFO - \n",
      "Train epoch_61:\n",
      "--------------------\n",
      "train/epoch_loss:        0.2862809933722019\n",
      "train/qrs_score:         0.9711\n",
      "\n",
      "test/qrs_score:          0.8798\n",
      "---------------------------------\n",
      "\n",
      "ECG-SEQ-LAB - INFO - Checkpoint 61 saved!\n",
      "ECG-SEQ-LAB - INFO - Checkpoint 61 saved!\n"
     ]
    },
    {
     "name": "stderr",
     "output_type": "stream",
     "text": [
      "Epoch 61/300: 100%|████████████████████████████████████████████| 1600/1600 [00:06<00:00, 255.60it/s]\n",
      "Epoch 62/300:  96%|██████████████████████████████████████████▏ | 1536/1600 [00:02<00:00, 814.43it/s]"
     ]
    },
    {
     "name": "stdout",
     "output_type": "stream",
     "text": [
      "QRS_acc: 0.9764\n",
      "Scoring complete.\n",
      "QRS_acc: 0.8812\n",
      "Scoring complete.\n",
      "ECG-SEQ-LAB - INFO - \n",
      "Train epoch_62:\n",
      "--------------------\n",
      "train/epoch_loss:        0.2846286706626415\n",
      "train/qrs_score:         0.9764\n",
      "\n",
      "test/qrs_score:          0.8812\n",
      "---------------------------------\n",
      "\n",
      "ECG-SEQ-LAB - INFO - \n",
      "Train epoch_62:\n",
      "--------------------\n",
      "train/epoch_loss:        0.2846286706626415\n",
      "train/qrs_score:         0.9764\n",
      "\n",
      "test/qrs_score:          0.8812\n",
      "---------------------------------\n",
      "\n",
      "ECG-SEQ-LAB - INFO - Checkpoint 62 saved!\n",
      "ECG-SEQ-LAB - INFO - Checkpoint 62 saved!\n"
     ]
    },
    {
     "name": "stderr",
     "output_type": "stream",
     "text": [
      "Epoch 62/300: 100%|████████████████████████████████████████████| 1600/1600 [00:06<00:00, 257.19it/s]\n",
      "Epoch 63/300:  80%|██████████████████▍    | 1280/1600 [00:02<00:00, 723.66it/s, loss (batch)=0.0402]"
     ]
    },
    {
     "name": "stdout",
     "output_type": "stream",
     "text": [
      "ECG-SEQ-LAB - INFO - Train step_440: loss : 0.04015505313873291\n",
      "ECG-SEQ-LAB - INFO - Train step_440: loss : 0.04015505313873291\n"
     ]
    },
    {
     "name": "stderr",
     "output_type": "stream",
     "text": [
      "\r",
      "Epoch 63/300:  96%|██████████████████████ | 1536/1600 [00:02<00:00, 795.51it/s, loss (batch)=0.0402]"
     ]
    },
    {
     "name": "stdout",
     "output_type": "stream",
     "text": [
      "QRS_acc: 0.976\n",
      "Scoring complete.\n",
      "QRS_acc: 0.8795\n",
      "Scoring complete.\n",
      "ECG-SEQ-LAB - INFO - \n",
      "Train epoch_63:\n",
      "--------------------\n",
      "train/epoch_loss:        0.2805664874613285\n",
      "train/qrs_score:         0.976\n",
      "\n",
      "test/qrs_score:          0.8795\n",
      "---------------------------------\n",
      "\n",
      "ECG-SEQ-LAB - INFO - \n",
      "Train epoch_63:\n",
      "--------------------\n",
      "train/epoch_loss:        0.2805664874613285\n",
      "train/qrs_score:         0.976\n",
      "\n",
      "test/qrs_score:          0.8795\n",
      "---------------------------------\n",
      "\n",
      "ECG-SEQ-LAB - INFO - Checkpoint 63 saved!\n",
      "ECG-SEQ-LAB - INFO - Checkpoint 63 saved!\n"
     ]
    },
    {
     "name": "stderr",
     "output_type": "stream",
     "text": [
      "Epoch 63/300: 100%|███████████████████████| 1600/1600 [00:06<00:00, 252.43it/s, loss (batch)=0.0402]\n",
      "Epoch 64/300:  96%|██████████████████████████████████████████▏ | 1536/1600 [00:02<00:00, 812.88it/s]"
     ]
    },
    {
     "name": "stdout",
     "output_type": "stream",
     "text": [
      "QRS_acc: 0.9796\n",
      "Scoring complete.\n",
      "QRS_acc: 0.8805\n",
      "Scoring complete.\n",
      "ECG-SEQ-LAB - INFO - \n",
      "Train epoch_64:\n",
      "--------------------\n",
      "train/epoch_loss:        0.27079006657004356\n",
      "train/qrs_score:         0.9796\n",
      "\n",
      "test/qrs_score:          0.8805\n",
      "---------------------------------\n",
      "\n",
      "ECG-SEQ-LAB - INFO - \n",
      "Train epoch_64:\n",
      "--------------------\n",
      "train/epoch_loss:        0.27079006657004356\n",
      "train/qrs_score:         0.9796\n",
      "\n",
      "test/qrs_score:          0.8805\n",
      "---------------------------------\n",
      "\n",
      "ECG-SEQ-LAB - INFO - Checkpoint 64 saved!\n",
      "ECG-SEQ-LAB - INFO - Checkpoint 64 saved!\n"
     ]
    },
    {
     "name": "stderr",
     "output_type": "stream",
     "text": [
      "Epoch 64/300: 100%|████████████████████████████████████████████| 1600/1600 [00:06<00:00, 256.46it/s]\n",
      "Epoch 65/300:  96%|██████████████████████████████████████████▏ | 1536/1600 [00:02<00:00, 803.51it/s]"
     ]
    },
    {
     "name": "stdout",
     "output_type": "stream",
     "text": [
      "QRS_acc: 0.9735\n",
      "Scoring complete.\n",
      "QRS_acc: 0.881\n",
      "Scoring complete.\n",
      "ECG-SEQ-LAB - INFO - \n",
      "Train epoch_65:\n",
      "--------------------\n",
      "train/epoch_loss:        0.2765410840511322\n",
      "train/qrs_score:         0.9735\n",
      "\n",
      "test/qrs_score:          0.881\n",
      "---------------------------------\n",
      "\n",
      "ECG-SEQ-LAB - INFO - \n",
      "Train epoch_65:\n",
      "--------------------\n",
      "train/epoch_loss:        0.2765410840511322\n",
      "train/qrs_score:         0.9735\n",
      "\n",
      "test/qrs_score:          0.881\n",
      "---------------------------------\n",
      "\n",
      "ECG-SEQ-LAB - INFO - Checkpoint 65 saved!\n",
      "ECG-SEQ-LAB - INFO - Checkpoint 65 saved!\n"
     ]
    },
    {
     "name": "stderr",
     "output_type": "stream",
     "text": [
      "Epoch 65/300: 100%|████████████████████████████████████████████| 1600/1600 [00:06<00:00, 255.00it/s]\n",
      "Epoch 66/300:  64%|██████████████▋        | 1024/1600 [00:02<00:00, 632.55it/s, loss (batch)=0.0392]"
     ]
    },
    {
     "name": "stdout",
     "output_type": "stream",
     "text": [
      "ECG-SEQ-LAB - INFO - Train step_460: loss : 0.03921624645590782\n",
      "ECG-SEQ-LAB - INFO - Train step_460: loss : 0.03921624645590782\n"
     ]
    },
    {
     "name": "stderr",
     "output_type": "stream",
     "text": [
      "Epoch 66/300:  96%|██████████████████████ | 1536/1600 [00:02<00:00, 801.18it/s, loss (batch)=0.0392]"
     ]
    },
    {
     "name": "stdout",
     "output_type": "stream",
     "text": [
      "QRS_acc: 0.9691\n",
      "Scoring complete.\n",
      "QRS_acc: 0.861\n",
      "Scoring complete.\n",
      "ECG-SEQ-LAB - INFO - \n",
      "Train epoch_66:\n",
      "--------------------\n",
      "train/epoch_loss:        0.2884536124765873\n",
      "train/qrs_score:         0.9691\n",
      "\n",
      "test/qrs_score:          0.861\n",
      "---------------------------------\n",
      "\n",
      "ECG-SEQ-LAB - INFO - \n",
      "Train epoch_66:\n",
      "--------------------\n",
      "train/epoch_loss:        0.2884536124765873\n",
      "train/qrs_score:         0.9691\n",
      "\n",
      "test/qrs_score:          0.861\n",
      "---------------------------------\n",
      "\n",
      "ECG-SEQ-LAB - INFO - Checkpoint 66 saved!\n",
      "ECG-SEQ-LAB - INFO - Checkpoint 66 saved!\n"
     ]
    },
    {
     "name": "stderr",
     "output_type": "stream",
     "text": [
      "Epoch 66/300: 100%|███████████████████████| 1600/1600 [00:06<00:00, 252.25it/s, loss (batch)=0.0392]\n",
      "Epoch 67/300:  96%|██████████████████████████████████████████▏ | 1536/1600 [00:02<00:00, 814.77it/s]"
     ]
    },
    {
     "name": "stdout",
     "output_type": "stream",
     "text": [
      "QRS_acc: 0.9781\n",
      "Scoring complete.\n",
      "QRS_acc: 0.8752\n",
      "Scoring complete.\n",
      "ECG-SEQ-LAB - INFO - \n",
      "Train epoch_67:\n",
      "--------------------\n",
      "train/epoch_loss:        0.2984721437096596\n",
      "train/qrs_score:         0.9781\n",
      "\n",
      "test/qrs_score:          0.8752\n",
      "---------------------------------\n",
      "\n",
      "ECG-SEQ-LAB - INFO - \n",
      "Train epoch_67:\n",
      "--------------------\n",
      "train/epoch_loss:        0.2984721437096596\n",
      "train/qrs_score:         0.9781\n",
      "\n",
      "test/qrs_score:          0.8752\n",
      "---------------------------------\n",
      "\n",
      "ECG-SEQ-LAB - INFO - Checkpoint 67 saved!\n",
      "ECG-SEQ-LAB - INFO - Checkpoint 67 saved!\n"
     ]
    },
    {
     "name": "stderr",
     "output_type": "stream",
     "text": [
      "Epoch 67/300: 100%|████████████████████████████████████████████| 1600/1600 [00:06<00:00, 259.99it/s]\n",
      "Epoch 68/300:  96%|██████████████████████████████████████████▏ | 1536/1600 [00:02<00:00, 867.88it/s]"
     ]
    },
    {
     "name": "stdout",
     "output_type": "stream",
     "text": [
      "QRS_acc: 0.9772\n",
      "Scoring complete.\n",
      "QRS_acc: 0.8895\n",
      "Scoring complete.\n",
      "ECG-SEQ-LAB - INFO - \n",
      "Train epoch_68:\n",
      "--------------------\n",
      "train/epoch_loss:        0.2817763388156891\n",
      "train/qrs_score:         0.9772\n",
      "\n",
      "test/qrs_score:          0.8895\n",
      "---------------------------------\n",
      "\n",
      "ECG-SEQ-LAB - INFO - \n",
      "Train epoch_68:\n",
      "--------------------\n",
      "train/epoch_loss:        0.2817763388156891\n",
      "train/qrs_score:         0.9772\n",
      "\n",
      "test/qrs_score:          0.8895\n",
      "---------------------------------\n",
      "\n",
      "ECG-SEQ-LAB - INFO - Checkpoint 68 saved!\n",
      "ECG-SEQ-LAB - INFO - Checkpoint 68 saved!\n"
     ]
    },
    {
     "name": "stderr",
     "output_type": "stream",
     "text": [
      "Epoch 68/300: 100%|████████████████████████████████████████████| 1600/1600 [00:06<00:00, 258.47it/s]\n",
      "Epoch 69/300:  48%|███████████▌            | 768/1600 [00:02<00:01, 531.38it/s, loss (batch)=0.0399]"
     ]
    },
    {
     "name": "stdout",
     "output_type": "stream",
     "text": [
      "ECG-SEQ-LAB - INFO - Train step_480: loss : 0.039904266595840454\n",
      "ECG-SEQ-LAB - INFO - Train step_480: loss : 0.039904266595840454\n"
     ]
    },
    {
     "name": "stderr",
     "output_type": "stream",
     "text": [
      "Epoch 69/300:  96%|██████████████████████ | 1536/1600 [00:02<00:00, 817.04it/s, loss (batch)=0.0399]"
     ]
    },
    {
     "name": "stdout",
     "output_type": "stream",
     "text": [
      "QRS_acc: 0.9745\n",
      "Scoring complete.\n",
      "QRS_acc: 0.872\n",
      "Scoring complete.\n",
      "ECG-SEQ-LAB - INFO - \n",
      "Train epoch_69:\n",
      "--------------------\n",
      "train/epoch_loss:        0.26657817885279655\n",
      "train/qrs_score:         0.9745\n",
      "\n",
      "test/qrs_score:          0.872\n",
      "---------------------------------\n",
      "\n",
      "ECG-SEQ-LAB - INFO - \n",
      "Train epoch_69:\n",
      "--------------------\n",
      "train/epoch_loss:        0.26657817885279655\n",
      "train/qrs_score:         0.9745\n",
      "\n",
      "test/qrs_score:          0.872\n",
      "---------------------------------\n",
      "\n",
      "ECG-SEQ-LAB - INFO - Checkpoint 69 saved!\n",
      "ECG-SEQ-LAB - INFO - Checkpoint 69 saved!\n"
     ]
    },
    {
     "name": "stderr",
     "output_type": "stream",
     "text": [
      "Epoch 69/300: 100%|███████████████████████| 1600/1600 [00:06<00:00, 256.89it/s, loss (batch)=0.0399]\n",
      "Epoch 70/300:  96%|██████████████████████████████████████████▏ | 1536/1600 [00:02<00:00, 800.20it/s]"
     ]
    },
    {
     "name": "stdout",
     "output_type": "stream",
     "text": [
      "QRS_acc: 0.9781\n",
      "Scoring complete.\n",
      "QRS_acc: 0.8845\n",
      "Scoring complete.\n",
      "ECG-SEQ-LAB - INFO - \n",
      "Train epoch_70:\n",
      "--------------------\n",
      "train/epoch_loss:        0.2652142681181431\n",
      "train/qrs_score:         0.9781\n",
      "\n",
      "test/qrs_score:          0.8845\n",
      "---------------------------------\n",
      "\n",
      "ECG-SEQ-LAB - INFO - \n",
      "Train epoch_70:\n",
      "--------------------\n",
      "train/epoch_loss:        0.2652142681181431\n",
      "train/qrs_score:         0.9781\n",
      "\n",
      "test/qrs_score:          0.8845\n",
      "---------------------------------\n",
      "\n",
      "ECG-SEQ-LAB - INFO - Checkpoint 70 saved!\n",
      "ECG-SEQ-LAB - INFO - Checkpoint 70 saved!\n"
     ]
    },
    {
     "name": "stderr",
     "output_type": "stream",
     "text": [
      "Epoch 70/300: 100%|████████████████████████████████████████████| 1600/1600 [00:06<00:00, 249.35it/s]\n",
      "Epoch 71/300:  96%|██████████████████████████████████████████▏ | 1536/1600 [00:02<00:00, 809.37it/s]"
     ]
    },
    {
     "name": "stdout",
     "output_type": "stream",
     "text": [
      "QRS_acc: 0.9689\n",
      "Scoring complete.\n",
      "QRS_acc: 0.8782\n",
      "Scoring complete.\n",
      "ECG-SEQ-LAB - INFO - \n",
      "Train epoch_71:\n",
      "--------------------\n",
      "train/epoch_loss:        0.2664968818426132\n",
      "train/qrs_score:         0.9689\n",
      "\n",
      "test/qrs_score:          0.8782\n",
      "---------------------------------\n",
      "\n",
      "ECG-SEQ-LAB - INFO - \n",
      "Train epoch_71:\n",
      "--------------------\n",
      "train/epoch_loss:        0.2664968818426132\n",
      "train/qrs_score:         0.9689\n",
      "\n",
      "test/qrs_score:          0.8782\n",
      "---------------------------------\n",
      "\n",
      "ECG-SEQ-LAB - INFO - Checkpoint 71 saved!\n",
      "ECG-SEQ-LAB - INFO - Checkpoint 71 saved!\n"
     ]
    },
    {
     "name": "stderr",
     "output_type": "stream",
     "text": [
      "Epoch 71/300: 100%|████████████████████████████████████████████| 1600/1600 [00:06<00:00, 255.52it/s]\n",
      "Epoch 72/300:  32%|███████▋                | 512/1600 [00:01<00:02, 371.22it/s, loss (batch)=0.0366]"
     ]
    },
    {
     "name": "stdout",
     "output_type": "stream",
     "text": [
      "ECG-SEQ-LAB - INFO - Train step_500: loss : 0.03655998408794403\n",
      "ECG-SEQ-LAB - INFO - Train step_500: loss : 0.03655998408794403\n"
     ]
    },
    {
     "name": "stderr",
     "output_type": "stream",
     "text": [
      "Epoch 72/300:  96%|██████████████████████ | 1536/1600 [00:02<00:00, 812.35it/s, loss (batch)=0.0366]"
     ]
    },
    {
     "name": "stdout",
     "output_type": "stream",
     "text": [
      "QRS_acc: 0.9727\n",
      "Scoring complete.\n",
      "QRS_acc: 0.876\n",
      "Scoring complete.\n",
      "ECG-SEQ-LAB - INFO - \n",
      "Train epoch_72:\n",
      "--------------------\n",
      "train/epoch_loss:        0.2619892731308937\n",
      "train/qrs_score:         0.9727\n",
      "\n",
      "test/qrs_score:          0.876\n",
      "---------------------------------\n",
      "\n",
      "ECG-SEQ-LAB - INFO - \n",
      "Train epoch_72:\n",
      "--------------------\n",
      "train/epoch_loss:        0.2619892731308937\n",
      "train/qrs_score:         0.9727\n",
      "\n",
      "test/qrs_score:          0.876\n",
      "---------------------------------\n",
      "\n",
      "ECG-SEQ-LAB - INFO - Checkpoint 72 saved!\n",
      "ECG-SEQ-LAB - INFO - Checkpoint 72 saved!\n"
     ]
    },
    {
     "name": "stderr",
     "output_type": "stream",
     "text": [
      "Epoch 72/300: 100%|███████████████████████| 1600/1600 [00:06<00:00, 254.35it/s, loss (batch)=0.0366]\n",
      "Epoch 73/300:  96%|██████████████████████████████████████████▏ | 1536/1600 [00:02<00:00, 841.95it/s]"
     ]
    },
    {
     "name": "stdout",
     "output_type": "stream",
     "text": [
      "QRS_acc: 0.9823\n",
      "Scoring complete.\n",
      "QRS_acc: 0.8818\n",
      "Scoring complete.\n",
      "ECG-SEQ-LAB - INFO - \n",
      "Train epoch_73:\n",
      "--------------------\n",
      "train/epoch_loss:        0.2510393559932709\n",
      "train/qrs_score:         0.9823\n",
      "\n",
      "test/qrs_score:          0.8818\n",
      "---------------------------------\n",
      "\n",
      "ECG-SEQ-LAB - INFO - \n",
      "Train epoch_73:\n",
      "--------------------\n",
      "train/epoch_loss:        0.2510393559932709\n",
      "train/qrs_score:         0.9823\n",
      "\n",
      "test/qrs_score:          0.8818\n",
      "---------------------------------\n",
      "\n",
      "ECG-SEQ-LAB - INFO - Checkpoint 73 saved!\n",
      "ECG-SEQ-LAB - INFO - Checkpoint 73 saved!\n"
     ]
    },
    {
     "name": "stderr",
     "output_type": "stream",
     "text": [
      "Epoch 73/300: 100%|████████████████████████████████████████████| 1600/1600 [00:06<00:00, 257.92it/s]\n",
      "Epoch 74/300:  96%|██████████████████████████████████████████▏ | 1536/1600 [00:02<00:00, 823.03it/s]"
     ]
    },
    {
     "name": "stdout",
     "output_type": "stream",
     "text": [
      "QRS_acc: 0.9713\n",
      "Scoring complete.\n",
      "QRS_acc: 0.8698\n",
      "Scoring complete.\n",
      "ECG-SEQ-LAB - INFO - \n",
      "Train epoch_74:\n",
      "--------------------\n",
      "train/epoch_loss:        0.2535514831542969\n",
      "train/qrs_score:         0.9713\n",
      "\n",
      "test/qrs_score:          0.8698\n",
      "---------------------------------\n",
      "\n",
      "ECG-SEQ-LAB - INFO - \n",
      "Train epoch_74:\n",
      "--------------------\n",
      "train/epoch_loss:        0.2535514831542969\n",
      "train/qrs_score:         0.9713\n",
      "\n",
      "test/qrs_score:          0.8698\n",
      "---------------------------------\n",
      "\n",
      "ECG-SEQ-LAB - INFO - Checkpoint 74 saved!\n",
      "ECG-SEQ-LAB - INFO - Checkpoint 74 saved!\n"
     ]
    },
    {
     "name": "stderr",
     "output_type": "stream",
     "text": [
      "Epoch 74/300: 100%|████████████████████████████████████████████| 1600/1600 [00:06<00:00, 254.53it/s]\n",
      "Epoch 75/300:  16%|███▊                    | 256/1600 [00:01<00:06, 198.07it/s, loss (batch)=0.0353]"
     ]
    },
    {
     "name": "stdout",
     "output_type": "stream",
     "text": [
      "ECG-SEQ-LAB - INFO - Train step_520: loss : 0.03527119755744934\n",
      "ECG-SEQ-LAB - INFO - Train step_520: loss : 0.03527119755744934\n"
     ]
    },
    {
     "name": "stderr",
     "output_type": "stream",
     "text": [
      "Epoch 75/300:  96%|██████████████████████ | 1536/1600 [00:02<00:00, 818.23it/s, loss (batch)=0.0353]"
     ]
    },
    {
     "name": "stdout",
     "output_type": "stream",
     "text": [
      "QRS_acc: 0.975\n",
      "Scoring complete.\n",
      "QRS_acc: 0.8825\n",
      "Scoring complete.\n",
      "ECG-SEQ-LAB - INFO - \n",
      "Train epoch_75:\n",
      "--------------------\n",
      "train/epoch_loss:        0.24815598875284195\n",
      "train/qrs_score:         0.975\n",
      "\n",
      "test/qrs_score:          0.8825\n",
      "---------------------------------\n",
      "\n",
      "ECG-SEQ-LAB - INFO - \n",
      "Train epoch_75:\n",
      "--------------------\n",
      "train/epoch_loss:        0.24815598875284195\n",
      "train/qrs_score:         0.975\n",
      "\n",
      "test/qrs_score:          0.8825\n",
      "---------------------------------\n",
      "\n",
      "ECG-SEQ-LAB - INFO - Checkpoint 75 saved!\n",
      "ECG-SEQ-LAB - INFO - Checkpoint 75 saved!\n"
     ]
    },
    {
     "name": "stderr",
     "output_type": "stream",
     "text": [
      "Epoch 75/300: 100%|███████████████████████| 1600/1600 [00:06<00:00, 259.44it/s, loss (batch)=0.0353]\n",
      "Epoch 76/300:  96%|██████████████████████████████████████████▏ | 1536/1600 [00:02<00:00, 804.17it/s]"
     ]
    },
    {
     "name": "stdout",
     "output_type": "stream",
     "text": [
      "QRS_acc: 0.9772\n",
      "Scoring complete.\n",
      "QRS_acc: 0.8805\n",
      "Scoring complete.\n",
      "ECG-SEQ-LAB - INFO - \n",
      "Train epoch_76:\n",
      "--------------------\n",
      "train/epoch_loss:        0.255478348582983\n",
      "train/qrs_score:         0.9772\n",
      "\n",
      "test/qrs_score:          0.8805\n",
      "---------------------------------\n",
      "\n",
      "ECG-SEQ-LAB - INFO - \n",
      "Train epoch_76:\n",
      "--------------------\n",
      "train/epoch_loss:        0.255478348582983\n",
      "train/qrs_score:         0.9772\n",
      "\n",
      "test/qrs_score:          0.8805\n",
      "---------------------------------\n",
      "\n",
      "ECG-SEQ-LAB - INFO - Checkpoint 76 saved!\n",
      "ECG-SEQ-LAB - INFO - Checkpoint 76 saved!\n"
     ]
    },
    {
     "name": "stderr",
     "output_type": "stream",
     "text": [
      "Epoch 76/300: 100%|████████████████████████████████████████████| 1600/1600 [00:06<00:00, 253.99it/s]\n",
      "Epoch 77/300:  96%|██████████████████████████████████████████▏ | 1536/1600 [00:02<00:00, 819.86it/s]"
     ]
    },
    {
     "name": "stdout",
     "output_type": "stream",
     "text": [
      "QRS_acc: 0.9738\n",
      "Scoring complete.\n",
      "QRS_acc: 0.8792\n",
      "Scoring complete.\n",
      "ECG-SEQ-LAB - INFO - \n",
      "Train epoch_77:\n",
      "--------------------\n",
      "train/epoch_loss:        0.25093251653015614\n",
      "train/qrs_score:         0.9738\n",
      "\n",
      "test/qrs_score:          0.8792\n",
      "---------------------------------\n",
      "\n",
      "ECG-SEQ-LAB - INFO - \n",
      "Train epoch_77:\n",
      "--------------------\n",
      "train/epoch_loss:        0.25093251653015614\n",
      "train/qrs_score:         0.9738\n",
      "\n",
      "test/qrs_score:          0.8792\n",
      "---------------------------------\n",
      "\n",
      "ECG-SEQ-LAB - INFO - Checkpoint 77 saved!\n",
      "ECG-SEQ-LAB - INFO - Checkpoint 77 saved!\n"
     ]
    },
    {
     "name": "stderr",
     "output_type": "stream",
     "text": [
      "Epoch 77/300: 100%|████████████████████████████████████████████| 1600/1600 [00:06<00:00, 253.30it/s]\n",
      "Epoch 78/300:   0%|                                   | 0/1600 [00:01<?, ?it/s, loss (batch)=0.0371]"
     ]
    },
    {
     "name": "stdout",
     "output_type": "stream",
     "text": [
      "ECG-SEQ-LAB - INFO - Train step_540: loss : 0.03705715760588646\n",
      "ECG-SEQ-LAB - INFO - Train step_540: loss : 0.03705715760588646\n"
     ]
    },
    {
     "name": "stderr",
     "output_type": "stream",
     "text": [
      "Epoch 78/300:  96%|██████████████████████ | 1536/1600 [00:02<00:00, 808.19it/s, loss (batch)=0.0371]"
     ]
    },
    {
     "name": "stdout",
     "output_type": "stream",
     "text": [
      "QRS_acc: 0.9687\n",
      "Scoring complete.\n",
      "QRS_acc: 0.8775\n",
      "Scoring complete.\n",
      "ECG-SEQ-LAB - INFO - \n",
      "Train epoch_78:\n",
      "--------------------\n",
      "train/epoch_loss:        0.2512907646596432\n",
      "train/qrs_score:         0.9687\n",
      "\n",
      "test/qrs_score:          0.8775\n",
      "---------------------------------\n",
      "\n",
      "ECG-SEQ-LAB - INFO - \n",
      "Train epoch_78:\n",
      "--------------------\n",
      "train/epoch_loss:        0.2512907646596432\n",
      "train/qrs_score:         0.9687\n",
      "\n",
      "test/qrs_score:          0.8775\n",
      "---------------------------------\n",
      "\n",
      "ECG-SEQ-LAB - INFO - Checkpoint 78 saved!\n",
      "ECG-SEQ-LAB - INFO - Checkpoint 78 saved!\n"
     ]
    },
    {
     "name": "stderr",
     "output_type": "stream",
     "text": [
      "Epoch 78/300: 100%|███████████████████████| 1600/1600 [00:06<00:00, 252.94it/s, loss (batch)=0.0371]\n",
      "Epoch 79/300:  96%|██████████████████████████████████████████▏ | 1536/1600 [00:02<00:00, 853.70it/s]"
     ]
    },
    {
     "name": "stdout",
     "output_type": "stream",
     "text": [
      "QRS_acc: 0.9785\n",
      "Scoring complete.\n",
      "QRS_acc: 0.8788\n",
      "Scoring complete.\n",
      "ECG-SEQ-LAB - INFO - \n",
      "Train epoch_79:\n",
      "--------------------\n",
      "train/epoch_loss:        0.23681381344795227\n",
      "train/qrs_score:         0.9785\n",
      "\n",
      "test/qrs_score:          0.8788\n",
      "---------------------------------\n",
      "\n",
      "ECG-SEQ-LAB - INFO - \n",
      "Train epoch_79:\n",
      "--------------------\n",
      "train/epoch_loss:        0.23681381344795227\n",
      "train/qrs_score:         0.9785\n",
      "\n",
      "test/qrs_score:          0.8788\n",
      "---------------------------------\n",
      "\n",
      "ECG-SEQ-LAB - INFO - Checkpoint 79 saved!\n",
      "ECG-SEQ-LAB - INFO - Checkpoint 79 saved!\n"
     ]
    },
    {
     "name": "stderr",
     "output_type": "stream",
     "text": [
      "Epoch 79/300: 100%|████████████████████████████████████████████| 1600/1600 [00:06<00:00, 259.04it/s]\n",
      "Epoch 80/300:  96%|██████████████████████ | 1536/1600 [00:02<00:00, 806.73it/s, loss (batch)=0.0293]"
     ]
    },
    {
     "name": "stdout",
     "output_type": "stream",
     "text": [
      "ECG-SEQ-LAB - INFO - Train step_560: loss : 0.02932700142264366\n",
      "ECG-SEQ-LAB - INFO - Train step_560: loss : 0.02932700142264366\n",
      "QRS_acc: 0.9739\n",
      "Scoring complete.\n",
      "QRS_acc: 0.8802\n",
      "Scoring complete.\n",
      "ECG-SEQ-LAB - INFO - \n",
      "Train epoch_80:\n",
      "--------------------\n",
      "train/epoch_loss:        0.22096028737723827\n",
      "train/qrs_score:         0.9739\n",
      "\n",
      "test/qrs_score:          0.8802\n",
      "---------------------------------\n",
      "\n",
      "ECG-SEQ-LAB - INFO - \n",
      "Train epoch_80:\n",
      "--------------------\n",
      "train/epoch_loss:        0.22096028737723827\n",
      "train/qrs_score:         0.9739\n",
      "\n",
      "test/qrs_score:          0.8802\n",
      "---------------------------------\n",
      "\n",
      "ECG-SEQ-LAB - INFO - Checkpoint 80 saved!\n",
      "ECG-SEQ-LAB - INFO - Checkpoint 80 saved!\n"
     ]
    },
    {
     "name": "stderr",
     "output_type": "stream",
     "text": [
      "Epoch 80/300: 100%|███████████████████████| 1600/1600 [00:06<00:00, 255.45it/s, loss (batch)=0.0293]\n",
      "Epoch 81/300:  96%|██████████████████████████████████████████▏ | 1536/1600 [00:02<00:00, 816.23it/s]"
     ]
    },
    {
     "name": "stdout",
     "output_type": "stream",
     "text": [
      "QRS_acc: 0.9812\n",
      "Scoring complete.\n",
      "QRS_acc: 0.886\n",
      "Scoring complete.\n",
      "ECG-SEQ-LAB - INFO - \n",
      "Train epoch_81:\n",
      "--------------------\n",
      "train/epoch_loss:        0.22602645866572857\n",
      "train/qrs_score:         0.9812\n",
      "\n",
      "test/qrs_score:          0.886\n",
      "---------------------------------\n",
      "\n",
      "ECG-SEQ-LAB - INFO - \n",
      "Train epoch_81:\n",
      "--------------------\n",
      "train/epoch_loss:        0.22602645866572857\n",
      "train/qrs_score:         0.9812\n",
      "\n",
      "test/qrs_score:          0.886\n",
      "---------------------------------\n",
      "\n",
      "ECG-SEQ-LAB - INFO - Checkpoint 81 saved!\n",
      "ECG-SEQ-LAB - INFO - Checkpoint 81 saved!\n"
     ]
    },
    {
     "name": "stderr",
     "output_type": "stream",
     "text": [
      "Epoch 81/300: 100%|████████████████████████████████████████████| 1600/1600 [00:06<00:00, 258.09it/s]\n",
      "Epoch 82/300:  96%|██████████████████████████████████████████▏ | 1536/1600 [00:02<00:00, 819.30it/s]"
     ]
    },
    {
     "name": "stdout",
     "output_type": "stream",
     "text": [
      "QRS_acc: 0.9817\n",
      "Scoring complete.\n",
      "QRS_acc: 0.8772\n",
      "Scoring complete.\n",
      "ECG-SEQ-LAB - INFO - \n",
      "Train epoch_82:\n",
      "--------------------\n",
      "train/epoch_loss:        0.22120321542024612\n",
      "train/qrs_score:         0.9817\n",
      "\n",
      "test/qrs_score:          0.8772\n",
      "---------------------------------\n",
      "\n",
      "ECG-SEQ-LAB - INFO - \n",
      "Train epoch_82:\n",
      "--------------------\n",
      "train/epoch_loss:        0.22120321542024612\n",
      "train/qrs_score:         0.9817\n",
      "\n",
      "test/qrs_score:          0.8772\n",
      "---------------------------------\n",
      "\n",
      "ECG-SEQ-LAB - INFO - Checkpoint 82 saved!\n",
      "ECG-SEQ-LAB - INFO - Checkpoint 82 saved!\n"
     ]
    },
    {
     "name": "stderr",
     "output_type": "stream",
     "text": [
      "Epoch 82/300: 100%|████████████████████████████████████████████| 1600/1600 [00:06<00:00, 255.32it/s]\n",
      "Epoch 83/300:  80%|██████████████████▍    | 1280/1600 [00:02<00:00, 744.48it/s, loss (batch)=0.0329]"
     ]
    },
    {
     "name": "stdout",
     "output_type": "stream",
     "text": [
      "ECG-SEQ-LAB - INFO - Train step_580: loss : 0.03285782411694527\n",
      "ECG-SEQ-LAB - INFO - Train step_580: loss : 0.03285782411694527\n"
     ]
    },
    {
     "name": "stderr",
     "output_type": "stream",
     "text": [
      "\r",
      "Epoch 83/300:  96%|██████████████████████ | 1536/1600 [00:02<00:00, 811.71it/s, loss (batch)=0.0329]"
     ]
    },
    {
     "name": "stdout",
     "output_type": "stream",
     "text": [
      "QRS_acc: 0.9814\n",
      "Scoring complete.\n",
      "QRS_acc: 0.894\n",
      "Scoring complete.\n",
      "ECG-SEQ-LAB - INFO - \n",
      "Train epoch_83:\n",
      "--------------------\n",
      "train/epoch_loss:        0.22117318212985992\n",
      "train/qrs_score:         0.9814\n",
      "\n",
      "test/qrs_score:          0.894\n",
      "---------------------------------\n",
      "\n",
      "ECG-SEQ-LAB - INFO - \n",
      "Train epoch_83:\n",
      "--------------------\n",
      "train/epoch_loss:        0.22117318212985992\n",
      "train/qrs_score:         0.9814\n",
      "\n",
      "test/qrs_score:          0.894\n",
      "---------------------------------\n",
      "\n",
      "ECG-SEQ-LAB - INFO - Checkpoint 83 saved!\n",
      "ECG-SEQ-LAB - INFO - Checkpoint 83 saved!\n"
     ]
    },
    {
     "name": "stderr",
     "output_type": "stream",
     "text": [
      "Epoch 83/300: 100%|███████████████████████| 1600/1600 [00:06<00:00, 256.84it/s, loss (batch)=0.0329]\n",
      "Epoch 84/300:  96%|██████████████████████████████████████████▏ | 1536/1600 [00:02<00:00, 817.51it/s]"
     ]
    },
    {
     "name": "stdout",
     "output_type": "stream",
     "text": [
      "QRS_acc: 0.9829\n",
      "Scoring complete.\n",
      "QRS_acc: 0.886\n",
      "Scoring complete.\n",
      "ECG-SEQ-LAB - INFO - \n",
      "Train epoch_84:\n",
      "--------------------\n",
      "train/epoch_loss:        0.2177667822688818\n",
      "train/qrs_score:         0.9829\n",
      "\n",
      "test/qrs_score:          0.886\n",
      "---------------------------------\n",
      "\n",
      "ECG-SEQ-LAB - INFO - \n",
      "Train epoch_84:\n",
      "--------------------\n",
      "train/epoch_loss:        0.2177667822688818\n",
      "train/qrs_score:         0.9829\n",
      "\n",
      "test/qrs_score:          0.886\n",
      "---------------------------------\n",
      "\n",
      "ECG-SEQ-LAB - INFO - Checkpoint 84 saved!\n",
      "ECG-SEQ-LAB - INFO - Checkpoint 84 saved!\n"
     ]
    },
    {
     "name": "stderr",
     "output_type": "stream",
     "text": [
      "Epoch 84/300: 100%|████████████████████████████████████████████| 1600/1600 [00:06<00:00, 252.64it/s]\n",
      "Epoch 85/300:  96%|██████████████████████████████████████████▏ | 1536/1600 [00:02<00:00, 828.05it/s]"
     ]
    },
    {
     "name": "stdout",
     "output_type": "stream",
     "text": [
      "QRS_acc: 0.9874\n",
      "Scoring complete.\n",
      "QRS_acc: 0.8798\n",
      "Scoring complete.\n",
      "ECG-SEQ-LAB - INFO - \n",
      "Train epoch_85:\n",
      "--------------------\n",
      "train/epoch_loss:        0.22811581939458847\n",
      "train/qrs_score:         0.9874\n",
      "\n",
      "test/qrs_score:          0.8798\n",
      "---------------------------------\n",
      "\n",
      "ECG-SEQ-LAB - INFO - \n",
      "Train epoch_85:\n",
      "--------------------\n",
      "train/epoch_loss:        0.22811581939458847\n",
      "train/qrs_score:         0.9874\n",
      "\n",
      "test/qrs_score:          0.8798\n",
      "---------------------------------\n",
      "\n",
      "ECG-SEQ-LAB - INFO - Checkpoint 85 saved!\n",
      "ECG-SEQ-LAB - INFO - Checkpoint 85 saved!\n"
     ]
    },
    {
     "name": "stderr",
     "output_type": "stream",
     "text": [
      "Epoch 85/300: 100%|████████████████████████████████████████████| 1600/1600 [00:06<00:00, 257.42it/s]\n",
      "Epoch 86/300:  64%|███████████████▎        | 1024/1600 [00:02<00:00, 643.13it/s, loss (batch)=0.032]"
     ]
    },
    {
     "name": "stdout",
     "output_type": "stream",
     "text": [
      "ECG-SEQ-LAB - INFO - Train step_600: loss : 0.031977467238903046\n",
      "ECG-SEQ-LAB - INFO - Train step_600: loss : 0.031977467238903046\n"
     ]
    },
    {
     "name": "stderr",
     "output_type": "stream",
     "text": [
      "Epoch 86/300:  96%|███████████████████████ | 1536/1600 [00:02<00:00, 814.17it/s, loss (batch)=0.032]"
     ]
    },
    {
     "name": "stdout",
     "output_type": "stream",
     "text": [
      "QRS_acc: 0.9813\n",
      "Scoring complete.\n",
      "QRS_acc: 0.8895\n",
      "Scoring complete.\n",
      "ECG-SEQ-LAB - INFO - \n",
      "Train epoch_86:\n",
      "--------------------\n",
      "train/epoch_loss:        0.22973653487861156\n",
      "train/qrs_score:         0.9813\n",
      "\n",
      "test/qrs_score:          0.8895\n",
      "---------------------------------\n",
      "\n",
      "ECG-SEQ-LAB - INFO - \n",
      "Train epoch_86:\n",
      "--------------------\n",
      "train/epoch_loss:        0.22973653487861156\n",
      "train/qrs_score:         0.9813\n",
      "\n",
      "test/qrs_score:          0.8895\n",
      "---------------------------------\n",
      "\n",
      "ECG-SEQ-LAB - INFO - Checkpoint 86 saved!\n",
      "ECG-SEQ-LAB - INFO - Checkpoint 86 saved!\n"
     ]
    },
    {
     "name": "stderr",
     "output_type": "stream",
     "text": [
      "Epoch 86/300: 100%|████████████████████████| 1600/1600 [00:06<00:00, 257.96it/s, loss (batch)=0.032]\n",
      "Epoch 87/300:  96%|██████████████████████████████████████████▏ | 1536/1600 [00:02<00:00, 811.20it/s]"
     ]
    },
    {
     "name": "stdout",
     "output_type": "stream",
     "text": [
      "QRS_acc: 0.9879\n",
      "Scoring complete.\n",
      "QRS_acc: 0.8922\n",
      "Scoring complete.\n",
      "ECG-SEQ-LAB - INFO - \n",
      "Train epoch_87:\n",
      "--------------------\n",
      "train/epoch_loss:        0.21837713196873665\n",
      "train/qrs_score:         0.9879\n",
      "\n",
      "test/qrs_score:          0.8922\n",
      "---------------------------------\n",
      "\n",
      "ECG-SEQ-LAB - INFO - \n",
      "Train epoch_87:\n",
      "--------------------\n",
      "train/epoch_loss:        0.21837713196873665\n",
      "train/qrs_score:         0.9879\n",
      "\n",
      "test/qrs_score:          0.8922\n",
      "---------------------------------\n",
      "\n",
      "ECG-SEQ-LAB - INFO - Checkpoint 87 saved!\n",
      "ECG-SEQ-LAB - INFO - Checkpoint 87 saved!\n"
     ]
    },
    {
     "name": "stderr",
     "output_type": "stream",
     "text": [
      "Epoch 87/300: 100%|████████████████████████████████████████████| 1600/1600 [00:06<00:00, 256.80it/s]\n",
      "Epoch 88/300:  96%|██████████████████████████████████████████▏ | 1536/1600 [00:02<00:00, 838.24it/s]"
     ]
    },
    {
     "name": "stdout",
     "output_type": "stream",
     "text": [
      "QRS_acc: 0.9813\n",
      "Scoring complete.\n",
      "QRS_acc: 0.8968\n",
      "Scoring complete.\n",
      "ECG-SEQ-LAB - INFO - \n",
      "Train epoch_88:\n",
      "--------------------\n",
      "train/epoch_loss:        0.2077121939510107\n",
      "train/qrs_score:         0.9813\n",
      "\n",
      "test/qrs_score:          0.8968\n",
      "---------------------------------\n",
      "\n",
      "ECG-SEQ-LAB - INFO - \n",
      "Train epoch_88:\n",
      "--------------------\n",
      "train/epoch_loss:        0.2077121939510107\n",
      "train/qrs_score:         0.9813\n",
      "\n",
      "test/qrs_score:          0.8968\n",
      "---------------------------------\n",
      "\n",
      "ECG-SEQ-LAB - INFO - Checkpoint 88 saved!\n",
      "ECG-SEQ-LAB - INFO - Checkpoint 88 saved!\n"
     ]
    },
    {
     "name": "stderr",
     "output_type": "stream",
     "text": [
      "Epoch 88/300: 100%|████████████████████████████████████████████| 1600/1600 [00:06<00:00, 253.81it/s]\n",
      "Epoch 89/300:  48%|███████████▌            | 768/1600 [00:02<00:01, 516.74it/s, loss (batch)=0.0266]"
     ]
    },
    {
     "name": "stdout",
     "output_type": "stream",
     "text": [
      "ECG-SEQ-LAB - INFO - Train step_620: loss : 0.02664758823812008\n",
      "ECG-SEQ-LAB - INFO - Train step_620: loss : 0.02664758823812008\n"
     ]
    },
    {
     "name": "stderr",
     "output_type": "stream",
     "text": [
      "Epoch 89/300:  96%|██████████████████████ | 1536/1600 [00:02<00:00, 813.97it/s, loss (batch)=0.0266]"
     ]
    },
    {
     "name": "stdout",
     "output_type": "stream",
     "text": [
      "QRS_acc: 0.9858\n",
      "Scoring complete.\n",
      "QRS_acc: 0.886\n",
      "Scoring complete.\n",
      "ECG-SEQ-LAB - INFO - \n",
      "Train epoch_89:\n",
      "--------------------\n",
      "train/epoch_loss:        0.1999672595411539\n",
      "train/qrs_score:         0.9858\n",
      "\n",
      "test/qrs_score:          0.886\n",
      "---------------------------------\n",
      "\n",
      "ECG-SEQ-LAB - INFO - \n",
      "Train epoch_89:\n",
      "--------------------\n",
      "train/epoch_loss:        0.1999672595411539\n",
      "train/qrs_score:         0.9858\n",
      "\n",
      "test/qrs_score:          0.886\n",
      "---------------------------------\n",
      "\n",
      "ECG-SEQ-LAB - INFO - Checkpoint 89 saved!\n",
      "ECG-SEQ-LAB - INFO - Checkpoint 89 saved!\n"
     ]
    },
    {
     "name": "stderr",
     "output_type": "stream",
     "text": [
      "Epoch 89/300: 100%|███████████████████████| 1600/1600 [00:06<00:00, 256.77it/s, loss (batch)=0.0266]\n",
      "Epoch 90/300:  96%|██████████████████████████████████████████▏ | 1536/1600 [00:02<00:00, 812.99it/s]"
     ]
    },
    {
     "name": "stdout",
     "output_type": "stream",
     "text": [
      "QRS_acc: 0.9822\n",
      "Scoring complete.\n",
      "QRS_acc: 0.882\n",
      "Scoring complete.\n",
      "ECG-SEQ-LAB - INFO - \n",
      "Train epoch_90:\n",
      "--------------------\n",
      "train/epoch_loss:        0.21287001110613346\n",
      "train/qrs_score:         0.9822\n",
      "\n",
      "test/qrs_score:          0.882\n",
      "---------------------------------\n",
      "\n",
      "ECG-SEQ-LAB - INFO - \n",
      "Train epoch_90:\n",
      "--------------------\n",
      "train/epoch_loss:        0.21287001110613346\n",
      "train/qrs_score:         0.9822\n",
      "\n",
      "test/qrs_score:          0.882\n",
      "---------------------------------\n",
      "\n",
      "ECG-SEQ-LAB - INFO - Checkpoint 90 saved!\n",
      "ECG-SEQ-LAB - INFO - Checkpoint 90 saved!\n"
     ]
    },
    {
     "name": "stderr",
     "output_type": "stream",
     "text": [
      "Epoch 90/300: 100%|████████████████████████████████████████████| 1600/1600 [00:06<00:00, 252.92it/s]\n",
      "Epoch 91/300:  96%|██████████████████████████████████████████▏ | 1536/1600 [00:02<00:00, 815.66it/s]"
     ]
    },
    {
     "name": "stdout",
     "output_type": "stream",
     "text": [
      "QRS_acc: 0.9837\n",
      "Scoring complete.\n",
      "QRS_acc: 0.8922\n",
      "Scoring complete.\n",
      "ECG-SEQ-LAB - INFO - \n",
      "Train epoch_91:\n",
      "--------------------\n",
      "train/epoch_loss:        0.20177215710282326\n",
      "train/qrs_score:         0.9837\n",
      "\n",
      "test/qrs_score:          0.8922\n",
      "---------------------------------\n",
      "\n",
      "ECG-SEQ-LAB - INFO - \n",
      "Train epoch_91:\n",
      "--------------------\n",
      "train/epoch_loss:        0.20177215710282326\n",
      "train/qrs_score:         0.9837\n",
      "\n",
      "test/qrs_score:          0.8922\n",
      "---------------------------------\n",
      "\n",
      "ECG-SEQ-LAB - INFO - Checkpoint 91 saved!\n",
      "ECG-SEQ-LAB - INFO - Checkpoint 91 saved!\n"
     ]
    },
    {
     "name": "stderr",
     "output_type": "stream",
     "text": [
      "Epoch 91/300: 100%|████████████████████████████████████████████| 1600/1600 [00:06<00:00, 255.00it/s]\n",
      "Epoch 92/300:  32%|███████▋                | 512/1600 [00:01<00:02, 368.68it/s, loss (batch)=0.0266]"
     ]
    },
    {
     "name": "stdout",
     "output_type": "stream",
     "text": [
      "ECG-SEQ-LAB - INFO - Train step_640: loss : 0.026561317965388298\n",
      "ECG-SEQ-LAB - INFO - Train step_640: loss : 0.026561317965388298\n"
     ]
    },
    {
     "name": "stderr",
     "output_type": "stream",
     "text": [
      "Epoch 92/300:  96%|██████████████████████ | 1536/1600 [00:02<00:00, 796.54it/s, loss (batch)=0.0266]"
     ]
    },
    {
     "name": "stdout",
     "output_type": "stream",
     "text": [
      "QRS_acc: 0.9833\n",
      "Scoring complete.\n",
      "QRS_acc: 0.8908\n",
      "Scoring complete.\n",
      "ECG-SEQ-LAB - INFO - \n",
      "Train epoch_92:\n",
      "--------------------\n",
      "train/epoch_loss:        0.18524404242634773\n",
      "train/qrs_score:         0.9833\n",
      "\n",
      "test/qrs_score:          0.8908\n",
      "---------------------------------\n",
      "\n",
      "ECG-SEQ-LAB - INFO - \n",
      "Train epoch_92:\n",
      "--------------------\n",
      "train/epoch_loss:        0.18524404242634773\n",
      "train/qrs_score:         0.9833\n",
      "\n",
      "test/qrs_score:          0.8908\n",
      "---------------------------------\n",
      "\n",
      "ECG-SEQ-LAB - INFO - Checkpoint 92 saved!\n",
      "ECG-SEQ-LAB - INFO - Checkpoint 92 saved!\n"
     ]
    },
    {
     "name": "stderr",
     "output_type": "stream",
     "text": [
      "Epoch 92/300: 100%|███████████████████████| 1600/1600 [00:06<00:00, 256.21it/s, loss (batch)=0.0266]\n",
      "Epoch 93/300:  96%|██████████████████████████████████████████▏ | 1536/1600 [00:02<00:00, 823.43it/s]"
     ]
    },
    {
     "name": "stdout",
     "output_type": "stream",
     "text": [
      "QRS_acc: 0.9822\n",
      "Scoring complete.\n",
      "QRS_acc: 0.8895\n",
      "Scoring complete.\n",
      "ECG-SEQ-LAB - INFO - \n",
      "Train epoch_93:\n",
      "--------------------\n",
      "train/epoch_loss:        0.19153271056711674\n",
      "train/qrs_score:         0.9822\n",
      "\n",
      "test/qrs_score:          0.8895\n",
      "---------------------------------\n",
      "\n",
      "ECG-SEQ-LAB - INFO - \n",
      "Train epoch_93:\n",
      "--------------------\n",
      "train/epoch_loss:        0.19153271056711674\n",
      "train/qrs_score:         0.9822\n",
      "\n",
      "test/qrs_score:          0.8895\n",
      "---------------------------------\n",
      "\n",
      "ECG-SEQ-LAB - INFO - Checkpoint 93 saved!\n",
      "ECG-SEQ-LAB - INFO - Checkpoint 93 saved!\n"
     ]
    },
    {
     "name": "stderr",
     "output_type": "stream",
     "text": [
      "Epoch 93/300: 100%|████████████████████████████████████████████| 1600/1600 [00:06<00:00, 257.43it/s]\n",
      "Epoch 94/300:  96%|██████████████████████████████████████████▏ | 1536/1600 [00:02<00:00, 829.09it/s]"
     ]
    },
    {
     "name": "stdout",
     "output_type": "stream",
     "text": [
      "QRS_acc: 0.984\n",
      "Scoring complete.\n",
      "QRS_acc: 0.8922\n",
      "Scoring complete.\n",
      "ECG-SEQ-LAB - INFO - \n",
      "Train epoch_94:\n",
      "--------------------\n",
      "train/epoch_loss:        0.19333537854254246\n",
      "train/qrs_score:         0.984\n",
      "\n",
      "test/qrs_score:          0.8922\n",
      "---------------------------------\n",
      "\n",
      "ECG-SEQ-LAB - INFO - \n",
      "Train epoch_94:\n",
      "--------------------\n",
      "train/epoch_loss:        0.19333537854254246\n",
      "train/qrs_score:         0.984\n",
      "\n",
      "test/qrs_score:          0.8922\n",
      "---------------------------------\n",
      "\n",
      "ECG-SEQ-LAB - INFO - Checkpoint 94 saved!\n",
      "ECG-SEQ-LAB - INFO - Checkpoint 94 saved!\n"
     ]
    },
    {
     "name": "stderr",
     "output_type": "stream",
     "text": [
      "Epoch 94/300: 100%|████████████████████████████████████████████| 1600/1600 [00:06<00:00, 256.25it/s]\n",
      "Epoch 95/300:  16%|████                     | 256/1600 [00:01<00:07, 187.47it/s, loss (batch)=0.026]"
     ]
    },
    {
     "name": "stdout",
     "output_type": "stream",
     "text": [
      "ECG-SEQ-LAB - INFO - Train step_660: loss : 0.02598232589662075\n",
      "ECG-SEQ-LAB - INFO - Train step_660: loss : 0.02598232589662075\n"
     ]
    },
    {
     "name": "stderr",
     "output_type": "stream",
     "text": [
      "Epoch 95/300:  96%|███████████████████████ | 1536/1600 [00:02<00:00, 805.66it/s, loss (batch)=0.026]"
     ]
    },
    {
     "name": "stdout",
     "output_type": "stream",
     "text": [
      "QRS_acc: 0.9824\n",
      "Scoring complete.\n",
      "QRS_acc: 0.9038\n",
      "Scoring complete.\n",
      "ECG-SEQ-LAB - INFO - \n",
      "Train epoch_95:\n",
      "--------------------\n",
      "train/epoch_loss:        0.18856933526694775\n",
      "train/qrs_score:         0.9824\n",
      "\n",
      "test/qrs_score:          0.9038\n",
      "---------------------------------\n",
      "\n",
      "ECG-SEQ-LAB - INFO - \n",
      "Train epoch_95:\n",
      "--------------------\n",
      "train/epoch_loss:        0.18856933526694775\n",
      "train/qrs_score:         0.9824\n",
      "\n",
      "test/qrs_score:          0.9038\n",
      "---------------------------------\n",
      "\n",
      "ECG-SEQ-LAB - INFO - Checkpoint 95 saved!\n",
      "ECG-SEQ-LAB - INFO - Checkpoint 95 saved!\n"
     ]
    },
    {
     "name": "stderr",
     "output_type": "stream",
     "text": [
      "Epoch 95/300: 100%|████████████████████████| 1600/1600 [00:06<00:00, 254.89it/s, loss (batch)=0.026]\n",
      "Epoch 96/300:  96%|██████████████████████████████████████████▏ | 1536/1600 [00:02<00:00, 818.45it/s]"
     ]
    },
    {
     "name": "stdout",
     "output_type": "stream",
     "text": [
      "QRS_acc: 0.9777\n",
      "Scoring complete.\n",
      "QRS_acc: 0.8735\n",
      "Scoring complete.\n",
      "ECG-SEQ-LAB - INFO - \n",
      "Train epoch_96:\n",
      "--------------------\n",
      "train/epoch_loss:        0.20840774290263653\n",
      "train/qrs_score:         0.9777\n",
      "\n",
      "test/qrs_score:          0.8735\n",
      "---------------------------------\n",
      "\n",
      "ECG-SEQ-LAB - INFO - \n",
      "Train epoch_96:\n",
      "--------------------\n",
      "train/epoch_loss:        0.20840774290263653\n",
      "train/qrs_score:         0.9777\n",
      "\n",
      "test/qrs_score:          0.8735\n",
      "---------------------------------\n",
      "\n",
      "ECG-SEQ-LAB - INFO - Checkpoint 96 saved!\n",
      "ECG-SEQ-LAB - INFO - Checkpoint 96 saved!\n"
     ]
    },
    {
     "name": "stderr",
     "output_type": "stream",
     "text": [
      "Epoch 96/300: 100%|████████████████████████████████████████████| 1600/1600 [00:06<00:00, 259.35it/s]\n",
      "Epoch 97/300:  96%|██████████████████████████████████████████▏ | 1536/1600 [00:02<00:00, 798.89it/s]"
     ]
    },
    {
     "name": "stdout",
     "output_type": "stream",
     "text": [
      "QRS_acc: 0.9781\n",
      "Scoring complete.\n",
      "QRS_acc: 0.892\n",
      "Scoring complete.\n",
      "ECG-SEQ-LAB - INFO - \n",
      "Train epoch_97:\n",
      "--------------------\n",
      "train/epoch_loss:        0.21059050410985947\n",
      "train/qrs_score:         0.9781\n",
      "\n",
      "test/qrs_score:          0.892\n",
      "---------------------------------\n",
      "\n",
      "ECG-SEQ-LAB - INFO - \n",
      "Train epoch_97:\n",
      "--------------------\n",
      "train/epoch_loss:        0.21059050410985947\n",
      "train/qrs_score:         0.9781\n",
      "\n",
      "test/qrs_score:          0.892\n",
      "---------------------------------\n",
      "\n",
      "ECG-SEQ-LAB - INFO - Checkpoint 97 saved!\n",
      "ECG-SEQ-LAB - INFO - Checkpoint 97 saved!\n"
     ]
    },
    {
     "name": "stderr",
     "output_type": "stream",
     "text": [
      "Epoch 97/300: 100%|████████████████████████████████████████████| 1600/1600 [00:06<00:00, 254.65it/s]\n",
      "Epoch 98/300:   0%|                                    | 0/1600 [00:01<?, ?it/s, loss (batch)=0.033]"
     ]
    },
    {
     "name": "stdout",
     "output_type": "stream",
     "text": [
      "ECG-SEQ-LAB - INFO - Train step_680: loss : 0.03300526738166809\n",
      "ECG-SEQ-LAB - INFO - Train step_680: loss : 0.03300526738166809\n"
     ]
    },
    {
     "name": "stderr",
     "output_type": "stream",
     "text": [
      "Epoch 98/300:  96%|███████████████████████ | 1536/1600 [00:02<00:00, 813.44it/s, loss (batch)=0.033]"
     ]
    },
    {
     "name": "stdout",
     "output_type": "stream",
     "text": [
      "QRS_acc: 0.9777\n",
      "Scoring complete.\n",
      "QRS_acc: 0.8888\n",
      "Scoring complete.\n",
      "ECG-SEQ-LAB - INFO - \n",
      "Train epoch_98:\n",
      "--------------------\n",
      "train/epoch_loss:        0.21152889914810658\n",
      "train/qrs_score:         0.9777\n",
      "\n",
      "test/qrs_score:          0.8888\n",
      "---------------------------------\n",
      "\n",
      "ECG-SEQ-LAB - INFO - \n",
      "Train epoch_98:\n",
      "--------------------\n",
      "train/epoch_loss:        0.21152889914810658\n",
      "train/qrs_score:         0.9777\n",
      "\n",
      "test/qrs_score:          0.8888\n",
      "---------------------------------\n",
      "\n",
      "ECG-SEQ-LAB - INFO - Checkpoint 98 saved!\n",
      "ECG-SEQ-LAB - INFO - Checkpoint 98 saved!\n"
     ]
    },
    {
     "name": "stderr",
     "output_type": "stream",
     "text": [
      "Epoch 98/300: 100%|████████████████████████| 1600/1600 [00:06<00:00, 251.64it/s, loss (batch)=0.033]\n",
      "Epoch 99/300:  96%|██████████████████████████████████████████▏ | 1536/1600 [00:02<00:00, 807.76it/s]"
     ]
    },
    {
     "name": "stdout",
     "output_type": "stream",
     "text": [
      "QRS_acc: 0.9752\n",
      "Scoring complete.\n",
      "QRS_acc: 0.8752\n",
      "Scoring complete.\n",
      "ECG-SEQ-LAB - INFO - \n",
      "Train epoch_99:\n",
      "--------------------\n",
      "train/epoch_loss:        0.1959594450891018\n",
      "train/qrs_score:         0.9752\n",
      "\n",
      "test/qrs_score:          0.8752\n",
      "---------------------------------\n",
      "\n",
      "ECG-SEQ-LAB - INFO - \n",
      "Train epoch_99:\n",
      "--------------------\n",
      "train/epoch_loss:        0.1959594450891018\n",
      "train/qrs_score:         0.9752\n",
      "\n",
      "test/qrs_score:          0.8752\n",
      "---------------------------------\n",
      "\n",
      "ECG-SEQ-LAB - INFO - Checkpoint 99 saved!\n",
      "ECG-SEQ-LAB - INFO - Checkpoint 99 saved!\n"
     ]
    },
    {
     "name": "stderr",
     "output_type": "stream",
     "text": [
      "Epoch 99/300: 100%|████████████████████████████████████████████| 1600/1600 [00:06<00:00, 249.18it/s]\n",
      "Epoch 100/300:  96%|█████████████████████ | 1536/1600 [00:02<00:00, 808.34it/s, loss (batch)=0.0282]"
     ]
    },
    {
     "name": "stdout",
     "output_type": "stream",
     "text": [
      "ECG-SEQ-LAB - INFO - Train step_700: loss : 0.028204845264554024\n",
      "ECG-SEQ-LAB - INFO - Train step_700: loss : 0.028204845264554024\n",
      "QRS_acc: 0.9859\n",
      "Scoring complete.\n",
      "QRS_acc: 0.8978\n",
      "Scoring complete.\n",
      "ECG-SEQ-LAB - INFO - \n",
      "Train epoch_100:\n",
      "--------------------\n",
      "train/epoch_loss:        0.18646692112088203\n",
      "train/qrs_score:         0.9859\n",
      "\n",
      "test/qrs_score:          0.8978\n",
      "---------------------------------\n",
      "\n",
      "ECG-SEQ-LAB - INFO - \n",
      "Train epoch_100:\n",
      "--------------------\n",
      "train/epoch_loss:        0.18646692112088203\n",
      "train/qrs_score:         0.9859\n",
      "\n",
      "test/qrs_score:          0.8978\n",
      "---------------------------------\n",
      "\n",
      "ECG-SEQ-LAB - INFO - Checkpoint 100 saved!\n",
      "ECG-SEQ-LAB - INFO - Checkpoint 100 saved!\n"
     ]
    },
    {
     "name": "stderr",
     "output_type": "stream",
     "text": [
      "Epoch 100/300: 100%|██████████████████████| 1600/1600 [00:06<00:00, 255.34it/s, loss (batch)=0.0282]\n",
      "Epoch 101/300:  96%|█████████████████████████████████████████▎ | 1536/1600 [00:02<00:00, 819.91it/s]"
     ]
    },
    {
     "name": "stdout",
     "output_type": "stream",
     "text": [
      "QRS_acc: 0.9843\n",
      "Scoring complete.\n",
      "QRS_acc: 0.8968\n",
      "Scoring complete.\n",
      "ECG-SEQ-LAB - INFO - \n",
      "Train epoch_101:\n",
      "--------------------\n",
      "train/epoch_loss:        0.20062565989792347\n",
      "train/qrs_score:         0.9843\n",
      "\n",
      "test/qrs_score:          0.8968\n",
      "---------------------------------\n",
      "\n",
      "ECG-SEQ-LAB - INFO - \n",
      "Train epoch_101:\n",
      "--------------------\n",
      "train/epoch_loss:        0.20062565989792347\n",
      "train/qrs_score:         0.9843\n",
      "\n",
      "test/qrs_score:          0.8968\n",
      "---------------------------------\n",
      "\n",
      "ECG-SEQ-LAB - INFO - Checkpoint 101 saved!\n",
      "ECG-SEQ-LAB - INFO - Checkpoint 101 saved!\n"
     ]
    },
    {
     "name": "stderr",
     "output_type": "stream",
     "text": [
      "Epoch 101/300: 100%|███████████████████████████████████████████| 1600/1600 [00:06<00:00, 255.34it/s]\n",
      "Epoch 102/300:  96%|█████████████████████████████████████████▎ | 1536/1600 [00:02<00:00, 820.97it/s]"
     ]
    },
    {
     "name": "stdout",
     "output_type": "stream",
     "text": [
      "QRS_acc: 0.9876\n",
      "Scoring complete.\n",
      "QRS_acc: 0.8925\n",
      "Scoring complete.\n",
      "ECG-SEQ-LAB - INFO - \n",
      "Train epoch_102:\n",
      "--------------------\n",
      "train/epoch_loss:        0.19384817965328693\n",
      "train/qrs_score:         0.9876\n",
      "\n",
      "test/qrs_score:          0.8925\n",
      "---------------------------------\n",
      "\n",
      "ECG-SEQ-LAB - INFO - \n",
      "Train epoch_102:\n",
      "--------------------\n",
      "train/epoch_loss:        0.19384817965328693\n",
      "train/qrs_score:         0.9876\n",
      "\n",
      "test/qrs_score:          0.8925\n",
      "---------------------------------\n",
      "\n",
      "ECG-SEQ-LAB - INFO - Checkpoint 102 saved!\n",
      "ECG-SEQ-LAB - INFO - Checkpoint 102 saved!\n"
     ]
    },
    {
     "name": "stderr",
     "output_type": "stream",
     "text": [
      "Epoch 102/300: 100%|███████████████████████████████████████████| 1600/1600 [00:06<00:00, 258.48it/s]\n",
      "Epoch 103/300:  80%|██████████████████▍    | 1280/1600 [00:02<00:00, 734.09it/s, loss (batch)=0.025]"
     ]
    },
    {
     "name": "stdout",
     "output_type": "stream",
     "text": [
      "ECG-SEQ-LAB - INFO - Train step_720: loss : 0.024993224069476128\n",
      "ECG-SEQ-LAB - INFO - Train step_720: loss : 0.024993224069476128\n"
     ]
    },
    {
     "name": "stderr",
     "output_type": "stream",
     "text": [
      "\r",
      "Epoch 103/300:  96%|██████████████████████ | 1536/1600 [00:02<00:00, 803.15it/s, loss (batch)=0.025]"
     ]
    },
    {
     "name": "stdout",
     "output_type": "stream",
     "text": [
      "QRS_acc: 0.984\n",
      "Scoring complete.\n",
      "QRS_acc: 0.8958\n",
      "Scoring complete.\n",
      "ECG-SEQ-LAB - INFO - \n",
      "Train epoch_103:\n",
      "--------------------\n",
      "train/epoch_loss:        0.184078648686409\n",
      "train/qrs_score:         0.984\n",
      "\n",
      "test/qrs_score:          0.8958\n",
      "---------------------------------\n",
      "\n",
      "ECG-SEQ-LAB - INFO - \n",
      "Train epoch_103:\n",
      "--------------------\n",
      "train/epoch_loss:        0.184078648686409\n",
      "train/qrs_score:         0.984\n",
      "\n",
      "test/qrs_score:          0.8958\n",
      "---------------------------------\n",
      "\n",
      "ECG-SEQ-LAB - INFO - Checkpoint 103 saved!\n",
      "ECG-SEQ-LAB - INFO - Checkpoint 103 saved!\n"
     ]
    },
    {
     "name": "stderr",
     "output_type": "stream",
     "text": [
      "Epoch 103/300: 100%|███████████████████████| 1600/1600 [00:06<00:00, 251.19it/s, loss (batch)=0.025]\n",
      "Epoch 104/300:  96%|█████████████████████████████████████████▎ | 1536/1600 [00:02<00:00, 783.58it/s]"
     ]
    },
    {
     "name": "stdout",
     "output_type": "stream",
     "text": [
      "QRS_acc: 0.985\n",
      "Scoring complete.\n",
      "QRS_acc: 0.8975\n",
      "Scoring complete.\n",
      "ECG-SEQ-LAB - INFO - \n",
      "Train epoch_104:\n",
      "--------------------\n",
      "train/epoch_loss:        0.1746508926153183\n",
      "train/qrs_score:         0.985\n",
      "\n",
      "test/qrs_score:          0.8975\n",
      "---------------------------------\n",
      "\n",
      "ECG-SEQ-LAB - INFO - \n",
      "Train epoch_104:\n",
      "--------------------\n",
      "train/epoch_loss:        0.1746508926153183\n",
      "train/qrs_score:         0.985\n",
      "\n",
      "test/qrs_score:          0.8975\n",
      "---------------------------------\n",
      "\n",
      "ECG-SEQ-LAB - INFO - Checkpoint 104 saved!\n",
      "ECG-SEQ-LAB - INFO - Checkpoint 104 saved!\n"
     ]
    },
    {
     "name": "stderr",
     "output_type": "stream",
     "text": [
      "Epoch 104/300: 100%|███████████████████████████████████████████| 1600/1600 [00:06<00:00, 255.52it/s]\n",
      "Epoch 105/300:  96%|█████████████████████████████████████████▎ | 1536/1600 [00:02<00:00, 817.16it/s]"
     ]
    },
    {
     "name": "stdout",
     "output_type": "stream",
     "text": [
      "QRS_acc: 0.9859\n",
      "Scoring complete.\n",
      "QRS_acc: 0.889\n",
      "Scoring complete.\n",
      "ECG-SEQ-LAB - INFO - \n",
      "Train epoch_105:\n",
      "--------------------\n",
      "train/epoch_loss:        0.18722914159297943\n",
      "train/qrs_score:         0.9859\n",
      "\n",
      "test/qrs_score:          0.889\n",
      "---------------------------------\n",
      "\n",
      "ECG-SEQ-LAB - INFO - \n",
      "Train epoch_105:\n",
      "--------------------\n",
      "train/epoch_loss:        0.18722914159297943\n",
      "train/qrs_score:         0.9859\n",
      "\n",
      "test/qrs_score:          0.889\n",
      "---------------------------------\n",
      "\n",
      "ECG-SEQ-LAB - INFO - Checkpoint 105 saved!\n",
      "ECG-SEQ-LAB - INFO - Checkpoint 105 saved!\n"
     ]
    },
    {
     "name": "stderr",
     "output_type": "stream",
     "text": [
      "Epoch 105/300: 100%|███████████████████████████████████████████| 1600/1600 [00:06<00:00, 256.29it/s]\n",
      "Epoch 106/300:  64%|██████████████▋        | 1024/1600 [00:02<00:00, 634.79it/s, loss (batch)=0.025]"
     ]
    },
    {
     "name": "stdout",
     "output_type": "stream",
     "text": [
      "ECG-SEQ-LAB - INFO - Train step_740: loss : 0.025036977604031563\n",
      "ECG-SEQ-LAB - INFO - Train step_740: loss : 0.025036977604031563\n"
     ]
    },
    {
     "name": "stderr",
     "output_type": "stream",
     "text": [
      "Epoch 106/300:  96%|██████████████████████ | 1536/1600 [00:02<00:00, 802.47it/s, loss (batch)=0.025]"
     ]
    },
    {
     "name": "stdout",
     "output_type": "stream",
     "text": [
      "QRS_acc: 0.9879\n",
      "Scoring complete.\n",
      "QRS_acc: 0.8932\n",
      "Scoring complete.\n",
      "ECG-SEQ-LAB - INFO - \n",
      "Train epoch_106:\n",
      "--------------------\n",
      "train/epoch_loss:        0.1758632566779852\n",
      "train/qrs_score:         0.9879\n",
      "\n",
      "test/qrs_score:          0.8932\n",
      "---------------------------------\n",
      "\n",
      "ECG-SEQ-LAB - INFO - \n",
      "Train epoch_106:\n",
      "--------------------\n",
      "train/epoch_loss:        0.1758632566779852\n",
      "train/qrs_score:         0.9879\n",
      "\n",
      "test/qrs_score:          0.8932\n",
      "---------------------------------\n",
      "\n",
      "ECG-SEQ-LAB - INFO - Checkpoint 106 saved!\n",
      "ECG-SEQ-LAB - INFO - Checkpoint 106 saved!\n"
     ]
    },
    {
     "name": "stderr",
     "output_type": "stream",
     "text": [
      "Epoch 106/300: 100%|███████████████████████| 1600/1600 [00:06<00:00, 252.93it/s, loss (batch)=0.025]\n",
      "Epoch 107/300:  96%|█████████████████████████████████████████▎ | 1536/1600 [00:02<00:00, 802.41it/s]"
     ]
    },
    {
     "name": "stdout",
     "output_type": "stream",
     "text": [
      "QRS_acc: 0.9828\n",
      "Scoring complete.\n",
      "QRS_acc: 0.8915\n",
      "Scoring complete.\n",
      "ECG-SEQ-LAB - INFO - \n",
      "Train epoch_107:\n",
      "--------------------\n",
      "train/epoch_loss:        0.16071579419076443\n",
      "train/qrs_score:         0.9828\n",
      "\n",
      "test/qrs_score:          0.8915\n",
      "---------------------------------\n",
      "\n",
      "ECG-SEQ-LAB - INFO - \n",
      "Train epoch_107:\n",
      "--------------------\n",
      "train/epoch_loss:        0.16071579419076443\n",
      "train/qrs_score:         0.9828\n",
      "\n",
      "test/qrs_score:          0.8915\n",
      "---------------------------------\n",
      "\n",
      "ECG-SEQ-LAB - INFO - Checkpoint 107 saved!\n",
      "ECG-SEQ-LAB - INFO - Checkpoint 107 saved!\n"
     ]
    },
    {
     "name": "stderr",
     "output_type": "stream",
     "text": [
      "Epoch 107/300: 100%|███████████████████████████████████████████| 1600/1600 [00:06<00:00, 253.56it/s]\n",
      "Epoch 108/300:  96%|█████████████████████████████████████████▎ | 1536/1600 [00:02<00:00, 807.96it/s]"
     ]
    },
    {
     "name": "stdout",
     "output_type": "stream",
     "text": [
      "QRS_acc: 0.9841\n",
      "Scoring complete.\n",
      "QRS_acc: 0.8828\n",
      "Scoring complete.\n",
      "ECG-SEQ-LAB - INFO - \n",
      "Train epoch_108:\n",
      "--------------------\n",
      "train/epoch_loss:        0.16111348755657673\n",
      "train/qrs_score:         0.9841\n",
      "\n",
      "test/qrs_score:          0.8828\n",
      "---------------------------------\n",
      "\n",
      "ECG-SEQ-LAB - INFO - \n",
      "Train epoch_108:\n",
      "--------------------\n",
      "train/epoch_loss:        0.16111348755657673\n",
      "train/qrs_score:         0.9841\n",
      "\n",
      "test/qrs_score:          0.8828\n",
      "---------------------------------\n",
      "\n",
      "ECG-SEQ-LAB - INFO - Checkpoint 108 saved!\n",
      "ECG-SEQ-LAB - INFO - Checkpoint 108 saved!\n"
     ]
    },
    {
     "name": "stderr",
     "output_type": "stream",
     "text": [
      "Epoch 108/300: 100%|███████████████████████████████████████████| 1600/1600 [00:06<00:00, 253.68it/s]\n",
      "Epoch 109/300:  48%|███████████            | 768/1600 [00:02<00:01, 495.10it/s, loss (batch)=0.0207]"
     ]
    },
    {
     "name": "stdout",
     "output_type": "stream",
     "text": [
      "ECG-SEQ-LAB - INFO - Train step_760: loss : 0.020730141550302505\n",
      "ECG-SEQ-LAB - INFO - Train step_760: loss : 0.020730141550302505\n"
     ]
    },
    {
     "name": "stderr",
     "output_type": "stream",
     "text": [
      "Epoch 109/300:  96%|█████████████████████ | 1536/1600 [00:02<00:00, 781.32it/s, loss (batch)=0.0207]"
     ]
    },
    {
     "name": "stdout",
     "output_type": "stream",
     "text": [
      "QRS_acc: 0.9826\n",
      "Scoring complete.\n",
      "QRS_acc: 0.895\n",
      "Scoring complete.\n",
      "ECG-SEQ-LAB - INFO - \n",
      "Train epoch_109:\n",
      "--------------------\n",
      "train/epoch_loss:        0.14989464357495308\n",
      "train/qrs_score:         0.9826\n",
      "\n",
      "test/qrs_score:          0.895\n",
      "---------------------------------\n",
      "\n",
      "ECG-SEQ-LAB - INFO - \n",
      "Train epoch_109:\n",
      "--------------------\n",
      "train/epoch_loss:        0.14989464357495308\n",
      "train/qrs_score:         0.9826\n",
      "\n",
      "test/qrs_score:          0.895\n",
      "---------------------------------\n",
      "\n",
      "ECG-SEQ-LAB - INFO - Checkpoint 109 saved!\n",
      "ECG-SEQ-LAB - INFO - Checkpoint 109 saved!\n"
     ]
    },
    {
     "name": "stderr",
     "output_type": "stream",
     "text": [
      "Epoch 109/300: 100%|██████████████████████| 1600/1600 [00:06<00:00, 245.60it/s, loss (batch)=0.0207]\n",
      "Epoch 110/300:  96%|█████████████████████████████████████████▎ | 1536/1600 [00:02<00:00, 811.79it/s]"
     ]
    },
    {
     "name": "stdout",
     "output_type": "stream",
     "text": [
      "QRS_acc: 0.9851\n",
      "Scoring complete.\n",
      "QRS_acc: 0.8825\n",
      "Scoring complete.\n",
      "ECG-SEQ-LAB - INFO - \n",
      "Train epoch_110:\n",
      "--------------------\n",
      "train/epoch_loss:        0.15720616281032562\n",
      "train/qrs_score:         0.9851\n",
      "\n",
      "test/qrs_score:          0.8825\n",
      "---------------------------------\n",
      "\n",
      "ECG-SEQ-LAB - INFO - \n",
      "Train epoch_110:\n",
      "--------------------\n",
      "train/epoch_loss:        0.15720616281032562\n",
      "train/qrs_score:         0.9851\n",
      "\n",
      "test/qrs_score:          0.8825\n",
      "---------------------------------\n",
      "\n",
      "ECG-SEQ-LAB - INFO - Checkpoint 110 saved!\n",
      "ECG-SEQ-LAB - INFO - Checkpoint 110 saved!\n"
     ]
    },
    {
     "name": "stderr",
     "output_type": "stream",
     "text": [
      "Epoch 110/300: 100%|███████████████████████████████████████████| 1600/1600 [00:06<00:00, 254.21it/s]\n",
      "Epoch 111/300:  96%|█████████████████████████████████████████▎ | 1536/1600 [00:02<00:00, 814.16it/s]"
     ]
    },
    {
     "name": "stdout",
     "output_type": "stream",
     "text": [
      "QRS_acc: 0.9888\n",
      "Scoring complete.\n",
      "QRS_acc: 0.8948\n",
      "Scoring complete.\n",
      "ECG-SEQ-LAB - INFO - \n",
      "Train epoch_111:\n",
      "--------------------\n",
      "train/epoch_loss:        0.14745918475091457\n",
      "train/qrs_score:         0.9888\n",
      "\n",
      "test/qrs_score:          0.8948\n",
      "---------------------------------\n",
      "\n",
      "ECG-SEQ-LAB - INFO - \n",
      "Train epoch_111:\n",
      "--------------------\n",
      "train/epoch_loss:        0.14745918475091457\n",
      "train/qrs_score:         0.9888\n",
      "\n",
      "test/qrs_score:          0.8948\n",
      "---------------------------------\n",
      "\n",
      "ECG-SEQ-LAB - INFO - Checkpoint 111 saved!\n",
      "ECG-SEQ-LAB - INFO - Checkpoint 111 saved!\n"
     ]
    },
    {
     "name": "stderr",
     "output_type": "stream",
     "text": [
      "Epoch 111/300: 100%|███████████████████████████████████████████| 1600/1600 [00:06<00:00, 255.44it/s]\n",
      "Epoch 112/300:  32%|███████▎               | 512/1600 [00:01<00:02, 375.87it/s, loss (batch)=0.0192]"
     ]
    },
    {
     "name": "stdout",
     "output_type": "stream",
     "text": [
      "ECG-SEQ-LAB - INFO - Train step_780: loss : 0.019217701628804207\n",
      "ECG-SEQ-LAB - INFO - Train step_780: loss : 0.019217701628804207\n"
     ]
    },
    {
     "name": "stderr",
     "output_type": "stream",
     "text": [
      "Epoch 112/300:  96%|█████████████████████ | 1536/1600 [00:02<00:00, 810.79it/s, loss (batch)=0.0192]"
     ]
    },
    {
     "name": "stdout",
     "output_type": "stream",
     "text": [
      "QRS_acc: 0.9899\n",
      "Scoring complete.\n",
      "QRS_acc: 0.8988\n",
      "Scoring complete.\n",
      "ECG-SEQ-LAB - INFO - \n",
      "Train epoch_112:\n",
      "--------------------\n",
      "train/epoch_loss:        0.14465167745947838\n",
      "train/qrs_score:         0.9899\n",
      "\n",
      "test/qrs_score:          0.8988\n",
      "---------------------------------\n",
      "\n",
      "ECG-SEQ-LAB - INFO - \n",
      "Train epoch_112:\n",
      "--------------------\n",
      "train/epoch_loss:        0.14465167745947838\n",
      "train/qrs_score:         0.9899\n",
      "\n",
      "test/qrs_score:          0.8988\n",
      "---------------------------------\n",
      "\n",
      "ECG-SEQ-LAB - INFO - early stopping is triggered at epoch 112\n",
      "ECG-SEQ-LAB - INFO - early stopping is triggered at epoch 112\n"
     ]
    },
    {
     "name": "stderr",
     "output_type": "stream",
     "text": [
      "\r",
      "Epoch 112/300: 100%|██████████████████████| 1600/1600 [00:06<00:00, 261.57it/s, loss (batch)=0.0192]"
     ]
    },
    {
     "name": "stdout",
     "output_type": "stream",
     "text": [
      "ECG-SEQ-LAB - INFO - Best model saved to /home/wenh06/Jupyter/wenhao/workspace/torch_ecg/train/train_seq_lab_net_cpsc2019/saved_models/ECG_SEQ_LAB_NET_CPSC2019_multi_scopic_lstm_epoch_2021-06-22-09-54-54_BestModel_challenge_score(qrs_score)_0.9038.pth.tar!\n",
      "ECG-SEQ-LAB - INFO - Best model saved to /home/wenh06/Jupyter/wenhao/workspace/torch_ecg/train/train_seq_lab_net_cpsc2019/saved_models/ECG_SEQ_LAB_NET_CPSC2019_multi_scopic_lstm_epoch_2021-06-22-09-54-54_BestModel_challenge_score(qrs_score)_0.9038.pth.tar!\n"
     ]
    },
    {
     "name": "stderr",
     "output_type": "stream",
     "text": [
      "\n"
     ]
    }
   ],
   "source": [
    "best_state_dict = train(\n",
    "    model=model,\n",
    "    model_config=model_config,\n",
    "    device=device,\n",
    "    config=train_config,\n",
    "    logger=logger,\n",
    "    debug=train_config.debug,\n",
    ")"
   ]
  },
  {
   "cell_type": "code",
   "execution_count": null,
   "metadata": {},
   "outputs": [],
   "source": []
  },
  {
   "cell_type": "code",
   "execution_count": null,
   "metadata": {},
   "outputs": [],
   "source": []
  },
  {
   "cell_type": "code",
   "execution_count": null,
   "metadata": {},
   "outputs": [],
   "source": []
  },
  {
   "cell_type": "markdown",
   "metadata": {},
   "source": [
    "# DEBUG"
   ]
  },
  {
   "cell_type": "code",
   "execution_count": 31,
   "metadata": {},
   "outputs": [
    {
     "data": {
      "text/plain": [
       "<All keys matched successfully>"
      ]
     },
     "execution_count": 31,
     "metadata": {},
     "output_type": "execute_result"
    }
   ],
   "source": [
    "model.module.load_state_dict(best_state_dict)"
   ]
  },
  {
   "cell_type": "code",
   "execution_count": 32,
   "metadata": {},
   "outputs": [],
   "source": [
    "from train.database_reader.database_reader.cpsc_databases.cpsc2019 import CPSC2019 as DR\n",
    "from dataset import CPSC2019 as DG"
   ]
  },
  {
   "cell_type": "code",
   "execution_count": 33,
   "metadata": {},
   "outputs": [
    {
     "name": "stdout",
     "output_type": "stream",
     "text": [
      "log file path is set \"/home/wenh06/Jupyter/wenhao/workspace/torch_ecg/train/train_seq_lab_net_cpsc2019/CPSC2019-CPSC2019.log\"\n",
      "levels of c_handler and f_handler are set DEBUG\n"
     ]
    }
   ],
   "source": [
    "dg = DG(TrainCfg)"
   ]
  },
  {
   "cell_type": "code",
   "execution_count": 34,
   "metadata": {},
   "outputs": [],
   "source": [
    "values, labels = dg[2]"
   ]
  },
  {
   "cell_type": "code",
   "execution_count": 35,
   "metadata": {},
   "outputs": [
    {
     "data": {
      "text/plain": [
       "((1, 5000), (625, 1))"
      ]
     },
     "execution_count": 35,
     "metadata": {},
     "output_type": "execute_result"
    }
   ],
   "source": [
    "values.shape, labels.shape"
   ]
  },
  {
   "cell_type": "code",
   "execution_count": 36,
   "metadata": {},
   "outputs": [],
   "source": [
    "values = values.astype(np.float32)"
   ]
  },
  {
   "cell_type": "code",
   "execution_count": null,
   "metadata": {},
   "outputs": [],
   "source": []
  },
  {
   "cell_type": "code",
   "execution_count": 38,
   "metadata": {},
   "outputs": [],
   "source": [
    "pred, rpeaks = model.module.inference(values[np.newaxis,...])"
   ]
  },
  {
   "cell_type": "code",
   "execution_count": 39,
   "metadata": {},
   "outputs": [
    {
     "data": {
      "text/plain": [
       "array([[0.     , 0.     , 0.     , 0.     , 0.     , 0.     , 0.     ,\n",
       "        0.     , 0.     , 0.     , 0.     , 0.     , 0.     , 0.     ,\n",
       "        0.     , 0.     , 0.     , 0.     , 0.     , 0.     , 0.     ,\n",
       "        0.     , 0.     , 0.     , 0.00001, 0.00071, 0.17913, 0.94618,\n",
       "        0.99898, 0.99997, 0.99992, 0.99987, 0.99997, 1.     , 1.     ,\n",
       "        0.99997, 0.99633, 0.13221, 0.01585, 0.00002, 0.     , 0.     ,\n",
       "        0.     , 0.     , 0.     , 0.     , 0.     , 0.     , 0.     ,\n",
       "        0.     , 0.     , 0.     , 0.     , 0.     , 0.     , 0.     ,\n",
       "        0.     , 0.     , 0.     , 0.     , 0.     , 0.     , 0.     ,\n",
       "        0.     , 0.     , 0.     , 0.     , 0.     , 0.     , 0.     ,\n",
       "        0.     , 0.     , 0.     , 0.     , 0.     , 0.     , 0.     ,\n",
       "        0.     , 0.     , 0.     , 0.     , 0.00107, 0.33828, 0.90369,\n",
       "        0.99997, 0.99999, 1.     , 1.     , 1.     , 1.     , 1.     ,\n",
       "        1.     , 0.99993, 0.35735, 0.04375, 0.00002, 0.     , 0.     ,\n",
       "        0.     , 0.     , 0.     , 0.     , 0.     , 0.     , 0.     ,\n",
       "        0.     , 0.     , 0.     , 0.     , 0.     , 0.     , 0.     ,\n",
       "        0.     , 0.     , 0.     , 0.     , 0.     , 0.     , 0.     ,\n",
       "        0.     , 0.     , 0.     , 0.     , 0.     , 0.     , 0.     ,\n",
       "        0.     , 0.     , 0.     , 0.     , 0.     , 0.     , 0.     ,\n",
       "        0.     , 0.     , 0.     , 0.     , 0.00009, 0.2207 , 0.8012 ,\n",
       "        0.99766, 0.99998, 0.99997, 1.     , 1.     , 1.     , 1.     ,\n",
       "        1.     , 0.99976, 0.3373 , 0.03926, 0.00004, 0.     , 0.     ,\n",
       "        0.     , 0.     , 0.     , 0.     , 0.     , 0.     , 0.     ,\n",
       "        0.     , 0.     , 0.     , 0.     , 0.     , 0.     , 0.     ,\n",
       "        0.     , 0.     , 0.     , 0.     , 0.     , 0.     , 0.     ,\n",
       "        0.     , 0.     , 0.     , 0.     , 0.     , 0.     , 0.     ,\n",
       "        0.     , 0.     , 0.     , 0.     , 0.     , 0.     , 0.     ,\n",
       "        0.     , 0.     , 0.     , 0.     , 0.     , 0.00314, 0.70236,\n",
       "        0.99119, 0.99996, 1.     , 1.     , 1.     , 1.     , 1.     ,\n",
       "        1.     , 1.     , 0.81088, 0.05491, 0.00068, 0.     , 0.     ,\n",
       "        0.     , 0.     , 0.     , 0.     , 0.     , 0.     , 0.     ,\n",
       "        0.     , 0.     , 0.     , 0.     , 0.     , 0.     , 0.     ,\n",
       "        0.     , 0.     , 0.     , 0.     , 0.     , 0.     , 0.     ,\n",
       "        0.     , 0.     , 0.     , 0.     , 0.     , 0.     , 0.     ,\n",
       "        0.     , 0.     , 0.     , 0.     , 0.     , 0.     , 0.     ,\n",
       "        0.     , 0.     , 0.     , 0.     , 0.00001, 0.04638, 0.91145,\n",
       "        0.99378, 0.99999, 1.     , 1.     , 1.     , 1.     , 1.     ,\n",
       "        1.     , 0.99998, 0.65735, 0.04104, 0.00002, 0.     , 0.     ,\n",
       "        0.     , 0.     , 0.     , 0.     , 0.     , 0.     , 0.     ,\n",
       "        0.     , 0.     , 0.     , 0.     , 0.     , 0.     , 0.     ,\n",
       "        0.     , 0.     , 0.     , 0.     , 0.     , 0.     , 0.     ,\n",
       "        0.     , 0.     , 0.     , 0.     , 0.     , 0.     , 0.     ,\n",
       "        0.     , 0.     , 0.     , 0.     , 0.     , 0.     , 0.     ,\n",
       "        0.     , 0.     , 0.     , 0.     , 0.00003, 0.00133, 0.75505,\n",
       "        0.84609, 0.99865, 0.99999, 1.     , 1.     , 1.     , 1.     ,\n",
       "        1.     , 1.     , 0.99988, 0.47398, 0.01588, 0.     , 0.     ,\n",
       "        0.     , 0.     , 0.     , 0.     , 0.     , 0.     , 0.     ,\n",
       "        0.     , 0.     , 0.     , 0.     , 0.     , 0.     , 0.     ,\n",
       "        0.     , 0.     , 0.     , 0.     , 0.     , 0.     , 0.     ,\n",
       "        0.     , 0.     , 0.     , 0.     , 0.     , 0.     , 0.     ,\n",
       "        0.     , 0.     , 0.     , 0.     , 0.     , 0.     , 0.     ,\n",
       "        0.     , 0.     , 0.     , 0.     , 0.00001, 0.00014, 0.33471,\n",
       "        0.92248, 0.99889, 0.99998, 1.     , 1.     , 1.     , 1.     ,\n",
       "        1.     , 1.     , 0.99991, 0.38887, 0.01743, 0.00029, 0.     ,\n",
       "        0.     , 0.     , 0.     , 0.     , 0.     , 0.     , 0.     ,\n",
       "        0.     , 0.     , 0.     , 0.     , 0.     , 0.     , 0.     ,\n",
       "        0.     , 0.     , 0.     , 0.     , 0.     , 0.     , 0.     ,\n",
       "        0.     , 0.     , 0.     , 0.     , 0.     , 0.     , 0.     ,\n",
       "        0.     , 0.     , 0.     , 0.     , 0.     , 0.     , 0.     ,\n",
       "        0.     , 0.     , 0.     , 0.     , 0.00002, 0.18525, 0.91066,\n",
       "        0.99787, 0.99992, 1.     , 1.     , 1.     , 1.     , 1.     ,\n",
       "        1.     , 0.99999, 0.68496, 0.031  , 0.00022, 0.     , 0.     ,\n",
       "        0.     , 0.     , 0.     , 0.     , 0.     , 0.     , 0.     ,\n",
       "        0.     , 0.     , 0.     , 0.     , 0.     , 0.     , 0.     ,\n",
       "        0.     , 0.     , 0.     , 0.     , 0.     , 0.     , 0.     ,\n",
       "        0.     , 0.     , 0.     , 0.     , 0.     , 0.     , 0.     ,\n",
       "        0.     , 0.     , 0.     , 0.     , 0.     , 0.     , 0.     ,\n",
       "        0.     , 0.     , 0.     , 0.     , 0.00279, 0.82833, 0.93936,\n",
       "        1.     , 1.     , 1.     , 1.     , 1.     , 1.     , 1.     ,\n",
       "        1.     , 0.62686, 0.02854, 0.00022, 0.00001, 0.     , 0.     ,\n",
       "        0.     , 0.     , 0.     , 0.     , 0.     , 0.     , 0.     ,\n",
       "        0.     , 0.     , 0.     , 0.     , 0.     , 0.     , 0.     ,\n",
       "        0.     , 0.     , 0.     , 0.     , 0.     , 0.     , 0.     ,\n",
       "        0.     , 0.     , 0.     , 0.     , 0.     , 0.     , 0.     ,\n",
       "        0.     , 0.     , 0.     , 0.     , 0.     , 0.     , 0.     ,\n",
       "        0.     , 0.     , 0.     , 0.     , 0.00008, 0.2358 , 0.98746,\n",
       "        0.99938, 1.     , 1.     , 1.     , 1.     , 1.     , 1.     ,\n",
       "        0.99999, 0.99954, 0.40664, 0.01887, 0.00001, 0.     , 0.00001,\n",
       "        0.     , 0.     , 0.     , 0.     , 0.     , 0.     , 0.     ,\n",
       "        0.     , 0.     , 0.     , 0.     , 0.     , 0.     , 0.     ,\n",
       "        0.     , 0.     , 0.     , 0.     , 0.     , 0.     , 0.     ,\n",
       "        0.00011, 0.13008, 0.76035, 0.98245, 0.99865, 0.99999, 0.99999,\n",
       "        1.     , 1.     , 1.     , 1.     , 0.99995, 0.9777 , 0.22641,\n",
       "        0.00114, 0.00005, 0.     , 0.     , 0.     , 0.     , 0.     ,\n",
       "        0.     , 0.     , 0.     , 0.     , 0.     , 0.     , 0.     ,\n",
       "        0.     , 0.     , 0.     , 0.     , 0.     , 0.     , 0.     ,\n",
       "        0.     , 0.     , 0.     , 0.     , 0.     , 0.     , 0.     ,\n",
       "        0.     , 0.     , 0.     , 0.     , 0.     , 0.     , 0.     ,\n",
       "        0.     , 0.     , 0.     , 0.     , 0.     , 0.     , 0.     ,\n",
       "        0.     , 0.     ]], dtype=float32)"
      ]
     },
     "execution_count": 39,
     "metadata": {},
     "output_type": "execute_result"
    }
   ],
   "source": [
    "pred"
   ]
  },
  {
   "cell_type": "code",
   "execution_count": 40,
   "metadata": {},
   "outputs": [
    {
     "data": {
      "text/plain": [
       "(1, 625)"
      ]
     },
     "execution_count": 40,
     "metadata": {},
     "output_type": "execute_result"
    }
   ],
   "source": [
    "pred.shape"
   ]
  },
  {
   "cell_type": "code",
   "execution_count": 41,
   "metadata": {},
   "outputs": [
    {
     "data": {
      "text/plain": [
       "[array([ 256,  704, 1152, 1604, 2052, 2500, 2952, 3396, 3836, 4288, 4596])]"
      ]
     },
     "execution_count": 41,
     "metadata": {},
     "output_type": "execute_result"
    }
   ],
   "source": [
    "rpeaks"
   ]
  },
  {
   "cell_type": "code",
   "execution_count": null,
   "metadata": {},
   "outputs": [],
   "source": []
  },
  {
   "cell_type": "code",
   "execution_count": 42,
   "metadata": {},
   "outputs": [],
   "source": [
    "hehe_fwd = model.module.forward(torch.from_numpy(values[np.newaxis,...]).to(device))"
   ]
  },
  {
   "cell_type": "code",
   "execution_count": 43,
   "metadata": {},
   "outputs": [
    {
     "data": {
      "text/plain": [
       "tensor([[[-1.8846e+01],\n",
       "         [-2.3426e+01],\n",
       "         [-2.7113e+01],\n",
       "         [-2.5824e+01],\n",
       "         [-2.2551e+01],\n",
       "         [-2.9579e+01],\n",
       "         [-3.0723e+01],\n",
       "         [-3.2809e+01],\n",
       "         [-2.7633e+01],\n",
       "         [-2.3200e+01],\n",
       "         [-3.0879e+01],\n",
       "         [-2.9089e+01],\n",
       "         [-3.1438e+01],\n",
       "         [-3.0890e+01],\n",
       "         [-2.0101e+01],\n",
       "         [-2.8980e+01],\n",
       "         [-2.5833e+01],\n",
       "         [-2.1812e+01],\n",
       "         [-2.5912e+01],\n",
       "         [-1.9507e+01],\n",
       "         [-2.7119e+01],\n",
       "         [-2.1757e+01],\n",
       "         [-1.7117e+01],\n",
       "         [-1.3100e+01],\n",
       "         [-9.8422e+00],\n",
       "         [-6.8812e+00],\n",
       "         [-4.7680e-02],\n",
       "         [ 4.0838e+00],\n",
       "         [ 8.3293e+00],\n",
       "         [ 1.0429e+01],\n",
       "         [ 1.2877e+01],\n",
       "         [ 1.0394e+01],\n",
       "         [ 1.6613e+01],\n",
       "         [ 1.5625e+01],\n",
       "         [ 1.2923e+01],\n",
       "         [ 1.1880e+01],\n",
       "         [ 7.0214e+00],\n",
       "         [-9.9242e-01],\n",
       "         [-2.9318e+00],\n",
       "         [-7.6519e+00],\n",
       "         [-1.6216e+01],\n",
       "         [-2.0290e+01],\n",
       "         [-2.0742e+01],\n",
       "         [-2.0953e+01],\n",
       "         [-1.8132e+01],\n",
       "         [-2.0083e+01],\n",
       "         [-2.1655e+01],\n",
       "         [-2.0746e+01],\n",
       "         [-2.3406e+01],\n",
       "         [-2.0001e+01],\n",
       "         [-2.2111e+01],\n",
       "         [-2.8188e+01],\n",
       "         [-2.7876e+01],\n",
       "         [-2.8008e+01],\n",
       "         [-2.8364e+01],\n",
       "         [-2.5690e+01],\n",
       "         [-2.4771e+01],\n",
       "         [-2.4168e+01],\n",
       "         [-2.9511e+01],\n",
       "         [-2.2677e+01],\n",
       "         [-2.8476e+01],\n",
       "         [-2.3224e+01],\n",
       "         [-2.6310e+01],\n",
       "         [-2.3011e+01],\n",
       "         [-2.0873e+01],\n",
       "         [-2.6382e+01],\n",
       "         [-2.7981e+01],\n",
       "         [-2.6599e+01],\n",
       "         [-2.4348e+01],\n",
       "         [-2.3409e+01],\n",
       "         [-2.2911e+01],\n",
       "         [-2.5686e+01],\n",
       "         [-2.7061e+01],\n",
       "         [-2.2215e+01],\n",
       "         [-2.2424e+01],\n",
       "         [-2.3883e+01],\n",
       "         [-2.1322e+01],\n",
       "         [-2.3567e+01],\n",
       "         [-1.9669e+01],\n",
       "         [-1.6168e+01],\n",
       "         [-1.1045e+01],\n",
       "         [-5.0526e+00],\n",
       "         [ 2.5029e-02],\n",
       "         [ 2.3647e+00],\n",
       "         [ 7.6621e+00],\n",
       "         [ 1.4280e+01],\n",
       "         [ 1.5039e+01],\n",
       "         [ 1.7291e+01],\n",
       "         [ 2.0438e+01],\n",
       "         [ 2.1658e+01],\n",
       "         [ 1.7585e+01],\n",
       "         [ 1.6113e+01],\n",
       "         [ 8.1384e+00],\n",
       "         [-8.3052e-01],\n",
       "         [-4.7786e+00],\n",
       "         [-1.4210e+01],\n",
       "         [-1.4659e+01],\n",
       "         [-1.6598e+01],\n",
       "         [-1.9862e+01],\n",
       "         [-2.0918e+01],\n",
       "         [-1.6444e+01],\n",
       "         [-2.0160e+01],\n",
       "         [-2.0356e+01],\n",
       "         [-1.4395e+01],\n",
       "         [-2.2315e+01],\n",
       "         [-2.4623e+01],\n",
       "         [-2.4950e+01],\n",
       "         [-2.6408e+01],\n",
       "         [-3.1006e+01],\n",
       "         [-2.5895e+01],\n",
       "         [-2.7069e+01],\n",
       "         [-1.8648e+01],\n",
       "         [-2.2853e+01],\n",
       "         [-2.2966e+01],\n",
       "         [-2.6342e+01],\n",
       "         [-2.7489e+01],\n",
       "         [-2.6053e+01],\n",
       "         [-2.2382e+01],\n",
       "         [-2.4040e+01],\n",
       "         [-2.6385e+01],\n",
       "         [-2.8507e+01],\n",
       "         [-2.9024e+01],\n",
       "         [-1.9316e+01],\n",
       "         [-2.3450e+01],\n",
       "         [-2.5473e+01],\n",
       "         [-2.0991e+01],\n",
       "         [-2.6945e+01],\n",
       "         [-2.1975e+01],\n",
       "         [-1.9863e+01],\n",
       "         [-2.4013e+01],\n",
       "         [-1.9717e+01],\n",
       "         [-2.0008e+01],\n",
       "         [-2.0625e+01],\n",
       "         [-2.4054e+01],\n",
       "         [-1.9570e+01],\n",
       "         [-1.6109e+01],\n",
       "         [-1.4004e+01],\n",
       "         [-8.4135e+00],\n",
       "         [-1.3071e+00],\n",
       "         [ 2.1646e+00],\n",
       "         [ 7.1915e+00],\n",
       "         [ 9.3893e+00],\n",
       "         [ 1.4893e+01],\n",
       "         [ 1.8583e+01],\n",
       "         [ 1.7475e+01],\n",
       "         [ 1.9621e+01],\n",
       "         [ 1.7637e+01],\n",
       "         [ 1.3872e+01],\n",
       "         [ 9.2878e+00],\n",
       "         [ 2.1665e-01],\n",
       "         [-2.6298e+00],\n",
       "         [-1.2189e+01],\n",
       "         [-1.8028e+01],\n",
       "         [-1.9108e+01],\n",
       "         [-2.3303e+01],\n",
       "         [-2.6074e+01],\n",
       "         [-1.8680e+01],\n",
       "         [-2.2201e+01],\n",
       "         [-2.3630e+01],\n",
       "         [-2.7598e+01],\n",
       "         [-2.7813e+01],\n",
       "         [-2.4853e+01],\n",
       "         [-2.8963e+01],\n",
       "         [-2.6189e+01],\n",
       "         [-2.9189e+01],\n",
       "         [-2.9278e+01],\n",
       "         [-2.3538e+01],\n",
       "         [-2.7266e+01],\n",
       "         [-2.1089e+01],\n",
       "         [-2.2060e+01],\n",
       "         [-2.4317e+01],\n",
       "         [-2.9320e+01],\n",
       "         [-2.2941e+01],\n",
       "         [-2.7684e+01],\n",
       "         [-2.7330e+01],\n",
       "         [-2.5832e+01],\n",
       "         [-2.9156e+01],\n",
       "         [-2.6311e+01],\n",
       "         [-2.8289e+01],\n",
       "         [-2.5459e+01],\n",
       "         [-2.5152e+01],\n",
       "         [-2.4757e+01],\n",
       "         [-2.7902e+01],\n",
       "         [-2.4735e+01],\n",
       "         [-2.3278e+01],\n",
       "         [-2.1818e+01],\n",
       "         [-2.0351e+01],\n",
       "         [-2.4860e+01],\n",
       "         [-2.1134e+01],\n",
       "         [-2.0831e+01],\n",
       "         [-1.6583e+01],\n",
       "         [-1.6435e+01],\n",
       "         [-1.7493e+01],\n",
       "         [-1.2484e+01],\n",
       "         [-7.3229e+00],\n",
       "         [ 1.6920e+00],\n",
       "         [ 3.5446e+00],\n",
       "         [ 1.0753e+01],\n",
       "         [ 1.6108e+01],\n",
       "         [ 1.8363e+01],\n",
       "         [ 1.3542e+01],\n",
       "         [ 2.1092e+01],\n",
       "         [ 1.6372e+01],\n",
       "         [ 1.8599e+01],\n",
       "         [ 1.3639e+01],\n",
       "         [ 2.7913e+00],\n",
       "         [-3.4626e+00],\n",
       "         [-8.4493e+00],\n",
       "         [-1.8670e+01],\n",
       "         [-2.0084e+01],\n",
       "         [-1.9461e+01],\n",
       "         [-2.3179e+01],\n",
       "         [-2.5210e+01],\n",
       "         [-2.3052e+01],\n",
       "         [-2.2910e+01],\n",
       "         [-2.1523e+01],\n",
       "         [-2.4664e+01],\n",
       "         [-2.8621e+01],\n",
       "         [-2.4672e+01],\n",
       "         [-3.0013e+01],\n",
       "         [-2.8744e+01],\n",
       "         [-2.7307e+01],\n",
       "         [-2.4414e+01],\n",
       "         [-2.3435e+01],\n",
       "         [-2.7827e+01],\n",
       "         [-2.7844e+01],\n",
       "         [-2.5226e+01],\n",
       "         [-2.4277e+01],\n",
       "         [-2.5302e+01],\n",
       "         [-2.7647e+01],\n",
       "         [-2.2713e+01],\n",
       "         [-2.3996e+01],\n",
       "         [-2.4889e+01],\n",
       "         [-2.2116e+01],\n",
       "         [-2.5125e+01],\n",
       "         [-2.2844e+01],\n",
       "         [-2.3856e+01],\n",
       "         [-2.4484e+01],\n",
       "         [-2.0933e+01],\n",
       "         [-2.4136e+01],\n",
       "         [-2.5347e+01],\n",
       "         [-2.4899e+01],\n",
       "         [-2.1643e+01],\n",
       "         [-2.3567e+01],\n",
       "         [-2.0009e+01],\n",
       "         [-2.3369e+01],\n",
       "         [-1.8583e+01],\n",
       "         [-1.7766e+01],\n",
       "         [-1.5092e+01],\n",
       "         [-8.9495e+00],\n",
       "         [-2.3705e+00],\n",
       "         [ 3.5211e+00],\n",
       "         [ 4.1316e+00],\n",
       "         [ 9.8252e+00],\n",
       "         [ 1.4111e+01],\n",
       "         [ 1.7509e+01],\n",
       "         [ 2.1825e+01],\n",
       "         [ 2.2763e+01],\n",
       "         [ 1.8786e+01],\n",
       "         [ 1.5054e+01],\n",
       "         [ 9.4706e+00],\n",
       "         [-1.2570e+00],\n",
       "         [-4.5215e+00],\n",
       "         [-1.3104e+01],\n",
       "         [-1.5991e+01],\n",
       "         [-1.3240e+01],\n",
       "         [-2.3122e+01],\n",
       "         [-2.2493e+01],\n",
       "         [-2.1300e+01],\n",
       "         [-2.6501e+01],\n",
       "         [-2.4497e+01],\n",
       "         [-2.2024e+01],\n",
       "         [-2.6462e+01],\n",
       "         [-2.1877e+01],\n",
       "         [-2.8011e+01],\n",
       "         [-2.5823e+01],\n",
       "         [-2.7292e+01],\n",
       "         [-3.1128e+01],\n",
       "         [-1.9302e+01],\n",
       "         [-2.7976e+01],\n",
       "         [-2.7335e+01],\n",
       "         [-2.6978e+01],\n",
       "         [-2.8544e+01],\n",
       "         [-2.5370e+01],\n",
       "         [-2.7268e+01],\n",
       "         [-2.4906e+01],\n",
       "         [-2.4130e+01],\n",
       "         [-2.3746e+01],\n",
       "         [-2.5444e+01],\n",
       "         [-2.6068e+01],\n",
       "         [-2.5397e+01],\n",
       "         [-2.0315e+01],\n",
       "         [-2.8541e+01],\n",
       "         [-2.7574e+01],\n",
       "         [-2.5906e+01],\n",
       "         [-2.7151e+01],\n",
       "         [-2.1017e+01],\n",
       "         [-2.3729e+01],\n",
       "         [-2.0433e+01],\n",
       "         [-2.3118e+01],\n",
       "         [-2.0199e+01],\n",
       "         [-1.9654e+01],\n",
       "         [-2.1538e+01],\n",
       "         [-2.2819e+01],\n",
       "         [-1.8389e+01],\n",
       "         [-1.4417e+01],\n",
       "         [-9.7528e+00],\n",
       "         [-1.4366e+00],\n",
       "         [ 2.4777e+00],\n",
       "         [ 7.1579e+00],\n",
       "         [ 1.3286e+01],\n",
       "         [ 1.4217e+01],\n",
       "         [ 2.0763e+01],\n",
       "         [ 1.7049e+01],\n",
       "         [ 2.2563e+01],\n",
       "         [ 1.7461e+01],\n",
       "         [ 1.5374e+01],\n",
       "         [ 5.7322e+00],\n",
       "         [-2.6712e+00],\n",
       "         [-5.3706e+00],\n",
       "         [-1.1991e+01],\n",
       "         [-1.4924e+01],\n",
       "         [-1.8729e+01],\n",
       "         [-1.9055e+01],\n",
       "         [-2.2524e+01],\n",
       "         [-1.5222e+01],\n",
       "         [-2.1849e+01],\n",
       "         [-2.2113e+01],\n",
       "         [-2.7513e+01],\n",
       "         [-2.2939e+01],\n",
       "         [-2.2785e+01],\n",
       "         [-3.0361e+01],\n",
       "         [-2.9436e+01],\n",
       "         [-2.4807e+01],\n",
       "         [-2.5802e+01],\n",
       "         [-3.0329e+01],\n",
       "         [-2.2778e+01],\n",
       "         [-2.4475e+01],\n",
       "         [-2.4358e+01],\n",
       "         [-2.3181e+01],\n",
       "         [-2.5861e+01],\n",
       "         [-2.6451e+01],\n",
       "         [-2.2955e+01],\n",
       "         [-2.3623e+01],\n",
       "         [-2.4954e+01],\n",
       "         [-2.1128e+01],\n",
       "         [-2.2464e+01],\n",
       "         [-2.1453e+01],\n",
       "         [-2.5593e+01],\n",
       "         [-2.6862e+01],\n",
       "         [-2.3692e+01],\n",
       "         [-2.0996e+01],\n",
       "         [-2.6443e+01],\n",
       "         [-2.5812e+01],\n",
       "         [-2.4052e+01],\n",
       "         [-2.4648e+01],\n",
       "         [-2.2919e+01],\n",
       "         [-2.0529e+01],\n",
       "         [-2.0297e+01],\n",
       "         [-2.0491e+01],\n",
       "         [-1.8553e+01],\n",
       "         [-1.2207e+01],\n",
       "         [-5.0635e+00],\n",
       "         [ 9.3574e-01],\n",
       "         [ 3.5742e+00],\n",
       "         [ 6.8568e+00],\n",
       "         [ 1.0599e+01],\n",
       "         [ 1.3336e+01],\n",
       "         [ 1.7039e+01],\n",
       "         [ 1.9216e+01],\n",
       "         [ 1.6867e+01],\n",
       "         [ 1.9623e+01],\n",
       "         [ 1.2107e+01],\n",
       "         [ 1.1012e+01],\n",
       "         [ 9.6458e-01],\n",
       "         [-4.0424e+00],\n",
       "         [-1.2653e+01],\n",
       "         [-1.7617e+01],\n",
       "         [-2.1094e+01],\n",
       "         [-1.8329e+01],\n",
       "         [-2.2322e+01],\n",
       "         [-2.2324e+01],\n",
       "         [-2.3818e+01],\n",
       "         [-2.8778e+01],\n",
       "         [-2.5414e+01],\n",
       "         [-2.1583e+01],\n",
       "         [-2.5367e+01],\n",
       "         [-3.1537e+01],\n",
       "         [-2.1769e+01],\n",
       "         [-3.1137e+01],\n",
       "         [-2.9392e+01],\n",
       "         [-2.3130e+01],\n",
       "         [-2.6047e+01],\n",
       "         [-2.5021e+01],\n",
       "         [-2.7412e+01],\n",
       "         [-1.8984e+01],\n",
       "         [-2.4361e+01],\n",
       "         [-2.5741e+01],\n",
       "         [-2.2430e+01],\n",
       "         [-2.3342e+01],\n",
       "         [-2.4595e+01],\n",
       "         [-2.2417e+01],\n",
       "         [-2.0820e+01],\n",
       "         [-2.3185e+01],\n",
       "         [-2.1786e+01],\n",
       "         [-2.1639e+01],\n",
       "         [-2.5973e+01],\n",
       "         [-2.7224e+01],\n",
       "         [-1.9253e+01],\n",
       "         [-2.5271e+01],\n",
       "         [-2.2981e+01],\n",
       "         [-1.9920e+01],\n",
       "         [-2.0351e+01],\n",
       "         [-1.7402e+01],\n",
       "         [-1.8170e+01],\n",
       "         [-1.4414e+01],\n",
       "         [-1.3170e+01],\n",
       "         [-1.0011e+01],\n",
       "         [-3.2001e+00],\n",
       "         [ 1.6898e+00],\n",
       "         [ 4.8066e+00],\n",
       "         [ 9.1123e+00],\n",
       "         [ 1.3947e+01],\n",
       "         [ 1.5581e+01],\n",
       "         [ 1.7316e+01],\n",
       "         [ 2.2761e+01],\n",
       "         [ 2.2024e+01],\n",
       "         [ 1.6266e+01],\n",
       "         [ 1.3123e+01],\n",
       "         [ 5.1889e+00],\n",
       "         [-1.7219e+00],\n",
       "         [-7.1255e+00],\n",
       "         [-1.5461e+01],\n",
       "         [-1.8427e+01],\n",
       "         [-2.1578e+01],\n",
       "         [-2.2536e+01],\n",
       "         [-2.5583e+01],\n",
       "         [-2.5412e+01],\n",
       "         [-2.4402e+01],\n",
       "         [-2.6438e+01],\n",
       "         [-2.8992e+01],\n",
       "         [-2.4144e+01],\n",
       "         [-2.2417e+01],\n",
       "         [-2.2787e+01],\n",
       "         [-2.9780e+01],\n",
       "         [-2.6399e+01],\n",
       "         [-2.8713e+01],\n",
       "         [-2.6729e+01],\n",
       "         [-2.1469e+01],\n",
       "         [-2.6686e+01],\n",
       "         [-2.0567e+01],\n",
       "         [-2.7672e+01],\n",
       "         [-2.5492e+01],\n",
       "         [-3.0628e+01],\n",
       "         [-2.7488e+01],\n",
       "         [-2.3441e+01],\n",
       "         [-2.6087e+01],\n",
       "         [-2.9573e+01],\n",
       "         [-2.9520e+01],\n",
       "         [-2.4996e+01],\n",
       "         [-2.5469e+01],\n",
       "         [-1.9791e+01],\n",
       "         [-2.0971e+01],\n",
       "         [-2.5204e+01],\n",
       "         [-2.5556e+01],\n",
       "         [-2.2505e+01],\n",
       "         [-2.1889e+01],\n",
       "         [-2.0970e+01],\n",
       "         [-2.2362e+01],\n",
       "         [-2.0272e+01],\n",
       "         [-1.8890e+01],\n",
       "         [-1.8113e+01],\n",
       "         [-1.1478e+01],\n",
       "         [-7.1050e+00],\n",
       "         [ 8.8878e-01],\n",
       "         [ 2.5402e+00],\n",
       "         [ 1.0616e+01],\n",
       "         [ 2.1493e+01],\n",
       "         [ 1.8456e+01],\n",
       "         [ 1.8668e+01],\n",
       "         [ 1.9890e+01],\n",
       "         [ 1.9041e+01],\n",
       "         [ 1.9112e+01],\n",
       "         [ 1.4261e+01],\n",
       "         [ 6.0124e+00],\n",
       "         [-1.7408e+00],\n",
       "         [-6.2231e+00],\n",
       "         [-1.7741e+01],\n",
       "         [-2.0852e+01],\n",
       "         [-2.1039e+01],\n",
       "         [-2.5833e+01],\n",
       "         [-2.3775e+01],\n",
       "         [-2.5895e+01],\n",
       "         [-2.2141e+01],\n",
       "         [-2.4210e+01],\n",
       "         [-2.3352e+01],\n",
       "         [-2.7223e+01],\n",
       "         [-2.1170e+01],\n",
       "         [-2.2844e+01],\n",
       "         [-2.7310e+01],\n",
       "         [-2.7560e+01],\n",
       "         [-2.6509e+01],\n",
       "         [-2.4903e+01],\n",
       "         [-2.3087e+01],\n",
       "         [-2.2598e+01],\n",
       "         [-2.2166e+01],\n",
       "         [-2.8315e+01],\n",
       "         [-2.7014e+01],\n",
       "         [-2.6230e+01],\n",
       "         [-2.0942e+01],\n",
       "         [-2.8397e+01],\n",
       "         [-2.6369e+01],\n",
       "         [-2.1902e+01],\n",
       "         [-2.7890e+01],\n",
       "         [-2.1997e+01],\n",
       "         [-2.4408e+01],\n",
       "         [-2.2584e+01],\n",
       "         [-2.5471e+01],\n",
       "         [-2.6665e+01],\n",
       "         [-1.9394e+01],\n",
       "         [-2.3128e+01],\n",
       "         [-2.2540e+01],\n",
       "         [-1.8694e+01],\n",
       "         [-2.5016e+01],\n",
       "         [-1.9266e+01],\n",
       "         [-2.5322e+01],\n",
       "         [-1.6784e+01],\n",
       "         [-1.6697e+01],\n",
       "         [-1.7001e+01],\n",
       "         [-9.2391e+00],\n",
       "         [ 3.2349e-01],\n",
       "         [ 4.1334e+00],\n",
       "         [ 7.7095e+00],\n",
       "         [ 1.6226e+01],\n",
       "         [ 2.0107e+01],\n",
       "         [ 2.0162e+01],\n",
       "         [ 1.8415e+01],\n",
       "         [ 2.1722e+01],\n",
       "         [ 1.7485e+01],\n",
       "         [ 1.1900e+01],\n",
       "         [ 4.4400e+00],\n",
       "         [-2.5128e+00],\n",
       "         [-8.7427e+00],\n",
       "         [-1.3973e+01],\n",
       "         [-1.5698e+01],\n",
       "         [-1.9192e+01],\n",
       "         [-2.1074e+01],\n",
       "         [-1.8935e+01],\n",
       "         [-1.9501e+01],\n",
       "         [-2.2170e+01],\n",
       "         [-1.8878e+01],\n",
       "         [-2.1161e+01],\n",
       "         [-2.3016e+01],\n",
       "         [-2.3724e+01],\n",
       "         [-2.3875e+01],\n",
       "         [-2.0971e+01],\n",
       "         [-2.2421e+01],\n",
       "         [-2.5551e+01],\n",
       "         [-2.7045e+01],\n",
       "         [-2.1752e+01],\n",
       "         [-2.3569e+01],\n",
       "         [-2.4424e+01],\n",
       "         [-2.0942e+01],\n",
       "         [-2.4529e+01],\n",
       "         [-1.7534e+01],\n",
       "         [-2.1192e+01],\n",
       "         [-1.5633e+01],\n",
       "         [-1.3368e+01],\n",
       "         [-2.8340e+00],\n",
       "         [ 1.3650e+00],\n",
       "         [ 2.5728e+00],\n",
       "         [ 6.9719e+00],\n",
       "         [ 1.1251e+01],\n",
       "         [ 1.0888e+01],\n",
       "         [ 1.5158e+01],\n",
       "         [ 1.7036e+01],\n",
       "         [ 2.0765e+01],\n",
       "         [ 1.5925e+01],\n",
       "         [ 1.2926e+01],\n",
       "         [ 5.7628e+00],\n",
       "         [-1.1501e-02],\n",
       "         [-5.8689e+00],\n",
       "         [-1.0532e+01],\n",
       "         [-1.4268e+01],\n",
       "         [-1.7405e+01],\n",
       "         [-1.7964e+01],\n",
       "         [-1.9690e+01],\n",
       "         [-1.9043e+01],\n",
       "         [-2.2925e+01],\n",
       "         [-2.2858e+01],\n",
       "         [-2.2714e+01],\n",
       "         [-2.9639e+01],\n",
       "         [-2.3936e+01],\n",
       "         [-2.6670e+01],\n",
       "         [-2.3507e+01],\n",
       "         [-2.8205e+01],\n",
       "         [-2.4803e+01],\n",
       "         [-2.6117e+01],\n",
       "         [-2.6132e+01],\n",
       "         [-2.3554e+01],\n",
       "         [-2.5856e+01],\n",
       "         [-2.0836e+01],\n",
       "         [-2.6775e+01],\n",
       "         [-2.4826e+01],\n",
       "         [-3.0998e+01],\n",
       "         [-2.7347e+01],\n",
       "         [-2.5060e+01],\n",
       "         [-2.4655e+01],\n",
       "         [-3.0026e+01],\n",
       "         [-3.0431e+01],\n",
       "         [-2.5228e+01],\n",
       "         [-2.9196e+01],\n",
       "         [-2.8473e+01],\n",
       "         [-2.2692e+01],\n",
       "         [-2.3196e+01],\n",
       "         [-2.8210e+01],\n",
       "         [-2.2450e+01],\n",
       "         [-2.7932e+01],\n",
       "         [-2.5575e+01],\n",
       "         [-2.5032e+01],\n",
       "         [-2.2630e+01],\n",
       "         [-2.6063e+01],\n",
       "         [-1.9426e+01],\n",
       "         [-1.5804e+01],\n",
       "         [-1.5815e+01]]], device='cuda:0', grad_fn=<AddBackward0>)"
      ]
     },
     "execution_count": 43,
     "metadata": {},
     "output_type": "execute_result"
    }
   ],
   "source": [
    "hehe_fwd"
   ]
  },
  {
   "cell_type": "code",
   "execution_count": null,
   "metadata": {},
   "outputs": [],
   "source": []
  }
 ],
 "metadata": {
  "kernelspec": {
   "display_name": "Python 3",
   "language": "python",
   "name": "python3"
  },
  "language_info": {
   "codemirror_mode": {
    "name": "ipython",
    "version": 3
   },
   "file_extension": ".py",
   "mimetype": "text/x-python",
   "name": "python",
   "nbconvert_exporter": "python",
   "pygments_lexer": "ipython3",
   "version": "3.8.5"
  }
 },
 "nbformat": 4,
 "nbformat_minor": 4
}
