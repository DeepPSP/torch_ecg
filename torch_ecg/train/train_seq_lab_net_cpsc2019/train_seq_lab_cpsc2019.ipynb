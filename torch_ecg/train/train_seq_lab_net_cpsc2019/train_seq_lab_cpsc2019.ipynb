{
 "cells": [
  {
   "cell_type": "code",
   "execution_count": 1,
   "metadata": {},
   "outputs": [],
   "source": [
    "import sys\n",
    "import warnings\n",
    "warnings.simplefilter(action='ignore', category=FutureWarning)\n",
    "from copy import deepcopy\n",
    "\n",
    "%load_ext autoreload\n",
    "%autoreload 2"
   ]
  },
  {
   "cell_type": "code",
   "execution_count": 2,
   "metadata": {},
   "outputs": [
    {
     "data": {
      "text/plain": [
       "'1.19.2'"
      ]
     },
     "execution_count": 2,
     "metadata": {},
     "output_type": "execute_result"
    }
   ],
   "source": [
    "import numpy as np\n",
    "np.__version__"
   ]
  },
  {
   "cell_type": "code",
   "execution_count": 3,
   "metadata": {},
   "outputs": [
    {
     "data": {
      "text/plain": [
       "'1.3.1'"
      ]
     },
     "execution_count": 3,
     "metadata": {},
     "output_type": "execute_result"
    }
   ],
   "source": [
    "import das.pytorch.estimator as pe\n",
    "import torch\n",
    "torch.__version__"
   ]
  },
  {
   "cell_type": "code",
   "execution_count": 4,
   "metadata": {},
   "outputs": [
    {
     "data": {
      "text/plain": [
       "True"
      ]
     },
     "execution_count": 4,
     "metadata": {},
     "output_type": "execute_result"
    }
   ],
   "source": [
    "torch.cuda.is_available()"
   ]
  },
  {
   "cell_type": "code",
   "execution_count": null,
   "metadata": {},
   "outputs": [],
   "source": []
  },
  {
   "cell_type": "code",
   "execution_count": null,
   "metadata": {},
   "outputs": [],
   "source": []
  },
  {
   "cell_type": "code",
   "execution_count": 5,
   "metadata": {},
   "outputs": [
    {
     "name": "stderr",
     "output_type": "stream",
     "text": [
      "2020-11-12 09:25:48,522 (WARNING) __init__.py:482] Matplotlib created a temporary config/cache directory at /tmp/matplotlib-r42n02f0 because the default path (/work/.cache/matplotlib) is not a writable directory; it is highly recommended to set the MPLCONFIGDIR environment variable to a writable directory, in particular to speed up the import of Matplotlib and to better support multiprocessing.\n",
      "2020-11-12 09:25:48,523 (INFO) font_manager.py:1423] Generating new fontManager, this may take some time...\n"
     ]
    }
   ],
   "source": [
    "sys.path.insert(0,\"/media/cfs/wenhao71/workspace/torch_ecg/\")\n",
    "from torch_ecg.train.train_seq_lab_net_cpsc2019.cfg import TrainCfg, ModelCfg\n",
    "from torch_ecg.train.train_seq_lab_net_cpsc2019.train import train, evaluate\n",
    "from torch_ecg.train.train_seq_lab_net_cpsc2019.model import ECG_SEQ_LAB_NET_CPSC2019\n",
    "from torch_ecg.train.train_seq_lab_net_cpsc2019.utils import init_logger, dict_to_str\n"
   ]
  },
  {
   "cell_type": "code",
   "execution_count": 6,
   "metadata": {},
   "outputs": [],
   "source": [
    "train_config = deepcopy(TrainCfg)"
   ]
  },
  {
   "cell_type": "code",
   "execution_count": 7,
   "metadata": {},
   "outputs": [],
   "source": [
    "train_config.model_name = \"cnn\""
   ]
  },
  {
   "cell_type": "code",
   "execution_count": null,
   "metadata": {},
   "outputs": [],
   "source": [
    "# train_config.model_name = \"crnn\""
   ]
  },
  {
   "cell_type": "code",
   "execution_count": null,
   "metadata": {},
   "outputs": [],
   "source": []
  },
  {
   "cell_type": "code",
   "execution_count": 8,
   "metadata": {
    "scrolled": true
   },
   "outputs": [
    {
     "data": {
      "text/plain": [
       "{'skip_dist': 250.0,\n",
       " 'torch_dtype': 'float',\n",
       " 'fs': 500,\n",
       " 'spacing': 2.0,\n",
       " 'classes': ['N'],\n",
       " 'n_leads': 1,\n",
       " 'seq_lab_crnn': {'fs': 500,\n",
       "  'classes': ['N'],\n",
       "  'n_leads': 1,\n",
       "  'skip_dist': 250.0,\n",
       "  'torch_dtype': 'float',\n",
       "  'cnn': {'name': 'multi_scopic',\n",
       "   'multi_scopic': {'groups': 1,\n",
       "    'scopes': [[[1], [1, 1], [1, 1, 1]],\n",
       "     [[2], [2, 4], [8, 8, 8]],\n",
       "     [[4], [4, 8], [16, 32, 64]]],\n",
       "    'filter_lengths': [[11, 7, 5], [11, 7, 5], [11, 7, 5]],\n",
       "    'subsample_lengths': [2, 2, 2],\n",
       "    'num_filters': [[32, 64, 128], [32, 64, 128], [32, 64, 128]],\n",
       "    'dropouts': [[0, 0.2, 0], [0, 0.2, 0], [0, 0.2, 0]],\n",
       "    'bias': True,\n",
       "    'kernel_initializer': 'he_normal',\n",
       "    'kw_initializer': {},\n",
       "    'activation': 'relu',\n",
       "    'kw_activation': {'inplace': True},\n",
       "    'block': {'subsample_mode': 'max',\n",
       "     'bias': True,\n",
       "     'kernel_initializer': 'he_normal',\n",
       "     'kw_initializer': {},\n",
       "     'activation': 'relu',\n",
       "     'kw_activation': {'inplace': True}}}},\n",
       "  'rnn': {'name': 'lstm',\n",
       "   'lstm': {'hidden_sizes': [256, 64],\n",
       "    'bias': True,\n",
       "    'dropouts': 0.2,\n",
       "    'bidirectional': True}},\n",
       "  'attn': {'name': 'se',\n",
       "   'se': {'reduction': 8,\n",
       "    'activation': 'relu',\n",
       "    'kw_activation': {'inplace': True},\n",
       "    'bias': True,\n",
       "    'kernel_initializer': 'he_normal'}},\n",
       "  'clf': {'out_channels': [256, 64],\n",
       "   'activation': 'mish',\n",
       "   'bias': True,\n",
       "   'kernel_initializer': 'he_normal',\n",
       "   'dropouts': [0.2, 0.2, 0.0]}},\n",
       " 'seq_lab_cnn': {'fs': 500,\n",
       "  'classes': ['N'],\n",
       "  'n_leads': 1,\n",
       "  'skip_dist': 250.0,\n",
       "  'torch_dtype': 'float',\n",
       "  'cnn': {'name': 'multi_scopic',\n",
       "   'multi_scopic': {'groups': 1,\n",
       "    'scopes': [[[1], [1, 1], [1, 1, 1]],\n",
       "     [[2], [2, 4], [8, 8, 8]],\n",
       "     [[4], [4, 8], [16, 32, 64]]],\n",
       "    'filter_lengths': [[11, 7, 5], [11, 7, 5], [11, 7, 5]],\n",
       "    'subsample_lengths': [2, 2, 2],\n",
       "    'num_filters': [[32, 64, 128], [32, 64, 128], [32, 64, 128]],\n",
       "    'dropouts': [[0, 0.2, 0], [0, 0.2, 0], [0, 0.2, 0]],\n",
       "    'bias': True,\n",
       "    'kernel_initializer': 'he_normal',\n",
       "    'kw_initializer': {},\n",
       "    'activation': 'relu',\n",
       "    'kw_activation': {'inplace': True},\n",
       "    'block': {'subsample_mode': 'max',\n",
       "     'bias': True,\n",
       "     'kernel_initializer': 'he_normal',\n",
       "     'kw_initializer': {},\n",
       "     'activation': 'relu',\n",
       "     'kw_activation': {'inplace': True}}}},\n",
       "  'rnn': {'name': 'none'},\n",
       "  'attn': {'name': 'se',\n",
       "   'se': {'reduction': 8,\n",
       "    'activation': 'relu',\n",
       "    'kw_activation': {'inplace': True},\n",
       "    'bias': True,\n",
       "    'kernel_initializer': 'he_normal'}},\n",
       "  'clf': {'out_channels': [256, 64],\n",
       "   'activation': 'mish',\n",
       "   'bias': True,\n",
       "   'kernel_initializer': 'he_normal',\n",
       "   'dropouts': [0.2, 0.2, 0.0]}}}"
      ]
     },
     "execution_count": 8,
     "metadata": {},
     "output_type": "execute_result"
    }
   ],
   "source": [
    "ModelCfg"
   ]
  },
  {
   "cell_type": "code",
   "execution_count": 9,
   "metadata": {
    "scrolled": true
   },
   "outputs": [
    {
     "data": {
      "text/plain": [
       "{'fs': 500,\n",
       " 'classes': ['N'],\n",
       " 'n_leads': 1,\n",
       " 'skip_dist': 250.0,\n",
       " 'torch_dtype': 'float',\n",
       " 'cnn': {'name': 'multi_scopic',\n",
       "  'multi_scopic': {'groups': 1,\n",
       "   'scopes': [[[1], [1, 1], [1, 1, 1]],\n",
       "    [[2], [2, 4], [8, 8, 8]],\n",
       "    [[4], [4, 8], [16, 32, 64]]],\n",
       "   'filter_lengths': [[11, 7, 5], [11, 7, 5], [11, 7, 5]],\n",
       "   'subsample_lengths': [2, 2, 2],\n",
       "   'num_filters': [[32, 64, 128], [32, 64, 128], [32, 64, 128]],\n",
       "   'dropouts': [[0, 0.2, 0], [0, 0.2, 0], [0, 0.2, 0]],\n",
       "   'bias': True,\n",
       "   'kernel_initializer': 'he_normal',\n",
       "   'kw_initializer': {},\n",
       "   'activation': 'relu',\n",
       "   'kw_activation': {'inplace': True},\n",
       "   'block': {'subsample_mode': 'max',\n",
       "    'bias': True,\n",
       "    'kernel_initializer': 'he_normal',\n",
       "    'kw_initializer': {},\n",
       "    'activation': 'relu',\n",
       "    'kw_activation': {'inplace': True}}}},\n",
       " 'rnn': {'name': 'none'},\n",
       " 'attn': {'name': 'se',\n",
       "  'se': {'reduction': 8,\n",
       "   'activation': 'relu',\n",
       "   'kw_activation': {'inplace': True},\n",
       "   'bias': True,\n",
       "   'kernel_initializer': 'he_normal'}},\n",
       " 'clf': {'out_channels': [256, 64],\n",
       "  'activation': 'mish',\n",
       "  'bias': True,\n",
       "  'kernel_initializer': 'he_normal',\n",
       "  'dropouts': [0.2, 0.2, 0.0]}}"
      ]
     },
     "execution_count": 9,
     "metadata": {},
     "output_type": "execute_result"
    }
   ],
   "source": [
    "ModelCfg[f\"seq_lab_{train_config.model_name.lower()}\"]"
   ]
  },
  {
   "cell_type": "code",
   "execution_count": 10,
   "metadata": {},
   "outputs": [],
   "source": [
    "model_config = deepcopy(ModelCfg[f\"seq_lab_{train_config.model_name.lower()}\"])"
   ]
  },
  {
   "cell_type": "code",
   "execution_count": 11,
   "metadata": {
    "scrolled": true
   },
   "outputs": [
    {
     "data": {
      "text/plain": [
       "{'fs': 500,\n",
       " 'db_dir': '/media/cfs/wenhao71/data/CPSC2019/train/',\n",
       " 'log_dir': '/media/cfs/wenhao71/workspace/torch_ecg/torch_ecg/train/train_seq_lab_net_cpsc2019/log',\n",
       " 'checkpoints': '/media/cfs/wenhao71/workspace/torch_ecg/torch_ecg/train/train_seq_lab_net_cpsc2019/checkpoints',\n",
       " 'keep_checkpoint_max': 50,\n",
       " 'train_ratio': 0.8,\n",
       " 'input_len': 5000,\n",
       " 'classes': ['N'],\n",
       " 'n_leads': 1,\n",
       " 'bias_thr': 37.5,\n",
       " 'skip_dist': 250.0,\n",
       " 'label_smoothing': 0.0,\n",
       " 'random_normalize': True,\n",
       " 'random_normalize_mean': [-0.05, 0.1],\n",
       " 'random_normalize_std': [0.08, 0.32],\n",
       " 'baseline_wander': True,\n",
       " 'bw': True,\n",
       " 'bw_fs': array([0.33, 0.1 , 0.05, 0.01]),\n",
       " 'bw_ampl_ratio': array([[0.01, 0.01, 0.02, 0.03],\n",
       "        [0.01, 0.02, 0.04, 0.05],\n",
       "        [0.1 , 0.06, 0.04, 0.02],\n",
       "        [0.02, 0.04, 0.07, 0.1 ],\n",
       "        [0.05, 0.1 , 0.16, 0.25],\n",
       "        [0.1 , 0.15, 0.25, 0.3 ],\n",
       "        [0.25, 0.25, 0.3 , 0.35]]),\n",
       " 'bw_gaussian': array([[0.   , 0.   ],\n",
       "        [0.   , 0.   ],\n",
       "        [0.   , 0.   ],\n",
       "        [0.   , 0.003],\n",
       "        [0.   , 0.01 ]]),\n",
       " 'flip': [-1, 1, 1, 1, 1],\n",
       " 'seq_lab_reduction': 8,\n",
       " 'n_epochs': 300,\n",
       " 'batch_size': 256,\n",
       " 'train_optimizer': 'adam',\n",
       " 'learning_rate': 0.0001,\n",
       " 'lr': 0.0001,\n",
       " 'lr_step_size': 50,\n",
       " 'lr_gamma': 0.1,\n",
       " 'lr_scheduler': None,\n",
       " 'momentum': 0.949,\n",
       " 'decay': 0.0005,\n",
       " 'loss': 'BCEWithLogitsLoss',\n",
       " 'eval_every': 20,\n",
       " 'model_name': 'cnn',\n",
       " 'cnn_name': 'multi_scopic',\n",
       " 'rnn_name': 'none',\n",
       " 'attn_name': 'se'}"
      ]
     },
     "execution_count": 11,
     "metadata": {},
     "output_type": "execute_result"
    }
   ],
   "source": [
    "train_config"
   ]
  },
  {
   "cell_type": "code",
   "execution_count": 12,
   "metadata": {},
   "outputs": [
    {
     "name": "stdout",
     "output_type": "stream",
     "text": [
      "classes (totally 1) for prediction:['N']\n",
      "configuration of ECG_SEQ_LAB_NET_CPSC2019 is as follows\n",
      "{\n",
      "    \"cnn\": {\n",
      "        \"name\": \"multi_scopic\",\n",
      "        \"multi_scopic\": {\n",
      "            \"groups\": 1,\n",
      "            \"scopes\": [\n",
      "                [\n",
      "                    [\n",
      "                        1\n",
      "                    ],\n",
      "                    [\n",
      "                        1, 1\n",
      "                    ],\n",
      "                    [\n",
      "                        1, 1, 1\n",
      "                    ]\n",
      "                ],\n",
      "                [\n",
      "                    [\n",
      "                        2\n",
      "                    ],\n",
      "                    [\n",
      "                        2, 4\n",
      "                    ],\n",
      "                    [\n",
      "                        8, 8, 8\n",
      "                    ]\n",
      "                ],\n",
      "                [\n",
      "                    [\n",
      "                        4\n",
      "                    ],\n",
      "                    [\n",
      "                        4, 8\n",
      "                    ],\n",
      "                    [\n",
      "                        16, 32, 64\n",
      "                    ]\n",
      "                ]\n",
      "            ],\n",
      "            \"filter_lengths\": [\n",
      "                [\n",
      "                    11, 7, 5\n",
      "                ],\n",
      "                [\n",
      "                    11, 7, 5\n",
      "                ],\n",
      "                [\n",
      "                    11, 7, 5\n",
      "                ]\n",
      "            ],\n",
      "            \"subsample_lengths\": [\n",
      "                2, 2, 2\n",
      "            ],\n",
      "            \"num_filters\": [\n",
      "                [\n",
      "                    32, 64, 128\n",
      "                ],\n",
      "                [\n",
      "                    32, 64, 128\n",
      "                ],\n",
      "                [\n",
      "                    32, 64, 128\n",
      "                ]\n",
      "            ],\n",
      "            \"dropouts\": [\n",
      "                [\n",
      "                    0, 0.2, 0\n",
      "                ],\n",
      "                [\n",
      "                    0, 0.2, 0\n",
      "                ],\n",
      "                [\n",
      "                    0, 0.2, 0\n",
      "                ]\n",
      "            ],\n",
      "            \"bias\": True,\n",
      "            \"kernel_initializer\": \"he_normal\",\n",
      "            \"kw_initializer\": {},\n",
      "            \"activation\": \"relu\",\n",
      "            \"kw_activation\": {\n",
      "                \"inplace\": True\n",
      "            },\n",
      "            \"block\": {\n",
      "                \"subsample_mode\": \"max\",\n",
      "                \"bias\": True,\n",
      "                \"kernel_initializer\": \"he_normal\",\n",
      "                \"kw_initializer\": {},\n",
      "                \"activation\": \"relu\",\n",
      "                \"kw_activation\": {\n",
      "                    \"inplace\": True\n",
      "                }\n",
      "            }\n",
      "        }\n",
      "    },\n",
      "    \"rnn\": {\n",
      "        \"name\": \"none\"\n",
      "    },\n",
      "    \"attn\": {\n",
      "        \"name\": \"se\",\n",
      "        \"se\": {\n",
      "            \"reduction\": 8,\n",
      "            \"activation\": \"relu\",\n",
      "            \"kw_activation\": {\n",
      "                \"inplace\": True\n",
      "            },\n",
      "            \"bias\": True,\n",
      "            \"kernel_initializer\": \"he_normal\"\n",
      "        }\n",
      "    },\n",
      "    \"clf\": {\n",
      "        \"out_channels\": [\n",
      "            256, 64\n",
      "        ],\n",
      "        \"activation\": \"mish\",\n",
      "        \"bias\": True,\n",
      "        \"kernel_initializer\": \"he_normal\",\n",
      "        \"dropouts\": [\n",
      "            0.2, 0.2, 0.0\n",
      "        ]\n",
      "    },\n",
      "    \"fs\": 500,\n",
      "    \"classes\": [\n",
      "        \"N\"\n",
      "    ],\n",
      "    \"n_leads\": 1,\n",
      "    \"skip_dist\": 250.0,\n",
      "    \"torch_dtype\": \"float\"\n",
      "}\n",
      "cnn output shape (batch_size, features, seq_len) = (None, 384, 625), given input seq_len = 5000\n",
      "configs of attn are {\n",
      "    \"name\": \"se\",\n",
      "    \"se\": {\n",
      "        \"reduction\": 8,\n",
      "        \"activation\": \"relu\",\n",
      "        \"kw_activation\": {\n",
      "            \"inplace\": True\n",
      "        },\n",
      "        \"bias\": True,\n",
      "        \"kernel_initializer\": \"he_normal\"\n",
      "    }\n",
      "}\n"
     ]
    }
   ],
   "source": [
    "model = ECG_SEQ_LAB_NET_CPSC2019(\n",
    "    n_leads=train_config.n_leads,\n",
    "    input_len=train_config.input_len,\n",
    "    config=model_config,\n",
    ")"
   ]
  },
  {
   "cell_type": "code",
   "execution_count": 13,
   "metadata": {},
   "outputs": [
    {
     "data": {
      "text/plain": [
       "1"
      ]
     },
     "execution_count": 13,
     "metadata": {},
     "output_type": "execute_result"
    }
   ],
   "source": [
    "torch.cuda.device_count()"
   ]
  },
  {
   "cell_type": "code",
   "execution_count": 14,
   "metadata": {},
   "outputs": [
    {
     "data": {
      "text/plain": [
       "device(type='cuda')"
      ]
     },
     "execution_count": 14,
     "metadata": {},
     "output_type": "execute_result"
    }
   ],
   "source": [
    "device = torch.device('cuda' if torch.cuda.is_available() else 'cpu')\n",
    "device"
   ]
  },
  {
   "cell_type": "code",
   "execution_count": 15,
   "metadata": {},
   "outputs": [
    {
     "data": {
      "text/plain": [
       "ECG_SEQ_LAB_NET_CPSC2019(\n",
       "  (cnn): MultiScopicCNN(\n",
       "    (branches): ModuleDict(\n",
       "      (branch_0): MultiScopicBranch(\n",
       "        (block_0): MultiScopicBasicBlock(\n",
       "          (ca_0): Conv_Bn_Activation(\n",
       "            (conv1d): Conv1d(1, 32, kernel_size=(11,), stride=(1,), padding=(5,))\n",
       "            (activation_relu): ReLU(inplace=True)\n",
       "          )\n",
       "          (bn): BatchNorm1d(32, eps=1e-05, momentum=0.1, affine=True, track_running_stats=True)\n",
       "          (down): DownSample(\n",
       "            (down_sample): MaxPool1d(kernel_size=2, stride=2, padding=0, dilation=1, ceil_mode=False)\n",
       "          )\n",
       "        )\n",
       "        (block_1): MultiScopicBasicBlock(\n",
       "          (ca_0): Conv_Bn_Activation(\n",
       "            (conv1d): Conv1d(32, 64, kernel_size=(7,), stride=(1,), padding=(3,))\n",
       "            (activation_relu): ReLU(inplace=True)\n",
       "          )\n",
       "          (ca_1): Conv_Bn_Activation(\n",
       "            (conv1d): Conv1d(64, 64, kernel_size=(7,), stride=(1,), padding=(3,))\n",
       "            (activation_relu): ReLU(inplace=True)\n",
       "          )\n",
       "          (bn): BatchNorm1d(64, eps=1e-05, momentum=0.1, affine=True, track_running_stats=True)\n",
       "          (down): DownSample(\n",
       "            (down_sample): MaxPool1d(kernel_size=2, stride=2, padding=0, dilation=1, ceil_mode=False)\n",
       "          )\n",
       "          (dropout): Dropout(p=0.2, inplace=False)\n",
       "        )\n",
       "        (block_2): MultiScopicBasicBlock(\n",
       "          (ca_0): Conv_Bn_Activation(\n",
       "            (conv1d): Conv1d(64, 128, kernel_size=(5,), stride=(1,), padding=(2,))\n",
       "            (activation_relu): ReLU(inplace=True)\n",
       "          )\n",
       "          (ca_1): Conv_Bn_Activation(\n",
       "            (conv1d): Conv1d(128, 128, kernel_size=(5,), stride=(1,), padding=(2,))\n",
       "            (activation_relu): ReLU(inplace=True)\n",
       "          )\n",
       "          (ca_2): Conv_Bn_Activation(\n",
       "            (conv1d): Conv1d(128, 128, kernel_size=(5,), stride=(1,), padding=(2,))\n",
       "            (activation_relu): ReLU(inplace=True)\n",
       "          )\n",
       "          (bn): BatchNorm1d(128, eps=1e-05, momentum=0.1, affine=True, track_running_stats=True)\n",
       "          (down): DownSample(\n",
       "            (down_sample): MaxPool1d(kernel_size=2, stride=2, padding=0, dilation=1, ceil_mode=False)\n",
       "          )\n",
       "        )\n",
       "      )\n",
       "      (branch_1): MultiScopicBranch(\n",
       "        (block_0): MultiScopicBasicBlock(\n",
       "          (ca_0): Conv_Bn_Activation(\n",
       "            (conv1d): Conv1d(1, 32, kernel_size=(11,), stride=(1,), padding=(10,), dilation=(2,))\n",
       "            (activation_relu): ReLU(inplace=True)\n",
       "          )\n",
       "          (bn): BatchNorm1d(32, eps=1e-05, momentum=0.1, affine=True, track_running_stats=True)\n",
       "          (down): DownSample(\n",
       "            (down_sample): MaxPool1d(kernel_size=2, stride=2, padding=0, dilation=1, ceil_mode=False)\n",
       "          )\n",
       "        )\n",
       "        (block_1): MultiScopicBasicBlock(\n",
       "          (ca_0): Conv_Bn_Activation(\n",
       "            (conv1d): Conv1d(32, 64, kernel_size=(7,), stride=(1,), padding=(6,), dilation=(2,))\n",
       "            (activation_relu): ReLU(inplace=True)\n",
       "          )\n",
       "          (ca_1): Conv_Bn_Activation(\n",
       "            (conv1d): Conv1d(64, 64, kernel_size=(7,), stride=(1,), padding=(12,), dilation=(4,))\n",
       "            (activation_relu): ReLU(inplace=True)\n",
       "          )\n",
       "          (bn): BatchNorm1d(64, eps=1e-05, momentum=0.1, affine=True, track_running_stats=True)\n",
       "          (down): DownSample(\n",
       "            (down_sample): MaxPool1d(kernel_size=2, stride=2, padding=0, dilation=1, ceil_mode=False)\n",
       "          )\n",
       "          (dropout): Dropout(p=0.2, inplace=False)\n",
       "        )\n",
       "        (block_2): MultiScopicBasicBlock(\n",
       "          (ca_0): Conv_Bn_Activation(\n",
       "            (conv1d): Conv1d(64, 128, kernel_size=(5,), stride=(1,), padding=(16,), dilation=(8,))\n",
       "            (activation_relu): ReLU(inplace=True)\n",
       "          )\n",
       "          (ca_1): Conv_Bn_Activation(\n",
       "            (conv1d): Conv1d(128, 128, kernel_size=(5,), stride=(1,), padding=(16,), dilation=(8,))\n",
       "            (activation_relu): ReLU(inplace=True)\n",
       "          )\n",
       "          (ca_2): Conv_Bn_Activation(\n",
       "            (conv1d): Conv1d(128, 128, kernel_size=(5,), stride=(1,), padding=(16,), dilation=(8,))\n",
       "            (activation_relu): ReLU(inplace=True)\n",
       "          )\n",
       "          (bn): BatchNorm1d(128, eps=1e-05, momentum=0.1, affine=True, track_running_stats=True)\n",
       "          (down): DownSample(\n",
       "            (down_sample): MaxPool1d(kernel_size=2, stride=2, padding=0, dilation=1, ceil_mode=False)\n",
       "          )\n",
       "        )\n",
       "      )\n",
       "      (branch_2): MultiScopicBranch(\n",
       "        (block_0): MultiScopicBasicBlock(\n",
       "          (ca_0): Conv_Bn_Activation(\n",
       "            (conv1d): Conv1d(1, 32, kernel_size=(11,), stride=(1,), padding=(20,), dilation=(4,))\n",
       "            (activation_relu): ReLU(inplace=True)\n",
       "          )\n",
       "          (bn): BatchNorm1d(32, eps=1e-05, momentum=0.1, affine=True, track_running_stats=True)\n",
       "          (down): DownSample(\n",
       "            (down_sample): MaxPool1d(kernel_size=2, stride=2, padding=0, dilation=1, ceil_mode=False)\n",
       "          )\n",
       "        )\n",
       "        (block_1): MultiScopicBasicBlock(\n",
       "          (ca_0): Conv_Bn_Activation(\n",
       "            (conv1d): Conv1d(32, 64, kernel_size=(7,), stride=(1,), padding=(12,), dilation=(4,))\n",
       "            (activation_relu): ReLU(inplace=True)\n",
       "          )\n",
       "          (ca_1): Conv_Bn_Activation(\n",
       "            (conv1d): Conv1d(64, 64, kernel_size=(7,), stride=(1,), padding=(24,), dilation=(8,))\n",
       "            (activation_relu): ReLU(inplace=True)\n",
       "          )\n",
       "          (bn): BatchNorm1d(64, eps=1e-05, momentum=0.1, affine=True, track_running_stats=True)\n",
       "          (down): DownSample(\n",
       "            (down_sample): MaxPool1d(kernel_size=2, stride=2, padding=0, dilation=1, ceil_mode=False)\n",
       "          )\n",
       "          (dropout): Dropout(p=0.2, inplace=False)\n",
       "        )\n",
       "        (block_2): MultiScopicBasicBlock(\n",
       "          (ca_0): Conv_Bn_Activation(\n",
       "            (conv1d): Conv1d(64, 128, kernel_size=(5,), stride=(1,), padding=(32,), dilation=(16,))\n",
       "            (activation_relu): ReLU(inplace=True)\n",
       "          )\n",
       "          (ca_1): Conv_Bn_Activation(\n",
       "            (conv1d): Conv1d(128, 128, kernel_size=(5,), stride=(1,), padding=(64,), dilation=(32,))\n",
       "            (activation_relu): ReLU(inplace=True)\n",
       "          )\n",
       "          (ca_2): Conv_Bn_Activation(\n",
       "            (conv1d): Conv1d(128, 128, kernel_size=(5,), stride=(1,), padding=(128,), dilation=(64,))\n",
       "            (activation_relu): ReLU(inplace=True)\n",
       "          )\n",
       "          (bn): BatchNorm1d(128, eps=1e-05, momentum=0.1, affine=True, track_running_stats=True)\n",
       "          (down): DownSample(\n",
       "            (down_sample): MaxPool1d(kernel_size=2, stride=2, padding=0, dilation=1, ceil_mode=False)\n",
       "          )\n",
       "        )\n",
       "      )\n",
       "    )\n",
       "  )\n",
       "  (attn): SEBlock(\n",
       "    (avg_pool): AdaptiveAvgPool1d(output_size=1)\n",
       "    (fc): Sequential(\n",
       "      (0): SeqLin(\n",
       "        (lin_0): Linear(in_features=384, out_features=48, bias=True)\n",
       "        (act_0): ReLU(inplace=True)\n",
       "        (lin_1): Linear(in_features=48, out_features=384, bias=True)\n",
       "      )\n",
       "      (1): Sigmoid()\n",
       "    )\n",
       "  )\n",
       "  (clf): SeqLin(\n",
       "    (lin_0): Linear(in_features=384, out_features=256, bias=True)\n",
       "    (act_0): Mish()\n",
       "    (dropout_0): Dropout(p=0.2, inplace=False)\n",
       "    (lin_1): Linear(in_features=256, out_features=64, bias=True)\n",
       "    (act_1): Mish()\n",
       "    (dropout_1): Dropout(p=0.2, inplace=False)\n",
       "    (lin_2): Linear(in_features=64, out_features=1, bias=True)\n",
       "  )\n",
       "  (softmax): Softmax(dim=-1)\n",
       "  (sigmoid): Sigmoid()\n",
       ")"
      ]
     },
     "execution_count": 15,
     "metadata": {},
     "output_type": "execute_result"
    }
   ],
   "source": [
    "model.to(device=device)"
   ]
  },
  {
   "cell_type": "code",
   "execution_count": 16,
   "metadata": {},
   "outputs": [
    {
     "name": "stdout",
     "output_type": "stream",
     "text": [
      "log file path: /media/cfs/wenhao71/workspace/torch_ecg/torch_ecg/train/train_seq_lab_net_cpsc2019/log/log_2020-11-12-09-25-52.txt\n",
      "levels of c_handler and f_handler are set WARNING\n"
     ]
    }
   ],
   "source": [
    "logger = init_logger(log_dir=train_config.log_dir)\n",
    "logger.info(f\"\\n{'*'*20}   Start Training   {'*'*20}\\n\")\n",
    "logger.info(f'Using device {device}')\n",
    "logger.info(f\"Using torch of version {torch.__version__}\")\n",
    "logger.info(f'with configuration\\n{dict_to_str(train_config)}')"
   ]
  },
  {
   "cell_type": "code",
   "execution_count": null,
   "metadata": {},
   "outputs": [],
   "source": []
  },
  {
   "cell_type": "code",
   "execution_count": null,
   "metadata": {},
   "outputs": [],
   "source": []
  },
  {
   "cell_type": "code",
   "execution_count": 17,
   "metadata": {},
   "outputs": [],
   "source": [
    "hehe_input = torch.rand((2,1,4000)).to(device,dtype=torch.float32)"
   ]
  },
  {
   "cell_type": "code",
   "execution_count": 18,
   "metadata": {},
   "outputs": [],
   "source": [
    "pred, rpeaks = model.inference(hehe_input,0.5)"
   ]
  },
  {
   "cell_type": "code",
   "execution_count": 19,
   "metadata": {},
   "outputs": [
    {
     "data": {
      "text/plain": [
       "[array([ 336,  508,  648,  824, 1108, 1236, 1504, 1660, 1920, 2156, 2684,\n",
       "        2932, 3184, 3336, 3588, 3688]),\n",
       " array([ 384,  500,  616,  908, 1156, 1388, 1592, 1728, 1928, 2116, 2288,\n",
       "        2440, 2656, 2764, 3088, 3280, 3456, 3624])]"
      ]
     },
     "execution_count": 19,
     "metadata": {},
     "output_type": "execute_result"
    }
   ],
   "source": [
    "rpeaks"
   ]
  },
  {
   "cell_type": "code",
   "execution_count": null,
   "metadata": {},
   "outputs": [],
   "source": []
  },
  {
   "cell_type": "code",
   "execution_count": 21,
   "metadata": {
    "scrolled": true
   },
   "outputs": [
    {
     "data": {
      "text/plain": [
       "{'fs': 500,\n",
       " 'db_dir': '/media/cfs/wenhao71/data/CPSC2019/train/',\n",
       " 'log_dir': '/media/cfs/wenhao71/workspace/torch_ecg/torch_ecg/train/train_seq_lab_net_cpsc2019/log',\n",
       " 'checkpoints': '/media/cfs/wenhao71/workspace/torch_ecg/torch_ecg/train/train_seq_lab_net_cpsc2019/checkpoints',\n",
       " 'keep_checkpoint_max': 50,\n",
       " 'train_ratio': 0.8,\n",
       " 'input_len': 5000,\n",
       " 'classes': ['N'],\n",
       " 'n_leads': 1,\n",
       " 'bias_thr': 37.5,\n",
       " 'skip_dist': 250.0,\n",
       " 'label_smoothing': 0.0,\n",
       " 'random_normalize': True,\n",
       " 'random_normalize_mean': [-0.05, 0.1],\n",
       " 'random_normalize_std': [0.08, 0.32],\n",
       " 'baseline_wander': True,\n",
       " 'bw': True,\n",
       " 'bw_fs': array([0.33, 0.1 , 0.05, 0.01]),\n",
       " 'bw_ampl_ratio': array([[0.01, 0.01, 0.02, 0.03],\n",
       "        [0.01, 0.02, 0.04, 0.05],\n",
       "        [0.1 , 0.06, 0.04, 0.02],\n",
       "        [0.02, 0.04, 0.07, 0.1 ],\n",
       "        [0.05, 0.1 , 0.16, 0.25],\n",
       "        [0.1 , 0.15, 0.25, 0.3 ],\n",
       "        [0.25, 0.25, 0.3 , 0.35]]),\n",
       " 'bw_gaussian': array([[0.   , 0.   ],\n",
       "        [0.   , 0.   ],\n",
       "        [0.   , 0.   ],\n",
       "        [0.   , 0.003],\n",
       "        [0.   , 0.01 ]]),\n",
       " 'flip': [-1, 1, 1, 1, 1],\n",
       " 'seq_lab_reduction': 8,\n",
       " 'n_epochs': 300,\n",
       " 'batch_size': 256,\n",
       " 'train_optimizer': 'adam',\n",
       " 'learning_rate': 0.0001,\n",
       " 'lr': 0.0001,\n",
       " 'lr_step_size': 50,\n",
       " 'lr_gamma': 0.1,\n",
       " 'lr_scheduler': None,\n",
       " 'momentum': 0.949,\n",
       " 'decay': 0.0005,\n",
       " 'loss': 'BCEWithLogitsLoss',\n",
       " 'eval_every': 20,\n",
       " 'model_name': 'cnn',\n",
       " 'cnn_name': 'multi_scopic',\n",
       " 'rnn_name': 'none',\n",
       " 'attn_name': 'se',\n",
       " 'debug': True}"
      ]
     },
     "execution_count": 21,
     "metadata": {},
     "output_type": "execute_result"
    }
   ],
   "source": [
    "train_config.debug = True\n",
    "train_config.cnn_name = model_config.cnn.name\n",
    "train_config.rnn_name = model_config.rnn.name\n",
    "train_config.attn_name = model_config.attn.name\n",
    "train_config"
   ]
  },
  {
   "cell_type": "code",
   "execution_count": 22,
   "metadata": {},
   "outputs": [
    {
     "name": "stdout",
     "output_type": "stream",
     "text": [
      "training configurations are as follows:\n",
      "{\n",
      "    \"fs\": 500\n",
      "    \"db_dir\": \"/media/cfs/wenhao71/data/CPSC2019/train/\"\n",
      "    \"log_dir\": \"/media/cfs/wenhao71/workspace/torch_ecg/torch_ecg/train/train_seq_lab_net_cpsc2019/log\"\n",
      "    \"checkpoints\": \"/media/cfs/wenhao71/workspace/torch_ecg/torch_ecg/train/train_seq_lab_net_cpsc2019/checkpoints\"\n",
      "    \"keep_checkpoint_max\": 50\n",
      "    \"train_ratio\": 0.8\n",
      "    \"input_len\": 5000\n",
      "    \"classes\": [\n",
      "        \"N\"\n",
      "    ]\n",
      "    \"n_leads\": 1\n",
      "    \"bias_thr\": 37.5\n",
      "    \"skip_dist\": 250.0\n",
      "    \"label_smoothing\": 0.0\n",
      "    \"random_normalize\": True\n",
      "    \"random_normalize_mean\": [\n",
      "        -0.05, 0.1\n",
      "    ]\n",
      "    \"random_normalize_std\": [\n",
      "        0.08, 0.32\n",
      "    ]\n",
      "    \"baseline_wander\": True\n",
      "    \"bw\": True\n",
      "    \"bw_fs\": [0.33 0.1  0.05 0.01]\n",
      "    \"bw_ampl_ratio\": [[0.01 0.01 0.02 0.03]\n",
      " [0.01 0.02 0.04 0.05]\n",
      " [0.1  0.06 0.04 0.02]\n",
      " [0.02 0.04 0.07 0.1 ]\n",
      " [0.05 0.1  0.16 0.25]\n",
      " [0.1  0.15 0.25 0.3 ]\n",
      " [0.25 0.25 0.3  0.35]]\n",
      "    \"bw_gaussian\": [[0.    0.   ]\n",
      " [0.    0.   ]\n",
      " [0.    0.   ]\n",
      " [0.    0.003]\n",
      " [0.    0.01 ]]\n",
      "    \"flip\": [\n",
      "        -1, 1, 1, 1, 1\n",
      "    ]\n",
      "    \"seq_lab_reduction\": 8\n",
      "    \"n_epochs\": 300\n",
      "    \"batch_size\": 256\n",
      "    \"train_optimizer\": \"adam\"\n",
      "    \"learning_rate\": 0.0001\n",
      "    \"lr\": 0.0001\n",
      "    \"lr_step_size\": 50\n",
      "    \"lr_gamma\": 0.1\n",
      "    \"lr_scheduler\": None\n",
      "    \"momentum\": 0.949\n",
      "    \"decay\": 0.0005\n",
      "    \"loss\": \"BCEWithLogitsLoss\"\n",
      "    \"eval_every\": 20\n",
      "    \"model_name\": \"cnn\"\n",
      "    \"cnn_name\": \"multi_scopic\"\n",
      "    \"rnn_name\": \"none\"\n",
      "    \"attn_name\": \"se\"\n",
      "    \"debug\": True\n",
      "}\n",
      "log file path is set \"/media/cfs/wenhao71/workspace/torch_ecg/CPSC2019-CPSC2019.log\"\n",
      "levels of c_handler and f_handler are set DEBUG\n",
      "log file path is set \"/media/cfs/wenhao71/workspace/torch_ecg/CPSC2019-CPSC2019.log\"\n",
      "levels of c_handler and f_handler are set DEBUG\n",
      "log file path is set \"/media/cfs/wenhao71/workspace/torch_ecg/CPSC2019-CPSC2019.log\"\n",
      "levels of c_handler and f_handler are set DEBUG\n",
      "\n",
      "        Starting training:\n",
      "        ------------------\n",
      "        Epochs:          300\n",
      "        Batch size:      256\n",
      "        Learning rate:   0.0001\n",
      "        Training size:   1600\n",
      "        Validation size: 400\n",
      "        Device:          cuda\n",
      "        Optimizer:       adam\n",
      "        -----------------------------------------\n",
      "    \n"
     ]
    },
    {
     "data": {
      "application/vnd.jupyter.widget-view+json": {
       "model_id": "1b66f703b1ad4a81aa7143ef952a7da1",
       "version_major": 2,
       "version_minor": 0
      },
      "text/plain": [
       "HBox(children=(FloatProgress(value=0.0, description='Epoch 1/300', layout=Layout(flex='2'), max=1600.0, style=…"
      ]
     },
     "metadata": {},
     "output_type": "display_data"
    },
    {
     "name": "stdout",
     "output_type": "stream",
     "text": [
      "QRS_acc: 0.0926\n",
      "Scoring complete.\n",
      "QRS_acc: 0.0758\n",
      "Scoring complete.\n",
      "\n",
      "                Train epoch_1:\n",
      "                --------------------\n",
      "                train/epoch_loss:        4.917660117149353\n",
      "                train/qrs_score:         0.0926\n",
      "            \n",
      "                test/qrs_score:          0.0758\n",
      "                ---------------------------------\n",
      "            \n",
      "\n"
     ]
    },
    {
     "data": {
      "application/vnd.jupyter.widget-view+json": {
       "model_id": "23ec9e2f5de547aebb3de53177037d7d",
       "version_major": 2,
       "version_minor": 0
      },
      "text/plain": [
       "HBox(children=(FloatProgress(value=0.0, description='Epoch 2/300', layout=Layout(flex='2'), max=1600.0, style=…"
      ]
     },
     "metadata": {},
     "output_type": "display_data"
    },
    {
     "name": "stdout",
     "output_type": "stream",
     "text": [
      "QRS_acc: 0.1437\n",
      "Scoring complete.\n",
      "QRS_acc: 0.1268\n",
      "Scoring complete.\n",
      "\n",
      "                Train epoch_2:\n",
      "                --------------------\n",
      "                train/epoch_loss:        3.5938060581684113\n",
      "                train/qrs_score:         0.1437\n",
      "            \n",
      "                test/qrs_score:          0.1268\n",
      "                ---------------------------------\n",
      "            \n",
      "\n"
     ]
    },
    {
     "data": {
      "application/vnd.jupyter.widget-view+json": {
       "model_id": "5934c325f8f94384b10e27b1119112fd",
       "version_major": 2,
       "version_minor": 0
      },
      "text/plain": [
       "HBox(children=(FloatProgress(value=0.0, description='Epoch 3/300', layout=Layout(flex='2'), max=1600.0, style=…"
      ]
     },
     "metadata": {},
     "output_type": "display_data"
    },
    {
     "name": "stdout",
     "output_type": "stream",
     "text": [
      "Train step_20: loss : 0.40978461503982544\n",
      "QRS_acc: 0.1999\n",
      "Scoring complete.\n",
      "QRS_acc: 0.1767\n",
      "Scoring complete.\n",
      "\n",
      "                Train epoch_3:\n",
      "                --------------------\n",
      "                train/epoch_loss:        2.969119608402252\n",
      "                train/qrs_score:         0.1999\n",
      "            \n",
      "                test/qrs_score:          0.1767\n",
      "                ---------------------------------\n",
      "            \n",
      "\n"
     ]
    },
    {
     "data": {
      "application/vnd.jupyter.widget-view+json": {
       "model_id": "c6127007d3674b91808eabbaf1ae6ead",
       "version_major": 2,
       "version_minor": 0
      },
      "text/plain": [
       "HBox(children=(FloatProgress(value=0.0, description='Epoch 4/300', layout=Layout(flex='2'), max=1600.0, style=…"
      ]
     },
     "metadata": {},
     "output_type": "display_data"
    },
    {
     "name": "stdout",
     "output_type": "stream",
     "text": [
      "QRS_acc: 0.2921\n",
      "Scoring complete.\n",
      "QRS_acc: 0.2535\n",
      "Scoring complete.\n",
      "\n",
      "                Train epoch_4:\n",
      "                --------------------\n",
      "                train/epoch_loss:        2.58990678191185\n",
      "                train/qrs_score:         0.2921\n",
      "            \n",
      "                test/qrs_score:          0.2535\n",
      "                ---------------------------------\n",
      "            \n",
      "\n"
     ]
    },
    {
     "data": {
      "application/vnd.jupyter.widget-view+json": {
       "model_id": "75fdb51fbfa14c47998a287b8a44b6b3",
       "version_major": 2,
       "version_minor": 0
      },
      "text/plain": [
       "HBox(children=(FloatProgress(value=0.0, description='Epoch 5/300', layout=Layout(flex='2'), max=1600.0, style=…"
      ]
     },
     "metadata": {},
     "output_type": "display_data"
    },
    {
     "name": "stdout",
     "output_type": "stream",
     "text": [
      "QRS_acc: 0.3994\n",
      "Scoring complete.\n",
      "QRS_acc: 0.3592\n",
      "Scoring complete.\n",
      "\n",
      "                Train epoch_5:\n",
      "                --------------------\n",
      "                train/epoch_loss:        2.3288919925689697\n",
      "                train/qrs_score:         0.3994\n",
      "            \n",
      "                test/qrs_score:          0.3592\n",
      "                ---------------------------------\n",
      "            \n",
      "\n"
     ]
    },
    {
     "data": {
      "application/vnd.jupyter.widget-view+json": {
       "model_id": "1ac69672d2414eea802d5d2274edd853",
       "version_major": 2,
       "version_minor": 0
      },
      "text/plain": [
       "HBox(children=(FloatProgress(value=0.0, description='Epoch 6/300', layout=Layout(flex='2'), max=1600.0, style=…"
      ]
     },
     "metadata": {},
     "output_type": "display_data"
    },
    {
     "name": "stdout",
     "output_type": "stream",
     "text": [
      "Train step_40: loss : 0.29236817359924316\n",
      "QRS_acc: 0.4977\n",
      "Scoring complete.\n",
      "QRS_acc: 0.503\n",
      "Scoring complete.\n",
      "\n",
      "                Train epoch_6:\n",
      "                --------------------\n",
      "                train/epoch_loss:        2.172703981399536\n",
      "                train/qrs_score:         0.4977\n",
      "            \n",
      "                test/qrs_score:          0.503\n",
      "                ---------------------------------\n",
      "            \n",
      "\n"
     ]
    },
    {
     "data": {
      "application/vnd.jupyter.widget-view+json": {
       "model_id": "a4f0732c75524c5697d43d39356a1c4c",
       "version_major": 2,
       "version_minor": 0
      },
      "text/plain": [
       "HBox(children=(FloatProgress(value=0.0, description='Epoch 7/300', layout=Layout(flex='2'), max=1600.0, style=…"
      ]
     },
     "metadata": {},
     "output_type": "display_data"
    },
    {
     "name": "stdout",
     "output_type": "stream",
     "text": [
      "QRS_acc: 0.5949\n",
      "Scoring complete.\n",
      "QRS_acc: 0.5962\n",
      "Scoring complete.\n",
      "\n",
      "                Train epoch_7:\n",
      "                --------------------\n",
      "                train/epoch_loss:        1.9644488245248795\n",
      "                train/qrs_score:         0.5949\n",
      "            \n",
      "                test/qrs_score:          0.5962\n",
      "                ---------------------------------\n",
      "            \n",
      "\n"
     ]
    },
    {
     "data": {
      "application/vnd.jupyter.widget-view+json": {
       "model_id": "32ff5220d3e2400f9a72a9d4da0bfb87",
       "version_major": 2,
       "version_minor": 0
      },
      "text/plain": [
       "HBox(children=(FloatProgress(value=0.0, description='Epoch 8/300', layout=Layout(flex='2'), max=1600.0, style=…"
      ]
     },
     "metadata": {},
     "output_type": "display_data"
    },
    {
     "name": "stdout",
     "output_type": "stream",
     "text": [
      "QRS_acc: 0.6245\n",
      "Scoring complete.\n",
      "QRS_acc: 0.6298\n",
      "Scoring complete.\n",
      "\n",
      "                Train epoch_8:\n",
      "                --------------------\n",
      "                train/epoch_loss:        1.8155355006456375\n",
      "                train/qrs_score:         0.6245\n",
      "            \n",
      "                test/qrs_score:          0.6298\n",
      "                ---------------------------------\n",
      "            \n",
      "\n"
     ]
    },
    {
     "data": {
      "application/vnd.jupyter.widget-view+json": {
       "model_id": "f7f3e11d088c4ef1995064e96ddbaa69",
       "version_major": 2,
       "version_minor": 0
      },
      "text/plain": [
       "HBox(children=(FloatProgress(value=0.0, description='Epoch 9/300', layout=Layout(flex='2'), max=1600.0, style=…"
      ]
     },
     "metadata": {},
     "output_type": "display_data"
    },
    {
     "name": "stdout",
     "output_type": "stream",
     "text": [
      "Train step_60: loss : 0.2426033616065979\n",
      "QRS_acc: 0.648\n",
      "Scoring complete.\n",
      "QRS_acc: 0.6438\n",
      "Scoring complete.\n",
      "\n",
      "                Train epoch_9:\n",
      "                --------------------\n",
      "                train/epoch_loss:        1.6971278935670853\n",
      "                train/qrs_score:         0.648\n",
      "            \n",
      "                test/qrs_score:          0.6438\n",
      "                ---------------------------------\n",
      "            \n",
      "\n"
     ]
    },
    {
     "data": {
      "application/vnd.jupyter.widget-view+json": {
       "model_id": "9fe16b145f8c42ec8cc073b8d911f28d",
       "version_major": 2,
       "version_minor": 0
      },
      "text/plain": [
       "HBox(children=(FloatProgress(value=0.0, description='Epoch 10/300', layout=Layout(flex='2'), max=1600.0, style…"
      ]
     },
     "metadata": {},
     "output_type": "display_data"
    },
    {
     "name": "stdout",
     "output_type": "stream",
     "text": [
      "QRS_acc: 0.6674\n",
      "Scoring complete.\n",
      "QRS_acc: 0.6848\n",
      "Scoring complete.\n",
      "\n",
      "                Train epoch_10:\n",
      "                --------------------\n",
      "                train/epoch_loss:        1.552852913737297\n",
      "                train/qrs_score:         0.6674\n",
      "            \n",
      "                test/qrs_score:          0.6848\n",
      "                ---------------------------------\n",
      "            \n",
      "\n"
     ]
    },
    {
     "data": {
      "application/vnd.jupyter.widget-view+json": {
       "model_id": "b4f82263d8ad4dcc8628be3520551d9d",
       "version_major": 2,
       "version_minor": 0
      },
      "text/plain": [
       "HBox(children=(FloatProgress(value=0.0, description='Epoch 11/300', layout=Layout(flex='2'), max=1600.0, style…"
      ]
     },
     "metadata": {},
     "output_type": "display_data"
    },
    {
     "name": "stdout",
     "output_type": "stream",
     "text": [
      "QRS_acc: 0.6869\n",
      "Scoring complete.\n",
      "QRS_acc: 0.6952\n",
      "Scoring complete.\n",
      "\n",
      "                Train epoch_11:\n",
      "                --------------------\n",
      "                train/epoch_loss:        1.4410180300474167\n",
      "                train/qrs_score:         0.6869\n",
      "            \n",
      "                test/qrs_score:          0.6952\n",
      "                ---------------------------------\n",
      "            \n",
      "\n"
     ]
    },
    {
     "data": {
      "application/vnd.jupyter.widget-view+json": {
       "model_id": "ec709de6a45f495185b235a0685ce430",
       "version_major": 2,
       "version_minor": 0
      },
      "text/plain": [
       "HBox(children=(FloatProgress(value=0.0, description='Epoch 12/300', layout=Layout(flex='2'), max=1600.0, style…"
      ]
     },
     "metadata": {},
     "output_type": "display_data"
    },
    {
     "name": "stdout",
     "output_type": "stream",
     "text": [
      "Train step_80: loss : 0.18787072598934174\n",
      "QRS_acc: 0.6945\n",
      "Scoring complete.\n",
      "QRS_acc: 0.7035\n",
      "Scoring complete.\n",
      "\n",
      "                Train epoch_12:\n",
      "                --------------------\n",
      "                train/epoch_loss:        1.3303422033786774\n",
      "                train/qrs_score:         0.6945\n",
      "            \n",
      "                test/qrs_score:          0.7035\n",
      "                ---------------------------------\n",
      "            \n",
      "\n"
     ]
    },
    {
     "data": {
      "application/vnd.jupyter.widget-view+json": {
       "model_id": "b0cdd4ce48b84a299468dbfcd5e0b799",
       "version_major": 2,
       "version_minor": 0
      },
      "text/plain": [
       "HBox(children=(FloatProgress(value=0.0, description='Epoch 13/300', layout=Layout(flex='2'), max=1600.0, style…"
      ]
     },
     "metadata": {},
     "output_type": "display_data"
    },
    {
     "name": "stdout",
     "output_type": "stream",
     "text": [
      "QRS_acc: 0.6979\n",
      "Scoring complete.\n",
      "QRS_acc: 0.7165\n",
      "Scoring complete.\n",
      "\n",
      "                Train epoch_13:\n",
      "                --------------------\n",
      "                train/epoch_loss:        1.2669871002435684\n",
      "                train/qrs_score:         0.6979\n",
      "            \n",
      "                test/qrs_score:          0.7165\n",
      "                ---------------------------------\n",
      "            \n",
      "\n"
     ]
    },
    {
     "data": {
      "application/vnd.jupyter.widget-view+json": {
       "model_id": "11b75b29dd774afe86ed4922d25bf87a",
       "version_major": 2,
       "version_minor": 0
      },
      "text/plain": [
       "HBox(children=(FloatProgress(value=0.0, description='Epoch 14/300', layout=Layout(flex='2'), max=1600.0, style…"
      ]
     },
     "metadata": {},
     "output_type": "display_data"
    },
    {
     "name": "stdout",
     "output_type": "stream",
     "text": [
      "QRS_acc: 0.7172\n",
      "Scoring complete.\n",
      "QRS_acc: 0.722\n",
      "Scoring complete.\n",
      "\n",
      "                Train epoch_14:\n",
      "                --------------------\n",
      "                train/epoch_loss:        1.1966638565063477\n",
      "                train/qrs_score:         0.7172\n",
      "            \n",
      "                test/qrs_score:          0.722\n",
      "                ---------------------------------\n",
      "            \n",
      "\n"
     ]
    },
    {
     "data": {
      "application/vnd.jupyter.widget-view+json": {
       "model_id": "704495e50b8f4e2ab5d1b2a2ff80b096",
       "version_major": 2,
       "version_minor": 0
      },
      "text/plain": [
       "HBox(children=(FloatProgress(value=0.0, description='Epoch 15/300', layout=Layout(flex='2'), max=1600.0, style…"
      ]
     },
     "metadata": {},
     "output_type": "display_data"
    },
    {
     "name": "stdout",
     "output_type": "stream",
     "text": [
      "Train step_100: loss : 0.17015816271305084\n",
      "QRS_acc: 0.7209\n",
      "Scoring complete.\n",
      "QRS_acc: 0.731\n",
      "Scoring complete.\n",
      "\n",
      "                Train epoch_15:\n",
      "                --------------------\n",
      "                train/epoch_loss:        1.150894671678543\n",
      "                train/qrs_score:         0.7209\n",
      "            \n",
      "                test/qrs_score:          0.731\n",
      "                ---------------------------------\n",
      "            \n",
      "\n"
     ]
    },
    {
     "data": {
      "application/vnd.jupyter.widget-view+json": {
       "model_id": "063f3759ac564fda9ba198725295a5a3",
       "version_major": 2,
       "version_minor": 0
      },
      "text/plain": [
       "HBox(children=(FloatProgress(value=0.0, description='Epoch 16/300', layout=Layout(flex='2'), max=1600.0, style…"
      ]
     },
     "metadata": {},
     "output_type": "display_data"
    },
    {
     "name": "stdout",
     "output_type": "stream",
     "text": [
      "QRS_acc: 0.7285\n",
      "Scoring complete.\n",
      "QRS_acc: 0.7333\n",
      "Scoring complete.\n",
      "\n",
      "                Train epoch_16:\n",
      "                --------------------\n",
      "                train/epoch_loss:        1.090264841914177\n",
      "                train/qrs_score:         0.7285\n",
      "            \n",
      "                test/qrs_score:          0.7333\n",
      "                ---------------------------------\n",
      "            \n",
      "\n"
     ]
    },
    {
     "data": {
      "application/vnd.jupyter.widget-view+json": {
       "model_id": "b7671e008ecc40f6923a311ad8253081",
       "version_major": 2,
       "version_minor": 0
      },
      "text/plain": [
       "HBox(children=(FloatProgress(value=0.0, description='Epoch 17/300', layout=Layout(flex='2'), max=1600.0, style…"
      ]
     },
     "metadata": {},
     "output_type": "display_data"
    },
    {
     "name": "stdout",
     "output_type": "stream",
     "text": [
      "QRS_acc: 0.7296\n",
      "Scoring complete.\n",
      "QRS_acc: 0.746\n",
      "Scoring complete.\n",
      "\n",
      "                Train epoch_17:\n",
      "                --------------------\n",
      "                train/epoch_loss:        1.0485624969005585\n",
      "                train/qrs_score:         0.7296\n",
      "            \n",
      "                test/qrs_score:          0.746\n",
      "                ---------------------------------\n",
      "            \n",
      "\n"
     ]
    },
    {
     "data": {
      "application/vnd.jupyter.widget-view+json": {
       "model_id": "eeb43d65b5dc4cdf9478d2409fd11650",
       "version_major": 2,
       "version_minor": 0
      },
      "text/plain": [
       "HBox(children=(FloatProgress(value=0.0, description='Epoch 18/300', layout=Layout(flex='2'), max=1600.0, style…"
      ]
     },
     "metadata": {},
     "output_type": "display_data"
    },
    {
     "name": "stdout",
     "output_type": "stream",
     "text": [
      "Train step_120: loss : 0.14187957346439362\n",
      "QRS_acc: 0.7374\n",
      "Scoring complete.\n",
      "QRS_acc: 0.751\n",
      "Scoring complete.\n",
      "\n",
      "                Train epoch_18:\n",
      "                --------------------\n",
      "                train/epoch_loss:        1.036416456103325\n",
      "                train/qrs_score:         0.7374\n",
      "            \n",
      "                test/qrs_score:          0.751\n",
      "                ---------------------------------\n",
      "            \n",
      "\n"
     ]
    },
    {
     "data": {
      "application/vnd.jupyter.widget-view+json": {
       "model_id": "89d1464c889e45eeac1626aff0ddd886",
       "version_major": 2,
       "version_minor": 0
      },
      "text/plain": [
       "HBox(children=(FloatProgress(value=0.0, description='Epoch 19/300', layout=Layout(flex='2'), max=1600.0, style…"
      ]
     },
     "metadata": {},
     "output_type": "display_data"
    },
    {
     "name": "stdout",
     "output_type": "stream",
     "text": [
      "QRS_acc: 0.7423\n",
      "Scoring complete.\n",
      "QRS_acc: 0.7492\n",
      "Scoring complete.\n",
      "\n",
      "                Train epoch_19:\n",
      "                --------------------\n",
      "                train/epoch_loss:        1.0095626264810562\n",
      "                train/qrs_score:         0.7423\n",
      "            \n",
      "                test/qrs_score:          0.7492\n",
      "                ---------------------------------\n",
      "            \n",
      "\n"
     ]
    },
    {
     "data": {
      "application/vnd.jupyter.widget-view+json": {
       "model_id": "7395049b81b24ebb9eb9566e94692419",
       "version_major": 2,
       "version_minor": 0
      },
      "text/plain": [
       "HBox(children=(FloatProgress(value=0.0, description='Epoch 20/300', layout=Layout(flex='2'), max=1600.0, style…"
      ]
     },
     "metadata": {},
     "output_type": "display_data"
    },
    {
     "name": "stdout",
     "output_type": "stream",
     "text": [
      "Train step_140: loss : 0.13153637945652008\n",
      "QRS_acc: 0.7418\n",
      "Scoring complete.\n",
      "QRS_acc: 0.7418\n",
      "Scoring complete.\n",
      "\n",
      "                Train epoch_20:\n",
      "                --------------------\n",
      "                train/epoch_loss:        0.9721636921167374\n",
      "                train/qrs_score:         0.7418\n",
      "            \n",
      "                test/qrs_score:          0.7418\n",
      "                ---------------------------------\n",
      "            \n",
      "\n"
     ]
    },
    {
     "data": {
      "application/vnd.jupyter.widget-view+json": {
       "model_id": "8127d49bdf104a568fcb6e5026bd1bc4",
       "version_major": 2,
       "version_minor": 0
      },
      "text/plain": [
       "HBox(children=(FloatProgress(value=0.0, description='Epoch 21/300', layout=Layout(flex='2'), max=1600.0, style…"
      ]
     },
     "metadata": {},
     "output_type": "display_data"
    },
    {
     "name": "stdout",
     "output_type": "stream",
     "text": [
      "QRS_acc: 0.746\n",
      "Scoring complete.\n",
      "QRS_acc: 0.761\n",
      "Scoring complete.\n",
      "\n",
      "                Train epoch_21:\n",
      "                --------------------\n",
      "                train/epoch_loss:        0.9503916203975677\n",
      "                train/qrs_score:         0.746\n",
      "            \n",
      "                test/qrs_score:          0.761\n",
      "                ---------------------------------\n",
      "            \n",
      "\n"
     ]
    },
    {
     "data": {
      "application/vnd.jupyter.widget-view+json": {
       "model_id": "78e36479f5494a3395d3a6834d07d72a",
       "version_major": 2,
       "version_minor": 0
      },
      "text/plain": [
       "HBox(children=(FloatProgress(value=0.0, description='Epoch 22/300', layout=Layout(flex='2'), max=1600.0, style…"
      ]
     },
     "metadata": {},
     "output_type": "display_data"
    },
    {
     "name": "stdout",
     "output_type": "stream",
     "text": [
      "QRS_acc: 0.7501\n",
      "Scoring complete.\n",
      "QRS_acc: 0.7655\n",
      "Scoring complete.\n",
      "\n",
      "                Train epoch_22:\n",
      "                --------------------\n",
      "                train/epoch_loss:        0.9344744309782982\n",
      "                train/qrs_score:         0.7501\n",
      "            \n",
      "                test/qrs_score:          0.7655\n",
      "                ---------------------------------\n",
      "            \n",
      "\n"
     ]
    },
    {
     "data": {
      "application/vnd.jupyter.widget-view+json": {
       "model_id": "95821dc6f10d43719c6b47478b079ee5",
       "version_major": 2,
       "version_minor": 0
      },
      "text/plain": [
       "HBox(children=(FloatProgress(value=0.0, description='Epoch 23/300', layout=Layout(flex='2'), max=1600.0, style…"
      ]
     },
     "metadata": {},
     "output_type": "display_data"
    },
    {
     "name": "stdout",
     "output_type": "stream",
     "text": [
      "Train step_160: loss : 0.1369749754667282\n",
      "QRS_acc: 0.7512\n",
      "Scoring complete.\n",
      "QRS_acc: 0.7768\n",
      "Scoring complete.\n",
      "\n",
      "                Train epoch_23:\n",
      "                --------------------\n",
      "                train/epoch_loss:        0.9169737324118614\n",
      "                train/qrs_score:         0.7512\n",
      "            \n",
      "                test/qrs_score:          0.7768\n",
      "                ---------------------------------\n",
      "            \n",
      "\n"
     ]
    },
    {
     "data": {
      "application/vnd.jupyter.widget-view+json": {
       "model_id": "e190311c5a4d49c08cd62aa4c63b6253",
       "version_major": 2,
       "version_minor": 0
      },
      "text/plain": [
       "HBox(children=(FloatProgress(value=0.0, description='Epoch 24/300', layout=Layout(flex='2'), max=1600.0, style…"
      ]
     },
     "metadata": {},
     "output_type": "display_data"
    },
    {
     "name": "stdout",
     "output_type": "stream",
     "text": [
      "QRS_acc: 0.7574\n",
      "Scoring complete.\n",
      "QRS_acc: 0.7753\n",
      "Scoring complete.\n",
      "\n",
      "                Train epoch_24:\n",
      "                --------------------\n",
      "                train/epoch_loss:        0.9107608869671822\n",
      "                train/qrs_score:         0.7574\n",
      "            \n",
      "                test/qrs_score:          0.7753\n",
      "                ---------------------------------\n",
      "            \n",
      "\n"
     ]
    },
    {
     "data": {
      "application/vnd.jupyter.widget-view+json": {
       "model_id": "8461cbd1b0074b98a2119d55ae75f65b",
       "version_major": 2,
       "version_minor": 0
      },
      "text/plain": [
       "HBox(children=(FloatProgress(value=0.0, description='Epoch 25/300', layout=Layout(flex='2'), max=1600.0, style…"
      ]
     },
     "metadata": {},
     "output_type": "display_data"
    },
    {
     "name": "stdout",
     "output_type": "stream",
     "text": [
      "QRS_acc: 0.7553\n",
      "Scoring complete.\n",
      "QRS_acc: 0.775\n",
      "Scoring complete.\n",
      "\n",
      "                Train epoch_25:\n",
      "                --------------------\n",
      "                train/epoch_loss:        0.9126034453511238\n",
      "                train/qrs_score:         0.7553\n",
      "            \n",
      "                test/qrs_score:          0.775\n",
      "                ---------------------------------\n",
      "            \n",
      "\n"
     ]
    },
    {
     "data": {
      "application/vnd.jupyter.widget-view+json": {
       "model_id": "54cb0b38c175406396eecff360337c14",
       "version_major": 2,
       "version_minor": 0
      },
      "text/plain": [
       "HBox(children=(FloatProgress(value=0.0, description='Epoch 26/300', layout=Layout(flex='2'), max=1600.0, style…"
      ]
     },
     "metadata": {},
     "output_type": "display_data"
    },
    {
     "name": "stdout",
     "output_type": "stream",
     "text": [
      "Train step_180: loss : 0.1164676696062088\n",
      "QRS_acc: 0.7605\n",
      "Scoring complete.\n",
      "QRS_acc: 0.775\n",
      "Scoring complete.\n",
      "\n",
      "                Train epoch_26:\n",
      "                --------------------\n",
      "                train/epoch_loss:        0.89085403829813\n",
      "                train/qrs_score:         0.7605\n",
      "            \n",
      "                test/qrs_score:          0.775\n",
      "                ---------------------------------\n",
      "            \n",
      "\n"
     ]
    },
    {
     "data": {
      "application/vnd.jupyter.widget-view+json": {
       "model_id": "91d45f70af9b4bf5beb297823d04202d",
       "version_major": 2,
       "version_minor": 0
      },
      "text/plain": [
       "HBox(children=(FloatProgress(value=0.0, description='Epoch 27/300', layout=Layout(flex='2'), max=1600.0, style…"
      ]
     },
     "metadata": {},
     "output_type": "display_data"
    },
    {
     "name": "stdout",
     "output_type": "stream",
     "text": [
      "QRS_acc: 0.7678\n",
      "Scoring complete.\n",
      "QRS_acc: 0.7723\n",
      "Scoring complete.\n",
      "\n",
      "                Train epoch_27:\n",
      "                --------------------\n",
      "                train/epoch_loss:        0.8600964173674583\n",
      "                train/qrs_score:         0.7678\n",
      "            \n",
      "                test/qrs_score:          0.7723\n",
      "                ---------------------------------\n",
      "            \n",
      "\n"
     ]
    },
    {
     "data": {
      "application/vnd.jupyter.widget-view+json": {
       "model_id": "eb067f5f30944748b28517943aa26345",
       "version_major": 2,
       "version_minor": 0
      },
      "text/plain": [
       "HBox(children=(FloatProgress(value=0.0, description='Epoch 28/300', layout=Layout(flex='2'), max=1600.0, style…"
      ]
     },
     "metadata": {},
     "output_type": "display_data"
    },
    {
     "name": "stdout",
     "output_type": "stream",
     "text": [
      "QRS_acc: 0.7478\n",
      "Scoring complete.\n",
      "QRS_acc: 0.7705\n",
      "Scoring complete.\n",
      "\n",
      "                Train epoch_28:\n",
      "                --------------------\n",
      "                train/epoch_loss:        0.8627862334251404\n",
      "                train/qrs_score:         0.7478\n",
      "            \n",
      "                test/qrs_score:          0.7705\n",
      "                ---------------------------------\n",
      "            \n",
      "\n"
     ]
    },
    {
     "data": {
      "application/vnd.jupyter.widget-view+json": {
       "model_id": "78ae114881524d628df1f2b6956c700f",
       "version_major": 2,
       "version_minor": 0
      },
      "text/plain": [
       "HBox(children=(FloatProgress(value=0.0, description='Epoch 29/300', layout=Layout(flex='2'), max=1600.0, style…"
      ]
     },
     "metadata": {},
     "output_type": "display_data"
    },
    {
     "name": "stdout",
     "output_type": "stream",
     "text": [
      "Train step_200: loss : 0.11757686734199524\n",
      "QRS_acc: 0.7697\n",
      "Scoring complete.\n",
      "QRS_acc: 0.7715\n",
      "Scoring complete.\n",
      "\n",
      "                Train epoch_29:\n",
      "                --------------------\n",
      "                train/epoch_loss:        0.860169842839241\n",
      "                train/qrs_score:         0.7697\n",
      "            \n",
      "                test/qrs_score:          0.7715\n",
      "                ---------------------------------\n",
      "            \n",
      "\n"
     ]
    },
    {
     "data": {
      "application/vnd.jupyter.widget-view+json": {
       "model_id": "7ef5ecb6bc67458699bec4b29ed2239b",
       "version_major": 2,
       "version_minor": 0
      },
      "text/plain": [
       "HBox(children=(FloatProgress(value=0.0, description='Epoch 30/300', layout=Layout(flex='2'), max=1600.0, style…"
      ]
     },
     "metadata": {},
     "output_type": "display_data"
    },
    {
     "name": "stdout",
     "output_type": "stream",
     "text": [
      "QRS_acc: 0.7642\n",
      "Scoring complete.\n",
      "QRS_acc: 0.769\n",
      "Scoring complete.\n",
      "\n",
      "                Train epoch_30:\n",
      "                --------------------\n",
      "                train/epoch_loss:        0.8534944280982018\n",
      "                train/qrs_score:         0.7642\n",
      "            \n",
      "                test/qrs_score:          0.769\n",
      "                ---------------------------------\n",
      "            \n",
      "\n"
     ]
    },
    {
     "data": {
      "application/vnd.jupyter.widget-view+json": {
       "model_id": "32024e3d109b4318b061ffe2ed48c142",
       "version_major": 2,
       "version_minor": 0
      },
      "text/plain": [
       "HBox(children=(FloatProgress(value=0.0, description='Epoch 31/300', layout=Layout(flex='2'), max=1600.0, style…"
      ]
     },
     "metadata": {},
     "output_type": "display_data"
    },
    {
     "name": "stdout",
     "output_type": "stream",
     "text": [
      "QRS_acc: 0.7746\n",
      "Scoring complete.\n",
      "QRS_acc: 0.7753\n",
      "Scoring complete.\n",
      "\n",
      "                Train epoch_31:\n",
      "                --------------------\n",
      "                train/epoch_loss:        0.8255922943353653\n",
      "                train/qrs_score:         0.7746\n",
      "            \n",
      "                test/qrs_score:          0.7753\n",
      "                ---------------------------------\n",
      "            \n",
      "\n"
     ]
    },
    {
     "data": {
      "application/vnd.jupyter.widget-view+json": {
       "model_id": "cbfb3c21be4840bfbe8321a7a86b46ff",
       "version_major": 2,
       "version_minor": 0
      },
      "text/plain": [
       "HBox(children=(FloatProgress(value=0.0, description='Epoch 32/300', layout=Layout(flex='2'), max=1600.0, style…"
      ]
     },
     "metadata": {},
     "output_type": "display_data"
    },
    {
     "name": "stdout",
     "output_type": "stream",
     "text": [
      "Train step_220: loss : 0.12543976306915283\n",
      "QRS_acc: 0.7696\n",
      "Scoring complete.\n",
      "QRS_acc: 0.7735\n",
      "Scoring complete.\n",
      "\n",
      "                Train epoch_32:\n",
      "                --------------------\n",
      "                train/epoch_loss:        0.837671086192131\n",
      "                train/qrs_score:         0.7696\n",
      "            \n",
      "                test/qrs_score:          0.7735\n",
      "                ---------------------------------\n",
      "            \n",
      "\n"
     ]
    },
    {
     "data": {
      "application/vnd.jupyter.widget-view+json": {
       "model_id": "cc61fa6d856e4a1b9ccc63ed30ca008b",
       "version_major": 2,
       "version_minor": 0
      },
      "text/plain": [
       "HBox(children=(FloatProgress(value=0.0, description='Epoch 33/300', layout=Layout(flex='2'), max=1600.0, style…"
      ]
     },
     "metadata": {},
     "output_type": "display_data"
    },
    {
     "name": "stdout",
     "output_type": "stream",
     "text": [
      "QRS_acc: 0.7717\n",
      "Scoring complete.\n",
      "QRS_acc: 0.7797\n",
      "Scoring complete.\n",
      "\n",
      "                Train epoch_33:\n",
      "                --------------------\n",
      "                train/epoch_loss:        0.8158347457647324\n",
      "                train/qrs_score:         0.7717\n",
      "            \n",
      "                test/qrs_score:          0.7797\n",
      "                ---------------------------------\n",
      "            \n",
      "\n"
     ]
    },
    {
     "data": {
      "application/vnd.jupyter.widget-view+json": {
       "model_id": "de0b4e355a9945c4a46051e121453d38",
       "version_major": 2,
       "version_minor": 0
      },
      "text/plain": [
       "HBox(children=(FloatProgress(value=0.0, description='Epoch 34/300', layout=Layout(flex='2'), max=1600.0, style…"
      ]
     },
     "metadata": {},
     "output_type": "display_data"
    },
    {
     "name": "stdout",
     "output_type": "stream",
     "text": [
      "QRS_acc: 0.7707\n",
      "Scoring complete.\n",
      "QRS_acc: 0.78\n",
      "Scoring complete.\n",
      "\n",
      "                Train epoch_34:\n",
      "                --------------------\n",
      "                train/epoch_loss:        0.8177615031599998\n",
      "                train/qrs_score:         0.7707\n",
      "            \n",
      "                test/qrs_score:          0.78\n",
      "                ---------------------------------\n",
      "            \n",
      "\n"
     ]
    },
    {
     "data": {
      "application/vnd.jupyter.widget-view+json": {
       "model_id": "1cb0e866aa5545af96f434b1f82ac675",
       "version_major": 2,
       "version_minor": 0
      },
      "text/plain": [
       "HBox(children=(FloatProgress(value=0.0, description='Epoch 35/300', layout=Layout(flex='2'), max=1600.0, style…"
      ]
     },
     "metadata": {},
     "output_type": "display_data"
    },
    {
     "name": "stdout",
     "output_type": "stream",
     "text": [
      "Train step_240: loss : 0.1216249018907547\n",
      "QRS_acc: 0.7768\n",
      "Scoring complete.\n",
      "QRS_acc: 0.7918\n",
      "Scoring complete.\n",
      "\n",
      "                Train epoch_35:\n",
      "                --------------------\n",
      "                train/epoch_loss:        0.7972761169075966\n",
      "                train/qrs_score:         0.7768\n",
      "            \n",
      "                test/qrs_score:          0.7918\n",
      "                ---------------------------------\n",
      "            \n",
      "\n"
     ]
    },
    {
     "data": {
      "application/vnd.jupyter.widget-view+json": {
       "model_id": "c2e0a147567143079e2e39e85cca362f",
       "version_major": 2,
       "version_minor": 0
      },
      "text/plain": [
       "HBox(children=(FloatProgress(value=0.0, description='Epoch 36/300', layout=Layout(flex='2'), max=1600.0, style…"
      ]
     },
     "metadata": {},
     "output_type": "display_data"
    },
    {
     "name": "stdout",
     "output_type": "stream",
     "text": [
      "QRS_acc: 0.7774\n",
      "Scoring complete.\n",
      "QRS_acc: 0.7858\n",
      "Scoring complete.\n",
      "\n",
      "                Train epoch_36:\n",
      "                --------------------\n",
      "                train/epoch_loss:        0.7933925688266754\n",
      "                train/qrs_score:         0.7774\n",
      "            \n",
      "                test/qrs_score:          0.7858\n",
      "                ---------------------------------\n",
      "            \n",
      "\n"
     ]
    },
    {
     "data": {
      "application/vnd.jupyter.widget-view+json": {
       "model_id": "e3e5299b93ac4440bdc0633218de645f",
       "version_major": 2,
       "version_minor": 0
      },
      "text/plain": [
       "HBox(children=(FloatProgress(value=0.0, description='Epoch 37/300', layout=Layout(flex='2'), max=1600.0, style…"
      ]
     },
     "metadata": {},
     "output_type": "display_data"
    },
    {
     "name": "stdout",
     "output_type": "stream",
     "text": [
      "QRS_acc: 0.7759\n",
      "Scoring complete.\n",
      "QRS_acc: 0.8007\n",
      "Scoring complete.\n",
      "\n",
      "                Train epoch_37:\n",
      "                --------------------\n",
      "                train/epoch_loss:        0.8029397800564766\n",
      "                train/qrs_score:         0.7759\n",
      "            \n",
      "                test/qrs_score:          0.8007\n",
      "                ---------------------------------\n",
      "            \n",
      "\n"
     ]
    },
    {
     "data": {
      "application/vnd.jupyter.widget-view+json": {
       "model_id": "478a43694e2a4a649a2049c6f69cfcb1",
       "version_major": 2,
       "version_minor": 0
      },
      "text/plain": [
       "HBox(children=(FloatProgress(value=0.0, description='Epoch 38/300', layout=Layout(flex='2'), max=1600.0, style…"
      ]
     },
     "metadata": {},
     "output_type": "display_data"
    },
    {
     "name": "stdout",
     "output_type": "stream",
     "text": [
      "Train step_260: loss : 0.11229000985622406\n",
      "QRS_acc: 0.7831\n",
      "Scoring complete.\n",
      "QRS_acc: 0.8022\n",
      "Scoring complete.\n",
      "\n",
      "                Train epoch_38:\n",
      "                --------------------\n",
      "                train/epoch_loss:        0.7837232574820518\n",
      "                train/qrs_score:         0.7831\n",
      "            \n",
      "                test/qrs_score:          0.8022\n",
      "                ---------------------------------\n",
      "            \n",
      "\n"
     ]
    },
    {
     "data": {
      "application/vnd.jupyter.widget-view+json": {
       "model_id": "24c075996f9e4b248547192ab743c693",
       "version_major": 2,
       "version_minor": 0
      },
      "text/plain": [
       "HBox(children=(FloatProgress(value=0.0, description='Epoch 39/300', layout=Layout(flex='2'), max=1600.0, style…"
      ]
     },
     "metadata": {},
     "output_type": "display_data"
    },
    {
     "name": "stdout",
     "output_type": "stream",
     "text": [
      "QRS_acc: 0.78\n",
      "Scoring complete.\n",
      "QRS_acc: 0.7988\n",
      "Scoring complete.\n",
      "\n",
      "                Train epoch_39:\n",
      "                --------------------\n",
      "                train/epoch_loss:        0.7916541770100594\n",
      "                train/qrs_score:         0.78\n",
      "            \n",
      "                test/qrs_score:          0.7988\n",
      "                ---------------------------------\n",
      "            \n",
      "\n"
     ]
    },
    {
     "data": {
      "application/vnd.jupyter.widget-view+json": {
       "model_id": "4046178eecd34467ad48c1d476c4adb7",
       "version_major": 2,
       "version_minor": 0
      },
      "text/plain": [
       "HBox(children=(FloatProgress(value=0.0, description='Epoch 40/300', layout=Layout(flex='2'), max=1600.0, style…"
      ]
     },
     "metadata": {},
     "output_type": "display_data"
    },
    {
     "name": "stdout",
     "output_type": "stream",
     "text": [
      "Train step_280: loss : 0.10266631841659546\n",
      "QRS_acc: 0.7857\n",
      "Scoring complete.\n",
      "QRS_acc: 0.8022\n",
      "Scoring complete.\n",
      "\n",
      "                Train epoch_40:\n",
      "                --------------------\n",
      "                train/epoch_loss:        0.7621915116906166\n",
      "                train/qrs_score:         0.7857\n",
      "            \n",
      "                test/qrs_score:          0.8022\n",
      "                ---------------------------------\n",
      "            \n",
      "\n"
     ]
    },
    {
     "data": {
      "application/vnd.jupyter.widget-view+json": {
       "model_id": "851672f992d04f19b3fdd22ea897fd4a",
       "version_major": 2,
       "version_minor": 0
      },
      "text/plain": [
       "HBox(children=(FloatProgress(value=0.0, description='Epoch 41/300', layout=Layout(flex='2'), max=1600.0, style…"
      ]
     },
     "metadata": {},
     "output_type": "display_data"
    },
    {
     "name": "stdout",
     "output_type": "stream",
     "text": [
      "QRS_acc: 0.7809\n",
      "Scoring complete.\n",
      "QRS_acc: 0.803\n",
      "Scoring complete.\n",
      "\n",
      "                Train epoch_41:\n",
      "                --------------------\n",
      "                train/epoch_loss:        0.7629031464457512\n",
      "                train/qrs_score:         0.7809\n",
      "            \n",
      "                test/qrs_score:          0.803\n",
      "                ---------------------------------\n",
      "            \n",
      "\n"
     ]
    },
    {
     "data": {
      "application/vnd.jupyter.widget-view+json": {
       "model_id": "2546270b08fa4c16af67744e7bcf1dbf",
       "version_major": 2,
       "version_minor": 0
      },
      "text/plain": [
       "HBox(children=(FloatProgress(value=0.0, description='Epoch 42/300', layout=Layout(flex='2'), max=1600.0, style…"
      ]
     },
     "metadata": {},
     "output_type": "display_data"
    },
    {
     "name": "stdout",
     "output_type": "stream",
     "text": [
      "QRS_acc: 0.7872\n",
      "Scoring complete.\n",
      "QRS_acc: 0.8075\n",
      "Scoring complete.\n",
      "\n",
      "                Train epoch_42:\n",
      "                --------------------\n",
      "                train/epoch_loss:        0.7713906913995743\n",
      "                train/qrs_score:         0.7872\n",
      "            \n",
      "                test/qrs_score:          0.8075\n",
      "                ---------------------------------\n",
      "            \n",
      "\n"
     ]
    },
    {
     "data": {
      "application/vnd.jupyter.widget-view+json": {
       "model_id": "90a689951d2a497398802c9125fd3dfd",
       "version_major": 2,
       "version_minor": 0
      },
      "text/plain": [
       "HBox(children=(FloatProgress(value=0.0, description='Epoch 43/300', layout=Layout(flex='2'), max=1600.0, style…"
      ]
     },
     "metadata": {},
     "output_type": "display_data"
    },
    {
     "name": "stdout",
     "output_type": "stream",
     "text": [
      "Train step_300: loss : 0.10619071871042252\n",
      "QRS_acc: 0.7857\n",
      "Scoring complete.\n",
      "QRS_acc: 0.8122\n",
      "Scoring complete.\n",
      "\n",
      "                Train epoch_43:\n",
      "                --------------------\n",
      "                train/epoch_loss:        0.764128789305687\n",
      "                train/qrs_score:         0.7857\n",
      "            \n",
      "                test/qrs_score:          0.8122\n",
      "                ---------------------------------\n",
      "            \n",
      "\n"
     ]
    },
    {
     "data": {
      "application/vnd.jupyter.widget-view+json": {
       "model_id": "8bd3033a864249778700ed96e224a5b1",
       "version_major": 2,
       "version_minor": 0
      },
      "text/plain": [
       "HBox(children=(FloatProgress(value=0.0, description='Epoch 44/300', layout=Layout(flex='2'), max=1600.0, style…"
      ]
     },
     "metadata": {},
     "output_type": "display_data"
    },
    {
     "name": "stdout",
     "output_type": "stream",
     "text": [
      "QRS_acc: 0.7861\n",
      "Scoring complete.\n",
      "QRS_acc: 0.807\n",
      "Scoring complete.\n",
      "\n",
      "                Train epoch_44:\n",
      "                --------------------\n",
      "                train/epoch_loss:        0.7499973401427269\n",
      "                train/qrs_score:         0.7861\n",
      "            \n",
      "                test/qrs_score:          0.807\n",
      "                ---------------------------------\n",
      "            \n",
      "\n"
     ]
    },
    {
     "data": {
      "application/vnd.jupyter.widget-view+json": {
       "model_id": "f767b5581fef41ba8e7554030dd94e26",
       "version_major": 2,
       "version_minor": 0
      },
      "text/plain": [
       "HBox(children=(FloatProgress(value=0.0, description='Epoch 45/300', layout=Layout(flex='2'), max=1600.0, style…"
      ]
     },
     "metadata": {},
     "output_type": "display_data"
    },
    {
     "name": "stdout",
     "output_type": "stream",
     "text": [
      "QRS_acc: 0.7908\n",
      "Scoring complete.\n",
      "QRS_acc: 0.8048\n",
      "Scoring complete.\n",
      "\n",
      "                Train epoch_45:\n",
      "                --------------------\n",
      "                train/epoch_loss:        0.7517041116952896\n",
      "                train/qrs_score:         0.7908\n",
      "            \n",
      "                test/qrs_score:          0.8048\n",
      "                ---------------------------------\n",
      "            \n",
      "\n"
     ]
    },
    {
     "data": {
      "application/vnd.jupyter.widget-view+json": {
       "model_id": "8203308fec71400ca72a310b7a675ae0",
       "version_major": 2,
       "version_minor": 0
      },
      "text/plain": [
       "HBox(children=(FloatProgress(value=0.0, description='Epoch 46/300', layout=Layout(flex='2'), max=1600.0, style…"
      ]
     },
     "metadata": {},
     "output_type": "display_data"
    },
    {
     "name": "stdout",
     "output_type": "stream",
     "text": [
      "Train step_320: loss : 0.10039636492729187\n",
      "QRS_acc: 0.7853\n",
      "Scoring complete.\n",
      "QRS_acc: 0.7993\n",
      "Scoring complete.\n",
      "\n",
      "                Train epoch_46:\n",
      "                --------------------\n",
      "                train/epoch_loss:        0.7580511048436165\n",
      "                train/qrs_score:         0.7853\n",
      "            \n",
      "                test/qrs_score:          0.7993\n",
      "                ---------------------------------\n",
      "            \n",
      "\n"
     ]
    },
    {
     "data": {
      "application/vnd.jupyter.widget-view+json": {
       "model_id": "15810bc3163a4f68a648ee5318b9eb67",
       "version_major": 2,
       "version_minor": 0
      },
      "text/plain": [
       "HBox(children=(FloatProgress(value=0.0, description='Epoch 47/300', layout=Layout(flex='2'), max=1600.0, style…"
      ]
     },
     "metadata": {},
     "output_type": "display_data"
    },
    {
     "name": "stdout",
     "output_type": "stream",
     "text": [
      "QRS_acc: 0.7932\n",
      "Scoring complete.\n",
      "QRS_acc: 0.8148\n",
      "Scoring complete.\n",
      "\n",
      "                Train epoch_47:\n",
      "                --------------------\n",
      "                train/epoch_loss:        0.7658308669924736\n",
      "                train/qrs_score:         0.7932\n",
      "            \n",
      "                test/qrs_score:          0.8148\n",
      "                ---------------------------------\n",
      "            \n",
      "\n"
     ]
    },
    {
     "data": {
      "application/vnd.jupyter.widget-view+json": {
       "model_id": "210ec61540684b93ada8f7e6d367a6ac",
       "version_major": 2,
       "version_minor": 0
      },
      "text/plain": [
       "HBox(children=(FloatProgress(value=0.0, description='Epoch 48/300', layout=Layout(flex='2'), max=1600.0, style…"
      ]
     },
     "metadata": {},
     "output_type": "display_data"
    },
    {
     "name": "stdout",
     "output_type": "stream",
     "text": [
      "QRS_acc: 0.7992\n",
      "Scoring complete.\n",
      "QRS_acc: 0.8143\n",
      "Scoring complete.\n",
      "\n",
      "                Train epoch_48:\n",
      "                --------------------\n",
      "                train/epoch_loss:        0.7169002145528793\n",
      "                train/qrs_score:         0.7992\n",
      "            \n",
      "                test/qrs_score:          0.8143\n",
      "                ---------------------------------\n",
      "            \n",
      "\n"
     ]
    },
    {
     "data": {
      "application/vnd.jupyter.widget-view+json": {
       "model_id": "40b251817fdc42eebc051908a6b5d6bf",
       "version_major": 2,
       "version_minor": 0
      },
      "text/plain": [
       "HBox(children=(FloatProgress(value=0.0, description='Epoch 49/300', layout=Layout(flex='2'), max=1600.0, style…"
      ]
     },
     "metadata": {},
     "output_type": "display_data"
    },
    {
     "name": "stdout",
     "output_type": "stream",
     "text": [
      "Train step_340: loss : 0.10953906923532486\n",
      "QRS_acc: 0.7856\n",
      "Scoring complete.\n",
      "QRS_acc: 0.8008\n",
      "Scoring complete.\n",
      "\n",
      "                Train epoch_49:\n",
      "                --------------------\n",
      "                train/epoch_loss:        0.7340359687805176\n",
      "                train/qrs_score:         0.7856\n",
      "            \n",
      "                test/qrs_score:          0.8008\n",
      "                ---------------------------------\n",
      "            \n",
      "\n"
     ]
    },
    {
     "data": {
      "application/vnd.jupyter.widget-view+json": {
       "model_id": "ea63afeb3e6548929e76eca1f9329365",
       "version_major": 2,
       "version_minor": 0
      },
      "text/plain": [
       "HBox(children=(FloatProgress(value=0.0, description='Epoch 50/300', layout=Layout(flex='2'), max=1600.0, style…"
      ]
     },
     "metadata": {},
     "output_type": "display_data"
    },
    {
     "name": "stdout",
     "output_type": "stream",
     "text": [
      "QRS_acc: 0.7978\n",
      "Scoring complete.\n",
      "QRS_acc: 0.8132\n",
      "Scoring complete.\n",
      "\n",
      "                Train epoch_50:\n",
      "                --------------------\n",
      "                train/epoch_loss:        0.7164283469319344\n",
      "                train/qrs_score:         0.7978\n",
      "            \n",
      "                test/qrs_score:          0.8132\n",
      "                ---------------------------------\n",
      "            \n",
      "\n"
     ]
    },
    {
     "data": {
      "application/vnd.jupyter.widget-view+json": {
       "model_id": "feaf8b6d27ea446d85e00ad5a958e3f6",
       "version_major": 2,
       "version_minor": 0
      },
      "text/plain": [
       "HBox(children=(FloatProgress(value=0.0, description='Epoch 51/300', layout=Layout(flex='2'), max=1600.0, style…"
      ]
     },
     "metadata": {},
     "output_type": "display_data"
    },
    {
     "name": "stdout",
     "output_type": "stream",
     "text": [
      "QRS_acc: 0.7958\n",
      "Scoring complete.\n",
      "QRS_acc: 0.808\n",
      "Scoring complete.\n",
      "\n",
      "                Train epoch_51:\n",
      "                --------------------\n",
      "                train/epoch_loss:        0.7369528040289879\n",
      "                train/qrs_score:         0.7958\n",
      "            \n",
      "                test/qrs_score:          0.808\n",
      "                ---------------------------------\n",
      "            \n",
      "\n"
     ]
    },
    {
     "data": {
      "application/vnd.jupyter.widget-view+json": {
       "model_id": "681c3f758b7947d18cb4b1886c7906e4",
       "version_major": 2,
       "version_minor": 0
      },
      "text/plain": [
       "HBox(children=(FloatProgress(value=0.0, description='Epoch 52/300', layout=Layout(flex='2'), max=1600.0, style…"
      ]
     },
     "metadata": {},
     "output_type": "display_data"
    },
    {
     "name": "stdout",
     "output_type": "stream",
     "text": [
      "Train step_360: loss : 0.10288522392511368\n",
      "QRS_acc: 0.8019\n",
      "Scoring complete.\n",
      "QRS_acc: 0.813\n",
      "Scoring complete.\n",
      "\n",
      "                Train epoch_52:\n",
      "                --------------------\n",
      "                train/epoch_loss:        0.706803597509861\n",
      "                train/qrs_score:         0.8019\n",
      "            \n",
      "                test/qrs_score:          0.813\n",
      "                ---------------------------------\n",
      "            \n",
      "\n"
     ]
    },
    {
     "data": {
      "application/vnd.jupyter.widget-view+json": {
       "model_id": "6e7e2e9b82c44be7859895c62a786b4d",
       "version_major": 2,
       "version_minor": 0
      },
      "text/plain": [
       "HBox(children=(FloatProgress(value=0.0, description='Epoch 53/300', layout=Layout(flex='2'), max=1600.0, style…"
      ]
     },
     "metadata": {},
     "output_type": "display_data"
    },
    {
     "name": "stdout",
     "output_type": "stream",
     "text": [
      "QRS_acc: 0.8007\n",
      "Scoring complete.\n",
      "QRS_acc: 0.8185\n",
      "Scoring complete.\n",
      "\n",
      "                Train epoch_53:\n",
      "                --------------------\n",
      "                train/epoch_loss:        0.7156933099031448\n",
      "                train/qrs_score:         0.8007\n",
      "            \n",
      "                test/qrs_score:          0.8185\n",
      "                ---------------------------------\n",
      "            \n",
      "\n"
     ]
    },
    {
     "data": {
      "application/vnd.jupyter.widget-view+json": {
       "model_id": "967771a046b346e987c7ddc4d9f5a922",
       "version_major": 2,
       "version_minor": 0
      },
      "text/plain": [
       "HBox(children=(FloatProgress(value=0.0, description='Epoch 54/300', layout=Layout(flex='2'), max=1600.0, style…"
      ]
     },
     "metadata": {},
     "output_type": "display_data"
    },
    {
     "name": "stdout",
     "output_type": "stream",
     "text": [
      "QRS_acc: 0.7982\n",
      "Scoring complete.\n",
      "QRS_acc: 0.8157\n",
      "Scoring complete.\n",
      "\n",
      "                Train epoch_54:\n",
      "                --------------------\n",
      "                train/epoch_loss:        0.7189377993345261\n",
      "                train/qrs_score:         0.7982\n",
      "            \n",
      "                test/qrs_score:          0.8157\n",
      "                ---------------------------------\n",
      "            \n",
      "\n"
     ]
    },
    {
     "data": {
      "application/vnd.jupyter.widget-view+json": {
       "model_id": "2415b212d2b74b178330947fdeae5032",
       "version_major": 2,
       "version_minor": 0
      },
      "text/plain": [
       "HBox(children=(FloatProgress(value=0.0, description='Epoch 55/300', layout=Layout(flex='2'), max=1600.0, style…"
      ]
     },
     "metadata": {},
     "output_type": "display_data"
    },
    {
     "name": "stdout",
     "output_type": "stream",
     "text": [
      "Train step_380: loss : 0.09354036301374435\n",
      "QRS_acc: 0.8008\n",
      "Scoring complete.\n",
      "QRS_acc: 0.8125\n",
      "Scoring complete.\n",
      "\n",
      "                Train epoch_55:\n",
      "                --------------------\n",
      "                train/epoch_loss:        0.7190796360373497\n",
      "                train/qrs_score:         0.8008\n",
      "            \n",
      "                test/qrs_score:          0.8125\n",
      "                ---------------------------------\n",
      "            \n",
      "\n"
     ]
    },
    {
     "data": {
      "application/vnd.jupyter.widget-view+json": {
       "model_id": "54e57ed2136e4489bcea35bf5241f280",
       "version_major": 2,
       "version_minor": 0
      },
      "text/plain": [
       "HBox(children=(FloatProgress(value=0.0, description='Epoch 56/300', layout=Layout(flex='2'), max=1600.0, style…"
      ]
     },
     "metadata": {},
     "output_type": "display_data"
    },
    {
     "name": "stdout",
     "output_type": "stream",
     "text": [
      "QRS_acc: 0.8066\n",
      "Scoring complete.\n",
      "QRS_acc: 0.8115\n",
      "Scoring complete.\n",
      "\n",
      "                Train epoch_56:\n",
      "                --------------------\n",
      "                train/epoch_loss:        0.6991663947701454\n",
      "                train/qrs_score:         0.8066\n",
      "            \n",
      "                test/qrs_score:          0.8115\n",
      "                ---------------------------------\n",
      "            \n",
      "\n"
     ]
    },
    {
     "data": {
      "application/vnd.jupyter.widget-view+json": {
       "model_id": "89f81a0e3d184acbbbf3e7b8e3f3bad1",
       "version_major": 2,
       "version_minor": 0
      },
      "text/plain": [
       "HBox(children=(FloatProgress(value=0.0, description='Epoch 57/300', layout=Layout(flex='2'), max=1600.0, style…"
      ]
     },
     "metadata": {},
     "output_type": "display_data"
    },
    {
     "name": "stdout",
     "output_type": "stream",
     "text": [
      "QRS_acc: 0.8059\n",
      "Scoring complete.\n",
      "QRS_acc: 0.8165\n",
      "Scoring complete.\n",
      "\n",
      "                Train epoch_57:\n",
      "                --------------------\n",
      "                train/epoch_loss:        0.6994414329528809\n",
      "                train/qrs_score:         0.8059\n",
      "            \n",
      "                test/qrs_score:          0.8165\n",
      "                ---------------------------------\n",
      "            \n",
      "\n"
     ]
    },
    {
     "data": {
      "application/vnd.jupyter.widget-view+json": {
       "model_id": "c44a0e4dfac84b14bf5d43376e8179b9",
       "version_major": 2,
       "version_minor": 0
      },
      "text/plain": [
       "HBox(children=(FloatProgress(value=0.0, description='Epoch 58/300', layout=Layout(flex='2'), max=1600.0, style…"
      ]
     },
     "metadata": {},
     "output_type": "display_data"
    },
    {
     "name": "stdout",
     "output_type": "stream",
     "text": [
      "Train step_400: loss : 0.0904553085565567\n",
      "QRS_acc: 0.8088\n",
      "Scoring complete.\n",
      "QRS_acc: 0.8208\n",
      "Scoring complete.\n",
      "\n",
      "                Train epoch_58:\n",
      "                --------------------\n",
      "                train/epoch_loss:        0.7048922777175903\n",
      "                train/qrs_score:         0.8088\n",
      "            \n",
      "                test/qrs_score:          0.8208\n",
      "                ---------------------------------\n",
      "            \n",
      "\n"
     ]
    },
    {
     "data": {
      "application/vnd.jupyter.widget-view+json": {
       "model_id": "e495a52bf87044b9b813051fc06af338",
       "version_major": 2,
       "version_minor": 0
      },
      "text/plain": [
       "HBox(children=(FloatProgress(value=0.0, description='Epoch 59/300', layout=Layout(flex='2'), max=1600.0, style…"
      ]
     },
     "metadata": {},
     "output_type": "display_data"
    },
    {
     "name": "stdout",
     "output_type": "stream",
     "text": [
      "QRS_acc: 0.8079\n",
      "Scoring complete.\n",
      "QRS_acc: 0.8208\n",
      "Scoring complete.\n",
      "\n",
      "                Train epoch_59:\n",
      "                --------------------\n",
      "                train/epoch_loss:        0.6959182843565941\n",
      "                train/qrs_score:         0.8079\n",
      "            \n",
      "                test/qrs_score:          0.8208\n",
      "                ---------------------------------\n",
      "            \n",
      "\n"
     ]
    },
    {
     "data": {
      "application/vnd.jupyter.widget-view+json": {
       "model_id": "ddce4339ad6e47fe8570c56f2c5b1010",
       "version_major": 2,
       "version_minor": 0
      },
      "text/plain": [
       "HBox(children=(FloatProgress(value=0.0, description='Epoch 60/300', layout=Layout(flex='2'), max=1600.0, style…"
      ]
     },
     "metadata": {},
     "output_type": "display_data"
    },
    {
     "name": "stdout",
     "output_type": "stream",
     "text": [
      "Train step_420: loss : 0.08117024600505829\n",
      "QRS_acc: 0.8083\n",
      "Scoring complete.\n",
      "QRS_acc: 0.8162\n",
      "Scoring complete.\n",
      "\n",
      "                Train epoch_60:\n",
      "                --------------------\n",
      "                train/epoch_loss:        0.6833347454667091\n",
      "                train/qrs_score:         0.8083\n",
      "            \n",
      "                test/qrs_score:          0.8162\n",
      "                ---------------------------------\n",
      "            \n",
      "\n"
     ]
    },
    {
     "data": {
      "application/vnd.jupyter.widget-view+json": {
       "model_id": "56a54c7ec3714cb597fbcc301dfc4403",
       "version_major": 2,
       "version_minor": 0
      },
      "text/plain": [
       "HBox(children=(FloatProgress(value=0.0, description='Epoch 61/300', layout=Layout(flex='2'), max=1600.0, style…"
      ]
     },
     "metadata": {},
     "output_type": "display_data"
    },
    {
     "name": "stdout",
     "output_type": "stream",
     "text": [
      "QRS_acc: 0.8041\n",
      "Scoring complete.\n",
      "QRS_acc: 0.8125\n",
      "Scoring complete.\n",
      "\n",
      "                Train epoch_61:\n",
      "                --------------------\n",
      "                train/epoch_loss:        0.700592078268528\n",
      "                train/qrs_score:         0.8041\n",
      "            \n",
      "                test/qrs_score:          0.8125\n",
      "                ---------------------------------\n",
      "            \n",
      "\n"
     ]
    },
    {
     "data": {
      "application/vnd.jupyter.widget-view+json": {
       "model_id": "83b2a5b27b7b4650821efaf594308fb7",
       "version_major": 2,
       "version_minor": 0
      },
      "text/plain": [
       "HBox(children=(FloatProgress(value=0.0, description='Epoch 62/300', layout=Layout(flex='2'), max=1600.0, style…"
      ]
     },
     "metadata": {},
     "output_type": "display_data"
    },
    {
     "name": "stdout",
     "output_type": "stream",
     "text": [
      "QRS_acc: 0.8078\n",
      "Scoring complete.\n",
      "QRS_acc: 0.814\n",
      "Scoring complete.\n",
      "\n",
      "                Train epoch_62:\n",
      "                --------------------\n",
      "                train/epoch_loss:        0.6957809329032898\n",
      "                train/qrs_score:         0.8078\n",
      "            \n",
      "                test/qrs_score:          0.814\n",
      "                ---------------------------------\n",
      "            \n",
      "\n"
     ]
    },
    {
     "data": {
      "application/vnd.jupyter.widget-view+json": {
       "model_id": "2fcd62741db2483e9b76b362a2839745",
       "version_major": 2,
       "version_minor": 0
      },
      "text/plain": [
       "HBox(children=(FloatProgress(value=0.0, description='Epoch 63/300', layout=Layout(flex='2'), max=1600.0, style…"
      ]
     },
     "metadata": {},
     "output_type": "display_data"
    },
    {
     "name": "stdout",
     "output_type": "stream",
     "text": [
      "Train step_440: loss : 0.09205111116170883\n",
      "QRS_acc: 0.8087\n",
      "Scoring complete.\n",
      "QRS_acc: 0.818\n",
      "Scoring complete.\n",
      "\n",
      "                Train epoch_63:\n",
      "                --------------------\n",
      "                train/epoch_loss:        0.6861143335700035\n",
      "                train/qrs_score:         0.8087\n",
      "            \n",
      "                test/qrs_score:          0.818\n",
      "                ---------------------------------\n",
      "            \n",
      "\n"
     ]
    },
    {
     "data": {
      "application/vnd.jupyter.widget-view+json": {
       "model_id": "f8180920e2d14ff9b7deb9c4e4a6ff87",
       "version_major": 2,
       "version_minor": 0
      },
      "text/plain": [
       "HBox(children=(FloatProgress(value=0.0, description='Epoch 64/300', layout=Layout(flex='2'), max=1600.0, style…"
      ]
     },
     "metadata": {},
     "output_type": "display_data"
    },
    {
     "name": "stdout",
     "output_type": "stream",
     "text": [
      "QRS_acc: 0.8075\n",
      "Scoring complete.\n",
      "QRS_acc: 0.8165\n",
      "Scoring complete.\n",
      "\n",
      "                Train epoch_64:\n",
      "                --------------------\n",
      "                train/epoch_loss:        0.685337170958519\n",
      "                train/qrs_score:         0.8075\n",
      "            \n",
      "                test/qrs_score:          0.8165\n",
      "                ---------------------------------\n",
      "            \n",
      "\n"
     ]
    },
    {
     "data": {
      "application/vnd.jupyter.widget-view+json": {
       "model_id": "1e5606aa907a4bf9aa84fc4f399df621",
       "version_major": 2,
       "version_minor": 0
      },
      "text/plain": [
       "HBox(children=(FloatProgress(value=0.0, description='Epoch 65/300', layout=Layout(flex='2'), max=1600.0, style…"
      ]
     },
     "metadata": {},
     "output_type": "display_data"
    },
    {
     "name": "stdout",
     "output_type": "stream",
     "text": [
      "QRS_acc: 0.8177\n",
      "Scoring complete.\n",
      "QRS_acc: 0.825\n",
      "Scoring complete.\n",
      "\n",
      "                Train epoch_65:\n",
      "                --------------------\n",
      "                train/epoch_loss:        0.6769788861274719\n",
      "                train/qrs_score:         0.8177\n",
      "            \n",
      "                test/qrs_score:          0.825\n",
      "                ---------------------------------\n",
      "            \n",
      "\n"
     ]
    },
    {
     "data": {
      "application/vnd.jupyter.widget-view+json": {
       "model_id": "1acba88d22ca453a89ee56127513d7ad",
       "version_major": 2,
       "version_minor": 0
      },
      "text/plain": [
       "HBox(children=(FloatProgress(value=0.0, description='Epoch 66/300', layout=Layout(flex='2'), max=1600.0, style…"
      ]
     },
     "metadata": {},
     "output_type": "display_data"
    },
    {
     "name": "stdout",
     "output_type": "stream",
     "text": [
      "Train step_460: loss : 0.10291474312543869\n",
      "QRS_acc: 0.8059\n",
      "Scoring complete.\n",
      "QRS_acc: 0.8172\n",
      "Scoring complete.\n",
      "\n",
      "                Train epoch_66:\n",
      "                --------------------\n",
      "                train/epoch_loss:        0.6741937547922134\n",
      "                train/qrs_score:         0.8059\n",
      "            \n",
      "                test/qrs_score:          0.8172\n",
      "                ---------------------------------\n",
      "            \n",
      "\n"
     ]
    },
    {
     "data": {
      "application/vnd.jupyter.widget-view+json": {
       "model_id": "31672f033f614f3e98b93b32341a28d0",
       "version_major": 2,
       "version_minor": 0
      },
      "text/plain": [
       "HBox(children=(FloatProgress(value=0.0, description='Epoch 67/300', layout=Layout(flex='2'), max=1600.0, style…"
      ]
     },
     "metadata": {},
     "output_type": "display_data"
    },
    {
     "name": "stdout",
     "output_type": "stream",
     "text": [
      "QRS_acc: 0.8171\n",
      "Scoring complete.\n",
      "QRS_acc: 0.822\n",
      "Scoring complete.\n",
      "\n",
      "                Train epoch_67:\n",
      "                --------------------\n",
      "                train/epoch_loss:        0.6780664026737213\n",
      "                train/qrs_score:         0.8171\n",
      "            \n",
      "                test/qrs_score:          0.822\n",
      "                ---------------------------------\n",
      "            \n",
      "\n"
     ]
    },
    {
     "data": {
      "application/vnd.jupyter.widget-view+json": {
       "model_id": "a109e1c30b094da2b627c8869cb85b38",
       "version_major": 2,
       "version_minor": 0
      },
      "text/plain": [
       "HBox(children=(FloatProgress(value=0.0, description='Epoch 68/300', layout=Layout(flex='2'), max=1600.0, style…"
      ]
     },
     "metadata": {},
     "output_type": "display_data"
    },
    {
     "name": "stdout",
     "output_type": "stream",
     "text": [
      "QRS_acc: 0.8169\n",
      "Scoring complete.\n",
      "QRS_acc: 0.82\n",
      "Scoring complete.\n",
      "\n",
      "                Train epoch_68:\n",
      "                --------------------\n",
      "                train/epoch_loss:        0.681447796523571\n",
      "                train/qrs_score:         0.8169\n",
      "            \n",
      "                test/qrs_score:          0.82\n",
      "                ---------------------------------\n",
      "            \n",
      "\n"
     ]
    },
    {
     "data": {
      "application/vnd.jupyter.widget-view+json": {
       "model_id": "da34dd4c447f4f9f8b82b9983180510b",
       "version_major": 2,
       "version_minor": 0
      },
      "text/plain": [
       "HBox(children=(FloatProgress(value=0.0, description='Epoch 69/300', layout=Layout(flex='2'), max=1600.0, style…"
      ]
     },
     "metadata": {},
     "output_type": "display_data"
    },
    {
     "name": "stdout",
     "output_type": "stream",
     "text": [
      "Train step_480: loss : 0.10184823721647263\n",
      "QRS_acc: 0.8157\n",
      "Scoring complete.\n",
      "QRS_acc: 0.8182\n",
      "Scoring complete.\n",
      "\n",
      "                Train epoch_69:\n",
      "                --------------------\n",
      "                train/epoch_loss:        0.677778035402298\n",
      "                train/qrs_score:         0.8157\n",
      "            \n",
      "                test/qrs_score:          0.8182\n",
      "                ---------------------------------\n",
      "            \n",
      "\n"
     ]
    },
    {
     "data": {
      "application/vnd.jupyter.widget-view+json": {
       "model_id": "07c0a8abc1624b1da8fd315e605bdc62",
       "version_major": 2,
       "version_minor": 0
      },
      "text/plain": [
       "HBox(children=(FloatProgress(value=0.0, description='Epoch 70/300', layout=Layout(flex='2'), max=1600.0, style…"
      ]
     },
     "metadata": {},
     "output_type": "display_data"
    },
    {
     "name": "stdout",
     "output_type": "stream",
     "text": [
      "QRS_acc: 0.8197\n",
      "Scoring complete.\n",
      "QRS_acc: 0.8222\n",
      "Scoring complete.\n",
      "\n",
      "                Train epoch_70:\n",
      "                --------------------\n",
      "                train/epoch_loss:        0.6598359122872353\n",
      "                train/qrs_score:         0.8197\n",
      "            \n",
      "                test/qrs_score:          0.8222\n",
      "                ---------------------------------\n",
      "            \n",
      "\n"
     ]
    },
    {
     "data": {
      "application/vnd.jupyter.widget-view+json": {
       "model_id": "a7cbb689d9a849ebb1e5926f428ba9d7",
       "version_major": 2,
       "version_minor": 0
      },
      "text/plain": [
       "HBox(children=(FloatProgress(value=0.0, description='Epoch 71/300', layout=Layout(flex='2'), max=1600.0, style…"
      ]
     },
     "metadata": {},
     "output_type": "display_data"
    },
    {
     "name": "stdout",
     "output_type": "stream",
     "text": [
      "QRS_acc: 0.8172\n",
      "Scoring complete.\n",
      "QRS_acc: 0.824\n",
      "Scoring complete.\n",
      "\n",
      "                Train epoch_71:\n",
      "                --------------------\n",
      "                train/epoch_loss:        0.6516588181257248\n",
      "                train/qrs_score:         0.8172\n",
      "            \n",
      "                test/qrs_score:          0.824\n",
      "                ---------------------------------\n",
      "            \n",
      "\n"
     ]
    },
    {
     "data": {
      "application/vnd.jupyter.widget-view+json": {
       "model_id": "06072912cf1041688ffb831c91268ac8",
       "version_major": 2,
       "version_minor": 0
      },
      "text/plain": [
       "HBox(children=(FloatProgress(value=0.0, description='Epoch 72/300', layout=Layout(flex='2'), max=1600.0, style…"
      ]
     },
     "metadata": {},
     "output_type": "display_data"
    },
    {
     "name": "stdout",
     "output_type": "stream",
     "text": [
      "Train step_500: loss : 0.08777494728565216\n",
      "QRS_acc: 0.8206\n",
      "Scoring complete.\n",
      "QRS_acc: 0.8207\n",
      "Scoring complete.\n",
      "\n",
      "                Train epoch_72:\n",
      "                --------------------\n",
      "                train/epoch_loss:        0.6541400924324989\n",
      "                train/qrs_score:         0.8206\n",
      "            \n",
      "                test/qrs_score:          0.8207\n",
      "                ---------------------------------\n",
      "            \n",
      "\n"
     ]
    },
    {
     "data": {
      "application/vnd.jupyter.widget-view+json": {
       "model_id": "9a251c298c6c446abeee3207cfe487b1",
       "version_major": 2,
       "version_minor": 0
      },
      "text/plain": [
       "HBox(children=(FloatProgress(value=0.0, description='Epoch 73/300', layout=Layout(flex='2'), max=1600.0, style…"
      ]
     },
     "metadata": {},
     "output_type": "display_data"
    },
    {
     "name": "stdout",
     "output_type": "stream",
     "text": [
      "QRS_acc: 0.8202\n",
      "Scoring complete.\n",
      "QRS_acc: 0.8168\n",
      "Scoring complete.\n",
      "\n",
      "                Train epoch_73:\n",
      "                --------------------\n",
      "                train/epoch_loss:        0.6546706259250641\n",
      "                train/qrs_score:         0.8202\n",
      "            \n",
      "                test/qrs_score:          0.8168\n",
      "                ---------------------------------\n",
      "            \n",
      "\n"
     ]
    },
    {
     "data": {
      "application/vnd.jupyter.widget-view+json": {
       "model_id": "66e18f4dbbbe474cbdce17974e607de4",
       "version_major": 2,
       "version_minor": 0
      },
      "text/plain": [
       "HBox(children=(FloatProgress(value=0.0, description='Epoch 74/300', layout=Layout(flex='2'), max=1600.0, style…"
      ]
     },
     "metadata": {},
     "output_type": "display_data"
    },
    {
     "name": "stdout",
     "output_type": "stream",
     "text": [
      "QRS_acc: 0.8138\n",
      "Scoring complete.\n",
      "QRS_acc: 0.8118\n",
      "Scoring complete.\n",
      "\n",
      "                Train epoch_74:\n",
      "                --------------------\n",
      "                train/epoch_loss:        0.6585879027843475\n",
      "                train/qrs_score:         0.8138\n",
      "            \n",
      "                test/qrs_score:          0.8118\n",
      "                ---------------------------------\n",
      "            \n",
      "\n"
     ]
    },
    {
     "data": {
      "application/vnd.jupyter.widget-view+json": {
       "model_id": "1939e67b9c7e40f59ee09120714dbc3c",
       "version_major": 2,
       "version_minor": 0
      },
      "text/plain": [
       "HBox(children=(FloatProgress(value=0.0, description='Epoch 75/300', layout=Layout(flex='2'), max=1600.0, style…"
      ]
     },
     "metadata": {},
     "output_type": "display_data"
    },
    {
     "name": "stdout",
     "output_type": "stream",
     "text": [
      "Train step_520: loss : 0.09120753407478333\n",
      "QRS_acc: 0.8196\n",
      "Scoring complete.\n",
      "QRS_acc: 0.8232\n",
      "Scoring complete.\n",
      "\n",
      "                Train epoch_75:\n",
      "                --------------------\n",
      "                train/epoch_loss:        0.663955070078373\n",
      "                train/qrs_score:         0.8196\n",
      "            \n",
      "                test/qrs_score:          0.8232\n",
      "                ---------------------------------\n",
      "            \n",
      "\n"
     ]
    },
    {
     "data": {
      "application/vnd.jupyter.widget-view+json": {
       "model_id": "5d8300ec4dc54064bb45d6883ec016df",
       "version_major": 2,
       "version_minor": 0
      },
      "text/plain": [
       "HBox(children=(FloatProgress(value=0.0, description='Epoch 76/300', layout=Layout(flex='2'), max=1600.0, style…"
      ]
     },
     "metadata": {},
     "output_type": "display_data"
    },
    {
     "name": "stdout",
     "output_type": "stream",
     "text": [
      "QRS_acc: 0.8179\n",
      "Scoring complete.\n",
      "QRS_acc: 0.8188\n",
      "Scoring complete.\n",
      "\n",
      "                Train epoch_76:\n",
      "                --------------------\n",
      "                train/epoch_loss:        0.6577273607254028\n",
      "                train/qrs_score:         0.8179\n",
      "            \n",
      "                test/qrs_score:          0.8188\n",
      "                ---------------------------------\n",
      "            \n",
      "\n"
     ]
    },
    {
     "data": {
      "application/vnd.jupyter.widget-view+json": {
       "model_id": "0c361141a7a346019d2781345369502c",
       "version_major": 2,
       "version_minor": 0
      },
      "text/plain": [
       "HBox(children=(FloatProgress(value=0.0, description='Epoch 77/300', layout=Layout(flex='2'), max=1600.0, style…"
      ]
     },
     "metadata": {},
     "output_type": "display_data"
    },
    {
     "name": "stdout",
     "output_type": "stream",
     "text": [
      "QRS_acc: 0.8212\n",
      "Scoring complete.\n",
      "QRS_acc: 0.823\n",
      "Scoring complete.\n",
      "\n",
      "                Train epoch_77:\n",
      "                --------------------\n",
      "                train/epoch_loss:        0.6602796986699104\n",
      "                train/qrs_score:         0.8212\n",
      "            \n",
      "                test/qrs_score:          0.823\n",
      "                ---------------------------------\n",
      "            \n",
      "\n"
     ]
    },
    {
     "data": {
      "application/vnd.jupyter.widget-view+json": {
       "model_id": "d5801ade05e141539ae4c2c9db0e802c",
       "version_major": 2,
       "version_minor": 0
      },
      "text/plain": [
       "HBox(children=(FloatProgress(value=0.0, description='Epoch 78/300', layout=Layout(flex='2'), max=1600.0, style…"
      ]
     },
     "metadata": {},
     "output_type": "display_data"
    },
    {
     "name": "stdout",
     "output_type": "stream",
     "text": [
      "Train step_540: loss : 0.08323200047016144\n",
      "QRS_acc: 0.8207\n",
      "Scoring complete.\n",
      "QRS_acc: 0.828\n",
      "Scoring complete.\n",
      "\n",
      "                Train epoch_78:\n",
      "                --------------------\n",
      "                train/epoch_loss:        0.6591628789901733\n",
      "                train/qrs_score:         0.8207\n",
      "            \n",
      "                test/qrs_score:          0.828\n",
      "                ---------------------------------\n",
      "            \n",
      "\n"
     ]
    },
    {
     "data": {
      "application/vnd.jupyter.widget-view+json": {
       "model_id": "0a2aec9f7d5b4bd0b6f63f9418663faf",
       "version_major": 2,
       "version_minor": 0
      },
      "text/plain": [
       "HBox(children=(FloatProgress(value=0.0, description='Epoch 79/300', layout=Layout(flex='2'), max=1600.0, style…"
      ]
     },
     "metadata": {},
     "output_type": "display_data"
    },
    {
     "name": "stdout",
     "output_type": "stream",
     "text": [
      "QRS_acc: 0.8282\n",
      "Scoring complete.\n",
      "QRS_acc: 0.829\n",
      "Scoring complete.\n",
      "\n",
      "                Train epoch_79:\n",
      "                --------------------\n",
      "                train/epoch_loss:        0.6513076722621918\n",
      "                train/qrs_score:         0.8282\n",
      "            \n",
      "                test/qrs_score:          0.829\n",
      "                ---------------------------------\n",
      "            \n",
      "\n"
     ]
    },
    {
     "data": {
      "application/vnd.jupyter.widget-view+json": {
       "model_id": "511c6b04eafe458481f8a54eef23867b",
       "version_major": 2,
       "version_minor": 0
      },
      "text/plain": [
       "HBox(children=(FloatProgress(value=0.0, description='Epoch 80/300', layout=Layout(flex='2'), max=1600.0, style…"
      ]
     },
     "metadata": {},
     "output_type": "display_data"
    },
    {
     "name": "stdout",
     "output_type": "stream",
     "text": [
      "Train step_560: loss : 0.0879131481051445\n",
      "QRS_acc: 0.8257\n",
      "Scoring complete.\n",
      "QRS_acc: 0.8255\n",
      "Scoring complete.\n",
      "\n",
      "                Train epoch_80:\n",
      "                --------------------\n",
      "                train/epoch_loss:        0.6457359194755554\n",
      "                train/qrs_score:         0.8257\n",
      "            \n",
      "                test/qrs_score:          0.8255\n",
      "                ---------------------------------\n",
      "            \n",
      "\n"
     ]
    },
    {
     "data": {
      "application/vnd.jupyter.widget-view+json": {
       "model_id": "bc1f35a2ce2a44839bd7612c47215cff",
       "version_major": 2,
       "version_minor": 0
      },
      "text/plain": [
       "HBox(children=(FloatProgress(value=0.0, description='Epoch 81/300', layout=Layout(flex='2'), max=1600.0, style…"
      ]
     },
     "metadata": {},
     "output_type": "display_data"
    },
    {
     "name": "stdout",
     "output_type": "stream",
     "text": [
      "QRS_acc: 0.8277\n",
      "Scoring complete.\n",
      "QRS_acc: 0.824\n",
      "Scoring complete.\n",
      "\n",
      "                Train epoch_81:\n",
      "                --------------------\n",
      "                train/epoch_loss:        0.6430112570524216\n",
      "                train/qrs_score:         0.8277\n",
      "            \n",
      "                test/qrs_score:          0.824\n",
      "                ---------------------------------\n",
      "            \n",
      "\n"
     ]
    },
    {
     "data": {
      "application/vnd.jupyter.widget-view+json": {
       "model_id": "dbca5d885ee84e609b12eb60a5840a89",
       "version_major": 2,
       "version_minor": 0
      },
      "text/plain": [
       "HBox(children=(FloatProgress(value=0.0, description='Epoch 82/300', layout=Layout(flex='2'), max=1600.0, style…"
      ]
     },
     "metadata": {},
     "output_type": "display_data"
    },
    {
     "name": "stdout",
     "output_type": "stream",
     "text": [
      "QRS_acc: 0.8297\n",
      "Scoring complete.\n",
      "QRS_acc: 0.8238\n",
      "Scoring complete.\n",
      "\n",
      "                Train epoch_82:\n",
      "                --------------------\n",
      "                train/epoch_loss:        0.6315346881747246\n",
      "                train/qrs_score:         0.8297\n",
      "            \n",
      "                test/qrs_score:          0.8238\n",
      "                ---------------------------------\n",
      "            \n",
      "\n"
     ]
    },
    {
     "data": {
      "application/vnd.jupyter.widget-view+json": {
       "model_id": "137b487f0fc34e62a98ba5f6db93b1c6",
       "version_major": 2,
       "version_minor": 0
      },
      "text/plain": [
       "HBox(children=(FloatProgress(value=0.0, description='Epoch 83/300', layout=Layout(flex='2'), max=1600.0, style…"
      ]
     },
     "metadata": {},
     "output_type": "display_data"
    },
    {
     "name": "stdout",
     "output_type": "stream",
     "text": [
      "Train step_580: loss : 0.09042160212993622\n",
      "QRS_acc: 0.8253\n",
      "Scoring complete.\n",
      "QRS_acc: 0.8275\n",
      "Scoring complete.\n",
      "\n",
      "                Train epoch_83:\n",
      "                --------------------\n",
      "                train/epoch_loss:        0.6420393735170364\n",
      "                train/qrs_score:         0.8253\n",
      "            \n",
      "                test/qrs_score:          0.8275\n",
      "                ---------------------------------\n",
      "            \n",
      "\n"
     ]
    },
    {
     "data": {
      "application/vnd.jupyter.widget-view+json": {
       "model_id": "5349377fc48a4758859bc779220e2733",
       "version_major": 2,
       "version_minor": 0
      },
      "text/plain": [
       "HBox(children=(FloatProgress(value=0.0, description='Epoch 84/300', layout=Layout(flex='2'), max=1600.0, style…"
      ]
     },
     "metadata": {},
     "output_type": "display_data"
    },
    {
     "name": "stdout",
     "output_type": "stream",
     "text": [
      "QRS_acc: 0.8253\n",
      "Scoring complete.\n",
      "QRS_acc: 0.8172\n",
      "Scoring complete.\n",
      "\n",
      "                Train epoch_84:\n",
      "                --------------------\n",
      "                train/epoch_loss:        0.6515188813209534\n",
      "                train/qrs_score:         0.8253\n",
      "            \n",
      "                test/qrs_score:          0.8172\n",
      "                ---------------------------------\n",
      "            \n",
      "\n"
     ]
    },
    {
     "data": {
      "application/vnd.jupyter.widget-view+json": {
       "model_id": "8f013e15743348f6ab058790b8ca7245",
       "version_major": 2,
       "version_minor": 0
      },
      "text/plain": [
       "HBox(children=(FloatProgress(value=0.0, description='Epoch 85/300', layout=Layout(flex='2'), max=1600.0, style…"
      ]
     },
     "metadata": {},
     "output_type": "display_data"
    },
    {
     "name": "stdout",
     "output_type": "stream",
     "text": [
      "QRS_acc: 0.8281\n",
      "Scoring complete.\n",
      "QRS_acc: 0.8245\n",
      "Scoring complete.\n",
      "\n",
      "                Train epoch_85:\n",
      "                --------------------\n",
      "                train/epoch_loss:        0.6506054848432541\n",
      "                train/qrs_score:         0.8281\n",
      "            \n",
      "                test/qrs_score:          0.8245\n",
      "                ---------------------------------\n",
      "            \n",
      "\n"
     ]
    },
    {
     "data": {
      "application/vnd.jupyter.widget-view+json": {
       "model_id": "3e83d65feec74cd4800483bd7ab4cc28",
       "version_major": 2,
       "version_minor": 0
      },
      "text/plain": [
       "HBox(children=(FloatProgress(value=0.0, description='Epoch 86/300', layout=Layout(flex='2'), max=1600.0, style…"
      ]
     },
     "metadata": {},
     "output_type": "display_data"
    },
    {
     "name": "stdout",
     "output_type": "stream",
     "text": [
      "Train step_600: loss : 0.0942978635430336\n",
      "QRS_acc: 0.8306\n",
      "Scoring complete.\n",
      "QRS_acc: 0.8325\n",
      "Scoring complete.\n",
      "\n",
      "                Train epoch_86:\n",
      "                --------------------\n",
      "                train/epoch_loss:        0.626012422144413\n",
      "                train/qrs_score:         0.8306\n",
      "            \n",
      "                test/qrs_score:          0.8325\n",
      "                ---------------------------------\n",
      "            \n",
      "\n"
     ]
    },
    {
     "data": {
      "application/vnd.jupyter.widget-view+json": {
       "model_id": "21888d8b35ea4b1cb419333292d742e1",
       "version_major": 2,
       "version_minor": 0
      },
      "text/plain": [
       "HBox(children=(FloatProgress(value=0.0, description='Epoch 87/300', layout=Layout(flex='2'), max=1600.0, style…"
      ]
     },
     "metadata": {},
     "output_type": "display_data"
    },
    {
     "name": "stdout",
     "output_type": "stream",
     "text": [
      "QRS_acc: 0.8292\n",
      "Scoring complete.\n",
      "QRS_acc: 0.8255\n",
      "Scoring complete.\n",
      "\n",
      "                Train epoch_87:\n",
      "                --------------------\n",
      "                train/epoch_loss:        0.629935160279274\n",
      "                train/qrs_score:         0.8292\n",
      "            \n",
      "                test/qrs_score:          0.8255\n",
      "                ---------------------------------\n",
      "            \n",
      "\n"
     ]
    },
    {
     "data": {
      "application/vnd.jupyter.widget-view+json": {
       "model_id": "c86ea9339d434e6d81a6409887717fd7",
       "version_major": 2,
       "version_minor": 0
      },
      "text/plain": [
       "HBox(children=(FloatProgress(value=0.0, description='Epoch 88/300', layout=Layout(flex='2'), max=1600.0, style…"
      ]
     },
     "metadata": {},
     "output_type": "display_data"
    },
    {
     "name": "stdout",
     "output_type": "stream",
     "text": [
      "QRS_acc: 0.8289\n",
      "Scoring complete.\n",
      "QRS_acc: 0.8272\n",
      "Scoring complete.\n",
      "\n",
      "                Train epoch_88:\n",
      "                --------------------\n",
      "                train/epoch_loss:        0.623423345386982\n",
      "                train/qrs_score:         0.8289\n",
      "            \n",
      "                test/qrs_score:          0.8272\n",
      "                ---------------------------------\n",
      "            \n",
      "\n"
     ]
    },
    {
     "data": {
      "application/vnd.jupyter.widget-view+json": {
       "model_id": "2786e1740e9242b089afa0a31a73bf70",
       "version_major": 2,
       "version_minor": 0
      },
      "text/plain": [
       "HBox(children=(FloatProgress(value=0.0, description='Epoch 89/300', layout=Layout(flex='2'), max=1600.0, style…"
      ]
     },
     "metadata": {},
     "output_type": "display_data"
    },
    {
     "name": "stdout",
     "output_type": "stream",
     "text": [
      "Train step_620: loss : 0.09697920829057693\n",
      "QRS_acc: 0.8278\n",
      "Scoring complete.\n",
      "QRS_acc: 0.8258\n",
      "Scoring complete.\n",
      "\n",
      "                Train epoch_89:\n",
      "                --------------------\n",
      "                train/epoch_loss:        0.631956197321415\n",
      "                train/qrs_score:         0.8278\n",
      "            \n",
      "                test/qrs_score:          0.8258\n",
      "                ---------------------------------\n",
      "            \n",
      "\n"
     ]
    },
    {
     "data": {
      "application/vnd.jupyter.widget-view+json": {
       "model_id": "6024f65642c84342b30e782aae7421d2",
       "version_major": 2,
       "version_minor": 0
      },
      "text/plain": [
       "HBox(children=(FloatProgress(value=0.0, description='Epoch 90/300', layout=Layout(flex='2'), max=1600.0, style…"
      ]
     },
     "metadata": {},
     "output_type": "display_data"
    },
    {
     "name": "stdout",
     "output_type": "stream",
     "text": [
      "QRS_acc: 0.8322\n",
      "Scoring complete.\n",
      "QRS_acc: 0.8278\n",
      "Scoring complete.\n",
      "\n",
      "                Train epoch_90:\n",
      "                --------------------\n",
      "                train/epoch_loss:        0.6400971785187721\n",
      "                train/qrs_score:         0.8322\n",
      "            \n",
      "                test/qrs_score:          0.8278\n",
      "                ---------------------------------\n",
      "            \n",
      "\n"
     ]
    },
    {
     "data": {
      "application/vnd.jupyter.widget-view+json": {
       "model_id": "8c03ac78b9784cc5be94afacb2382267",
       "version_major": 2,
       "version_minor": 0
      },
      "text/plain": [
       "HBox(children=(FloatProgress(value=0.0, description='Epoch 91/300', layout=Layout(flex='2'), max=1600.0, style…"
      ]
     },
     "metadata": {},
     "output_type": "display_data"
    },
    {
     "name": "stdout",
     "output_type": "stream",
     "text": [
      "QRS_acc: 0.8291\n",
      "Scoring complete.\n",
      "QRS_acc: 0.8262\n",
      "Scoring complete.\n",
      "\n",
      "                Train epoch_91:\n",
      "                --------------------\n",
      "                train/epoch_loss:        0.6345042660832405\n",
      "                train/qrs_score:         0.8291\n",
      "            \n",
      "                test/qrs_score:          0.8262\n",
      "                ---------------------------------\n",
      "            \n",
      "\n"
     ]
    },
    {
     "data": {
      "application/vnd.jupyter.widget-view+json": {
       "model_id": "5fdd49efb9564846a388cde5f6852e28",
       "version_major": 2,
       "version_minor": 0
      },
      "text/plain": [
       "HBox(children=(FloatProgress(value=0.0, description='Epoch 92/300', layout=Layout(flex='2'), max=1600.0, style…"
      ]
     },
     "metadata": {},
     "output_type": "display_data"
    },
    {
     "name": "stdout",
     "output_type": "stream",
     "text": [
      "Train step_640: loss : 0.09011749923229218\n",
      "QRS_acc: 0.8303\n",
      "Scoring complete.\n",
      "QRS_acc: 0.8362\n",
      "Scoring complete.\n",
      "\n",
      "                Train epoch_92:\n",
      "                --------------------\n",
      "                train/epoch_loss:        0.6189234033226967\n",
      "                train/qrs_score:         0.8303\n",
      "            \n",
      "                test/qrs_score:          0.8362\n",
      "                ---------------------------------\n",
      "            \n",
      "\n"
     ]
    },
    {
     "data": {
      "application/vnd.jupyter.widget-view+json": {
       "model_id": "7063e23d73504eaaac3b58d2c711cc56",
       "version_major": 2,
       "version_minor": 0
      },
      "text/plain": [
       "HBox(children=(FloatProgress(value=0.0, description='Epoch 93/300', layout=Layout(flex='2'), max=1600.0, style…"
      ]
     },
     "metadata": {},
     "output_type": "display_data"
    },
    {
     "name": "stdout",
     "output_type": "stream",
     "text": [
      "QRS_acc: 0.8311\n",
      "Scoring complete.\n",
      "QRS_acc: 0.8298\n",
      "Scoring complete.\n",
      "\n",
      "                Train epoch_93:\n",
      "                --------------------\n",
      "                train/epoch_loss:        0.6464427784085274\n",
      "                train/qrs_score:         0.8311\n",
      "            \n",
      "                test/qrs_score:          0.8298\n",
      "                ---------------------------------\n",
      "            \n",
      "\n"
     ]
    },
    {
     "data": {
      "application/vnd.jupyter.widget-view+json": {
       "model_id": "b9dba350af94407f9eefa142c223c1c3",
       "version_major": 2,
       "version_minor": 0
      },
      "text/plain": [
       "HBox(children=(FloatProgress(value=0.0, description='Epoch 94/300', layout=Layout(flex='2'), max=1600.0, style…"
      ]
     },
     "metadata": {},
     "output_type": "display_data"
    },
    {
     "name": "stdout",
     "output_type": "stream",
     "text": [
      "QRS_acc: 0.8353\n",
      "Scoring complete.\n",
      "QRS_acc: 0.8248\n",
      "Scoring complete.\n",
      "\n",
      "                Train epoch_94:\n",
      "                --------------------\n",
      "                train/epoch_loss:        0.6165308728814125\n",
      "                train/qrs_score:         0.8353\n",
      "            \n",
      "                test/qrs_score:          0.8248\n",
      "                ---------------------------------\n",
      "            \n",
      "\n"
     ]
    },
    {
     "data": {
      "application/vnd.jupyter.widget-view+json": {
       "model_id": "eaf30a723126493cacd3ffc1c42ff4cb",
       "version_major": 2,
       "version_minor": 0
      },
      "text/plain": [
       "HBox(children=(FloatProgress(value=0.0, description='Epoch 95/300', layout=Layout(flex='2'), max=1600.0, style…"
      ]
     },
     "metadata": {},
     "output_type": "display_data"
    },
    {
     "name": "stdout",
     "output_type": "stream",
     "text": [
      "Train step_660: loss : 0.08802589774131775\n",
      "QRS_acc: 0.8349\n",
      "Scoring complete.\n",
      "QRS_acc: 0.8335\n",
      "Scoring complete.\n",
      "\n",
      "                Train epoch_95:\n",
      "                --------------------\n",
      "                train/epoch_loss:        0.6271699666976929\n",
      "                train/qrs_score:         0.8349\n",
      "            \n",
      "                test/qrs_score:          0.8335\n",
      "                ---------------------------------\n",
      "            \n",
      "\n"
     ]
    },
    {
     "data": {
      "application/vnd.jupyter.widget-view+json": {
       "model_id": "68c04e12b6cc435fa260365597865cd0",
       "version_major": 2,
       "version_minor": 0
      },
      "text/plain": [
       "HBox(children=(FloatProgress(value=0.0, description='Epoch 96/300', layout=Layout(flex='2'), max=1600.0, style…"
      ]
     },
     "metadata": {},
     "output_type": "display_data"
    },
    {
     "name": "stdout",
     "output_type": "stream",
     "text": [
      "QRS_acc: 0.8322\n",
      "Scoring complete.\n",
      "QRS_acc: 0.8248\n",
      "Scoring complete.\n",
      "\n",
      "                Train epoch_96:\n",
      "                --------------------\n",
      "                train/epoch_loss:        0.6268452405929565\n",
      "                train/qrs_score:         0.8322\n",
      "            \n",
      "                test/qrs_score:          0.8248\n",
      "                ---------------------------------\n",
      "            \n",
      "\n"
     ]
    },
    {
     "data": {
      "application/vnd.jupyter.widget-view+json": {
       "model_id": "ee778fc7ff744d3cbaca784d91fb1e5d",
       "version_major": 2,
       "version_minor": 0
      },
      "text/plain": [
       "HBox(children=(FloatProgress(value=0.0, description='Epoch 97/300', layout=Layout(flex='2'), max=1600.0, style…"
      ]
     },
     "metadata": {},
     "output_type": "display_data"
    },
    {
     "name": "stdout",
     "output_type": "stream",
     "text": [
      "QRS_acc: 0.8426\n",
      "Scoring complete.\n",
      "QRS_acc: 0.8325\n",
      "Scoring complete.\n",
      "\n",
      "                Train epoch_97:\n",
      "                --------------------\n",
      "                train/epoch_loss:        0.6029850840568542\n",
      "                train/qrs_score:         0.8426\n",
      "            \n",
      "                test/qrs_score:          0.8325\n",
      "                ---------------------------------\n",
      "            \n",
      "\n"
     ]
    },
    {
     "data": {
      "application/vnd.jupyter.widget-view+json": {
       "model_id": "1742c3edb42b4e8883c7e75412dbdda0",
       "version_major": 2,
       "version_minor": 0
      },
      "text/plain": [
       "HBox(children=(FloatProgress(value=0.0, description='Epoch 98/300', layout=Layout(flex='2'), max=1600.0, style…"
      ]
     },
     "metadata": {},
     "output_type": "display_data"
    },
    {
     "name": "stdout",
     "output_type": "stream",
     "text": [
      "Train step_680: loss : 0.09723858535289764\n",
      "QRS_acc: 0.8374\n",
      "Scoring complete.\n",
      "QRS_acc: 0.8338\n",
      "Scoring complete.\n",
      "\n",
      "                Train epoch_98:\n",
      "                --------------------\n",
      "                train/epoch_loss:        0.6240435466170311\n",
      "                train/qrs_score:         0.8374\n",
      "            \n",
      "                test/qrs_score:          0.8338\n",
      "                ---------------------------------\n",
      "            \n",
      "\n"
     ]
    },
    {
     "data": {
      "application/vnd.jupyter.widget-view+json": {
       "model_id": "c604f6d4ff62487c937bcbbfb9ba7272",
       "version_major": 2,
       "version_minor": 0
      },
      "text/plain": [
       "HBox(children=(FloatProgress(value=0.0, description='Epoch 99/300', layout=Layout(flex='2'), max=1600.0, style…"
      ]
     },
     "metadata": {},
     "output_type": "display_data"
    },
    {
     "name": "stdout",
     "output_type": "stream",
     "text": [
      "QRS_acc: 0.8388\n",
      "Scoring complete.\n",
      "QRS_acc: 0.8322\n",
      "Scoring complete.\n",
      "\n",
      "                Train epoch_99:\n",
      "                --------------------\n",
      "                train/epoch_loss:        0.6197448894381523\n",
      "                train/qrs_score:         0.8388\n",
      "            \n",
      "                test/qrs_score:          0.8322\n",
      "                ---------------------------------\n",
      "            \n",
      "\n"
     ]
    },
    {
     "data": {
      "application/vnd.jupyter.widget-view+json": {
       "model_id": "a472e759d7a1415b80de10066cc2c40c",
       "version_major": 2,
       "version_minor": 0
      },
      "text/plain": [
       "HBox(children=(FloatProgress(value=0.0, description='Epoch 100/300', layout=Layout(flex='2'), max=1600.0, styl…"
      ]
     },
     "metadata": {},
     "output_type": "display_data"
    },
    {
     "name": "stdout",
     "output_type": "stream",
     "text": [
      "Train step_700: loss : 0.07775916904211044\n",
      "QRS_acc: 0.8415\n",
      "Scoring complete.\n",
      "QRS_acc: 0.8272\n",
      "Scoring complete.\n",
      "\n",
      "                Train epoch_100:\n",
      "                --------------------\n",
      "                train/epoch_loss:        0.6014772579073906\n",
      "                train/qrs_score:         0.8415\n",
      "            \n",
      "                test/qrs_score:          0.8272\n",
      "                ---------------------------------\n",
      "            \n",
      "\n"
     ]
    },
    {
     "data": {
      "application/vnd.jupyter.widget-view+json": {
       "model_id": "1d5e433fa1e64f80a773ee8ae5ecb93d",
       "version_major": 2,
       "version_minor": 0
      },
      "text/plain": [
       "HBox(children=(FloatProgress(value=0.0, description='Epoch 101/300', layout=Layout(flex='2'), max=1600.0, styl…"
      ]
     },
     "metadata": {},
     "output_type": "display_data"
    },
    {
     "name": "stdout",
     "output_type": "stream",
     "text": [
      "QRS_acc: 0.8397\n",
      "Scoring complete.\n",
      "QRS_acc: 0.8338\n",
      "Scoring complete.\n",
      "\n",
      "                Train epoch_101:\n",
      "                --------------------\n",
      "                train/epoch_loss:        0.5980693697929382\n",
      "                train/qrs_score:         0.8397\n",
      "            \n",
      "                test/qrs_score:          0.8338\n",
      "                ---------------------------------\n",
      "            \n",
      "\n"
     ]
    },
    {
     "data": {
      "application/vnd.jupyter.widget-view+json": {
       "model_id": "b888dad843a34d2693901c587e4462ce",
       "version_major": 2,
       "version_minor": 0
      },
      "text/plain": [
       "HBox(children=(FloatProgress(value=0.0, description='Epoch 102/300', layout=Layout(flex='2'), max=1600.0, styl…"
      ]
     },
     "metadata": {},
     "output_type": "display_data"
    },
    {
     "name": "stdout",
     "output_type": "stream",
     "text": [
      "QRS_acc: 0.8391\n",
      "Scoring complete.\n",
      "QRS_acc: 0.8368\n",
      "Scoring complete.\n",
      "\n",
      "                Train epoch_102:\n",
      "                --------------------\n",
      "                train/epoch_loss:        0.6026696935296059\n",
      "                train/qrs_score:         0.8391\n",
      "            \n",
      "                test/qrs_score:          0.8368\n",
      "                ---------------------------------\n",
      "            \n",
      "\n"
     ]
    },
    {
     "data": {
      "application/vnd.jupyter.widget-view+json": {
       "model_id": "6810bdae5e6e43fa941a479ee94d7262",
       "version_major": 2,
       "version_minor": 0
      },
      "text/plain": [
       "HBox(children=(FloatProgress(value=0.0, description='Epoch 103/300', layout=Layout(flex='2'), max=1600.0, styl…"
      ]
     },
     "metadata": {},
     "output_type": "display_data"
    },
    {
     "name": "stdout",
     "output_type": "stream",
     "text": [
      "Train step_720: loss : 0.08865391463041306\n",
      "QRS_acc: 0.8419\n",
      "Scoring complete.\n",
      "QRS_acc: 0.8362\n",
      "Scoring complete.\n",
      "\n",
      "                Train epoch_103:\n",
      "                --------------------\n",
      "                train/epoch_loss:        0.6129772514104843\n",
      "                train/qrs_score:         0.8419\n",
      "            \n",
      "                test/qrs_score:          0.8362\n",
      "                ---------------------------------\n",
      "            \n",
      "\n"
     ]
    },
    {
     "data": {
      "application/vnd.jupyter.widget-view+json": {
       "model_id": "60f215798d304915a63f95b9aefdbf31",
       "version_major": 2,
       "version_minor": 0
      },
      "text/plain": [
       "HBox(children=(FloatProgress(value=0.0, description='Epoch 104/300', layout=Layout(flex='2'), max=1600.0, styl…"
      ]
     },
     "metadata": {},
     "output_type": "display_data"
    },
    {
     "name": "stdout",
     "output_type": "stream",
     "text": [
      "QRS_acc: 0.8456\n",
      "Scoring complete.\n",
      "QRS_acc: 0.8355\n",
      "Scoring complete.\n",
      "\n",
      "                Train epoch_104:\n",
      "                --------------------\n",
      "                train/epoch_loss:        0.602387472987175\n",
      "                train/qrs_score:         0.8456\n",
      "            \n",
      "                test/qrs_score:          0.8355\n",
      "                ---------------------------------\n",
      "            \n",
      "\n"
     ]
    },
    {
     "data": {
      "application/vnd.jupyter.widget-view+json": {
       "model_id": "db4b5971d9894cf99b4e72c92339eaee",
       "version_major": 2,
       "version_minor": 0
      },
      "text/plain": [
       "HBox(children=(FloatProgress(value=0.0, description='Epoch 105/300', layout=Layout(flex='2'), max=1600.0, styl…"
      ]
     },
     "metadata": {},
     "output_type": "display_data"
    },
    {
     "name": "stdout",
     "output_type": "stream",
     "text": [
      "QRS_acc: 0.8443\n",
      "Scoring complete.\n",
      "QRS_acc: 0.8365\n",
      "Scoring complete.\n",
      "\n",
      "                Train epoch_105:\n",
      "                --------------------\n",
      "                train/epoch_loss:        0.6018082052469254\n",
      "                train/qrs_score:         0.8443\n",
      "            \n",
      "                test/qrs_score:          0.8365\n",
      "                ---------------------------------\n",
      "            \n",
      "\n"
     ]
    },
    {
     "data": {
      "application/vnd.jupyter.widget-view+json": {
       "model_id": "720b3ee685244651a8f1d638b2a24d3b",
       "version_major": 2,
       "version_minor": 0
      },
      "text/plain": [
       "HBox(children=(FloatProgress(value=0.0, description='Epoch 106/300', layout=Layout(flex='2'), max=1600.0, styl…"
      ]
     },
     "metadata": {},
     "output_type": "display_data"
    },
    {
     "name": "stdout",
     "output_type": "stream",
     "text": [
      "Train step_740: loss : 0.08321872353553772\n",
      "QRS_acc: 0.8446\n",
      "Scoring complete.\n",
      "QRS_acc: 0.8348\n",
      "Scoring complete.\n",
      "\n",
      "                Train epoch_106:\n",
      "                --------------------\n",
      "                train/epoch_loss:        0.5976020768284798\n",
      "                train/qrs_score:         0.8446\n",
      "            \n",
      "                test/qrs_score:          0.8348\n",
      "                ---------------------------------\n",
      "            \n",
      "\n"
     ]
    },
    {
     "data": {
      "application/vnd.jupyter.widget-view+json": {
       "model_id": "0a0ad383a7684d688c103a6f65cc89ee",
       "version_major": 2,
       "version_minor": 0
      },
      "text/plain": [
       "HBox(children=(FloatProgress(value=0.0, description='Epoch 107/300', layout=Layout(flex='2'), max=1600.0, styl…"
      ]
     },
     "metadata": {},
     "output_type": "display_data"
    },
    {
     "name": "stdout",
     "output_type": "stream",
     "text": [
      "QRS_acc: 0.8406\n",
      "Scoring complete.\n",
      "QRS_acc: 0.835\n",
      "Scoring complete.\n",
      "\n",
      "                Train epoch_107:\n",
      "                --------------------\n",
      "                train/epoch_loss:        0.6009132266044617\n",
      "                train/qrs_score:         0.8406\n",
      "            \n",
      "                test/qrs_score:          0.835\n",
      "                ---------------------------------\n",
      "            \n",
      "\n"
     ]
    },
    {
     "data": {
      "application/vnd.jupyter.widget-view+json": {
       "model_id": "abd1a6b0f7be4f54aca3bb7fa3f6effe",
       "version_major": 2,
       "version_minor": 0
      },
      "text/plain": [
       "HBox(children=(FloatProgress(value=0.0, description='Epoch 108/300', layout=Layout(flex='2'), max=1600.0, styl…"
      ]
     },
     "metadata": {},
     "output_type": "display_data"
    },
    {
     "name": "stdout",
     "output_type": "stream",
     "text": [
      "QRS_acc: 0.8442\n",
      "Scoring complete.\n",
      "QRS_acc: 0.834\n",
      "Scoring complete.\n",
      "\n",
      "                Train epoch_108:\n",
      "                --------------------\n",
      "                train/epoch_loss:        0.5979456454515457\n",
      "                train/qrs_score:         0.8442\n",
      "            \n",
      "                test/qrs_score:          0.834\n",
      "                ---------------------------------\n",
      "            \n",
      "\n"
     ]
    },
    {
     "data": {
      "application/vnd.jupyter.widget-view+json": {
       "model_id": "601a0333b379445eab90acd21b596e63",
       "version_major": 2,
       "version_minor": 0
      },
      "text/plain": [
       "HBox(children=(FloatProgress(value=0.0, description='Epoch 109/300', layout=Layout(flex='2'), max=1600.0, styl…"
      ]
     },
     "metadata": {},
     "output_type": "display_data"
    },
    {
     "name": "stdout",
     "output_type": "stream",
     "text": [
      "Train step_760: loss : 0.08662503212690353\n",
      "QRS_acc: 0.8431\n",
      "Scoring complete.\n",
      "QRS_acc: 0.8365\n",
      "Scoring complete.\n",
      "\n",
      "                Train epoch_109:\n",
      "                --------------------\n",
      "                train/epoch_loss:        0.6070780456066132\n",
      "                train/qrs_score:         0.8431\n",
      "            \n",
      "                test/qrs_score:          0.8365\n",
      "                ---------------------------------\n",
      "            \n",
      "\n"
     ]
    },
    {
     "data": {
      "application/vnd.jupyter.widget-view+json": {
       "model_id": "dcb80eb49fb14b25bb66e2214be29e5a",
       "version_major": 2,
       "version_minor": 0
      },
      "text/plain": [
       "HBox(children=(FloatProgress(value=0.0, description='Epoch 110/300', layout=Layout(flex='2'), max=1600.0, styl…"
      ]
     },
     "metadata": {},
     "output_type": "display_data"
    },
    {
     "name": "stdout",
     "output_type": "stream",
     "text": [
      "QRS_acc: 0.8441\n",
      "Scoring complete.\n",
      "QRS_acc: 0.8395\n",
      "Scoring complete.\n",
      "\n",
      "                Train epoch_110:\n",
      "                --------------------\n",
      "                train/epoch_loss:        0.5948635190725327\n",
      "                train/qrs_score:         0.8441\n",
      "            \n",
      "                test/qrs_score:          0.8395\n",
      "                ---------------------------------\n",
      "            \n",
      "\n"
     ]
    },
    {
     "data": {
      "application/vnd.jupyter.widget-view+json": {
       "model_id": "3fe3121883de4d388f5e73462b3b35f7",
       "version_major": 2,
       "version_minor": 0
      },
      "text/plain": [
       "HBox(children=(FloatProgress(value=0.0, description='Epoch 111/300', layout=Layout(flex='2'), max=1600.0, styl…"
      ]
     },
     "metadata": {},
     "output_type": "display_data"
    },
    {
     "name": "stdout",
     "output_type": "stream",
     "text": [
      "QRS_acc: 0.8465\n",
      "Scoring complete.\n",
      "QRS_acc: 0.841\n",
      "Scoring complete.\n",
      "\n",
      "                Train epoch_111:\n",
      "                --------------------\n",
      "                train/epoch_loss:        0.5961883142590523\n",
      "                train/qrs_score:         0.8465\n",
      "            \n",
      "                test/qrs_score:          0.841\n",
      "                ---------------------------------\n",
      "            \n",
      "\n"
     ]
    },
    {
     "data": {
      "application/vnd.jupyter.widget-view+json": {
       "model_id": "8686b0554625472fb729a7ea7a4a6dbb",
       "version_major": 2,
       "version_minor": 0
      },
      "text/plain": [
       "HBox(children=(FloatProgress(value=0.0, description='Epoch 112/300', layout=Layout(flex='2'), max=1600.0, styl…"
      ]
     },
     "metadata": {},
     "output_type": "display_data"
    },
    {
     "name": "stdout",
     "output_type": "stream",
     "text": [
      "Train step_780: loss : 0.08904983103275299\n",
      "QRS_acc: 0.8438\n",
      "Scoring complete.\n",
      "QRS_acc: 0.8435\n",
      "Scoring complete.\n",
      "\n",
      "                Train epoch_112:\n",
      "                --------------------\n",
      "                train/epoch_loss:        0.6072553843259811\n",
      "                train/qrs_score:         0.8438\n",
      "            \n",
      "                test/qrs_score:          0.8435\n",
      "                ---------------------------------\n",
      "            \n",
      "\n"
     ]
    },
    {
     "data": {
      "application/vnd.jupyter.widget-view+json": {
       "model_id": "e41d9bf0614b4a6fb5936183096f6486",
       "version_major": 2,
       "version_minor": 0
      },
      "text/plain": [
       "HBox(children=(FloatProgress(value=0.0, description='Epoch 113/300', layout=Layout(flex='2'), max=1600.0, styl…"
      ]
     },
     "metadata": {},
     "output_type": "display_data"
    },
    {
     "name": "stdout",
     "output_type": "stream",
     "text": [
      "QRS_acc: 0.8465\n",
      "Scoring complete.\n",
      "QRS_acc: 0.841\n",
      "Scoring complete.\n",
      "\n",
      "                Train epoch_113:\n",
      "                --------------------\n",
      "                train/epoch_loss:        0.5860404223203659\n",
      "                train/qrs_score:         0.8465\n",
      "            \n",
      "                test/qrs_score:          0.841\n",
      "                ---------------------------------\n",
      "            \n",
      "\n"
     ]
    },
    {
     "data": {
      "application/vnd.jupyter.widget-view+json": {
       "model_id": "d473ae9c3dc74dcca11923bf61cd75d1",
       "version_major": 2,
       "version_minor": 0
      },
      "text/plain": [
       "HBox(children=(FloatProgress(value=0.0, description='Epoch 114/300', layout=Layout(flex='2'), max=1600.0, styl…"
      ]
     },
     "metadata": {},
     "output_type": "display_data"
    },
    {
     "name": "stdout",
     "output_type": "stream",
     "text": [
      "QRS_acc: 0.8502\n",
      "Scoring complete.\n",
      "QRS_acc: 0.8448\n",
      "Scoring complete.\n",
      "\n",
      "                Train epoch_114:\n",
      "                --------------------\n",
      "                train/epoch_loss:        0.5982827320694923\n",
      "                train/qrs_score:         0.8502\n",
      "            \n",
      "                test/qrs_score:          0.8448\n",
      "                ---------------------------------\n",
      "            \n",
      "\n"
     ]
    },
    {
     "data": {
      "application/vnd.jupyter.widget-view+json": {
       "model_id": "d9e7b66ee1764d4884daf5b3727bc219",
       "version_major": 2,
       "version_minor": 0
      },
      "text/plain": [
       "HBox(children=(FloatProgress(value=0.0, description='Epoch 115/300', layout=Layout(flex='2'), max=1600.0, styl…"
      ]
     },
     "metadata": {},
     "output_type": "display_data"
    },
    {
     "name": "stdout",
     "output_type": "stream",
     "text": [
      "Train step_800: loss : 0.08538618683815002\n",
      "QRS_acc: 0.8422\n",
      "Scoring complete.\n",
      "QRS_acc: 0.846\n",
      "Scoring complete.\n",
      "\n",
      "                Train epoch_115:\n",
      "                --------------------\n",
      "                train/epoch_loss:        0.5724580585956573\n",
      "                train/qrs_score:         0.8422\n",
      "            \n",
      "                test/qrs_score:          0.846\n",
      "                ---------------------------------\n",
      "            \n",
      "\n"
     ]
    },
    {
     "data": {
      "application/vnd.jupyter.widget-view+json": {
       "model_id": "816b3ec9f4fe477e809f4bb7b4c2b6bf",
       "version_major": 2,
       "version_minor": 0
      },
      "text/plain": [
       "HBox(children=(FloatProgress(value=0.0, description='Epoch 116/300', layout=Layout(flex='2'), max=1600.0, styl…"
      ]
     },
     "metadata": {},
     "output_type": "display_data"
    },
    {
     "name": "stdout",
     "output_type": "stream",
     "text": [
      "QRS_acc: 0.8441\n",
      "Scoring complete.\n",
      "QRS_acc: 0.8445\n",
      "Scoring complete.\n",
      "\n",
      "                Train epoch_116:\n",
      "                --------------------\n",
      "                train/epoch_loss:        0.5909206569194794\n",
      "                train/qrs_score:         0.8441\n",
      "            \n",
      "                test/qrs_score:          0.8445\n",
      "                ---------------------------------\n",
      "            \n",
      "\n"
     ]
    },
    {
     "data": {
      "application/vnd.jupyter.widget-view+json": {
       "model_id": "ef5cba1e0cac45aabb0e844cb29106da",
       "version_major": 2,
       "version_minor": 0
      },
      "text/plain": [
       "HBox(children=(FloatProgress(value=0.0, description='Epoch 117/300', layout=Layout(flex='2'), max=1600.0, styl…"
      ]
     },
     "metadata": {},
     "output_type": "display_data"
    },
    {
     "name": "stdout",
     "output_type": "stream",
     "text": [
      "QRS_acc: 0.8488\n",
      "Scoring complete.\n",
      "QRS_acc: 0.8422\n",
      "Scoring complete.\n",
      "\n",
      "                Train epoch_117:\n",
      "                --------------------\n",
      "                train/epoch_loss:        0.5769131779670715\n",
      "                train/qrs_score:         0.8488\n",
      "            \n",
      "                test/qrs_score:          0.8422\n",
      "                ---------------------------------\n",
      "            \n",
      "\n"
     ]
    },
    {
     "data": {
      "application/vnd.jupyter.widget-view+json": {
       "model_id": "82b79c6df06b4df1bd1b79acebc3371e",
       "version_major": 2,
       "version_minor": 0
      },
      "text/plain": [
       "HBox(children=(FloatProgress(value=0.0, description='Epoch 118/300', layout=Layout(flex='2'), max=1600.0, styl…"
      ]
     },
     "metadata": {},
     "output_type": "display_data"
    },
    {
     "name": "stdout",
     "output_type": "stream",
     "text": [
      "Train step_820: loss : 0.08319617807865143\n",
      "QRS_acc: 0.8462\n",
      "Scoring complete.\n",
      "QRS_acc: 0.8402\n",
      "Scoring complete.\n",
      "\n",
      "                Train epoch_118:\n",
      "                --------------------\n",
      "                train/epoch_loss:        0.5835829675197601\n",
      "                train/qrs_score:         0.8462\n",
      "            \n",
      "                test/qrs_score:          0.8402\n",
      "                ---------------------------------\n",
      "            \n",
      "\n"
     ]
    },
    {
     "data": {
      "application/vnd.jupyter.widget-view+json": {
       "model_id": "b2d41a900a92451190eb842c7482dc17",
       "version_major": 2,
       "version_minor": 0
      },
      "text/plain": [
       "HBox(children=(FloatProgress(value=0.0, description='Epoch 119/300', layout=Layout(flex='2'), max=1600.0, styl…"
      ]
     },
     "metadata": {},
     "output_type": "display_data"
    },
    {
     "name": "stdout",
     "output_type": "stream",
     "text": [
      "QRS_acc: 0.8479\n",
      "Scoring complete.\n",
      "QRS_acc: 0.848\n",
      "Scoring complete.\n",
      "\n",
      "                Train epoch_119:\n",
      "                --------------------\n",
      "                train/epoch_loss:        0.5881015434861183\n",
      "                train/qrs_score:         0.8479\n",
      "            \n",
      "                test/qrs_score:          0.848\n",
      "                ---------------------------------\n",
      "            \n",
      "\n"
     ]
    },
    {
     "data": {
      "application/vnd.jupyter.widget-view+json": {
       "model_id": "cd8719cd545e4d90b2cf5b0097410790",
       "version_major": 2,
       "version_minor": 0
      },
      "text/plain": [
       "HBox(children=(FloatProgress(value=0.0, description='Epoch 120/300', layout=Layout(flex='2'), max=1600.0, styl…"
      ]
     },
     "metadata": {},
     "output_type": "display_data"
    },
    {
     "name": "stdout",
     "output_type": "stream",
     "text": [
      "Train step_840: loss : 0.07838597148656845\n",
      "QRS_acc: 0.8452\n",
      "Scoring complete.\n",
      "QRS_acc: 0.8482\n",
      "Scoring complete.\n",
      "\n",
      "                Train epoch_120:\n",
      "                --------------------\n",
      "                train/epoch_loss:        0.5762271210551262\n",
      "                train/qrs_score:         0.8452\n",
      "            \n",
      "                test/qrs_score:          0.8482\n",
      "                ---------------------------------\n",
      "            \n",
      "\n"
     ]
    },
    {
     "data": {
      "application/vnd.jupyter.widget-view+json": {
       "model_id": "c45db0f299724876a10930b170b4b31b",
       "version_major": 2,
       "version_minor": 0
      },
      "text/plain": [
       "HBox(children=(FloatProgress(value=0.0, description='Epoch 121/300', layout=Layout(flex='2'), max=1600.0, styl…"
      ]
     },
     "metadata": {},
     "output_type": "display_data"
    },
    {
     "name": "stdout",
     "output_type": "stream",
     "text": [
      "QRS_acc: 0.8452\n",
      "Scoring complete.\n",
      "QRS_acc: 0.839\n",
      "Scoring complete.\n",
      "\n",
      "                Train epoch_121:\n",
      "                --------------------\n",
      "                train/epoch_loss:        0.5791552141308784\n",
      "                train/qrs_score:         0.8452\n",
      "            \n",
      "                test/qrs_score:          0.839\n",
      "                ---------------------------------\n",
      "            \n",
      "\n"
     ]
    },
    {
     "data": {
      "application/vnd.jupyter.widget-view+json": {
       "model_id": "c9ea18e598544cf6b41f42a99abb805c",
       "version_major": 2,
       "version_minor": 0
      },
      "text/plain": [
       "HBox(children=(FloatProgress(value=0.0, description='Epoch 122/300', layout=Layout(flex='2'), max=1600.0, styl…"
      ]
     },
     "metadata": {},
     "output_type": "display_data"
    },
    {
     "name": "stdout",
     "output_type": "stream",
     "text": [
      "QRS_acc: 0.846\n",
      "Scoring complete.\n",
      "QRS_acc: 0.851\n",
      "Scoring complete.\n",
      "\n",
      "                Train epoch_122:\n",
      "                --------------------\n",
      "                train/epoch_loss:        0.579558290541172\n",
      "                train/qrs_score:         0.846\n",
      "            \n",
      "                test/qrs_score:          0.851\n",
      "                ---------------------------------\n",
      "            \n",
      "\n"
     ]
    },
    {
     "data": {
      "application/vnd.jupyter.widget-view+json": {
       "model_id": "0ea0c48285574af7852e9f211345b67f",
       "version_major": 2,
       "version_minor": 0
      },
      "text/plain": [
       "HBox(children=(FloatProgress(value=0.0, description='Epoch 123/300', layout=Layout(flex='2'), max=1600.0, styl…"
      ]
     },
     "metadata": {},
     "output_type": "display_data"
    },
    {
     "name": "stdout",
     "output_type": "stream",
     "text": [
      "Train step_860: loss : 0.0843735858798027\n",
      "QRS_acc: 0.8472\n",
      "Scoring complete.\n",
      "QRS_acc: 0.8532\n",
      "Scoring complete.\n",
      "\n",
      "                Train epoch_123:\n",
      "                --------------------\n",
      "                train/epoch_loss:        0.5841640904545784\n",
      "                train/qrs_score:         0.8472\n",
      "            \n",
      "                test/qrs_score:          0.8532\n",
      "                ---------------------------------\n",
      "            \n",
      "\n"
     ]
    },
    {
     "data": {
      "application/vnd.jupyter.widget-view+json": {
       "model_id": "08a6bb9268ab40159df946ac03370c2e",
       "version_major": 2,
       "version_minor": 0
      },
      "text/plain": [
       "HBox(children=(FloatProgress(value=0.0, description='Epoch 124/300', layout=Layout(flex='2'), max=1600.0, styl…"
      ]
     },
     "metadata": {},
     "output_type": "display_data"
    },
    {
     "name": "stdout",
     "output_type": "stream",
     "text": [
      "QRS_acc: 0.8476\n",
      "Scoring complete.\n",
      "QRS_acc: 0.8522\n",
      "Scoring complete.\n",
      "\n",
      "                Train epoch_124:\n",
      "                --------------------\n",
      "                train/epoch_loss:        0.5676944404840469\n",
      "                train/qrs_score:         0.8476\n",
      "            \n",
      "                test/qrs_score:          0.8522\n",
      "                ---------------------------------\n",
      "            \n",
      "\n"
     ]
    },
    {
     "data": {
      "application/vnd.jupyter.widget-view+json": {
       "model_id": "fbbe6c3630454601a9a91986ba677b02",
       "version_major": 2,
       "version_minor": 0
      },
      "text/plain": [
       "HBox(children=(FloatProgress(value=0.0, description='Epoch 125/300', layout=Layout(flex='2'), max=1600.0, styl…"
      ]
     },
     "metadata": {},
     "output_type": "display_data"
    },
    {
     "name": "stdout",
     "output_type": "stream",
     "text": [
      "QRS_acc: 0.8469\n",
      "Scoring complete.\n",
      "QRS_acc: 0.8425\n",
      "Scoring complete.\n",
      "\n",
      "                Train epoch_125:\n",
      "                --------------------\n",
      "                train/epoch_loss:        0.5796657279133797\n",
      "                train/qrs_score:         0.8469\n",
      "            \n",
      "                test/qrs_score:          0.8425\n",
      "                ---------------------------------\n",
      "            \n",
      "\n"
     ]
    },
    {
     "data": {
      "application/vnd.jupyter.widget-view+json": {
       "model_id": "97c239866d3549319fadaec12cb22e03",
       "version_major": 2,
       "version_minor": 0
      },
      "text/plain": [
       "HBox(children=(FloatProgress(value=0.0, description='Epoch 126/300', layout=Layout(flex='2'), max=1600.0, styl…"
      ]
     },
     "metadata": {},
     "output_type": "display_data"
    },
    {
     "name": "stdout",
     "output_type": "stream",
     "text": [
      "Train step_880: loss : 0.079745352268219\n",
      "QRS_acc: 0.8511\n",
      "Scoring complete.\n",
      "QRS_acc: 0.8447\n",
      "Scoring complete.\n",
      "\n",
      "                Train epoch_126:\n",
      "                --------------------\n",
      "                train/epoch_loss:        0.5800410509109497\n",
      "                train/qrs_score:         0.8511\n",
      "            \n",
      "                test/qrs_score:          0.8447\n",
      "                ---------------------------------\n",
      "            \n",
      "\n"
     ]
    },
    {
     "data": {
      "application/vnd.jupyter.widget-view+json": {
       "model_id": "3ec4cf095d3f402d8b5b4b6630dea77e",
       "version_major": 2,
       "version_minor": 0
      },
      "text/plain": [
       "HBox(children=(FloatProgress(value=0.0, description='Epoch 127/300', layout=Layout(flex='2'), max=1600.0, styl…"
      ]
     },
     "metadata": {},
     "output_type": "display_data"
    },
    {
     "name": "stdout",
     "output_type": "stream",
     "text": [
      "QRS_acc: 0.8532\n",
      "Scoring complete.\n",
      "QRS_acc: 0.844\n",
      "Scoring complete.\n",
      "\n",
      "                Train epoch_127:\n",
      "                --------------------\n",
      "                train/epoch_loss:        0.5706738904118538\n",
      "                train/qrs_score:         0.8532\n",
      "            \n",
      "                test/qrs_score:          0.844\n",
      "                ---------------------------------\n",
      "            \n",
      "\n"
     ]
    },
    {
     "data": {
      "application/vnd.jupyter.widget-view+json": {
       "model_id": "f09b34c89aaa495faa06e4b91410fcd4",
       "version_major": 2,
       "version_minor": 0
      },
      "text/plain": [
       "HBox(children=(FloatProgress(value=0.0, description='Epoch 128/300', layout=Layout(flex='2'), max=1600.0, styl…"
      ]
     },
     "metadata": {},
     "output_type": "display_data"
    },
    {
     "name": "stdout",
     "output_type": "stream",
     "text": [
      "QRS_acc: 0.8509\n",
      "Scoring complete.\n",
      "QRS_acc: 0.848\n",
      "Scoring complete.\n",
      "\n",
      "                Train epoch_128:\n",
      "                --------------------\n",
      "                train/epoch_loss:        0.5678195431828499\n",
      "                train/qrs_score:         0.8509\n",
      "            \n",
      "                test/qrs_score:          0.848\n",
      "                ---------------------------------\n",
      "            \n",
      "\n"
     ]
    },
    {
     "data": {
      "application/vnd.jupyter.widget-view+json": {
       "model_id": "f201ff671b8e45d9af10d417973ae98a",
       "version_major": 2,
       "version_minor": 0
      },
      "text/plain": [
       "HBox(children=(FloatProgress(value=0.0, description='Epoch 129/300', layout=Layout(flex='2'), max=1600.0, styl…"
      ]
     },
     "metadata": {},
     "output_type": "display_data"
    },
    {
     "name": "stdout",
     "output_type": "stream",
     "text": [
      "Train step_900: loss : 0.07933381199836731\n",
      "QRS_acc: 0.8522\n",
      "Scoring complete.\n",
      "QRS_acc: 0.8497\n",
      "Scoring complete.\n",
      "\n",
      "                Train epoch_129:\n",
      "                --------------------\n",
      "                train/epoch_loss:        0.5804479122161865\n",
      "                train/qrs_score:         0.8522\n",
      "            \n",
      "                test/qrs_score:          0.8497\n",
      "                ---------------------------------\n",
      "            \n",
      "\n"
     ]
    },
    {
     "data": {
      "application/vnd.jupyter.widget-view+json": {
       "model_id": "05b1609e680044c399a5c1d43fcc5b52",
       "version_major": 2,
       "version_minor": 0
      },
      "text/plain": [
       "HBox(children=(FloatProgress(value=0.0, description='Epoch 130/300', layout=Layout(flex='2'), max=1600.0, styl…"
      ]
     },
     "metadata": {},
     "output_type": "display_data"
    },
    {
     "name": "stdout",
     "output_type": "stream",
     "text": [
      "QRS_acc: 0.8535\n",
      "Scoring complete.\n",
      "QRS_acc: 0.8515\n",
      "Scoring complete.\n",
      "\n",
      "                Train epoch_130:\n",
      "                --------------------\n",
      "                train/epoch_loss:        0.5718709230422974\n",
      "                train/qrs_score:         0.8535\n",
      "            \n",
      "                test/qrs_score:          0.8515\n",
      "                ---------------------------------\n",
      "            \n",
      "\n"
     ]
    },
    {
     "data": {
      "application/vnd.jupyter.widget-view+json": {
       "model_id": "af1798cd7d70447b98a2bf2a4304fa85",
       "version_major": 2,
       "version_minor": 0
      },
      "text/plain": [
       "HBox(children=(FloatProgress(value=0.0, description='Epoch 131/300', layout=Layout(flex='2'), max=1600.0, styl…"
      ]
     },
     "metadata": {},
     "output_type": "display_data"
    },
    {
     "name": "stdout",
     "output_type": "stream",
     "text": [
      "QRS_acc: 0.8476\n",
      "Scoring complete.\n",
      "QRS_acc: 0.84\n",
      "Scoring complete.\n",
      "\n",
      "                Train epoch_131:\n",
      "                --------------------\n",
      "                train/epoch_loss:        0.5683147087693214\n",
      "                train/qrs_score:         0.8476\n",
      "            \n",
      "                test/qrs_score:          0.84\n",
      "                ---------------------------------\n",
      "            \n",
      "\n"
     ]
    },
    {
     "data": {
      "application/vnd.jupyter.widget-view+json": {
       "model_id": "8d6e838cf9b947779052ed6a56a198c1",
       "version_major": 2,
       "version_minor": 0
      },
      "text/plain": [
       "HBox(children=(FloatProgress(value=0.0, description='Epoch 132/300', layout=Layout(flex='2'), max=1600.0, styl…"
      ]
     },
     "metadata": {},
     "output_type": "display_data"
    },
    {
     "name": "stdout",
     "output_type": "stream",
     "text": [
      "Train step_920: loss : 0.08267587423324585\n",
      "QRS_acc: 0.8501\n",
      "Scoring complete.\n",
      "QRS_acc: 0.8458\n",
      "Scoring complete.\n",
      "\n",
      "                Train epoch_132:\n",
      "                --------------------\n",
      "                train/epoch_loss:        0.5703383535146713\n",
      "                train/qrs_score:         0.8501\n",
      "            \n",
      "                test/qrs_score:          0.8458\n",
      "                ---------------------------------\n",
      "            \n",
      "\n"
     ]
    },
    {
     "data": {
      "application/vnd.jupyter.widget-view+json": {
       "model_id": "35cfabf68d4e4fb9a62ece80bf4a22f5",
       "version_major": 2,
       "version_minor": 0
      },
      "text/plain": [
       "HBox(children=(FloatProgress(value=0.0, description='Epoch 133/300', layout=Layout(flex='2'), max=1600.0, styl…"
      ]
     },
     "metadata": {},
     "output_type": "display_data"
    },
    {
     "name": "stdout",
     "output_type": "stream",
     "text": [
      "QRS_acc: 0.8528\n",
      "Scoring complete.\n",
      "QRS_acc: 0.8455\n",
      "Scoring complete.\n",
      "\n",
      "                Train epoch_133:\n",
      "                --------------------\n",
      "                train/epoch_loss:        0.5806140825152397\n",
      "                train/qrs_score:         0.8528\n",
      "            \n",
      "                test/qrs_score:          0.8455\n",
      "                ---------------------------------\n",
      "            \n",
      "\n"
     ]
    },
    {
     "data": {
      "application/vnd.jupyter.widget-view+json": {
       "model_id": "19754081c7e84066b3d0c493949a9229",
       "version_major": 2,
       "version_minor": 0
      },
      "text/plain": [
       "HBox(children=(FloatProgress(value=0.0, description='Epoch 134/300', layout=Layout(flex='2'), max=1600.0, styl…"
      ]
     },
     "metadata": {},
     "output_type": "display_data"
    },
    {
     "name": "stdout",
     "output_type": "stream",
     "text": [
      "QRS_acc: 0.8549\n",
      "Scoring complete.\n",
      "QRS_acc: 0.848\n",
      "Scoring complete.\n",
      "\n",
      "                Train epoch_134:\n",
      "                --------------------\n",
      "                train/epoch_loss:        0.5601448863744736\n",
      "                train/qrs_score:         0.8549\n",
      "            \n",
      "                test/qrs_score:          0.848\n",
      "                ---------------------------------\n",
      "            \n",
      "\n"
     ]
    },
    {
     "data": {
      "application/vnd.jupyter.widget-view+json": {
       "model_id": "e8dde271120349798924dd94e2ce12c1",
       "version_major": 2,
       "version_minor": 0
      },
      "text/plain": [
       "HBox(children=(FloatProgress(value=0.0, description='Epoch 135/300', layout=Layout(flex='2'), max=1600.0, styl…"
      ]
     },
     "metadata": {},
     "output_type": "display_data"
    },
    {
     "name": "stdout",
     "output_type": "stream",
     "text": [
      "Train step_940: loss : 0.07869776338338852\n",
      "QRS_acc: 0.8536\n",
      "Scoring complete.\n",
      "QRS_acc: 0.8555\n",
      "Scoring complete.\n",
      "\n",
      "                Train epoch_135:\n",
      "                --------------------\n",
      "                train/epoch_loss:        0.5711190402507782\n",
      "                train/qrs_score:         0.8536\n",
      "            \n",
      "                test/qrs_score:          0.8555\n",
      "                ---------------------------------\n",
      "            \n",
      "\n"
     ]
    },
    {
     "data": {
      "application/vnd.jupyter.widget-view+json": {
       "model_id": "1f00a0a2e8c04bd5ad1d93670be6c699",
       "version_major": 2,
       "version_minor": 0
      },
      "text/plain": [
       "HBox(children=(FloatProgress(value=0.0, description='Epoch 136/300', layout=Layout(flex='2'), max=1600.0, styl…"
      ]
     },
     "metadata": {},
     "output_type": "display_data"
    },
    {
     "name": "stdout",
     "output_type": "stream",
     "text": [
      "QRS_acc: 0.8514\n",
      "Scoring complete.\n",
      "QRS_acc: 0.8532\n",
      "Scoring complete.\n",
      "\n",
      "                Train epoch_136:\n",
      "                --------------------\n",
      "                train/epoch_loss:        0.5763963684439659\n",
      "                train/qrs_score:         0.8514\n",
      "            \n",
      "                test/qrs_score:          0.8532\n",
      "                ---------------------------------\n",
      "            \n",
      "\n"
     ]
    },
    {
     "data": {
      "application/vnd.jupyter.widget-view+json": {
       "model_id": "9840f17318a143ed8f62deb193e1e276",
       "version_major": 2,
       "version_minor": 0
      },
      "text/plain": [
       "HBox(children=(FloatProgress(value=0.0, description='Epoch 137/300', layout=Layout(flex='2'), max=1600.0, styl…"
      ]
     },
     "metadata": {},
     "output_type": "display_data"
    },
    {
     "name": "stdout",
     "output_type": "stream",
     "text": [
      "QRS_acc: 0.8552\n",
      "Scoring complete.\n",
      "QRS_acc: 0.845\n",
      "Scoring complete.\n",
      "\n",
      "                Train epoch_137:\n",
      "                --------------------\n",
      "                train/epoch_loss:        0.5555668100714684\n",
      "                train/qrs_score:         0.8552\n",
      "            \n",
      "                test/qrs_score:          0.845\n",
      "                ---------------------------------\n",
      "            \n",
      "\n"
     ]
    },
    {
     "data": {
      "application/vnd.jupyter.widget-view+json": {
       "model_id": "dfa1fff2a13b4a97a50ba293657ee575",
       "version_major": 2,
       "version_minor": 0
      },
      "text/plain": [
       "HBox(children=(FloatProgress(value=0.0, description='Epoch 138/300', layout=Layout(flex='2'), max=1600.0, styl…"
      ]
     },
     "metadata": {},
     "output_type": "display_data"
    },
    {
     "name": "stdout",
     "output_type": "stream",
     "text": [
      "Train step_960: loss : 0.07593715935945511\n",
      "QRS_acc: 0.8568\n",
      "Scoring complete.\n",
      "QRS_acc: 0.8542\n",
      "Scoring complete.\n",
      "\n",
      "                Train epoch_138:\n",
      "                --------------------\n",
      "                train/epoch_loss:        0.561082735657692\n",
      "                train/qrs_score:         0.8568\n",
      "            \n",
      "                test/qrs_score:          0.8542\n",
      "                ---------------------------------\n",
      "            \n",
      "\n"
     ]
    },
    {
     "data": {
      "application/vnd.jupyter.widget-view+json": {
       "model_id": "a852b3dd48994b3eb005a9b7e571cf84",
       "version_major": 2,
       "version_minor": 0
      },
      "text/plain": [
       "HBox(children=(FloatProgress(value=0.0, description='Epoch 139/300', layout=Layout(flex='2'), max=1600.0, styl…"
      ]
     },
     "metadata": {},
     "output_type": "display_data"
    },
    {
     "name": "stdout",
     "output_type": "stream",
     "text": [
      "QRS_acc: 0.856\n",
      "Scoring complete.\n",
      "QRS_acc: 0.8432\n",
      "Scoring complete.\n",
      "\n",
      "                Train epoch_139:\n",
      "                --------------------\n",
      "                train/epoch_loss:        0.5516477450728416\n",
      "                train/qrs_score:         0.856\n",
      "            \n",
      "                test/qrs_score:          0.8432\n",
      "                ---------------------------------\n",
      "            \n",
      "\n"
     ]
    },
    {
     "data": {
      "application/vnd.jupyter.widget-view+json": {
       "model_id": "32eed22b5a7d4d0099a145e635a67920",
       "version_major": 2,
       "version_minor": 0
      },
      "text/plain": [
       "HBox(children=(FloatProgress(value=0.0, description='Epoch 140/300', layout=Layout(flex='2'), max=1600.0, styl…"
      ]
     },
     "metadata": {},
     "output_type": "display_data"
    },
    {
     "name": "stdout",
     "output_type": "stream",
     "text": [
      "Train step_980: loss : 0.08282081037759781\n",
      "QRS_acc: 0.8538\n",
      "Scoring complete.\n",
      "QRS_acc: 0.8502\n",
      "Scoring complete.\n",
      "\n",
      "                Train epoch_140:\n",
      "                --------------------\n",
      "                train/epoch_loss:        0.5599678829312325\n",
      "                train/qrs_score:         0.8538\n",
      "            \n",
      "                test/qrs_score:          0.8502\n",
      "                ---------------------------------\n",
      "            \n",
      "\n"
     ]
    },
    {
     "data": {
      "application/vnd.jupyter.widget-view+json": {
       "model_id": "f4450f2eac9c448a8340bdab31e2d522",
       "version_major": 2,
       "version_minor": 0
      },
      "text/plain": [
       "HBox(children=(FloatProgress(value=0.0, description='Epoch 141/300', layout=Layout(flex='2'), max=1600.0, styl…"
      ]
     },
     "metadata": {},
     "output_type": "display_data"
    },
    {
     "name": "stdout",
     "output_type": "stream",
     "text": [
      "QRS_acc: 0.8562\n",
      "Scoring complete.\n",
      "QRS_acc: 0.8497\n",
      "Scoring complete.\n",
      "\n",
      "                Train epoch_141:\n",
      "                --------------------\n",
      "                train/epoch_loss:        0.5527448281645775\n",
      "                train/qrs_score:         0.8562\n",
      "            \n",
      "                test/qrs_score:          0.8497\n",
      "                ---------------------------------\n",
      "            \n",
      "\n"
     ]
    },
    {
     "data": {
      "application/vnd.jupyter.widget-view+json": {
       "model_id": "44e68dde0fd24e1eb48986c6c03f27b9",
       "version_major": 2,
       "version_minor": 0
      },
      "text/plain": [
       "HBox(children=(FloatProgress(value=0.0, description='Epoch 142/300', layout=Layout(flex='2'), max=1600.0, styl…"
      ]
     },
     "metadata": {},
     "output_type": "display_data"
    },
    {
     "name": "stdout",
     "output_type": "stream",
     "text": [
      "QRS_acc: 0.8589\n",
      "Scoring complete.\n",
      "QRS_acc: 0.8475\n",
      "Scoring complete.\n",
      "\n",
      "                Train epoch_142:\n",
      "                --------------------\n",
      "                train/epoch_loss:        0.5543088018894196\n",
      "                train/qrs_score:         0.8589\n",
      "            \n",
      "                test/qrs_score:          0.8475\n",
      "                ---------------------------------\n",
      "            \n",
      "\n"
     ]
    },
    {
     "data": {
      "application/vnd.jupyter.widget-view+json": {
       "model_id": "26db93869b77459ca58c91eb9b34fecd",
       "version_major": 2,
       "version_minor": 0
      },
      "text/plain": [
       "HBox(children=(FloatProgress(value=0.0, description='Epoch 143/300', layout=Layout(flex='2'), max=1600.0, styl…"
      ]
     },
     "metadata": {},
     "output_type": "display_data"
    },
    {
     "name": "stdout",
     "output_type": "stream",
     "text": [
      "Train step_1000: loss : 0.07764981687068939\n",
      "QRS_acc: 0.8605\n",
      "Scoring complete.\n",
      "QRS_acc: 0.8547\n",
      "Scoring complete.\n",
      "\n",
      "                Train epoch_143:\n",
      "                --------------------\n",
      "                train/epoch_loss:        0.548312284052372\n",
      "                train/qrs_score:         0.8605\n",
      "            \n",
      "                test/qrs_score:          0.8547\n",
      "                ---------------------------------\n",
      "            \n",
      "\n"
     ]
    },
    {
     "data": {
      "application/vnd.jupyter.widget-view+json": {
       "model_id": "69371134ffb340e7802346d3cfc736c9",
       "version_major": 2,
       "version_minor": 0
      },
      "text/plain": [
       "HBox(children=(FloatProgress(value=0.0, description='Epoch 144/300', layout=Layout(flex='2'), max=1600.0, styl…"
      ]
     },
     "metadata": {},
     "output_type": "display_data"
    },
    {
     "name": "stdout",
     "output_type": "stream",
     "text": [
      "QRS_acc: 0.858\n",
      "Scoring complete.\n",
      "QRS_acc: 0.857\n",
      "Scoring complete.\n",
      "\n",
      "                Train epoch_144:\n",
      "                --------------------\n",
      "                train/epoch_loss:        0.5485007166862488\n",
      "                train/qrs_score:         0.858\n",
      "            \n",
      "                test/qrs_score:          0.857\n",
      "                ---------------------------------\n",
      "            \n",
      "\n"
     ]
    },
    {
     "data": {
      "application/vnd.jupyter.widget-view+json": {
       "model_id": "6e879db230cc4b7eb78b21b3d3e02fb7",
       "version_major": 2,
       "version_minor": 0
      },
      "text/plain": [
       "HBox(children=(FloatProgress(value=0.0, description='Epoch 145/300', layout=Layout(flex='2'), max=1600.0, styl…"
      ]
     },
     "metadata": {},
     "output_type": "display_data"
    },
    {
     "name": "stdout",
     "output_type": "stream",
     "text": [
      "QRS_acc: 0.8551\n",
      "Scoring complete.\n",
      "QRS_acc: 0.843\n",
      "Scoring complete.\n",
      "\n",
      "                Train epoch_145:\n",
      "                --------------------\n",
      "                train/epoch_loss:        0.5614316537976265\n",
      "                train/qrs_score:         0.8551\n",
      "            \n",
      "                test/qrs_score:          0.843\n",
      "                ---------------------------------\n",
      "            \n",
      "\n"
     ]
    },
    {
     "data": {
      "application/vnd.jupyter.widget-view+json": {
       "model_id": "e539238010514e958d51bdb1f041f7a8",
       "version_major": 2,
       "version_minor": 0
      },
      "text/plain": [
       "HBox(children=(FloatProgress(value=0.0, description='Epoch 146/300', layout=Layout(flex='2'), max=1600.0, styl…"
      ]
     },
     "metadata": {},
     "output_type": "display_data"
    },
    {
     "name": "stdout",
     "output_type": "stream",
     "text": [
      "Train step_1020: loss : 0.081154964864254\n",
      "QRS_acc: 0.8579\n",
      "Scoring complete.\n",
      "QRS_acc: 0.8447\n",
      "Scoring complete.\n",
      "\n",
      "                Train epoch_146:\n",
      "                --------------------\n",
      "                train/epoch_loss:        0.5482709929347038\n",
      "                train/qrs_score:         0.8579\n",
      "            \n",
      "                test/qrs_score:          0.8447\n",
      "                ---------------------------------\n",
      "            \n",
      "\n"
     ]
    },
    {
     "data": {
      "application/vnd.jupyter.widget-view+json": {
       "model_id": "016bbfe4bc16497cbc79cc4264b1d3a2",
       "version_major": 2,
       "version_minor": 0
      },
      "text/plain": [
       "HBox(children=(FloatProgress(value=0.0, description='Epoch 147/300', layout=Layout(flex='2'), max=1600.0, styl…"
      ]
     },
     "metadata": {},
     "output_type": "display_data"
    },
    {
     "name": "stdout",
     "output_type": "stream",
     "text": [
      "QRS_acc: 0.8569\n",
      "Scoring complete.\n",
      "QRS_acc: 0.85\n",
      "Scoring complete.\n",
      "\n",
      "                Train epoch_147:\n",
      "                --------------------\n",
      "                train/epoch_loss:        0.543217308819294\n",
      "                train/qrs_score:         0.8569\n",
      "            \n",
      "                test/qrs_score:          0.85\n",
      "                ---------------------------------\n",
      "            \n",
      "\n"
     ]
    },
    {
     "data": {
      "application/vnd.jupyter.widget-view+json": {
       "model_id": "8364cc6413e24899b6c77ad23ac0b66b",
       "version_major": 2,
       "version_minor": 0
      },
      "text/plain": [
       "HBox(children=(FloatProgress(value=0.0, description='Epoch 148/300', layout=Layout(flex='2'), max=1600.0, styl…"
      ]
     },
     "metadata": {},
     "output_type": "display_data"
    },
    {
     "name": "stdout",
     "output_type": "stream",
     "text": [
      "QRS_acc: 0.8606\n",
      "Scoring complete.\n",
      "QRS_acc: 0.8422\n",
      "Scoring complete.\n",
      "\n",
      "                Train epoch_148:\n",
      "                --------------------\n",
      "                train/epoch_loss:        0.5551998987793922\n",
      "                train/qrs_score:         0.8606\n",
      "            \n",
      "                test/qrs_score:          0.8422\n",
      "                ---------------------------------\n",
      "            \n",
      "\n"
     ]
    },
    {
     "data": {
      "application/vnd.jupyter.widget-view+json": {
       "model_id": "fbcb37792e494911b1659ee05f0d884f",
       "version_major": 2,
       "version_minor": 0
      },
      "text/plain": [
       "HBox(children=(FloatProgress(value=0.0, description='Epoch 149/300', layout=Layout(flex='2'), max=1600.0, styl…"
      ]
     },
     "metadata": {},
     "output_type": "display_data"
    },
    {
     "name": "stdout",
     "output_type": "stream",
     "text": [
      "Train step_1040: loss : 0.08013416826725006\n",
      "QRS_acc: 0.8636\n",
      "Scoring complete.\n",
      "QRS_acc: 0.8475\n",
      "Scoring complete.\n",
      "\n",
      "                Train epoch_149:\n",
      "                --------------------\n",
      "                train/epoch_loss:        0.5503375083208084\n",
      "                train/qrs_score:         0.8636\n",
      "            \n",
      "                test/qrs_score:          0.8475\n",
      "                ---------------------------------\n",
      "            \n",
      "\n"
     ]
    },
    {
     "data": {
      "application/vnd.jupyter.widget-view+json": {
       "model_id": "c9df66d755364c55b1848e60adf791be",
       "version_major": 2,
       "version_minor": 0
      },
      "text/plain": [
       "HBox(children=(FloatProgress(value=0.0, description='Epoch 150/300', layout=Layout(flex='2'), max=1600.0, styl…"
      ]
     },
     "metadata": {},
     "output_type": "display_data"
    },
    {
     "name": "stdout",
     "output_type": "stream",
     "text": [
      "QRS_acc: 0.8643\n",
      "Scoring complete.\n",
      "QRS_acc: 0.8565\n",
      "Scoring complete.\n",
      "\n",
      "                Train epoch_150:\n",
      "                --------------------\n",
      "                train/epoch_loss:        0.5480650663375854\n",
      "                train/qrs_score:         0.8643\n",
      "            \n",
      "                test/qrs_score:          0.8565\n",
      "                ---------------------------------\n",
      "            \n",
      "\n"
     ]
    },
    {
     "data": {
      "application/vnd.jupyter.widget-view+json": {
       "model_id": "fbc2057d22a84306bc794b3df7d8bd50",
       "version_major": 2,
       "version_minor": 0
      },
      "text/plain": [
       "HBox(children=(FloatProgress(value=0.0, description='Epoch 151/300', layout=Layout(flex='2'), max=1600.0, styl…"
      ]
     },
     "metadata": {},
     "output_type": "display_data"
    },
    {
     "name": "stdout",
     "output_type": "stream",
     "text": [
      "QRS_acc: 0.8632\n",
      "Scoring complete.\n",
      "QRS_acc: 0.8495\n",
      "Scoring complete.\n",
      "\n",
      "                Train epoch_151:\n",
      "                --------------------\n",
      "                train/epoch_loss:        0.5556988343596458\n",
      "                train/qrs_score:         0.8632\n",
      "            \n",
      "                test/qrs_score:          0.8495\n",
      "                ---------------------------------\n",
      "            \n",
      "\n"
     ]
    },
    {
     "data": {
      "application/vnd.jupyter.widget-view+json": {
       "model_id": "855d7fafb0df42528636df0750c7a13e",
       "version_major": 2,
       "version_minor": 0
      },
      "text/plain": [
       "HBox(children=(FloatProgress(value=0.0, description='Epoch 152/300', layout=Layout(flex='2'), max=1600.0, styl…"
      ]
     },
     "metadata": {},
     "output_type": "display_data"
    },
    {
     "name": "stdout",
     "output_type": "stream",
     "text": [
      "Train step_1060: loss : 0.07402312755584717\n",
      "QRS_acc: 0.8604\n",
      "Scoring complete.\n",
      "QRS_acc: 0.8552\n",
      "Scoring complete.\n",
      "\n",
      "                Train epoch_152:\n",
      "                --------------------\n",
      "                train/epoch_loss:        0.5414988696575165\n",
      "                train/qrs_score:         0.8604\n",
      "            \n",
      "                test/qrs_score:          0.8552\n",
      "                ---------------------------------\n",
      "            \n",
      "\n"
     ]
    },
    {
     "data": {
      "application/vnd.jupyter.widget-view+json": {
       "model_id": "441c9abb54a44367a1afd9383366183e",
       "version_major": 2,
       "version_minor": 0
      },
      "text/plain": [
       "HBox(children=(FloatProgress(value=0.0, description='Epoch 153/300', layout=Layout(flex='2'), max=1600.0, styl…"
      ]
     },
     "metadata": {},
     "output_type": "display_data"
    },
    {
     "name": "stdout",
     "output_type": "stream",
     "text": [
      "QRS_acc: 0.8625\n",
      "Scoring complete.\n",
      "QRS_acc: 0.8578\n",
      "Scoring complete.\n",
      "\n",
      "                Train epoch_153:\n",
      "                --------------------\n",
      "                train/epoch_loss:        0.5400644242763519\n",
      "                train/qrs_score:         0.8625\n",
      "            \n",
      "                test/qrs_score:          0.8578\n",
      "                ---------------------------------\n",
      "            \n",
      "\n"
     ]
    },
    {
     "data": {
      "application/vnd.jupyter.widget-view+json": {
       "model_id": "1d9934743c7a4b2abbbd36d80458d168",
       "version_major": 2,
       "version_minor": 0
      },
      "text/plain": [
       "HBox(children=(FloatProgress(value=0.0, description='Epoch 154/300', layout=Layout(flex='2'), max=1600.0, styl…"
      ]
     },
     "metadata": {},
     "output_type": "display_data"
    },
    {
     "name": "stdout",
     "output_type": "stream",
     "text": [
      "QRS_acc: 0.8633\n",
      "Scoring complete.\n",
      "QRS_acc: 0.8612\n",
      "Scoring complete.\n",
      "\n",
      "                Train epoch_154:\n",
      "                --------------------\n",
      "                train/epoch_loss:        0.5513930171728134\n",
      "                train/qrs_score:         0.8633\n",
      "            \n",
      "                test/qrs_score:          0.8612\n",
      "                ---------------------------------\n",
      "            \n",
      "\n"
     ]
    },
    {
     "data": {
      "application/vnd.jupyter.widget-view+json": {
       "model_id": "372c7868b65d4a869cf9f09ea50f2ce4",
       "version_major": 2,
       "version_minor": 0
      },
      "text/plain": [
       "HBox(children=(FloatProgress(value=0.0, description='Epoch 155/300', layout=Layout(flex='2'), max=1600.0, styl…"
      ]
     },
     "metadata": {},
     "output_type": "display_data"
    },
    {
     "name": "stdout",
     "output_type": "stream",
     "text": [
      "Train step_1080: loss : 0.07125336676836014\n",
      "QRS_acc: 0.8677\n",
      "Scoring complete.\n",
      "QRS_acc: 0.852\n",
      "Scoring complete.\n",
      "\n",
      "                Train epoch_155:\n",
      "                --------------------\n",
      "                train/epoch_loss:        0.5410273000597954\n",
      "                train/qrs_score:         0.8677\n",
      "            \n",
      "                test/qrs_score:          0.852\n",
      "                ---------------------------------\n",
      "            \n",
      "\n"
     ]
    },
    {
     "data": {
      "application/vnd.jupyter.widget-view+json": {
       "model_id": "c0a01602eb694ede8e05f1ab8c9b7a67",
       "version_major": 2,
       "version_minor": 0
      },
      "text/plain": [
       "HBox(children=(FloatProgress(value=0.0, description='Epoch 156/300', layout=Layout(flex='2'), max=1600.0, styl…"
      ]
     },
     "metadata": {},
     "output_type": "display_data"
    },
    {
     "name": "stdout",
     "output_type": "stream",
     "text": [
      "QRS_acc: 0.8644\n",
      "Scoring complete.\n",
      "QRS_acc: 0.8532\n",
      "Scoring complete.\n",
      "\n",
      "                Train epoch_156:\n",
      "                --------------------\n",
      "                train/epoch_loss:        0.5349753051996231\n",
      "                train/qrs_score:         0.8644\n",
      "            \n",
      "                test/qrs_score:          0.8532\n",
      "                ---------------------------------\n",
      "            \n",
      "\n"
     ]
    },
    {
     "data": {
      "application/vnd.jupyter.widget-view+json": {
       "model_id": "075ea12f5d144afdad78bf96f7a13388",
       "version_major": 2,
       "version_minor": 0
      },
      "text/plain": [
       "HBox(children=(FloatProgress(value=0.0, description='Epoch 157/300', layout=Layout(flex='2'), max=1600.0, styl…"
      ]
     },
     "metadata": {},
     "output_type": "display_data"
    },
    {
     "name": "stdout",
     "output_type": "stream",
     "text": [
      "QRS_acc: 0.8621\n",
      "Scoring complete.\n",
      "QRS_acc: 0.8522\n",
      "Scoring complete.\n",
      "\n",
      "                Train epoch_157:\n",
      "                --------------------\n",
      "                train/epoch_loss:        0.5572744011878967\n",
      "                train/qrs_score:         0.8621\n",
      "            \n",
      "                test/qrs_score:          0.8522\n",
      "                ---------------------------------\n",
      "            \n",
      "\n"
     ]
    },
    {
     "data": {
      "application/vnd.jupyter.widget-view+json": {
       "model_id": "cc50d9457cec404c8e6e32e31cf470ba",
       "version_major": 2,
       "version_minor": 0
      },
      "text/plain": [
       "HBox(children=(FloatProgress(value=0.0, description='Epoch 158/300', layout=Layout(flex='2'), max=1600.0, styl…"
      ]
     },
     "metadata": {},
     "output_type": "display_data"
    },
    {
     "name": "stdout",
     "output_type": "stream",
     "text": [
      "Train step_1100: loss : 0.07298994064331055\n",
      "QRS_acc: 0.8664\n",
      "Scoring complete.\n",
      "QRS_acc: 0.859\n",
      "Scoring complete.\n",
      "\n",
      "                Train epoch_158:\n",
      "                --------------------\n",
      "                train/epoch_loss:        0.5400100350379944\n",
      "                train/qrs_score:         0.8664\n",
      "            \n",
      "                test/qrs_score:          0.859\n",
      "                ---------------------------------\n",
      "            \n",
      "\n"
     ]
    },
    {
     "data": {
      "application/vnd.jupyter.widget-view+json": {
       "model_id": "650ad89a971443cd8e857d83d6841b28",
       "version_major": 2,
       "version_minor": 0
      },
      "text/plain": [
       "HBox(children=(FloatProgress(value=0.0, description='Epoch 159/300', layout=Layout(flex='2'), max=1600.0, styl…"
      ]
     },
     "metadata": {},
     "output_type": "display_data"
    },
    {
     "name": "stdout",
     "output_type": "stream",
     "text": [
      "QRS_acc: 0.8679\n",
      "Scoring complete.\n",
      "QRS_acc: 0.853\n",
      "Scoring complete.\n",
      "\n",
      "                Train epoch_159:\n",
      "                --------------------\n",
      "                train/epoch_loss:        0.5485015511512756\n",
      "                train/qrs_score:         0.8679\n",
      "            \n",
      "                test/qrs_score:          0.853\n",
      "                ---------------------------------\n",
      "            \n",
      "\n"
     ]
    },
    {
     "data": {
      "application/vnd.jupyter.widget-view+json": {
       "model_id": "85f922d63a7c432481280cf2fbc358c2",
       "version_major": 2,
       "version_minor": 0
      },
      "text/plain": [
       "HBox(children=(FloatProgress(value=0.0, description='Epoch 160/300', layout=Layout(flex='2'), max=1600.0, styl…"
      ]
     },
     "metadata": {},
     "output_type": "display_data"
    },
    {
     "name": "stdout",
     "output_type": "stream",
     "text": [
      "Train step_1120: loss : 0.07855485379695892\n",
      "QRS_acc: 0.8683\n",
      "Scoring complete.\n",
      "QRS_acc: 0.85\n",
      "Scoring complete.\n",
      "\n",
      "                Train epoch_160:\n",
      "                --------------------\n",
      "                train/epoch_loss:        0.5398736819624901\n",
      "                train/qrs_score:         0.8683\n",
      "            \n",
      "                test/qrs_score:          0.85\n",
      "                ---------------------------------\n",
      "            \n",
      "\n"
     ]
    },
    {
     "data": {
      "application/vnd.jupyter.widget-view+json": {
       "model_id": "22be93dc522a41b2b945fd14774b80c5",
       "version_major": 2,
       "version_minor": 0
      },
      "text/plain": [
       "HBox(children=(FloatProgress(value=0.0, description='Epoch 161/300', layout=Layout(flex='2'), max=1600.0, styl…"
      ]
     },
     "metadata": {},
     "output_type": "display_data"
    },
    {
     "name": "stdout",
     "output_type": "stream",
     "text": [
      "QRS_acc: 0.871\n",
      "Scoring complete.\n",
      "QRS_acc: 0.849\n",
      "Scoring complete.\n",
      "\n",
      "                Train epoch_161:\n",
      "                --------------------\n",
      "                train/epoch_loss:        0.5378382876515388\n",
      "                train/qrs_score:         0.871\n",
      "            \n",
      "                test/qrs_score:          0.849\n",
      "                ---------------------------------\n",
      "            \n",
      "\n"
     ]
    },
    {
     "data": {
      "application/vnd.jupyter.widget-view+json": {
       "model_id": "fada201dadcf4637b8a354a07a4e49ea",
       "version_major": 2,
       "version_minor": 0
      },
      "text/plain": [
       "HBox(children=(FloatProgress(value=0.0, description='Epoch 162/300', layout=Layout(flex='2'), max=1600.0, styl…"
      ]
     },
     "metadata": {},
     "output_type": "display_data"
    },
    {
     "name": "stdout",
     "output_type": "stream",
     "text": [
      "QRS_acc: 0.87\n",
      "Scoring complete.\n",
      "QRS_acc: 0.8525\n",
      "Scoring complete.\n",
      "\n",
      "                Train epoch_162:\n",
      "                --------------------\n",
      "                train/epoch_loss:        0.5485461205244064\n",
      "                train/qrs_score:         0.87\n",
      "            \n",
      "                test/qrs_score:          0.8525\n",
      "                ---------------------------------\n",
      "            \n",
      "\n"
     ]
    },
    {
     "data": {
      "application/vnd.jupyter.widget-view+json": {
       "model_id": "712855cce3e546959560fc08247c20ef",
       "version_major": 2,
       "version_minor": 0
      },
      "text/plain": [
       "HBox(children=(FloatProgress(value=0.0, description='Epoch 163/300', layout=Layout(flex='2'), max=1600.0, styl…"
      ]
     },
     "metadata": {},
     "output_type": "display_data"
    },
    {
     "name": "stdout",
     "output_type": "stream",
     "text": [
      "Train step_1140: loss : 0.08174394071102142\n",
      "QRS_acc: 0.8718\n",
      "Scoring complete.\n",
      "QRS_acc: 0.8515\n",
      "Scoring complete.\n",
      "\n",
      "                Train epoch_163:\n",
      "                --------------------\n",
      "                train/epoch_loss:        0.5411573126912117\n",
      "                train/qrs_score:         0.8718\n",
      "            \n",
      "                test/qrs_score:          0.8515\n",
      "                ---------------------------------\n",
      "            \n",
      "\n"
     ]
    },
    {
     "data": {
      "application/vnd.jupyter.widget-view+json": {
       "model_id": "9641a91c935e4d9e966acea69817870e",
       "version_major": 2,
       "version_minor": 0
      },
      "text/plain": [
       "HBox(children=(FloatProgress(value=0.0, description='Epoch 164/300', layout=Layout(flex='2'), max=1600.0, styl…"
      ]
     },
     "metadata": {},
     "output_type": "display_data"
    },
    {
     "name": "stdout",
     "output_type": "stream",
     "text": [
      "QRS_acc: 0.8681\n",
      "Scoring complete.\n",
      "QRS_acc: 0.8552\n",
      "Scoring complete.\n",
      "\n",
      "                Train epoch_164:\n",
      "                --------------------\n",
      "                train/epoch_loss:        0.5260973423719406\n",
      "                train/qrs_score:         0.8681\n",
      "            \n",
      "                test/qrs_score:          0.8552\n",
      "                ---------------------------------\n",
      "            \n",
      "\n"
     ]
    },
    {
     "data": {
      "application/vnd.jupyter.widget-view+json": {
       "model_id": "e9bda7276cfd4a7e8a5e4278aaf86819",
       "version_major": 2,
       "version_minor": 0
      },
      "text/plain": [
       "HBox(children=(FloatProgress(value=0.0, description='Epoch 165/300', layout=Layout(flex='2'), max=1600.0, styl…"
      ]
     },
     "metadata": {},
     "output_type": "display_data"
    },
    {
     "name": "stdout",
     "output_type": "stream",
     "text": [
      "QRS_acc: 0.8673\n",
      "Scoring complete.\n",
      "QRS_acc: 0.8492\n",
      "Scoring complete.\n",
      "\n",
      "                Train epoch_165:\n",
      "                --------------------\n",
      "                train/epoch_loss:        0.5276172384619713\n",
      "                train/qrs_score:         0.8673\n",
      "            \n",
      "                test/qrs_score:          0.8492\n",
      "                ---------------------------------\n",
      "            \n",
      "\n"
     ]
    },
    {
     "data": {
      "application/vnd.jupyter.widget-view+json": {
       "model_id": "7a636456f98e45889dd4c0c6f7d39253",
       "version_major": 2,
       "version_minor": 0
      },
      "text/plain": [
       "HBox(children=(FloatProgress(value=0.0, description='Epoch 166/300', layout=Layout(flex='2'), max=1600.0, styl…"
      ]
     },
     "metadata": {},
     "output_type": "display_data"
    },
    {
     "name": "stdout",
     "output_type": "stream",
     "text": [
      "Train step_1160: loss : 0.07530871033668518\n",
      "QRS_acc: 0.8645\n",
      "Scoring complete.\n",
      "QRS_acc: 0.8568\n",
      "Scoring complete.\n",
      "\n",
      "                Train epoch_166:\n",
      "                --------------------\n",
      "                train/epoch_loss:        0.5281104221940041\n",
      "                train/qrs_score:         0.8645\n",
      "            \n",
      "                test/qrs_score:          0.8568\n",
      "                ---------------------------------\n",
      "            \n",
      "\n"
     ]
    },
    {
     "data": {
      "application/vnd.jupyter.widget-view+json": {
       "model_id": "6049f96ac56d4ff1a63171a087003db5",
       "version_major": 2,
       "version_minor": 0
      },
      "text/plain": [
       "HBox(children=(FloatProgress(value=0.0, description='Epoch 167/300', layout=Layout(flex='2'), max=1600.0, styl…"
      ]
     },
     "metadata": {},
     "output_type": "display_data"
    },
    {
     "name": "stdout",
     "output_type": "stream",
     "text": [
      "QRS_acc: 0.8673\n",
      "Scoring complete.\n",
      "QRS_acc: 0.849\n",
      "Scoring complete.\n",
      "\n",
      "                Train epoch_167:\n",
      "                --------------------\n",
      "                train/epoch_loss:        0.5288036987185478\n",
      "                train/qrs_score:         0.8673\n",
      "            \n",
      "                test/qrs_score:          0.849\n",
      "                ---------------------------------\n",
      "            \n",
      "\n"
     ]
    },
    {
     "data": {
      "application/vnd.jupyter.widget-view+json": {
       "model_id": "c7301bbeda434d5fa12cc2993739b278",
       "version_major": 2,
       "version_minor": 0
      },
      "text/plain": [
       "HBox(children=(FloatProgress(value=0.0, description='Epoch 168/300', layout=Layout(flex='2'), max=1600.0, styl…"
      ]
     },
     "metadata": {},
     "output_type": "display_data"
    },
    {
     "name": "stdout",
     "output_type": "stream",
     "text": [
      "QRS_acc: 0.868\n",
      "Scoring complete.\n",
      "QRS_acc: 0.8638\n",
      "Scoring complete.\n",
      "\n",
      "                Train epoch_168:\n",
      "                --------------------\n",
      "                train/epoch_loss:        0.5466418340802193\n",
      "                train/qrs_score:         0.868\n",
      "            \n",
      "                test/qrs_score:          0.8638\n",
      "                ---------------------------------\n",
      "            \n",
      "\n"
     ]
    },
    {
     "data": {
      "application/vnd.jupyter.widget-view+json": {
       "model_id": "a1b6f45ad6a24569bdbe5308a2ede418",
       "version_major": 2,
       "version_minor": 0
      },
      "text/plain": [
       "HBox(children=(FloatProgress(value=0.0, description='Epoch 169/300', layout=Layout(flex='2'), max=1600.0, styl…"
      ]
     },
     "metadata": {},
     "output_type": "display_data"
    },
    {
     "name": "stdout",
     "output_type": "stream",
     "text": [
      "Train step_1180: loss : 0.07252589613199234\n",
      "QRS_acc: 0.8747\n",
      "Scoring complete.\n",
      "QRS_acc: 0.8545\n",
      "Scoring complete.\n",
      "\n",
      "                Train epoch_169:\n",
      "                --------------------\n",
      "                train/epoch_loss:        0.524785578250885\n",
      "                train/qrs_score:         0.8747\n",
      "            \n",
      "                test/qrs_score:          0.8545\n",
      "                ---------------------------------\n",
      "            \n",
      "\n"
     ]
    },
    {
     "data": {
      "application/vnd.jupyter.widget-view+json": {
       "model_id": "c27807c23c0e4c70b60873192e493422",
       "version_major": 2,
       "version_minor": 0
      },
      "text/plain": [
       "HBox(children=(FloatProgress(value=0.0, description='Epoch 170/300', layout=Layout(flex='2'), max=1600.0, styl…"
      ]
     },
     "metadata": {},
     "output_type": "display_data"
    },
    {
     "name": "stdout",
     "output_type": "stream",
     "text": [
      "QRS_acc: 0.8712\n",
      "Scoring complete.\n",
      "QRS_acc: 0.8597\n",
      "Scoring complete.\n",
      "\n",
      "                Train epoch_170:\n",
      "                --------------------\n",
      "                train/epoch_loss:        0.5355412065982819\n",
      "                train/qrs_score:         0.8712\n",
      "            \n",
      "                test/qrs_score:          0.8597\n",
      "                ---------------------------------\n",
      "            \n",
      "\n"
     ]
    },
    {
     "data": {
      "application/vnd.jupyter.widget-view+json": {
       "model_id": "6e0ea0a681694d27a695e7b6ef11d9ad",
       "version_major": 2,
       "version_minor": 0
      },
      "text/plain": [
       "HBox(children=(FloatProgress(value=0.0, description='Epoch 171/300', layout=Layout(flex='2'), max=1600.0, styl…"
      ]
     },
     "metadata": {},
     "output_type": "display_data"
    },
    {
     "name": "stdout",
     "output_type": "stream",
     "text": [
      "QRS_acc: 0.8719\n",
      "Scoring complete.\n",
      "QRS_acc: 0.8565\n",
      "Scoring complete.\n",
      "\n",
      "                Train epoch_171:\n",
      "                --------------------\n",
      "                train/epoch_loss:        0.5285867750644684\n",
      "                train/qrs_score:         0.8719\n",
      "            \n",
      "                test/qrs_score:          0.8565\n",
      "                ---------------------------------\n",
      "            \n",
      "\n"
     ]
    },
    {
     "data": {
      "application/vnd.jupyter.widget-view+json": {
       "model_id": "b0f9843c3ed1451fb8918b99558cd277",
       "version_major": 2,
       "version_minor": 0
      },
      "text/plain": [
       "HBox(children=(FloatProgress(value=0.0, description='Epoch 172/300', layout=Layout(flex='2'), max=1600.0, styl…"
      ]
     },
     "metadata": {},
     "output_type": "display_data"
    },
    {
     "name": "stdout",
     "output_type": "stream",
     "text": [
      "Train step_1200: loss : 0.07171812653541565\n",
      "QRS_acc: 0.8713\n",
      "Scoring complete.\n",
      "QRS_acc: 0.8542\n",
      "Scoring complete.\n",
      "\n",
      "                Train epoch_172:\n",
      "                --------------------\n",
      "                train/epoch_loss:        0.516276903450489\n",
      "                train/qrs_score:         0.8713\n",
      "            \n",
      "                test/qrs_score:          0.8542\n",
      "                ---------------------------------\n",
      "            \n",
      "\n"
     ]
    },
    {
     "data": {
      "application/vnd.jupyter.widget-view+json": {
       "model_id": "8d55a05748514ec9b1f06e980382bcfc",
       "version_major": 2,
       "version_minor": 0
      },
      "text/plain": [
       "HBox(children=(FloatProgress(value=0.0, description='Epoch 173/300', layout=Layout(flex='2'), max=1600.0, styl…"
      ]
     },
     "metadata": {},
     "output_type": "display_data"
    },
    {
     "name": "stdout",
     "output_type": "stream",
     "text": [
      "QRS_acc: 0.874\n",
      "Scoring complete.\n",
      "QRS_acc: 0.8507\n",
      "Scoring complete.\n",
      "\n",
      "                Train epoch_173:\n",
      "                --------------------\n",
      "                train/epoch_loss:        0.5293529257178307\n",
      "                train/qrs_score:         0.874\n",
      "            \n",
      "                test/qrs_score:          0.8507\n",
      "                ---------------------------------\n",
      "            \n",
      "\n"
     ]
    },
    {
     "data": {
      "application/vnd.jupyter.widget-view+json": {
       "model_id": "ff41dd16b4f648e8827665cdcc5d92b3",
       "version_major": 2,
       "version_minor": 0
      },
      "text/plain": [
       "HBox(children=(FloatProgress(value=0.0, description='Epoch 174/300', layout=Layout(flex='2'), max=1600.0, styl…"
      ]
     },
     "metadata": {},
     "output_type": "display_data"
    },
    {
     "name": "stdout",
     "output_type": "stream",
     "text": [
      "QRS_acc: 0.8731\n",
      "Scoring complete.\n",
      "QRS_acc: 0.8572\n",
      "Scoring complete.\n",
      "\n",
      "                Train epoch_174:\n",
      "                --------------------\n",
      "                train/epoch_loss:        0.5314751490950584\n",
      "                train/qrs_score:         0.8731\n",
      "            \n",
      "                test/qrs_score:          0.8572\n",
      "                ---------------------------------\n",
      "            \n",
      "\n"
     ]
    },
    {
     "data": {
      "application/vnd.jupyter.widget-view+json": {
       "model_id": "92753d33f24a4759b390a1ac31ff8a4e",
       "version_major": 2,
       "version_minor": 0
      },
      "text/plain": [
       "HBox(children=(FloatProgress(value=0.0, description='Epoch 175/300', layout=Layout(flex='2'), max=1600.0, styl…"
      ]
     },
     "metadata": {},
     "output_type": "display_data"
    },
    {
     "name": "stdout",
     "output_type": "stream",
     "text": [
      "Train step_1220: loss : 0.07889696955680847\n",
      "QRS_acc: 0.869\n",
      "Scoring complete.\n",
      "QRS_acc: 0.8552\n",
      "Scoring complete.\n",
      "\n",
      "                Train epoch_175:\n",
      "                --------------------\n",
      "                train/epoch_loss:        0.5265399664640427\n",
      "                train/qrs_score:         0.869\n",
      "            \n",
      "                test/qrs_score:          0.8552\n",
      "                ---------------------------------\n",
      "            \n",
      "\n"
     ]
    },
    {
     "data": {
      "application/vnd.jupyter.widget-view+json": {
       "model_id": "faef1c03024d47799f851d3608d90495",
       "version_major": 2,
       "version_minor": 0
      },
      "text/plain": [
       "HBox(children=(FloatProgress(value=0.0, description='Epoch 176/300', layout=Layout(flex='2'), max=1600.0, styl…"
      ]
     },
     "metadata": {},
     "output_type": "display_data"
    },
    {
     "name": "stdout",
     "output_type": "stream",
     "text": [
      "QRS_acc: 0.8718\n",
      "Scoring complete.\n",
      "QRS_acc: 0.8572\n",
      "Scoring complete.\n",
      "\n",
      "                Train epoch_176:\n",
      "                --------------------\n",
      "                train/epoch_loss:        0.52315953373909\n",
      "                train/qrs_score:         0.8718\n",
      "            \n",
      "                test/qrs_score:          0.8572\n",
      "                ---------------------------------\n",
      "            \n",
      "\n"
     ]
    },
    {
     "data": {
      "application/vnd.jupyter.widget-view+json": {
       "model_id": "ca42f9eb7bed44548da02d8078b6e12f",
       "version_major": 2,
       "version_minor": 0
      },
      "text/plain": [
       "HBox(children=(FloatProgress(value=0.0, description='Epoch 177/300', layout=Layout(flex='2'), max=1600.0, styl…"
      ]
     },
     "metadata": {},
     "output_type": "display_data"
    },
    {
     "name": "stdout",
     "output_type": "stream",
     "text": [
      "QRS_acc: 0.8719\n",
      "Scoring complete.\n",
      "QRS_acc: 0.863\n",
      "Scoring complete.\n",
      "\n",
      "                Train epoch_177:\n",
      "                --------------------\n",
      "                train/epoch_loss:        0.5279111713171005\n",
      "                train/qrs_score:         0.8719\n",
      "            \n",
      "                test/qrs_score:          0.863\n",
      "                ---------------------------------\n",
      "            \n",
      "\n"
     ]
    },
    {
     "data": {
      "application/vnd.jupyter.widget-view+json": {
       "model_id": "be5d60bb71d34a7c86bced0f1caec64c",
       "version_major": 2,
       "version_minor": 0
      },
      "text/plain": [
       "HBox(children=(FloatProgress(value=0.0, description='Epoch 178/300', layout=Layout(flex='2'), max=1600.0, styl…"
      ]
     },
     "metadata": {},
     "output_type": "display_data"
    },
    {
     "name": "stdout",
     "output_type": "stream",
     "text": [
      "Train step_1240: loss : 0.07761914283037186\n",
      "QRS_acc: 0.8724\n",
      "Scoring complete.\n",
      "QRS_acc: 0.856\n",
      "Scoring complete.\n",
      "\n",
      "                Train epoch_178:\n",
      "                --------------------\n",
      "                train/epoch_loss:        0.5224041864275932\n",
      "                train/qrs_score:         0.8724\n",
      "            \n",
      "                test/qrs_score:          0.856\n",
      "                ---------------------------------\n",
      "            \n",
      "\n"
     ]
    },
    {
     "data": {
      "application/vnd.jupyter.widget-view+json": {
       "model_id": "840083f80d3743a99c010f710c4253c2",
       "version_major": 2,
       "version_minor": 0
      },
      "text/plain": [
       "HBox(children=(FloatProgress(value=0.0, description='Epoch 179/300', layout=Layout(flex='2'), max=1600.0, styl…"
      ]
     },
     "metadata": {},
     "output_type": "display_data"
    },
    {
     "name": "stdout",
     "output_type": "stream",
     "text": [
      "QRS_acc: 0.8732\n",
      "Scoring complete.\n",
      "QRS_acc: 0.8585\n",
      "Scoring complete.\n",
      "\n",
      "                Train epoch_179:\n",
      "                --------------------\n",
      "                train/epoch_loss:        0.5179287418723106\n",
      "                train/qrs_score:         0.8732\n",
      "            \n",
      "                test/qrs_score:          0.8585\n",
      "                ---------------------------------\n",
      "            \n",
      "\n"
     ]
    },
    {
     "data": {
      "application/vnd.jupyter.widget-view+json": {
       "model_id": "ed2a649633de4406bdc175fe2c8582c3",
       "version_major": 2,
       "version_minor": 0
      },
      "text/plain": [
       "HBox(children=(FloatProgress(value=0.0, description='Epoch 180/300', layout=Layout(flex='2'), max=1600.0, styl…"
      ]
     },
     "metadata": {},
     "output_type": "display_data"
    },
    {
     "name": "stdout",
     "output_type": "stream",
     "text": [
      "Train step_1260: loss : 0.07696501165628433\n",
      "QRS_acc: 0.8764\n",
      "Scoring complete.\n",
      "QRS_acc: 0.8642\n",
      "Scoring complete.\n",
      "\n",
      "                Train epoch_180:\n",
      "                --------------------\n",
      "                train/epoch_loss:        0.5220945701003075\n",
      "                train/qrs_score:         0.8764\n",
      "            \n",
      "                test/qrs_score:          0.8642\n",
      "                ---------------------------------\n",
      "            \n",
      "\n"
     ]
    },
    {
     "data": {
      "application/vnd.jupyter.widget-view+json": {
       "model_id": "ab9b89852d394538b1ee2a5283a54b2a",
       "version_major": 2,
       "version_minor": 0
      },
      "text/plain": [
       "HBox(children=(FloatProgress(value=0.0, description='Epoch 181/300', layout=Layout(flex='2'), max=1600.0, styl…"
      ]
     },
     "metadata": {},
     "output_type": "display_data"
    },
    {
     "name": "stdout",
     "output_type": "stream",
     "text": [
      "QRS_acc: 0.8791\n",
      "Scoring complete.\n",
      "QRS_acc: 0.8615\n",
      "Scoring complete.\n",
      "\n",
      "                Train epoch_181:\n",
      "                --------------------\n",
      "                train/epoch_loss:        0.5141752287745476\n",
      "                train/qrs_score:         0.8791\n",
      "            \n",
      "                test/qrs_score:          0.8615\n",
      "                ---------------------------------\n",
      "            \n",
      "\n"
     ]
    },
    {
     "data": {
      "application/vnd.jupyter.widget-view+json": {
       "model_id": "42ec80b6ca3841968833290c38850270",
       "version_major": 2,
       "version_minor": 0
      },
      "text/plain": [
       "HBox(children=(FloatProgress(value=0.0, description='Epoch 182/300', layout=Layout(flex='2'), max=1600.0, styl…"
      ]
     },
     "metadata": {},
     "output_type": "display_data"
    },
    {
     "name": "stdout",
     "output_type": "stream",
     "text": [
      "QRS_acc: 0.88\n",
      "Scoring complete.\n",
      "QRS_acc: 0.8572\n",
      "Scoring complete.\n",
      "\n",
      "                Train epoch_182:\n",
      "                --------------------\n",
      "                train/epoch_loss:        0.5214992016553879\n",
      "                train/qrs_score:         0.88\n",
      "            \n",
      "                test/qrs_score:          0.8572\n",
      "                ---------------------------------\n",
      "            \n",
      "\n"
     ]
    },
    {
     "data": {
      "application/vnd.jupyter.widget-view+json": {
       "model_id": "faa9cc56c2b74dc38189d91689d596e5",
       "version_major": 2,
       "version_minor": 0
      },
      "text/plain": [
       "HBox(children=(FloatProgress(value=0.0, description='Epoch 183/300', layout=Layout(flex='2'), max=1600.0, styl…"
      ]
     },
     "metadata": {},
     "output_type": "display_data"
    },
    {
     "name": "stdout",
     "output_type": "stream",
     "text": [
      "Train step_1280: loss : 0.0733296275138855\n",
      "QRS_acc: 0.8774\n",
      "Scoring complete.\n",
      "QRS_acc: 0.858\n",
      "Scoring complete.\n",
      "\n",
      "                Train epoch_183:\n",
      "                --------------------\n",
      "                train/epoch_loss:        0.5008678063750267\n",
      "                train/qrs_score:         0.8774\n",
      "            \n",
      "                test/qrs_score:          0.858\n",
      "                ---------------------------------\n",
      "            \n",
      "\n"
     ]
    },
    {
     "data": {
      "application/vnd.jupyter.widget-view+json": {
       "model_id": "1301329f536a417098fe60cdf13a8af9",
       "version_major": 2,
       "version_minor": 0
      },
      "text/plain": [
       "HBox(children=(FloatProgress(value=0.0, description='Epoch 184/300', layout=Layout(flex='2'), max=1600.0, styl…"
      ]
     },
     "metadata": {},
     "output_type": "display_data"
    },
    {
     "name": "stdout",
     "output_type": "stream",
     "text": [
      "QRS_acc: 0.8766\n",
      "Scoring complete.\n",
      "QRS_acc: 0.8655\n",
      "Scoring complete.\n",
      "\n",
      "                Train epoch_184:\n",
      "                --------------------\n",
      "                train/epoch_loss:        0.5136365219950676\n",
      "                train/qrs_score:         0.8766\n",
      "            \n",
      "                test/qrs_score:          0.8655\n",
      "                ---------------------------------\n",
      "            \n",
      "\n"
     ]
    },
    {
     "data": {
      "application/vnd.jupyter.widget-view+json": {
       "model_id": "f18c9fe7fca34e78ab4f413bce768455",
       "version_major": 2,
       "version_minor": 0
      },
      "text/plain": [
       "HBox(children=(FloatProgress(value=0.0, description='Epoch 185/300', layout=Layout(flex='2'), max=1600.0, styl…"
      ]
     },
     "metadata": {},
     "output_type": "display_data"
    },
    {
     "name": "stdout",
     "output_type": "stream",
     "text": [
      "QRS_acc: 0.8738\n",
      "Scoring complete.\n",
      "QRS_acc: 0.8595\n",
      "Scoring complete.\n",
      "\n",
      "                Train epoch_185:\n",
      "                --------------------\n",
      "                train/epoch_loss:        0.5139289498329163\n",
      "                train/qrs_score:         0.8738\n",
      "            \n",
      "                test/qrs_score:          0.8595\n",
      "                ---------------------------------\n",
      "            \n",
      "\n"
     ]
    },
    {
     "data": {
      "application/vnd.jupyter.widget-view+json": {
       "model_id": "35cc75cfbe9c47d3b9d7aa29c55d2342",
       "version_major": 2,
       "version_minor": 0
      },
      "text/plain": [
       "HBox(children=(FloatProgress(value=0.0, description='Epoch 186/300', layout=Layout(flex='2'), max=1600.0, styl…"
      ]
     },
     "metadata": {},
     "output_type": "display_data"
    },
    {
     "name": "stdout",
     "output_type": "stream",
     "text": [
      "Train step_1300: loss : 0.07042170315980911\n",
      "QRS_acc: 0.8781\n",
      "Scoring complete.\n",
      "QRS_acc: 0.8558\n",
      "Scoring complete.\n",
      "\n",
      "                Train epoch_186:\n",
      "                --------------------\n",
      "                train/epoch_loss:        0.5122266933321953\n",
      "                train/qrs_score:         0.8781\n",
      "            \n",
      "                test/qrs_score:          0.8558\n",
      "                ---------------------------------\n",
      "            \n",
      "\n"
     ]
    },
    {
     "data": {
      "application/vnd.jupyter.widget-view+json": {
       "model_id": "b15e2048217249e9874b58350dd1e3c8",
       "version_major": 2,
       "version_minor": 0
      },
      "text/plain": [
       "HBox(children=(FloatProgress(value=0.0, description='Epoch 187/300', layout=Layout(flex='2'), max=1600.0, styl…"
      ]
     },
     "metadata": {},
     "output_type": "display_data"
    },
    {
     "name": "stdout",
     "output_type": "stream",
     "text": [
      "QRS_acc: 0.8794\n",
      "Scoring complete.\n",
      "QRS_acc: 0.8642\n",
      "Scoring complete.\n",
      "\n",
      "                Train epoch_187:\n",
      "                --------------------\n",
      "                train/epoch_loss:        0.5172242969274521\n",
      "                train/qrs_score:         0.8794\n",
      "            \n",
      "                test/qrs_score:          0.8642\n",
      "                ---------------------------------\n",
      "            \n",
      "\n"
     ]
    },
    {
     "data": {
      "application/vnd.jupyter.widget-view+json": {
       "model_id": "e16380f160db4b3587552d954daf1000",
       "version_major": 2,
       "version_minor": 0
      },
      "text/plain": [
       "HBox(children=(FloatProgress(value=0.0, description='Epoch 188/300', layout=Layout(flex='2'), max=1600.0, styl…"
      ]
     },
     "metadata": {},
     "output_type": "display_data"
    },
    {
     "name": "stdout",
     "output_type": "stream",
     "text": [
      "QRS_acc: 0.8788\n",
      "Scoring complete.\n",
      "QRS_acc: 0.8582\n",
      "Scoring complete.\n",
      "\n",
      "                Train epoch_188:\n",
      "                --------------------\n",
      "                train/epoch_loss:        0.5025096535682678\n",
      "                train/qrs_score:         0.8788\n",
      "            \n",
      "                test/qrs_score:          0.8582\n",
      "                ---------------------------------\n",
      "            \n",
      "\n"
     ]
    },
    {
     "data": {
      "application/vnd.jupyter.widget-view+json": {
       "model_id": "a713b6e7dd9b44a3a63413a2d3b23f4f",
       "version_major": 2,
       "version_minor": 0
      },
      "text/plain": [
       "HBox(children=(FloatProgress(value=0.0, description='Epoch 189/300', layout=Layout(flex='2'), max=1600.0, styl…"
      ]
     },
     "metadata": {},
     "output_type": "display_data"
    },
    {
     "name": "stdout",
     "output_type": "stream",
     "text": [
      "Train step_1320: loss : 0.06892982870340347\n",
      "QRS_acc: 0.879\n",
      "Scoring complete.\n",
      "QRS_acc: 0.8592\n",
      "Scoring complete.\n",
      "\n",
      "                Train epoch_189:\n",
      "                --------------------\n",
      "                train/epoch_loss:        0.5065993741154671\n",
      "                train/qrs_score:         0.879\n",
      "            \n",
      "                test/qrs_score:          0.8592\n",
      "                ---------------------------------\n",
      "            \n",
      "\n"
     ]
    },
    {
     "data": {
      "application/vnd.jupyter.widget-view+json": {
       "model_id": "78d8cd0219844c4f99c840f872cbd86c",
       "version_major": 2,
       "version_minor": 0
      },
      "text/plain": [
       "HBox(children=(FloatProgress(value=0.0, description='Epoch 190/300', layout=Layout(flex='2'), max=1600.0, styl…"
      ]
     },
     "metadata": {},
     "output_type": "display_data"
    },
    {
     "name": "stdout",
     "output_type": "stream",
     "text": [
      "QRS_acc: 0.8822\n",
      "Scoring complete.\n",
      "QRS_acc: 0.8655\n",
      "Scoring complete.\n",
      "\n",
      "                Train epoch_190:\n",
      "                --------------------\n",
      "                train/epoch_loss:        0.5084460452198982\n",
      "                train/qrs_score:         0.8822\n",
      "            \n",
      "                test/qrs_score:          0.8655\n",
      "                ---------------------------------\n",
      "            \n",
      "\n"
     ]
    },
    {
     "data": {
      "application/vnd.jupyter.widget-view+json": {
       "model_id": "a4d36e4823a240f3a33429ba44cc0144",
       "version_major": 2,
       "version_minor": 0
      },
      "text/plain": [
       "HBox(children=(FloatProgress(value=0.0, description='Epoch 191/300', layout=Layout(flex='2'), max=1600.0, styl…"
      ]
     },
     "metadata": {},
     "output_type": "display_data"
    },
    {
     "name": "stdout",
     "output_type": "stream",
     "text": [
      "QRS_acc: 0.8797\n",
      "Scoring complete.\n",
      "QRS_acc: 0.86\n",
      "Scoring complete.\n",
      "\n",
      "                Train epoch_191:\n",
      "                --------------------\n",
      "                train/epoch_loss:        0.5058991760015488\n",
      "                train/qrs_score:         0.8797\n",
      "            \n",
      "                test/qrs_score:          0.86\n",
      "                ---------------------------------\n",
      "            \n",
      "\n"
     ]
    },
    {
     "data": {
      "application/vnd.jupyter.widget-view+json": {
       "model_id": "32cbb794831847118df8829f8fe403dc",
       "version_major": 2,
       "version_minor": 0
      },
      "text/plain": [
       "HBox(children=(FloatProgress(value=0.0, description='Epoch 192/300', layout=Layout(flex='2'), max=1600.0, styl…"
      ]
     },
     "metadata": {},
     "output_type": "display_data"
    },
    {
     "name": "stdout",
     "output_type": "stream",
     "text": [
      "Train step_1340: loss : 0.07349399477243423\n",
      "QRS_acc: 0.8808\n",
      "Scoring complete.\n",
      "QRS_acc: 0.8625\n",
      "Scoring complete.\n",
      "\n",
      "                Train epoch_192:\n",
      "                --------------------\n",
      "                train/epoch_loss:        0.4971497654914856\n",
      "                train/qrs_score:         0.8808\n",
      "            \n",
      "                test/qrs_score:          0.8625\n",
      "                ---------------------------------\n",
      "            \n",
      "\n"
     ]
    },
    {
     "data": {
      "application/vnd.jupyter.widget-view+json": {
       "model_id": "cee8d88d51214079935d2bf3936fefd6",
       "version_major": 2,
       "version_minor": 0
      },
      "text/plain": [
       "HBox(children=(FloatProgress(value=0.0, description='Epoch 193/300', layout=Layout(flex='2'), max=1600.0, styl…"
      ]
     },
     "metadata": {},
     "output_type": "display_data"
    },
    {
     "name": "stdout",
     "output_type": "stream",
     "text": [
      "QRS_acc: 0.8815\n",
      "Scoring complete.\n",
      "QRS_acc: 0.8635\n",
      "Scoring complete.\n",
      "\n",
      "                Train epoch_193:\n",
      "                --------------------\n",
      "                train/epoch_loss:        0.5246294736862183\n",
      "                train/qrs_score:         0.8815\n",
      "            \n",
      "                test/qrs_score:          0.8635\n",
      "                ---------------------------------\n",
      "            \n",
      "\n"
     ]
    },
    {
     "data": {
      "application/vnd.jupyter.widget-view+json": {
       "model_id": "8d0ccb6e69854dd7af2cbbc100c484ef",
       "version_major": 2,
       "version_minor": 0
      },
      "text/plain": [
       "HBox(children=(FloatProgress(value=0.0, description='Epoch 194/300', layout=Layout(flex='2'), max=1600.0, styl…"
      ]
     },
     "metadata": {},
     "output_type": "display_data"
    },
    {
     "name": "stdout",
     "output_type": "stream",
     "text": [
      "QRS_acc: 0.8814\n",
      "Scoring complete.\n",
      "QRS_acc: 0.8592\n",
      "Scoring complete.\n",
      "\n",
      "                Train epoch_194:\n",
      "                --------------------\n",
      "                train/epoch_loss:        0.5233888104557991\n",
      "                train/qrs_score:         0.8814\n",
      "            \n",
      "                test/qrs_score:          0.8592\n",
      "                ---------------------------------\n",
      "            \n",
      "\n"
     ]
    },
    {
     "data": {
      "application/vnd.jupyter.widget-view+json": {
       "model_id": "d4ee8ec45a5c4db1aa3e0bcb352d2022",
       "version_major": 2,
       "version_minor": 0
      },
      "text/plain": [
       "HBox(children=(FloatProgress(value=0.0, description='Epoch 195/300', layout=Layout(flex='2'), max=1600.0, styl…"
      ]
     },
     "metadata": {},
     "output_type": "display_data"
    },
    {
     "name": "stdout",
     "output_type": "stream",
     "text": [
      "Train step_1360: loss : 0.0709989070892334\n",
      "QRS_acc: 0.8787\n",
      "Scoring complete.\n",
      "QRS_acc: 0.8692\n",
      "Scoring complete.\n",
      "\n",
      "                Train epoch_195:\n",
      "                --------------------\n",
      "                train/epoch_loss:        0.5060137212276459\n",
      "                train/qrs_score:         0.8787\n",
      "            \n",
      "                test/qrs_score:          0.8692\n",
      "                ---------------------------------\n",
      "            \n",
      "\n"
     ]
    },
    {
     "data": {
      "application/vnd.jupyter.widget-view+json": {
       "model_id": "670ce284fdec4b9980b30d78cb025ba2",
       "version_major": 2,
       "version_minor": 0
      },
      "text/plain": [
       "HBox(children=(FloatProgress(value=0.0, description='Epoch 196/300', layout=Layout(flex='2'), max=1600.0, styl…"
      ]
     },
     "metadata": {},
     "output_type": "display_data"
    },
    {
     "name": "stdout",
     "output_type": "stream",
     "text": [
      "QRS_acc: 0.8819\n",
      "Scoring complete.\n",
      "QRS_acc: 0.866\n",
      "Scoring complete.\n",
      "\n",
      "                Train epoch_196:\n",
      "                --------------------\n",
      "                train/epoch_loss:        0.5027668476104736\n",
      "                train/qrs_score:         0.8819\n",
      "            \n",
      "                test/qrs_score:          0.866\n",
      "                ---------------------------------\n",
      "            \n",
      "\n"
     ]
    },
    {
     "data": {
      "application/vnd.jupyter.widget-view+json": {
       "model_id": "6dc06948f8904b63adad9c321b0b4bd4",
       "version_major": 2,
       "version_minor": 0
      },
      "text/plain": [
       "HBox(children=(FloatProgress(value=0.0, description='Epoch 197/300', layout=Layout(flex='2'), max=1600.0, styl…"
      ]
     },
     "metadata": {},
     "output_type": "display_data"
    },
    {
     "name": "stdout",
     "output_type": "stream",
     "text": [
      "QRS_acc: 0.8769\n",
      "Scoring complete.\n",
      "QRS_acc: 0.868\n",
      "Scoring complete.\n",
      "\n",
      "                Train epoch_197:\n",
      "                --------------------\n",
      "                train/epoch_loss:        0.5134492442011833\n",
      "                train/qrs_score:         0.8769\n",
      "            \n",
      "                test/qrs_score:          0.868\n",
      "                ---------------------------------\n",
      "            \n",
      "\n"
     ]
    },
    {
     "data": {
      "application/vnd.jupyter.widget-view+json": {
       "model_id": "aafdcc797d0a45d095dcbb21ef439313",
       "version_major": 2,
       "version_minor": 0
      },
      "text/plain": [
       "HBox(children=(FloatProgress(value=0.0, description='Epoch 198/300', layout=Layout(flex='2'), max=1600.0, styl…"
      ]
     },
     "metadata": {},
     "output_type": "display_data"
    },
    {
     "name": "stdout",
     "output_type": "stream",
     "text": [
      "Train step_1380: loss : 0.07109736651182175\n",
      "QRS_acc: 0.8791\n",
      "Scoring complete.\n",
      "QRS_acc: 0.867\n",
      "Scoring complete.\n",
      "\n",
      "                Train epoch_198:\n",
      "                --------------------\n",
      "                train/epoch_loss:        0.521052859723568\n",
      "                train/qrs_score:         0.8791\n",
      "            \n",
      "                test/qrs_score:          0.867\n",
      "                ---------------------------------\n",
      "            \n",
      "\n"
     ]
    },
    {
     "data": {
      "application/vnd.jupyter.widget-view+json": {
       "model_id": "115972eff495470c8d86ee11c88093e1",
       "version_major": 2,
       "version_minor": 0
      },
      "text/plain": [
       "HBox(children=(FloatProgress(value=0.0, description='Epoch 199/300', layout=Layout(flex='2'), max=1600.0, styl…"
      ]
     },
     "metadata": {},
     "output_type": "display_data"
    },
    {
     "name": "stdout",
     "output_type": "stream",
     "text": [
      "QRS_acc: 0.8779\n",
      "Scoring complete.\n",
      "QRS_acc: 0.8655\n",
      "Scoring complete.\n",
      "\n",
      "                Train epoch_199:\n",
      "                --------------------\n",
      "                train/epoch_loss:        0.5068075135350227\n",
      "                train/qrs_score:         0.8779\n",
      "            \n",
      "                test/qrs_score:          0.8655\n",
      "                ---------------------------------\n",
      "            \n",
      "\n"
     ]
    },
    {
     "data": {
      "application/vnd.jupyter.widget-view+json": {
       "model_id": "1b4ccf77762d43a5b882c69d0963e847",
       "version_major": 2,
       "version_minor": 0
      },
      "text/plain": [
       "HBox(children=(FloatProgress(value=0.0, description='Epoch 200/300', layout=Layout(flex='2'), max=1600.0, styl…"
      ]
     },
     "metadata": {},
     "output_type": "display_data"
    },
    {
     "name": "stdout",
     "output_type": "stream",
     "text": [
      "Train step_1400: loss : 0.06700926274061203\n",
      "QRS_acc: 0.8786\n",
      "Scoring complete.\n",
      "QRS_acc: 0.8672\n",
      "Scoring complete.\n",
      "\n",
      "                Train epoch_200:\n",
      "                --------------------\n",
      "                train/epoch_loss:        0.5007026493549347\n",
      "                train/qrs_score:         0.8786\n",
      "            \n",
      "                test/qrs_score:          0.8672\n",
      "                ---------------------------------\n",
      "            \n",
      "\n"
     ]
    },
    {
     "data": {
      "application/vnd.jupyter.widget-view+json": {
       "model_id": "c9e5f98274db45769cc685efae05c834",
       "version_major": 2,
       "version_minor": 0
      },
      "text/plain": [
       "HBox(children=(FloatProgress(value=0.0, description='Epoch 201/300', layout=Layout(flex='2'), max=1600.0, styl…"
      ]
     },
     "metadata": {},
     "output_type": "display_data"
    },
    {
     "name": "stdout",
     "output_type": "stream",
     "text": [
      "QRS_acc: 0.8811\n",
      "Scoring complete.\n",
      "QRS_acc: 0.8688\n",
      "Scoring complete.\n",
      "\n",
      "                Train epoch_201:\n",
      "                --------------------\n",
      "                train/epoch_loss:        0.49731509387493134\n",
      "                train/qrs_score:         0.8811\n",
      "            \n",
      "                test/qrs_score:          0.8688\n",
      "                ---------------------------------\n",
      "            \n",
      "\n"
     ]
    },
    {
     "data": {
      "application/vnd.jupyter.widget-view+json": {
       "model_id": "c7109da60a5c46708ab47c9cded3d398",
       "version_major": 2,
       "version_minor": 0
      },
      "text/plain": [
       "HBox(children=(FloatProgress(value=0.0, description='Epoch 202/300', layout=Layout(flex='2'), max=1600.0, styl…"
      ]
     },
     "metadata": {},
     "output_type": "display_data"
    },
    {
     "name": "stdout",
     "output_type": "stream",
     "text": [
      "QRS_acc: 0.8858\n",
      "Scoring complete.\n",
      "QRS_acc: 0.8692\n",
      "Scoring complete.\n",
      "\n",
      "                Train epoch_202:\n",
      "                --------------------\n",
      "                train/epoch_loss:        0.5003282874822617\n",
      "                train/qrs_score:         0.8858\n",
      "            \n",
      "                test/qrs_score:          0.8692\n",
      "                ---------------------------------\n",
      "            \n",
      "\n"
     ]
    },
    {
     "data": {
      "application/vnd.jupyter.widget-view+json": {
       "model_id": "8bc2c56a94ca46709880e660755e5b20",
       "version_major": 2,
       "version_minor": 0
      },
      "text/plain": [
       "HBox(children=(FloatProgress(value=0.0, description='Epoch 203/300', layout=Layout(flex='2'), max=1600.0, styl…"
      ]
     },
     "metadata": {},
     "output_type": "display_data"
    },
    {
     "name": "stdout",
     "output_type": "stream",
     "text": [
      "Train step_1420: loss : 0.07363265007734299\n",
      "QRS_acc: 0.8842\n",
      "Scoring complete.\n",
      "QRS_acc: 0.8692\n",
      "Scoring complete.\n",
      "\n",
      "                Train epoch_203:\n",
      "                --------------------\n",
      "                train/epoch_loss:        0.4884920082986355\n",
      "                train/qrs_score:         0.8842\n",
      "            \n",
      "                test/qrs_score:          0.8692\n",
      "                ---------------------------------\n",
      "            \n",
      "\n"
     ]
    },
    {
     "data": {
      "application/vnd.jupyter.widget-view+json": {
       "model_id": "b8604b084d9d4b5688f09a4f14e8a771",
       "version_major": 2,
       "version_minor": 0
      },
      "text/plain": [
       "HBox(children=(FloatProgress(value=0.0, description='Epoch 204/300', layout=Layout(flex='2'), max=1600.0, styl…"
      ]
     },
     "metadata": {},
     "output_type": "display_data"
    },
    {
     "name": "stdout",
     "output_type": "stream",
     "text": [
      "QRS_acc: 0.8831\n",
      "Scoring complete.\n",
      "QRS_acc: 0.8665\n",
      "Scoring complete.\n",
      "\n",
      "                Train epoch_204:\n",
      "                --------------------\n",
      "                train/epoch_loss:        0.4999311789870262\n",
      "                train/qrs_score:         0.8831\n",
      "            \n",
      "                test/qrs_score:          0.8665\n",
      "                ---------------------------------\n",
      "            \n",
      "\n"
     ]
    },
    {
     "data": {
      "application/vnd.jupyter.widget-view+json": {
       "model_id": "df0d249b906d4981b21959743d776a16",
       "version_major": 2,
       "version_minor": 0
      },
      "text/plain": [
       "HBox(children=(FloatProgress(value=0.0, description='Epoch 205/300', layout=Layout(flex='2'), max=1600.0, styl…"
      ]
     },
     "metadata": {},
     "output_type": "display_data"
    },
    {
     "name": "stdout",
     "output_type": "stream",
     "text": [
      "QRS_acc: 0.8844\n",
      "Scoring complete.\n",
      "QRS_acc: 0.8607\n",
      "Scoring complete.\n",
      "\n",
      "                Train epoch_205:\n",
      "                --------------------\n",
      "                train/epoch_loss:        0.49465253204107285\n",
      "                train/qrs_score:         0.8844\n",
      "            \n",
      "                test/qrs_score:          0.8607\n",
      "                ---------------------------------\n",
      "            \n",
      "\n"
     ]
    },
    {
     "data": {
      "application/vnd.jupyter.widget-view+json": {
       "model_id": "46254ca6b55845e78b13e8c21e1b782f",
       "version_major": 2,
       "version_minor": 0
      },
      "text/plain": [
       "HBox(children=(FloatProgress(value=0.0, description='Epoch 206/300', layout=Layout(flex='2'), max=1600.0, styl…"
      ]
     },
     "metadata": {},
     "output_type": "display_data"
    },
    {
     "name": "stdout",
     "output_type": "stream",
     "text": [
      "Train step_1440: loss : 0.07018310576677322\n",
      "QRS_acc: 0.8862\n",
      "Scoring complete.\n",
      "QRS_acc: 0.8622\n",
      "Scoring complete.\n",
      "\n",
      "                Train epoch_206:\n",
      "                --------------------\n",
      "                train/epoch_loss:        0.4889216870069504\n",
      "                train/qrs_score:         0.8862\n",
      "            \n",
      "                test/qrs_score:          0.8622\n",
      "                ---------------------------------\n",
      "            \n",
      "\n"
     ]
    },
    {
     "data": {
      "application/vnd.jupyter.widget-view+json": {
       "model_id": "e50e09e343a54e45a6eb19dd98674aa1",
       "version_major": 2,
       "version_minor": 0
      },
      "text/plain": [
       "HBox(children=(FloatProgress(value=0.0, description='Epoch 207/300', layout=Layout(flex='2'), max=1600.0, styl…"
      ]
     },
     "metadata": {},
     "output_type": "display_data"
    },
    {
     "name": "stdout",
     "output_type": "stream",
     "text": [
      "QRS_acc: 0.8889\n",
      "Scoring complete.\n",
      "QRS_acc: 0.8645\n",
      "Scoring complete.\n",
      "\n",
      "                Train epoch_207:\n",
      "                --------------------\n",
      "                train/epoch_loss:        0.48915793746709824\n",
      "                train/qrs_score:         0.8889\n",
      "            \n",
      "                test/qrs_score:          0.8645\n",
      "                ---------------------------------\n",
      "            \n",
      "\n"
     ]
    },
    {
     "data": {
      "application/vnd.jupyter.widget-view+json": {
       "model_id": "c6a3c8fb47e945b594e9a49710c5cd27",
       "version_major": 2,
       "version_minor": 0
      },
      "text/plain": [
       "HBox(children=(FloatProgress(value=0.0, description='Epoch 208/300', layout=Layout(flex='2'), max=1600.0, styl…"
      ]
     },
     "metadata": {},
     "output_type": "display_data"
    },
    {
     "name": "stdout",
     "output_type": "stream",
     "text": [
      "QRS_acc: 0.8883\n",
      "Scoring complete.\n",
      "QRS_acc: 0.8682\n",
      "Scoring complete.\n",
      "\n",
      "                Train epoch_208:\n",
      "                --------------------\n",
      "                train/epoch_loss:        0.4887562170624733\n",
      "                train/qrs_score:         0.8883\n",
      "            \n",
      "                test/qrs_score:          0.8682\n",
      "                ---------------------------------\n",
      "            \n",
      "\n"
     ]
    },
    {
     "data": {
      "application/vnd.jupyter.widget-view+json": {
       "model_id": "d47c72f530054d68a5d9ba613783539d",
       "version_major": 2,
       "version_minor": 0
      },
      "text/plain": [
       "HBox(children=(FloatProgress(value=0.0, description='Epoch 209/300', layout=Layout(flex='2'), max=1600.0, styl…"
      ]
     },
     "metadata": {},
     "output_type": "display_data"
    },
    {
     "name": "stdout",
     "output_type": "stream",
     "text": [
      "Train step_1460: loss : 0.07291694730520248\n",
      "QRS_acc: 0.8881\n",
      "Scoring complete.\n",
      "QRS_acc: 0.8632\n",
      "Scoring complete.\n",
      "\n",
      "                Train epoch_209:\n",
      "                --------------------\n",
      "                train/epoch_loss:        0.4890739917755127\n",
      "                train/qrs_score:         0.8881\n",
      "            \n",
      "                test/qrs_score:          0.8632\n",
      "                ---------------------------------\n",
      "            \n",
      "\n"
     ]
    },
    {
     "data": {
      "application/vnd.jupyter.widget-view+json": {
       "model_id": "43e24a36dcbe465e8c1da0843b0efd59",
       "version_major": 2,
       "version_minor": 0
      },
      "text/plain": [
       "HBox(children=(FloatProgress(value=0.0, description='Epoch 210/300', layout=Layout(flex='2'), max=1600.0, styl…"
      ]
     },
     "metadata": {},
     "output_type": "display_data"
    },
    {
     "name": "stdout",
     "output_type": "stream",
     "text": [
      "QRS_acc: 0.8862\n",
      "Scoring complete.\n",
      "QRS_acc: 0.8702\n",
      "Scoring complete.\n",
      "\n",
      "                Train epoch_210:\n",
      "                --------------------\n",
      "                train/epoch_loss:        0.49401263892650604\n",
      "                train/qrs_score:         0.8862\n",
      "            \n",
      "                test/qrs_score:          0.8702\n",
      "                ---------------------------------\n",
      "            \n",
      "\n"
     ]
    },
    {
     "data": {
      "application/vnd.jupyter.widget-view+json": {
       "model_id": "8f89a161603345d2963fa4d317fbf456",
       "version_major": 2,
       "version_minor": 0
      },
      "text/plain": [
       "HBox(children=(FloatProgress(value=0.0, description='Epoch 211/300', layout=Layout(flex='2'), max=1600.0, styl…"
      ]
     },
     "metadata": {},
     "output_type": "display_data"
    },
    {
     "name": "stdout",
     "output_type": "stream",
     "text": [
      "QRS_acc: 0.8869\n",
      "Scoring complete.\n",
      "QRS_acc: 0.8712\n",
      "Scoring complete.\n",
      "\n",
      "                Train epoch_211:\n",
      "                --------------------\n",
      "                train/epoch_loss:        0.4851094223558903\n",
      "                train/qrs_score:         0.8869\n",
      "            \n",
      "                test/qrs_score:          0.8712\n",
      "                ---------------------------------\n",
      "            \n",
      "\n"
     ]
    },
    {
     "data": {
      "application/vnd.jupyter.widget-view+json": {
       "model_id": "7360d96d2930410da8b5c8a6365d1923",
       "version_major": 2,
       "version_minor": 0
      },
      "text/plain": [
       "HBox(children=(FloatProgress(value=0.0, description='Epoch 212/300', layout=Layout(flex='2'), max=1600.0, styl…"
      ]
     },
     "metadata": {},
     "output_type": "display_data"
    },
    {
     "name": "stdout",
     "output_type": "stream",
     "text": [
      "Train step_1480: loss : 0.07072552293539047\n",
      "QRS_acc: 0.8888\n",
      "Scoring complete.\n",
      "QRS_acc: 0.8675\n",
      "Scoring complete.\n",
      "\n",
      "                Train epoch_212:\n",
      "                --------------------\n",
      "                train/epoch_loss:        0.4945954754948616\n",
      "                train/qrs_score:         0.8888\n",
      "            \n",
      "                test/qrs_score:          0.8675\n",
      "                ---------------------------------\n",
      "            \n",
      "\n"
     ]
    },
    {
     "data": {
      "application/vnd.jupyter.widget-view+json": {
       "model_id": "ad5957902aa04f369617d956a27d1989",
       "version_major": 2,
       "version_minor": 0
      },
      "text/plain": [
       "HBox(children=(FloatProgress(value=0.0, description='Epoch 213/300', layout=Layout(flex='2'), max=1600.0, styl…"
      ]
     },
     "metadata": {},
     "output_type": "display_data"
    },
    {
     "name": "stdout",
     "output_type": "stream",
     "text": [
      "QRS_acc: 0.8881\n",
      "Scoring complete.\n",
      "QRS_acc: 0.8698\n",
      "Scoring complete.\n",
      "\n",
      "                Train epoch_213:\n",
      "                --------------------\n",
      "                train/epoch_loss:        0.4986373633146286\n",
      "                train/qrs_score:         0.8881\n",
      "            \n",
      "                test/qrs_score:          0.8698\n",
      "                ---------------------------------\n",
      "            \n",
      "\n"
     ]
    },
    {
     "data": {
      "application/vnd.jupyter.widget-view+json": {
       "model_id": "75649eab74e24ec7a2ff3fa84732f4d4",
       "version_major": 2,
       "version_minor": 0
      },
      "text/plain": [
       "HBox(children=(FloatProgress(value=0.0, description='Epoch 214/300', layout=Layout(flex='2'), max=1600.0, styl…"
      ]
     },
     "metadata": {},
     "output_type": "display_data"
    },
    {
     "name": "stdout",
     "output_type": "stream",
     "text": [
      "QRS_acc: 0.8877\n",
      "Scoring complete.\n",
      "QRS_acc: 0.8632\n",
      "Scoring complete.\n",
      "\n",
      "                Train epoch_214:\n",
      "                --------------------\n",
      "                train/epoch_loss:        0.48402364552021027\n",
      "                train/qrs_score:         0.8877\n",
      "            \n",
      "                test/qrs_score:          0.8632\n",
      "                ---------------------------------\n",
      "            \n",
      "\n"
     ]
    },
    {
     "data": {
      "application/vnd.jupyter.widget-view+json": {
       "model_id": "513fc3f39ffd4adfa4dbd3c75735dd93",
       "version_major": 2,
       "version_minor": 0
      },
      "text/plain": [
       "HBox(children=(FloatProgress(value=0.0, description='Epoch 215/300', layout=Layout(flex='2'), max=1600.0, styl…"
      ]
     },
     "metadata": {},
     "output_type": "display_data"
    },
    {
     "name": "stdout",
     "output_type": "stream",
     "text": [
      "Train step_1500: loss : 0.06919095665216446\n",
      "QRS_acc: 0.8882\n",
      "Scoring complete.\n",
      "QRS_acc: 0.8672\n",
      "Scoring complete.\n",
      "\n",
      "                Train epoch_215:\n",
      "                --------------------\n",
      "                train/epoch_loss:        0.4881073608994484\n",
      "                train/qrs_score:         0.8882\n",
      "            \n",
      "                test/qrs_score:          0.8672\n",
      "                ---------------------------------\n",
      "            \n",
      "\n"
     ]
    },
    {
     "data": {
      "application/vnd.jupyter.widget-view+json": {
       "model_id": "9a117c1fe5ca43a38ec360ee798b70e2",
       "version_major": 2,
       "version_minor": 0
      },
      "text/plain": [
       "HBox(children=(FloatProgress(value=0.0, description='Epoch 216/300', layout=Layout(flex='2'), max=1600.0, styl…"
      ]
     },
     "metadata": {},
     "output_type": "display_data"
    },
    {
     "name": "stdout",
     "output_type": "stream",
     "text": [
      "QRS_acc: 0.8884\n",
      "Scoring complete.\n",
      "QRS_acc: 0.866\n",
      "Scoring complete.\n",
      "\n",
      "                Train epoch_216:\n",
      "                --------------------\n",
      "                train/epoch_loss:        0.497824564576149\n",
      "                train/qrs_score:         0.8884\n",
      "            \n",
      "                test/qrs_score:          0.866\n",
      "                ---------------------------------\n",
      "            \n",
      "\n"
     ]
    },
    {
     "data": {
      "application/vnd.jupyter.widget-view+json": {
       "model_id": "06ff37b3d07741f69f7ea5124fb05633",
       "version_major": 2,
       "version_minor": 0
      },
      "text/plain": [
       "HBox(children=(FloatProgress(value=0.0, description='Epoch 217/300', layout=Layout(flex='2'), max=1600.0, styl…"
      ]
     },
     "metadata": {},
     "output_type": "display_data"
    },
    {
     "name": "stdout",
     "output_type": "stream",
     "text": [
      "QRS_acc: 0.8888\n",
      "Scoring complete.\n",
      "QRS_acc: 0.8607\n",
      "Scoring complete.\n",
      "\n",
      "                Train epoch_217:\n",
      "                --------------------\n",
      "                train/epoch_loss:        0.49036095291376114\n",
      "                train/qrs_score:         0.8888\n",
      "            \n",
      "                test/qrs_score:          0.8607\n",
      "                ---------------------------------\n",
      "            \n",
      "\n"
     ]
    },
    {
     "data": {
      "application/vnd.jupyter.widget-view+json": {
       "model_id": "ba658ee8fb1c4b178c3aeda22a5d9382",
       "version_major": 2,
       "version_minor": 0
      },
      "text/plain": [
       "HBox(children=(FloatProgress(value=0.0, description='Epoch 218/300', layout=Layout(flex='2'), max=1600.0, styl…"
      ]
     },
     "metadata": {},
     "output_type": "display_data"
    },
    {
     "name": "stdout",
     "output_type": "stream",
     "text": [
      "Train step_1520: loss : 0.07490244507789612\n",
      "QRS_acc: 0.89\n",
      "Scoring complete.\n",
      "QRS_acc: 0.869\n",
      "Scoring complete.\n",
      "\n",
      "                Train epoch_218:\n",
      "                --------------------\n",
      "                train/epoch_loss:        0.4885472506284714\n",
      "                train/qrs_score:         0.89\n",
      "            \n",
      "                test/qrs_score:          0.869\n",
      "                ---------------------------------\n",
      "            \n",
      "\n"
     ]
    },
    {
     "data": {
      "application/vnd.jupyter.widget-view+json": {
       "model_id": "080768483b75417bb9bcd4a9cd847c08",
       "version_major": 2,
       "version_minor": 0
      },
      "text/plain": [
       "HBox(children=(FloatProgress(value=0.0, description='Epoch 219/300', layout=Layout(flex='2'), max=1600.0, styl…"
      ]
     },
     "metadata": {},
     "output_type": "display_data"
    },
    {
     "name": "stdout",
     "output_type": "stream",
     "text": [
      "QRS_acc: 0.888\n",
      "Scoring complete.\n",
      "QRS_acc: 0.8712\n",
      "Scoring complete.\n",
      "\n",
      "                Train epoch_219:\n",
      "                --------------------\n",
      "                train/epoch_loss:        0.4986983835697174\n",
      "                train/qrs_score:         0.888\n",
      "            \n",
      "                test/qrs_score:          0.8712\n",
      "                ---------------------------------\n",
      "            \n",
      "\n"
     ]
    },
    {
     "data": {
      "application/vnd.jupyter.widget-view+json": {
       "model_id": "3e3756a93ab0411db8822e65871af880",
       "version_major": 2,
       "version_minor": 0
      },
      "text/plain": [
       "HBox(children=(FloatProgress(value=0.0, description='Epoch 220/300', layout=Layout(flex='2'), max=1600.0, styl…"
      ]
     },
     "metadata": {},
     "output_type": "display_data"
    },
    {
     "name": "stdout",
     "output_type": "stream",
     "text": [
      "Train step_1540: loss : 0.0652826651930809\n",
      "QRS_acc: 0.8908\n",
      "Scoring complete.\n",
      "QRS_acc: 0.8695\n",
      "Scoring complete.\n",
      "\n",
      "                Train epoch_220:\n",
      "                --------------------\n",
      "                train/epoch_loss:        0.4865949749946594\n",
      "                train/qrs_score:         0.8908\n",
      "            \n",
      "                test/qrs_score:          0.8695\n",
      "                ---------------------------------\n",
      "            \n",
      "\n"
     ]
    },
    {
     "data": {
      "application/vnd.jupyter.widget-view+json": {
       "model_id": "06113958d569476bb4ef52915b85fee4",
       "version_major": 2,
       "version_minor": 0
      },
      "text/plain": [
       "HBox(children=(FloatProgress(value=0.0, description='Epoch 221/300', layout=Layout(flex='2'), max=1600.0, styl…"
      ]
     },
     "metadata": {},
     "output_type": "display_data"
    },
    {
     "name": "stdout",
     "output_type": "stream",
     "text": [
      "QRS_acc: 0.8924\n",
      "Scoring complete.\n",
      "QRS_acc: 0.8638\n",
      "Scoring complete.\n",
      "\n",
      "                Train epoch_221:\n",
      "                --------------------\n",
      "                train/epoch_loss:        0.4915398955345154\n",
      "                train/qrs_score:         0.8924\n",
      "            \n",
      "                test/qrs_score:          0.8638\n",
      "                ---------------------------------\n",
      "            \n",
      "\n"
     ]
    },
    {
     "data": {
      "application/vnd.jupyter.widget-view+json": {
       "model_id": "a01f865f2ac74bc0a74ac74ee43b156e",
       "version_major": 2,
       "version_minor": 0
      },
      "text/plain": [
       "HBox(children=(FloatProgress(value=0.0, description='Epoch 222/300', layout=Layout(flex='2'), max=1600.0, styl…"
      ]
     },
     "metadata": {},
     "output_type": "display_data"
    },
    {
     "name": "stdout",
     "output_type": "stream",
     "text": [
      "QRS_acc: 0.8893\n",
      "Scoring complete.\n",
      "QRS_acc: 0.8712\n",
      "Scoring complete.\n",
      "\n",
      "                Train epoch_222:\n",
      "                --------------------\n",
      "                train/epoch_loss:        0.4824323505163193\n",
      "                train/qrs_score:         0.8893\n",
      "            \n",
      "                test/qrs_score:          0.8712\n",
      "                ---------------------------------\n",
      "            \n",
      "\n"
     ]
    },
    {
     "data": {
      "application/vnd.jupyter.widget-view+json": {
       "model_id": "6b48b8102b184936b318e2ac5baeaf37",
       "version_major": 2,
       "version_minor": 0
      },
      "text/plain": [
       "HBox(children=(FloatProgress(value=0.0, description='Epoch 223/300', layout=Layout(flex='2'), max=1600.0, styl…"
      ]
     },
     "metadata": {},
     "output_type": "display_data"
    },
    {
     "name": "stdout",
     "output_type": "stream",
     "text": [
      "Train step_1560: loss : 0.06795986741781235\n",
      "QRS_acc: 0.8948\n",
      "Scoring complete.\n",
      "QRS_acc: 0.8682\n",
      "Scoring complete.\n",
      "\n",
      "                Train epoch_223:\n",
      "                --------------------\n",
      "                train/epoch_loss:        0.4741426333785057\n",
      "                train/qrs_score:         0.8948\n",
      "            \n",
      "                test/qrs_score:          0.8682\n",
      "                ---------------------------------\n",
      "            \n",
      "\n"
     ]
    },
    {
     "data": {
      "application/vnd.jupyter.widget-view+json": {
       "model_id": "8e9f4ae9e62b4619a5b43e1dc6706d3b",
       "version_major": 2,
       "version_minor": 0
      },
      "text/plain": [
       "HBox(children=(FloatProgress(value=0.0, description='Epoch 224/300', layout=Layout(flex='2'), max=1600.0, styl…"
      ]
     },
     "metadata": {},
     "output_type": "display_data"
    },
    {
     "name": "stdout",
     "output_type": "stream",
     "text": [
      "QRS_acc: 0.8936\n",
      "Scoring complete.\n",
      "QRS_acc: 0.873\n",
      "Scoring complete.\n",
      "\n",
      "                Train epoch_224:\n",
      "                --------------------\n",
      "                train/epoch_loss:        0.47881636768579483\n",
      "                train/qrs_score:         0.8936\n",
      "            \n",
      "                test/qrs_score:          0.873\n",
      "                ---------------------------------\n",
      "            \n",
      "\n"
     ]
    },
    {
     "data": {
      "application/vnd.jupyter.widget-view+json": {
       "model_id": "5a972217d283412a89c0191079e45c36",
       "version_major": 2,
       "version_minor": 0
      },
      "text/plain": [
       "HBox(children=(FloatProgress(value=0.0, description='Epoch 225/300', layout=Layout(flex='2'), max=1600.0, styl…"
      ]
     },
     "metadata": {},
     "output_type": "display_data"
    },
    {
     "name": "stdout",
     "output_type": "stream",
     "text": [
      "QRS_acc: 0.8927\n",
      "Scoring complete.\n",
      "QRS_acc: 0.8708\n",
      "Scoring complete.\n",
      "\n",
      "                Train epoch_225:\n",
      "                --------------------\n",
      "                train/epoch_loss:        0.49187783896923065\n",
      "                train/qrs_score:         0.8927\n",
      "            \n",
      "                test/qrs_score:          0.8708\n",
      "                ---------------------------------\n",
      "            \n",
      "\n"
     ]
    },
    {
     "data": {
      "application/vnd.jupyter.widget-view+json": {
       "model_id": "2c694f4a3c364efd9bc0ad9b1d48a6c1",
       "version_major": 2,
       "version_minor": 0
      },
      "text/plain": [
       "HBox(children=(FloatProgress(value=0.0, description='Epoch 226/300', layout=Layout(flex='2'), max=1600.0, styl…"
      ]
     },
     "metadata": {},
     "output_type": "display_data"
    },
    {
     "name": "stdout",
     "output_type": "stream",
     "text": [
      "Train step_1580: loss : 0.06484244763851166\n",
      "QRS_acc: 0.893\n",
      "Scoring complete.\n",
      "QRS_acc: 0.8712\n",
      "Scoring complete.\n",
      "\n",
      "                Train epoch_226:\n",
      "                --------------------\n",
      "                train/epoch_loss:        0.4858224168419838\n",
      "                train/qrs_score:         0.893\n",
      "            \n",
      "                test/qrs_score:          0.8712\n",
      "                ---------------------------------\n",
      "            \n",
      "\n"
     ]
    },
    {
     "data": {
      "application/vnd.jupyter.widget-view+json": {
       "model_id": "18b98c1a2117461bba2565c75716f83d",
       "version_major": 2,
       "version_minor": 0
      },
      "text/plain": [
       "HBox(children=(FloatProgress(value=0.0, description='Epoch 227/300', layout=Layout(flex='2'), max=1600.0, styl…"
      ]
     },
     "metadata": {},
     "output_type": "display_data"
    },
    {
     "name": "stdout",
     "output_type": "stream",
     "text": [
      "QRS_acc: 0.8937\n",
      "Scoring complete.\n",
      "QRS_acc: 0.8675\n",
      "Scoring complete.\n",
      "\n",
      "                Train epoch_227:\n",
      "                --------------------\n",
      "                train/epoch_loss:        0.47097042202949524\n",
      "                train/qrs_score:         0.8937\n",
      "            \n",
      "                test/qrs_score:          0.8675\n",
      "                ---------------------------------\n",
      "            \n",
      "\n"
     ]
    },
    {
     "data": {
      "application/vnd.jupyter.widget-view+json": {
       "model_id": "5cef579ee43247ccb40ac7b055faa2da",
       "version_major": 2,
       "version_minor": 0
      },
      "text/plain": [
       "HBox(children=(FloatProgress(value=0.0, description='Epoch 228/300', layout=Layout(flex='2'), max=1600.0, styl…"
      ]
     },
     "metadata": {},
     "output_type": "display_data"
    },
    {
     "name": "stdout",
     "output_type": "stream",
     "text": [
      "QRS_acc: 0.894\n",
      "Scoring complete.\n",
      "QRS_acc: 0.866\n",
      "Scoring complete.\n",
      "\n",
      "                Train epoch_228:\n",
      "                --------------------\n",
      "                train/epoch_loss:        0.4848031848669052\n",
      "                train/qrs_score:         0.894\n",
      "            \n",
      "                test/qrs_score:          0.866\n",
      "                ---------------------------------\n",
      "            \n",
      "\n"
     ]
    },
    {
     "data": {
      "application/vnd.jupyter.widget-view+json": {
       "model_id": "9f5a3719ba7647938e071d1f6679f9d0",
       "version_major": 2,
       "version_minor": 0
      },
      "text/plain": [
       "HBox(children=(FloatProgress(value=0.0, description='Epoch 229/300', layout=Layout(flex='2'), max=1600.0, styl…"
      ]
     },
     "metadata": {},
     "output_type": "display_data"
    },
    {
     "name": "stdout",
     "output_type": "stream",
     "text": [
      "Train step_1600: loss : 0.0644647479057312\n",
      "QRS_acc: 0.8953\n",
      "Scoring complete.\n",
      "QRS_acc: 0.867\n",
      "Scoring complete.\n",
      "\n",
      "                Train epoch_229:\n",
      "                --------------------\n",
      "                train/epoch_loss:        0.4761035740375519\n",
      "                train/qrs_score:         0.8953\n",
      "            \n",
      "                test/qrs_score:          0.867\n",
      "                ---------------------------------\n",
      "            \n",
      "\n"
     ]
    },
    {
     "data": {
      "application/vnd.jupyter.widget-view+json": {
       "model_id": "8c1681dff68c4036ae1b6f605b3caa28",
       "version_major": 2,
       "version_minor": 0
      },
      "text/plain": [
       "HBox(children=(FloatProgress(value=0.0, description='Epoch 230/300', layout=Layout(flex='2'), max=1600.0, styl…"
      ]
     },
     "metadata": {},
     "output_type": "display_data"
    },
    {
     "name": "stdout",
     "output_type": "stream",
     "text": [
      "QRS_acc: 0.8929\n",
      "Scoring complete.\n",
      "QRS_acc: 0.8635\n",
      "Scoring complete.\n",
      "\n",
      "                Train epoch_230:\n",
      "                --------------------\n",
      "                train/epoch_loss:        0.4767524525523186\n",
      "                train/qrs_score:         0.8929\n",
      "            \n",
      "                test/qrs_score:          0.8635\n",
      "                ---------------------------------\n",
      "            \n",
      "\n"
     ]
    },
    {
     "data": {
      "application/vnd.jupyter.widget-view+json": {
       "model_id": "aabda807c06a4ac083c817cf9b210259",
       "version_major": 2,
       "version_minor": 0
      },
      "text/plain": [
       "HBox(children=(FloatProgress(value=0.0, description='Epoch 231/300', layout=Layout(flex='2'), max=1600.0, styl…"
      ]
     },
     "metadata": {},
     "output_type": "display_data"
    },
    {
     "name": "stdout",
     "output_type": "stream",
     "text": [
      "QRS_acc: 0.8974\n",
      "Scoring complete.\n",
      "QRS_acc: 0.8632\n",
      "Scoring complete.\n",
      "\n",
      "                Train epoch_231:\n",
      "                --------------------\n",
      "                train/epoch_loss:        0.47492916136980057\n",
      "                train/qrs_score:         0.8974\n",
      "            \n",
      "                test/qrs_score:          0.8632\n",
      "                ---------------------------------\n",
      "            \n",
      "\n"
     ]
    },
    {
     "data": {
      "application/vnd.jupyter.widget-view+json": {
       "model_id": "556b55a5a9484fafb7083ba04bbe5cba",
       "version_major": 2,
       "version_minor": 0
      },
      "text/plain": [
       "HBox(children=(FloatProgress(value=0.0, description='Epoch 232/300', layout=Layout(flex='2'), max=1600.0, styl…"
      ]
     },
     "metadata": {},
     "output_type": "display_data"
    },
    {
     "name": "stdout",
     "output_type": "stream",
     "text": [
      "Train step_1620: loss : 0.07331804186105728\n",
      "QRS_acc: 0.8951\n",
      "Scoring complete.\n",
      "QRS_acc: 0.8758\n",
      "Scoring complete.\n",
      "\n",
      "                Train epoch_232:\n",
      "                --------------------\n",
      "                train/epoch_loss:        0.47511985152959824\n",
      "                train/qrs_score:         0.8951\n",
      "            \n",
      "                test/qrs_score:          0.8758\n",
      "                ---------------------------------\n",
      "            \n",
      "\n"
     ]
    },
    {
     "data": {
      "application/vnd.jupyter.widget-view+json": {
       "model_id": "f2fd083b6bc945fba310ec9218091943",
       "version_major": 2,
       "version_minor": 0
      },
      "text/plain": [
       "HBox(children=(FloatProgress(value=0.0, description='Epoch 233/300', layout=Layout(flex='2'), max=1600.0, styl…"
      ]
     },
     "metadata": {},
     "output_type": "display_data"
    },
    {
     "name": "stdout",
     "output_type": "stream",
     "text": [
      "QRS_acc: 0.9011\n",
      "Scoring complete.\n",
      "QRS_acc: 0.8692\n",
      "Scoring complete.\n",
      "\n",
      "                Train epoch_233:\n",
      "                --------------------\n",
      "                train/epoch_loss:        0.47619957104325294\n",
      "                train/qrs_score:         0.9011\n",
      "            \n",
      "                test/qrs_score:          0.8692\n",
      "                ---------------------------------\n",
      "            \n",
      "\n"
     ]
    },
    {
     "data": {
      "application/vnd.jupyter.widget-view+json": {
       "model_id": "bb34743a45824f24900a107af3a1f40c",
       "version_major": 2,
       "version_minor": 0
      },
      "text/plain": [
       "HBox(children=(FloatProgress(value=0.0, description='Epoch 234/300', layout=Layout(flex='2'), max=1600.0, styl…"
      ]
     },
     "metadata": {},
     "output_type": "display_data"
    },
    {
     "name": "stdout",
     "output_type": "stream",
     "text": [
      "QRS_acc: 0.8966\n",
      "Scoring complete.\n",
      "QRS_acc: 0.8672\n",
      "Scoring complete.\n",
      "\n",
      "                Train epoch_234:\n",
      "                --------------------\n",
      "                train/epoch_loss:        0.4694409519433975\n",
      "                train/qrs_score:         0.8966\n",
      "            \n",
      "                test/qrs_score:          0.8672\n",
      "                ---------------------------------\n",
      "            \n",
      "\n"
     ]
    },
    {
     "data": {
      "application/vnd.jupyter.widget-view+json": {
       "model_id": "4015b6f213a140d8b90806de844ba32e",
       "version_major": 2,
       "version_minor": 0
      },
      "text/plain": [
       "HBox(children=(FloatProgress(value=0.0, description='Epoch 235/300', layout=Layout(flex='2'), max=1600.0, styl…"
      ]
     },
     "metadata": {},
     "output_type": "display_data"
    },
    {
     "name": "stdout",
     "output_type": "stream",
     "text": [
      "Train step_1640: loss : 0.06905554980039597\n",
      "QRS_acc: 0.8993\n",
      "Scoring complete.\n",
      "QRS_acc: 0.8712\n",
      "Scoring complete.\n",
      "\n",
      "                Train epoch_235:\n",
      "                --------------------\n",
      "                train/epoch_loss:        0.474432535469532\n",
      "                train/qrs_score:         0.8993\n",
      "            \n",
      "                test/qrs_score:          0.8712\n",
      "                ---------------------------------\n",
      "            \n",
      "\n"
     ]
    },
    {
     "data": {
      "application/vnd.jupyter.widget-view+json": {
       "model_id": "8a8e6908bd6546c1b4f2245a14095591",
       "version_major": 2,
       "version_minor": 0
      },
      "text/plain": [
       "HBox(children=(FloatProgress(value=0.0, description='Epoch 236/300', layout=Layout(flex='2'), max=1600.0, styl…"
      ]
     },
     "metadata": {},
     "output_type": "display_data"
    },
    {
     "name": "stdout",
     "output_type": "stream",
     "text": [
      "QRS_acc: 0.8949\n",
      "Scoring complete.\n",
      "QRS_acc: 0.8647\n",
      "Scoring complete.\n",
      "\n",
      "                Train epoch_236:\n",
      "                --------------------\n",
      "                train/epoch_loss:        0.47060754895210266\n",
      "                train/qrs_score:         0.8949\n",
      "            \n",
      "                test/qrs_score:          0.8647\n",
      "                ---------------------------------\n",
      "            \n",
      "\n"
     ]
    },
    {
     "data": {
      "application/vnd.jupyter.widget-view+json": {
       "model_id": "ca3e065fcf3248dcafe977b13aa14e28",
       "version_major": 2,
       "version_minor": 0
      },
      "text/plain": [
       "HBox(children=(FloatProgress(value=0.0, description='Epoch 237/300', layout=Layout(flex='2'), max=1600.0, styl…"
      ]
     },
     "metadata": {},
     "output_type": "display_data"
    },
    {
     "name": "stdout",
     "output_type": "stream",
     "text": [
      "QRS_acc: 0.8914\n",
      "Scoring complete.\n",
      "QRS_acc: 0.8652\n",
      "Scoring complete.\n",
      "\n",
      "                Train epoch_237:\n",
      "                --------------------\n",
      "                train/epoch_loss:        0.48114728182554245\n",
      "                train/qrs_score:         0.8914\n",
      "            \n",
      "                test/qrs_score:          0.8652\n",
      "                ---------------------------------\n",
      "            \n",
      "\n"
     ]
    },
    {
     "data": {
      "application/vnd.jupyter.widget-view+json": {
       "model_id": "03507cc596084a339afd808f2c260968",
       "version_major": 2,
       "version_minor": 0
      },
      "text/plain": [
       "HBox(children=(FloatProgress(value=0.0, description='Epoch 238/300', layout=Layout(flex='2'), max=1600.0, styl…"
      ]
     },
     "metadata": {},
     "output_type": "display_data"
    },
    {
     "name": "stdout",
     "output_type": "stream",
     "text": [
      "Train step_1660: loss : 0.06300905346870422\n",
      "QRS_acc: 0.9031\n",
      "Scoring complete.\n",
      "QRS_acc: 0.8722\n",
      "Scoring complete.\n",
      "\n",
      "                Train epoch_238:\n",
      "                --------------------\n",
      "                train/epoch_loss:        0.4746387004852295\n",
      "                train/qrs_score:         0.9031\n",
      "            \n",
      "                test/qrs_score:          0.8722\n",
      "                ---------------------------------\n",
      "            \n",
      "\n"
     ]
    },
    {
     "data": {
      "application/vnd.jupyter.widget-view+json": {
       "model_id": "ad5e958f45bb4d34aca1196108cab877",
       "version_major": 2,
       "version_minor": 0
      },
      "text/plain": [
       "HBox(children=(FloatProgress(value=0.0, description='Epoch 239/300', layout=Layout(flex='2'), max=1600.0, styl…"
      ]
     },
     "metadata": {},
     "output_type": "display_data"
    },
    {
     "name": "stdout",
     "output_type": "stream",
     "text": [
      "QRS_acc: 0.8978\n",
      "Scoring complete.\n",
      "QRS_acc: 0.8652\n",
      "Scoring complete.\n",
      "\n",
      "                Train epoch_239:\n",
      "                --------------------\n",
      "                train/epoch_loss:        0.4837772324681282\n",
      "                train/qrs_score:         0.8978\n",
      "            \n",
      "                test/qrs_score:          0.8652\n",
      "                ---------------------------------\n",
      "            \n",
      "\n"
     ]
    },
    {
     "data": {
      "application/vnd.jupyter.widget-view+json": {
       "model_id": "bd2bc59179924e899879835faf1c2652",
       "version_major": 2,
       "version_minor": 0
      },
      "text/plain": [
       "HBox(children=(FloatProgress(value=0.0, description='Epoch 240/300', layout=Layout(flex='2'), max=1600.0, styl…"
      ]
     },
     "metadata": {},
     "output_type": "display_data"
    },
    {
     "name": "stdout",
     "output_type": "stream",
     "text": [
      "Train step_1680: loss : 0.06773239374160767\n",
      "QRS_acc: 0.8954\n",
      "Scoring complete.\n",
      "QRS_acc: 0.869\n",
      "Scoring complete.\n",
      "\n",
      "                Train epoch_240:\n",
      "                --------------------\n",
      "                train/epoch_loss:        0.4677119366824627\n",
      "                train/qrs_score:         0.8954\n",
      "            \n",
      "                test/qrs_score:          0.869\n",
      "                ---------------------------------\n",
      "            \n",
      "\n"
     ]
    },
    {
     "data": {
      "application/vnd.jupyter.widget-view+json": {
       "model_id": "ffbcbc39edcf47ed9e6ee2a569893dd9",
       "version_major": 2,
       "version_minor": 0
      },
      "text/plain": [
       "HBox(children=(FloatProgress(value=0.0, description='Epoch 241/300', layout=Layout(flex='2'), max=1600.0, styl…"
      ]
     },
     "metadata": {},
     "output_type": "display_data"
    },
    {
     "name": "stdout",
     "output_type": "stream",
     "text": [
      "QRS_acc: 0.8992\n",
      "Scoring complete.\n",
      "QRS_acc: 0.8745\n",
      "Scoring complete.\n",
      "\n",
      "                Train epoch_241:\n",
      "                --------------------\n",
      "                train/epoch_loss:        0.46833333373069763\n",
      "                train/qrs_score:         0.8992\n",
      "            \n",
      "                test/qrs_score:          0.8745\n",
      "                ---------------------------------\n",
      "            \n",
      "\n"
     ]
    },
    {
     "data": {
      "application/vnd.jupyter.widget-view+json": {
       "model_id": "971bb34a36e8417ea54e9d094ae63992",
       "version_major": 2,
       "version_minor": 0
      },
      "text/plain": [
       "HBox(children=(FloatProgress(value=0.0, description='Epoch 242/300', layout=Layout(flex='2'), max=1600.0, styl…"
      ]
     },
     "metadata": {},
     "output_type": "display_data"
    },
    {
     "name": "stdout",
     "output_type": "stream",
     "text": [
      "QRS_acc: 0.8972\n",
      "Scoring complete.\n",
      "QRS_acc: 0.8735\n",
      "Scoring complete.\n",
      "\n",
      "                Train epoch_242:\n",
      "                --------------------\n",
      "                train/epoch_loss:        0.46603018045425415\n",
      "                train/qrs_score:         0.8972\n",
      "            \n",
      "                test/qrs_score:          0.8735\n",
      "                ---------------------------------\n",
      "            \n",
      "\n"
     ]
    },
    {
     "data": {
      "application/vnd.jupyter.widget-view+json": {
       "model_id": "726f3ce09f034d6ca0cd894b4cebbedc",
       "version_major": 2,
       "version_minor": 0
      },
      "text/plain": [
       "HBox(children=(FloatProgress(value=0.0, description='Epoch 243/300', layout=Layout(flex='2'), max=1600.0, styl…"
      ]
     },
     "metadata": {},
     "output_type": "display_data"
    },
    {
     "name": "stdout",
     "output_type": "stream",
     "text": [
      "Train step_1700: loss : 0.06449949741363525\n",
      "QRS_acc: 0.9001\n",
      "Scoring complete.\n",
      "QRS_acc: 0.8712\n",
      "Scoring complete.\n",
      "\n",
      "                Train epoch_243:\n",
      "                --------------------\n",
      "                train/epoch_loss:        0.4613279439508915\n",
      "                train/qrs_score:         0.9001\n",
      "            \n",
      "                test/qrs_score:          0.8712\n",
      "                ---------------------------------\n",
      "            \n",
      "\n"
     ]
    },
    {
     "data": {
      "application/vnd.jupyter.widget-view+json": {
       "model_id": "090c710a646145c0ac63d8d6794146f8",
       "version_major": 2,
       "version_minor": 0
      },
      "text/plain": [
       "HBox(children=(FloatProgress(value=0.0, description='Epoch 244/300', layout=Layout(flex='2'), max=1600.0, styl…"
      ]
     },
     "metadata": {},
     "output_type": "display_data"
    },
    {
     "name": "stdout",
     "output_type": "stream",
     "text": [
      "QRS_acc: 0.9032\n",
      "Scoring complete.\n",
      "QRS_acc: 0.8705\n",
      "Scoring complete.\n",
      "\n",
      "                Train epoch_244:\n",
      "                --------------------\n",
      "                train/epoch_loss:        0.474986307322979\n",
      "                train/qrs_score:         0.9032\n",
      "            \n",
      "                test/qrs_score:          0.8705\n",
      "                ---------------------------------\n",
      "            \n",
      "\n"
     ]
    },
    {
     "data": {
      "application/vnd.jupyter.widget-view+json": {
       "model_id": "8c52a186efe647a7ba84c34cdc593bc3",
       "version_major": 2,
       "version_minor": 0
      },
      "text/plain": [
       "HBox(children=(FloatProgress(value=0.0, description='Epoch 245/300', layout=Layout(flex='2'), max=1600.0, styl…"
      ]
     },
     "metadata": {},
     "output_type": "display_data"
    },
    {
     "name": "stdout",
     "output_type": "stream",
     "text": [
      "QRS_acc: 0.9045\n",
      "Scoring complete.\n",
      "QRS_acc: 0.8708\n",
      "Scoring complete.\n",
      "\n",
      "                Train epoch_245:\n",
      "                --------------------\n",
      "                train/epoch_loss:        0.4685380607843399\n",
      "                train/qrs_score:         0.9045\n",
      "            \n",
      "                test/qrs_score:          0.8708\n",
      "                ---------------------------------\n",
      "            \n",
      "\n"
     ]
    },
    {
     "data": {
      "application/vnd.jupyter.widget-view+json": {
       "model_id": "f381373824b74b85b4e106acb9af28bb",
       "version_major": 2,
       "version_minor": 0
      },
      "text/plain": [
       "HBox(children=(FloatProgress(value=0.0, description='Epoch 246/300', layout=Layout(flex='2'), max=1600.0, styl…"
      ]
     },
     "metadata": {},
     "output_type": "display_data"
    },
    {
     "name": "stdout",
     "output_type": "stream",
     "text": [
      "Train step_1720: loss : 0.06845502555370331\n",
      "QRS_acc: 0.9025\n",
      "Scoring complete.\n",
      "QRS_acc: 0.87\n",
      "Scoring complete.\n",
      "\n",
      "                Train epoch_246:\n",
      "                --------------------\n",
      "                train/epoch_loss:        0.46781978011131287\n",
      "                train/qrs_score:         0.9025\n",
      "            \n",
      "                test/qrs_score:          0.87\n",
      "                ---------------------------------\n",
      "            \n",
      "\n"
     ]
    },
    {
     "data": {
      "application/vnd.jupyter.widget-view+json": {
       "model_id": "ec1e9415c59f4cfd968b74057f96aced",
       "version_major": 2,
       "version_minor": 0
      },
      "text/plain": [
       "HBox(children=(FloatProgress(value=0.0, description='Epoch 247/300', layout=Layout(flex='2'), max=1600.0, styl…"
      ]
     },
     "metadata": {},
     "output_type": "display_data"
    },
    {
     "name": "stdout",
     "output_type": "stream",
     "text": [
      "QRS_acc: 0.9023\n",
      "Scoring complete.\n",
      "QRS_acc: 0.8615\n",
      "Scoring complete.\n",
      "\n",
      "                Train epoch_247:\n",
      "                --------------------\n",
      "                train/epoch_loss:        0.4660961478948593\n",
      "                train/qrs_score:         0.9023\n",
      "            \n",
      "                test/qrs_score:          0.8615\n",
      "                ---------------------------------\n",
      "            \n",
      "\n"
     ]
    },
    {
     "data": {
      "application/vnd.jupyter.widget-view+json": {
       "model_id": "f4ae58bba6db4c85ba4b87fa97185e3f",
       "version_major": 2,
       "version_minor": 0
      },
      "text/plain": [
       "HBox(children=(FloatProgress(value=0.0, description='Epoch 248/300', layout=Layout(flex='2'), max=1600.0, styl…"
      ]
     },
     "metadata": {},
     "output_type": "display_data"
    },
    {
     "name": "stdout",
     "output_type": "stream",
     "text": [
      "QRS_acc: 0.9054\n",
      "Scoring complete.\n",
      "QRS_acc: 0.8725\n",
      "Scoring complete.\n",
      "\n",
      "                Train epoch_248:\n",
      "                --------------------\n",
      "                train/epoch_loss:        0.4659752622246742\n",
      "                train/qrs_score:         0.9054\n",
      "            \n",
      "                test/qrs_score:          0.8725\n",
      "                ---------------------------------\n",
      "            \n",
      "\n"
     ]
    },
    {
     "data": {
      "application/vnd.jupyter.widget-view+json": {
       "model_id": "bee40614148b48cc9ffd61e26c996489",
       "version_major": 2,
       "version_minor": 0
      },
      "text/plain": [
       "HBox(children=(FloatProgress(value=0.0, description='Epoch 249/300', layout=Layout(flex='2'), max=1600.0, styl…"
      ]
     },
     "metadata": {},
     "output_type": "display_data"
    },
    {
     "name": "stdout",
     "output_type": "stream",
     "text": [
      "Train step_1740: loss : 0.065358005464077\n",
      "QRS_acc: 0.9029\n",
      "Scoring complete.\n",
      "QRS_acc: 0.8715\n",
      "Scoring complete.\n",
      "\n",
      "                Train epoch_249:\n",
      "                --------------------\n",
      "                train/epoch_loss:        0.46163488179445267\n",
      "                train/qrs_score:         0.9029\n",
      "            \n",
      "                test/qrs_score:          0.8715\n",
      "                ---------------------------------\n",
      "            \n",
      "\n"
     ]
    },
    {
     "data": {
      "application/vnd.jupyter.widget-view+json": {
       "model_id": "e107afe38ce04e31bfce6daadb36a4f9",
       "version_major": 2,
       "version_minor": 0
      },
      "text/plain": [
       "HBox(children=(FloatProgress(value=0.0, description='Epoch 250/300', layout=Layout(flex='2'), max=1600.0, styl…"
      ]
     },
     "metadata": {},
     "output_type": "display_data"
    },
    {
     "name": "stdout",
     "output_type": "stream",
     "text": [
      "QRS_acc: 0.9061\n",
      "Scoring complete.\n",
      "QRS_acc: 0.8725\n",
      "Scoring complete.\n",
      "\n",
      "                Train epoch_250:\n",
      "                --------------------\n",
      "                train/epoch_loss:        0.4631853327155113\n",
      "                train/qrs_score:         0.9061\n",
      "            \n",
      "                test/qrs_score:          0.8725\n",
      "                ---------------------------------\n",
      "            \n",
      "\n"
     ]
    },
    {
     "data": {
      "application/vnd.jupyter.widget-view+json": {
       "model_id": "93d73bafb35c4e7eb367993ee68f7e32",
       "version_major": 2,
       "version_minor": 0
      },
      "text/plain": [
       "HBox(children=(FloatProgress(value=0.0, description='Epoch 251/300', layout=Layout(flex='2'), max=1600.0, styl…"
      ]
     },
     "metadata": {},
     "output_type": "display_data"
    },
    {
     "name": "stdout",
     "output_type": "stream",
     "text": [
      "QRS_acc: 0.9045\n",
      "Scoring complete.\n",
      "QRS_acc: 0.8708\n",
      "Scoring complete.\n",
      "\n",
      "                Train epoch_251:\n",
      "                --------------------\n",
      "                train/epoch_loss:        0.4626367315649986\n",
      "                train/qrs_score:         0.9045\n",
      "            \n",
      "                test/qrs_score:          0.8708\n",
      "                ---------------------------------\n",
      "            \n",
      "\n"
     ]
    },
    {
     "data": {
      "application/vnd.jupyter.widget-view+json": {
       "model_id": "dedf2ccda10e4e2eafe3f1301b86ef64",
       "version_major": 2,
       "version_minor": 0
      },
      "text/plain": [
       "HBox(children=(FloatProgress(value=0.0, description='Epoch 252/300', layout=Layout(flex='2'), max=1600.0, styl…"
      ]
     },
     "metadata": {},
     "output_type": "display_data"
    },
    {
     "name": "stdout",
     "output_type": "stream",
     "text": [
      "Train step_1760: loss : 0.07036591321229935\n",
      "QRS_acc: 0.9078\n",
      "Scoring complete.\n",
      "QRS_acc: 0.874\n",
      "Scoring complete.\n",
      "\n",
      "                Train epoch_252:\n",
      "                --------------------\n",
      "                train/epoch_loss:        0.4588235504925251\n",
      "                train/qrs_score:         0.9078\n",
      "            \n",
      "                test/qrs_score:          0.874\n",
      "                ---------------------------------\n",
      "            \n",
      "\n"
     ]
    },
    {
     "data": {
      "application/vnd.jupyter.widget-view+json": {
       "model_id": "02608469270b4d3eb0e8972990d3d64e",
       "version_major": 2,
       "version_minor": 0
      },
      "text/plain": [
       "HBox(children=(FloatProgress(value=0.0, description='Epoch 253/300', layout=Layout(flex='2'), max=1600.0, styl…"
      ]
     },
     "metadata": {},
     "output_type": "display_data"
    },
    {
     "name": "stdout",
     "output_type": "stream",
     "text": [
      "QRS_acc: 0.9075\n",
      "Scoring complete.\n",
      "QRS_acc: 0.8705\n",
      "Scoring complete.\n",
      "\n",
      "                Train epoch_253:\n",
      "                --------------------\n",
      "                train/epoch_loss:        0.46516773477196693\n",
      "                train/qrs_score:         0.9075\n",
      "            \n",
      "                test/qrs_score:          0.8705\n",
      "                ---------------------------------\n",
      "            \n",
      "\n"
     ]
    },
    {
     "data": {
      "application/vnd.jupyter.widget-view+json": {
       "model_id": "18b99b81ca674055ab447a49ead17e48",
       "version_major": 2,
       "version_minor": 0
      },
      "text/plain": [
       "HBox(children=(FloatProgress(value=0.0, description='Epoch 254/300', layout=Layout(flex='2'), max=1600.0, styl…"
      ]
     },
     "metadata": {},
     "output_type": "display_data"
    },
    {
     "name": "stdout",
     "output_type": "stream",
     "text": [
      "QRS_acc: 0.9012\n",
      "Scoring complete.\n",
      "QRS_acc: 0.8692\n",
      "Scoring complete.\n",
      "\n",
      "                Train epoch_254:\n",
      "                --------------------\n",
      "                train/epoch_loss:        0.4640362672507763\n",
      "                train/qrs_score:         0.9012\n",
      "            \n",
      "                test/qrs_score:          0.8692\n",
      "                ---------------------------------\n",
      "            \n",
      "\n"
     ]
    },
    {
     "data": {
      "application/vnd.jupyter.widget-view+json": {
       "model_id": "46e5f46974c5435ea46708ee787eb9a9",
       "version_major": 2,
       "version_minor": 0
      },
      "text/plain": [
       "HBox(children=(FloatProgress(value=0.0, description='Epoch 255/300', layout=Layout(flex='2'), max=1600.0, styl…"
      ]
     },
     "metadata": {},
     "output_type": "display_data"
    },
    {
     "name": "stdout",
     "output_type": "stream",
     "text": [
      "Train step_1780: loss : 0.07219699770212173\n",
      "QRS_acc: 0.9062\n",
      "Scoring complete.\n",
      "QRS_acc: 0.8672\n",
      "Scoring complete.\n",
      "\n",
      "                Train epoch_255:\n",
      "                --------------------\n",
      "                train/epoch_loss:        0.4585917107760906\n",
      "                train/qrs_score:         0.9062\n",
      "            \n",
      "                test/qrs_score:          0.8672\n",
      "                ---------------------------------\n",
      "            \n",
      "\n"
     ]
    },
    {
     "data": {
      "application/vnd.jupyter.widget-view+json": {
       "model_id": "5e4cca1acf364821b0aa8f115f65264d",
       "version_major": 2,
       "version_minor": 0
      },
      "text/plain": [
       "HBox(children=(FloatProgress(value=0.0, description='Epoch 256/300', layout=Layout(flex='2'), max=1600.0, styl…"
      ]
     },
     "metadata": {},
     "output_type": "display_data"
    },
    {
     "name": "stdout",
     "output_type": "stream",
     "text": [
      "QRS_acc: 0.9071\n",
      "Scoring complete.\n",
      "QRS_acc: 0.8725\n",
      "Scoring complete.\n",
      "\n",
      "                Train epoch_256:\n",
      "                --------------------\n",
      "                train/epoch_loss:        0.4594651386141777\n",
      "                train/qrs_score:         0.9071\n",
      "            \n",
      "                test/qrs_score:          0.8725\n",
      "                ---------------------------------\n",
      "            \n",
      "\n"
     ]
    },
    {
     "data": {
      "application/vnd.jupyter.widget-view+json": {
       "model_id": "5f8a7a115ed54534bad82f409c3ec002",
       "version_major": 2,
       "version_minor": 0
      },
      "text/plain": [
       "HBox(children=(FloatProgress(value=0.0, description='Epoch 257/300', layout=Layout(flex='2'), max=1600.0, styl…"
      ]
     },
     "metadata": {},
     "output_type": "display_data"
    },
    {
     "name": "stdout",
     "output_type": "stream",
     "text": [
      "QRS_acc: 0.9089\n",
      "Scoring complete.\n",
      "QRS_acc: 0.8728\n",
      "Scoring complete.\n",
      "\n",
      "                Train epoch_257:\n",
      "                --------------------\n",
      "                train/epoch_loss:        0.458824947476387\n",
      "                train/qrs_score:         0.9089\n",
      "            \n",
      "                test/qrs_score:          0.8728\n",
      "                ---------------------------------\n",
      "            \n",
      "\n"
     ]
    },
    {
     "data": {
      "application/vnd.jupyter.widget-view+json": {
       "model_id": "946ee906808e4fcfaebe8c44f4b07574",
       "version_major": 2,
       "version_minor": 0
      },
      "text/plain": [
       "HBox(children=(FloatProgress(value=0.0, description='Epoch 258/300', layout=Layout(flex='2'), max=1600.0, styl…"
      ]
     },
     "metadata": {},
     "output_type": "display_data"
    },
    {
     "name": "stdout",
     "output_type": "stream",
     "text": [
      "Train step_1800: loss : 0.06991635262966156\n",
      "QRS_acc: 0.9086\n",
      "Scoring complete.\n",
      "QRS_acc: 0.8748\n",
      "Scoring complete.\n",
      "\n",
      "                Train epoch_258:\n",
      "                --------------------\n",
      "                train/epoch_loss:        0.4576299972832203\n",
      "                train/qrs_score:         0.9086\n",
      "            \n",
      "                test/qrs_score:          0.8748\n",
      "                ---------------------------------\n",
      "            \n",
      "\n"
     ]
    },
    {
     "data": {
      "application/vnd.jupyter.widget-view+json": {
       "model_id": "50114bde976d45b1bf5402bfdb6448d7",
       "version_major": 2,
       "version_minor": 0
      },
      "text/plain": [
       "HBox(children=(FloatProgress(value=0.0, description='Epoch 259/300', layout=Layout(flex='2'), max=1600.0, styl…"
      ]
     },
     "metadata": {},
     "output_type": "display_data"
    },
    {
     "name": "stdout",
     "output_type": "stream",
     "text": [
      "QRS_acc: 0.9111\n",
      "Scoring complete.\n",
      "QRS_acc: 0.8745\n",
      "Scoring complete.\n",
      "\n",
      "                Train epoch_259:\n",
      "                --------------------\n",
      "                train/epoch_loss:        0.4581391215324402\n",
      "                train/qrs_score:         0.9111\n",
      "            \n",
      "                test/qrs_score:          0.8745\n",
      "                ---------------------------------\n",
      "            \n",
      "\n"
     ]
    },
    {
     "data": {
      "application/vnd.jupyter.widget-view+json": {
       "model_id": "5812dbb66cd847ea80ba291dcdd8e1de",
       "version_major": 2,
       "version_minor": 0
      },
      "text/plain": [
       "HBox(children=(FloatProgress(value=0.0, description='Epoch 260/300', layout=Layout(flex='2'), max=1600.0, styl…"
      ]
     },
     "metadata": {},
     "output_type": "display_data"
    },
    {
     "name": "stdout",
     "output_type": "stream",
     "text": [
      "Train step_1820: loss : 0.05792711675167084\n",
      "QRS_acc: 0.9088\n",
      "Scoring complete.\n",
      "QRS_acc: 0.875\n",
      "Scoring complete.\n",
      "\n",
      "                Train epoch_260:\n",
      "                --------------------\n",
      "                train/epoch_loss:        0.45294469594955444\n",
      "                train/qrs_score:         0.9088\n",
      "            \n",
      "                test/qrs_score:          0.875\n",
      "                ---------------------------------\n",
      "            \n",
      "\n"
     ]
    },
    {
     "data": {
      "application/vnd.jupyter.widget-view+json": {
       "model_id": "499fbc7716954b9f8d03db79e509b62a",
       "version_major": 2,
       "version_minor": 0
      },
      "text/plain": [
       "HBox(children=(FloatProgress(value=0.0, description='Epoch 261/300', layout=Layout(flex='2'), max=1600.0, styl…"
      ]
     },
     "metadata": {},
     "output_type": "display_data"
    },
    {
     "name": "stdout",
     "output_type": "stream",
     "text": [
      "QRS_acc: 0.9091\n",
      "Scoring complete.\n",
      "QRS_acc: 0.874\n",
      "Scoring complete.\n",
      "\n",
      "                Train epoch_261:\n",
      "                --------------------\n",
      "                train/epoch_loss:        0.451917864382267\n",
      "                train/qrs_score:         0.9091\n",
      "            \n",
      "                test/qrs_score:          0.874\n",
      "                ---------------------------------\n",
      "            \n",
      "\n"
     ]
    },
    {
     "data": {
      "application/vnd.jupyter.widget-view+json": {
       "model_id": "2fb8c637445549039d2c169c693fe7ca",
       "version_major": 2,
       "version_minor": 0
      },
      "text/plain": [
       "HBox(children=(FloatProgress(value=0.0, description='Epoch 262/300', layout=Layout(flex='2'), max=1600.0, styl…"
      ]
     },
     "metadata": {},
     "output_type": "display_data"
    },
    {
     "name": "stdout",
     "output_type": "stream",
     "text": [
      "QRS_acc: 0.911\n",
      "Scoring complete.\n",
      "QRS_acc: 0.869\n",
      "Scoring complete.\n",
      "\n",
      "                Train epoch_262:\n",
      "                --------------------\n",
      "                train/epoch_loss:        0.4659125320613384\n",
      "                train/qrs_score:         0.911\n",
      "            \n",
      "                test/qrs_score:          0.869\n",
      "                ---------------------------------\n",
      "            \n",
      "\n"
     ]
    },
    {
     "data": {
      "application/vnd.jupyter.widget-view+json": {
       "model_id": "fbc15ad70a414b27bb0f4559d14332c0",
       "version_major": 2,
       "version_minor": 0
      },
      "text/plain": [
       "HBox(children=(FloatProgress(value=0.0, description='Epoch 263/300', layout=Layout(flex='2'), max=1600.0, styl…"
      ]
     },
     "metadata": {},
     "output_type": "display_data"
    },
    {
     "name": "stdout",
     "output_type": "stream",
     "text": [
      "Train step_1840: loss : 0.07040897011756897\n",
      "QRS_acc: 0.9081\n",
      "Scoring complete.\n",
      "QRS_acc: 0.8705\n",
      "Scoring complete.\n",
      "\n",
      "                Train epoch_263:\n",
      "                --------------------\n",
      "                train/epoch_loss:        0.44823330640792847\n",
      "                train/qrs_score:         0.9081\n",
      "            \n",
      "                test/qrs_score:          0.8705\n",
      "                ---------------------------------\n",
      "            \n",
      "\n"
     ]
    },
    {
     "data": {
      "application/vnd.jupyter.widget-view+json": {
       "model_id": "57531d689c2949cc9964eafe218f39d7",
       "version_major": 2,
       "version_minor": 0
      },
      "text/plain": [
       "HBox(children=(FloatProgress(value=0.0, description='Epoch 264/300', layout=Layout(flex='2'), max=1600.0, styl…"
      ]
     },
     "metadata": {},
     "output_type": "display_data"
    },
    {
     "name": "stdout",
     "output_type": "stream",
     "text": [
      "QRS_acc: 0.9093\n",
      "Scoring complete.\n",
      "QRS_acc: 0.879\n",
      "Scoring complete.\n",
      "\n",
      "                Train epoch_264:\n",
      "                --------------------\n",
      "                train/epoch_loss:        0.45279279723763466\n",
      "                train/qrs_score:         0.9093\n",
      "            \n",
      "                test/qrs_score:          0.879\n",
      "                ---------------------------------\n",
      "            \n",
      "\n"
     ]
    },
    {
     "data": {
      "application/vnd.jupyter.widget-view+json": {
       "model_id": "0ffa5c4743cd41909ce51b50a38a3a01",
       "version_major": 2,
       "version_minor": 0
      },
      "text/plain": [
       "HBox(children=(FloatProgress(value=0.0, description='Epoch 265/300', layout=Layout(flex='2'), max=1600.0, styl…"
      ]
     },
     "metadata": {},
     "output_type": "display_data"
    },
    {
     "name": "stdout",
     "output_type": "stream",
     "text": [
      "QRS_acc: 0.909\n",
      "Scoring complete.\n",
      "QRS_acc: 0.8798\n",
      "Scoring complete.\n",
      "\n",
      "                Train epoch_265:\n",
      "                --------------------\n",
      "                train/epoch_loss:        0.4535500966012478\n",
      "                train/qrs_score:         0.909\n",
      "            \n",
      "                test/qrs_score:          0.8798\n",
      "                ---------------------------------\n",
      "            \n",
      "\n"
     ]
    },
    {
     "data": {
      "application/vnd.jupyter.widget-view+json": {
       "model_id": "38e0613f03b34085aff5f593f3a10ef6",
       "version_major": 2,
       "version_minor": 0
      },
      "text/plain": [
       "HBox(children=(FloatProgress(value=0.0, description='Epoch 266/300', layout=Layout(flex='2'), max=1600.0, styl…"
      ]
     },
     "metadata": {},
     "output_type": "display_data"
    },
    {
     "name": "stdout",
     "output_type": "stream",
     "text": [
      "Train step_1860: loss : 0.06267645955085754\n",
      "QRS_acc: 0.91\n",
      "Scoring complete.\n",
      "QRS_acc: 0.8738\n",
      "Scoring complete.\n",
      "\n",
      "                Train epoch_266:\n",
      "                --------------------\n",
      "                train/epoch_loss:        0.4493155777454376\n",
      "                train/qrs_score:         0.91\n",
      "            \n",
      "                test/qrs_score:          0.8738\n",
      "                ---------------------------------\n",
      "            \n",
      "\n"
     ]
    },
    {
     "data": {
      "application/vnd.jupyter.widget-view+json": {
       "model_id": "663470c9ce8e4f09afc1b868372a6a50",
       "version_major": 2,
       "version_minor": 0
      },
      "text/plain": [
       "HBox(children=(FloatProgress(value=0.0, description='Epoch 267/300', layout=Layout(flex='2'), max=1600.0, styl…"
      ]
     },
     "metadata": {},
     "output_type": "display_data"
    },
    {
     "name": "stdout",
     "output_type": "stream",
     "text": [
      "QRS_acc: 0.9107\n",
      "Scoring complete.\n",
      "QRS_acc: 0.8728\n",
      "Scoring complete.\n",
      "\n",
      "                Train epoch_267:\n",
      "                --------------------\n",
      "                train/epoch_loss:        0.45293645933270454\n",
      "                train/qrs_score:         0.9107\n",
      "            \n",
      "                test/qrs_score:          0.8728\n",
      "                ---------------------------------\n",
      "            \n",
      "\n"
     ]
    },
    {
     "data": {
      "application/vnd.jupyter.widget-view+json": {
       "model_id": "d8fcb33f86aa4cc4ac6d88cb95eba805",
       "version_major": 2,
       "version_minor": 0
      },
      "text/plain": [
       "HBox(children=(FloatProgress(value=0.0, description='Epoch 268/300', layout=Layout(flex='2'), max=1600.0, styl…"
      ]
     },
     "metadata": {},
     "output_type": "display_data"
    },
    {
     "name": "stdout",
     "output_type": "stream",
     "text": [
      "QRS_acc: 0.9112\n",
      "Scoring complete.\n",
      "QRS_acc: 0.876\n",
      "Scoring complete.\n",
      "\n",
      "                Train epoch_268:\n",
      "                --------------------\n",
      "                train/epoch_loss:        0.4461926594376564\n",
      "                train/qrs_score:         0.9112\n",
      "            \n",
      "                test/qrs_score:          0.876\n",
      "                ---------------------------------\n",
      "            \n",
      "\n"
     ]
    },
    {
     "data": {
      "application/vnd.jupyter.widget-view+json": {
       "model_id": "d237c987594b41cc8fd2b33498fb0f1a",
       "version_major": 2,
       "version_minor": 0
      },
      "text/plain": [
       "HBox(children=(FloatProgress(value=0.0, description='Epoch 269/300', layout=Layout(flex='2'), max=1600.0, styl…"
      ]
     },
     "metadata": {},
     "output_type": "display_data"
    },
    {
     "name": "stdout",
     "output_type": "stream",
     "text": [
      "Train step_1880: loss : 0.06602121144533157\n",
      "QRS_acc: 0.9122\n",
      "Scoring complete.\n",
      "QRS_acc: 0.8765\n",
      "Scoring complete.\n",
      "\n",
      "                Train epoch_269:\n",
      "                --------------------\n",
      "                train/epoch_loss:        0.43771521747112274\n",
      "                train/qrs_score:         0.9122\n",
      "            \n",
      "                test/qrs_score:          0.8765\n",
      "                ---------------------------------\n",
      "            \n",
      "\n"
     ]
    },
    {
     "data": {
      "application/vnd.jupyter.widget-view+json": {
       "model_id": "6e7c4ed3ba5e41c7b819679a55cd9a97",
       "version_major": 2,
       "version_minor": 0
      },
      "text/plain": [
       "HBox(children=(FloatProgress(value=0.0, description='Epoch 270/300', layout=Layout(flex='2'), max=1600.0, styl…"
      ]
     },
     "metadata": {},
     "output_type": "display_data"
    },
    {
     "name": "stdout",
     "output_type": "stream",
     "text": [
      "QRS_acc: 0.9107\n",
      "Scoring complete.\n",
      "QRS_acc: 0.8765\n",
      "Scoring complete.\n",
      "\n",
      "                Train epoch_270:\n",
      "                --------------------\n",
      "                train/epoch_loss:        0.44969699904322624\n",
      "                train/qrs_score:         0.9107\n",
      "            \n",
      "                test/qrs_score:          0.8765\n",
      "                ---------------------------------\n",
      "            \n",
      "\n"
     ]
    },
    {
     "data": {
      "application/vnd.jupyter.widget-view+json": {
       "model_id": "ce99e5af8fd94e97a6c8847d911a72b5",
       "version_major": 2,
       "version_minor": 0
      },
      "text/plain": [
       "HBox(children=(FloatProgress(value=0.0, description='Epoch 271/300', layout=Layout(flex='2'), max=1600.0, styl…"
      ]
     },
     "metadata": {},
     "output_type": "display_data"
    },
    {
     "name": "stdout",
     "output_type": "stream",
     "text": [
      "QRS_acc: 0.9138\n",
      "Scoring complete.\n",
      "QRS_acc: 0.8742\n",
      "Scoring complete.\n",
      "\n",
      "                Train epoch_271:\n",
      "                --------------------\n",
      "                train/epoch_loss:        0.4553528353571892\n",
      "                train/qrs_score:         0.9138\n",
      "            \n",
      "                test/qrs_score:          0.8742\n",
      "                ---------------------------------\n",
      "            \n",
      "\n"
     ]
    },
    {
     "data": {
      "application/vnd.jupyter.widget-view+json": {
       "model_id": "83dcba983699470d9717ba92e460c07b",
       "version_major": 2,
       "version_minor": 0
      },
      "text/plain": [
       "HBox(children=(FloatProgress(value=0.0, description='Epoch 272/300', layout=Layout(flex='2'), max=1600.0, styl…"
      ]
     },
     "metadata": {},
     "output_type": "display_data"
    },
    {
     "name": "stdout",
     "output_type": "stream",
     "text": [
      "Train step_1900: loss : 0.06523806601762772\n",
      "QRS_acc: 0.9126\n",
      "Scoring complete.\n",
      "QRS_acc: 0.8738\n",
      "Scoring complete.\n",
      "\n",
      "                Train epoch_272:\n",
      "                --------------------\n",
      "                train/epoch_loss:        0.45162154734134674\n",
      "                train/qrs_score:         0.9126\n",
      "            \n",
      "                test/qrs_score:          0.8738\n",
      "                ---------------------------------\n",
      "            \n",
      "\n"
     ]
    },
    {
     "data": {
      "application/vnd.jupyter.widget-view+json": {
       "model_id": "5d4be0ea7af74319b2cb2d21fe41b05e",
       "version_major": 2,
       "version_minor": 0
      },
      "text/plain": [
       "HBox(children=(FloatProgress(value=0.0, description='Epoch 273/300', layout=Layout(flex='2'), max=1600.0, styl…"
      ]
     },
     "metadata": {},
     "output_type": "display_data"
    },
    {
     "name": "stdout",
     "output_type": "stream",
     "text": [
      "QRS_acc: 0.912\n",
      "Scoring complete.\n",
      "QRS_acc: 0.8762\n",
      "Scoring complete.\n",
      "\n",
      "                Train epoch_273:\n",
      "                --------------------\n",
      "                train/epoch_loss:        0.44739388301968575\n",
      "                train/qrs_score:         0.912\n",
      "            \n",
      "                test/qrs_score:          0.8762\n",
      "                ---------------------------------\n",
      "            \n",
      "\n"
     ]
    },
    {
     "data": {
      "application/vnd.jupyter.widget-view+json": {
       "model_id": "cf15c52c96004ecba08486ebb097bba4",
       "version_major": 2,
       "version_minor": 0
      },
      "text/plain": [
       "HBox(children=(FloatProgress(value=0.0, description='Epoch 274/300', layout=Layout(flex='2'), max=1600.0, styl…"
      ]
     },
     "metadata": {},
     "output_type": "display_data"
    },
    {
     "name": "stdout",
     "output_type": "stream",
     "text": [
      "QRS_acc: 0.9129\n",
      "Scoring complete.\n",
      "QRS_acc: 0.8768\n",
      "Scoring complete.\n",
      "\n",
      "                Train epoch_274:\n",
      "                --------------------\n",
      "                train/epoch_loss:        0.44883786141872406\n",
      "                train/qrs_score:         0.9129\n",
      "            \n",
      "                test/qrs_score:          0.8768\n",
      "                ---------------------------------\n",
      "            \n",
      "\n"
     ]
    },
    {
     "data": {
      "application/vnd.jupyter.widget-view+json": {
       "model_id": "53d31a04357e4e08be1b3aa814a20612",
       "version_major": 2,
       "version_minor": 0
      },
      "text/plain": [
       "HBox(children=(FloatProgress(value=0.0, description='Epoch 275/300', layout=Layout(flex='2'), max=1600.0, styl…"
      ]
     },
     "metadata": {},
     "output_type": "display_data"
    },
    {
     "name": "stdout",
     "output_type": "stream",
     "text": [
      "Train step_1920: loss : 0.06491322815418243\n",
      "QRS_acc: 0.9126\n",
      "Scoring complete.\n",
      "QRS_acc: 0.8682\n",
      "Scoring complete.\n",
      "\n",
      "                Train epoch_275:\n",
      "                --------------------\n",
      "                train/epoch_loss:        0.4467269256711006\n",
      "                train/qrs_score:         0.9126\n",
      "            \n",
      "                test/qrs_score:          0.8682\n",
      "                ---------------------------------\n",
      "            \n",
      "\n"
     ]
    },
    {
     "data": {
      "application/vnd.jupyter.widget-view+json": {
       "model_id": "62673c4d167340b793dd59964f462521",
       "version_major": 2,
       "version_minor": 0
      },
      "text/plain": [
       "HBox(children=(FloatProgress(value=0.0, description='Epoch 276/300', layout=Layout(flex='2'), max=1600.0, styl…"
      ]
     },
     "metadata": {},
     "output_type": "display_data"
    },
    {
     "name": "stdout",
     "output_type": "stream",
     "text": [
      "QRS_acc: 0.9138\n",
      "Scoring complete.\n",
      "QRS_acc: 0.8762\n",
      "Scoring complete.\n",
      "\n",
      "                Train epoch_276:\n",
      "                --------------------\n",
      "                train/epoch_loss:        0.4452368915081024\n",
      "                train/qrs_score:         0.9138\n",
      "            \n",
      "                test/qrs_score:          0.8762\n",
      "                ---------------------------------\n",
      "            \n",
      "\n"
     ]
    },
    {
     "data": {
      "application/vnd.jupyter.widget-view+json": {
       "model_id": "b8e8b085e49348779524c556214a156c",
       "version_major": 2,
       "version_minor": 0
      },
      "text/plain": [
       "HBox(children=(FloatProgress(value=0.0, description='Epoch 277/300', layout=Layout(flex='2'), max=1600.0, styl…"
      ]
     },
     "metadata": {},
     "output_type": "display_data"
    },
    {
     "name": "stdout",
     "output_type": "stream",
     "text": [
      "QRS_acc: 0.9168\n",
      "Scoring complete.\n",
      "QRS_acc: 0.8752\n",
      "Scoring complete.\n",
      "\n",
      "                Train epoch_277:\n",
      "                --------------------\n",
      "                train/epoch_loss:        0.44889575242996216\n",
      "                train/qrs_score:         0.9168\n",
      "            \n",
      "                test/qrs_score:          0.8752\n",
      "                ---------------------------------\n",
      "            \n",
      "\n"
     ]
    },
    {
     "data": {
      "application/vnd.jupyter.widget-view+json": {
       "model_id": "a75a5d91463749b182e87c1511e7446c",
       "version_major": 2,
       "version_minor": 0
      },
      "text/plain": [
       "HBox(children=(FloatProgress(value=0.0, description='Epoch 278/300', layout=Layout(flex='2'), max=1600.0, styl…"
      ]
     },
     "metadata": {},
     "output_type": "display_data"
    },
    {
     "name": "stdout",
     "output_type": "stream",
     "text": [
      "Train step_1940: loss : 0.06083317846059799\n",
      "QRS_acc: 0.916\n",
      "Scoring complete.\n",
      "QRS_acc: 0.872\n",
      "Scoring complete.\n",
      "\n",
      "                Train epoch_278:\n",
      "                --------------------\n",
      "                train/epoch_loss:        0.43941914290189743\n",
      "                train/qrs_score:         0.916\n",
      "            \n",
      "                test/qrs_score:          0.872\n",
      "                ---------------------------------\n",
      "            \n",
      "\n"
     ]
    },
    {
     "data": {
      "application/vnd.jupyter.widget-view+json": {
       "model_id": "72c2d05074db4e0b81d7d058a97ef942",
       "version_major": 2,
       "version_minor": 0
      },
      "text/plain": [
       "HBox(children=(FloatProgress(value=0.0, description='Epoch 279/300', layout=Layout(flex='2'), max=1600.0, styl…"
      ]
     },
     "metadata": {},
     "output_type": "display_data"
    },
    {
     "name": "stdout",
     "output_type": "stream",
     "text": [
      "QRS_acc: 0.9176\n",
      "Scoring complete.\n",
      "QRS_acc: 0.8738\n",
      "Scoring complete.\n",
      "\n",
      "                Train epoch_279:\n",
      "                --------------------\n",
      "                train/epoch_loss:        0.44678153097629547\n",
      "                train/qrs_score:         0.9176\n",
      "            \n",
      "                test/qrs_score:          0.8738\n",
      "                ---------------------------------\n",
      "            \n",
      "\n"
     ]
    },
    {
     "data": {
      "application/vnd.jupyter.widget-view+json": {
       "model_id": "2235048f84e2494998f8bd331df6c0ce",
       "version_major": 2,
       "version_minor": 0
      },
      "text/plain": [
       "HBox(children=(FloatProgress(value=0.0, description='Epoch 280/300', layout=Layout(flex='2'), max=1600.0, styl…"
      ]
     },
     "metadata": {},
     "output_type": "display_data"
    },
    {
     "name": "stdout",
     "output_type": "stream",
     "text": [
      "Train step_1960: loss : 0.06869503110647202\n",
      "QRS_acc: 0.9154\n",
      "Scoring complete.\n",
      "QRS_acc: 0.8788\n",
      "Scoring complete.\n",
      "\n",
      "                Train epoch_280:\n",
      "                --------------------\n",
      "                train/epoch_loss:        0.444818202406168\n",
      "                train/qrs_score:         0.9154\n",
      "            \n",
      "                test/qrs_score:          0.8788\n",
      "                ---------------------------------\n",
      "            \n",
      "\n"
     ]
    },
    {
     "data": {
      "application/vnd.jupyter.widget-view+json": {
       "model_id": "a6a7059417ce4991a0193ba38085d771",
       "version_major": 2,
       "version_minor": 0
      },
      "text/plain": [
       "HBox(children=(FloatProgress(value=0.0, description='Epoch 281/300', layout=Layout(flex='2'), max=1600.0, styl…"
      ]
     },
     "metadata": {},
     "output_type": "display_data"
    },
    {
     "name": "stdout",
     "output_type": "stream",
     "text": [
      "QRS_acc: 0.9161\n",
      "Scoring complete.\n",
      "QRS_acc: 0.8805\n",
      "Scoring complete.\n",
      "\n",
      "                Train epoch_281:\n",
      "                --------------------\n",
      "                train/epoch_loss:        0.44739804044365883\n",
      "                train/qrs_score:         0.9161\n",
      "            \n",
      "                test/qrs_score:          0.8805\n",
      "                ---------------------------------\n",
      "            \n",
      "\n"
     ]
    },
    {
     "data": {
      "application/vnd.jupyter.widget-view+json": {
       "model_id": "08e660044a1c4126a3f74994a2718a9d",
       "version_major": 2,
       "version_minor": 0
      },
      "text/plain": [
       "HBox(children=(FloatProgress(value=0.0, description='Epoch 282/300', layout=Layout(flex='2'), max=1600.0, styl…"
      ]
     },
     "metadata": {},
     "output_type": "display_data"
    },
    {
     "name": "stdout",
     "output_type": "stream",
     "text": [
      "QRS_acc: 0.9149\n",
      "Scoring complete.\n",
      "QRS_acc: 0.8788\n",
      "Scoring complete.\n",
      "\n",
      "                Train epoch_282:\n",
      "                --------------------\n",
      "                train/epoch_loss:        0.43638844043016434\n",
      "                train/qrs_score:         0.9149\n",
      "            \n",
      "                test/qrs_score:          0.8788\n",
      "                ---------------------------------\n",
      "            \n",
      "\n"
     ]
    },
    {
     "data": {
      "application/vnd.jupyter.widget-view+json": {
       "model_id": "7e8f3a59380347f9b7d64918dbdb5bb6",
       "version_major": 2,
       "version_minor": 0
      },
      "text/plain": [
       "HBox(children=(FloatProgress(value=0.0, description='Epoch 283/300', layout=Layout(flex='2'), max=1600.0, styl…"
      ]
     },
     "metadata": {},
     "output_type": "display_data"
    },
    {
     "name": "stdout",
     "output_type": "stream",
     "text": [
      "Train step_1980: loss : 0.06389828026294708\n",
      "QRS_acc: 0.9157\n",
      "Scoring complete.\n",
      "QRS_acc: 0.883\n",
      "Scoring complete.\n",
      "\n",
      "                Train epoch_283:\n",
      "                --------------------\n",
      "                train/epoch_loss:        0.4481612704694271\n",
      "                train/qrs_score:         0.9157\n",
      "            \n",
      "                test/qrs_score:          0.883\n",
      "                ---------------------------------\n",
      "            \n",
      "\n"
     ]
    },
    {
     "data": {
      "application/vnd.jupyter.widget-view+json": {
       "model_id": "4e04fa7b4dfb4ce3bfef35fa748aa08c",
       "version_major": 2,
       "version_minor": 0
      },
      "text/plain": [
       "HBox(children=(FloatProgress(value=0.0, description='Epoch 284/300', layout=Layout(flex='2'), max=1600.0, styl…"
      ]
     },
     "metadata": {},
     "output_type": "display_data"
    },
    {
     "name": "stdout",
     "output_type": "stream",
     "text": [
      "QRS_acc: 0.9153\n",
      "Scoring complete.\n",
      "QRS_acc: 0.8798\n",
      "Scoring complete.\n",
      "\n",
      "                Train epoch_284:\n",
      "                --------------------\n",
      "                train/epoch_loss:        0.45389238744974136\n",
      "                train/qrs_score:         0.9153\n",
      "            \n",
      "                test/qrs_score:          0.8798\n",
      "                ---------------------------------\n",
      "            \n",
      "\n"
     ]
    },
    {
     "data": {
      "application/vnd.jupyter.widget-view+json": {
       "model_id": "d8fd774632664c6cb9792c2cd84dfdee",
       "version_major": 2,
       "version_minor": 0
      },
      "text/plain": [
       "HBox(children=(FloatProgress(value=0.0, description='Epoch 285/300', layout=Layout(flex='2'), max=1600.0, styl…"
      ]
     },
     "metadata": {},
     "output_type": "display_data"
    },
    {
     "name": "stdout",
     "output_type": "stream",
     "text": [
      "QRS_acc: 0.9196\n",
      "Scoring complete.\n",
      "QRS_acc: 0.879\n",
      "Scoring complete.\n",
      "\n",
      "                Train epoch_285:\n",
      "                --------------------\n",
      "                train/epoch_loss:        0.44640201330184937\n",
      "                train/qrs_score:         0.9196\n",
      "            \n",
      "                test/qrs_score:          0.879\n",
      "                ---------------------------------\n",
      "            \n",
      "\n"
     ]
    },
    {
     "data": {
      "application/vnd.jupyter.widget-view+json": {
       "model_id": "f6a0b556559140a582e3acc9f98bb4b0",
       "version_major": 2,
       "version_minor": 0
      },
      "text/plain": [
       "HBox(children=(FloatProgress(value=0.0, description='Epoch 286/300', layout=Layout(flex='2'), max=1600.0, styl…"
      ]
     },
     "metadata": {},
     "output_type": "display_data"
    },
    {
     "name": "stdout",
     "output_type": "stream",
     "text": [
      "Train step_2000: loss : 0.06205781549215317\n",
      "QRS_acc: 0.9196\n",
      "Scoring complete.\n",
      "QRS_acc: 0.8818\n",
      "Scoring complete.\n",
      "\n",
      "                Train epoch_286:\n",
      "                --------------------\n",
      "                train/epoch_loss:        0.44808096811175346\n",
      "                train/qrs_score:         0.9196\n",
      "            \n",
      "                test/qrs_score:          0.8818\n",
      "                ---------------------------------\n",
      "            \n",
      "\n"
     ]
    },
    {
     "data": {
      "application/vnd.jupyter.widget-view+json": {
       "model_id": "a5fbdccd4d4f480286d1deba3cdc9a72",
       "version_major": 2,
       "version_minor": 0
      },
      "text/plain": [
       "HBox(children=(FloatProgress(value=0.0, description='Epoch 287/300', layout=Layout(flex='2'), max=1600.0, styl…"
      ]
     },
     "metadata": {},
     "output_type": "display_data"
    },
    {
     "name": "stdout",
     "output_type": "stream",
     "text": [
      "QRS_acc: 0.9166\n",
      "Scoring complete.\n",
      "QRS_acc: 0.8728\n",
      "Scoring complete.\n",
      "\n",
      "                Train epoch_287:\n",
      "                --------------------\n",
      "                train/epoch_loss:        0.42794162407517433\n",
      "                train/qrs_score:         0.9166\n",
      "            \n",
      "                test/qrs_score:          0.8728\n",
      "                ---------------------------------\n",
      "            \n",
      "\n"
     ]
    },
    {
     "data": {
      "application/vnd.jupyter.widget-view+json": {
       "model_id": "56f7c198a9c94689a5b151f78c861949",
       "version_major": 2,
       "version_minor": 0
      },
      "text/plain": [
       "HBox(children=(FloatProgress(value=0.0, description='Epoch 288/300', layout=Layout(flex='2'), max=1600.0, styl…"
      ]
     },
     "metadata": {},
     "output_type": "display_data"
    },
    {
     "name": "stdout",
     "output_type": "stream",
     "text": [
      "QRS_acc: 0.9162\n",
      "Scoring complete.\n",
      "QRS_acc: 0.8788\n",
      "Scoring complete.\n",
      "\n",
      "                Train epoch_288:\n",
      "                --------------------\n",
      "                train/epoch_loss:        0.4307258464396\n",
      "                train/qrs_score:         0.9162\n",
      "            \n",
      "                test/qrs_score:          0.8788\n",
      "                ---------------------------------\n",
      "            \n",
      "\n"
     ]
    },
    {
     "data": {
      "application/vnd.jupyter.widget-view+json": {
       "model_id": "f1e078169dc9493eb344b140819f62cd",
       "version_major": 2,
       "version_minor": 0
      },
      "text/plain": [
       "HBox(children=(FloatProgress(value=0.0, description='Epoch 289/300', layout=Layout(flex='2'), max=1600.0, styl…"
      ]
     },
     "metadata": {},
     "output_type": "display_data"
    },
    {
     "name": "stdout",
     "output_type": "stream",
     "text": [
      "Train step_2020: loss : 0.06613509356975555\n",
      "QRS_acc: 0.9178\n",
      "Scoring complete.\n",
      "QRS_acc: 0.8752\n",
      "Scoring complete.\n",
      "\n",
      "                Train epoch_289:\n",
      "                --------------------\n",
      "                train/epoch_loss:        0.44234542548656464\n",
      "                train/qrs_score:         0.9178\n",
      "            \n",
      "                test/qrs_score:          0.8752\n",
      "                ---------------------------------\n",
      "            \n",
      "\n"
     ]
    },
    {
     "data": {
      "application/vnd.jupyter.widget-view+json": {
       "model_id": "d604c406bb21430398b11201cb7d3649",
       "version_major": 2,
       "version_minor": 0
      },
      "text/plain": [
       "HBox(children=(FloatProgress(value=0.0, description='Epoch 290/300', layout=Layout(flex='2'), max=1600.0, styl…"
      ]
     },
     "metadata": {},
     "output_type": "display_data"
    },
    {
     "name": "stdout",
     "output_type": "stream",
     "text": [
      "QRS_acc: 0.9195\n",
      "Scoring complete.\n",
      "QRS_acc: 0.8755\n",
      "Scoring complete.\n",
      "\n",
      "                Train epoch_290:\n",
      "                --------------------\n",
      "                train/epoch_loss:        0.4417874738574028\n",
      "                train/qrs_score:         0.9195\n",
      "            \n",
      "                test/qrs_score:          0.8755\n",
      "                ---------------------------------\n",
      "            \n",
      "\n"
     ]
    },
    {
     "data": {
      "application/vnd.jupyter.widget-view+json": {
       "model_id": "7ff4ecd1f7674bc3aa602f8217c96737",
       "version_major": 2,
       "version_minor": 0
      },
      "text/plain": [
       "HBox(children=(FloatProgress(value=0.0, description='Epoch 291/300', layout=Layout(flex='2'), max=1600.0, styl…"
      ]
     },
     "metadata": {},
     "output_type": "display_data"
    },
    {
     "name": "stdout",
     "output_type": "stream",
     "text": [
      "QRS_acc: 0.9201\n",
      "Scoring complete.\n",
      "QRS_acc: 0.883\n",
      "Scoring complete.\n",
      "\n",
      "                Train epoch_291:\n",
      "                --------------------\n",
      "                train/epoch_loss:        0.4344398118555546\n",
      "                train/qrs_score:         0.9201\n",
      "            \n",
      "                test/qrs_score:          0.883\n",
      "                ---------------------------------\n",
      "            \n",
      "\n"
     ]
    },
    {
     "data": {
      "application/vnd.jupyter.widget-view+json": {
       "model_id": "6ea85cabaa7d4160baea60c989716a3d",
       "version_major": 2,
       "version_minor": 0
      },
      "text/plain": [
       "HBox(children=(FloatProgress(value=0.0, description='Epoch 292/300', layout=Layout(flex='2'), max=1600.0, styl…"
      ]
     },
     "metadata": {},
     "output_type": "display_data"
    },
    {
     "name": "stdout",
     "output_type": "stream",
     "text": [
      "Train step_2040: loss : 0.06092459708452225\n",
      "QRS_acc: 0.9194\n",
      "Scoring complete.\n",
      "QRS_acc: 0.8758\n",
      "Scoring complete.\n",
      "\n",
      "                Train epoch_292:\n",
      "                --------------------\n",
      "                train/epoch_loss:        0.4437026344239712\n",
      "                train/qrs_score:         0.9194\n",
      "            \n",
      "                test/qrs_score:          0.8758\n",
      "                ---------------------------------\n",
      "            \n",
      "\n"
     ]
    },
    {
     "data": {
      "application/vnd.jupyter.widget-view+json": {
       "model_id": "56fb1d75d7c34c2d96c68556fe6cd017",
       "version_major": 2,
       "version_minor": 0
      },
      "text/plain": [
       "HBox(children=(FloatProgress(value=0.0, description='Epoch 293/300', layout=Layout(flex='2'), max=1600.0, styl…"
      ]
     },
     "metadata": {},
     "output_type": "display_data"
    },
    {
     "name": "stdout",
     "output_type": "stream",
     "text": [
      "QRS_acc: 0.9167\n",
      "Scoring complete.\n",
      "QRS_acc: 0.8805\n",
      "Scoring complete.\n",
      "\n",
      "                Train epoch_293:\n",
      "                --------------------\n",
      "                train/epoch_loss:        0.4418887011706829\n",
      "                train/qrs_score:         0.9167\n",
      "            \n",
      "                test/qrs_score:          0.8805\n",
      "                ---------------------------------\n",
      "            \n",
      "\n"
     ]
    },
    {
     "data": {
      "application/vnd.jupyter.widget-view+json": {
       "model_id": "d49532462d8240b78f82885a4db13eba",
       "version_major": 2,
       "version_minor": 0
      },
      "text/plain": [
       "HBox(children=(FloatProgress(value=0.0, description='Epoch 294/300', layout=Layout(flex='2'), max=1600.0, styl…"
      ]
     },
     "metadata": {},
     "output_type": "display_data"
    },
    {
     "name": "stdout",
     "output_type": "stream",
     "text": [
      "QRS_acc: 0.9194\n",
      "Scoring complete.\n",
      "QRS_acc: 0.8768\n",
      "Scoring complete.\n",
      "\n",
      "                Train epoch_294:\n",
      "                --------------------\n",
      "                train/epoch_loss:        0.4379567839205265\n",
      "                train/qrs_score:         0.9194\n",
      "            \n",
      "                test/qrs_score:          0.8768\n",
      "                ---------------------------------\n",
      "            \n",
      "\n"
     ]
    },
    {
     "data": {
      "application/vnd.jupyter.widget-view+json": {
       "model_id": "3d5399328f8944aba5d6a78e9bcc8784",
       "version_major": 2,
       "version_minor": 0
      },
      "text/plain": [
       "HBox(children=(FloatProgress(value=0.0, description='Epoch 295/300', layout=Layout(flex='2'), max=1600.0, styl…"
      ]
     },
     "metadata": {},
     "output_type": "display_data"
    },
    {
     "name": "stdout",
     "output_type": "stream",
     "text": [
      "Train step_2060: loss : 0.06742710620164871\n",
      "QRS_acc: 0.9215\n",
      "Scoring complete.\n",
      "QRS_acc: 0.8755\n",
      "Scoring complete.\n",
      "\n",
      "                Train epoch_295:\n",
      "                --------------------\n",
      "                train/epoch_loss:        0.440662894397974\n",
      "                train/qrs_score:         0.9215\n",
      "            \n",
      "                test/qrs_score:          0.8755\n",
      "                ---------------------------------\n",
      "            \n",
      "\n"
     ]
    },
    {
     "data": {
      "application/vnd.jupyter.widget-view+json": {
       "model_id": "be330c04e17d4366b3a8eec4f35ff629",
       "version_major": 2,
       "version_minor": 0
      },
      "text/plain": [
       "HBox(children=(FloatProgress(value=0.0, description='Epoch 296/300', layout=Layout(flex='2'), max=1600.0, styl…"
      ]
     },
     "metadata": {},
     "output_type": "display_data"
    },
    {
     "name": "stdout",
     "output_type": "stream",
     "text": [
      "QRS_acc: 0.9226\n",
      "Scoring complete.\n",
      "QRS_acc: 0.8795\n",
      "Scoring complete.\n",
      "\n",
      "                Train epoch_296:\n",
      "                --------------------\n",
      "                train/epoch_loss:        0.44392411038279533\n",
      "                train/qrs_score:         0.9226\n",
      "            \n",
      "                test/qrs_score:          0.8795\n",
      "                ---------------------------------\n",
      "            \n",
      "\n"
     ]
    },
    {
     "data": {
      "application/vnd.jupyter.widget-view+json": {
       "model_id": "cd0ca8b3663646e3b7677a9fc744e518",
       "version_major": 2,
       "version_minor": 0
      },
      "text/plain": [
       "HBox(children=(FloatProgress(value=0.0, description='Epoch 297/300', layout=Layout(flex='2'), max=1600.0, styl…"
      ]
     },
     "metadata": {},
     "output_type": "display_data"
    },
    {
     "name": "stdout",
     "output_type": "stream",
     "text": [
      "QRS_acc: 0.9241\n",
      "Scoring complete.\n",
      "QRS_acc: 0.8785\n",
      "Scoring complete.\n",
      "\n",
      "                Train epoch_297:\n",
      "                --------------------\n",
      "                train/epoch_loss:        0.42752864211797714\n",
      "                train/qrs_score:         0.9241\n",
      "            \n",
      "                test/qrs_score:          0.8785\n",
      "                ---------------------------------\n",
      "            \n",
      "\n"
     ]
    },
    {
     "data": {
      "application/vnd.jupyter.widget-view+json": {
       "model_id": "6d7f3fcd0b344cd883b6a98fdfa9a893",
       "version_major": 2,
       "version_minor": 0
      },
      "text/plain": [
       "HBox(children=(FloatProgress(value=0.0, description='Epoch 298/300', layout=Layout(flex='2'), max=1600.0, styl…"
      ]
     },
     "metadata": {},
     "output_type": "display_data"
    },
    {
     "name": "stdout",
     "output_type": "stream",
     "text": [
      "Train step_2080: loss : 0.05741260200738907\n",
      "QRS_acc: 0.9214\n",
      "Scoring complete.\n",
      "QRS_acc: 0.878\n",
      "Scoring complete.\n",
      "\n",
      "                Train epoch_298:\n",
      "                --------------------\n",
      "                train/epoch_loss:        0.4364863410592079\n",
      "                train/qrs_score:         0.9214\n",
      "            \n",
      "                test/qrs_score:          0.878\n",
      "                ---------------------------------\n",
      "            \n",
      "\n"
     ]
    },
    {
     "data": {
      "application/vnd.jupyter.widget-view+json": {
       "model_id": "8a255c11237e46a7ba7ef9cf9c9af897",
       "version_major": 2,
       "version_minor": 0
      },
      "text/plain": [
       "HBox(children=(FloatProgress(value=0.0, description='Epoch 299/300', layout=Layout(flex='2'), max=1600.0, styl…"
      ]
     },
     "metadata": {},
     "output_type": "display_data"
    },
    {
     "name": "stdout",
     "output_type": "stream",
     "text": [
      "QRS_acc: 0.9204\n",
      "Scoring complete.\n",
      "QRS_acc: 0.8798\n",
      "Scoring complete.\n",
      "\n",
      "                Train epoch_299:\n",
      "                --------------------\n",
      "                train/epoch_loss:        0.42523564770817757\n",
      "                train/qrs_score:         0.9204\n",
      "            \n",
      "                test/qrs_score:          0.8798\n",
      "                ---------------------------------\n",
      "            \n",
      "\n"
     ]
    },
    {
     "data": {
      "application/vnd.jupyter.widget-view+json": {
       "model_id": "b207480673374b98ba2509294abe8ded",
       "version_major": 2,
       "version_minor": 0
      },
      "text/plain": [
       "HBox(children=(FloatProgress(value=0.0, description='Epoch 300/300', layout=Layout(flex='2'), max=1600.0, styl…"
      ]
     },
     "metadata": {},
     "output_type": "display_data"
    },
    {
     "name": "stdout",
     "output_type": "stream",
     "text": [
      "Train step_2100: loss : 0.061116691678762436\n",
      "QRS_acc: 0.9181\n",
      "Scoring complete.\n",
      "QRS_acc: 0.8772\n",
      "Scoring complete.\n",
      "\n",
      "                Train epoch_300:\n",
      "                --------------------\n",
      "                train/epoch_loss:        0.43124497309327126\n",
      "                train/qrs_score:         0.9181\n",
      "            \n",
      "                test/qrs_score:          0.8772\n",
      "                ---------------------------------\n",
      "            \n",
      "\n"
     ]
    }
   ],
   "source": [
    "train(\n",
    "    model=model,\n",
    "    config=train_config,\n",
    "    device=device,\n",
    "    logger=logger,\n",
    "    debug=train_config.debug,\n",
    ")"
   ]
  },
  {
   "cell_type": "code",
   "execution_count": null,
   "metadata": {},
   "outputs": [],
   "source": []
  },
  {
   "cell_type": "code",
   "execution_count": null,
   "metadata": {},
   "outputs": [],
   "source": []
  },
  {
   "cell_type": "code",
   "execution_count": null,
   "metadata": {},
   "outputs": [],
   "source": [
    "# job = pe.PyTorch(\n",
    "#     entry_point='/media/cfs/wenhao71/workspace/torch_ecg/torch_ecg/train/train_seq_lab_net_cpsc2019/train.py',\n",
    "#     framework_version='1.3.1',\n",
    "#     train_gpu_count=1,\n",
    "#     hyperparameters = {'debug': 'True', 'batch-size':256},\n",
    "# #     hyperparameters = {'model-name':model_name, 'rnn-name':rnn, 'debug': 'True', 'batch-size':bs},\n",
    "# )"
   ]
  },
  {
   "cell_type": "code",
   "execution_count": null,
   "metadata": {},
   "outputs": [],
   "source": [
    "# job.fit(base_job_name=f'cpsc2019-seq-lab')"
   ]
  },
  {
   "cell_type": "code",
   "execution_count": null,
   "metadata": {},
   "outputs": [],
   "source": []
  },
  {
   "cell_type": "code",
   "execution_count": null,
   "metadata": {},
   "outputs": [],
   "source": []
  }
 ],
 "metadata": {
  "kernelspec": {
   "display_name": "Python3 (PySpark)",
   "language": "python",
   "name": "python3"
  },
  "language_info": {
   "codemirror_mode": {
    "name": "ipython",
    "version": 3
   },
   "file_extension": ".py",
   "mimetype": "text/x-python",
   "name": "python",
   "nbconvert_exporter": "python",
   "pygments_lexer": "ipython3",
   "version": "3.6.11"
  }
 },
 "nbformat": 4,
 "nbformat_minor": 4
}
