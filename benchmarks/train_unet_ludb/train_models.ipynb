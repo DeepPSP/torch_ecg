{
 "cells": [
  {
   "cell_type": "code",
   "execution_count": null,
   "id": "ffdeff6a",
   "metadata": {},
   "outputs": [],
   "source": [
    "import matplotlib.pyplot as plt\n",
    "import pandas as pd\n",
    "import numpy as np\n",
    "# ^^^ pyforest auto-imports - don't write above this line\n",
    "%load_ext autoreload\n",
    "%autoreload 2"
   ]
  },
  {
   "cell_type": "code",
   "execution_count": null,
   "id": "8e3bb683",
   "metadata": {},
   "outputs": [],
   "source": [
    "from tqdm.auto import tqdm\n",
    "from copy import deepcopy\n",
    "\n",
    "from torch.nn.parallel import DistributedDataParallel as DDP, DataParallel as DP\n",
    "\n",
    "from dataset import LUDB\n",
    "from cfg import TrainCfg, ModelCfg\n",
    "from trainer import LUDBTrainer\n",
    "from model import ECG_UNET_LUDB\n",
    "from metrics import compute_metrics"
   ]
  },
  {
   "cell_type": "code",
   "execution_count": null,
   "id": "a4a660d3",
   "metadata": {},
   "outputs": [],
   "source": []
  },
  {
   "cell_type": "code",
   "execution_count": null,
   "id": "51af3dea",
   "metadata": {},
   "outputs": [],
   "source": [
    "TrainCfg.db_dir = \"/home/wenhao/Jupyter/wenhao/data/LUDB/\""
   ]
  },
  {
   "cell_type": "code",
   "execution_count": null,
   "id": "aadd22b7",
   "metadata": {},
   "outputs": [],
   "source": []
  },
  {
   "cell_type": "code",
   "execution_count": null,
   "id": "14bc6c4a",
   "metadata": {},
   "outputs": [],
   "source": [
    "train_cfg_fl = deepcopy(TrainCfg)\n",
    "train_cfg_fl.use_single_lead = False\n",
    "train_cfg_fl.loss = \"FocalLoss\"\n",
    "\n",
    "train_cfg_ce = deepcopy(TrainCfg)\n",
    "train_cfg_ce.use_single_lead = False\n",
    "train_cfg_ce.loss = \"CrossEntropyLoss\""
   ]
  },
  {
   "cell_type": "code",
   "execution_count": null,
   "id": "c135790f",
   "metadata": {},
   "outputs": [],
   "source": []
  },
  {
   "cell_type": "code",
   "execution_count": null,
   "id": "01f87d4f",
   "metadata": {},
   "outputs": [],
   "source": [
    "ds_train_fl = LUDB(train_cfg_fl, training=True, lazy=False)\n",
    "ds_train_ce = LUDB(train_cfg_ce, training=True, lazy=False)"
   ]
  },
  {
   "cell_type": "code",
   "execution_count": null,
   "id": "656a815c",
   "metadata": {},
   "outputs": [],
   "source": [
    "# ds_train_fl._load_all_data()\n",
    "# ds_train_ce._load_all_data()"
   ]
  },
  {
   "cell_type": "code",
   "execution_count": null,
   "id": "5e04170d",
   "metadata": {},
   "outputs": [],
   "source": [
    "ds_val_fl = LUDB(train_cfg_fl, training=False, lazy=False)\n",
    "ds_val_ce = LUDB(train_cfg_ce, training=False, lazy=False)"
   ]
  },
  {
   "cell_type": "code",
   "execution_count": null,
   "id": "da72d679",
   "metadata": {},
   "outputs": [],
   "source": [
    "# ds_val_fl._load_all_data()\n",
    "# ds_val_ce._load_all_data()"
   ]
  },
  {
   "cell_type": "code",
   "execution_count": null,
   "id": "2afd45d4",
   "metadata": {},
   "outputs": [],
   "source": []
  },
  {
   "cell_type": "code",
   "execution_count": null,
   "id": "75b2c1d0",
   "metadata": {},
   "outputs": [],
   "source": []
  },
  {
   "cell_type": "markdown",
   "id": "400b052b",
   "metadata": {},
   "source": [
    "## dry run: no augmentation, no preprocessing"
   ]
  },
  {
   "cell_type": "code",
   "execution_count": null,
   "id": "0cba2c45",
   "metadata": {},
   "outputs": [],
   "source": [
    "# train_config = deepcopy(TrainCfg)\n",
    "model_config = deepcopy(ModelCfg)\n",
    "\n",
    "device = torch.device(\"cuda\" if torch.cuda.is_available() else \"cpu\")"
   ]
  },
  {
   "cell_type": "code",
   "execution_count": null,
   "id": "7cdc8aa2",
   "metadata": {},
   "outputs": [],
   "source": []
  },
  {
   "cell_type": "code",
   "execution_count": null,
   "id": "e6d4bc98",
   "metadata": {
    "scrolled": true
   },
   "outputs": [],
   "source": [
    "model = ECG_UNET_LUDB(model_config.n_leads, model_config)"
   ]
  },
  {
   "cell_type": "code",
   "execution_count": null,
   "id": "1981438a",
   "metadata": {},
   "outputs": [],
   "source": [
    "model.module_size_"
   ]
  },
  {
   "cell_type": "code",
   "execution_count": null,
   "id": "9f251708",
   "metadata": {},
   "outputs": [],
   "source": [
    "if torch.cuda.device_count() > 1:\n",
    "    model = DP(model)\n",
    "    # model = DDP(model)\n",
    "model.to(device=device)"
   ]
  },
  {
   "cell_type": "code",
   "execution_count": null,
   "id": "f981ac5d",
   "metadata": {},
   "outputs": [],
   "source": []
  },
  {
   "cell_type": "code",
   "execution_count": null,
   "id": "ed900036",
   "metadata": {
    "scrolled": true
   },
   "outputs": [],
   "source": [
    "trainer = LUDBTrainer(\n",
    "    model=model,\n",
    "    model_config=model_config,\n",
    "    train_config=train_cfg_fl,\n",
    "    device=device,\n",
    "    lazy=True,\n",
    ")"
   ]
  },
  {
   "cell_type": "code",
   "execution_count": null,
   "id": "67313494",
   "metadata": {},
   "outputs": [],
   "source": [
    "trainer._setup_dataloaders(ds_train_fl, ds_val_fl)"
   ]
  },
  {
   "cell_type": "code",
   "execution_count": null,
   "id": "b657c519",
   "metadata": {},
   "outputs": [],
   "source": [
    "bmd = trainer.train()"
   ]
  },
  {
   "cell_type": "code",
   "execution_count": null,
   "id": "989f5cf9",
   "metadata": {},
   "outputs": [],
   "source": []
  },
  {
   "cell_type": "code",
   "execution_count": null,
   "id": "af8584e8",
   "metadata": {},
   "outputs": [],
   "source": []
  },
  {
   "cell_type": "markdown",
   "id": "c7e7dfa3",
   "metadata": {},
   "source": [
    "## eval and plot"
   ]
  },
  {
   "cell_type": "code",
   "execution_count": null,
   "id": "93aad572",
   "metadata": {},
   "outputs": [],
   "source": [
    "model, _ = ECG_UNET_LUDB.from_checkpoint(\"./checkpoints/BestModel_ECG_UNET_LUDB_epoch111_12-16_22-23_metric_0.97.pth.tar\")"
   ]
  },
  {
   "cell_type": "code",
   "execution_count": null,
   "id": "c9d1f933",
   "metadata": {},
   "outputs": [],
   "source": [
    "model"
   ]
  },
  {
   "cell_type": "code",
   "execution_count": null,
   "id": "d37561c0",
   "metadata": {},
   "outputs": [],
   "source": []
  },
  {
   "cell_type": "code",
   "execution_count": null,
   "id": "9025759a",
   "metadata": {},
   "outputs": [],
   "source": [
    "_, mask = model.inference(ds_val_fl.signals[0])"
   ]
  },
  {
   "cell_type": "code",
   "execution_count": null,
   "id": "6665ca52",
   "metadata": {},
   "outputs": [],
   "source": [
    "mask"
   ]
  },
  {
   "cell_type": "code",
   "execution_count": null,
   "id": "1d3a6626",
   "metadata": {},
   "outputs": [],
   "source": [
    "fig, ax = plt.subplots(figsize=(12,6))\n",
    "ax.plot(ds_val_fl.signals[0][0],color=\"black\")\n",
    "ax2 = ax.twinx()\n",
    "ax2.plot(mask[0], color=\"red\")\n",
    "plt.show()"
   ]
  },
  {
   "cell_type": "code",
   "execution_count": null,
   "id": "89be5ffe",
   "metadata": {},
   "outputs": [],
   "source": []
  },
  {
   "cell_type": "code",
   "execution_count": null,
   "id": "bda65565",
   "metadata": {},
   "outputs": [],
   "source": []
  },
  {
   "cell_type": "markdown",
   "id": "37f5420f",
   "metadata": {},
   "source": [
    "## gather stats"
   ]
  },
  {
   "cell_type": "code",
   "execution_count": null,
   "id": "d69019a8",
   "metadata": {},
   "outputs": [],
   "source": [
    "import seaborn as sns\n",
    "from matplotlib.pyplot import cm\n",
    "sns.set()\n",
    "colors = plt.rcParams['axes.prop_cycle'].by_key()['color']\n",
    "markers = [\"*\", \"v\", \"p\", \"d\", \"s\", \"$\\heartsuit$\", \"+\", \"x\", ]\n",
    "marker_size = 9\n",
    "plt.rcParams['xtick.labelsize']=24\n",
    "plt.rcParams['ytick.labelsize']=24\n",
    "plt.rcParams['axes.labelsize']=32\n",
    "plt.rcParams['legend.fontsize']=20\n",
    "\n",
    "marker_size = 9"
   ]
  },
  {
   "cell_type": "code",
   "execution_count": null,
   "id": "92a6a966",
   "metadata": {},
   "outputs": [],
   "source": [
    "df_res = pd.read_csv(\"./results/TorchECG_12-16_21-52_ECG_UNET_LUDB_adamw_amsgrad_LR_0.0001_BS_32.csv\")"
   ]
  },
  {
   "cell_type": "code",
   "execution_count": null,
   "id": "ce474aa2",
   "metadata": {},
   "outputs": [],
   "source": [
    "df_res"
   ]
  },
  {
   "cell_type": "code",
   "execution_count": null,
   "id": "19270431",
   "metadata": {
    "scrolled": false
   },
   "outputs": [],
   "source": [
    "fig, ax = plt.subplots(figsize=(16,12))\n",
    "\n",
    "line_width = 2.5\n",
    "\n",
    "df_val = df_res[df_res.part==\"val\"]\n",
    "df_train = df_res[df_res.part==\"train\"].dropna(subset=[\"loss\"])\n",
    "lns1 = ax.plot(\n",
    "    df_val.epoch, df_val.f1_score,\n",
    "    marker=markers[0], linewidth=line_width, color=colors[0], markersize=marker_size, label=\"f1 score\",\n",
    ")\n",
    "ax.set_xlabel(\"Epochs (n.u.)\")\n",
    "ax.set_ylabel(\"f1 score (n.u.)\")\n",
    "ax.set_ylim(-0.1,1)\n",
    "ax2 = ax.twinx()\n",
    "lns2 = ax2.plot(\n",
    "    df_train.epoch, df_train.loss,\n",
    "    marker=markers[1], linewidth=line_width, color=colors[1], markersize=marker_size, label=\"Loss\",\n",
    ")\n",
    "ax2.set_ylabel(\"Loss (n.u.)\")\n",
    "ax2.set_ylim(-0.03,0.3)\n",
    "ax2.set_yticks(np.arange(0,0.35,0.06))\n",
    "\n",
    "lns = lns1+lns2\n",
    "labs = [l.get_label() for l in lns]\n",
    "ax.legend(lns, labs, loc=\"lower right\", fontsize=28)\n",
    "\n",
    "plt.savefig(\"./results/ludb-unet-score-loss.pdf\", dpi=1200, bbox_inches=\"tight\", transparent=False)\n",
    "plt.savefig(\"./results/ludb-unet-score-loss.svg\", dpi=1200, bbox_inches=\"tight\", transparent=False)"
   ]
  },
  {
   "cell_type": "code",
   "execution_count": null,
   "id": "972d7387",
   "metadata": {},
   "outputs": [],
   "source": []
  },
  {
   "cell_type": "code",
   "execution_count": null,
   "id": "417acbbe",
   "metadata": {},
   "outputs": [],
   "source": []
  }
 ],
 "metadata": {
  "kernelspec": {
   "display_name": "Python 3",
   "language": "python",
   "name": "python3"
  },
  "language_info": {
   "codemirror_mode": {
    "name": "ipython",
    "version": 3
   },
   "file_extension": ".py",
   "mimetype": "text/x-python",
   "name": "python",
   "nbconvert_exporter": "python",
   "pygments_lexer": "ipython3",
   "version": "3.6.9"
  }
 },
 "nbformat": 4,
 "nbformat_minor": 5
}
