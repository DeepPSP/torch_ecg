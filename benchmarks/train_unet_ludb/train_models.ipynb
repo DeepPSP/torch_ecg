{
 "cells": [
  {
   "cell_type": "code",
   "execution_count": null,
   "id": "ffdeff6a",
   "metadata": {},
   "outputs": [],
   "source": [
    "import sys\n",
    "# ^^^ pyforest auto-imports - don't write above this line\n",
    "try:\n",
    "    import bib_lookup\n",
    "except ModuleNotFoundError:\n",
    "    sys.path.insert(0, \"/home/wenhao/Jupyter/wenhao/workspace/bib_lookup/\")\n",
    "try:\n",
    "    from torch_ecg.utils.misc import MovingAverage, list_sum\n",
    "except ModuleNotFoundError:\n",
    "    sys.path.insert(0, \"/home/wenhao/Jupyter/wenhao/workspace/torch_ecg/\")\n",
    "    from torch_ecg.utils.misc import MovingAverage, list_sum\n",
    "\n",
    "%load_ext autoreload\n",
    "%autoreload 2"
   ]
  },
  {
   "cell_type": "code",
   "execution_count": null,
   "id": "8e3bb683",
   "metadata": {},
   "outputs": [],
   "source": [
    "from tqdm.auto import tqdm\n",
    "from copy import deepcopy\n",
    "\n",
    "from torch.nn.parallel import DistributedDataParallel as DDP, DataParallel as DP\n",
    "\n",
    "from dataset import LUDB\n",
    "from cfg import TrainCfg, ModelCfg\n",
    "from trainer import LUDBTrainer\n",
    "from model import ECG_UNET_LUDB\n",
    "from metrics import compute_metrics"
   ]
  },
  {
   "cell_type": "code",
   "execution_count": null,
   "id": "a4a660d3",
   "metadata": {},
   "outputs": [],
   "source": []
  },
  {
   "cell_type": "code",
   "execution_count": null,
   "id": "51af3dea",
   "metadata": {},
   "outputs": [],
   "source": [
    "TrainCfg.db_dir = \"/home/wenhao/Jupyter/wenhao/data/LUDB/\""
   ]
  },
  {
   "cell_type": "code",
   "execution_count": null,
   "id": "aadd22b7",
   "metadata": {},
   "outputs": [],
   "source": []
  },
  {
   "cell_type": "code",
   "execution_count": null,
   "id": "14bc6c4a",
   "metadata": {},
   "outputs": [],
   "source": [
    "train_cfg_fl = deepcopy(TrainCfg)\n",
    "train_cfg_fl.use_single_lead = False\n",
    "train_cfg_fl.loss = \"FocalLoss\"\n",
    "\n",
    "train_cfg_ce = deepcopy(TrainCfg)\n",
    "train_cfg_ce.use_single_lead = False\n",
    "train_cfg_ce.loss = \"CrossEntropyLoss\""
   ]
  },
  {
   "cell_type": "code",
   "execution_count": null,
   "id": "c135790f",
   "metadata": {},
   "outputs": [],
   "source": []
  },
  {
   "cell_type": "code",
   "execution_count": null,
   "id": "01f87d4f",
   "metadata": {},
   "outputs": [],
   "source": [
    "ds_train_fl = LUDB(train_cfg_fl, training=True, lazy=False)\n",
    "ds_train_ce = LUDB(train_cfg_ce, training=True, lazy=False)"
   ]
  },
  {
   "cell_type": "code",
   "execution_count": null,
   "id": "656a815c",
   "metadata": {},
   "outputs": [],
   "source": [
    "# ds_train_fl._load_all_data()\n",
    "# ds_train_ce._load_all_data()"
   ]
  },
  {
   "cell_type": "code",
   "execution_count": null,
   "id": "5e04170d",
   "metadata": {},
   "outputs": [],
   "source": [
    "ds_val_fl = LUDB(train_cfg_fl, training=False, lazy=False)\n",
    "ds_val_ce = LUDB(train_cfg_ce, training=False, lazy=False)"
   ]
  },
  {
   "cell_type": "code",
   "execution_count": null,
   "id": "da72d679",
   "metadata": {},
   "outputs": [],
   "source": [
    "# ds_val_fl._load_all_data()\n",
    "# ds_val_ce._load_all_data()"
   ]
  },
  {
   "cell_type": "code",
   "execution_count": null,
   "id": "2afd45d4",
   "metadata": {},
   "outputs": [],
   "source": []
  },
  {
   "cell_type": "code",
   "execution_count": null,
   "id": "75b2c1d0",
   "metadata": {},
   "outputs": [],
   "source": []
  },
  {
   "cell_type": "markdown",
   "id": "400b052b",
   "metadata": {},
   "source": [
    "## dry run: no augmentation, no preprocessing"
   ]
  },
  {
   "cell_type": "code",
   "execution_count": null,
   "id": "0cba2c45",
   "metadata": {},
   "outputs": [],
   "source": [
    "# train_config = deepcopy(TrainCfg)\n",
    "model_config = deepcopy(ModelCfg)\n",
    "\n",
    "device = torch.device(\"cuda\" if torch.cuda.is_available() else \"cpu\")"
   ]
  },
  {
   "cell_type": "code",
   "execution_count": null,
   "id": "7cdc8aa2",
   "metadata": {},
   "outputs": [],
   "source": []
  },
  {
   "cell_type": "code",
   "execution_count": null,
   "id": "e6d4bc98",
   "metadata": {
    "scrolled": true
   },
   "outputs": [],
   "source": [
    "model = ECG_UNET_LUDB(model_config.n_leads, model_config)"
   ]
  },
  {
   "cell_type": "code",
   "execution_count": null,
   "id": "1981438a",
   "metadata": {},
   "outputs": [],
   "source": [
    "model.module_size_"
   ]
  },
  {
   "cell_type": "code",
   "execution_count": null,
   "id": "9f251708",
   "metadata": {},
   "outputs": [],
   "source": [
    "if torch.cuda.device_count() > 1:\n",
    "    model = DP(model)\n",
    "    # model = DDP(model)\n",
    "model.to(device=device)"
   ]
  },
  {
   "cell_type": "code",
   "execution_count": null,
   "id": "f981ac5d",
   "metadata": {},
   "outputs": [],
   "source": []
  },
  {
   "cell_type": "code",
   "execution_count": null,
   "id": "ed900036",
   "metadata": {
    "scrolled": true
   },
   "outputs": [],
   "source": [
    "trainer = LUDBTrainer(\n",
    "    model=model,\n",
    "    model_config=model_config,\n",
    "    train_config=train_cfg_fl,\n",
    "    device=device,\n",
    "    lazy=True,\n",
    ")"
   ]
  },
  {
   "cell_type": "code",
   "execution_count": null,
   "id": "67313494",
   "metadata": {},
   "outputs": [],
   "source": [
    "trainer._setup_dataloaders(ds_train_fl, ds_val_fl)"
   ]
  },
  {
   "cell_type": "code",
   "execution_count": null,
   "id": "b657c519",
   "metadata": {},
   "outputs": [],
   "source": [
    "bmd = trainer.train()"
   ]
  },
  {
   "cell_type": "code",
   "execution_count": null,
   "id": "3aefa39a",
   "metadata": {},
   "outputs": [],
   "source": []
  },
  {
   "cell_type": "code",
   "execution_count": null,
   "id": "b8c48c51",
   "metadata": {},
   "outputs": [],
   "source": []
  },
  {
   "cell_type": "markdown",
   "id": "46fd7d19",
   "metadata": {},
   "source": [
    "## eval and plot"
   ]
  },
  {
   "cell_type": "code",
   "execution_count": null,
   "id": "93aad572",
   "metadata": {},
   "outputs": [],
   "source": [
    "model, _ = ECG_UNET_LUDB.from_checkpoint(\"/home/wenhao/.cache/torch_ecg/saved_models/BestModel_ECG_UNET_LUDB_epoch100_03-25_23-42_metric_0.99.pth.tar\")"
   ]
  },
  {
   "cell_type": "code",
   "execution_count": null,
   "id": "c9d1f933",
   "metadata": {},
   "outputs": [],
   "source": [
    "model"
   ]
  },
  {
   "cell_type": "code",
   "execution_count": null,
   "id": "d37561c0",
   "metadata": {},
   "outputs": [],
   "source": []
  },
  {
   "cell_type": "code",
   "execution_count": null,
   "id": "9025759a",
   "metadata": {},
   "outputs": [],
   "source": [
    "model_output = model.module.inference(ds_val_fl.signals[0])"
   ]
  },
  {
   "cell_type": "code",
   "execution_count": null,
   "id": "6665ca52",
   "metadata": {},
   "outputs": [],
   "source": [
    "model_output.mask"
   ]
  },
  {
   "cell_type": "code",
   "execution_count": null,
   "id": "1d3a6626",
   "metadata": {},
   "outputs": [],
   "source": [
    "fig, ax = plt.subplots(figsize=(12,6))\n",
    "ax.plot(ds_val_fl.signals[0][0],color=\"black\")\n",
    "ax2 = ax.twinx()\n",
    "ax2.plot(model_output.mask[0], color=\"red\")\n",
    "plt.show()"
   ]
  },
  {
   "cell_type": "code",
   "execution_count": null,
   "id": "06a046af",
   "metadata": {},
   "outputs": [],
   "source": []
  },
  {
   "cell_type": "code",
   "execution_count": null,
   "id": "0353a030",
   "metadata": {},
   "outputs": [],
   "source": []
  },
  {
   "cell_type": "markdown",
   "id": "91a4e915",
   "metadata": {},
   "source": [
    "## gather results"
   ]
  },
  {
   "cell_type": "code",
   "execution_count": null,
   "id": "e84f895e",
   "metadata": {},
   "outputs": [],
   "source": [
    "import seaborn as sns\n",
    "from matplotlib.pyplot import cm\n",
    "import matplotlib.patches as patches\n",
    "\n",
    "sns.set()\n",
    "\n",
    "plt.rcParams['xtick.labelsize']=28\n",
    "plt.rcParams['ytick.labelsize']=28\n",
    "plt.rcParams['axes.labelsize']=40\n",
    "plt.rcParams['legend.fontsize']=24\n",
    "\n",
    "colors = plt.rcParams['axes.prop_cycle'].by_key()['color']\n",
    "\n",
    "markers = [\"p\", \"v\", \"s\", \"d\", \"x\", \"*\", \"+\", \"$\\heartsuit$\"]\n",
    "marker_size = 12"
   ]
  },
  {
   "cell_type": "code",
   "execution_count": null,
   "id": "e65478d9",
   "metadata": {},
   "outputs": [],
   "source": [
    "df_res = pd.read_csv(\"/home/wenhao/Jupyter/wenhao/workspace/torch_ecg/benchmarks/train_unet_ludb/results/TorchECG_04-06_22-30_ECG_UNET_LUDB_adamw_amsgrad_LR_0.001_BS_32.csv\")"
   ]
  },
  {
   "cell_type": "code",
   "execution_count": null,
   "id": "4d918021",
   "metadata": {},
   "outputs": [],
   "source": [
    "df_lr = df_res[df_res.part==\"train\"][[\"step\", \"epoch\", \"lr\"]].dropna(subset=[\"lr\"])\n",
    "df_lr[\"step\"] = df_lr[\"step\"] / (1060/210)"
   ]
  },
  {
   "cell_type": "code",
   "execution_count": null,
   "id": "cde53e02",
   "metadata": {
    "scrolled": false
   },
   "outputs": [],
   "source": [
    "fig, ax = plt.subplots(figsize=(20,12))\n",
    "\n",
    "line_width = 4\n",
    "\n",
    "spacing = 4\n",
    "\n",
    "df_val = df_res[df_res.part==\"val\"]\n",
    "df_train = df_res[df_res.part==\"train\"].dropna(subset=[\"loss\"])\n",
    "lns1 = ax.plot(\n",
    "    df_val.epoch[::spacing], df_val.f1_score[::spacing],\n",
    "    marker=markers[0], linewidth=line_width, color=colors[0], markersize=marker_size, label=\"val-f1-score\",\n",
    ")\n",
    "ax.set_xlabel(\"Epochs (n.u.)\", fontsize=36)\n",
    "ax.set_ylabel(\"f1 score (n.u.)\", fontsize=36)\n",
    "ax.set_ylim(-0.1,1.1)\n",
    "ax2 = ax.twinx()\n",
    "lns2 = ax2.plot(\n",
    "    df_train.epoch[::spacing], df_train.loss[::spacing],\n",
    "    marker=markers[1], linewidth=line_width, color=colors[1], markersize=marker_size, label=\"train-loss\",\n",
    ")\n",
    "ax2.set_ylabel(\"Loss (n.u.)\", fontsize=36)\n",
    "ax2.set_ylim(-0.03,0.33)\n",
    "ax2.set_yticks(np.arange(0,0.35,0.06))\n",
    "\n",
    "lr_line = ax.plot(\n",
    "    df_lr.step.values[::spacing], (df_lr.lr.values/df_lr.lr.max()/0.96)[::spacing],\n",
    "    linestyle=\":\", linewidth=6, color=colors[2],\n",
    ")\n",
    "\n",
    "ax.text(110,1.03, \"max lr = 0.02\", fontsize=30)\n",
    "ax.text(0,-0.05, f\"start lr = {df_lr.lr.values[0]:.5f}\", fontsize=30)\n",
    "\n",
    "ax2.legend(lr_line, [\"learning rate\",], loc=\"upper left\", fontsize=30);\n",
    "\n",
    "lns = lns1+lns2\n",
    "labs = [l.get_label() for l in lns]\n",
    "ax.legend(lns, labs, loc=\"lower right\", fontsize=30, bbox_to_anchor=(0.95, 0.21))\n",
    "\n",
    "rect = patches.Rectangle((25, 0.15), 35, 0.8, linewidth=3, linestyle=\"dotted\", edgecolor='b', facecolor='r', alpha=0.3)\n",
    "\n",
    "# Add the patch to the Axes\n",
    "ax.add_patch(rect);\n",
    "\n",
    "plt.savefig(\"./results/ludb-unet-score-loss.pdf\", dpi=1200, bbox_inches=\"tight\", transparent=False);\n",
    "plt.savefig(\"./results/ludb-unet-score-loss.svg\", dpi=1200, bbox_inches=\"tight\", transparent=False);"
   ]
  },
  {
   "cell_type": "code",
   "execution_count": null,
   "id": "7d630710",
   "metadata": {},
   "outputs": [],
   "source": [
    "fig, ax = plt.subplots(figsize=(20,12))\n",
    "\n",
    "line_width = 4\n",
    "\n",
    "spacing = 2\n",
    "\n",
    "lns1 = ax.plot(\n",
    "    df_val.epoch[::spacing], df_val.standard_deviation[::spacing],\n",
    "    marker=markers[0], linewidth=line_width, color=colors[0], markersize=marker_size, label=\"val-std\",\n",
    ")\n",
    "ax.set_xlabel(\"Epochs (n.u.)\", fontsize=36)\n",
    "ax.set_ylabel(\"Standard Deviation (ms)\", fontsize=36)\n",
    "ax.set_ylim(10,60)\n",
    "ax.set_yticks(np.arange(15,65,10))\n",
    "ax2 = ax.twinx()\n",
    "lns2 = ax2.plot(\n",
    "    df_val.epoch[::spacing], df_val.mean_error[::spacing],\n",
    "    marker=markers[1], linewidth=line_width, color=colors[1], markersize=marker_size, label=\"val-mean-error\",\n",
    ")\n",
    "ax2.set_ylabel(\"Mean Error (ms)\", fontsize=36)\n",
    "ax2.set_ylim(-12.5,12.5)\n",
    "ax2.set_yticks(np.arange(-10,15,5))\n",
    "\n",
    "lr_line = ax.plot(\n",
    "    df_lr.step.values[::spacing], (df_lr.lr.values/df_lr.lr.max()/0.025 + 15)[::spacing],\n",
    "    linestyle=\":\", linewidth=6, color=colors[2],\n",
    ")\n",
    "\n",
    "ax.text(90,56, \"max lr = 0.02\", fontsize=30)\n",
    "ax.text(0,12, f\"start lr = {df_lr.lr.values[0]:.5f}\", fontsize=30)\n",
    "\n",
    "ax2.legend(lr_line, [\"learning rate\",], loc=\"upper left\", fontsize=30);\n",
    "\n",
    "lns = lns1+lns2\n",
    "labs = [l.get_label() for l in lns]\n",
    "ax.legend(lns, labs, loc=\"upper right\", fontsize=30)\n",
    "\n",
    "rect = patches.Rectangle((25, 14), 35, 36, linewidth=3, linestyle=\"dotted\", edgecolor='b', facecolor='r', alpha=0.3)\n",
    "\n",
    "# Add the patch to the Axes\n",
    "ax.add_patch(rect);\n",
    "\n",
    "plt.savefig(\"./results/ludb-unet-me-std.pdf\", dpi=1200, bbox_inches=\"tight\", transparent=False);\n",
    "plt.savefig(\"./results/ludb-unet-me-std.svg\", dpi=1200, bbox_inches=\"tight\", transparent=False);"
   ]
  },
  {
   "cell_type": "code",
   "execution_count": null,
   "id": "fde67e14",
   "metadata": {},
   "outputs": [],
   "source": []
  },
  {
   "cell_type": "code",
   "execution_count": null,
   "id": "97789c4e",
   "metadata": {},
   "outputs": [],
   "source": []
  }
 ],
 "metadata": {
  "kernelspec": {
   "display_name": "Python 3",
   "language": "python",
   "name": "python3"
  },
  "language_info": {
   "codemirror_mode": {
    "name": "ipython",
    "version": 3
   },
   "file_extension": ".py",
   "mimetype": "text/x-python",
   "name": "python",
   "nbconvert_exporter": "python",
   "pygments_lexer": "ipython3",
   "version": "3.6.9"
  }
 },
 "nbformat": 4,
 "nbformat_minor": 5
}
