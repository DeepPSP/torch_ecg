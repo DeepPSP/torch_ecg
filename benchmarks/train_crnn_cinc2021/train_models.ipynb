{
 "cells": [
  {
   "cell_type": "code",
   "execution_count": null,
   "id": "0",
   "metadata": {},
   "outputs": [],
   "source": [
    "import sys\n",
    "\n",
    "import numpy as np\n",
    "import pandas as pd\n",
    "\n",
    "# ^^^ pyforest auto-imports - don't write above this line\n",
    "try:\n",
    "    import bib_lookup\n",
    "except ModuleNotFoundError:\n",
    "    sys.path.insert(0, \"/home/wenhao/Jupyter/wenhao/workspace/bib_lookup/\")\n",
    "try:\n",
    "    from torch_ecg.utils.misc import MovingAverage, list_sum\n",
    "except ModuleNotFoundError:\n",
    "    sys.path.insert(0, \"/home/wenhao/Jupyter/wenhao/workspace/torch_ecg/\")\n",
    "    from torch_ecg.utils.misc import MovingAverage, list_sum"
   ]
  },
  {
   "cell_type": "code",
   "execution_count": null,
   "id": "1",
   "metadata": {},
   "outputs": [],
   "source": [
    "from copy import deepcopy\n",
    "\n",
    "from cfg import ModelCfg, ModelCfg_ns, TrainCfg, TrainCfg_ns\n",
    "from dataset import CINC2021\n",
    "from model import ECG_CRNN_CINC2021\n",
    "from torch.nn.parallel import DataParallel as DP\n",
    "from torch.nn.parallel import DistributedDataParallel as DDP\n",
    "from tqdm.auto import tqdm\n",
    "from trainer import CINC2021Trainer"
   ]
  },
  {
   "cell_type": "code",
   "execution_count": null,
   "id": "2",
   "metadata": {},
   "outputs": [],
   "source": []
  },
  {
   "cell_type": "code",
   "execution_count": null,
   "id": "3",
   "metadata": {},
   "outputs": [],
   "source": [
    "ECG_CRNN_CINC2021.__DEBUG__ = False\n",
    "CINC2021Trainer.__DEBUG__ = False\n",
    "CINC2021.__DEBUG__ = False"
   ]
  },
  {
   "cell_type": "code",
   "execution_count": null,
   "id": "4",
   "metadata": {},
   "outputs": [],
   "source": [
    "TrainCfg_ns.db_dir = \"/home/wenhao/Jupyter/wenhao/data/CinC2021/\"\n",
    "TrainCfg.db_dir = \"/home/wenhao/Jupyter/wenhao/data/CinC2021/\""
   ]
  },
  {
   "cell_type": "code",
   "execution_count": null,
   "id": "5",
   "metadata": {},
   "outputs": [],
   "source": []
  },
  {
   "cell_type": "code",
   "execution_count": null,
   "id": "6",
   "metadata": {},
   "outputs": [],
   "source": [
    "ds_train = CINC2021(TrainCfg_ns, training=True, lazy=False)\n",
    "ds_val = CINC2021(TrainCfg_ns, training=False, lazy=False)"
   ]
  },
  {
   "cell_type": "code",
   "execution_count": null,
   "id": "7",
   "metadata": {},
   "outputs": [],
   "source": []
  },
  {
   "cell_type": "code",
   "execution_count": null,
   "id": "8",
   "metadata": {},
   "outputs": [],
   "source": []
  },
  {
   "cell_type": "markdown",
   "id": "9",
   "metadata": {},
   "source": [
    "## 12 lead, resnet_nature_comm_bottle_neck_se, 1-linear, AsymmetricLoss, lr=1e-4 to 2e-3, one cycle"
   ]
  },
  {
   "cell_type": "code",
   "execution_count": null,
   "id": "10",
   "metadata": {},
   "outputs": [],
   "source": [
    "train_config = deepcopy(TrainCfg_ns)\n",
    "train_config.cnn_name = \"resnet_nature_comm_bottle_neck_se\"\n",
    "train_config.rnn_name = \"none\"\n",
    "train_config.attn_name = \"none\"\n",
    "\n",
    "device = torch.device(\"cuda\" if torch.cuda.is_available() else \"cpu\")\n",
    "\n",
    "train_config.n_leads = len(train_config.leads)\n",
    "\n",
    "tranches = train_config.tranches_for_training\n",
    "if tranches:\n",
    "    classes = train_config.tranche_classes[tranches]\n",
    "else:\n",
    "    classes = train_config.classes\n",
    "\n",
    "if train_config.n_leads == 12:\n",
    "    model_config = deepcopy(ModelCfg_ns.twelve_leads)\n",
    "elif train_config.n_leads == 6:\n",
    "    model_config = deepcopy(ModelCfg_ns.six_leads)\n",
    "elif train_config.n_leads == 4:\n",
    "    model_config = deepcopy(ModelCfg_ns.four_leads)\n",
    "elif train_config.n_leads == 3:\n",
    "    model_config = deepcopy(ModelCfg_ns.three_leads)\n",
    "elif train_config.n_leads == 2:\n",
    "    model_config = deepcopy(ModelCfg_ns.two_leads)\n",
    "model_config.cnn.name = train_config.cnn_name\n",
    "model_config.rnn.name = train_config.rnn_name\n",
    "model_config.attn.name = train_config.attn_name\n",
    "model_config.clf = ED()\n",
    "model_config.clf.out_channels = [\n",
    "    # not including the last linear layer, whose out channels equals n_classes\n",
    "]\n",
    "model_config.clf.bias = True\n",
    "model_config.clf.dropouts = 0.0\n",
    "model_config.clf.activation = \"mish\"  # for a single layer `SeqLin`, activation is ignored"
   ]
  },
  {
   "cell_type": "code",
   "execution_count": null,
   "id": "11",
   "metadata": {},
   "outputs": [],
   "source": [
    "model = ECG_CRNN_CINC2021(\n",
    "    classes=train_config.classes,\n",
    "    n_leads=train_config.n_leads,\n",
    "    config=model_config,\n",
    ")"
   ]
  },
  {
   "cell_type": "code",
   "execution_count": null,
   "id": "12",
   "metadata": {},
   "outputs": [],
   "source": [
    "model.module_size_"
   ]
  },
  {
   "cell_type": "code",
   "execution_count": null,
   "id": "13",
   "metadata": {},
   "outputs": [],
   "source": [
    "if torch.cuda.device_count() > 1:\n",
    "    model = DP(model)\n",
    "    # model = DDP(model)\n",
    "model.to(device=device)"
   ]
  },
  {
   "cell_type": "code",
   "execution_count": null,
   "id": "14",
   "metadata": {},
   "outputs": [],
   "source": [
    "trainer = CINC2021Trainer(\n",
    "    model=model,\n",
    "    model_config=model_config,\n",
    "    train_config=train_config,\n",
    "    device=device,\n",
    "    lazy=True,\n",
    ")"
   ]
  },
  {
   "cell_type": "code",
   "execution_count": null,
   "id": "15",
   "metadata": {},
   "outputs": [],
   "source": [
    "trainer._setup_dataloaders(ds_train, ds_val)"
   ]
  },
  {
   "cell_type": "code",
   "execution_count": null,
   "id": "16",
   "metadata": {},
   "outputs": [],
   "source": [
    "trainer.train()"
   ]
  },
  {
   "cell_type": "code",
   "execution_count": null,
   "id": "17",
   "metadata": {},
   "outputs": [],
   "source": []
  },
  {
   "cell_type": "code",
   "execution_count": null,
   "id": "18",
   "metadata": {},
   "outputs": [],
   "source": []
  },
  {
   "cell_type": "markdown",
   "id": "19",
   "metadata": {},
   "source": [
    "## collect results"
   ]
  },
  {
   "cell_type": "code",
   "execution_count": null,
   "id": "20",
   "metadata": {},
   "outputs": [],
   "source": [
    "import matplotlib.patches as patches\n",
    "import seaborn as sns\n",
    "from matplotlib.pyplot import cm\n",
    "\n",
    "sns.set()\n",
    "\n",
    "plt.rcParams[\"xtick.labelsize\"] = 28\n",
    "plt.rcParams[\"ytick.labelsize\"] = 28\n",
    "plt.rcParams[\"axes.labelsize\"] = 40\n",
    "plt.rcParams[\"legend.fontsize\"] = 24\n",
    "\n",
    "colors = plt.rcParams[\"axes.prop_cycle\"].by_key()[\"color\"]\n",
    "\n",
    "markers = [\"p\", \"v\", \"s\", \"d\", \"x\", \"*\", \"+\", \"$\\heartsuit$\"]\n",
    "marker_size = 12"
   ]
  },
  {
   "cell_type": "code",
   "execution_count": null,
   "id": "21",
   "metadata": {},
   "outputs": [],
   "source": [
    "from torch_ecg.utils.misc import MovingAverage, list_sum"
   ]
  },
  {
   "cell_type": "code",
   "execution_count": null,
   "id": "22",
   "metadata": {},
   "outputs": [],
   "source": [
    "# ma = MovingAverage()\n",
    "ma_ea = MovingAverage()\n",
    "\n",
    "ma = lambda x: x"
   ]
  },
  {
   "cell_type": "code",
   "execution_count": null,
   "id": "23",
   "metadata": {},
   "outputs": [],
   "source": [
    "df_ms = pd.read_csv(\"./results/TorchECG_11-19_22-31_ECG_CRNN_CINC2021_adamw_amsgrad_LR_0.0001_BS_64_multi_scopic.csv\")\n",
    "df_ms_lw = pd.read_csv(\n",
    "    \"./results/TorchECG_11-24_00-21_ECG_CRNN_CINC2021_adamw_amsgrad_LR_0.0001_BS_64_multi_scopic_leadwise.csv\"\n",
    ")"
   ]
  },
  {
   "cell_type": "code",
   "execution_count": null,
   "id": "24",
   "metadata": {},
   "outputs": [],
   "source": [
    "df_ms_train = df_ms[df_ms.part == \"train\"].dropna(subset=[\"challenge_metric\"])\n",
    "df_ms_lw_train = df_ms_lw[df_ms_lw.part == \"train\"].dropna(subset=[\"challenge_metric\"])\n",
    "df_ms_val = df_ms[df_ms.part == \"val\"]\n",
    "df_ms_lw_val = df_ms_lw[df_ms_lw.part == \"val\"]"
   ]
  },
  {
   "cell_type": "code",
   "execution_count": null,
   "id": "25",
   "metadata": {},
   "outputs": [],
   "source": [
    "df_lr = df_ms[\n",
    "    [\n",
    "        \"epoch\",\n",
    "        \"loss\",\n",
    "        \"lr\",\n",
    "        \"part\",\n",
    "        \"step\",\n",
    "    ]\n",
    "]\n",
    "df_lr.step = (df_lr.step / 20) / 53"
   ]
  },
  {
   "cell_type": "code",
   "execution_count": null,
   "id": "26",
   "metadata": {},
   "outputs": [],
   "source": [
    "fig, ax = plt.subplots(figsize=(20, 12))\n",
    "\n",
    "line_width = 4\n",
    "\n",
    "lines = []\n",
    "\n",
    "spacing = 2\n",
    "loss_spacing = 16\n",
    "\n",
    "lines.append(\n",
    "    ax.plot(\n",
    "        df_ms_train.epoch.values[::spacing],\n",
    "        ma(df_ms_train.challenge_metric.values)[::spacing],\n",
    "        marker=markers[0],\n",
    "        markersize=marker_size,\n",
    "        linewidth=line_width,\n",
    "        color=colors[0],\n",
    "        ls=\"dashed\",\n",
    "        label=\"train\",\n",
    "    )\n",
    ")\n",
    "lines.append(\n",
    "    ax.plot(\n",
    "        df_ms_lw_train.epoch.values[::spacing],\n",
    "        ma(df_ms_lw_train.challenge_metric.values)[::spacing],\n",
    "        marker=markers[1],\n",
    "        markersize=marker_size,\n",
    "        linewidth=line_width,\n",
    "        color=colors[1],\n",
    "        ls=\"dashed\",\n",
    "        label=\"lw-train\",\n",
    "    )\n",
    ")\n",
    "lines.append(\n",
    "    ax.plot(\n",
    "        df_ms_val.epoch.values[::spacing],\n",
    "        ma(df_ms_val.challenge_metric.values)[::spacing],\n",
    "        marker=markers[0],\n",
    "        markersize=marker_size,\n",
    "        linewidth=line_width,\n",
    "        color=colors[0],\n",
    "        ls=(0, (1, 1)),\n",
    "        label=\"val\",\n",
    "    )\n",
    ")\n",
    "lines.append(\n",
    "    ax.plot(\n",
    "        df_ms_lw_val.epoch.values[::spacing],\n",
    "        ma(df_ms_lw_val.challenge_metric.values)[::spacing],\n",
    "        marker=markers[1],\n",
    "        markersize=marker_size,\n",
    "        linewidth=line_width,\n",
    "        color=colors[1],\n",
    "        ls=(0, (1, 1)),\n",
    "        label=\"lw-val\",\n",
    "    )\n",
    ")\n",
    "ax.set_ylim(0.35, 1.05)\n",
    "ax.set_xlabel(\"Epochs (n.u.)\", fontsize=36)\n",
    "ax.set_ylabel(\"Challenge score (n.u.)\", fontsize=36)\n",
    "\n",
    "ax2 = ax.twinx()\n",
    "df_tmp = df_ms[(~df_ms.loss.isna())]\n",
    "df_tmp.step = (df_tmp.step / 20) / 53\n",
    "lines.append(\n",
    "    ax2.plot(\n",
    "        df_tmp.step.values[::loss_spacing],\n",
    "        ma_ea(df_tmp.loss.values)[::loss_spacing],\n",
    "        color=colors[0],\n",
    "        ls=\"-\",\n",
    "        linewidth=line_width,\n",
    "        label=\"train-loss\",\n",
    "    )\n",
    ")\n",
    "df_tmp = df_ms_lw[(~df_ms_lw.loss.isna())]\n",
    "df_tmp.step = (df_tmp.step / 20) / 53\n",
    "lines.append(\n",
    "    ax2.plot(\n",
    "        df_tmp.step.values[::loss_spacing],\n",
    "        ma_ea(df_tmp.loss.values)[::loss_spacing],\n",
    "        color=colors[1],\n",
    "        ls=\"-\",\n",
    "        linewidth=line_width,\n",
    "        label=\"lw-train-loss\",\n",
    "    )\n",
    ")\n",
    "ax2.set_ylabel(r\"Loss (n.u.)\")\n",
    "ax2.set_ylim(-0.03, 0.39)\n",
    "ax2.set_yticks(np.arange(0, 0.42, 0.06).tolist())\n",
    "\n",
    "lns = list_sum(lines)\n",
    "labs = [l.get_label() for l in lns]\n",
    "ax.legend(\n",
    "    lns,\n",
    "    labs,\n",
    "    loc=\"upper center\",\n",
    "    bbox_to_anchor=(0.5, -0.1),\n",
    "    ncol=3,\n",
    "    fancybox=False,\n",
    "    shadow=False,\n",
    "    fontsize=30,\n",
    ")\n",
    "lr_line = ax.plot(\n",
    "    df_lr.step.values[::spacing],\n",
    "    (df_lr.lr.values / df_lr.lr.max() / 1.8 + 0.4)[::spacing],\n",
    "    linestyle=\":\",\n",
    "    linewidth=6,\n",
    "    color=colors[2],\n",
    ")\n",
    "ax.text(13, 0.97, \"max lr = 0.02\", fontsize=30)\n",
    "ax.text(2, 0.41, f\"start lr = {df_lr.lr.values[0]:.5f}\", fontsize=30)\n",
    "ax2.legend(\n",
    "    lr_line,\n",
    "    [\n",
    "        \"learning rate\",\n",
    "    ],\n",
    "    loc=\"upper right\",\n",
    "    fontsize=30,\n",
    "    bbox_to_anchor=(0.95, 1),\n",
    ")\n",
    "\n",
    "plt.savefig(\"./results/cinc2021_nn_compare.svg\", dpi=1200, bbox_inches=\"tight\", transparent=False)\n",
    "plt.savefig(\"./results/cinc2021_nn_compare.pdf\", dpi=1200, bbox_inches=\"tight\", transparent=False);"
   ]
  },
  {
   "cell_type": "code",
   "execution_count": null,
   "id": "27",
   "metadata": {},
   "outputs": [],
   "source": []
  },
  {
   "cell_type": "code",
   "execution_count": null,
   "id": "28",
   "metadata": {},
   "outputs": [],
   "source": []
  },
  {
   "cell_type": "code",
   "execution_count": null,
   "id": "29",
   "metadata": {},
   "outputs": [],
   "source": []
  }
 ],
 "metadata": {
  "kernelspec": {
   "display_name": "Python 3",
   "language": "python",
   "name": "python3"
  },
  "language_info": {
   "codemirror_mode": {
    "name": "ipython",
    "version": 3
   },
   "file_extension": ".py",
   "mimetype": "text/x-python",
   "name": "python",
   "nbconvert_exporter": "python",
   "pygments_lexer": "ipython3",
   "version": "3.6.9"
  }
 },
 "nbformat": 4,
 "nbformat_minor": 5
}
