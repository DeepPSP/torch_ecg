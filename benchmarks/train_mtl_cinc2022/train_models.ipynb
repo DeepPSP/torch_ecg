{
 "cells": [
  {
   "cell_type": "code",
   "execution_count": null,
   "id": "0",
   "metadata": {},
   "outputs": [],
   "source": [
    "import numpy as np\n",
    "import torch\n",
    "\n",
    "# ^^^ pyforest auto-imports - don't write above this line\n",
    "sys.path.insert(0, str(Path(\"../../\").resolve()))\n",
    "\n",
    "%load_ext autoreload\n",
    "%autoreload 2"
   ]
  },
  {
   "cell_type": "code",
   "execution_count": null,
   "id": "1",
   "metadata": {},
   "outputs": [],
   "source": [
    "from copy import deepcopy\n",
    "\n",
    "import torchaudio\n",
    "from cfg import ModelCfg, TrainCfg\n",
    "from data_reader import CINC2016Reader, CINC2022Reader, EPHNOGRAMReader\n",
    "from dataset import CinC2022Dataset\n",
    "from models import (\n",
    "    CRNN_CINC2022,\n",
    "    SEQ_LAB_NET_CINC2022,\n",
    "    UNET_CINC2022,\n",
    "    HFWav2Vec2_CINC2022,\n",
    "    Wav2Vec2_CINC2022,\n",
    ")\n",
    "from torch.nn.parallel import DataParallel as DP\n",
    "from torch.nn.parallel import DistributedDataParallel as DDP\n",
    "from torch.utils.data import DataLoader\n",
    "from tqdm.auto import tqdm\n",
    "from trainer import _MODEL_MAP, CINC2022Trainer, _set_task, collate_fn\n",
    "from utils.plot import plot_spectrogram\n",
    "\n",
    "CRNN_CINC2022.__DEBUG__ = False\n",
    "Wav2Vec2_CINC2022.__DEBUG__ = False\n",
    "HFWav2Vec2_CINC2022.__DEBUG__ = False\n",
    "CinC2022Dataset.__DEBUG__ = False\n",
    "\n",
    "%load_ext autoreload\n",
    "%autoreload 2"
   ]
  },
  {
   "cell_type": "code",
   "execution_count": null,
   "id": "2",
   "metadata": {},
   "outputs": [],
   "source": [
    "db_dir = \"/data1/Jupyter-Data/CinC2022/\"  # replace with the data directory"
   ]
  },
  {
   "cell_type": "code",
   "execution_count": null,
   "id": "3",
   "metadata": {},
   "outputs": [],
   "source": [
    "DEVICE = torch.device(\"cuda\" if torch.cuda.is_available() else \"cpu\")\n",
    "if ModelCfg.torch_dtype == torch.float64:\n",
    "    torch.set_default_tensor_type(torch.DoubleTensor)\n",
    "    DTYPE = np.float64\n",
    "else:\n",
    "    DTYPE = np.float32"
   ]
  },
  {
   "cell_type": "code",
   "execution_count": null,
   "id": "4",
   "metadata": {},
   "outputs": [],
   "source": [
    "# task = \"classification\"\n",
    "task = \"multi_task\"\n",
    "\n",
    "train_config = deepcopy(TrainCfg)\n",
    "# train_config.db_dir = data_folder\n",
    "# train_config.model_dir = model_folder\n",
    "# train_config.final_model_filename = _ModelFilename\n",
    "train_config.debug = True\n",
    "\n",
    "train_config.db_dir = db_dir\n",
    "\n",
    "# train_config.n_epochs = 100\n",
    "# train_config.batch_size = 24  # 16G (Tesla T4)\n",
    "# train_config.log_step = 20\n",
    "# # train_config.max_lr = 1.5e-3\n",
    "# train_config.early_stopping.patience = 20\n",
    "\n",
    "train_config[task].model_name = \"crnn\"  # \"wav2vec2_hf\"\n",
    "\n",
    "train_config[task].cnn_name = \"tresnetF\"  # \"resnet_nature_comm_bottle_neck_se\"\n",
    "# train_config[task].rnn_name = \"none\"  # \"none\", \"lstm\"\n",
    "# train_config[task].attn_name = \"se\"  # \"none\", \"se\", \"gc\", \"nl\"\n",
    "\n",
    "_set_task(task, train_config)\n",
    "\n",
    "model_config = deepcopy(ModelCfg[task])\n",
    "\n",
    "# adjust model choices if needed\n",
    "model_config.model_name = train_config[task].model_name\n",
    "# print(model_name)\n",
    "if \"cnn\" in model_config[model_config.model_name]:\n",
    "    model_config[model_config.model_name].cnn.name = train_config[task].cnn_name\n",
    "if \"rnn\" in model_config[model_config.model_name]:\n",
    "    model_config[model_config.model_name].rnn.name = train_config[task].rnn_name\n",
    "if \"attn\" in model_config[model_config.model_name]:\n",
    "    model_config[model_config.model_name].attn.name = train_config[task].attn_name\n",
    "\n",
    "# model_config.wav2vec2.cnn.name = \"resnet_nature_comm_bottle_neck_se\"\n",
    "# model_config.wav2vec2.encoder.name = \"wav2vec2_nano\""
   ]
  },
  {
   "cell_type": "code",
   "execution_count": null,
   "id": "5",
   "metadata": {},
   "outputs": [],
   "source": []
  },
  {
   "cell_type": "code",
   "execution_count": null,
   "id": "6",
   "metadata": {},
   "outputs": [],
   "source": [
    "model_cls = _MODEL_MAP[model_config.model_name]\n",
    "model_cls.__DEBUG__ = False"
   ]
  },
  {
   "cell_type": "code",
   "execution_count": null,
   "id": "7",
   "metadata": {},
   "outputs": [],
   "source": [
    "model = model_cls(config=model_config)\n",
    "if torch.cuda.device_count() > 1:\n",
    "    model = DP(model)\n",
    "    # model = DDP(model)\n",
    "model.to(device=DEVICE);"
   ]
  },
  {
   "cell_type": "code",
   "execution_count": null,
   "id": "8",
   "metadata": {},
   "outputs": [],
   "source": [
    "model.module.module_size, model.module.module_size_"
   ]
  },
  {
   "cell_type": "code",
   "execution_count": null,
   "id": "9",
   "metadata": {},
   "outputs": [],
   "source": [
    "model"
   ]
  },
  {
   "cell_type": "code",
   "execution_count": null,
   "id": "10",
   "metadata": {},
   "outputs": [],
   "source": []
  },
  {
   "cell_type": "code",
   "execution_count": null,
   "id": "11",
   "metadata": {},
   "outputs": [],
   "source": []
  },
  {
   "cell_type": "code",
   "execution_count": null,
   "id": "12",
   "metadata": {},
   "outputs": [],
   "source": [
    "ds_train = CinC2022Dataset(train_config, task, training=True, lazy=True)\n",
    "ds_test = CinC2022Dataset(train_config, task, training=False, lazy=True)"
   ]
  },
  {
   "cell_type": "code",
   "execution_count": null,
   "id": "13",
   "metadata": {},
   "outputs": [],
   "source": [
    "ds_train._load_all_data()"
   ]
  },
  {
   "cell_type": "code",
   "execution_count": null,
   "id": "14",
   "metadata": {},
   "outputs": [],
   "source": [
    "ds_test._load_all_data()"
   ]
  },
  {
   "cell_type": "code",
   "execution_count": null,
   "id": "15",
   "metadata": {},
   "outputs": [],
   "source": []
  },
  {
   "cell_type": "code",
   "execution_count": null,
   "id": "16",
   "metadata": {},
   "outputs": [],
   "source": []
  },
  {
   "cell_type": "code",
   "execution_count": null,
   "id": "17",
   "metadata": {},
   "outputs": [],
   "source": [
    "trainer = CINC2022Trainer(\n",
    "    model=model,\n",
    "    model_config=model_config,\n",
    "    train_config=train_config,\n",
    "    device=DEVICE,\n",
    "    lazy=True,\n",
    ")"
   ]
  },
  {
   "cell_type": "code",
   "execution_count": null,
   "id": "18",
   "metadata": {},
   "outputs": [],
   "source": [
    "trainer._setup_dataloaders(ds_train, ds_test)"
   ]
  },
  {
   "cell_type": "code",
   "execution_count": null,
   "id": "19",
   "metadata": {},
   "outputs": [],
   "source": [
    "best_state_dict = trainer.train()"
   ]
  },
  {
   "cell_type": "code",
   "execution_count": null,
   "id": "20",
   "metadata": {},
   "outputs": [],
   "source": []
  },
  {
   "cell_type": "code",
   "execution_count": null,
   "id": "21",
   "metadata": {},
   "outputs": [],
   "source": []
  },
  {
   "cell_type": "code",
   "execution_count": null,
   "id": "22",
   "metadata": {},
   "outputs": [],
   "source": []
  },
  {
   "cell_type": "markdown",
   "id": "23",
   "metadata": {},
   "source": [
    "## Inspect trained models"
   ]
  },
  {
   "cell_type": "code",
   "execution_count": null,
   "id": "24",
   "metadata": {},
   "outputs": [],
   "source": [
    "from models import CRNN_CINC2022, Wav2Vec2_CINC2022\n",
    "\n",
    "%load_ext autoreload\n",
    "%autoreload 2"
   ]
  },
  {
   "cell_type": "code",
   "execution_count": null,
   "id": "25",
   "metadata": {},
   "outputs": [],
   "source": [
    "ckpt = CRNN_CINC2022.from_checkpoint(\n",
    "    \"./saved_models/BestModel_task-multi_task_CRNN_CINC2022_epoch41_08-11_02-38_metric_-16272.44.pth.tar\"\n",
    "    # replace with a saved model\n",
    ")"
   ]
  },
  {
   "cell_type": "code",
   "execution_count": null,
   "id": "26",
   "metadata": {},
   "outputs": [],
   "source": [
    "ckpt[0].config"
   ]
  },
  {
   "cell_type": "code",
   "execution_count": null,
   "id": "27",
   "metadata": {},
   "outputs": [],
   "source": [
    "best_model = ckpt[0]"
   ]
  },
  {
   "cell_type": "code",
   "execution_count": null,
   "id": "28",
   "metadata": {},
   "outputs": [],
   "source": [
    "best_model = best_model.to(\"cpu\")"
   ]
  },
  {
   "cell_type": "code",
   "execution_count": null,
   "id": "29",
   "metadata": {},
   "outputs": [],
   "source": [
    "dl = DataLoader(\n",
    "    dataset=ds_train,\n",
    "    batch_size=4,\n",
    "    shuffle=True,\n",
    "    num_workers=4,\n",
    "    pin_memory=True,\n",
    "    drop_last=False,\n",
    "    collate_fn=collate_fn,\n",
    ")"
   ]
  },
  {
   "cell_type": "code",
   "execution_count": null,
   "id": "30",
   "metadata": {},
   "outputs": [],
   "source": [
    "for batch in dl:\n",
    "    labels = batch\n",
    "    waveforms = labels.pop(\"waveforms\")\n",
    "    break"
   ]
  },
  {
   "cell_type": "code",
   "execution_count": null,
   "id": "31",
   "metadata": {},
   "outputs": [],
   "source": [
    "best_model(waveforms, labels)"
   ]
  },
  {
   "cell_type": "code",
   "execution_count": null,
   "id": "32",
   "metadata": {},
   "outputs": [],
   "source": []
  },
  {
   "cell_type": "code",
   "execution_count": null,
   "id": "33",
   "metadata": {},
   "outputs": [],
   "source": []
  },
  {
   "cell_type": "code",
   "execution_count": null,
   "id": "34",
   "metadata": {},
   "outputs": [],
   "source": []
  },
  {
   "cell_type": "code",
   "execution_count": null,
   "id": "35",
   "metadata": {},
   "outputs": [],
   "source": []
  },
  {
   "cell_type": "code",
   "execution_count": null,
   "id": "36",
   "metadata": {},
   "outputs": [],
   "source": []
  }
 ],
 "metadata": {
  "kernelspec": {
   "display_name": "Python 3",
   "language": "python",
   "name": "python3"
  },
  "language_info": {
   "codemirror_mode": {
    "name": "ipython",
    "version": 3
   },
   "file_extension": ".py",
   "mimetype": "text/x-python",
   "name": "python",
   "nbconvert_exporter": "python",
   "pygments_lexer": "ipython3",
   "version": "3.6.9"
  }
 },
 "nbformat": 4,
 "nbformat_minor": 5
}
